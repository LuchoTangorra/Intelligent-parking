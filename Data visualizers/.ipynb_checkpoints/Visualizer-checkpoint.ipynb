{
 "cells": [
  {
   "cell_type": "code",
   "execution_count": 1,
   "metadata": {
    "ExecuteTime": {
     "end_time": "2019-09-29T18:38:52.693662Z",
     "start_time": "2019-09-29T18:38:50.924819Z"
    }
   },
   "outputs": [],
   "source": [
    "import pandas as pd\n",
    "import numpy as np\n",
    "import matplotlib as plt\n",
    "import pandas_profiling"
   ]
  },
  {
   "cell_type": "code",
   "execution_count": 2,
   "metadata": {
    "ExecuteTime": {
     "end_time": "2019-09-29T18:38:52.701604Z",
     "start_time": "2019-09-29T18:38:52.694659Z"
    }
   },
   "outputs": [
    {
     "data": {
      "text/plain": [
       "'from IPython.display import display, HTML\\n\\nCSS = \"\"\"\\n.output {\\n    flex-direction: row;\\n}\\n\"\"\"\\n\\nHTML(\\'<style>{}</style>\\'.format(CSS))'"
      ]
     },
     "execution_count": 2,
     "metadata": {},
     "output_type": "execute_result"
    }
   ],
   "source": [
    "#Just to have each print in the same row\n",
    "'''from IPython.display import display, HTML\n",
    "\n",
    "CSS = \"\"\"\n",
    ".output {\n",
    "    flex-direction: row;\n",
    "}\n",
    "\"\"\"\n",
    "\n",
    "HTML('<style>{}</style>'.format(CSS))'''"
   ]
  },
  {
   "cell_type": "code",
   "execution_count": 3,
   "metadata": {
    "ExecuteTime": {
     "end_time": "2019-09-29T18:38:52.714721Z",
     "start_time": "2019-09-29T18:38:52.704597Z"
    }
   },
   "outputs": [],
   "source": [
    "r'''   \n",
    "trusted_data_w_ocupacion: *trusted_data* with actual ocupacion included.\n",
    "    path: r'C:\\Users\\ing_l\\Tesis grado\\Data\\BD_parking_trusted_data_ocupacion.csv'\n",
    "    \n",
    "data_w_operacion: (DataFrame) data with the corresponding operacion (Entrada/Salida).\n",
    "    path: C:\\Users\\ing_l\\Tesis grado\\Data\\SUMO_data_w_operacion.csv\n",
    "\n",
    "'''\n",
    "\n",
    "trusted_data_path_w_ocupacion = r'C:\\Users\\ing_l\\Tesis grado\\Data\\BD_parking_trusted_data_ocupacion.csv'\n",
    "data_w_operacion_path = r'C:\\Users\\ing_l\\Tesis grado\\Data\\SUMO_data_w_operacion.csv'"
   ]
  },
  {
   "cell_type": "markdown",
   "metadata": {},
   "source": [
    "# TODAVIA TENGO QUE SACAR LOS NaN DE SUMO_data"
   ]
  },
  {
   "cell_type": "code",
   "execution_count": 17,
   "metadata": {
    "ExecuteTime": {
     "end_time": "2019-09-29T18:41:11.231575Z",
     "start_time": "2019-09-29T18:41:10.087630Z"
    }
   },
   "outputs": [],
   "source": [
    "SUMO_data = pd.read_csv(data_w_operacion_path)\n",
    "SUMO_data.rename(columns={'fecha_tiempo': 'fecha_hora'}, inplace=True)\n",
    "BD_parking_data = pd.read_csv(trusted_data_path_w_ocupacion)"
   ]
  },
  {
   "cell_type": "markdown",
   "metadata": {},
   "source": [
    "## Cuadras donde más se estaciona (SUMO)"
   ]
  },
  {
   "cell_type": "code",
   "execution_count": 13,
   "metadata": {
    "ExecuteTime": {
     "end_time": "2019-09-29T18:40:25.509584Z",
     "start_time": "2019-09-29T18:40:25.490600Z"
    }
   },
   "outputs": [],
   "source": [
    "max_ocupacion = SUMO_data.copy()\n",
    "max_ocupacion = max_ocupacion[['id_cuadra','ocupacion_max', 'lugares_cuadra']].groupby(by='id_cuadra').max().reset_index()\n",
    "max_ocupacion = max_ocupacion.sort_values(by='ocupacion_max')\n",
    "max_ocupacion"
   ]
  },
  {
   "cell_type": "markdown",
   "metadata": {},
   "source": [
    "### Para esto todavia faltaria tener mas datos y poder deducir algo del maximo valor posible. Por ahora ningun dato tiene sentido y por la poca cantidad tampoco puedo deducir mucho."
   ]
  },
  {
   "cell_type": "markdown",
   "metadata": {},
   "source": [
    "## Cuadras de mas y menos transito"
   ]
  },
  {
   "cell_type": "code",
   "execution_count": 6,
   "metadata": {
    "ExecuteTime": {
     "end_time": "2019-09-29T18:38:53.880452Z",
     "start_time": "2019-09-29T18:38:53.847540Z"
    }
   },
   "outputs": [
    {
     "data": {
      "text/html": [
       "<div>\n",
       "<style scoped>\n",
       "    .dataframe tbody tr th:only-of-type {\n",
       "        vertical-align: middle;\n",
       "    }\n",
       "\n",
       "    .dataframe tbody tr th {\n",
       "        vertical-align: top;\n",
       "    }\n",
       "\n",
       "    .dataframe thead th {\n",
       "        text-align: right;\n",
       "    }\n",
       "</style>\n",
       "<table border=\"1\" class=\"dataframe\">\n",
       "  <thead>\n",
       "    <tr style=\"text-align: right;\">\n",
       "      <th></th>\n",
       "      <th>id_cuadra</th>\n",
       "      <th>count</th>\n",
       "    </tr>\n",
       "  </thead>\n",
       "  <tbody>\n",
       "    <tr>\n",
       "      <td>0</td>\n",
       "      <td>92</td>\n",
       "      <td>7</td>\n",
       "    </tr>\n",
       "    <tr>\n",
       "      <td>1</td>\n",
       "      <td>93</td>\n",
       "      <td>82</td>\n",
       "    </tr>\n",
       "    <tr>\n",
       "      <td>2</td>\n",
       "      <td>95</td>\n",
       "      <td>118</td>\n",
       "    </tr>\n",
       "    <tr>\n",
       "      <td>3</td>\n",
       "      <td>94</td>\n",
       "      <td>123</td>\n",
       "    </tr>\n",
       "    <tr>\n",
       "      <td>4</td>\n",
       "      <td>50</td>\n",
       "      <td>131</td>\n",
       "    </tr>\n",
       "    <tr>\n",
       "      <td>5</td>\n",
       "      <td>85</td>\n",
       "      <td>143</td>\n",
       "    </tr>\n",
       "    <tr>\n",
       "      <td>6</td>\n",
       "      <td>77</td>\n",
       "      <td>153</td>\n",
       "    </tr>\n",
       "    <tr>\n",
       "      <td>7</td>\n",
       "      <td>71</td>\n",
       "      <td>161</td>\n",
       "    </tr>\n",
       "    <tr>\n",
       "      <td>8</td>\n",
       "      <td>78</td>\n",
       "      <td>181</td>\n",
       "    </tr>\n",
       "    <tr>\n",
       "      <td>9</td>\n",
       "      <td>79</td>\n",
       "      <td>217</td>\n",
       "    </tr>\n",
       "  </tbody>\n",
       "</table>\n",
       "</div>"
      ],
      "text/plain": [
       "   id_cuadra  count\n",
       "0         92      7\n",
       "1         93     82\n",
       "2         95    118\n",
       "3         94    123\n",
       "4         50    131\n",
       "5         85    143\n",
       "6         77    153\n",
       "7         71    161\n",
       "8         78    181\n",
       "9         79    217"
      ]
     },
     "metadata": {},
     "output_type": "display_data"
    },
    {
     "data": {
      "text/html": [
       "<div>\n",
       "<style scoped>\n",
       "    .dataframe tbody tr th:only-of-type {\n",
       "        vertical-align: middle;\n",
       "    }\n",
       "\n",
       "    .dataframe tbody tr th {\n",
       "        vertical-align: top;\n",
       "    }\n",
       "\n",
       "    .dataframe thead th {\n",
       "        text-align: right;\n",
       "    }\n",
       "</style>\n",
       "<table border=\"1\" class=\"dataframe\">\n",
       "  <thead>\n",
       "    <tr style=\"text-align: right;\">\n",
       "      <th></th>\n",
       "      <th>id_cuadra</th>\n",
       "      <th>count</th>\n",
       "    </tr>\n",
       "  </thead>\n",
       "  <tbody>\n",
       "    <tr>\n",
       "      <td>0</td>\n",
       "      <td>10</td>\n",
       "      <td>1031</td>\n",
       "    </tr>\n",
       "    <tr>\n",
       "      <td>1</td>\n",
       "      <td>22</td>\n",
       "      <td>1043</td>\n",
       "    </tr>\n",
       "    <tr>\n",
       "      <td>2</td>\n",
       "      <td>33</td>\n",
       "      <td>1057</td>\n",
       "    </tr>\n",
       "    <tr>\n",
       "      <td>3</td>\n",
       "      <td>5</td>\n",
       "      <td>1079</td>\n",
       "    </tr>\n",
       "    <tr>\n",
       "      <td>4</td>\n",
       "      <td>46</td>\n",
       "      <td>1091</td>\n",
       "    </tr>\n",
       "    <tr>\n",
       "      <td>5</td>\n",
       "      <td>45</td>\n",
       "      <td>1154</td>\n",
       "    </tr>\n",
       "    <tr>\n",
       "      <td>6</td>\n",
       "      <td>4</td>\n",
       "      <td>1173</td>\n",
       "    </tr>\n",
       "    <tr>\n",
       "      <td>7</td>\n",
       "      <td>6</td>\n",
       "      <td>1219</td>\n",
       "    </tr>\n",
       "    <tr>\n",
       "      <td>8</td>\n",
       "      <td>11</td>\n",
       "      <td>1280</td>\n",
       "    </tr>\n",
       "    <tr>\n",
       "      <td>9</td>\n",
       "      <td>59</td>\n",
       "      <td>1331</td>\n",
       "    </tr>\n",
       "  </tbody>\n",
       "</table>\n",
       "</div>"
      ],
      "text/plain": [
       "   id_cuadra  count\n",
       "0         10   1031\n",
       "1         22   1043\n",
       "2         33   1057\n",
       "3          5   1079\n",
       "4         46   1091\n",
       "5         45   1154\n",
       "6          4   1173\n",
       "7          6   1219\n",
       "8         11   1280\n",
       "9         59   1331"
      ]
     },
     "metadata": {},
     "output_type": "display_data"
    }
   ],
   "source": [
    "traffic = SUMO_data.copy()\n",
    "traffic = traffic[['id_cuadra','direccion']].groupby(by='id_cuadra').count().reset_index()\n",
    "traffic = traffic.sort_values(by='direccion')\n",
    "traffic.rename(columns={'direccion': 'count'}, inplace=True)\n",
    "max_traffic = traffic.tail(10).reset_index(drop=True)\n",
    "min_traffic = traffic.head(10).reset_index(drop=True)\n",
    "\n",
    "display(min_traffic)\n",
    "display(max_traffic)"
   ]
  },
  {
   "cell_type": "markdown",
   "metadata": {},
   "source": [
    "## To plot graphs"
   ]
  },
  {
   "cell_type": "code",
   "execution_count": 7,
   "metadata": {
    "ExecuteTime": {
     "end_time": "2019-09-29T18:38:53.892419Z",
     "start_time": "2019-09-29T18:38:53.881449Z"
    }
   },
   "outputs": [],
   "source": [
    "def get_filtered_time(plot_data, k=5):\n",
    "    '''\n",
    "    Obtains a dataframe with fixed dates to plot\n",
    "    \n",
    "    Parameters: \n",
    "        plot_data_date: dataframe containing the fecha_hora values of the plotted data\n",
    "        k: how much dates will appear in the graph\n",
    "        \n",
    "    Returns: a dataframe containing only k dates and empty values\n",
    "    '''\n",
    "    \n",
    "    #Get the timestamp of the fecha_hora column\n",
    "    time = plot_data['fecha_hora'].reset_index(drop=True).apply(lambda x: pd.Timestamp(x)).copy()\n",
    "    \n",
    "    #Obtain the nearest row to 13:00hs\n",
    "    '''same_hour = time.apply(lambda x: x.hour == 13)\n",
    "    same_minutes = time.apply(lambda x: x.minute < 10)\n",
    "    same_time = same_hour * same_minutes\n",
    "    same_time_index = time[same_time].index[0]\n",
    "    '''\n",
    "    #Get the k values to be appended in the out (time var)\n",
    "    size = len(time)\n",
    "    pos = [0]\n",
    "    vals = [str(time[pos[0]].time())]\n",
    "    for i in range(1,k+1):\n",
    "        pos.append(int(size*(i/k)) - 1)\n",
    "        vals.append(str(time[pos[i]].time()))\n",
    "    #pos[int(len(pos)/2)+1] = same_time_index\n",
    "    #vals[int(len(vals)/2)+1] = str(time[pos[int(len(vals)/2)+1]].time())\n",
    "    '''pos = [0, int(size*(1/4)), same_time_index, int(size*(3/4)), int(size-1)]\n",
    "    val1 = str(time[pos[0]].time())\n",
    "    val2 = str(time[pos[1]].time())\n",
    "    val3 = str(time[pos[2]].time())\n",
    "    val4 = str(time[pos[3]].time())\n",
    "    val5 = str(time[pos[4]].time())\n",
    "    '''\n",
    "    #Fill with empty values the time Series\n",
    "    time = pd.Series('', index=time.index)\n",
    "    \n",
    "    #Put all obtained values into time Series\n",
    "    for i in range(k+1):\n",
    "        time.iloc[pos[i]] = vals[i]\n",
    "    '''time.iloc[pos[0]] = val1\n",
    "    time.iloc[pos[1]] = val2\n",
    "    time.iloc[pos[2]] = val3\n",
    "    time.iloc[pos[3]] = val4\n",
    "    time.iloc[pos[4]] = val5\n",
    "    '''\n",
    "    return time"
   ]
  },
  {
   "cell_type": "code",
   "execution_count": 8,
   "metadata": {
    "ExecuteTime": {
     "end_time": "2019-09-29T18:38:53.904388Z",
     "start_time": "2019-09-29T18:38:53.894416Z"
    }
   },
   "outputs": [],
   "source": [
    "def plot_line_graph(plot_data, date, max_ocup=30, name='Original', color='b', k=5):\n",
    "    global street\n",
    "\n",
    "    #Get the values for each date we have\n",
    "    plot_data_date = plot_data.loc[plot_data.fecha == pd.Timestamp(date).date()].copy()\n",
    "\n",
    "    #Obtaining the mean to plot in the title of the graph\n",
    "    mean = plot_data_date['ocupacion'].mean()\n",
    "    #Modify the plot size\n",
    "    plt.rcParams['figure.figsize'] = (12,4)\n",
    "    \n",
    "    #The max value\n",
    "    plt.ylim([0, max_ocup+1])\n",
    "\n",
    "    #Just for the x axis, get the first, medium and last time value\n",
    "    time = get_filtered_time(plot_data_date, k)\n",
    "                \n",
    "    #Set the label titles\n",
    "    plt.xlabel('Time')\n",
    "    plt.ylabel('Parked cars')\n",
    "    plt.title('Parked cars in street nº{} along the day. Mean parked cars: {}'.format(street, mean))\n",
    "    \n",
    "    #Set the plot data for each graph (ax1,ax2,ax3)\n",
    "    plt.plot(plot_data_date['fecha_hora'], plot_data_date['ocupacion'], label='{} date'.format(name), color=color)\n",
    "    \n",
    "    plt.xticks(plot_data_date['fecha_hora'], time)\n",
    "    plt.legend()\n",
    "    plt.show()"
   ]
  },
  {
   "cell_type": "markdown",
   "metadata": {},
   "source": [
    "## BD parking\n"
   ]
  },
  {
   "cell_type": "code",
   "execution_count": 9,
   "metadata": {
    "ExecuteTime": {
     "end_time": "2019-09-29T18:38:53.963230Z",
     "start_time": "2019-09-29T18:38:53.907381Z"
    }
   },
   "outputs": [],
   "source": [
    "to_plot_data = BD_parking_data.copy()\n",
    "\n",
    "street = 2\n",
    "date = '2018-01-02' "
   ]
  },
  {
   "cell_type": "markdown",
   "metadata": {},
   "source": [
    "## SUMO"
   ]
  },
  {
   "cell_type": "code",
   "execution_count": 18,
   "metadata": {
    "ExecuteTime": {
     "end_time": "2019-09-29T18:41:14.046788Z",
     "start_time": "2019-09-29T18:41:14.039781Z"
    }
   },
   "outputs": [],
   "source": [
    "to_plot_data = SUMO_data.copy()\n",
    "\n",
    "street = 2\n",
    "date = '2019-09-13'"
   ]
  },
  {
   "cell_type": "code",
   "execution_count": 19,
   "metadata": {
    "ExecuteTime": {
     "end_time": "2019-09-29T18:41:14.343987Z",
     "start_time": "2019-09-29T18:41:14.324033Z"
    }
   },
   "outputs": [
    {
     "data": {
      "text/html": [
       "<div>\n",
       "<style scoped>\n",
       "    .dataframe tbody tr th:only-of-type {\n",
       "        vertical-align: middle;\n",
       "    }\n",
       "\n",
       "    .dataframe tbody tr th {\n",
       "        vertical-align: top;\n",
       "    }\n",
       "\n",
       "    .dataframe thead th {\n",
       "        text-align: right;\n",
       "    }\n",
       "</style>\n",
       "<table border=\"1\" class=\"dataframe\">\n",
       "  <thead>\n",
       "    <tr style=\"text-align: right;\">\n",
       "      <th></th>\n",
       "      <th>fecha_hora</th>\n",
       "      <th>id_cuadra</th>\n",
       "      <th>direccion</th>\n",
       "      <th>ocupacion</th>\n",
       "      <th>lugares_cuadra</th>\n",
       "      <th>ocupacion_max</th>\n",
       "      <th>dispon_parq</th>\n",
       "      <th>altas_bajas(dia)</th>\n",
       "      <th>operacion</th>\n",
       "    </tr>\n",
       "  </thead>\n",
       "  <tbody>\n",
       "    <tr>\n",
       "      <td>0</td>\n",
       "      <td>2019-09-13 07:48:01</td>\n",
       "      <td>2</td>\n",
       "      <td>General Pinto 545</td>\n",
       "      <td>1</td>\n",
       "      <td>27.0</td>\n",
       "      <td>1</td>\n",
       "      <td>green</td>\n",
       "      <td>1</td>\n",
       "      <td>NaN</td>\n",
       "    </tr>\n",
       "    <tr>\n",
       "      <td>1</td>\n",
       "      <td>2019-09-13 08:48:04</td>\n",
       "      <td>2</td>\n",
       "      <td>General Pinto 545</td>\n",
       "      <td>2</td>\n",
       "      <td>27.0</td>\n",
       "      <td>2</td>\n",
       "      <td>green</td>\n",
       "      <td>4</td>\n",
       "      <td>Entrada</td>\n",
       "    </tr>\n",
       "    <tr>\n",
       "      <td>2</td>\n",
       "      <td>2019-09-13 08:51:43</td>\n",
       "      <td>2</td>\n",
       "      <td>General Pinto 545</td>\n",
       "      <td>1</td>\n",
       "      <td>27.0</td>\n",
       "      <td>2</td>\n",
       "      <td>green</td>\n",
       "      <td>5</td>\n",
       "      <td>Salida</td>\n",
       "    </tr>\n",
       "    <tr>\n",
       "      <td>3</td>\n",
       "      <td>2019-09-13 09:25:06</td>\n",
       "      <td>2</td>\n",
       "      <td>General Pinto 545</td>\n",
       "      <td>2</td>\n",
       "      <td>27.0</td>\n",
       "      <td>2</td>\n",
       "      <td>green</td>\n",
       "      <td>6</td>\n",
       "      <td>Entrada</td>\n",
       "    </tr>\n",
       "    <tr>\n",
       "      <td>4</td>\n",
       "      <td>2019-09-13 09:39:36</td>\n",
       "      <td>2</td>\n",
       "      <td>General Pinto 545</td>\n",
       "      <td>3</td>\n",
       "      <td>27.0</td>\n",
       "      <td>3</td>\n",
       "      <td>green</td>\n",
       "      <td>7</td>\n",
       "      <td>Entrada</td>\n",
       "    </tr>\n",
       "    <tr>\n",
       "      <td>...</td>\n",
       "      <td>...</td>\n",
       "      <td>...</td>\n",
       "      <td>...</td>\n",
       "      <td>...</td>\n",
       "      <td>...</td>\n",
       "      <td>...</td>\n",
       "      <td>...</td>\n",
       "      <td>...</td>\n",
       "      <td>...</td>\n",
       "    </tr>\n",
       "    <tr>\n",
       "      <td>62439</td>\n",
       "      <td>2019-09-24 11:25:17</td>\n",
       "      <td>99</td>\n",
       "      <td>Av. España 970</td>\n",
       "      <td>4</td>\n",
       "      <td>NaN</td>\n",
       "      <td>4</td>\n",
       "      <td>green</td>\n",
       "      <td>23</td>\n",
       "      <td>Entrada</td>\n",
       "    </tr>\n",
       "    <tr>\n",
       "      <td>62440</td>\n",
       "      <td>2019-09-24 11:30:39</td>\n",
       "      <td>99</td>\n",
       "      <td>Av. España 970</td>\n",
       "      <td>3</td>\n",
       "      <td>NaN</td>\n",
       "      <td>4</td>\n",
       "      <td>green</td>\n",
       "      <td>23</td>\n",
       "      <td>Salida</td>\n",
       "    </tr>\n",
       "    <tr>\n",
       "      <td>62441</td>\n",
       "      <td>2019-09-24 11:40:39</td>\n",
       "      <td>99</td>\n",
       "      <td>Av. España 970</td>\n",
       "      <td>2</td>\n",
       "      <td>NaN</td>\n",
       "      <td>4</td>\n",
       "      <td>green</td>\n",
       "      <td>28</td>\n",
       "      <td>Salida</td>\n",
       "    </tr>\n",
       "    <tr>\n",
       "      <td>62442</td>\n",
       "      <td>2019-09-24 11:42:42</td>\n",
       "      <td>99</td>\n",
       "      <td>Av. España 970</td>\n",
       "      <td>3</td>\n",
       "      <td>NaN</td>\n",
       "      <td>4</td>\n",
       "      <td>green</td>\n",
       "      <td>28</td>\n",
       "      <td>Entrada</td>\n",
       "    </tr>\n",
       "    <tr>\n",
       "      <td>62443</td>\n",
       "      <td>2019-09-24 11:44:42</td>\n",
       "      <td>99</td>\n",
       "      <td>Av. España 970</td>\n",
       "      <td>4</td>\n",
       "      <td>NaN</td>\n",
       "      <td>4</td>\n",
       "      <td>green</td>\n",
       "      <td>30</td>\n",
       "      <td>Entrada</td>\n",
       "    </tr>\n",
       "  </tbody>\n",
       "</table>\n",
       "<p>62444 rows × 9 columns</p>\n",
       "</div>"
      ],
      "text/plain": [
       "                fecha_hora  id_cuadra          direccion  ocupacion  \\\n",
       "0      2019-09-13 07:48:01          2  General Pinto 545          1   \n",
       "1      2019-09-13 08:48:04          2  General Pinto 545          2   \n",
       "2      2019-09-13 08:51:43          2  General Pinto 545          1   \n",
       "3      2019-09-13 09:25:06          2  General Pinto 545          2   \n",
       "4      2019-09-13 09:39:36          2  General Pinto 545          3   \n",
       "...                    ...        ...                ...        ...   \n",
       "62439  2019-09-24 11:25:17         99     Av. España 970          4   \n",
       "62440  2019-09-24 11:30:39         99     Av. España 970          3   \n",
       "62441  2019-09-24 11:40:39         99     Av. España 970          2   \n",
       "62442  2019-09-24 11:42:42         99     Av. España 970          3   \n",
       "62443  2019-09-24 11:44:42         99     Av. España 970          4   \n",
       "\n",
       "       lugares_cuadra  ocupacion_max dispon_parq  altas_bajas(dia) operacion  \n",
       "0                27.0              1       green                 1       NaN  \n",
       "1                27.0              2       green                 4   Entrada  \n",
       "2                27.0              2       green                 5    Salida  \n",
       "3                27.0              2       green                 6   Entrada  \n",
       "4                27.0              3       green                 7   Entrada  \n",
       "...               ...            ...         ...               ...       ...  \n",
       "62439             NaN              4       green                23   Entrada  \n",
       "62440             NaN              4       green                23    Salida  \n",
       "62441             NaN              4       green                28    Salida  \n",
       "62442             NaN              4       green                28   Entrada  \n",
       "62443             NaN              4       green                30   Entrada  \n",
       "\n",
       "[62444 rows x 9 columns]"
      ]
     },
     "execution_count": 19,
     "metadata": {},
     "output_type": "execute_result"
    }
   ],
   "source": [
    "to_plot_data"
   ]
  },
  {
   "cell_type": "markdown",
   "metadata": {},
   "source": [
    "### Call only one above and the one below"
   ]
  },
  {
   "cell_type": "code",
   "execution_count": 20,
   "metadata": {
    "ExecuteTime": {
     "end_time": "2019-09-29T18:41:16.536532Z",
     "start_time": "2019-09-29T18:41:16.428809Z"
    },
    "scrolled": false
   },
   "outputs": [
    {
     "name": "stdout",
     "output_type": "stream",
     "text": [
      "General Pinto 545\n"
     ]
    }
   ],
   "source": [
    "from datetime import datetime \n",
    "import matplotlib.pyplot as plt\n",
    "\n",
    "street_name = to_plot_data.loc[to_plot_data.id_cuadra == street, 'direccion'].iloc[0]\n",
    "\n",
    "plot_data = to_plot_data.loc[to_plot_data.id_cuadra == street, ['fecha_hora','ocupacion']].copy()\n",
    "\n",
    "plot_data['fecha'] = plot_data['fecha_hora'].apply(lambda x: pd.Timestamp(x).date())\n",
    "\n",
    "#Date of the max transited day in selected street\n",
    "max_mean = plot_data.groupby(by='fecha').mean().max()[0]\n",
    "date_max_mean = plot_data.groupby(by='fecha').mean().reset_index()\n",
    "date_max_mean = date_max_mean.loc[date_max_mean['ocupacion'] == max_mean, 'fecha'].iloc[0]\n",
    "\n",
    "\n",
    "\n",
    "#############VER SI LA CAGUE O NO\n",
    "def search_date_min_mean(p_d, min_quantity=150):\n",
    "    '''\n",
    "    To search the day with less parked cars, but with at least\n",
    "    min_quantity registers (rows)\n",
    "    '''\n",
    "    plot_data = p_d.copy()\n",
    "    \n",
    "    min_mean = plot_data.groupby(by='fecha').mean()\n",
    "\n",
    "    #If we've already looked at every row and we dont have anyone with more than 150 rows\n",
    "    #we choose the nearest one\n",
    "    if len(min_mean) == 0:\n",
    "        return None\n",
    "    \n",
    "    #Look at the minumun, if it has more rows than the min_quantity return it, else \n",
    "    #continue searching\n",
    "    min_mean = min_mean.min()[0]\n",
    "    date_min_mean = plot_data.groupby(by='fecha').mean().reset_index()\n",
    "    date_min_mean = date_min_mean.loc[date_min_mean['ocupacion'] == min_mean, 'fecha'].iloc[0]\n",
    "    if len(plot_data.loc[plot_data['fecha'] == date_min_mean]) < min_quantity:\n",
    "        plot_data = plot_data.loc[plot_data['fecha'] != date_min_mean]\n",
    "        out = search_date_min_mean(plot_data)\n",
    "        if out is not None:\n",
    "            return out\n",
    "        else:\n",
    "            return date_min_mean\n",
    "    else:\n",
    "        return date_min_mean\n",
    "\n",
    "#Date of the min transited day in selected street\n",
    "date_min_mean = search_date_min_mean(plot_data)\n",
    "\n",
    "print(street_name)\n",
    "\n",
    "#Getting the max ocup to plot all the graphs with the same y-axis values\n",
    "max_ocup1 = plot_data.loc[plot_data['fecha'] == pd.Timestamp(date).date(),'ocupacion'].max()\n",
    "max_ocup2 = plot_data.loc[plot_data['fecha'] == pd.Timestamp(date_max_mean).date(), 'ocupacion'].max()\n",
    "max_ocup3 = plot_data.loc[plot_data['fecha'] == pd.Timestamp(date_min_mean).date(), 'ocupacion'].max()\n",
    "max_ocup = max(max_ocup1, max_ocup2, max_ocup3)"
   ]
  },
  {
   "cell_type": "code",
   "execution_count": 21,
   "metadata": {
    "ExecuteTime": {
     "end_time": "2019-09-29T18:41:25.582505Z",
     "start_time": "2019-09-29T18:41:25.189528Z"
    }
   },
   "outputs": [
    {
     "data": {
      "image/png": "[encoded data removed]",
      "text/plain": [
       "<Figure size 864x288 with 1 Axes>"
      ]
     },
     "metadata": {
      "needs_background": "light"
     },
     "output_type": "display_data"
    }
   ],
   "source": [
    "plot_line_graph(plot_data, date, max_ocup=max_ocup)"
   ]
  },
  {
   "cell_type": "code",
   "execution_count": 22,
   "metadata": {
    "ExecuteTime": {
     "end_time": "2019-09-29T18:41:25.986398Z",
     "start_time": "2019-09-29T18:41:25.584472Z"
    }
   },
   "outputs": [
    {
     "data": {
      "image/png": "[encoded data removed]",
      "text/plain": [
       "<Figure size 864x288 with 1 Axes>"
      ]
     },
     "metadata": {
      "needs_background": "light"
     },
     "output_type": "display_data"
    }
   ],
   "source": [
    "plot_line_graph(plot_data, date_max_mean, max_ocup=max_ocup, name='Max mean', color='r')"
   ]
  },
  {
   "cell_type": "code",
   "execution_count": 23,
   "metadata": {
    "ExecuteTime": {
     "end_time": "2019-09-29T18:41:26.353443Z",
     "start_time": "2019-09-29T18:41:25.988392Z"
    }
   },
   "outputs": [
    {
     "data": {
      "image/png": "[encoded data removed]",
      "text/plain": [
       "<Figure size 864x288 with 1 Axes>"
      ]
     },
     "metadata": {
      "needs_background": "light"
     },
     "output_type": "display_data"
    }
   ],
   "source": [
    "plot_line_graph(plot_data, date_min_mean, max_ocup=max_ocup, name='Min mean', color='g')"
   ]
  },
  {
   "cell_type": "markdown",
   "metadata": {},
   "source": [
    "## En una ventana de tiempo (aprox al mediodia, donde mas se estacionen normalmente) la cantidad de entradas y salidas que se tienen para poder predecir donde se podrian liberar lugares para estacionar mas frecuentemente"
   ]
  },
  {
   "cell_type": "code",
   "execution_count": null,
   "metadata": {
    "ExecuteTime": {
     "end_time": "2019-09-29T18:38:54.068948Z",
     "start_time": "2019-09-29T18:38:50.964Z"
    }
   },
   "outputs": [],
   "source": [
    "in_out_per_hour= SUMO_data.copy()\n",
    "in_out_per_hour = in_out_per_hour[['id_cuadra','fecha_tiempo','operacion']]\n",
    "in_out_per_hour['dia'] = in_out_per_hour['fecha_tiempo'].apply(lambda x: pd.Timestamp(x).date().day)\n",
    "in_out_per_hour['tiempo'] = in_out_per_hour['fecha_tiempo'].apply(lambda x: pd.Timestamp(x).time().hour)\n",
    "\n",
    "in_per_hour = in_out_per_hour.loc[in_out_per_hour['operacion'] == 'Entrada', ['dia','tiempo','id_cuadra', 'operacion']].groupby(by=['id_cuadra', 'dia','tiempo']).count()\n",
    "out_per_hour = in_out_per_hour.loc[in_out_per_hour['operacion'] == 'Salida', ['dia','tiempo','id_cuadra', 'operacion']].groupby(by=['id_cuadra', 'dia','tiempo']).count()\n",
    "in_per_hour.rename(columns={'operacion': 'count'}, inplace=True)\n",
    "out_per_hour.rename(columns={'operacion': 'count'}, inplace=True)\n",
    "display(in_per_hour[0:50])\n",
    "display(out_per_hour[0:50])"
   ]
  },
  {
   "cell_type": "code",
   "execution_count": null,
   "metadata": {},
   "outputs": [],
   "source": []
  }
 ],
 "metadata": {
  "kernelspec": {
   "display_name": "Python 3",
   "language": "python",
   "name": "python3"
  },
  "language_info": {
   "codemirror_mode": {
    "name": "ipython",
    "version": 3
   },
   "file_extension": ".py",
   "mimetype": "text/x-python",
   "name": "python",
   "nbconvert_exporter": "python",
   "pygments_lexer": "ipython3",
   "version": "3.7.3"
  }
 },
 "nbformat": 4,
 "nbformat_minor": 2
}
