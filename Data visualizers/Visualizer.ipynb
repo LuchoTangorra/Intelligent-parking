{
 "cells": [
  {
   "cell_type": "code",
   "execution_count": 1,
   "metadata": {
    "ExecuteTime": {
     "end_time": "2019-10-07T16:43:07.063759Z",
     "start_time": "2019-10-07T16:43:06.054359Z"
    }
   },
   "outputs": [],
   "source": [
    "import pandas as pd\n",
    "import numpy as np\n",
    "import matplotlib.pyplot as plt\n",
    "from datetime import datetime \n",
    "from IPython.display import display, HTML"
   ]
  },
  {
   "cell_type": "code",
   "execution_count": 2,
   "metadata": {
    "ExecuteTime": {
     "end_time": "2019-10-07T16:43:07.076041Z",
     "start_time": "2019-10-07T16:43:07.066090Z"
    }
   },
   "outputs": [
    {
     "data": {
      "text/html": [
       "<style>\n",
       ".output {\n",
       "    flex-direction: row;\n",
       "}\n",
       "</style>"
      ],
      "text/plain": [
       "<IPython.core.display.HTML object>"
      ]
     },
     "execution_count": 2,
     "metadata": {},
     "output_type": "execute_result"
    }
   ],
   "source": [
    "#Just to have each print in the same row\n",
    "CSS = \"\"\"\n",
    ".output {\n",
    "    flex-direction: row;\n",
    "}\n",
    "\"\"\"\n",
    "\n",
    "HTML('<style>{}</style>'.format(CSS))"
   ]
  },
  {
   "cell_type": "code",
   "execution_count": 3,
   "metadata": {
    "ExecuteTime": {
     "end_time": "2019-10-07T16:43:07.087394Z",
     "start_time": "2019-10-07T16:43:07.078625Z"
    }
   },
   "outputs": [],
   "source": [
    "r'''\n",
    "trusted_data_w_ocupacion: *trusted_data* with actual ocupacion included.\n",
    "    path: r'C:\\Users\\ing_l\\Tesis grado\\Data\\BD_parking_trusted_data_ocupacion.csv'\n",
    "    \n",
    "data_w_operacion: (DataFrame) data with the corresponding operacion (Entrada/Salida).\n",
    "    path: C:\\Users\\ing_l\\Tesis grado\\Data\\SUMO_data_w_operacion.csv\n",
    "\n",
    "'''\n",
    "\n",
    "trusted_data_path_w_ocupacion = r'C:\\Users\\ing_l\\Tesis grado\\Data\\BD_parking_trusted_data_ocupacion.csv'\n",
    "data_w_operacion_path = r'C:\\Users\\ing_l\\Tesis grado\\Data\\SUMO_data_w_operacion.csv'"
   ]
  },
  {
   "cell_type": "code",
   "execution_count": 4,
   "metadata": {
    "ExecuteTime": {
     "end_time": "2019-10-07T16:43:07.103649Z",
     "start_time": "2019-10-07T16:43:07.087394Z"
    }
   },
   "outputs": [],
   "source": [
    "def add_ocupacion(d, street, inplace=False):\n",
    "    '''\n",
    "    Includes a new column called ocupacion and adds one to a row\n",
    "        if its an \"Entrada\" and substract one if its \"Salida\".\n",
    "    \n",
    "    Parameters:\n",
    "        d: (DataFrame) dataframe model to include the new column\n",
    "        inplace: (Boolean) if use a reference of d or make a copy instead.\n",
    "        \n",
    "    Return:\n",
    "        out: the d reference or copy that contains the new column ocupacion\n",
    "            with the correct values.\n",
    "    \n",
    "    '''\n",
    "    def sum_ocup(row):\n",
    "        '''\n",
    "        Just for the apply func. If the row value is Entrada we sum 1,\n",
    "        otherwise we subs 1.\n",
    "        On each day we restart the actual_ocup.\n",
    "        '''\n",
    "        nonlocal actual_ocup, last_day\n",
    "\n",
    "        if pd.to_datetime(row['fecha']).day != last_day:\n",
    "            actual_ocup = 0\n",
    "            last_day = pd.to_datetime(row['fecha']).day\n",
    "\n",
    "        if row['operacion'] == 'Entrada':\n",
    "            actual_ocup += 1\n",
    "        else:\n",
    "            if row['operacion'] == 'Salida':\n",
    "                if actual_ocup > 0:\n",
    "                    actual_ocup -= 1\n",
    "        return actual_ocup\n",
    "\n",
    "    #To use a reference or a copy of the input\n",
    "    if inplace:\n",
    "        out = d\n",
    "    else:\n",
    "        out = d.copy()\n",
    "\n",
    "    out['fecha'] = out['fecha_hora'].apply(lambda x: pd.Timestamp(x).date())\n",
    "\n",
    "    actual_ocup = 0\n",
    "    last_day = pd.to_datetime(out['fecha'].min()).day\n",
    "    out.loc[out['id_cuadra'] == street, 'ocupacion'] = out.loc[out['id_cuadra'] == street, ['operacion', 'fecha']].apply(sum_ocup, axis=1)\n",
    "\n",
    "    out.drop('fecha', axis=1, inplace=True)\n",
    "\n",
    "    if not inplace:\n",
    "        return out"
   ]
  },
  {
   "cell_type": "code",
   "execution_count": 5,
   "metadata": {
    "ExecuteTime": {
     "end_time": "2019-10-07T16:43:07.115103Z",
     "start_time": "2019-10-07T16:43:07.105803Z"
    }
   },
   "outputs": [],
   "source": [
    "def reorder_españa(data, inplace=False):\n",
    "    #Keep only one España street.\n",
    "    # ESTO ESTA MAL TENGO QUE SUMAR EL OCUPADO SINO NO SIRVE\n",
    "    if inplace:\n",
    "        out = data\n",
    "    else:\n",
    "        out = data.copy()\n",
    "        \n",
    "    original = 85\n",
    "    to_del = 93\n",
    "    for i in range(91-85+1):\n",
    "        out.loc[out.id_cuadra == to_del+i, 'id_cuadra'] = out.loc[out.id_cuadra == original+i, 'id_cuadra'].iloc[0]\n",
    "        out.loc[out.id_cuadra == to_del+i, 'direccion'] = out.loc[out.id_cuadra == original+i, 'direccion'].iloc[0]\n",
    "\n",
    "    out.sort_values(by=['id_cuadra','fecha_hora'], inplace=True, ascending=True)\n",
    "    \n",
    "    for i in range(91-85+1):\n",
    "        add_ocupacion(out, street=original+i, inplace=True)"
   ]
  },
  {
   "cell_type": "code",
   "execution_count": 6,
   "metadata": {
    "ExecuteTime": {
     "end_time": "2019-10-07T16:43:12.411103Z",
     "start_time": "2019-10-07T16:43:07.117098Z"
    }
   },
   "outputs": [],
   "source": [
    "SUMO_data = pd.read_csv(data_w_operacion_path)\n",
    "SUMO_data.rename(columns={'fecha_tiempo': 'fecha_hora'}, inplace=True)\n",
    "#SUMO_data['fecha_hora'] = SUMO_data['fecha_hora'].apply(lambda x: pd.Timestamp(x))\n",
    "\n",
    "#We dont want the SUMO office to appear in any data, cause there is no place to park\n",
    "SUMO_data = SUMO_data.loc[SUMO_data.id_cuadra != 50]\n",
    "\n",
    "#We only want one españa per street, but we need to correct the ocupacion\n",
    "reorder_españa(SUMO_data, inplace=True)\n",
    "\n",
    "BD_parking_data = pd.read_csv(trusted_data_path_w_ocupacion)"
   ]
  },
  {
   "cell_type": "code",
   "execution_count": 7,
   "metadata": {
    "ExecuteTime": {
     "end_time": "2019-10-07T16:43:12.738583Z",
     "start_time": "2019-10-07T16:43:12.413323Z"
    }
   },
   "outputs": [],
   "source": [
    "#Weekday data FOR SUMO\n",
    "weekday_data = SUMO_data.copy()\n",
    "weekday_data['dia de semana'] = weekday_data['fecha_hora'].apply(lambda x: pd.Timestamp(x).weekday())\n",
    "#0:Monday 1:Tuesday 2:Wednesday 3:Thursday 4:Friday 5:Saturday 6:Sunday\n",
    "weekday = 0\n",
    "weekday_data = weekday_data.loc[weekday_data['dia de semana'] == 0]"
   ]
  },
  {
   "cell_type": "markdown",
   "metadata": {},
   "source": [
    "# Choose the data"
   ]
  },
  {
   "cell_type": "code",
   "execution_count": 8,
   "metadata": {
    "ExecuteTime": {
     "end_time": "2019-10-07T16:43:13.078597Z",
     "start_time": "2019-10-07T16:43:12.741233Z"
    }
   },
   "outputs": [],
   "source": [
    "#DF to process...\n",
    "#You can put on data any filter you want. If you put only monday data all the graphs\n",
    "#below will be for monday values...\n",
    "data = SUMO_data.copy()\n",
    "#data = weekday_data.copy()\n",
    "#data = BD_parking_data.copy()\n",
    "\n",
    "#Street to process...\n",
    "#From 2 to 92 without 50\n",
    "street = 59\n",
    "\n",
    "#Date to process...\n",
    "#Select a number from 0 to data['fecha_hora'] len.\n",
    "date_n = 1\n",
    "\n",
    "def modif_date(data, n):\n",
    "    '''n is the number of the date (e.g. 2 is the second date in the data df)'''\n",
    "    if date_n < len(data):\n",
    "        date = data['fecha_hora'].apply(lambda x: pd.Timestamp(x).date()).drop_duplicates().iloc[date_n]\n",
    "    else:\n",
    "        date = data['fecha_hora'].apply(lambda x: pd.Timestamp(x).date()).drop_duplicates().iloc[len(data)-1]\n",
    "    return pd.Timestamp(date).date()\n",
    "\n",
    "date = modif_date(data, date_n)\n",
    "\n",
    "hour = 10"
   ]
  },
  {
   "cell_type": "markdown",
   "metadata": {},
   "source": [
    "## Cuadras donde más se estaciona (SUMO)"
   ]
  },
  {
   "cell_type": "code",
   "execution_count": 9,
   "metadata": {
    "ExecuteTime": {
     "end_time": "2019-10-07T16:43:13.089927Z",
     "start_time": "2019-10-07T16:43:13.081481Z"
    }
   },
   "outputs": [],
   "source": [
    "def get_max_ocupacion(data):\n",
    "    '''\n",
    "    Obtain the max ocupacion per street.\n",
    "    \n",
    "    Parameters:\n",
    "        data: (DataFrame) a DataFrame containing all the data or only for\n",
    "        one day, e.g. only with the monday data.\n",
    "        \n",
    "    Returns:\n",
    "        max_ocupacion: all max ocupation for all streets\n",
    "        max_max_ocupacion: max_ocupacion.tail(10)\n",
    "        less_max_ocupacion: max_ocupacion.head(10)\n",
    "    '''\n",
    "    \n",
    "    max_ocupacion = data.copy()\n",
    "    max_ocupacion = max_ocupacion[['id_cuadra','ocupacion_max', 'lugares_cuadra']].groupby(by='id_cuadra').max().reset_index()\n",
    "    max_ocupacion = max_ocupacion.sort_values(by='ocupacion_max')\n",
    "\n",
    "    max_ocupacion = max_ocupacion.merge(pd.read_csv(r'C:\\Users\\ing_l\\Tesis grado\\Data\\Extra_data\\idcuadra_to_direccion.csv'))\n",
    "\n",
    "    less_max_ocupacion = max_ocupacion[['id_cuadra','direccion','ocupacion_max','lugares_cuadra']].head(10).reset_index(drop=True)\n",
    "    max_max_ocupacion = max_ocupacion[['id_cuadra','direccion','ocupacion_max','lugares_cuadra']].tail(10).reset_index(drop=True)\n",
    "    \n",
    "    max_max_ocupacion = max_max_ocupacion.sort_values(by='ocupacion_max',ascending=False).reset_index(drop=True)\n",
    "    return max_ocupacion, max_max_ocupacion, less_max_ocupacion"
   ]
  },
  {
   "cell_type": "code",
   "execution_count": 10,
   "metadata": {
    "ExecuteTime": {
     "end_time": "2019-10-07T16:43:13.132009Z",
     "start_time": "2019-10-07T16:43:13.092677Z"
    }
   },
   "outputs": [],
   "source": [
    "max_ocupacion, max_max_ocupacion, less_max_ocupacion = get_max_ocupacion(data)"
   ]
  },
  {
   "cell_type": "code",
   "execution_count": 11,
   "metadata": {
    "ExecuteTime": {
     "end_time": "2019-10-07T16:43:13.152897Z",
     "start_time": "2019-10-07T16:43:13.132009Z"
    }
   },
   "outputs": [
    {
     "data": {
      "text/html": [
       "<div>\n",
       "<style scoped>\n",
       "    .dataframe tbody tr th:only-of-type {\n",
       "        vertical-align: middle;\n",
       "    }\n",
       "\n",
       "    .dataframe tbody tr th {\n",
       "        vertical-align: top;\n",
       "    }\n",
       "\n",
       "    .dataframe thead th {\n",
       "        text-align: right;\n",
       "    }\n",
       "</style>\n",
       "<table border=\"1\" class=\"dataframe\">\n",
       "  <thead>\n",
       "    <tr style=\"text-align: right;\">\n",
       "      <th></th>\n",
       "      <th>id_cuadra</th>\n",
       "      <th>direccion</th>\n",
       "      <th>ocupacion_max</th>\n",
       "      <th>lugares_cuadra</th>\n",
       "    </tr>\n",
       "  </thead>\n",
       "  <tbody>\n",
       "    <tr>\n",
       "      <td>0</td>\n",
       "      <td>59</td>\n",
       "      <td>Yrigoyen 655</td>\n",
       "      <td>32</td>\n",
       "      <td>48.0</td>\n",
       "    </tr>\n",
       "    <tr>\n",
       "      <td>1</td>\n",
       "      <td>32</td>\n",
       "      <td>Sarmiento 453</td>\n",
       "      <td>27</td>\n",
       "      <td>27.0</td>\n",
       "    </tr>\n",
       "    <tr>\n",
       "      <td>2</td>\n",
       "      <td>14</td>\n",
       "      <td>Rodriguez 464</td>\n",
       "      <td>27</td>\n",
       "      <td>30.0</td>\n",
       "    </tr>\n",
       "    <tr>\n",
       "      <td>3</td>\n",
       "      <td>33</td>\n",
       "      <td>Sarmiento 755</td>\n",
       "      <td>23</td>\n",
       "      <td>32.0</td>\n",
       "    </tr>\n",
       "    <tr>\n",
       "      <td>4</td>\n",
       "      <td>75</td>\n",
       "      <td>Maipu 333</td>\n",
       "      <td>23</td>\n",
       "      <td>31.0</td>\n",
       "    </tr>\n",
       "    <tr>\n",
       "      <td>5</td>\n",
       "      <td>13</td>\n",
       "      <td>General Pinto 343</td>\n",
       "      <td>22</td>\n",
       "      <td>27.0</td>\n",
       "    </tr>\n",
       "    <tr>\n",
       "      <td>6</td>\n",
       "      <td>11</td>\n",
       "      <td>San Martín 658</td>\n",
       "      <td>22</td>\n",
       "      <td>30.0</td>\n",
       "    </tr>\n",
       "    <tr>\n",
       "      <td>7</td>\n",
       "      <td>4</td>\n",
       "      <td>Rodriguez 552</td>\n",
       "      <td>22</td>\n",
       "      <td>28.0</td>\n",
       "    </tr>\n",
       "    <tr>\n",
       "      <td>8</td>\n",
       "      <td>21</td>\n",
       "      <td>Belgrano 540</td>\n",
       "      <td>21</td>\n",
       "      <td>29.0</td>\n",
       "    </tr>\n",
       "    <tr>\n",
       "      <td>9</td>\n",
       "      <td>80</td>\n",
       "      <td>General Paz 447</td>\n",
       "      <td>21</td>\n",
       "      <td>36.0</td>\n",
       "    </tr>\n",
       "  </tbody>\n",
       "</table>\n",
       "</div>"
      ],
      "text/plain": [
       "   id_cuadra          direccion  ocupacion_max  lugares_cuadra\n",
       "0         59       Yrigoyen 655             32            48.0\n",
       "1         32      Sarmiento 453             27            27.0\n",
       "2         14      Rodriguez 464             27            30.0\n",
       "3         33      Sarmiento 755             23            32.0\n",
       "4         75          Maipu 333             23            31.0\n",
       "5         13  General Pinto 343             22            27.0\n",
       "6         11     San Martín 658             22            30.0\n",
       "7          4      Rodriguez 552             22            28.0\n",
       "8         21       Belgrano 540             21            29.0\n",
       "9         80    General Paz 447             21            36.0"
      ]
     },
     "metadata": {},
     "output_type": "display_data"
    }
   ],
   "source": [
    "display(max_max_ocupacion)"
   ]
  },
  {
   "cell_type": "code",
   "execution_count": 12,
   "metadata": {
    "ExecuteTime": {
     "end_time": "2019-10-07T16:43:13.172997Z",
     "start_time": "2019-10-07T16:43:13.154891Z"
    }
   },
   "outputs": [
    {
     "data": {
      "text/html": [
       "<div>\n",
       "<style scoped>\n",
       "    .dataframe tbody tr th:only-of-type {\n",
       "        vertical-align: middle;\n",
       "    }\n",
       "\n",
       "    .dataframe tbody tr th {\n",
       "        vertical-align: top;\n",
       "    }\n",
       "\n",
       "    .dataframe thead th {\n",
       "        text-align: right;\n",
       "    }\n",
       "</style>\n",
       "<table border=\"1\" class=\"dataframe\">\n",
       "  <thead>\n",
       "    <tr style=\"text-align: right;\">\n",
       "      <th></th>\n",
       "      <th>id_cuadra</th>\n",
       "      <th>direccion</th>\n",
       "      <th>ocupacion_max</th>\n",
       "      <th>lugares_cuadra</th>\n",
       "    </tr>\n",
       "  </thead>\n",
       "  <tbody>\n",
       "    <tr>\n",
       "      <td>0</td>\n",
       "      <td>92</td>\n",
       "      <td>Tribunal de Faltas</td>\n",
       "      <td>1</td>\n",
       "      <td>NaN</td>\n",
       "    </tr>\n",
       "    <tr>\n",
       "      <td>1</td>\n",
       "      <td>78</td>\n",
       "      <td>Maipu 953</td>\n",
       "      <td>5</td>\n",
       "      <td>14.0</td>\n",
       "    </tr>\n",
       "    <tr>\n",
       "      <td>2</td>\n",
       "      <td>85</td>\n",
       "      <td>Av. España 359</td>\n",
       "      <td>5</td>\n",
       "      <td>7.0</td>\n",
       "    </tr>\n",
       "    <tr>\n",
       "      <td>3</td>\n",
       "      <td>25</td>\n",
       "      <td>Belgrano 958</td>\n",
       "      <td>6</td>\n",
       "      <td>13.0</td>\n",
       "    </tr>\n",
       "    <tr>\n",
       "      <td>4</td>\n",
       "      <td>77</td>\n",
       "      <td>Maipu 857</td>\n",
       "      <td>6</td>\n",
       "      <td>15.0</td>\n",
       "    </tr>\n",
       "    <tr>\n",
       "      <td>5</td>\n",
       "      <td>55</td>\n",
       "      <td>14 de Julio 467</td>\n",
       "      <td>7</td>\n",
       "      <td>13.0</td>\n",
       "    </tr>\n",
       "    <tr>\n",
       "      <td>6</td>\n",
       "      <td>69</td>\n",
       "      <td>14 de Julio 657</td>\n",
       "      <td>7</td>\n",
       "      <td>10.0</td>\n",
       "    </tr>\n",
       "    <tr>\n",
       "      <td>7</td>\n",
       "      <td>88</td>\n",
       "      <td>Av. España 647</td>\n",
       "      <td>7</td>\n",
       "      <td>11.0</td>\n",
       "    </tr>\n",
       "    <tr>\n",
       "      <td>8</td>\n",
       "      <td>87</td>\n",
       "      <td>Av. España 545</td>\n",
       "      <td>8</td>\n",
       "      <td>10.0</td>\n",
       "    </tr>\n",
       "    <tr>\n",
       "      <td>9</td>\n",
       "      <td>41</td>\n",
       "      <td>Mitre 446</td>\n",
       "      <td>8</td>\n",
       "      <td>16.0</td>\n",
       "    </tr>\n",
       "  </tbody>\n",
       "</table>\n",
       "</div>"
      ],
      "text/plain": [
       "   id_cuadra           direccion  ocupacion_max  lugares_cuadra\n",
       "0         92  Tribunal de Faltas              1             NaN\n",
       "1         78           Maipu 953              5            14.0\n",
       "2         85      Av. España 359              5             7.0\n",
       "3         25        Belgrano 958              6            13.0\n",
       "4         77           Maipu 857              6            15.0\n",
       "5         55     14 de Julio 467              7            13.0\n",
       "6         69     14 de Julio 657              7            10.0\n",
       "7         88      Av. España 647              7            11.0\n",
       "8         87      Av. España 545              8            10.0\n",
       "9         41           Mitre 446              8            16.0"
      ]
     },
     "metadata": {},
     "output_type": "display_data"
    }
   ],
   "source": [
    "display(less_max_ocupacion)"
   ]
  },
  {
   "cell_type": "markdown",
   "metadata": {},
   "source": [
    "### Para esto todavia faltaria tener mas datos y poder deducir algo del maximo valor posible. Por ahora ningun dato tiene sentido y por la poca cantidad tampoco puedo deducir mucho."
   ]
  },
  {
   "cell_type": "markdown",
   "metadata": {},
   "source": [
    "## Cuadras de mas y menos transito (input-ouputs) (SUMO)"
   ]
  },
  {
   "cell_type": "code",
   "execution_count": 13,
   "metadata": {
    "ExecuteTime": {
     "end_time": "2019-10-07T16:43:13.184417Z",
     "start_time": "2019-10-07T16:43:13.174580Z"
    }
   },
   "outputs": [],
   "source": [
    "def traffic_density(data):\n",
    "    '''\n",
    "    Obtain the traffic density (how much in-outs) per street.\n",
    "    \n",
    "    Parameters:\n",
    "        SUMO_data: (DataFrame) a DataFrame containing all the data or only for\n",
    "        one day, e.g. only with the monday data.\n",
    "        \n",
    "    Returns:\n",
    "        traffic: all traffic density for all streets\n",
    "        max_traffic: traffic.tail(10)\n",
    "        min_traffic: traffic.head(10)\n",
    "    '''\n",
    "    traffic = data.copy()\n",
    "    traffic = traffic[['id_cuadra','direccion']].groupby(by='id_cuadra').count().reset_index()\n",
    "    traffic.rename(columns={'direccion': 'in-outs'}, inplace=True)\n",
    "    traffic = traffic.sort_values(by='in-outs')\n",
    "    traffic = traffic.merge(pd.read_csv(r'C:\\Users\\ing_l\\Tesis grado\\Data\\Extra_data\\idcuadra_to_direccion.csv'))\n",
    "    max_traffic = traffic[['id_cuadra','direccion','in-outs']].tail(10).sort_values(by='in-outs', ascending=False).reset_index(drop=True)\n",
    "    min_traffic = traffic[['id_cuadra','direccion','in-outs']].head(10).reset_index(drop=True)\n",
    "    return traffic, max_traffic, min_traffic"
   ]
  },
  {
   "cell_type": "code",
   "execution_count": 14,
   "metadata": {
    "ExecuteTime": {
     "end_time": "2019-10-07T16:43:13.218006Z",
     "start_time": "2019-10-07T16:43:13.186523Z"
    }
   },
   "outputs": [],
   "source": [
    "_, max_traffic, min_traffic = traffic_density(data)"
   ]
  },
  {
   "cell_type": "code",
   "execution_count": 15,
   "metadata": {
    "ExecuteTime": {
     "end_time": "2019-10-07T16:43:13.235789Z",
     "start_time": "2019-10-07T16:43:13.220754Z"
    }
   },
   "outputs": [
    {
     "data": {
      "text/html": [
       "<div>\n",
       "<style scoped>\n",
       "    .dataframe tbody tr th:only-of-type {\n",
       "        vertical-align: middle;\n",
       "    }\n",
       "\n",
       "    .dataframe tbody tr th {\n",
       "        vertical-align: top;\n",
       "    }\n",
       "\n",
       "    .dataframe thead th {\n",
       "        text-align: right;\n",
       "    }\n",
       "</style>\n",
       "<table border=\"1\" class=\"dataframe\">\n",
       "  <thead>\n",
       "    <tr style=\"text-align: right;\">\n",
       "      <th></th>\n",
       "      <th>id_cuadra</th>\n",
       "      <th>direccion</th>\n",
       "      <th>in-outs</th>\n",
       "    </tr>\n",
       "  </thead>\n",
       "  <tbody>\n",
       "    <tr>\n",
       "      <td>0</td>\n",
       "      <td>92</td>\n",
       "      <td>Tribunal de Faltas</td>\n",
       "      <td>7</td>\n",
       "    </tr>\n",
       "    <tr>\n",
       "      <td>1</td>\n",
       "      <td>77</td>\n",
       "      <td>Maipu 857</td>\n",
       "      <td>153</td>\n",
       "    </tr>\n",
       "    <tr>\n",
       "      <td>2</td>\n",
       "      <td>71</td>\n",
       "      <td>14 de Julio 847</td>\n",
       "      <td>161</td>\n",
       "    </tr>\n",
       "    <tr>\n",
       "      <td>3</td>\n",
       "      <td>78</td>\n",
       "      <td>Maipu 953</td>\n",
       "      <td>181</td>\n",
       "    </tr>\n",
       "    <tr>\n",
       "      <td>4</td>\n",
       "      <td>79</td>\n",
       "      <td>General Paz 347</td>\n",
       "      <td>217</td>\n",
       "    </tr>\n",
       "    <tr>\n",
       "      <td>5</td>\n",
       "      <td>24</td>\n",
       "      <td>Belgrano 868</td>\n",
       "      <td>218</td>\n",
       "    </tr>\n",
       "    <tr>\n",
       "      <td>6</td>\n",
       "      <td>70</td>\n",
       "      <td>14 de Julio 767</td>\n",
       "      <td>219</td>\n",
       "    </tr>\n",
       "    <tr>\n",
       "      <td>7</td>\n",
       "      <td>85</td>\n",
       "      <td>Av. España 359</td>\n",
       "      <td>225</td>\n",
       "    </tr>\n",
       "    <tr>\n",
       "      <td>8</td>\n",
       "      <td>25</td>\n",
       "      <td>Belgrano 958</td>\n",
       "      <td>243</td>\n",
       "    </tr>\n",
       "    <tr>\n",
       "      <td>9</td>\n",
       "      <td>40</td>\n",
       "      <td>Mitre 348</td>\n",
       "      <td>286</td>\n",
       "    </tr>\n",
       "  </tbody>\n",
       "</table>\n",
       "</div>"
      ],
      "text/plain": [
       "   id_cuadra           direccion  in-outs\n",
       "0         92  Tribunal de Faltas        7\n",
       "1         77           Maipu 857      153\n",
       "2         71     14 de Julio 847      161\n",
       "3         78           Maipu 953      181\n",
       "4         79     General Paz 347      217\n",
       "5         24        Belgrano 868      218\n",
       "6         70     14 de Julio 767      219\n",
       "7         85      Av. España 359      225\n",
       "8         25        Belgrano 958      243\n",
       "9         40           Mitre 348      286"
      ]
     },
     "metadata": {},
     "output_type": "display_data"
    },
    {
     "data": {
      "text/html": [
       "<div>\n",
       "<style scoped>\n",
       "    .dataframe tbody tr th:only-of-type {\n",
       "        vertical-align: middle;\n",
       "    }\n",
       "\n",
       "    .dataframe tbody tr th {\n",
       "        vertical-align: top;\n",
       "    }\n",
       "\n",
       "    .dataframe thead th {\n",
       "        text-align: right;\n",
       "    }\n",
       "</style>\n",
       "<table border=\"1\" class=\"dataframe\">\n",
       "  <thead>\n",
       "    <tr style=\"text-align: right;\">\n",
       "      <th></th>\n",
       "      <th>id_cuadra</th>\n",
       "      <th>direccion</th>\n",
       "      <th>in-outs</th>\n",
       "    </tr>\n",
       "  </thead>\n",
       "  <tbody>\n",
       "    <tr>\n",
       "      <td>0</td>\n",
       "      <td>59</td>\n",
       "      <td>Yrigoyen 655</td>\n",
       "      <td>1331</td>\n",
       "    </tr>\n",
       "    <tr>\n",
       "      <td>1</td>\n",
       "      <td>11</td>\n",
       "      <td>San Martín 658</td>\n",
       "      <td>1280</td>\n",
       "    </tr>\n",
       "    <tr>\n",
       "      <td>2</td>\n",
       "      <td>6</td>\n",
       "      <td>General Pinto 759</td>\n",
       "      <td>1219</td>\n",
       "    </tr>\n",
       "    <tr>\n",
       "      <td>3</td>\n",
       "      <td>4</td>\n",
       "      <td>Rodriguez 552</td>\n",
       "      <td>1173</td>\n",
       "    </tr>\n",
       "    <tr>\n",
       "      <td>4</td>\n",
       "      <td>45</td>\n",
       "      <td>Alem 480</td>\n",
       "      <td>1154</td>\n",
       "    </tr>\n",
       "    <tr>\n",
       "      <td>5</td>\n",
       "      <td>89</td>\n",
       "      <td>Av. España 737</td>\n",
       "      <td>1144</td>\n",
       "    </tr>\n",
       "    <tr>\n",
       "      <td>6</td>\n",
       "      <td>46</td>\n",
       "      <td>Alem 556</td>\n",
       "      <td>1091</td>\n",
       "    </tr>\n",
       "    <tr>\n",
       "      <td>7</td>\n",
       "      <td>5</td>\n",
       "      <td>9 de Julio 441</td>\n",
       "      <td>1079</td>\n",
       "    </tr>\n",
       "    <tr>\n",
       "      <td>8</td>\n",
       "      <td>33</td>\n",
       "      <td>Sarmiento 755</td>\n",
       "      <td>1057</td>\n",
       "    </tr>\n",
       "    <tr>\n",
       "      <td>9</td>\n",
       "      <td>22</td>\n",
       "      <td>Belgrano 768</td>\n",
       "      <td>1043</td>\n",
       "    </tr>\n",
       "  </tbody>\n",
       "</table>\n",
       "</div>"
      ],
      "text/plain": [
       "   id_cuadra          direccion  in-outs\n",
       "0         59       Yrigoyen 655     1331\n",
       "1         11     San Martín 658     1280\n",
       "2          6  General Pinto 759     1219\n",
       "3          4      Rodriguez 552     1173\n",
       "4         45           Alem 480     1154\n",
       "5         89     Av. España 737     1144\n",
       "6         46           Alem 556     1091\n",
       "7          5     9 de Julio 441     1079\n",
       "8         33      Sarmiento 755     1057\n",
       "9         22       Belgrano 768     1043"
      ]
     },
     "metadata": {},
     "output_type": "display_data"
    }
   ],
   "source": [
    "display(min_traffic)\n",
    "display(max_traffic)"
   ]
  },
  {
   "cell_type": "markdown",
   "metadata": {},
   "source": [
    "## To plot day activity graphs"
   ]
  },
  {
   "cell_type": "code",
   "execution_count": 16,
   "metadata": {
    "ExecuteTime": {
     "end_time": "2019-10-07T16:43:13.248456Z",
     "start_time": "2019-10-07T16:43:13.237256Z"
    }
   },
   "outputs": [],
   "source": [
    "def get_filtered_time(plot_data, k=5):\n",
    "    '''\n",
    "    Obtains a dataframe with fixed dates to plot\n",
    "    \n",
    "    Parameters: \n",
    "        plot_data_date: dataframe containing the fecha_hora values of the plotted data\n",
    "        k: how much dates will appear in the graph\n",
    "        \n",
    "    Returns: a dataframe containing only k dates and empty values\n",
    "    '''\n",
    "    \n",
    "    #Get the timestamp of the fecha_hora column\n",
    "    time = plot_data['fecha_hora'].reset_index(drop=True).apply(lambda x: pd.Timestamp(x)).copy()\n",
    "    \n",
    "    #Obtain the nearest row to 13:00hs\n",
    "    '''same_hour = time.apply(lambda x: x.hour == 13)\n",
    "    same_minutes = time.apply(lambda x: x.minute < 10)\n",
    "    same_time = same_hour * same_minutes\n",
    "    same_time_index = time[same_time].index[0]\n",
    "    '''\n",
    "    #Get the k values to be appended in the out (time var)\n",
    "    size = len(time)\n",
    "    pos = [0]\n",
    "    vals = [str(time[pos[0]].time())]\n",
    "    for i in range(1,k+1):\n",
    "        pos.append(int(size*(i/k)) - 1)\n",
    "        vals.append(str(time[pos[i]].time()))\n",
    "    #pos[int(len(pos)/2)+1] = same_time_index\n",
    "    #vals[int(len(vals)/2)+1] = str(time[pos[int(len(vals)/2)+1]].time())\n",
    "    '''pos = [0, int(size*(1/4)), same_time_index, int(size*(3/4)), int(size-1)]\n",
    "    val1 = str(time[pos[0]].time())\n",
    "    val2 = str(time[pos[1]].time())\n",
    "    val3 = str(time[pos[2]].time())\n",
    "    val4 = str(time[pos[3]].time())\n",
    "    val5 = str(time[pos[4]].time())\n",
    "    '''\n",
    "    #Fill with empty values the time Series\n",
    "    time = pd.Series('', index=time.index)\n",
    "    \n",
    "    #Put all obtained values into time Series\n",
    "    for i in range(k+1):\n",
    "        time.iloc[pos[i]] = vals[i]\n",
    "    '''time.iloc[pos[0]] = val1\n",
    "    time.iloc[pos[1]] = val2\n",
    "    time.iloc[pos[2]] = val3\n",
    "    time.iloc[pos[3]] = val4\n",
    "    time.iloc[pos[4]] = val5\n",
    "    '''\n",
    "    return time"
   ]
  },
  {
   "cell_type": "code",
   "execution_count": 17,
   "metadata": {
    "ExecuteTime": {
     "end_time": "2019-10-07T16:43:13.259868Z",
     "start_time": "2019-10-07T16:43:13.250020Z"
    }
   },
   "outputs": [],
   "source": [
    "def plot_line_graph(plot_data, date, street, max_ocup=30, name='Original', color='b', k=5):\n",
    "\n",
    "    #Get the values for each date we have\n",
    "    plot_data_date = plot_data.loc[plot_data.fecha == pd.Timestamp(date).date()].copy()\n",
    "\n",
    "    #Obtaining the mean to plot in the title of the graph\n",
    "    mean = plot_data_date['ocupacion'].mean()\n",
    "    #Modify the plot size\n",
    "    plt.rcParams['figure.figsize'] = (12,4)\n",
    "    \n",
    "    #The max value\n",
    "    plt.ylim([0, max_ocup+1])\n",
    "\n",
    "    #Just for the x axis, get the first, medium and last time value\n",
    "    if k > len(plot_data_date):\n",
    "        time = get_filtered_time(plot_data_date, len(plot_data_date))\n",
    "    else:\n",
    "        time = get_filtered_time(plot_data_date, k)\n",
    "                \n",
    "    #Set the label titles\n",
    "    plt.xlabel('Time')\n",
    "    plt.ylabel('Parked cars')\n",
    "    plt.title('Parked cars in street nº{} along the day ({}). Mean parked cars: {}. Sample of {} parked cars'.format(street, date, mean, len(plot_data_date)))\n",
    "    \n",
    "    #Set the plot data for each graph (ax1,ax2,ax3)\n",
    "    plt.plot(plot_data_date['fecha_hora'], plot_data_date['ocupacion'], label='{} date'.format(name), color=color)\n",
    "    \n",
    "    plt.xticks(plot_data_date['fecha_hora'], time)\n",
    "    plt.legend()\n",
    "    plt.show()"
   ]
  },
  {
   "cell_type": "code",
   "execution_count": 18,
   "metadata": {
    "ExecuteTime": {
     "end_time": "2019-10-07T16:43:13.283204Z",
     "start_time": "2019-10-07T16:43:13.262048Z"
    },
    "scrolled": false
   },
   "outputs": [],
   "source": [
    "def get_max_min_mean_dates(to_plot_data, street, date):\n",
    "    street_name = to_plot_data.loc[to_plot_data.id_cuadra == street, 'direccion'].iloc[0]\n",
    "\n",
    "    plot_data = to_plot_data.loc[to_plot_data.id_cuadra == street, ['fecha_hora','ocupacion']].copy()\n",
    "\n",
    "    plot_data['fecha'] = plot_data['fecha_hora'].apply(lambda x: pd.Timestamp(x).date())\n",
    "\n",
    "    '''max_mean = plot_data.groupby(by='fecha').mean().max()[0]\n",
    "    date_max_mean = plot_data.groupby(by='fecha').mean().reset_index()\n",
    "    date_max_mean = date_max_mean.loc[date_max_mean['ocupacion'] == max_mean, 'fecha'].iloc[0]\n",
    "    '''\n",
    "    def search_date_of_mean(p_d, what, min_quantity=150):\n",
    "        '''\n",
    "        To search the day with *what* parked cars, but with at least\n",
    "        min_quantity registers (rows)\n",
    "        '''\n",
    "        plot_data = p_d.copy()\n",
    "        full_mean = plot_data.groupby(by='fecha').mean().reset_index()\n",
    "\n",
    "        if what=='max':\n",
    "            mean = full_mean['ocupacion'].max()\n",
    "        elif what=='min':\n",
    "            mean = full_mean['ocupacion'].min()\n",
    "\n",
    "        date_of_mean = full_mean.loc[full_mean['ocupacion'] == mean, 'fecha'].iloc[0]\n",
    "        \n",
    "        #If the date min mean have values from 9hs to 20hs or more we want it, else no...\n",
    "        plot_data_of_date = plot_data.loc[plot_data['fecha'] == date_of_mean, 'fecha_hora'].reset_index(drop=True)\n",
    "        \n",
    "        if (pd.Timestamp(plot_data_of_date.iloc[0]).time().hour < 9) and (pd.Timestamp(plot_data_of_date.iloc[len(plot_data_of_date)-1]).time().hour > 19):\n",
    "            if min_quantity == 0:\n",
    "                return date_of_mean\n",
    "            elif len(plot_data_of_date) > min_quantity:\n",
    "                return date_of_mean\n",
    "            else:\n",
    "                return search_date_of_mean(plot_data.loc[plot_data['fecha'] != date_of_mean], what, min_quantity)\n",
    "        else:\n",
    "            return search_date_of_mean(plot_data.loc[plot_data['fecha'] != date_of_mean], what, min_quantity)\n",
    "\n",
    "    #Date when there was the max mean parked cars in select street\n",
    "    date_max_mean = search_date_of_mean(plot_data, what='max', min_quantity=0)\n",
    "    \n",
    "    #Date when there was the min mean parked cars in select street\n",
    "    date_min_mean = search_date_of_mean(plot_data, what='min', min_quantity=0)\n",
    "\n",
    "    print(street_name)\n",
    "\n",
    "    #Getting the max ocup to plot all the graphs with the same y-axis values\n",
    "    max_ocup1 = plot_data.loc[plot_data['fecha'] == pd.Timestamp(date).date(),'ocupacion'].max()\n",
    "    max_ocup2 = plot_data.loc[plot_data['fecha'] == pd.Timestamp(date_max_mean).date(), 'ocupacion'].max()\n",
    "    max_ocup3 = plot_data.loc[plot_data['fecha'] == pd.Timestamp(date_min_mean).date(), 'ocupacion'].max()\n",
    "\n",
    "    max_ocup = max(max_ocup1, max_ocup2, max_ocup3)\n",
    "    \n",
    "    return plot_data, date_max_mean, date_min_mean, max_ocup "
   ]
  },
  {
   "cell_type": "code",
   "execution_count": 19,
   "metadata": {
    "ExecuteTime": {
     "end_time": "2019-10-07T16:43:13.324894Z",
     "start_time": "2019-10-07T16:43:13.285152Z"
    }
   },
   "outputs": [
    {
     "name": "stdout",
     "output_type": "stream",
     "text": [
      "Yrigoyen 655\n"
     ]
    }
   ],
   "source": [
    "plot_data, date_max_mean, date_min_mean, max_ocup = get_max_min_mean_dates(data, street, date)"
   ]
  },
  {
   "cell_type": "code",
   "execution_count": 20,
   "metadata": {
    "ExecuteTime": {
     "end_time": "2019-10-07T16:43:13.806945Z",
     "start_time": "2019-10-07T16:43:13.328426Z"
    }
   },
   "outputs": [
    {
     "data": {
      "image/png": "[encoded data removed]",
      "text/plain": [
       "<Figure size 864x288 with 1 Axes>"
      ]
     },
     "metadata": {
      "needs_background": "light"
     },
     "output_type": "display_data"
    }
   ],
   "source": [
    "plot_line_graph(plot_data, date, street=street, max_ocup=max_ocup)"
   ]
  },
  {
   "cell_type": "code",
   "execution_count": 21,
   "metadata": {
    "ExecuteTime": {
     "end_time": "2019-10-07T16:43:14.615963Z",
     "start_time": "2019-10-07T16:43:13.807942Z"
    }
   },
   "outputs": [
    {
     "data": {
      "image/png": "[encoded data removed]",
      "text/plain": [
       "<Figure size 864x288 with 1 Axes>"
      ]
     },
     "metadata": {
      "needs_background": "light"
     },
     "output_type": "display_data"
    }
   ],
   "source": [
    "plot_line_graph(plot_data, date_max_mean, street=street, max_ocup=max_ocup, name='Max mean', color='r')"
   ]
  },
  {
   "cell_type": "code",
   "execution_count": 22,
   "metadata": {
    "ExecuteTime": {
     "end_time": "2019-10-07T16:43:15.062367Z",
     "start_time": "2019-10-07T16:43:14.617200Z"
    }
   },
   "outputs": [
    {
     "data": {
      "image/png": "[encoded data removed]",
      "text/plain": [
       "<Figure size 864x288 with 1 Axes>"
      ]
     },
     "metadata": {
      "needs_background": "light"
     },
     "output_type": "display_data"
    }
   ],
   "source": [
    "plot_line_graph(plot_data, date_min_mean, street=street, max_ocup=max_ocup, name='Min mean', color='g')"
   ]
  },
  {
   "cell_type": "markdown",
   "metadata": {},
   "source": [
    "## En una ventana de tiempo la cantidad de entradas y salidas que se tienen para poder predecir donde se podrian liberar lugares para estacionar mas frecuentemente"
   ]
  },
  {
   "cell_type": "code",
   "execution_count": 23,
   "metadata": {
    "ExecuteTime": {
     "end_time": "2019-10-07T16:43:15.079887Z",
     "start_time": "2019-10-07T16:43:15.066916Z"
    }
   },
   "outputs": [],
   "source": [
    "def inputs_outputs_per_hour(data):\n",
    "    '''\n",
    "    Obtain the inputs and outputs (and the sub of both) per street.\n",
    "    \n",
    "    Parameters:\n",
    "        SUMO_data: (DataFrame) a DataFrame containing all the data or only for\n",
    "        one day, e.g. only with the monday data.\n",
    "        \n",
    "    Returns:\n",
    "        in_out_per_hour: (DataFrame) df that contains the inputs, the outputs \n",
    "        and the sub: entradas-salidas.\n",
    "    '''\n",
    "    \n",
    "    #Create column dia and tiempo just to obtain the inputs and outputs in an easy way\n",
    "    in_out_per_hour= data.copy()\n",
    "    in_out_per_hour = in_out_per_hour[['id_cuadra','fecha_hora','operacion']]\n",
    "    in_out_per_hour['dia'] = in_out_per_hour['fecha_hora'].apply(lambda x: pd.Timestamp(x).date().day)\n",
    "    in_out_per_hour['tiempo'] = in_out_per_hour['fecha_hora'].apply(lambda x: pd.Timestamp(x).time().hour)\n",
    "\n",
    "    #Obtain 2 df, one with the count of the inputs and the other with the count of the outputs\n",
    "    in_per_hour = in_out_per_hour.loc[in_out_per_hour['operacion'] == 'Entrada', ['dia','tiempo','id_cuadra', 'operacion']].groupby(by=['id_cuadra', 'dia','tiempo']).count()\n",
    "    out_per_hour = in_out_per_hour.loc[in_out_per_hour['operacion'] == 'Salida', ['dia','tiempo','id_cuadra', 'operacion']].groupby(by=['id_cuadra', 'dia','tiempo']).count()\n",
    "    in_per_hour.rename(columns={'operacion': 'entradas'}, inplace=True)\n",
    "    out_per_hour.rename(columns={'operacion': 'salidas'}, inplace=True)\n",
    "\n",
    "    #Obtain the mean of the inputs and outputs\n",
    "    in_per_hour = in_per_hour.groupby(by=['id_cuadra','tiempo']).mean().reset_index()\n",
    "    out_per_hour = out_per_hour.groupby(by=['id_cuadra','tiempo']).mean().reset_index()\n",
    "\n",
    "    #Merge both in and out per hour to get the diff\n",
    "    in_out_per_hour = in_per_hour.merge(out_per_hour, how='outer', on=['id_cuadra','tiempo'])\n",
    "    in_out_per_hour.fillna(0, inplace=True)\n",
    "\n",
    "    #Subs values\n",
    "    in_out_per_hour['in - out'] = in_out_per_hour['entradas'] - in_out_per_hour['salidas']\n",
    "    in_out_per_hour.rename(columns={'tiempo': 'hora'}, inplace=True)\n",
    "\n",
    "    return in_out_per_hour"
   ]
  },
  {
   "cell_type": "code",
   "execution_count": 24,
   "metadata": {
    "ExecuteTime": {
     "end_time": "2019-10-07T16:43:15.916082Z",
     "start_time": "2019-10-07T16:43:15.081852Z"
    }
   },
   "outputs": [],
   "source": [
    "in_out_per_hour = inputs_outputs_per_hour(data)"
   ]
  },
  {
   "cell_type": "markdown",
   "metadata": {},
   "source": [
    "### All streets info (in-outs)"
   ]
  },
  {
   "cell_type": "code",
   "execution_count": 25,
   "metadata": {
    "ExecuteTime": {
     "end_time": "2019-10-07T16:43:15.933001Z",
     "start_time": "2019-10-07T16:43:15.916082Z"
    }
   },
   "outputs": [
    {
     "data": {
      "text/html": [
       "<div>\n",
       "<style scoped>\n",
       "    .dataframe tbody tr th:only-of-type {\n",
       "        vertical-align: middle;\n",
       "    }\n",
       "\n",
       "    .dataframe tbody tr th {\n",
       "        vertical-align: top;\n",
       "    }\n",
       "\n",
       "    .dataframe thead th {\n",
       "        text-align: right;\n",
       "    }\n",
       "</style>\n",
       "<table border=\"1\" class=\"dataframe\">\n",
       "  <thead>\n",
       "    <tr style=\"text-align: right;\">\n",
       "      <th></th>\n",
       "      <th>id_cuadra</th>\n",
       "      <th>hora</th>\n",
       "      <th>entradas</th>\n",
       "      <th>salidas</th>\n",
       "      <th>in - out</th>\n",
       "    </tr>\n",
       "  </thead>\n",
       "  <tbody>\n",
       "    <tr>\n",
       "      <td>708</td>\n",
       "      <td>59</td>\n",
       "      <td>7</td>\n",
       "      <td>1.800000</td>\n",
       "      <td>0.000000</td>\n",
       "      <td>1.800000</td>\n",
       "    </tr>\n",
       "    <tr>\n",
       "      <td>709</td>\n",
       "      <td>59</td>\n",
       "      <td>8</td>\n",
       "      <td>2.200000</td>\n",
       "      <td>0.000000</td>\n",
       "      <td>2.200000</td>\n",
       "    </tr>\n",
       "    <tr>\n",
       "      <td>710</td>\n",
       "      <td>59</td>\n",
       "      <td>9</td>\n",
       "      <td>6.600000</td>\n",
       "      <td>2.400000</td>\n",
       "      <td>4.200000</td>\n",
       "    </tr>\n",
       "    <tr>\n",
       "      <td>711</td>\n",
       "      <td>59</td>\n",
       "      <td>10</td>\n",
       "      <td>12.900000</td>\n",
       "      <td>2.222222</td>\n",
       "      <td>10.677778</td>\n",
       "    </tr>\n",
       "    <tr>\n",
       "      <td>712</td>\n",
       "      <td>59</td>\n",
       "      <td>11</td>\n",
       "      <td>6.400000</td>\n",
       "      <td>7.800000</td>\n",
       "      <td>-1.400000</td>\n",
       "    </tr>\n",
       "    <tr>\n",
       "      <td>713</td>\n",
       "      <td>59</td>\n",
       "      <td>12</td>\n",
       "      <td>3.555556</td>\n",
       "      <td>8.555556</td>\n",
       "      <td>-5.000000</td>\n",
       "    </tr>\n",
       "    <tr>\n",
       "      <td>714</td>\n",
       "      <td>59</td>\n",
       "      <td>13</td>\n",
       "      <td>5.400000</td>\n",
       "      <td>5.800000</td>\n",
       "      <td>-0.400000</td>\n",
       "    </tr>\n",
       "    <tr>\n",
       "      <td>715</td>\n",
       "      <td>59</td>\n",
       "      <td>14</td>\n",
       "      <td>3.857143</td>\n",
       "      <td>5.900000</td>\n",
       "      <td>-2.042857</td>\n",
       "    </tr>\n",
       "    <tr>\n",
       "      <td>716</td>\n",
       "      <td>59</td>\n",
       "      <td>15</td>\n",
       "      <td>4.125000</td>\n",
       "      <td>4.000000</td>\n",
       "      <td>0.125000</td>\n",
       "    </tr>\n",
       "    <tr>\n",
       "      <td>717</td>\n",
       "      <td>59</td>\n",
       "      <td>16</td>\n",
       "      <td>6.200000</td>\n",
       "      <td>3.444444</td>\n",
       "      <td>2.755556</td>\n",
       "    </tr>\n",
       "    <tr>\n",
       "      <td>718</td>\n",
       "      <td>59</td>\n",
       "      <td>17</td>\n",
       "      <td>9.777778</td>\n",
       "      <td>4.333333</td>\n",
       "      <td>5.444444</td>\n",
       "    </tr>\n",
       "    <tr>\n",
       "      <td>719</td>\n",
       "      <td>59</td>\n",
       "      <td>18</td>\n",
       "      <td>8.000000</td>\n",
       "      <td>3.900000</td>\n",
       "      <td>4.100000</td>\n",
       "    </tr>\n",
       "    <tr>\n",
       "      <td>720</td>\n",
       "      <td>59</td>\n",
       "      <td>19</td>\n",
       "      <td>2.222222</td>\n",
       "      <td>7.500000</td>\n",
       "      <td>-5.277778</td>\n",
       "    </tr>\n",
       "    <tr>\n",
       "      <td>721</td>\n",
       "      <td>59</td>\n",
       "      <td>20</td>\n",
       "      <td>1.000000</td>\n",
       "      <td>8.600000</td>\n",
       "      <td>-7.600000</td>\n",
       "    </tr>\n",
       "    <tr>\n",
       "      <td>1311</td>\n",
       "      <td>59</td>\n",
       "      <td>0</td>\n",
       "      <td>0.000000</td>\n",
       "      <td>2.571429</td>\n",
       "      <td>-2.571429</td>\n",
       "    </tr>\n",
       "    <tr>\n",
       "      <td>1312</td>\n",
       "      <td>59</td>\n",
       "      <td>21</td>\n",
       "      <td>0.000000</td>\n",
       "      <td>2.750000</td>\n",
       "      <td>-2.750000</td>\n",
       "    </tr>\n",
       "    <tr>\n",
       "      <td>1313</td>\n",
       "      <td>59</td>\n",
       "      <td>22</td>\n",
       "      <td>0.000000</td>\n",
       "      <td>2.000000</td>\n",
       "      <td>-2.000000</td>\n",
       "    </tr>\n",
       "    <tr>\n",
       "      <td>1314</td>\n",
       "      <td>59</td>\n",
       "      <td>23</td>\n",
       "      <td>0.000000</td>\n",
       "      <td>1.500000</td>\n",
       "      <td>-1.500000</td>\n",
       "    </tr>\n",
       "  </tbody>\n",
       "</table>\n",
       "</div>"
      ],
      "text/plain": [
       "      id_cuadra  hora   entradas   salidas   in - out\n",
       "708          59     7   1.800000  0.000000   1.800000\n",
       "709          59     8   2.200000  0.000000   2.200000\n",
       "710          59     9   6.600000  2.400000   4.200000\n",
       "711          59    10  12.900000  2.222222  10.677778\n",
       "712          59    11   6.400000  7.800000  -1.400000\n",
       "713          59    12   3.555556  8.555556  -5.000000\n",
       "714          59    13   5.400000  5.800000  -0.400000\n",
       "715          59    14   3.857143  5.900000  -2.042857\n",
       "716          59    15   4.125000  4.000000   0.125000\n",
       "717          59    16   6.200000  3.444444   2.755556\n",
       "718          59    17   9.777778  4.333333   5.444444\n",
       "719          59    18   8.000000  3.900000   4.100000\n",
       "720          59    19   2.222222  7.500000  -5.277778\n",
       "721          59    20   1.000000  8.600000  -7.600000\n",
       "1311         59     0   0.000000  2.571429  -2.571429\n",
       "1312         59    21   0.000000  2.750000  -2.750000\n",
       "1313         59    22   0.000000  2.000000  -2.000000\n",
       "1314         59    23   0.000000  1.500000  -1.500000"
      ]
     },
     "metadata": {},
     "output_type": "display_data"
    }
   ],
   "source": [
    "'''\n",
    "in-out > 0: more entradas than salidas\n",
    "in-out < 0: more salidas than entradas\n",
    "'''\n",
    "display(in_out_per_hour.loc[in_out_per_hour.id_cuadra == 59])"
   ]
  },
  {
   "cell_type": "markdown",
   "metadata": {},
   "source": [
    "### Selected street info (in-outs) ordered by hora and by in-out"
   ]
  },
  {
   "cell_type": "code",
   "execution_count": 26,
   "metadata": {
    "ExecuteTime": {
     "end_time": "2019-10-07T16:43:15.949303Z",
     "start_time": "2019-10-07T16:43:15.935078Z"
    }
   },
   "outputs": [
    {
     "name": "stdout",
     "output_type": "stream",
     "text": [
      "Yrigoyen 655\n"
     ]
    }
   ],
   "source": [
    "'''\n",
    "in-out > 0: more entradas than salidas\n",
    "in-out < 0: more salidas than entradas\n",
    "'''\n",
    "print(data.loc[data.id_cuadra == street, 'direccion'].iloc[0])"
   ]
  },
  {
   "cell_type": "code",
   "execution_count": 27,
   "metadata": {
    "ExecuteTime": {
     "end_time": "2019-10-07T16:43:15.971411Z",
     "start_time": "2019-10-07T16:43:15.951242Z"
    }
   },
   "outputs": [
    {
     "data": {
      "text/html": [
       "<div>\n",
       "<style scoped>\n",
       "    .dataframe tbody tr th:only-of-type {\n",
       "        vertical-align: middle;\n",
       "    }\n",
       "\n",
       "    .dataframe tbody tr th {\n",
       "        vertical-align: top;\n",
       "    }\n",
       "\n",
       "    .dataframe thead th {\n",
       "        text-align: right;\n",
       "    }\n",
       "</style>\n",
       "<table border=\"1\" class=\"dataframe\">\n",
       "  <thead>\n",
       "    <tr style=\"text-align: right;\">\n",
       "      <th></th>\n",
       "      <th>hora</th>\n",
       "      <th>in - out</th>\n",
       "    </tr>\n",
       "  </thead>\n",
       "  <tbody>\n",
       "    <tr>\n",
       "      <td>0</td>\n",
       "      <td>7</td>\n",
       "      <td>1.800000</td>\n",
       "    </tr>\n",
       "    <tr>\n",
       "      <td>1</td>\n",
       "      <td>8</td>\n",
       "      <td>2.200000</td>\n",
       "    </tr>\n",
       "    <tr>\n",
       "      <td>2</td>\n",
       "      <td>9</td>\n",
       "      <td>4.200000</td>\n",
       "    </tr>\n",
       "    <tr>\n",
       "      <td>3</td>\n",
       "      <td>10</td>\n",
       "      <td>10.677778</td>\n",
       "    </tr>\n",
       "    <tr>\n",
       "      <td>4</td>\n",
       "      <td>11</td>\n",
       "      <td>-1.400000</td>\n",
       "    </tr>\n",
       "    <tr>\n",
       "      <td>5</td>\n",
       "      <td>12</td>\n",
       "      <td>-5.000000</td>\n",
       "    </tr>\n",
       "    <tr>\n",
       "      <td>6</td>\n",
       "      <td>13</td>\n",
       "      <td>-0.400000</td>\n",
       "    </tr>\n",
       "    <tr>\n",
       "      <td>7</td>\n",
       "      <td>14</td>\n",
       "      <td>-2.042857</td>\n",
       "    </tr>\n",
       "    <tr>\n",
       "      <td>8</td>\n",
       "      <td>15</td>\n",
       "      <td>0.125000</td>\n",
       "    </tr>\n",
       "    <tr>\n",
       "      <td>9</td>\n",
       "      <td>16</td>\n",
       "      <td>2.755556</td>\n",
       "    </tr>\n",
       "    <tr>\n",
       "      <td>10</td>\n",
       "      <td>17</td>\n",
       "      <td>5.444444</td>\n",
       "    </tr>\n",
       "    <tr>\n",
       "      <td>11</td>\n",
       "      <td>18</td>\n",
       "      <td>4.100000</td>\n",
       "    </tr>\n",
       "    <tr>\n",
       "      <td>12</td>\n",
       "      <td>19</td>\n",
       "      <td>-5.277778</td>\n",
       "    </tr>\n",
       "    <tr>\n",
       "      <td>13</td>\n",
       "      <td>20</td>\n",
       "      <td>-7.600000</td>\n",
       "    </tr>\n",
       "    <tr>\n",
       "      <td>14</td>\n",
       "      <td>0</td>\n",
       "      <td>-2.571429</td>\n",
       "    </tr>\n",
       "    <tr>\n",
       "      <td>15</td>\n",
       "      <td>21</td>\n",
       "      <td>-2.750000</td>\n",
       "    </tr>\n",
       "    <tr>\n",
       "      <td>16</td>\n",
       "      <td>22</td>\n",
       "      <td>-2.000000</td>\n",
       "    </tr>\n",
       "    <tr>\n",
       "      <td>17</td>\n",
       "      <td>23</td>\n",
       "      <td>-1.500000</td>\n",
       "    </tr>\n",
       "  </tbody>\n",
       "</table>\n",
       "</div>"
      ],
      "text/plain": [
       "    hora   in - out\n",
       "0      7   1.800000\n",
       "1      8   2.200000\n",
       "2      9   4.200000\n",
       "3     10  10.677778\n",
       "4     11  -1.400000\n",
       "5     12  -5.000000\n",
       "6     13  -0.400000\n",
       "7     14  -2.042857\n",
       "8     15   0.125000\n",
       "9     16   2.755556\n",
       "10    17   5.444444\n",
       "11    18   4.100000\n",
       "12    19  -5.277778\n",
       "13    20  -7.600000\n",
       "14     0  -2.571429\n",
       "15    21  -2.750000\n",
       "16    22  -2.000000\n",
       "17    23  -1.500000"
      ]
     },
     "metadata": {},
     "output_type": "display_data"
    },
    {
     "data": {
      "text/html": [
       "<div>\n",
       "<style scoped>\n",
       "    .dataframe tbody tr th:only-of-type {\n",
       "        vertical-align: middle;\n",
       "    }\n",
       "\n",
       "    .dataframe tbody tr th {\n",
       "        vertical-align: top;\n",
       "    }\n",
       "\n",
       "    .dataframe thead th {\n",
       "        text-align: right;\n",
       "    }\n",
       "</style>\n",
       "<table border=\"1\" class=\"dataframe\">\n",
       "  <thead>\n",
       "    <tr style=\"text-align: right;\">\n",
       "      <th></th>\n",
       "      <th>hora</th>\n",
       "      <th>in - out</th>\n",
       "    </tr>\n",
       "  </thead>\n",
       "  <tbody>\n",
       "    <tr>\n",
       "      <td>0</td>\n",
       "      <td>20</td>\n",
       "      <td>-7.600000</td>\n",
       "    </tr>\n",
       "    <tr>\n",
       "      <td>1</td>\n",
       "      <td>19</td>\n",
       "      <td>-5.277778</td>\n",
       "    </tr>\n",
       "    <tr>\n",
       "      <td>2</td>\n",
       "      <td>12</td>\n",
       "      <td>-5.000000</td>\n",
       "    </tr>\n",
       "    <tr>\n",
       "      <td>3</td>\n",
       "      <td>21</td>\n",
       "      <td>-2.750000</td>\n",
       "    </tr>\n",
       "    <tr>\n",
       "      <td>4</td>\n",
       "      <td>0</td>\n",
       "      <td>-2.571429</td>\n",
       "    </tr>\n",
       "    <tr>\n",
       "      <td>5</td>\n",
       "      <td>14</td>\n",
       "      <td>-2.042857</td>\n",
       "    </tr>\n",
       "    <tr>\n",
       "      <td>6</td>\n",
       "      <td>22</td>\n",
       "      <td>-2.000000</td>\n",
       "    </tr>\n",
       "    <tr>\n",
       "      <td>7</td>\n",
       "      <td>23</td>\n",
       "      <td>-1.500000</td>\n",
       "    </tr>\n",
       "    <tr>\n",
       "      <td>8</td>\n",
       "      <td>11</td>\n",
       "      <td>-1.400000</td>\n",
       "    </tr>\n",
       "    <tr>\n",
       "      <td>9</td>\n",
       "      <td>13</td>\n",
       "      <td>-0.400000</td>\n",
       "    </tr>\n",
       "    <tr>\n",
       "      <td>10</td>\n",
       "      <td>15</td>\n",
       "      <td>0.125000</td>\n",
       "    </tr>\n",
       "    <tr>\n",
       "      <td>11</td>\n",
       "      <td>7</td>\n",
       "      <td>1.800000</td>\n",
       "    </tr>\n",
       "    <tr>\n",
       "      <td>12</td>\n",
       "      <td>8</td>\n",
       "      <td>2.200000</td>\n",
       "    </tr>\n",
       "    <tr>\n",
       "      <td>13</td>\n",
       "      <td>16</td>\n",
       "      <td>2.755556</td>\n",
       "    </tr>\n",
       "    <tr>\n",
       "      <td>14</td>\n",
       "      <td>18</td>\n",
       "      <td>4.100000</td>\n",
       "    </tr>\n",
       "    <tr>\n",
       "      <td>15</td>\n",
       "      <td>9</td>\n",
       "      <td>4.200000</td>\n",
       "    </tr>\n",
       "    <tr>\n",
       "      <td>16</td>\n",
       "      <td>17</td>\n",
       "      <td>5.444444</td>\n",
       "    </tr>\n",
       "    <tr>\n",
       "      <td>17</td>\n",
       "      <td>10</td>\n",
       "      <td>10.677778</td>\n",
       "    </tr>\n",
       "  </tbody>\n",
       "</table>\n",
       "</div>"
      ],
      "text/plain": [
       "    hora   in - out\n",
       "0     20  -7.600000\n",
       "1     19  -5.277778\n",
       "2     12  -5.000000\n",
       "3     21  -2.750000\n",
       "4      0  -2.571429\n",
       "5     14  -2.042857\n",
       "6     22  -2.000000\n",
       "7     23  -1.500000\n",
       "8     11  -1.400000\n",
       "9     13  -0.400000\n",
       "10    15   0.125000\n",
       "11     7   1.800000\n",
       "12     8   2.200000\n",
       "13    16   2.755556\n",
       "14    18   4.100000\n",
       "15     9   4.200000\n",
       "16    17   5.444444\n",
       "17    10  10.677778"
      ]
     },
     "metadata": {},
     "output_type": "display_data"
    }
   ],
   "source": [
    "#First we display the in-out for the designated street orderer by the hora\n",
    "display(in_out_per_hour.loc[in_out_per_hour['id_cuadra'] == street, ['hora','in - out']].reset_index(drop=True))\n",
    "\n",
    "#And at the right we will display the in-out orderer by the in-out (ascendant)\n",
    "display(in_out_per_hour.loc[in_out_per_hour['id_cuadra'] == street, ['hora','in - out']].sort_values(by='in - out').reset_index(drop=True))"
   ]
  },
  {
   "cell_type": "markdown",
   "metadata": {},
   "source": [
    "# Heat map"
   ]
  },
  {
   "cell_type": "code",
   "execution_count": 28,
   "metadata": {
    "ExecuteTime": {
     "end_time": "2019-10-07T16:43:15.986356Z",
     "start_time": "2019-10-07T16:43:15.972816Z"
    }
   },
   "outputs": [],
   "source": [
    "def get_data_for_scatter_graph(data, hour):\n",
    "    '''\n",
    "    Parameters:\n",
    "        data: (DataFrame) full data that contains all rows with all ocupacion changes.\n",
    "        hour: (int) the hour of the day to see the mean parked cars.\n",
    "    Return:\n",
    "        scatter_data: (DataFrame) df that contains the data to be plotted in the scatter \n",
    "    '''\n",
    "    \n",
    "    scatter_data = data.copy()[['id_cuadra', 'direccion', 'fecha_hora','ocupacion', 'ocupacion_max']]\n",
    "\n",
    "    #Obtain the coordenadas and direccion for each street\n",
    "    scatter_data = scatter_data.merge(pd.read_csv(r'C:\\Users\\ing_l\\Tesis grado\\Data\\Extra_data\\idcuadra_to_coordenadas.csv'))\n",
    "    scatter_data = scatter_data.merge(pd.read_csv(r'C:\\Users\\ing_l\\Tesis grado\\Data\\Extra_data\\idcuadra_to_direccion.csv'))\n",
    "\n",
    "    #Obtain all streets (also that who dont have any ocupacion at designated hour)\n",
    "    all_streets = scatter_data[['id_cuadra','direccion','latitud','longitud']].copy().drop_duplicates()\n",
    "\n",
    "    #Filter by hour\n",
    "    scatter_data['hora'] = scatter_data['fecha_hora'].apply(lambda x: pd.Timestamp(x).time().hour)\n",
    "    scatter_data = scatter_data.loc[scatter_data['hora'] == hour]\n",
    "\n",
    "    #Calculate the mean of all the ocupacion for designated hour\n",
    "    scatter_data = scatter_data.groupby(by=['id_cuadra','direccion']).mean().reset_index()[['id_cuadra', 'direccion', 'latitud','longitud','ocupacion']]\n",
    "\n",
    "    def complete_streets(data, streets, inplace=False):\n",
    "        '''\n",
    "        Used to complete the data with all the missing streets. In those streets\n",
    "        the ocupacion will be equals to 0.\n",
    "        '''\n",
    "        if not inplace:\n",
    "            out = data.copy()\n",
    "        else:\n",
    "            out = data\n",
    "        for i, row in streets.iterrows():\n",
    "            if not (out['id_cuadra'] == row['id_cuadra']).any():\n",
    "                to_add = row.copy()\n",
    "                to_add['ocupacion'] = 0\n",
    "                out = out.append(to_add)\n",
    "        if not inplace:\n",
    "            return out\n",
    "        return out\n",
    "    \n",
    "    #Complete the data with missing streets\n",
    "    scatter_data = complete_streets(scatter_data, all_streets, inplace=True)\n",
    "\n",
    "    #Put max ocupacion on them\n",
    "    scatter_data = scatter_data.merge(max_ocupacion[['id_cuadra', 'ocupacion_max']], on='id_cuadra').sort_values(by='id_cuadra')\n",
    "\n",
    "    #Invert latitud to transform the scatter in a nice to see map\n",
    "    scatter_data['latitud'] = scatter_data['latitud'] * -1\n",
    "    #scatter_data['longitud'] = scatter_data['longitud']\n",
    "    \n",
    "    return scatter_data"
   ]
  },
  {
   "cell_type": "code",
   "execution_count": 29,
   "metadata": {
    "ExecuteTime": {
     "end_time": "2019-10-07T16:43:16.001861Z",
     "start_time": "2019-10-07T16:43:15.987955Z"
    }
   },
   "outputs": [],
   "source": [
    "def get_color_for_scatter_graph(scatter_data):\n",
    "    color_green_data = scatter_data['ocupacion'] <= (scatter_data['ocupacion_max'] * 1/4)\n",
    "    color_yellow_data = (~color_green_data) & (scatter_data['ocupacion'] <= (scatter_data['ocupacion_max'] * 2/4))\n",
    "    color_orange_data = (~color_green_data) & (~color_yellow_data) & (scatter_data['ocupacion'] <= (scatter_data['ocupacion_max'] * 3/4))\n",
    "    color_red_data = (~color_green_data) & (~color_yellow_data) & (~color_orange_data)\n",
    "\n",
    "    color_data = pd.DataFrame(index=scatter_data.index.values, columns=['color'])\n",
    "    color_data[color_green_data] = 'green'\n",
    "    color_data[color_yellow_data] = 'yellow'\n",
    "    color_data[color_orange_data] = 'orange'\n",
    "    color_data[color_red_data] = 'red'\n",
    "\n",
    "    #Tribunal de faltas, we dont need this data, neither SUMO office data (we ve already deleted it)\n",
    "    color_data.iloc[88] = 'purple'\n",
    "\n",
    "    color_list = []\n",
    "    for c in color_data.values:\n",
    "        color_list.append(c[0])\n",
    "\n",
    "    color_data = color_list\n",
    "    \n",
    "    return color_data"
   ]
  },
  {
   "cell_type": "code",
   "execution_count": 30,
   "metadata": {
    "ExecuteTime": {
     "end_time": "2019-10-07T16:43:16.554446Z",
     "start_time": "2019-10-07T16:43:16.004950Z"
    }
   },
   "outputs": [],
   "source": [
    "scatter_data = get_data_for_scatter_graph(data, hour)\n",
    "#color_data = get_color_for_scatter_graph(scatter_data)\n",
    "color_data = get_color_for_scatter_graph(scatter_data)"
   ]
  },
  {
   "cell_type": "code",
   "execution_count": 31,
   "metadata": {
    "ExecuteTime": {
     "end_time": "2019-10-07T16:43:16.563233Z",
     "start_time": "2019-10-07T16:43:16.554446Z"
    }
   },
   "outputs": [
    {
     "data": {
      "text/plain": [
       "\"from shapely.geometry import Point # Shapely for converting latitude/longtitude to geometry\\nimport geopandas as gpd # To create GeodataFrame\\n\\n# creating a geometry column \\ngeometry = [Point(xy) for xy in zip(scatter_data['longitud'], scatter_data['latitud'])]\\n# Coordinate reference system : WGS84\\ncrs = {'init': 'epsg:4326'}\\n# Creating a Geographic data frame \\ngdf = gpd.GeoDataFrame(scatter_data, crs=crs, geometry=geometry)\\ngdf\""
      ]
     },
     "execution_count": 31,
     "metadata": {},
     "output_type": "execute_result"
    }
   ],
   "source": [
    "#Useless\n",
    "'''from shapely.geometry import Point # Shapely for converting latitude/longtitude to geometry\n",
    "import geopandas as gpd # To create GeodataFrame\n",
    "\n",
    "# creating a geometry column \n",
    "geometry = [Point(xy) for xy in zip(scatter_data['longitud'], scatter_data['latitud'])]\n",
    "# Coordinate reference system : WGS84\n",
    "crs = {'init': 'epsg:4326'}\n",
    "# Creating a Geographic data frame \n",
    "gdf = gpd.GeoDataFrame(scatter_data, crs=crs, geometry=geometry)\n",
    "gdf'''"
   ]
  },
  {
   "cell_type": "code",
   "execution_count": 32,
   "metadata": {
    "ExecuteTime": {
     "end_time": "2019-10-07T16:43:16.578527Z",
     "start_time": "2019-10-07T16:43:16.565228Z"
    }
   },
   "outputs": [
    {
     "data": {
      "text/plain": [
       "\"#Useless\\n#gdf.plot.scatter(x='latitud', y='longitud', c=color_data, title='Scatter for hour {}'.format(hour))\\nplt.scatter(gdf['latitud'], gdf['longitud'], c=color_data)\\nplt.title('Scatter for hour {}'.format(hour))\\nplt.show()\""
      ]
     },
     "execution_count": 32,
     "metadata": {},
     "output_type": "execute_result"
    }
   ],
   "source": [
    "'''#Useless\n",
    "#gdf.plot.scatter(x='latitud', y='longitud', c=color_data, title='Scatter for hour {}'.format(hour))\n",
    "plt.scatter(gdf['latitud'], gdf['longitud'], c=color_data)\n",
    "plt.title('Scatter for hour {}'.format(hour))\n",
    "plt.show()'''"
   ]
  },
  {
   "cell_type": "code",
   "execution_count": 33,
   "metadata": {
    "ExecuteTime": {
     "end_time": "2019-10-07T16:43:16.700025Z",
     "start_time": "2019-10-07T16:43:16.580286Z"
    }
   },
   "outputs": [
    {
     "data": {
      "image/png": "[encoded data removed]",
      "text/plain": [
       "<Figure size 864x288 with 1 Axes>"
      ]
     },
     "metadata": {
      "needs_background": "light"
     },
     "output_type": "display_data"
    }
   ],
   "source": [
    "scatter_data.plot.scatter(x='latitud', y='longitud', c=color_data, title='Scatter for hour {}'.format(hour))\n",
    "plt.scatter(scatter_data['latitud'], scatter_data['longitud'], c=color_data)\n",
    "plt.title('Scatter for hour {}'.format(hour))\n",
    "plt.axis('off')\n",
    "#plt.legend()\n",
    "plt.show()"
   ]
  },
  {
   "cell_type": "markdown",
   "metadata": {},
   "source": [
    "# This is what i've done to correct date mistake in the original (v0) csv"
   ]
  },
  {
   "cell_type": "code",
   "execution_count": 34,
   "metadata": {
    "ExecuteTime": {
     "end_time": "2019-10-07T16:43:16.708628Z",
     "start_time": "2019-10-07T16:43:16.701734Z"
    }
   },
   "outputs": [
    {
     "data": {
      "text/plain": [
       "'SUMO_data = pd.read_csv(data_w_operacion_path)\\nSUMO_data'"
      ]
     },
     "execution_count": 34,
     "metadata": {},
     "output_type": "execute_result"
    }
   ],
   "source": [
    "'''SUMO_data = pd.read_csv(data_w_operacion_path)\n",
    "SUMO_data'''"
   ]
  },
  {
   "cell_type": "code",
   "execution_count": 35,
   "metadata": {
    "ExecuteTime": {
     "end_time": "2019-10-07T16:43:16.719868Z",
     "start_time": "2019-10-07T16:43:16.711130Z"
    }
   },
   "outputs": [
    {
     "data": {
      "text/plain": [
       "\"SUMO_data['fecha'] = SUMO_data['fecha_tiempo'].apply(lambda x: pd.Timestamp(x).date())\\nSUMO_data['hora'] = SUMO_data['fecha_tiempo'].apply(lambda x: pd.Timestamp(x).time())\\nSUMO_data.loc[SUMO_data.fecha == pd.Timestamp('2019-11-09').date(),'fecha_tiempo'] = SUMO_data.loc[SUMO_data.fecha == pd.Timestamp('2019-11-09').date(), 'hora'].apply(lambda x: pd.Timestamp.combine(pd.Timestamp(year=2019, month=9, day=11), x))\\nSUMO_data.loc[SUMO_data.fecha == pd.Timestamp('2019-12-09').date(),'fecha_tiempo'] = SUMO_data.loc[SUMO_data.fecha == pd.Timestamp('2019-12-09').date(), 'hora'].apply(lambda x: pd.Timestamp.combine(pd.Timestamp(year=2019, month=9, day=12), x))\\nSUMO_data.drop(['fecha','hora'], axis=1, inplace=True)\\nSUMO_data['fecha_tiempo'] = SUMO_data['fecha_tiempo'].apply(lambda x: pd.Timestamp(x))\\nSUMO_data\""
      ]
     },
     "execution_count": 35,
     "metadata": {},
     "output_type": "execute_result"
    }
   ],
   "source": [
    "'''SUMO_data['fecha'] = SUMO_data['fecha_tiempo'].apply(lambda x: pd.Timestamp(x).date())\n",
    "SUMO_data['hora'] = SUMO_data['fecha_tiempo'].apply(lambda x: pd.Timestamp(x).time())\n",
    "SUMO_data.loc[SUMO_data.fecha == pd.Timestamp('2019-11-09').date(),'fecha_tiempo'] = SUMO_data.loc[SUMO_data.fecha == pd.Timestamp('2019-11-09').date(), 'hora'].apply(lambda x: pd.Timestamp.combine(pd.Timestamp(year=2019, month=9, day=11), x))\n",
    "SUMO_data.loc[SUMO_data.fecha == pd.Timestamp('2019-12-09').date(),'fecha_tiempo'] = SUMO_data.loc[SUMO_data.fecha == pd.Timestamp('2019-12-09').date(), 'hora'].apply(lambda x: pd.Timestamp.combine(pd.Timestamp(year=2019, month=9, day=12), x))\n",
    "SUMO_data.drop(['fecha','hora'], axis=1, inplace=True)\n",
    "SUMO_data['fecha_tiempo'] = SUMO_data['fecha_tiempo'].apply(lambda x: pd.Timestamp(x))\n",
    "SUMO_data'''"
   ]
  },
  {
   "cell_type": "code",
   "execution_count": 36,
   "metadata": {
    "ExecuteTime": {
     "end_time": "2019-10-07T16:43:16.732958Z",
     "start_time": "2019-10-07T16:43:16.721864Z"
    }
   },
   "outputs": [],
   "source": [
    "#SUMO_data.to_csv(data_w_operacion_path,index=False)"
   ]
  },
  {
   "cell_type": "markdown",
   "metadata": {},
   "source": [
    "."
   ]
  },
  {
   "cell_type": "markdown",
   "metadata": {},
   "source": [
    "."
   ]
  },
  {
   "cell_type": "markdown",
   "metadata": {},
   "source": [
    "."
   ]
  },
  {
   "cell_type": "markdown",
   "metadata": {},
   "source": [
    "."
   ]
  },
  {
   "cell_type": "markdown",
   "metadata": {},
   "source": [
    "."
   ]
  },
  {
   "cell_type": "markdown",
   "metadata": {},
   "source": [
    "."
   ]
  },
  {
   "cell_type": "markdown",
   "metadata": {},
   "source": [
    "# Just ouputs"
   ]
  },
  {
   "cell_type": "code",
   "execution_count": 37,
   "metadata": {
    "ExecuteTime": {
     "end_time": "2019-10-07T16:43:17.067259Z",
     "start_time": "2019-10-07T16:43:16.735159Z"
    }
   },
   "outputs": [],
   "source": [
    "#DF to process...\n",
    "#You can put on data any filter you want. If you put only monday data all the graphs\n",
    "#below will be for monday values...\n",
    "data = SUMO_data.copy()\n",
    "#data = weekday_data.copy()\n",
    "#data = BD_parking_data.copy()\n",
    "\n",
    "#Street to process...\n",
    "#From 2 to 92 without 50\n",
    "street = 2\n",
    "\n",
    "#Date to process...\n",
    "date_n = 1\n",
    "date = modif_date(data, date_n)\n",
    "\n",
    "#Hour to process...\n",
    "#From 0 to 23\n",
    "hour = 10"
   ]
  },
  {
   "cell_type": "markdown",
   "metadata": {},
   "source": [
    "## Ocupation per street"
   ]
  },
  {
   "cell_type": "markdown",
   "metadata": {},
   "source": [
    "### Top 10 ocupped streets"
   ]
  },
  {
   "cell_type": "code",
   "execution_count": 38,
   "metadata": {
    "ExecuteTime": {
     "end_time": "2019-10-07T16:43:17.083160Z",
     "start_time": "2019-10-07T16:43:17.067259Z"
    }
   },
   "outputs": [
    {
     "data": {
      "text/html": [
       "<div>\n",
       "<style scoped>\n",
       "    .dataframe tbody tr th:only-of-type {\n",
       "        vertical-align: middle;\n",
       "    }\n",
       "\n",
       "    .dataframe tbody tr th {\n",
       "        vertical-align: top;\n",
       "    }\n",
       "\n",
       "    .dataframe thead th {\n",
       "        text-align: right;\n",
       "    }\n",
       "</style>\n",
       "<table border=\"1\" class=\"dataframe\">\n",
       "  <thead>\n",
       "    <tr style=\"text-align: right;\">\n",
       "      <th></th>\n",
       "      <th>id_cuadra</th>\n",
       "      <th>direccion</th>\n",
       "      <th>ocupacion_max</th>\n",
       "      <th>lugares_cuadra</th>\n",
       "    </tr>\n",
       "  </thead>\n",
       "  <tbody>\n",
       "    <tr>\n",
       "      <td>0</td>\n",
       "      <td>59</td>\n",
       "      <td>Yrigoyen 655</td>\n",
       "      <td>32</td>\n",
       "      <td>48.0</td>\n",
       "    </tr>\n",
       "    <tr>\n",
       "      <td>1</td>\n",
       "      <td>32</td>\n",
       "      <td>Sarmiento 453</td>\n",
       "      <td>27</td>\n",
       "      <td>27.0</td>\n",
       "    </tr>\n",
       "    <tr>\n",
       "      <td>2</td>\n",
       "      <td>14</td>\n",
       "      <td>Rodriguez 464</td>\n",
       "      <td>27</td>\n",
       "      <td>30.0</td>\n",
       "    </tr>\n",
       "    <tr>\n",
       "      <td>3</td>\n",
       "      <td>33</td>\n",
       "      <td>Sarmiento 755</td>\n",
       "      <td>23</td>\n",
       "      <td>32.0</td>\n",
       "    </tr>\n",
       "    <tr>\n",
       "      <td>4</td>\n",
       "      <td>75</td>\n",
       "      <td>Maipu 333</td>\n",
       "      <td>23</td>\n",
       "      <td>31.0</td>\n",
       "    </tr>\n",
       "    <tr>\n",
       "      <td>5</td>\n",
       "      <td>13</td>\n",
       "      <td>General Pinto 343</td>\n",
       "      <td>22</td>\n",
       "      <td>27.0</td>\n",
       "    </tr>\n",
       "    <tr>\n",
       "      <td>6</td>\n",
       "      <td>11</td>\n",
       "      <td>San Martín 658</td>\n",
       "      <td>22</td>\n",
       "      <td>30.0</td>\n",
       "    </tr>\n",
       "    <tr>\n",
       "      <td>7</td>\n",
       "      <td>4</td>\n",
       "      <td>Rodriguez 552</td>\n",
       "      <td>22</td>\n",
       "      <td>28.0</td>\n",
       "    </tr>\n",
       "    <tr>\n",
       "      <td>8</td>\n",
       "      <td>21</td>\n",
       "      <td>Belgrano 540</td>\n",
       "      <td>21</td>\n",
       "      <td>29.0</td>\n",
       "    </tr>\n",
       "    <tr>\n",
       "      <td>9</td>\n",
       "      <td>80</td>\n",
       "      <td>General Paz 447</td>\n",
       "      <td>21</td>\n",
       "      <td>36.0</td>\n",
       "    </tr>\n",
       "  </tbody>\n",
       "</table>\n",
       "</div>"
      ],
      "text/plain": [
       "   id_cuadra          direccion  ocupacion_max  lugares_cuadra\n",
       "0         59       Yrigoyen 655             32            48.0\n",
       "1         32      Sarmiento 453             27            27.0\n",
       "2         14      Rodriguez 464             27            30.0\n",
       "3         33      Sarmiento 755             23            32.0\n",
       "4         75          Maipu 333             23            31.0\n",
       "5         13  General Pinto 343             22            27.0\n",
       "6         11     San Martín 658             22            30.0\n",
       "7          4      Rodriguez 552             22            28.0\n",
       "8         21       Belgrano 540             21            29.0\n",
       "9         80    General Paz 447             21            36.0"
      ]
     },
     "metadata": {},
     "output_type": "display_data"
    }
   ],
   "source": [
    "display(max_max_ocupacion)"
   ]
  },
  {
   "cell_type": "markdown",
   "metadata": {},
   "source": [
    "### Top 10 less ocupped streets"
   ]
  },
  {
   "cell_type": "code",
   "execution_count": 39,
   "metadata": {
    "ExecuteTime": {
     "end_time": "2019-10-07T16:43:17.101849Z",
     "start_time": "2019-10-07T16:43:17.085120Z"
    }
   },
   "outputs": [
    {
     "data": {
      "text/html": [
       "<div>\n",
       "<style scoped>\n",
       "    .dataframe tbody tr th:only-of-type {\n",
       "        vertical-align: middle;\n",
       "    }\n",
       "\n",
       "    .dataframe tbody tr th {\n",
       "        vertical-align: top;\n",
       "    }\n",
       "\n",
       "    .dataframe thead th {\n",
       "        text-align: right;\n",
       "    }\n",
       "</style>\n",
       "<table border=\"1\" class=\"dataframe\">\n",
       "  <thead>\n",
       "    <tr style=\"text-align: right;\">\n",
       "      <th></th>\n",
       "      <th>id_cuadra</th>\n",
       "      <th>direccion</th>\n",
       "      <th>ocupacion_max</th>\n",
       "      <th>lugares_cuadra</th>\n",
       "    </tr>\n",
       "  </thead>\n",
       "  <tbody>\n",
       "    <tr>\n",
       "      <td>0</td>\n",
       "      <td>92</td>\n",
       "      <td>Tribunal de Faltas</td>\n",
       "      <td>1</td>\n",
       "      <td>NaN</td>\n",
       "    </tr>\n",
       "    <tr>\n",
       "      <td>1</td>\n",
       "      <td>78</td>\n",
       "      <td>Maipu 953</td>\n",
       "      <td>5</td>\n",
       "      <td>14.0</td>\n",
       "    </tr>\n",
       "    <tr>\n",
       "      <td>2</td>\n",
       "      <td>85</td>\n",
       "      <td>Av. España 359</td>\n",
       "      <td>5</td>\n",
       "      <td>7.0</td>\n",
       "    </tr>\n",
       "    <tr>\n",
       "      <td>3</td>\n",
       "      <td>25</td>\n",
       "      <td>Belgrano 958</td>\n",
       "      <td>6</td>\n",
       "      <td>13.0</td>\n",
       "    </tr>\n",
       "    <tr>\n",
       "      <td>4</td>\n",
       "      <td>77</td>\n",
       "      <td>Maipu 857</td>\n",
       "      <td>6</td>\n",
       "      <td>15.0</td>\n",
       "    </tr>\n",
       "    <tr>\n",
       "      <td>5</td>\n",
       "      <td>55</td>\n",
       "      <td>14 de Julio 467</td>\n",
       "      <td>7</td>\n",
       "      <td>13.0</td>\n",
       "    </tr>\n",
       "    <tr>\n",
       "      <td>6</td>\n",
       "      <td>69</td>\n",
       "      <td>14 de Julio 657</td>\n",
       "      <td>7</td>\n",
       "      <td>10.0</td>\n",
       "    </tr>\n",
       "    <tr>\n",
       "      <td>7</td>\n",
       "      <td>88</td>\n",
       "      <td>Av. España 647</td>\n",
       "      <td>7</td>\n",
       "      <td>11.0</td>\n",
       "    </tr>\n",
       "    <tr>\n",
       "      <td>8</td>\n",
       "      <td>87</td>\n",
       "      <td>Av. España 545</td>\n",
       "      <td>8</td>\n",
       "      <td>10.0</td>\n",
       "    </tr>\n",
       "    <tr>\n",
       "      <td>9</td>\n",
       "      <td>41</td>\n",
       "      <td>Mitre 446</td>\n",
       "      <td>8</td>\n",
       "      <td>16.0</td>\n",
       "    </tr>\n",
       "  </tbody>\n",
       "</table>\n",
       "</div>"
      ],
      "text/plain": [
       "   id_cuadra           direccion  ocupacion_max  lugares_cuadra\n",
       "0         92  Tribunal de Faltas              1             NaN\n",
       "1         78           Maipu 953              5            14.0\n",
       "2         85      Av. España 359              5             7.0\n",
       "3         25        Belgrano 958              6            13.0\n",
       "4         77           Maipu 857              6            15.0\n",
       "5         55     14 de Julio 467              7            13.0\n",
       "6         69     14 de Julio 657              7            10.0\n",
       "7         88      Av. España 647              7            11.0\n",
       "8         87      Av. España 545              8            10.0\n",
       "9         41           Mitre 446              8            16.0"
      ]
     },
     "metadata": {},
     "output_type": "display_data"
    }
   ],
   "source": [
    "display(less_max_ocupacion)"
   ]
  },
  {
   "cell_type": "markdown",
   "metadata": {},
   "source": [
    "## Traffic per street (how much input-outputs)"
   ]
  },
  {
   "cell_type": "code",
   "execution_count": 40,
   "metadata": {
    "ExecuteTime": {
     "end_time": "2019-10-07T16:43:17.125381Z",
     "start_time": "2019-10-07T16:43:17.103844Z"
    }
   },
   "outputs": [
    {
     "data": {
      "text/html": [
       "<div>\n",
       "<style scoped>\n",
       "    .dataframe tbody tr th:only-of-type {\n",
       "        vertical-align: middle;\n",
       "    }\n",
       "\n",
       "    .dataframe tbody tr th {\n",
       "        vertical-align: top;\n",
       "    }\n",
       "\n",
       "    .dataframe thead th {\n",
       "        text-align: right;\n",
       "    }\n",
       "</style>\n",
       "<table border=\"1\" class=\"dataframe\">\n",
       "  <thead>\n",
       "    <tr style=\"text-align: right;\">\n",
       "      <th></th>\n",
       "      <th>id_cuadra</th>\n",
       "      <th>direccion</th>\n",
       "      <th>in-outs</th>\n",
       "    </tr>\n",
       "  </thead>\n",
       "  <tbody>\n",
       "    <tr>\n",
       "      <td>0</td>\n",
       "      <td>92</td>\n",
       "      <td>Tribunal de Faltas</td>\n",
       "      <td>7</td>\n",
       "    </tr>\n",
       "    <tr>\n",
       "      <td>1</td>\n",
       "      <td>77</td>\n",
       "      <td>Maipu 857</td>\n",
       "      <td>153</td>\n",
       "    </tr>\n",
       "    <tr>\n",
       "      <td>2</td>\n",
       "      <td>71</td>\n",
       "      <td>14 de Julio 847</td>\n",
       "      <td>161</td>\n",
       "    </tr>\n",
       "    <tr>\n",
       "      <td>3</td>\n",
       "      <td>78</td>\n",
       "      <td>Maipu 953</td>\n",
       "      <td>181</td>\n",
       "    </tr>\n",
       "    <tr>\n",
       "      <td>4</td>\n",
       "      <td>79</td>\n",
       "      <td>General Paz 347</td>\n",
       "      <td>217</td>\n",
       "    </tr>\n",
       "    <tr>\n",
       "      <td>5</td>\n",
       "      <td>24</td>\n",
       "      <td>Belgrano 868</td>\n",
       "      <td>218</td>\n",
       "    </tr>\n",
       "    <tr>\n",
       "      <td>6</td>\n",
       "      <td>70</td>\n",
       "      <td>14 de Julio 767</td>\n",
       "      <td>219</td>\n",
       "    </tr>\n",
       "    <tr>\n",
       "      <td>7</td>\n",
       "      <td>85</td>\n",
       "      <td>Av. España 359</td>\n",
       "      <td>225</td>\n",
       "    </tr>\n",
       "    <tr>\n",
       "      <td>8</td>\n",
       "      <td>25</td>\n",
       "      <td>Belgrano 958</td>\n",
       "      <td>243</td>\n",
       "    </tr>\n",
       "    <tr>\n",
       "      <td>9</td>\n",
       "      <td>40</td>\n",
       "      <td>Mitre 348</td>\n",
       "      <td>286</td>\n",
       "    </tr>\n",
       "  </tbody>\n",
       "</table>\n",
       "</div>"
      ],
      "text/plain": [
       "   id_cuadra           direccion  in-outs\n",
       "0         92  Tribunal de Faltas        7\n",
       "1         77           Maipu 857      153\n",
       "2         71     14 de Julio 847      161\n",
       "3         78           Maipu 953      181\n",
       "4         79     General Paz 347      217\n",
       "5         24        Belgrano 868      218\n",
       "6         70     14 de Julio 767      219\n",
       "7         85      Av. España 359      225\n",
       "8         25        Belgrano 958      243\n",
       "9         40           Mitre 348      286"
      ]
     },
     "metadata": {},
     "output_type": "display_data"
    },
    {
     "data": {
      "text/html": [
       "<div>\n",
       "<style scoped>\n",
       "    .dataframe tbody tr th:only-of-type {\n",
       "        vertical-align: middle;\n",
       "    }\n",
       "\n",
       "    .dataframe tbody tr th {\n",
       "        vertical-align: top;\n",
       "    }\n",
       "\n",
       "    .dataframe thead th {\n",
       "        text-align: right;\n",
       "    }\n",
       "</style>\n",
       "<table border=\"1\" class=\"dataframe\">\n",
       "  <thead>\n",
       "    <tr style=\"text-align: right;\">\n",
       "      <th></th>\n",
       "      <th>id_cuadra</th>\n",
       "      <th>direccion</th>\n",
       "      <th>in-outs</th>\n",
       "    </tr>\n",
       "  </thead>\n",
       "  <tbody>\n",
       "    <tr>\n",
       "      <td>0</td>\n",
       "      <td>59</td>\n",
       "      <td>Yrigoyen 655</td>\n",
       "      <td>1331</td>\n",
       "    </tr>\n",
       "    <tr>\n",
       "      <td>1</td>\n",
       "      <td>11</td>\n",
       "      <td>San Martín 658</td>\n",
       "      <td>1280</td>\n",
       "    </tr>\n",
       "    <tr>\n",
       "      <td>2</td>\n",
       "      <td>6</td>\n",
       "      <td>General Pinto 759</td>\n",
       "      <td>1219</td>\n",
       "    </tr>\n",
       "    <tr>\n",
       "      <td>3</td>\n",
       "      <td>4</td>\n",
       "      <td>Rodriguez 552</td>\n",
       "      <td>1173</td>\n",
       "    </tr>\n",
       "    <tr>\n",
       "      <td>4</td>\n",
       "      <td>45</td>\n",
       "      <td>Alem 480</td>\n",
       "      <td>1154</td>\n",
       "    </tr>\n",
       "    <tr>\n",
       "      <td>5</td>\n",
       "      <td>89</td>\n",
       "      <td>Av. España 737</td>\n",
       "      <td>1144</td>\n",
       "    </tr>\n",
       "    <tr>\n",
       "      <td>6</td>\n",
       "      <td>46</td>\n",
       "      <td>Alem 556</td>\n",
       "      <td>1091</td>\n",
       "    </tr>\n",
       "    <tr>\n",
       "      <td>7</td>\n",
       "      <td>5</td>\n",
       "      <td>9 de Julio 441</td>\n",
       "      <td>1079</td>\n",
       "    </tr>\n",
       "    <tr>\n",
       "      <td>8</td>\n",
       "      <td>33</td>\n",
       "      <td>Sarmiento 755</td>\n",
       "      <td>1057</td>\n",
       "    </tr>\n",
       "    <tr>\n",
       "      <td>9</td>\n",
       "      <td>22</td>\n",
       "      <td>Belgrano 768</td>\n",
       "      <td>1043</td>\n",
       "    </tr>\n",
       "  </tbody>\n",
       "</table>\n",
       "</div>"
      ],
      "text/plain": [
       "   id_cuadra          direccion  in-outs\n",
       "0         59       Yrigoyen 655     1331\n",
       "1         11     San Martín 658     1280\n",
       "2          6  General Pinto 759     1219\n",
       "3          4      Rodriguez 552     1173\n",
       "4         45           Alem 480     1154\n",
       "5         89     Av. España 737     1144\n",
       "6         46           Alem 556     1091\n",
       "7          5     9 de Julio 441     1079\n",
       "8         33      Sarmiento 755     1057\n",
       "9         22       Belgrano 768     1043"
      ]
     },
     "metadata": {},
     "output_type": "display_data"
    }
   ],
   "source": [
    "display(min_traffic)\n",
    "display(max_traffic)"
   ]
  },
  {
   "cell_type": "markdown",
   "metadata": {},
   "source": [
    "## Ocupation for a designated street along the day"
   ]
  },
  {
   "cell_type": "markdown",
   "metadata": {},
   "source": [
    "### Graph for designated date"
   ]
  },
  {
   "cell_type": "code",
   "execution_count": 41,
   "metadata": {
    "ExecuteTime": {
     "end_time": "2019-10-07T16:43:17.577982Z",
     "start_time": "2019-10-07T16:43:17.127543Z"
    }
   },
   "outputs": [
    {
     "data": {
      "image/png": "[encoded data removed]",
      "text/plain": [
       "<Figure size 864x288 with 1 Axes>"
      ]
     },
     "metadata": {
      "needs_background": "light"
     },
     "output_type": "display_data"
    }
   ],
   "source": [
    "plot_line_graph(plot_data, date, street=street, max_ocup=max_ocup)"
   ]
  },
  {
   "cell_type": "markdown",
   "metadata": {},
   "source": [
    "### Graph for the date with max mean of parked cars"
   ]
  },
  {
   "cell_type": "code",
   "execution_count": 42,
   "metadata": {
    "ExecuteTime": {
     "end_time": "2019-10-07T16:43:18.337172Z",
     "start_time": "2019-10-07T16:43:17.579668Z"
    }
   },
   "outputs": [
    {
     "data": {
      "image/png": "[encoded data removed]",
      "text/plain": [
       "<Figure size 864x288 with 1 Axes>"
      ]
     },
     "metadata": {
      "needs_background": "light"
     },
     "output_type": "display_data"
    }
   ],
   "source": [
    "plot_line_graph(plot_data, date_max_mean, street=street, max_ocup=max_ocup, name='Max mean', color='r')"
   ]
  },
  {
   "cell_type": "markdown",
   "metadata": {},
   "source": [
    "### Graph for the date with min mean of parked cars"
   ]
  },
  {
   "cell_type": "code",
   "execution_count": 43,
   "metadata": {
    "ExecuteTime": {
     "end_time": "2019-10-07T16:43:18.813846Z",
     "start_time": "2019-10-07T16:43:18.339606Z"
    }
   },
   "outputs": [
    {
     "data": {
      "image/png": "[encoded data removed]",
      "text/plain": [
       "<Figure size 864x288 with 1 Axes>"
      ]
     },
     "metadata": {
      "needs_background": "light"
     },
     "output_type": "display_data"
    }
   ],
   "source": [
    "plot_line_graph(plot_data, date_min_mean, street=street, max_ocup=max_ocup, name='Min mean', color='g')"
   ]
  },
  {
   "cell_type": "markdown",
   "metadata": {},
   "source": [
    "## In-outs per hour on each street"
   ]
  },
  {
   "cell_type": "code",
   "execution_count": 44,
   "metadata": {
    "ExecuteTime": {
     "end_time": "2019-10-07T16:43:18.829743Z",
     "start_time": "2019-10-07T16:43:18.816032Z"
    }
   },
   "outputs": [
    {
     "data": {
      "text/html": [
       "<div>\n",
       "<style scoped>\n",
       "    .dataframe tbody tr th:only-of-type {\n",
       "        vertical-align: middle;\n",
       "    }\n",
       "\n",
       "    .dataframe tbody tr th {\n",
       "        vertical-align: top;\n",
       "    }\n",
       "\n",
       "    .dataframe thead th {\n",
       "        text-align: right;\n",
       "    }\n",
       "</style>\n",
       "<table border=\"1\" class=\"dataframe\">\n",
       "  <thead>\n",
       "    <tr style=\"text-align: right;\">\n",
       "      <th></th>\n",
       "      <th>id_cuadra</th>\n",
       "      <th>hora</th>\n",
       "      <th>entradas</th>\n",
       "      <th>salidas</th>\n",
       "      <th>in - out</th>\n",
       "    </tr>\n",
       "  </thead>\n",
       "  <tbody>\n",
       "    <tr>\n",
       "      <td>0</td>\n",
       "      <td>2</td>\n",
       "      <td>7</td>\n",
       "      <td>1.000000</td>\n",
       "      <td>0.000000</td>\n",
       "      <td>1.000000</td>\n",
       "    </tr>\n",
       "    <tr>\n",
       "      <td>1</td>\n",
       "      <td>2</td>\n",
       "      <td>8</td>\n",
       "      <td>1.666667</td>\n",
       "      <td>1.000000</td>\n",
       "      <td>0.666667</td>\n",
       "    </tr>\n",
       "    <tr>\n",
       "      <td>2</td>\n",
       "      <td>2</td>\n",
       "      <td>9</td>\n",
       "      <td>5.333333</td>\n",
       "      <td>2.000000</td>\n",
       "      <td>3.333333</td>\n",
       "    </tr>\n",
       "    <tr>\n",
       "      <td>3</td>\n",
       "      <td>2</td>\n",
       "      <td>10</td>\n",
       "      <td>7.800000</td>\n",
       "      <td>3.500000</td>\n",
       "      <td>4.300000</td>\n",
       "    </tr>\n",
       "    <tr>\n",
       "      <td>4</td>\n",
       "      <td>2</td>\n",
       "      <td>11</td>\n",
       "      <td>4.777778</td>\n",
       "      <td>5.777778</td>\n",
       "      <td>-1.000000</td>\n",
       "    </tr>\n",
       "    <tr>\n",
       "      <td>...</td>\n",
       "      <td>...</td>\n",
       "      <td>...</td>\n",
       "      <td>...</td>\n",
       "      <td>...</td>\n",
       "      <td>...</td>\n",
       "    </tr>\n",
       "    <tr>\n",
       "      <td>1417</td>\n",
       "      <td>91</td>\n",
       "      <td>21</td>\n",
       "      <td>0.000000</td>\n",
       "      <td>2.000000</td>\n",
       "      <td>-2.000000</td>\n",
       "    </tr>\n",
       "    <tr>\n",
       "      <td>1418</td>\n",
       "      <td>91</td>\n",
       "      <td>22</td>\n",
       "      <td>0.000000</td>\n",
       "      <td>1.000000</td>\n",
       "      <td>-1.000000</td>\n",
       "    </tr>\n",
       "    <tr>\n",
       "      <td>1419</td>\n",
       "      <td>91</td>\n",
       "      <td>23</td>\n",
       "      <td>0.000000</td>\n",
       "      <td>4.000000</td>\n",
       "      <td>-4.000000</td>\n",
       "    </tr>\n",
       "    <tr>\n",
       "      <td>1420</td>\n",
       "      <td>92</td>\n",
       "      <td>8</td>\n",
       "      <td>0.000000</td>\n",
       "      <td>1.000000</td>\n",
       "      <td>-1.000000</td>\n",
       "    </tr>\n",
       "    <tr>\n",
       "      <td>1421</td>\n",
       "      <td>92</td>\n",
       "      <td>14</td>\n",
       "      <td>0.000000</td>\n",
       "      <td>1.000000</td>\n",
       "      <td>-1.000000</td>\n",
       "    </tr>\n",
       "  </tbody>\n",
       "</table>\n",
       "<p>1422 rows × 5 columns</p>\n",
       "</div>"
      ],
      "text/plain": [
       "      id_cuadra  hora  entradas   salidas  in - out\n",
       "0             2     7  1.000000  0.000000  1.000000\n",
       "1             2     8  1.666667  1.000000  0.666667\n",
       "2             2     9  5.333333  2.000000  3.333333\n",
       "3             2    10  7.800000  3.500000  4.300000\n",
       "4             2    11  4.777778  5.777778 -1.000000\n",
       "...         ...   ...       ...       ...       ...\n",
       "1417         91    21  0.000000  2.000000 -2.000000\n",
       "1418         91    22  0.000000  1.000000 -1.000000\n",
       "1419         91    23  0.000000  4.000000 -4.000000\n",
       "1420         92     8  0.000000  1.000000 -1.000000\n",
       "1421         92    14  0.000000  1.000000 -1.000000\n",
       "\n",
       "[1422 rows x 5 columns]"
      ]
     },
     "metadata": {},
     "output_type": "display_data"
    }
   ],
   "source": [
    "'''\n",
    "in-out > 0: more entradas than salidas\n",
    "in-out < 0: more salidas than entradas\n",
    "'''\n",
    "display(in_out_per_hour)"
   ]
  },
  {
   "cell_type": "markdown",
   "metadata": {},
   "source": [
    "## In-outs per hour on designated street"
   ]
  },
  {
   "cell_type": "code",
   "execution_count": 45,
   "metadata": {
    "ExecuteTime": {
     "end_time": "2019-10-07T16:43:18.845483Z",
     "start_time": "2019-10-07T16:43:18.831665Z"
    }
   },
   "outputs": [
    {
     "name": "stdout",
     "output_type": "stream",
     "text": [
      "General Pinto 545\n"
     ]
    }
   ],
   "source": [
    "'''\n",
    "in-out > 0: more entradas than salidas\n",
    "in-out < 0: more salidas than entradas\n",
    "'''\n",
    "print(data.loc[data.id_cuadra == street, 'direccion'].iloc[0])"
   ]
  },
  {
   "cell_type": "code",
   "execution_count": 46,
   "metadata": {
    "ExecuteTime": {
     "end_time": "2019-10-07T16:43:18.877825Z",
     "start_time": "2019-10-07T16:43:18.847110Z"
    }
   },
   "outputs": [
    {
     "data": {
      "text/html": [
       "<div>\n",
       "<style scoped>\n",
       "    .dataframe tbody tr th:only-of-type {\n",
       "        vertical-align: middle;\n",
       "    }\n",
       "\n",
       "    .dataframe tbody tr th {\n",
       "        vertical-align: top;\n",
       "    }\n",
       "\n",
       "    .dataframe thead th {\n",
       "        text-align: right;\n",
       "    }\n",
       "</style>\n",
       "<table border=\"1\" class=\"dataframe\">\n",
       "  <thead>\n",
       "    <tr style=\"text-align: right;\">\n",
       "      <th></th>\n",
       "      <th>hora</th>\n",
       "      <th>in - out</th>\n",
       "    </tr>\n",
       "  </thead>\n",
       "  <tbody>\n",
       "    <tr>\n",
       "      <td>0</td>\n",
       "      <td>7</td>\n",
       "      <td>1.000000</td>\n",
       "    </tr>\n",
       "    <tr>\n",
       "      <td>1</td>\n",
       "      <td>8</td>\n",
       "      <td>0.666667</td>\n",
       "    </tr>\n",
       "    <tr>\n",
       "      <td>2</td>\n",
       "      <td>9</td>\n",
       "      <td>3.333333</td>\n",
       "    </tr>\n",
       "    <tr>\n",
       "      <td>3</td>\n",
       "      <td>10</td>\n",
       "      <td>4.300000</td>\n",
       "    </tr>\n",
       "    <tr>\n",
       "      <td>4</td>\n",
       "      <td>11</td>\n",
       "      <td>-1.000000</td>\n",
       "    </tr>\n",
       "    <tr>\n",
       "      <td>5</td>\n",
       "      <td>12</td>\n",
       "      <td>0.000000</td>\n",
       "    </tr>\n",
       "    <tr>\n",
       "      <td>6</td>\n",
       "      <td>13</td>\n",
       "      <td>0.725000</td>\n",
       "    </tr>\n",
       "    <tr>\n",
       "      <td>7</td>\n",
       "      <td>14</td>\n",
       "      <td>-0.402778</td>\n",
       "    </tr>\n",
       "    <tr>\n",
       "      <td>8</td>\n",
       "      <td>15</td>\n",
       "      <td>-2.041667</td>\n",
       "    </tr>\n",
       "    <tr>\n",
       "      <td>9</td>\n",
       "      <td>16</td>\n",
       "      <td>1.055556</td>\n",
       "    </tr>\n",
       "    <tr>\n",
       "      <td>10</td>\n",
       "      <td>17</td>\n",
       "      <td>1.122222</td>\n",
       "    </tr>\n",
       "    <tr>\n",
       "      <td>11</td>\n",
       "      <td>18</td>\n",
       "      <td>2.022222</td>\n",
       "    </tr>\n",
       "    <tr>\n",
       "      <td>12</td>\n",
       "      <td>19</td>\n",
       "      <td>-2.333333</td>\n",
       "    </tr>\n",
       "    <tr>\n",
       "      <td>13</td>\n",
       "      <td>20</td>\n",
       "      <td>-2.333333</td>\n",
       "    </tr>\n",
       "    <tr>\n",
       "      <td>14</td>\n",
       "      <td>0</td>\n",
       "      <td>-2.000000</td>\n",
       "    </tr>\n",
       "    <tr>\n",
       "      <td>15</td>\n",
       "      <td>21</td>\n",
       "      <td>-1.000000</td>\n",
       "    </tr>\n",
       "    <tr>\n",
       "      <td>16</td>\n",
       "      <td>22</td>\n",
       "      <td>-1.000000</td>\n",
       "    </tr>\n",
       "  </tbody>\n",
       "</table>\n",
       "</div>"
      ],
      "text/plain": [
       "    hora  in - out\n",
       "0      7  1.000000\n",
       "1      8  0.666667\n",
       "2      9  3.333333\n",
       "3     10  4.300000\n",
       "4     11 -1.000000\n",
       "5     12  0.000000\n",
       "6     13  0.725000\n",
       "7     14 -0.402778\n",
       "8     15 -2.041667\n",
       "9     16  1.055556\n",
       "10    17  1.122222\n",
       "11    18  2.022222\n",
       "12    19 -2.333333\n",
       "13    20 -2.333333\n",
       "14     0 -2.000000\n",
       "15    21 -1.000000\n",
       "16    22 -1.000000"
      ]
     },
     "metadata": {},
     "output_type": "display_data"
    },
    {
     "data": {
      "text/html": [
       "<div>\n",
       "<style scoped>\n",
       "    .dataframe tbody tr th:only-of-type {\n",
       "        vertical-align: middle;\n",
       "    }\n",
       "\n",
       "    .dataframe tbody tr th {\n",
       "        vertical-align: top;\n",
       "    }\n",
       "\n",
       "    .dataframe thead th {\n",
       "        text-align: right;\n",
       "    }\n",
       "</style>\n",
       "<table border=\"1\" class=\"dataframe\">\n",
       "  <thead>\n",
       "    <tr style=\"text-align: right;\">\n",
       "      <th></th>\n",
       "      <th>hora</th>\n",
       "      <th>in - out</th>\n",
       "    </tr>\n",
       "  </thead>\n",
       "  <tbody>\n",
       "    <tr>\n",
       "      <td>0</td>\n",
       "      <td>20</td>\n",
       "      <td>-2.333333</td>\n",
       "    </tr>\n",
       "    <tr>\n",
       "      <td>1</td>\n",
       "      <td>19</td>\n",
       "      <td>-2.333333</td>\n",
       "    </tr>\n",
       "    <tr>\n",
       "      <td>2</td>\n",
       "      <td>15</td>\n",
       "      <td>-2.041667</td>\n",
       "    </tr>\n",
       "    <tr>\n",
       "      <td>3</td>\n",
       "      <td>0</td>\n",
       "      <td>-2.000000</td>\n",
       "    </tr>\n",
       "    <tr>\n",
       "      <td>4</td>\n",
       "      <td>21</td>\n",
       "      <td>-1.000000</td>\n",
       "    </tr>\n",
       "    <tr>\n",
       "      <td>5</td>\n",
       "      <td>22</td>\n",
       "      <td>-1.000000</td>\n",
       "    </tr>\n",
       "    <tr>\n",
       "      <td>6</td>\n",
       "      <td>11</td>\n",
       "      <td>-1.000000</td>\n",
       "    </tr>\n",
       "    <tr>\n",
       "      <td>7</td>\n",
       "      <td>14</td>\n",
       "      <td>-0.402778</td>\n",
       "    </tr>\n",
       "    <tr>\n",
       "      <td>8</td>\n",
       "      <td>12</td>\n",
       "      <td>0.000000</td>\n",
       "    </tr>\n",
       "    <tr>\n",
       "      <td>9</td>\n",
       "      <td>8</td>\n",
       "      <td>0.666667</td>\n",
       "    </tr>\n",
       "    <tr>\n",
       "      <td>10</td>\n",
       "      <td>13</td>\n",
       "      <td>0.725000</td>\n",
       "    </tr>\n",
       "    <tr>\n",
       "      <td>11</td>\n",
       "      <td>7</td>\n",
       "      <td>1.000000</td>\n",
       "    </tr>\n",
       "    <tr>\n",
       "      <td>12</td>\n",
       "      <td>16</td>\n",
       "      <td>1.055556</td>\n",
       "    </tr>\n",
       "    <tr>\n",
       "      <td>13</td>\n",
       "      <td>17</td>\n",
       "      <td>1.122222</td>\n",
       "    </tr>\n",
       "    <tr>\n",
       "      <td>14</td>\n",
       "      <td>18</td>\n",
       "      <td>2.022222</td>\n",
       "    </tr>\n",
       "    <tr>\n",
       "      <td>15</td>\n",
       "      <td>9</td>\n",
       "      <td>3.333333</td>\n",
       "    </tr>\n",
       "    <tr>\n",
       "      <td>16</td>\n",
       "      <td>10</td>\n",
       "      <td>4.300000</td>\n",
       "    </tr>\n",
       "  </tbody>\n",
       "</table>\n",
       "</div>"
      ],
      "text/plain": [
       "    hora  in - out\n",
       "0     20 -2.333333\n",
       "1     19 -2.333333\n",
       "2     15 -2.041667\n",
       "3      0 -2.000000\n",
       "4     21 -1.000000\n",
       "5     22 -1.000000\n",
       "6     11 -1.000000\n",
       "7     14 -0.402778\n",
       "8     12  0.000000\n",
       "9      8  0.666667\n",
       "10    13  0.725000\n",
       "11     7  1.000000\n",
       "12    16  1.055556\n",
       "13    17  1.122222\n",
       "14    18  2.022222\n",
       "15     9  3.333333\n",
       "16    10  4.300000"
      ]
     },
     "metadata": {},
     "output_type": "display_data"
    }
   ],
   "source": [
    "#First we display the in-out for the designated street orderer by the hora\n",
    "display(in_out_per_hour.loc[in_out_per_hour['id_cuadra'] == street, ['hora','in - out']].reset_index(drop=True))\n",
    "\n",
    "#And at the right we will display the in-out orderer by the in-out (ascendant)\n",
    "display(in_out_per_hour.loc[in_out_per_hour['id_cuadra'] == street, ['hora','in - out']].sort_values(by='in - out').reset_index(drop=True))"
   ]
  },
  {
   "cell_type": "markdown",
   "metadata": {},
   "source": [
    "## Heat map"
   ]
  },
  {
   "cell_type": "code",
   "execution_count": 47,
   "metadata": {
    "ExecuteTime": {
     "end_time": "2019-10-07T16:43:19.516479Z",
     "start_time": "2019-10-07T16:43:18.879561Z"
    }
   },
   "outputs": [
    {
     "data": {
      "image/png": "[encoded data removed]",
      "text/plain": [
       "<Figure size 864x288 with 1 Axes>"
      ]
     },
     "metadata": {
      "needs_background": "light"
     },
     "output_type": "display_data"
    }
   ],
   "source": [
    "scatter_data = get_data_for_scatter_graph(data,hour)\n",
    "color_data = get_color_for_scatter_graph(scatter_data)\n",
    "scatter_data.plot.scatter(x='latitud', y='longitud', c=color_data, title='Scatter for hour {}'.format(hour))\n",
    "plt.scatter(scatter_data['latitud'], scatter_data['longitud'], c=color_data)\n",
    "plt.title('Scatter for hour {}'.format(hour))\n",
    "plt.axis('off')\n",
    "#plt.legend()\n",
    "plt.show()"
   ]
  },
  {
   "cell_type": "code",
   "execution_count": null,
   "metadata": {},
   "outputs": [],
   "source": []
  }
 ],
 "metadata": {
  "kernelspec": {
   "display_name": "Python 3",
   "language": "python",
   "name": "python3"
  },
  "language_info": {
   "codemirror_mode": {
    "name": "ipython",
    "version": 3
   },
   "file_extension": ".py",
   "mimetype": "text/x-python",
   "name": "python",
   "nbconvert_exporter": "python",
   "pygments_lexer": "ipython3",
   "version": "3.7.3"
  }
 },
 "nbformat": 4,
 "nbformat_minor": 2
}
