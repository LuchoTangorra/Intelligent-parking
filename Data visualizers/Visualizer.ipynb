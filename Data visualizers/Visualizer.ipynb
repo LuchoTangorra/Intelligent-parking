{
 "cells": [
  {
   "cell_type": "code",
   "execution_count": 1,
   "metadata": {
    "ExecuteTime": {
     "end_time": "2019-10-03T01:50:51.159763Z",
     "start_time": "2019-10-03T01:50:50.145609Z"
    }
   },
   "outputs": [],
   "source": [
    "import pandas as pd\n",
    "import numpy as np\n",
    "import matplotlib.pyplot as plt\n",
    "from datetime import datetime "
   ]
  },
  {
   "cell_type": "code",
   "execution_count": 2,
   "metadata": {
    "ExecuteTime": {
     "end_time": "2019-10-03T01:50:51.170010Z",
     "start_time": "2019-10-03T01:50:51.162410Z"
    }
   },
   "outputs": [
    {
     "data": {
      "text/html": [
       "<style>\n",
       ".output {\n",
       "    flex-direction: row;\n",
       "}\n",
       "</style>"
      ],
      "text/plain": [
       "<IPython.core.display.HTML object>"
      ]
     },
     "execution_count": 2,
     "metadata": {},
     "output_type": "execute_result"
    }
   ],
   "source": [
    "#Just to have each print in the same row\n",
    "from IPython.display import display, HTML\n",
    "\n",
    "CSS = \"\"\"\n",
    ".output {\n",
    "    flex-direction: row;\n",
    "}\n",
    "\"\"\"\n",
    "\n",
    "HTML('<style>{}</style>'.format(CSS))"
   ]
  },
  {
   "cell_type": "code",
   "execution_count": 3,
   "metadata": {
    "ExecuteTime": {
     "end_time": "2019-10-03T01:50:51.181192Z",
     "start_time": "2019-10-03T01:50:51.172308Z"
    }
   },
   "outputs": [],
   "source": [
    "r'''\n",
    "trusted_data_w_ocupacion: *trusted_data* with actual ocupacion included.\n",
    "    path: r'C:\\Users\\ing_l\\Tesis grado\\Data\\BD_parking_trusted_data_ocupacion.csv'\n",
    "    \n",
    "data_w_operacion: (DataFrame) data with the corresponding operacion (Entrada/Salida).\n",
    "    path: C:\\Users\\ing_l\\Tesis grado\\Data\\SUMO_data_w_operacion.csv\n",
    "\n",
    "'''\n",
    "\n",
    "trusted_data_path_w_ocupacion = r'C:\\Users\\ing_l\\Tesis grado\\Data\\BD_parking_trusted_data_ocupacion.csv'\n",
    "data_w_operacion_path = r'C:\\Users\\ing_l\\Tesis grado\\Data\\SUMO_data_w_operacion.csv'"
   ]
  },
  {
   "cell_type": "code",
   "execution_count": 4,
   "metadata": {
    "ExecuteTime": {
     "end_time": "2019-10-03T01:50:52.772352Z",
     "start_time": "2019-10-03T01:50:51.183723Z"
    }
   },
   "outputs": [],
   "source": [
    "SUMO_data = pd.read_csv(data_w_operacion_path)\n",
    "SUMO_data.rename(columns={'fecha_tiempo': 'fecha_hora'}, inplace=True)\n",
    "SUMO_data = SUMO_data.loc[SUMO_data.id_cuadra != 50]\n",
    "BD_parking_data = pd.read_csv(trusted_data_path_w_ocupacion)"
   ]
  },
  {
   "cell_type": "code",
   "execution_count": 5,
   "metadata": {
    "ExecuteTime": {
     "end_time": "2019-10-03T01:50:53.139109Z",
     "start_time": "2019-10-03T01:50:52.774347Z"
    }
   },
   "outputs": [],
   "source": [
    "#Weekday data FOR SUMO\n",
    "weekday_data = SUMO_data.copy()\n",
    "weekday_data['dia de semana'] = weekday_data['fecha_hora'].apply(lambda x: pd.Timestamp(x).weekday())\n",
    "#0:Monday 1:Tuesday 2:Wednesday 3:Thursday 4:Friday 5:Saturday 6:Sunday\n",
    "weekday = 0\n",
    "weekday_data = weekday_data.loc[weekday_data['dia de semana'] == 0]"
   ]
  },
  {
   "cell_type": "code",
   "execution_count": 6,
   "metadata": {
    "ExecuteTime": {
     "end_time": "2019-10-03T01:50:53.152082Z",
     "start_time": "2019-10-03T01:50:53.141106Z"
    }
   },
   "outputs": [],
   "source": [
    "#DF to process...\n",
    "#You can put on data any filter you want. If you put only monday data all the graphs\n",
    "#below will be for monday values...\n",
    "data = SUMO_data.copy()\n",
    "#data = weekday_data.copy()\n",
    "#data = BD_parking_data.copy()\n",
    "\n",
    "#Street to process...\n",
    "street = 2\n",
    "\n",
    "#Date to process...\n",
    "date_n = 0\n",
    "date = data['fecha_hora'].iloc[date_n]\n",
    "\n",
    "#Hour to process...\n",
    "hour = 10"
   ]
  },
  {
   "cell_type": "markdown",
   "metadata": {},
   "source": [
    "## Cuadras donde más se estaciona (SUMO)"
   ]
  },
  {
   "cell_type": "code",
   "execution_count": 7,
   "metadata": {
    "ExecuteTime": {
     "end_time": "2019-10-03T01:50:53.164188Z",
     "start_time": "2019-10-03T01:50:53.154069Z"
    }
   },
   "outputs": [],
   "source": [
    "def get_max_ocupacion(data):\n",
    "    '''\n",
    "    Obtain the max ocupacion per street.\n",
    "    \n",
    "    Parameters:\n",
    "        data: (DataFrame) a DataFrame containing all the data or only for\n",
    "        one day, e.g. only with the monday data.\n",
    "        \n",
    "    Returns:\n",
    "        max_ocupacion: all max ocupation for all streets\n",
    "        max_max_ocupacion: max_ocupacion.tail(10)\n",
    "        less_max_ocupacion: max_ocupacion.head(10)\n",
    "    '''\n",
    "    \n",
    "    max_ocupacion = data.copy()\n",
    "    max_ocupacion = max_ocupacion[['id_cuadra','ocupacion_max', 'lugares_cuadra']].groupby(by='id_cuadra').max().reset_index()\n",
    "    max_ocupacion = max_ocupacion.sort_values(by='ocupacion_max')\n",
    "\n",
    "    max_ocupacion = max_ocupacion.merge(pd.read_csv(r'C:\\Users\\ing_l\\Tesis grado\\Data\\Extra_data\\idcuadra_to_direccion.csv'))\n",
    "\n",
    "    less_max_ocupacion = max_ocupacion[['id_cuadra','direccion','ocupacion_max','lugares_cuadra']].head(10).reset_index(drop=True)\n",
    "    max_max_ocupacion = max_ocupacion[['id_cuadra','direccion','ocupacion_max','lugares_cuadra']].tail(10).reset_index(drop=True)\n",
    "    \n",
    "    max_max_ocupacion = max_max_ocupacion.sort_values(by='ocupacion_max',ascending=False).reset_index(drop=True)\n",
    "    return max_ocupacion, max_max_ocupacion, less_max_ocupacion"
   ]
  },
  {
   "cell_type": "code",
   "execution_count": 8,
   "metadata": {
    "ExecuteTime": {
     "end_time": "2019-10-03T01:50:53.205104Z",
     "start_time": "2019-10-03T01:50:53.169058Z"
    }
   },
   "outputs": [],
   "source": [
    "max_ocupacion, max_max_ocupacion, less_max_ocupacion = get_max_ocupacion(data)"
   ]
  },
  {
   "cell_type": "code",
   "execution_count": 9,
   "metadata": {
    "ExecuteTime": {
     "end_time": "2019-10-03T01:50:53.222261Z",
     "start_time": "2019-10-03T01:50:53.208023Z"
    }
   },
   "outputs": [
    {
     "data": {
      "text/html": [
       "<div>\n",
       "<style scoped>\n",
       "    .dataframe tbody tr th:only-of-type {\n",
       "        vertical-align: middle;\n",
       "    }\n",
       "\n",
       "    .dataframe tbody tr th {\n",
       "        vertical-align: top;\n",
       "    }\n",
       "\n",
       "    .dataframe thead th {\n",
       "        text-align: right;\n",
       "    }\n",
       "</style>\n",
       "<table border=\"1\" class=\"dataframe\">\n",
       "  <thead>\n",
       "    <tr style=\"text-align: right;\">\n",
       "      <th></th>\n",
       "      <th>id_cuadra</th>\n",
       "      <th>direccion</th>\n",
       "      <th>ocupacion_max</th>\n",
       "      <th>lugares_cuadra</th>\n",
       "    </tr>\n",
       "  </thead>\n",
       "  <tbody>\n",
       "    <tr>\n",
       "      <td>0</td>\n",
       "      <td>59</td>\n",
       "      <td>Yrigoyen 655</td>\n",
       "      <td>32</td>\n",
       "      <td>48.0</td>\n",
       "    </tr>\n",
       "    <tr>\n",
       "      <td>1</td>\n",
       "      <td>32</td>\n",
       "      <td>Sarmiento 453</td>\n",
       "      <td>27</td>\n",
       "      <td>27.0</td>\n",
       "    </tr>\n",
       "    <tr>\n",
       "      <td>2</td>\n",
       "      <td>14</td>\n",
       "      <td>Rodriguez 464</td>\n",
       "      <td>27</td>\n",
       "      <td>30.0</td>\n",
       "    </tr>\n",
       "    <tr>\n",
       "      <td>3</td>\n",
       "      <td>33</td>\n",
       "      <td>Sarmiento 755</td>\n",
       "      <td>23</td>\n",
       "      <td>32.0</td>\n",
       "    </tr>\n",
       "    <tr>\n",
       "      <td>4</td>\n",
       "      <td>75</td>\n",
       "      <td>Maipu 333</td>\n",
       "      <td>23</td>\n",
       "      <td>31.0</td>\n",
       "    </tr>\n",
       "    <tr>\n",
       "      <td>5</td>\n",
       "      <td>13</td>\n",
       "      <td>General Pinto 343</td>\n",
       "      <td>22</td>\n",
       "      <td>27.0</td>\n",
       "    </tr>\n",
       "    <tr>\n",
       "      <td>6</td>\n",
       "      <td>11</td>\n",
       "      <td>San Martín 658</td>\n",
       "      <td>22</td>\n",
       "      <td>30.0</td>\n",
       "    </tr>\n",
       "    <tr>\n",
       "      <td>7</td>\n",
       "      <td>4</td>\n",
       "      <td>Rodriguez 552</td>\n",
       "      <td>22</td>\n",
       "      <td>28.0</td>\n",
       "    </tr>\n",
       "    <tr>\n",
       "      <td>8</td>\n",
       "      <td>12</td>\n",
       "      <td>Belgrano 480</td>\n",
       "      <td>21</td>\n",
       "      <td>25.0</td>\n",
       "    </tr>\n",
       "    <tr>\n",
       "      <td>9</td>\n",
       "      <td>80</td>\n",
       "      <td>General Paz 447</td>\n",
       "      <td>21</td>\n",
       "      <td>36.0</td>\n",
       "    </tr>\n",
       "  </tbody>\n",
       "</table>\n",
       "</div>"
      ],
      "text/plain": [
       "   id_cuadra          direccion  ocupacion_max  lugares_cuadra\n",
       "0         59       Yrigoyen 655             32            48.0\n",
       "1         32      Sarmiento 453             27            27.0\n",
       "2         14      Rodriguez 464             27            30.0\n",
       "3         33      Sarmiento 755             23            32.0\n",
       "4         75          Maipu 333             23            31.0\n",
       "5         13  General Pinto 343             22            27.0\n",
       "6         11     San Martín 658             22            30.0\n",
       "7          4      Rodriguez 552             22            28.0\n",
       "8         12       Belgrano 480             21            25.0\n",
       "9         80    General Paz 447             21            36.0"
      ]
     },
     "metadata": {},
     "output_type": "display_data"
    }
   ],
   "source": [
    "display(max_max_ocupacion)"
   ]
  },
  {
   "cell_type": "code",
   "execution_count": 10,
   "metadata": {
    "ExecuteTime": {
     "end_time": "2019-10-03T01:50:53.239269Z",
     "start_time": "2019-10-03T01:50:53.226250Z"
    }
   },
   "outputs": [
    {
     "data": {
      "text/html": [
       "<div>\n",
       "<style scoped>\n",
       "    .dataframe tbody tr th:only-of-type {\n",
       "        vertical-align: middle;\n",
       "    }\n",
       "\n",
       "    .dataframe tbody tr th {\n",
       "        vertical-align: top;\n",
       "    }\n",
       "\n",
       "    .dataframe thead th {\n",
       "        text-align: right;\n",
       "    }\n",
       "</style>\n",
       "<table border=\"1\" class=\"dataframe\">\n",
       "  <thead>\n",
       "    <tr style=\"text-align: right;\">\n",
       "      <th></th>\n",
       "      <th>id_cuadra</th>\n",
       "      <th>direccion</th>\n",
       "      <th>ocupacion_max</th>\n",
       "      <th>lugares_cuadra</th>\n",
       "    </tr>\n",
       "  </thead>\n",
       "  <tbody>\n",
       "    <tr>\n",
       "      <td>0</td>\n",
       "      <td>92</td>\n",
       "      <td>Tribunal de Faltas</td>\n",
       "      <td>1</td>\n",
       "      <td>NaN</td>\n",
       "    </tr>\n",
       "    <tr>\n",
       "      <td>1</td>\n",
       "      <td>94</td>\n",
       "      <td>Av. España 436</td>\n",
       "      <td>4</td>\n",
       "      <td>NaN</td>\n",
       "    </tr>\n",
       "    <tr>\n",
       "      <td>2</td>\n",
       "      <td>93</td>\n",
       "      <td>Av. España 352</td>\n",
       "      <td>4</td>\n",
       "      <td>NaN</td>\n",
       "    </tr>\n",
       "    <tr>\n",
       "      <td>3</td>\n",
       "      <td>99</td>\n",
       "      <td>Av. España 970</td>\n",
       "      <td>5</td>\n",
       "      <td>NaN</td>\n",
       "    </tr>\n",
       "    <tr>\n",
       "      <td>4</td>\n",
       "      <td>85</td>\n",
       "      <td>Av. España 359</td>\n",
       "      <td>5</td>\n",
       "      <td>7.0</td>\n",
       "    </tr>\n",
       "    <tr>\n",
       "      <td>5</td>\n",
       "      <td>78</td>\n",
       "      <td>Maipu 953</td>\n",
       "      <td>5</td>\n",
       "      <td>14.0</td>\n",
       "    </tr>\n",
       "    <tr>\n",
       "      <td>6</td>\n",
       "      <td>96</td>\n",
       "      <td>Av. España 624</td>\n",
       "      <td>5</td>\n",
       "      <td>NaN</td>\n",
       "    </tr>\n",
       "    <tr>\n",
       "      <td>7</td>\n",
       "      <td>77</td>\n",
       "      <td>Maipu 857</td>\n",
       "      <td>6</td>\n",
       "      <td>15.0</td>\n",
       "    </tr>\n",
       "    <tr>\n",
       "      <td>8</td>\n",
       "      <td>25</td>\n",
       "      <td>Belgrano 958</td>\n",
       "      <td>6</td>\n",
       "      <td>13.0</td>\n",
       "    </tr>\n",
       "    <tr>\n",
       "      <td>9</td>\n",
       "      <td>69</td>\n",
       "      <td>14 de Julio 657</td>\n",
       "      <td>7</td>\n",
       "      <td>10.0</td>\n",
       "    </tr>\n",
       "  </tbody>\n",
       "</table>\n",
       "</div>"
      ],
      "text/plain": [
       "   id_cuadra           direccion  ocupacion_max  lugares_cuadra\n",
       "0         92  Tribunal de Faltas              1             NaN\n",
       "1         94      Av. España 436              4             NaN\n",
       "2         93      Av. España 352              4             NaN\n",
       "3         99      Av. España 970              5             NaN\n",
       "4         85      Av. España 359              5             7.0\n",
       "5         78           Maipu 953              5            14.0\n",
       "6         96      Av. España 624              5             NaN\n",
       "7         77           Maipu 857              6            15.0\n",
       "8         25        Belgrano 958              6            13.0\n",
       "9         69     14 de Julio 657              7            10.0"
      ]
     },
     "metadata": {},
     "output_type": "display_data"
    }
   ],
   "source": [
    "display(less_max_ocupacion)"
   ]
  },
  {
   "cell_type": "markdown",
   "metadata": {},
   "source": [
    "### Para esto todavia faltaria tener mas datos y poder deducir algo del maximo valor posible. Por ahora ningun dato tiene sentido y por la poca cantidad tampoco puedo deducir mucho."
   ]
  },
  {
   "cell_type": "markdown",
   "metadata": {},
   "source": [
    "## Cuadras de mas y menos transito (input-ouputs) (SUMO)"
   ]
  },
  {
   "cell_type": "code",
   "execution_count": 11,
   "metadata": {
    "ExecuteTime": {
     "end_time": "2019-10-03T01:50:53.251598Z",
     "start_time": "2019-10-03T01:50:53.242261Z"
    }
   },
   "outputs": [],
   "source": [
    "def traffic_density(data):\n",
    "    '''\n",
    "    Obtain the traffic density (how much in-outs) per street.\n",
    "    \n",
    "    Parameters:\n",
    "        SUMO_data: (DataFrame) a DataFrame containing all the data or only for\n",
    "        one day, e.g. only with the monday data.\n",
    "        \n",
    "    Returns:\n",
    "        traffic: all traffic density for all streets\n",
    "        max_traffic: traffic.tail(10)\n",
    "        min_traffic: traffic.head(10)\n",
    "    '''\n",
    "    traffic = data.copy()\n",
    "    traffic = traffic[['id_cuadra','direccion']].groupby(by='id_cuadra').count().reset_index()\n",
    "    traffic.rename(columns={'direccion': 'in-outs'}, inplace=True)\n",
    "    traffic = traffic.sort_values(by='in-outs')\n",
    "    traffic = traffic.merge(pd.read_csv(r'C:\\Users\\ing_l\\Tesis grado\\Data\\Extra_data\\idcuadra_to_direccion.csv'))\n",
    "    max_traffic = traffic[['id_cuadra','direccion','in-outs']].tail(10).sort_values(by='in-outs', ascending=False).reset_index(drop=True)\n",
    "    min_traffic = traffic[['id_cuadra','direccion','in-outs']].head(10).reset_index(drop=True)\n",
    "    return traffic, max_traffic, min_traffic"
   ]
  },
  {
   "cell_type": "code",
   "execution_count": 12,
   "metadata": {
    "ExecuteTime": {
     "end_time": "2019-10-03T01:50:53.290391Z",
     "start_time": "2019-10-03T01:50:53.253446Z"
    }
   },
   "outputs": [],
   "source": [
    "_, max_traffic, min_traffic = traffic_density(data)"
   ]
  },
  {
   "cell_type": "code",
   "execution_count": 13,
   "metadata": {
    "ExecuteTime": {
     "end_time": "2019-10-03T01:50:53.313326Z",
     "start_time": "2019-10-03T01:50:53.292383Z"
    }
   },
   "outputs": [
    {
     "data": {
      "text/html": [
       "<div>\n",
       "<style scoped>\n",
       "    .dataframe tbody tr th:only-of-type {\n",
       "        vertical-align: middle;\n",
       "    }\n",
       "\n",
       "    .dataframe tbody tr th {\n",
       "        vertical-align: top;\n",
       "    }\n",
       "\n",
       "    .dataframe thead th {\n",
       "        text-align: right;\n",
       "    }\n",
       "</style>\n",
       "<table border=\"1\" class=\"dataframe\">\n",
       "  <thead>\n",
       "    <tr style=\"text-align: right;\">\n",
       "      <th></th>\n",
       "      <th>id_cuadra</th>\n",
       "      <th>direccion</th>\n",
       "      <th>in-outs</th>\n",
       "    </tr>\n",
       "  </thead>\n",
       "  <tbody>\n",
       "    <tr>\n",
       "      <td>0</td>\n",
       "      <td>92</td>\n",
       "      <td>Tribunal de Faltas</td>\n",
       "      <td>7</td>\n",
       "    </tr>\n",
       "    <tr>\n",
       "      <td>1</td>\n",
       "      <td>93</td>\n",
       "      <td>Av. España 352</td>\n",
       "      <td>82</td>\n",
       "    </tr>\n",
       "    <tr>\n",
       "      <td>2</td>\n",
       "      <td>95</td>\n",
       "      <td>Av. España 526</td>\n",
       "      <td>118</td>\n",
       "    </tr>\n",
       "    <tr>\n",
       "      <td>3</td>\n",
       "      <td>94</td>\n",
       "      <td>Av. España 436</td>\n",
       "      <td>123</td>\n",
       "    </tr>\n",
       "    <tr>\n",
       "      <td>4</td>\n",
       "      <td>85</td>\n",
       "      <td>Av. España 359</td>\n",
       "      <td>143</td>\n",
       "    </tr>\n",
       "    <tr>\n",
       "      <td>5</td>\n",
       "      <td>77</td>\n",
       "      <td>Maipu 857</td>\n",
       "      <td>153</td>\n",
       "    </tr>\n",
       "    <tr>\n",
       "      <td>6</td>\n",
       "      <td>71</td>\n",
       "      <td>14 de Julio 847</td>\n",
       "      <td>161</td>\n",
       "    </tr>\n",
       "    <tr>\n",
       "      <td>7</td>\n",
       "      <td>78</td>\n",
       "      <td>Maipu 953</td>\n",
       "      <td>181</td>\n",
       "    </tr>\n",
       "    <tr>\n",
       "      <td>8</td>\n",
       "      <td>79</td>\n",
       "      <td>General Paz 347</td>\n",
       "      <td>217</td>\n",
       "    </tr>\n",
       "    <tr>\n",
       "      <td>9</td>\n",
       "      <td>24</td>\n",
       "      <td>Belgrano 868</td>\n",
       "      <td>218</td>\n",
       "    </tr>\n",
       "  </tbody>\n",
       "</table>\n",
       "</div>"
      ],
      "text/plain": [
       "   id_cuadra           direccion  in-outs\n",
       "0         92  Tribunal de Faltas        7\n",
       "1         93      Av. España 352       82\n",
       "2         95      Av. España 526      118\n",
       "3         94      Av. España 436      123\n",
       "4         85      Av. España 359      143\n",
       "5         77           Maipu 857      153\n",
       "6         71     14 de Julio 847      161\n",
       "7         78           Maipu 953      181\n",
       "8         79     General Paz 347      217\n",
       "9         24        Belgrano 868      218"
      ]
     },
     "metadata": {},
     "output_type": "display_data"
    },
    {
     "data": {
      "text/html": [
       "<div>\n",
       "<style scoped>\n",
       "    .dataframe tbody tr th:only-of-type {\n",
       "        vertical-align: middle;\n",
       "    }\n",
       "\n",
       "    .dataframe tbody tr th {\n",
       "        vertical-align: top;\n",
       "    }\n",
       "\n",
       "    .dataframe thead th {\n",
       "        text-align: right;\n",
       "    }\n",
       "</style>\n",
       "<table border=\"1\" class=\"dataframe\">\n",
       "  <thead>\n",
       "    <tr style=\"text-align: right;\">\n",
       "      <th></th>\n",
       "      <th>id_cuadra</th>\n",
       "      <th>direccion</th>\n",
       "      <th>in-outs</th>\n",
       "    </tr>\n",
       "  </thead>\n",
       "  <tbody>\n",
       "    <tr>\n",
       "      <td>0</td>\n",
       "      <td>59</td>\n",
       "      <td>Yrigoyen 655</td>\n",
       "      <td>1331</td>\n",
       "    </tr>\n",
       "    <tr>\n",
       "      <td>1</td>\n",
       "      <td>11</td>\n",
       "      <td>San Martín 658</td>\n",
       "      <td>1280</td>\n",
       "    </tr>\n",
       "    <tr>\n",
       "      <td>2</td>\n",
       "      <td>6</td>\n",
       "      <td>General Pinto 759</td>\n",
       "      <td>1219</td>\n",
       "    </tr>\n",
       "    <tr>\n",
       "      <td>3</td>\n",
       "      <td>4</td>\n",
       "      <td>Rodriguez 552</td>\n",
       "      <td>1173</td>\n",
       "    </tr>\n",
       "    <tr>\n",
       "      <td>4</td>\n",
       "      <td>45</td>\n",
       "      <td>Alem 480</td>\n",
       "      <td>1154</td>\n",
       "    </tr>\n",
       "    <tr>\n",
       "      <td>5</td>\n",
       "      <td>46</td>\n",
       "      <td>Alem 556</td>\n",
       "      <td>1091</td>\n",
       "    </tr>\n",
       "    <tr>\n",
       "      <td>6</td>\n",
       "      <td>5</td>\n",
       "      <td>9 de Julio 441</td>\n",
       "      <td>1079</td>\n",
       "    </tr>\n",
       "    <tr>\n",
       "      <td>7</td>\n",
       "      <td>33</td>\n",
       "      <td>Sarmiento 755</td>\n",
       "      <td>1057</td>\n",
       "    </tr>\n",
       "    <tr>\n",
       "      <td>8</td>\n",
       "      <td>22</td>\n",
       "      <td>Belgrano 768</td>\n",
       "      <td>1043</td>\n",
       "    </tr>\n",
       "    <tr>\n",
       "      <td>9</td>\n",
       "      <td>10</td>\n",
       "      <td>Rodriguez 654</td>\n",
       "      <td>1031</td>\n",
       "    </tr>\n",
       "  </tbody>\n",
       "</table>\n",
       "</div>"
      ],
      "text/plain": [
       "   id_cuadra          direccion  in-outs\n",
       "0         59       Yrigoyen 655     1331\n",
       "1         11     San Martín 658     1280\n",
       "2          6  General Pinto 759     1219\n",
       "3          4      Rodriguez 552     1173\n",
       "4         45           Alem 480     1154\n",
       "5         46           Alem 556     1091\n",
       "6          5     9 de Julio 441     1079\n",
       "7         33      Sarmiento 755     1057\n",
       "8         22       Belgrano 768     1043\n",
       "9         10      Rodriguez 654     1031"
      ]
     },
     "metadata": {},
     "output_type": "display_data"
    }
   ],
   "source": [
    "display(min_traffic)\n",
    "display(max_traffic)"
   ]
  },
  {
   "cell_type": "markdown",
   "metadata": {},
   "source": [
    "## To plot day activity graphs"
   ]
  },
  {
   "cell_type": "code",
   "execution_count": 14,
   "metadata": {
    "ExecuteTime": {
     "end_time": "2019-10-03T01:50:53.325295Z",
     "start_time": "2019-10-03T01:50:53.315322Z"
    }
   },
   "outputs": [],
   "source": [
    "def get_filtered_time(plot_data, k=5):\n",
    "    '''\n",
    "    Obtains a dataframe with fixed dates to plot\n",
    "    \n",
    "    Parameters: \n",
    "        plot_data_date: dataframe containing the fecha_hora values of the plotted data\n",
    "        k: how much dates will appear in the graph\n",
    "        \n",
    "    Returns: a dataframe containing only k dates and empty values\n",
    "    '''\n",
    "    \n",
    "    #Get the timestamp of the fecha_hora column\n",
    "    time = plot_data['fecha_hora'].reset_index(drop=True).apply(lambda x: pd.Timestamp(x)).copy()\n",
    "    \n",
    "    #Obtain the nearest row to 13:00hs\n",
    "    '''same_hour = time.apply(lambda x: x.hour == 13)\n",
    "    same_minutes = time.apply(lambda x: x.minute < 10)\n",
    "    same_time = same_hour * same_minutes\n",
    "    same_time_index = time[same_time].index[0]\n",
    "    '''\n",
    "    #Get the k values to be appended in the out (time var)\n",
    "    size = len(time)\n",
    "    pos = [0]\n",
    "    vals = [str(time[pos[0]].time())]\n",
    "    for i in range(1,k+1):\n",
    "        pos.append(int(size*(i/k)) - 1)\n",
    "        vals.append(str(time[pos[i]].time()))\n",
    "    #pos[int(len(pos)/2)+1] = same_time_index\n",
    "    #vals[int(len(vals)/2)+1] = str(time[pos[int(len(vals)/2)+1]].time())\n",
    "    '''pos = [0, int(size*(1/4)), same_time_index, int(size*(3/4)), int(size-1)]\n",
    "    val1 = str(time[pos[0]].time())\n",
    "    val2 = str(time[pos[1]].time())\n",
    "    val3 = str(time[pos[2]].time())\n",
    "    val4 = str(time[pos[3]].time())\n",
    "    val5 = str(time[pos[4]].time())\n",
    "    '''\n",
    "    #Fill with empty values the time Series\n",
    "    time = pd.Series('', index=time.index)\n",
    "    \n",
    "    #Put all obtained values into time Series\n",
    "    for i in range(k+1):\n",
    "        time.iloc[pos[i]] = vals[i]\n",
    "    '''time.iloc[pos[0]] = val1\n",
    "    time.iloc[pos[1]] = val2\n",
    "    time.iloc[pos[2]] = val3\n",
    "    time.iloc[pos[3]] = val4\n",
    "    time.iloc[pos[4]] = val5\n",
    "    '''\n",
    "    return time"
   ]
  },
  {
   "cell_type": "code",
   "execution_count": 15,
   "metadata": {
    "ExecuteTime": {
     "end_time": "2019-10-03T01:50:53.338186Z",
     "start_time": "2019-10-03T01:50:53.327669Z"
    }
   },
   "outputs": [],
   "source": [
    "def plot_line_graph(plot_data, date, max_ocup=30, name='Original', color='b', k=5):\n",
    "    global street\n",
    "\n",
    "    #Get the values for each date we have\n",
    "    plot_data_date = plot_data.loc[plot_data.fecha == pd.Timestamp(date).date()].copy()\n",
    "\n",
    "    #Obtaining the mean to plot in the title of the graph\n",
    "    mean = plot_data_date['ocupacion'].mean()\n",
    "    #Modify the plot size\n",
    "    plt.rcParams['figure.figsize'] = (12,4)\n",
    "    \n",
    "    #The max value\n",
    "    plt.ylim([0, max_ocup+1])\n",
    "\n",
    "    #Just for the x axis, get the first, medium and last time value\n",
    "    time = get_filtered_time(plot_data_date, k)\n",
    "                \n",
    "    #Set the label titles\n",
    "    plt.xlabel('Time')\n",
    "    plt.ylabel('Parked cars')\n",
    "    plt.title('Parked cars in street nº{} along the day. Mean parked cars: {}'.format(street, mean))\n",
    "    \n",
    "    #Set the plot data for each graph (ax1,ax2,ax3)\n",
    "    plt.plot(plot_data_date['fecha_hora'], plot_data_date['ocupacion'], label='{} date'.format(name), color=color)\n",
    "    \n",
    "    plt.xticks(plot_data_date['fecha_hora'], time)\n",
    "    plt.legend()\n",
    "    plt.show()"
   ]
  },
  {
   "cell_type": "markdown",
   "metadata": {},
   "source": [
    "## BD parking (compile this block if you want to see the BD_Parking data graphs)"
   ]
  },
  {
   "cell_type": "code",
   "execution_count": 16,
   "metadata": {
    "ExecuteTime": {
     "end_time": "2019-10-03T01:50:53.351294Z",
     "start_time": "2019-10-03T01:50:53.340567Z"
    }
   },
   "outputs": [
    {
     "data": {
      "text/plain": [
       "\"to_plot_data = BD_parking_data.copy()\\n\\nstreet = 2\\ndate = '2018-01-02' \""
      ]
     },
     "execution_count": 16,
     "metadata": {},
     "output_type": "execute_result"
    }
   ],
   "source": [
    "'''to_plot_data = BD_parking_data.copy()\n",
    "\n",
    "street = 2\n",
    "date = '2018-01-02' '''"
   ]
  },
  {
   "cell_type": "markdown",
   "metadata": {},
   "source": [
    "## SUMO (compile this block if you want to see the SUMO data graphs)"
   ]
  },
  {
   "cell_type": "code",
   "execution_count": 17,
   "metadata": {
    "ExecuteTime": {
     "end_time": "2019-10-03T01:50:53.362130Z",
     "start_time": "2019-10-03T01:50:53.353290Z"
    }
   },
   "outputs": [
    {
     "data": {
      "text/plain": [
       "\"to_plot_data = SUMO_data.copy()\\n\\nstreet = 2\\ndate = '2019-09-13\""
      ]
     },
     "execution_count": 17,
     "metadata": {},
     "output_type": "execute_result"
    }
   ],
   "source": [
    "'''to_plot_data = SUMO_data.copy()\n",
    "\n",
    "street = 2\n",
    "date = '2019-09-13'''"
   ]
  },
  {
   "cell_type": "markdown",
   "metadata": {},
   "source": [
    "### Call only one above and the ones below"
   ]
  },
  {
   "cell_type": "code",
   "execution_count": 18,
   "metadata": {
    "ExecuteTime": {
     "end_time": "2019-10-03T01:50:53.382174Z",
     "start_time": "2019-10-03T01:50:53.364124Z"
    },
    "scrolled": false
   },
   "outputs": [],
   "source": [
    "def plot_ocupacion_per_hour(to_plot_data, street, date):\n",
    "    street_name = to_plot_data.loc[to_plot_data.id_cuadra == street, 'direccion'].iloc[0]\n",
    "\n",
    "    plot_data = to_plot_data.loc[to_plot_data.id_cuadra == street, ['fecha_hora','ocupacion']].copy()\n",
    "\n",
    "    plot_data['fecha'] = plot_data['fecha_hora'].apply(lambda x: pd.Timestamp(x).date())\n",
    "\n",
    "    #Date of the max transited day in selected street\n",
    "    max_mean = plot_data.groupby(by='fecha').mean().max()[0]\n",
    "    date_max_mean = plot_data.groupby(by='fecha').mean().reset_index()\n",
    "    date_max_mean = date_max_mean.loc[date_max_mean['ocupacion'] == max_mean, 'fecha'].iloc[0]\n",
    "\n",
    "\n",
    "\n",
    "    def search_date_min_mean(p_d, min_quantity=150):\n",
    "        '''\n",
    "        To search the day with less parked cars, but with at least\n",
    "        min_quantity registers (rows)\n",
    "        '''\n",
    "        try:\n",
    "            plot_data = p_d.copy()\n",
    "\n",
    "            full_min_mean = plot_data.groupby(by='fecha').mean().reset_index()\n",
    "            min_mean = full_min_mean['ocupacion'].min()\n",
    "            date_min_mean = full_min_mean.loc[full_min_mean['ocupacion'] == min_mean, 'fecha'].iloc[0]\n",
    "            if len(plot_data.loc[plot_data['fecha'] == date_min_mean]) < min_quantity:\n",
    "                plot_data = plot_data.loc[plot_data['fecha'] != date_min_mean]\n",
    "                return search_date_min_mean(plot_data)\n",
    "            else:\n",
    "                return date_min_mean\n",
    "        except: \n",
    "            print('Not min found.')\n",
    "            return None\n",
    "\n",
    "    #Date of the min transited day in selected street\n",
    "    date_min_mean = search_date_min_mean(plot_data, min_quantity=150)\n",
    "\n",
    "    print(street_name)\n",
    "\n",
    "    #Getting the max ocup to plot all the graphs with the same y-axis values\n",
    "    max_ocup1 = plot_data.loc[plot_data['fecha'] == pd.Timestamp(date).date(),'ocupacion'].max()\n",
    "    max_ocup2 = plot_data.loc[plot_data['fecha'] == pd.Timestamp(date_max_mean).date(), 'ocupacion'].max()\n",
    "    if date_min_mean is not None:\n",
    "        max_ocup3 = plot_data.loc[plot_data['fecha'] == pd.Timestamp(date_min_mean).date(), 'ocupacion'].max()\n",
    "    else:\n",
    "        max_ocup3 = 0\n",
    "    max_ocup = max(max_ocup1, max_ocup2, max_ocup3)\n",
    "    \n",
    "    return plot_data, date, date_max_mean, date_min_mean, max_ocup "
   ]
  },
  {
   "cell_type": "code",
   "execution_count": 19,
   "metadata": {
    "ExecuteTime": {
     "end_time": "2019-10-03T01:50:53.500112Z",
     "start_time": "2019-10-03T01:50:53.384680Z"
    }
   },
   "outputs": [
    {
     "name": "stdout",
     "output_type": "stream",
     "text": [
      "Not min found.\n",
      "General Pinto 545\n"
     ]
    }
   ],
   "source": [
    "plot_data, date, date_max_mean, date_min_mean, max_ocup = plot_ocupacion_per_hour(data, street, date)"
   ]
  },
  {
   "cell_type": "code",
   "execution_count": 20,
   "metadata": {
    "ExecuteTime": {
     "end_time": "2019-10-03T01:50:54.084326Z",
     "start_time": "2019-10-03T01:50:53.503104Z"
    }
   },
   "outputs": [
    {
     "data": {
      "image/png": "[encoded data removed]",
      "text/plain": [
       "<Figure size 864x288 with 1 Axes>"
      ]
     },
     "metadata": {
      "needs_background": "light"
     },
     "output_type": "display_data"
    }
   ],
   "source": [
    "plot_line_graph(plot_data, date, max_ocup=max_ocup)"
   ]
  },
  {
   "cell_type": "code",
   "execution_count": 21,
   "metadata": {
    "ExecuteTime": {
     "end_time": "2019-10-03T01:50:54.671497Z",
     "start_time": "2019-10-03T01:50:54.086283Z"
    }
   },
   "outputs": [
    {
     "data": {
      "image/png": "[encoded data removed]",
      "text/plain": [
       "<Figure size 864x288 with 1 Axes>"
      ]
     },
     "metadata": {
      "needs_background": "light"
     },
     "output_type": "display_data"
    }
   ],
   "source": [
    "plot_line_graph(plot_data, date_max_mean, max_ocup=max_ocup, name='Max mean', color='r')"
   ]
  },
  {
   "cell_type": "code",
   "execution_count": 22,
   "metadata": {
    "ExecuteTime": {
     "end_time": "2019-10-03T01:50:54.681537Z",
     "start_time": "2019-10-03T01:50:54.674451Z"
    }
   },
   "outputs": [
    {
     "name": "stdout",
     "output_type": "stream",
     "text": [
      "Not min founded so there is no graph to be plotted. Try changing min_quantity value in search_min\n"
     ]
    }
   ],
   "source": [
    "if date_min_mean is not None:\n",
    "    plot_line_graph(plot_data, date_min_mean, max_ocup=max_ocup, name='Min mean', color='g')\n",
    "else:\n",
    "    print('Not min founded so there is no graph to be plotted. Try changing min_quantity value in search_min')"
   ]
  },
  {
   "cell_type": "markdown",
   "metadata": {},
   "source": [
    "## En una ventana de tiempo la cantidad de entradas y salidas que se tienen para poder predecir donde se podrian liberar lugares para estacionar mas frecuentemente"
   ]
  },
  {
   "cell_type": "code",
   "execution_count": 23,
   "metadata": {
    "ExecuteTime": {
     "end_time": "2019-10-03T01:50:54.750415Z",
     "start_time": "2019-10-03T01:50:54.688116Z"
    }
   },
   "outputs": [],
   "source": [
    "def inputs_outputs_per_hour(data):\n",
    "    '''\n",
    "    Obtain the inputs and outputs (and the sub of both) per street.\n",
    "    \n",
    "    Parameters:\n",
    "        SUMO_data: (DataFrame) a DataFrame containing all the data or only for\n",
    "        one day, e.g. only with the monday data.\n",
    "        \n",
    "    Returns:\n",
    "        in_out_per_hour: (DataFrame) df that contains the inputs, the outputs \n",
    "        and the sub: entradas-salidas.\n",
    "    '''\n",
    "    \n",
    "    #Create column dia and tiempo just to obtain the inputs and outputs in an easy way\n",
    "    in_out_per_hour= data.copy()\n",
    "    in_out_per_hour = in_out_per_hour[['id_cuadra','fecha_hora','operacion']]\n",
    "    in_out_per_hour['dia'] = in_out_per_hour['fecha_hora'].apply(lambda x: pd.Timestamp(x).date().day)\n",
    "    in_out_per_hour['tiempo'] = in_out_per_hour['fecha_hora'].apply(lambda x: pd.Timestamp(x).time().hour)\n",
    "\n",
    "    #Obtain 2 df, one with the count of the inputs and the other with the count of the outputs\n",
    "    in_per_hour = in_out_per_hour.loc[in_out_per_hour['operacion'] == 'Entrada', ['dia','tiempo','id_cuadra', 'operacion']].groupby(by=['id_cuadra', 'dia','tiempo']).count()\n",
    "    out_per_hour = in_out_per_hour.loc[in_out_per_hour['operacion'] == 'Salida', ['dia','tiempo','id_cuadra', 'operacion']].groupby(by=['id_cuadra', 'dia','tiempo']).count()\n",
    "    in_per_hour.rename(columns={'operacion': 'entradas'}, inplace=True)\n",
    "    out_per_hour.rename(columns={'operacion': 'salidas'}, inplace=True)\n",
    "\n",
    "    #Obtain the mean of the inputs and outputs\n",
    "    in_per_hour = in_per_hour.groupby(by=['id_cuadra','tiempo']).mean().reset_index()\n",
    "    out_per_hour = out_per_hour.groupby(by=['id_cuadra','tiempo']).mean().reset_index()\n",
    "\n",
    "    #Merge both in and out per hour to get the diff\n",
    "    in_out_per_hour = in_per_hour.merge(out_per_hour, how='outer', on=['id_cuadra','tiempo'])\n",
    "    in_out_per_hour.fillna(0, inplace=True)\n",
    "\n",
    "    #Subs values\n",
    "    in_out_per_hour['in - out'] = in_out_per_hour['entradas'] - in_out_per_hour['salidas']\n",
    "    in_out_per_hour.rename(columns={'tiempo': 'hora'}, inplace=True)\n",
    "\n",
    "    return in_out_per_hour"
   ]
  },
  {
   "cell_type": "code",
   "execution_count": 24,
   "metadata": {
    "ExecuteTime": {
     "end_time": "2019-10-03T01:50:55.680363Z",
     "start_time": "2019-10-03T01:50:54.754568Z"
    }
   },
   "outputs": [],
   "source": [
    "in_out_per_hour = inputs_outputs_per_hour(data)"
   ]
  },
  {
   "cell_type": "markdown",
   "metadata": {},
   "source": [
    "### All streets info (in-outs)"
   ]
  },
  {
   "cell_type": "code",
   "execution_count": 25,
   "metadata": {
    "ExecuteTime": {
     "end_time": "2019-10-03T01:50:55.702858Z",
     "start_time": "2019-10-03T01:50:55.683737Z"
    }
   },
   "outputs": [
    {
     "data": {
      "text/html": [
       "<div>\n",
       "<style scoped>\n",
       "    .dataframe tbody tr th:only-of-type {\n",
       "        vertical-align: middle;\n",
       "    }\n",
       "\n",
       "    .dataframe tbody tr th {\n",
       "        vertical-align: top;\n",
       "    }\n",
       "\n",
       "    .dataframe thead th {\n",
       "        text-align: right;\n",
       "    }\n",
       "</style>\n",
       "<table border=\"1\" class=\"dataframe\">\n",
       "  <thead>\n",
       "    <tr style=\"text-align: right;\">\n",
       "      <th></th>\n",
       "      <th>id_cuadra</th>\n",
       "      <th>hora</th>\n",
       "      <th>entradas</th>\n",
       "      <th>salidas</th>\n",
       "      <th>in - out</th>\n",
       "    </tr>\n",
       "  </thead>\n",
       "  <tbody>\n",
       "    <tr>\n",
       "      <td>0</td>\n",
       "      <td>2</td>\n",
       "      <td>7</td>\n",
       "      <td>1.000000</td>\n",
       "      <td>0.000000</td>\n",
       "      <td>1.000000</td>\n",
       "    </tr>\n",
       "    <tr>\n",
       "      <td>1</td>\n",
       "      <td>2</td>\n",
       "      <td>8</td>\n",
       "      <td>1.666667</td>\n",
       "      <td>1.000000</td>\n",
       "      <td>0.666667</td>\n",
       "    </tr>\n",
       "    <tr>\n",
       "      <td>2</td>\n",
       "      <td>2</td>\n",
       "      <td>9</td>\n",
       "      <td>5.333333</td>\n",
       "      <td>2.000000</td>\n",
       "      <td>3.333333</td>\n",
       "    </tr>\n",
       "    <tr>\n",
       "      <td>3</td>\n",
       "      <td>2</td>\n",
       "      <td>10</td>\n",
       "      <td>7.800000</td>\n",
       "      <td>3.500000</td>\n",
       "      <td>4.300000</td>\n",
       "    </tr>\n",
       "    <tr>\n",
       "      <td>4</td>\n",
       "      <td>2</td>\n",
       "      <td>11</td>\n",
       "      <td>4.777778</td>\n",
       "      <td>5.777778</td>\n",
       "      <td>-1.000000</td>\n",
       "    </tr>\n",
       "    <tr>\n",
       "      <td>...</td>\n",
       "      <td>...</td>\n",
       "      <td>...</td>\n",
       "      <td>...</td>\n",
       "      <td>...</td>\n",
       "      <td>...</td>\n",
       "    </tr>\n",
       "    <tr>\n",
       "      <td>1510</td>\n",
       "      <td>98</td>\n",
       "      <td>20</td>\n",
       "      <td>0.000000</td>\n",
       "      <td>2.125000</td>\n",
       "      <td>-2.125000</td>\n",
       "    </tr>\n",
       "    <tr>\n",
       "      <td>1511</td>\n",
       "      <td>98</td>\n",
       "      <td>21</td>\n",
       "      <td>0.000000</td>\n",
       "      <td>1.750000</td>\n",
       "      <td>-1.750000</td>\n",
       "    </tr>\n",
       "    <tr>\n",
       "      <td>1512</td>\n",
       "      <td>98</td>\n",
       "      <td>23</td>\n",
       "      <td>0.000000</td>\n",
       "      <td>1.000000</td>\n",
       "      <td>-1.000000</td>\n",
       "    </tr>\n",
       "    <tr>\n",
       "      <td>1513</td>\n",
       "      <td>99</td>\n",
       "      <td>0</td>\n",
       "      <td>0.000000</td>\n",
       "      <td>1.333333</td>\n",
       "      <td>-1.333333</td>\n",
       "    </tr>\n",
       "    <tr>\n",
       "      <td>1514</td>\n",
       "      <td>99</td>\n",
       "      <td>20</td>\n",
       "      <td>0.000000</td>\n",
       "      <td>1.400000</td>\n",
       "      <td>-1.400000</td>\n",
       "    </tr>\n",
       "  </tbody>\n",
       "</table>\n",
       "<p>1515 rows × 5 columns</p>\n",
       "</div>"
      ],
      "text/plain": [
       "      id_cuadra  hora  entradas   salidas  in - out\n",
       "0             2     7  1.000000  0.000000  1.000000\n",
       "1             2     8  1.666667  1.000000  0.666667\n",
       "2             2     9  5.333333  2.000000  3.333333\n",
       "3             2    10  7.800000  3.500000  4.300000\n",
       "4             2    11  4.777778  5.777778 -1.000000\n",
       "...         ...   ...       ...       ...       ...\n",
       "1510         98    20  0.000000  2.125000 -2.125000\n",
       "1511         98    21  0.000000  1.750000 -1.750000\n",
       "1512         98    23  0.000000  1.000000 -1.000000\n",
       "1513         99     0  0.000000  1.333333 -1.333333\n",
       "1514         99    20  0.000000  1.400000 -1.400000\n",
       "\n",
       "[1515 rows x 5 columns]"
      ]
     },
     "metadata": {},
     "output_type": "display_data"
    }
   ],
   "source": [
    "'''\n",
    "in-out > 0: more entradas than salidas\n",
    "in-out < 0: more salidas than entradas\n",
    "'''\n",
    "display(in_out_per_hour)"
   ]
  },
  {
   "cell_type": "markdown",
   "metadata": {},
   "source": [
    "### Selected street info (in-outs) ordered by hora and by in-out"
   ]
  },
  {
   "cell_type": "code",
   "execution_count": 26,
   "metadata": {
    "ExecuteTime": {
     "end_time": "2019-10-03T01:50:55.722855Z",
     "start_time": "2019-10-03T01:50:55.708172Z"
    }
   },
   "outputs": [
    {
     "name": "stdout",
     "output_type": "stream",
     "text": [
      "General Pinto 545\n"
     ]
    }
   ],
   "source": [
    "'''\n",
    "in-out > 0: more entradas than salidas\n",
    "in-out < 0: more salidas than entradas\n",
    "'''\n",
    "print(data.loc[data.id_cuadra == street, 'direccion'].iloc[0])"
   ]
  },
  {
   "cell_type": "code",
   "execution_count": 27,
   "metadata": {
    "ExecuteTime": {
     "end_time": "2019-10-03T01:50:55.750174Z",
     "start_time": "2019-10-03T01:50:55.725210Z"
    }
   },
   "outputs": [
    {
     "data": {
      "text/html": [
       "<div>\n",
       "<style scoped>\n",
       "    .dataframe tbody tr th:only-of-type {\n",
       "        vertical-align: middle;\n",
       "    }\n",
       "\n",
       "    .dataframe tbody tr th {\n",
       "        vertical-align: top;\n",
       "    }\n",
       "\n",
       "    .dataframe thead th {\n",
       "        text-align: right;\n",
       "    }\n",
       "</style>\n",
       "<table border=\"1\" class=\"dataframe\">\n",
       "  <thead>\n",
       "    <tr style=\"text-align: right;\">\n",
       "      <th></th>\n",
       "      <th>hora</th>\n",
       "      <th>in - out</th>\n",
       "    </tr>\n",
       "  </thead>\n",
       "  <tbody>\n",
       "    <tr>\n",
       "      <td>0</td>\n",
       "      <td>7</td>\n",
       "      <td>1.000000</td>\n",
       "    </tr>\n",
       "    <tr>\n",
       "      <td>1</td>\n",
       "      <td>8</td>\n",
       "      <td>0.666667</td>\n",
       "    </tr>\n",
       "    <tr>\n",
       "      <td>2</td>\n",
       "      <td>9</td>\n",
       "      <td>3.333333</td>\n",
       "    </tr>\n",
       "    <tr>\n",
       "      <td>3</td>\n",
       "      <td>10</td>\n",
       "      <td>4.300000</td>\n",
       "    </tr>\n",
       "    <tr>\n",
       "      <td>4</td>\n",
       "      <td>11</td>\n",
       "      <td>-1.000000</td>\n",
       "    </tr>\n",
       "    <tr>\n",
       "      <td>5</td>\n",
       "      <td>12</td>\n",
       "      <td>0.000000</td>\n",
       "    </tr>\n",
       "    <tr>\n",
       "      <td>6</td>\n",
       "      <td>13</td>\n",
       "      <td>0.725000</td>\n",
       "    </tr>\n",
       "    <tr>\n",
       "      <td>7</td>\n",
       "      <td>14</td>\n",
       "      <td>-0.402778</td>\n",
       "    </tr>\n",
       "    <tr>\n",
       "      <td>8</td>\n",
       "      <td>15</td>\n",
       "      <td>-2.041667</td>\n",
       "    </tr>\n",
       "    <tr>\n",
       "      <td>9</td>\n",
       "      <td>16</td>\n",
       "      <td>1.055556</td>\n",
       "    </tr>\n",
       "    <tr>\n",
       "      <td>10</td>\n",
       "      <td>17</td>\n",
       "      <td>1.122222</td>\n",
       "    </tr>\n",
       "    <tr>\n",
       "      <td>11</td>\n",
       "      <td>18</td>\n",
       "      <td>2.022222</td>\n",
       "    </tr>\n",
       "    <tr>\n",
       "      <td>12</td>\n",
       "      <td>19</td>\n",
       "      <td>-2.333333</td>\n",
       "    </tr>\n",
       "    <tr>\n",
       "      <td>13</td>\n",
       "      <td>20</td>\n",
       "      <td>-2.333333</td>\n",
       "    </tr>\n",
       "    <tr>\n",
       "      <td>14</td>\n",
       "      <td>0</td>\n",
       "      <td>-2.000000</td>\n",
       "    </tr>\n",
       "    <tr>\n",
       "      <td>15</td>\n",
       "      <td>21</td>\n",
       "      <td>-1.000000</td>\n",
       "    </tr>\n",
       "    <tr>\n",
       "      <td>16</td>\n",
       "      <td>22</td>\n",
       "      <td>-1.000000</td>\n",
       "    </tr>\n",
       "  </tbody>\n",
       "</table>\n",
       "</div>"
      ],
      "text/plain": [
       "    hora  in - out\n",
       "0      7  1.000000\n",
       "1      8  0.666667\n",
       "2      9  3.333333\n",
       "3     10  4.300000\n",
       "4     11 -1.000000\n",
       "5     12  0.000000\n",
       "6     13  0.725000\n",
       "7     14 -0.402778\n",
       "8     15 -2.041667\n",
       "9     16  1.055556\n",
       "10    17  1.122222\n",
       "11    18  2.022222\n",
       "12    19 -2.333333\n",
       "13    20 -2.333333\n",
       "14     0 -2.000000\n",
       "15    21 -1.000000\n",
       "16    22 -1.000000"
      ]
     },
     "metadata": {},
     "output_type": "display_data"
    },
    {
     "data": {
      "text/html": [
       "<div>\n",
       "<style scoped>\n",
       "    .dataframe tbody tr th:only-of-type {\n",
       "        vertical-align: middle;\n",
       "    }\n",
       "\n",
       "    .dataframe tbody tr th {\n",
       "        vertical-align: top;\n",
       "    }\n",
       "\n",
       "    .dataframe thead th {\n",
       "        text-align: right;\n",
       "    }\n",
       "</style>\n",
       "<table border=\"1\" class=\"dataframe\">\n",
       "  <thead>\n",
       "    <tr style=\"text-align: right;\">\n",
       "      <th></th>\n",
       "      <th>hora</th>\n",
       "      <th>in - out</th>\n",
       "    </tr>\n",
       "  </thead>\n",
       "  <tbody>\n",
       "    <tr>\n",
       "      <td>0</td>\n",
       "      <td>20</td>\n",
       "      <td>-2.333333</td>\n",
       "    </tr>\n",
       "    <tr>\n",
       "      <td>1</td>\n",
       "      <td>19</td>\n",
       "      <td>-2.333333</td>\n",
       "    </tr>\n",
       "    <tr>\n",
       "      <td>2</td>\n",
       "      <td>15</td>\n",
       "      <td>-2.041667</td>\n",
       "    </tr>\n",
       "    <tr>\n",
       "      <td>3</td>\n",
       "      <td>0</td>\n",
       "      <td>-2.000000</td>\n",
       "    </tr>\n",
       "    <tr>\n",
       "      <td>4</td>\n",
       "      <td>21</td>\n",
       "      <td>-1.000000</td>\n",
       "    </tr>\n",
       "    <tr>\n",
       "      <td>5</td>\n",
       "      <td>22</td>\n",
       "      <td>-1.000000</td>\n",
       "    </tr>\n",
       "    <tr>\n",
       "      <td>6</td>\n",
       "      <td>11</td>\n",
       "      <td>-1.000000</td>\n",
       "    </tr>\n",
       "    <tr>\n",
       "      <td>7</td>\n",
       "      <td>14</td>\n",
       "      <td>-0.402778</td>\n",
       "    </tr>\n",
       "    <tr>\n",
       "      <td>8</td>\n",
       "      <td>12</td>\n",
       "      <td>0.000000</td>\n",
       "    </tr>\n",
       "    <tr>\n",
       "      <td>9</td>\n",
       "      <td>8</td>\n",
       "      <td>0.666667</td>\n",
       "    </tr>\n",
       "    <tr>\n",
       "      <td>10</td>\n",
       "      <td>13</td>\n",
       "      <td>0.725000</td>\n",
       "    </tr>\n",
       "    <tr>\n",
       "      <td>11</td>\n",
       "      <td>7</td>\n",
       "      <td>1.000000</td>\n",
       "    </tr>\n",
       "    <tr>\n",
       "      <td>12</td>\n",
       "      <td>16</td>\n",
       "      <td>1.055556</td>\n",
       "    </tr>\n",
       "    <tr>\n",
       "      <td>13</td>\n",
       "      <td>17</td>\n",
       "      <td>1.122222</td>\n",
       "    </tr>\n",
       "    <tr>\n",
       "      <td>14</td>\n",
       "      <td>18</td>\n",
       "      <td>2.022222</td>\n",
       "    </tr>\n",
       "    <tr>\n",
       "      <td>15</td>\n",
       "      <td>9</td>\n",
       "      <td>3.333333</td>\n",
       "    </tr>\n",
       "    <tr>\n",
       "      <td>16</td>\n",
       "      <td>10</td>\n",
       "      <td>4.300000</td>\n",
       "    </tr>\n",
       "  </tbody>\n",
       "</table>\n",
       "</div>"
      ],
      "text/plain": [
       "    hora  in - out\n",
       "0     20 -2.333333\n",
       "1     19 -2.333333\n",
       "2     15 -2.041667\n",
       "3      0 -2.000000\n",
       "4     21 -1.000000\n",
       "5     22 -1.000000\n",
       "6     11 -1.000000\n",
       "7     14 -0.402778\n",
       "8     12  0.000000\n",
       "9      8  0.666667\n",
       "10    13  0.725000\n",
       "11     7  1.000000\n",
       "12    16  1.055556\n",
       "13    17  1.122222\n",
       "14    18  2.022222\n",
       "15     9  3.333333\n",
       "16    10  4.300000"
      ]
     },
     "metadata": {},
     "output_type": "display_data"
    }
   ],
   "source": [
    "#First we display the in-out for the designated street orderer by the hora\n",
    "display(in_out_per_hour.loc[in_out_per_hour['id_cuadra'] == street, ['hora','in - out']].reset_index(drop=True))\n",
    "\n",
    "#And at the right we will display the in-out orderer by the in-out (ascendant)\n",
    "display(in_out_per_hour.loc[in_out_per_hour['id_cuadra'] == street, ['hora','in - out']].sort_values(by='in - out').reset_index(drop=True))"
   ]
  },
  {
   "cell_type": "markdown",
   "metadata": {},
   "source": [
    "# Heat map"
   ]
  },
  {
   "cell_type": "code",
   "execution_count": 106,
   "metadata": {
    "ExecuteTime": {
     "end_time": "2019-10-03T02:46:24.683391Z",
     "start_time": "2019-10-03T02:46:24.226551Z"
    }
   },
   "outputs": [
    {
     "data": {
      "text/html": [
       "<div>\n",
       "<style scoped>\n",
       "    .dataframe tbody tr th:only-of-type {\n",
       "        vertical-align: middle;\n",
       "    }\n",
       "\n",
       "    .dataframe tbody tr th {\n",
       "        vertical-align: top;\n",
       "    }\n",
       "\n",
       "    .dataframe thead th {\n",
       "        text-align: right;\n",
       "    }\n",
       "</style>\n",
       "<table border=\"1\" class=\"dataframe\">\n",
       "  <thead>\n",
       "    <tr style=\"text-align: right;\">\n",
       "      <th></th>\n",
       "      <th>id_cuadra</th>\n",
       "      <th>direccion</th>\n",
       "      <th>latitud</th>\n",
       "      <th>longitud</th>\n",
       "      <th>ocupacion</th>\n",
       "      <th>ocupacion_max</th>\n",
       "    </tr>\n",
       "  </thead>\n",
       "  <tbody>\n",
       "    <tr>\n",
       "      <td>0</td>\n",
       "      <td>2</td>\n",
       "      <td>General Pinto 545</td>\n",
       "      <td>37.327857</td>\n",
       "      <td>59.136795</td>\n",
       "      <td>8.509434</td>\n",
       "      <td>18</td>\n",
       "    </tr>\n",
       "    <tr>\n",
       "      <td>1</td>\n",
       "      <td>3</td>\n",
       "      <td>San Martín 452</td>\n",
       "      <td>37.327089</td>\n",
       "      <td>59.138667</td>\n",
       "      <td>3.838710</td>\n",
       "      <td>12</td>\n",
       "    </tr>\n",
       "    <tr>\n",
       "      <td>2</td>\n",
       "      <td>4</td>\n",
       "      <td>Rodriguez 552</td>\n",
       "      <td>37.326948</td>\n",
       "      <td>59.136471</td>\n",
       "      <td>10.631579</td>\n",
       "      <td>22</td>\n",
       "    </tr>\n",
       "    <tr>\n",
       "      <td>3</td>\n",
       "      <td>5</td>\n",
       "      <td>9 de Julio 441</td>\n",
       "      <td>37.327848</td>\n",
       "      <td>59.134263</td>\n",
       "      <td>7.968992</td>\n",
       "      <td>19</td>\n",
       "    </tr>\n",
       "    <tr>\n",
       "      <td>4</td>\n",
       "      <td>6</td>\n",
       "      <td>General Pinto 759</td>\n",
       "      <td>37.326729</td>\n",
       "      <td>59.133841</td>\n",
       "      <td>8.025641</td>\n",
       "      <td>20</td>\n",
       "    </tr>\n",
       "    <tr>\n",
       "      <td>...</td>\n",
       "      <td>...</td>\n",
       "      <td>...</td>\n",
       "      <td>...</td>\n",
       "      <td>...</td>\n",
       "      <td>...</td>\n",
       "      <td>...</td>\n",
       "    </tr>\n",
       "    <tr>\n",
       "      <td>90</td>\n",
       "      <td>95</td>\n",
       "      <td>Av. España 526</td>\n",
       "      <td>37.323080</td>\n",
       "      <td>59.139754</td>\n",
       "      <td>2.111111</td>\n",
       "      <td>7</td>\n",
       "    </tr>\n",
       "    <tr>\n",
       "      <td>91</td>\n",
       "      <td>96</td>\n",
       "      <td>Av. España 624</td>\n",
       "      <td>37.322587</td>\n",
       "      <td>59.138458</td>\n",
       "      <td>2.560976</td>\n",
       "      <td>5</td>\n",
       "    </tr>\n",
       "    <tr>\n",
       "      <td>92</td>\n",
       "      <td>97</td>\n",
       "      <td>Av. España 774</td>\n",
       "      <td>37.321779</td>\n",
       "      <td>59.136397</td>\n",
       "      <td>3.870370</td>\n",
       "      <td>10</td>\n",
       "    </tr>\n",
       "    <tr>\n",
       "      <td>93</td>\n",
       "      <td>98</td>\n",
       "      <td>Av. España 864</td>\n",
       "      <td>37.321280</td>\n",
       "      <td>59.135033</td>\n",
       "      <td>3.035088</td>\n",
       "      <td>10</td>\n",
       "    </tr>\n",
       "    <tr>\n",
       "      <td>94</td>\n",
       "      <td>99</td>\n",
       "      <td>Av. España 970</td>\n",
       "      <td>37.320679</td>\n",
       "      <td>59.133484</td>\n",
       "      <td>2.285714</td>\n",
       "      <td>5</td>\n",
       "    </tr>\n",
       "  </tbody>\n",
       "</table>\n",
       "<p>95 rows × 6 columns</p>\n",
       "</div>"
      ],
      "text/plain": [
       "    id_cuadra          direccion    latitud   longitud  ocupacion  \\\n",
       "0           2  General Pinto 545  37.327857  59.136795   8.509434   \n",
       "1           3     San Martín 452  37.327089  59.138667   3.838710   \n",
       "2           4      Rodriguez 552  37.326948  59.136471  10.631579   \n",
       "3           5     9 de Julio 441  37.327848  59.134263   7.968992   \n",
       "4           6  General Pinto 759  37.326729  59.133841   8.025641   \n",
       "..        ...                ...        ...        ...        ...   \n",
       "90         95     Av. España 526  37.323080  59.139754   2.111111   \n",
       "91         96     Av. España 624  37.322587  59.138458   2.560976   \n",
       "92         97     Av. España 774  37.321779  59.136397   3.870370   \n",
       "93         98     Av. España 864  37.321280  59.135033   3.035088   \n",
       "94         99     Av. España 970  37.320679  59.133484   2.285714   \n",
       "\n",
       "    ocupacion_max  \n",
       "0              18  \n",
       "1              12  \n",
       "2              22  \n",
       "3              19  \n",
       "4              20  \n",
       "..            ...  \n",
       "90              7  \n",
       "91              5  \n",
       "92             10  \n",
       "93             10  \n",
       "94              5  \n",
       "\n",
       "[95 rows x 6 columns]"
      ]
     },
     "execution_count": 106,
     "metadata": {},
     "output_type": "execute_result"
    }
   ],
   "source": [
    "#Usa data y hour nada mas\n",
    "scatter_data = data.copy()[['id_cuadra', 'direccion', 'fecha_hora','ocupacion', 'ocupacion_max']]\n",
    "scatter_data = scatter_data.merge(pd.read_csv(r'C:\\Users\\ing_l\\Tesis grado\\Data\\Extra_data\\idcuadra_to_coordenadas.csv'))\n",
    "scatter_data = scatter_data.merge(pd.read_csv(r'C:\\Users\\ing_l\\Tesis grado\\Data\\Extra_data\\idcuadra_to_direccion.csv'))\n",
    "\n",
    "scatter_data['hora'] = scatter_data['fecha_hora'].apply(lambda x: pd.Timestamp(x).time().hour)\n",
    "scatter_data = scatter_data.loc[scatter_data['hora'] == hour]\n",
    "scatter_data = scatter_data.groupby(by=['id_cuadra','direccion']).mean().reset_index()[['id_cuadra', 'direccion', 'latitud','longitud','ocupacion']]\n",
    "\n",
    "scatter_data = scatter_data.merge(max_ocupacion[['id_cuadra', 'ocupacion_max']])\n",
    "\n",
    "scatter_data['latitud'] = scatter_data['latitud'] * -1\n",
    "scatter_data['longitud'] = scatter_data['longitud'] * -1\n",
    "scatter_data"
   ]
  },
  {
   "cell_type": "code",
   "execution_count": 126,
   "metadata": {
    "ExecuteTime": {
     "end_time": "2019-10-03T02:57:20.940601Z",
     "start_time": "2019-10-03T02:57:20.920423Z"
    }
   },
   "outputs": [],
   "source": [
    "#SON SOLO DE PRUEBA ESTOS DESPUES LOS TENGO QUE HACER BIEN TENIENDO EN CUENTA\n",
    "#LA CANTIDAD MAXIMA DE AUTOS QUE ENTRAN\n",
    "color_green_data = scatter_data['ocupacion'] <= (scatter_data['ocupacion_max'] * 1/4)\n",
    "color_yellow_data = (~color_green_data) & (scatter_data['ocupacion'] <= (scatter_data['ocupacion_max'] * 2/4))\n",
    "color_orange_data = (~color_green_data) & (~color_yellow_data) & (scatter_data['ocupacion'] <= (scatter_data['ocupacion_max'] * 3/4))\n",
    "color_red_data = (~color_green_data) & (~color_yellow_data) & (~color_orange_data)\n",
    "\n",
    "color_data = pd.DataFrame(index=scatter_data.index.values, columns=['color'])\n",
    "color_data[color_green_data] = 'green'\n",
    "color_data[color_yellow_data] = 'yellow'\n",
    "color_data[color_orange_data] = 'orange'\n",
    "color_data[color_red_data] = 'red'\n",
    "\n",
    "color_list = []\n",
    "for c in color_data.values:\n",
    "    color_list.append(c[0])\n",
    "\n",
    "color_data = color_list"
   ]
  },
  {
   "cell_type": "code",
   "execution_count": 127,
   "metadata": {
    "ExecuteTime": {
     "end_time": "2019-10-03T02:57:22.814761Z",
     "start_time": "2019-10-03T02:57:22.518907Z"
    }
   },
   "outputs": [
    {
     "data": {
      "text/plain": [
       "<matplotlib.axes._subplots.AxesSubplot at 0x130f98cf198>"
      ]
     },
     "execution_count": 127,
     "metadata": {},
     "output_type": "execute_result"
    },
    {
     "data": {
      "image/png": "[encoded data removed]",
      "text/plain": [
       "<Figure size 864x288 with 1 Axes>"
      ]
     },
     "metadata": {
      "needs_background": "light"
     },
     "output_type": "display_data"
    }
   ],
   "source": [
    "scatter_data.plot.scatter(x='latitud',y='longitud', c=color_data)"
   ]
  },
  {
   "cell_type": "markdown",
   "metadata": {},
   "source": [
    "# This is what i've done to correct date mistake in the original (v0) csv"
   ]
  },
  {
   "cell_type": "code",
   "execution_count": 31,
   "metadata": {
    "ExecuteTime": {
     "end_time": "2019-10-03T01:50:56.503371Z",
     "start_time": "2019-10-03T01:50:56.495244Z"
    }
   },
   "outputs": [
    {
     "data": {
      "text/plain": [
       "'SUMO_data = pd.read_csv(data_w_operacion_path)\\nSUMO_data'"
      ]
     },
     "execution_count": 31,
     "metadata": {},
     "output_type": "execute_result"
    }
   ],
   "source": [
    "'''SUMO_data = pd.read_csv(data_w_operacion_path)\n",
    "SUMO_data'''"
   ]
  },
  {
   "cell_type": "code",
   "execution_count": 32,
   "metadata": {
    "ExecuteTime": {
     "end_time": "2019-10-03T01:50:56.518318Z",
     "start_time": "2019-10-03T01:50:56.506385Z"
    }
   },
   "outputs": [
    {
     "data": {
      "text/plain": [
       "\"SUMO_data['fecha'] = SUMO_data['fecha_tiempo'].apply(lambda x: pd.Timestamp(x).date())\\nSUMO_data['hora'] = SUMO_data['fecha_tiempo'].apply(lambda x: pd.Timestamp(x).time())\\nSUMO_data.loc[SUMO_data.fecha == pd.Timestamp('2019-11-09').date(),'fecha_tiempo'] = SUMO_data.loc[SUMO_data.fecha == pd.Timestamp('2019-11-09').date(), 'hora'].apply(lambda x: pd.Timestamp.combine(pd.Timestamp(year=2019, month=9, day=11), x))\\nSUMO_data.loc[SUMO_data.fecha == pd.Timestamp('2019-12-09').date(),'fecha_tiempo'] = SUMO_data.loc[SUMO_data.fecha == pd.Timestamp('2019-12-09').date(), 'hora'].apply(lambda x: pd.Timestamp.combine(pd.Timestamp(year=2019, month=9, day=12), x))\\nSUMO_data.drop(['fecha','hora'], axis=1, inplace=True)\\nSUMO_data['fecha_tiempo'] = SUMO_data['fecha_tiempo'].apply(lambda x: pd.Timestamp(x))\\nSUMO_data\""
      ]
     },
     "execution_count": 32,
     "metadata": {},
     "output_type": "execute_result"
    }
   ],
   "source": [
    "'''SUMO_data['fecha'] = SUMO_data['fecha_tiempo'].apply(lambda x: pd.Timestamp(x).date())\n",
    "SUMO_data['hora'] = SUMO_data['fecha_tiempo'].apply(lambda x: pd.Timestamp(x).time())\n",
    "SUMO_data.loc[SUMO_data.fecha == pd.Timestamp('2019-11-09').date(),'fecha_tiempo'] = SUMO_data.loc[SUMO_data.fecha == pd.Timestamp('2019-11-09').date(), 'hora'].apply(lambda x: pd.Timestamp.combine(pd.Timestamp(year=2019, month=9, day=11), x))\n",
    "SUMO_data.loc[SUMO_data.fecha == pd.Timestamp('2019-12-09').date(),'fecha_tiempo'] = SUMO_data.loc[SUMO_data.fecha == pd.Timestamp('2019-12-09').date(), 'hora'].apply(lambda x: pd.Timestamp.combine(pd.Timestamp(year=2019, month=9, day=12), x))\n",
    "SUMO_data.drop(['fecha','hora'], axis=1, inplace=True)\n",
    "SUMO_data['fecha_tiempo'] = SUMO_data['fecha_tiempo'].apply(lambda x: pd.Timestamp(x))\n",
    "SUMO_data'''"
   ]
  },
  {
   "cell_type": "code",
   "execution_count": 33,
   "metadata": {
    "ExecuteTime": {
     "end_time": "2019-10-03T01:50:56.530972Z",
     "start_time": "2019-10-03T01:50:56.521288Z"
    }
   },
   "outputs": [],
   "source": [
    "#SUMO_data.to_csv(data_w_operacion_path,index=False)"
   ]
  },
  {
   "cell_type": "markdown",
   "metadata": {},
   "source": [
    "."
   ]
  },
  {
   "cell_type": "markdown",
   "metadata": {},
   "source": [
    "."
   ]
  },
  {
   "cell_type": "markdown",
   "metadata": {},
   "source": [
    "."
   ]
  },
  {
   "cell_type": "markdown",
   "metadata": {},
   "source": [
    "."
   ]
  },
  {
   "cell_type": "markdown",
   "metadata": {},
   "source": [
    "."
   ]
  },
  {
   "cell_type": "markdown",
   "metadata": {},
   "source": [
    "."
   ]
  },
  {
   "cell_type": "markdown",
   "metadata": {},
   "source": [
    "# Just ouputs"
   ]
  },
  {
   "cell_type": "markdown",
   "metadata": {},
   "source": [
    "## Ocupation per street"
   ]
  },
  {
   "cell_type": "markdown",
   "metadata": {},
   "source": [
    "### Top 10 ocupped streets"
   ]
  },
  {
   "cell_type": "code",
   "execution_count": 34,
   "metadata": {
    "ExecuteTime": {
     "end_time": "2019-10-03T01:50:56.553338Z",
     "start_time": "2019-10-03T01:50:56.533753Z"
    }
   },
   "outputs": [
    {
     "data": {
      "text/html": [
       "<div>\n",
       "<style scoped>\n",
       "    .dataframe tbody tr th:only-of-type {\n",
       "        vertical-align: middle;\n",
       "    }\n",
       "\n",
       "    .dataframe tbody tr th {\n",
       "        vertical-align: top;\n",
       "    }\n",
       "\n",
       "    .dataframe thead th {\n",
       "        text-align: right;\n",
       "    }\n",
       "</style>\n",
       "<table border=\"1\" class=\"dataframe\">\n",
       "  <thead>\n",
       "    <tr style=\"text-align: right;\">\n",
       "      <th></th>\n",
       "      <th>id_cuadra</th>\n",
       "      <th>direccion</th>\n",
       "      <th>ocupacion_max</th>\n",
       "      <th>lugares_cuadra</th>\n",
       "    </tr>\n",
       "  </thead>\n",
       "  <tbody>\n",
       "    <tr>\n",
       "      <td>0</td>\n",
       "      <td>59</td>\n",
       "      <td>Yrigoyen 655</td>\n",
       "      <td>32</td>\n",
       "      <td>48.0</td>\n",
       "    </tr>\n",
       "    <tr>\n",
       "      <td>1</td>\n",
       "      <td>32</td>\n",
       "      <td>Sarmiento 453</td>\n",
       "      <td>27</td>\n",
       "      <td>27.0</td>\n",
       "    </tr>\n",
       "    <tr>\n",
       "      <td>2</td>\n",
       "      <td>14</td>\n",
       "      <td>Rodriguez 464</td>\n",
       "      <td>27</td>\n",
       "      <td>30.0</td>\n",
       "    </tr>\n",
       "    <tr>\n",
       "      <td>3</td>\n",
       "      <td>33</td>\n",
       "      <td>Sarmiento 755</td>\n",
       "      <td>23</td>\n",
       "      <td>32.0</td>\n",
       "    </tr>\n",
       "    <tr>\n",
       "      <td>4</td>\n",
       "      <td>75</td>\n",
       "      <td>Maipu 333</td>\n",
       "      <td>23</td>\n",
       "      <td>31.0</td>\n",
       "    </tr>\n",
       "    <tr>\n",
       "      <td>5</td>\n",
       "      <td>13</td>\n",
       "      <td>General Pinto 343</td>\n",
       "      <td>22</td>\n",
       "      <td>27.0</td>\n",
       "    </tr>\n",
       "    <tr>\n",
       "      <td>6</td>\n",
       "      <td>11</td>\n",
       "      <td>San Martín 658</td>\n",
       "      <td>22</td>\n",
       "      <td>30.0</td>\n",
       "    </tr>\n",
       "    <tr>\n",
       "      <td>7</td>\n",
       "      <td>4</td>\n",
       "      <td>Rodriguez 552</td>\n",
       "      <td>22</td>\n",
       "      <td>28.0</td>\n",
       "    </tr>\n",
       "    <tr>\n",
       "      <td>8</td>\n",
       "      <td>12</td>\n",
       "      <td>Belgrano 480</td>\n",
       "      <td>21</td>\n",
       "      <td>25.0</td>\n",
       "    </tr>\n",
       "    <tr>\n",
       "      <td>9</td>\n",
       "      <td>80</td>\n",
       "      <td>General Paz 447</td>\n",
       "      <td>21</td>\n",
       "      <td>36.0</td>\n",
       "    </tr>\n",
       "  </tbody>\n",
       "</table>\n",
       "</div>"
      ],
      "text/plain": [
       "   id_cuadra          direccion  ocupacion_max  lugares_cuadra\n",
       "0         59       Yrigoyen 655             32            48.0\n",
       "1         32      Sarmiento 453             27            27.0\n",
       "2         14      Rodriguez 464             27            30.0\n",
       "3         33      Sarmiento 755             23            32.0\n",
       "4         75          Maipu 333             23            31.0\n",
       "5         13  General Pinto 343             22            27.0\n",
       "6         11     San Martín 658             22            30.0\n",
       "7          4      Rodriguez 552             22            28.0\n",
       "8         12       Belgrano 480             21            25.0\n",
       "9         80    General Paz 447             21            36.0"
      ]
     },
     "metadata": {},
     "output_type": "display_data"
    }
   ],
   "source": [
    "display(max_max_ocupacion)"
   ]
  },
  {
   "cell_type": "markdown",
   "metadata": {},
   "source": [
    "### Top 10 less ocupped streets"
   ]
  },
  {
   "cell_type": "code",
   "execution_count": 35,
   "metadata": {
    "ExecuteTime": {
     "end_time": "2019-10-03T01:50:56.575491Z",
     "start_time": "2019-10-03T01:50:56.556834Z"
    }
   },
   "outputs": [
    {
     "data": {
      "text/html": [
       "<div>\n",
       "<style scoped>\n",
       "    .dataframe tbody tr th:only-of-type {\n",
       "        vertical-align: middle;\n",
       "    }\n",
       "\n",
       "    .dataframe tbody tr th {\n",
       "        vertical-align: top;\n",
       "    }\n",
       "\n",
       "    .dataframe thead th {\n",
       "        text-align: right;\n",
       "    }\n",
       "</style>\n",
       "<table border=\"1\" class=\"dataframe\">\n",
       "  <thead>\n",
       "    <tr style=\"text-align: right;\">\n",
       "      <th></th>\n",
       "      <th>id_cuadra</th>\n",
       "      <th>direccion</th>\n",
       "      <th>ocupacion_max</th>\n",
       "      <th>lugares_cuadra</th>\n",
       "    </tr>\n",
       "  </thead>\n",
       "  <tbody>\n",
       "    <tr>\n",
       "      <td>0</td>\n",
       "      <td>92</td>\n",
       "      <td>Tribunal de Faltas</td>\n",
       "      <td>1</td>\n",
       "      <td>NaN</td>\n",
       "    </tr>\n",
       "    <tr>\n",
       "      <td>1</td>\n",
       "      <td>94</td>\n",
       "      <td>Av. España 436</td>\n",
       "      <td>4</td>\n",
       "      <td>NaN</td>\n",
       "    </tr>\n",
       "    <tr>\n",
       "      <td>2</td>\n",
       "      <td>93</td>\n",
       "      <td>Av. España 352</td>\n",
       "      <td>4</td>\n",
       "      <td>NaN</td>\n",
       "    </tr>\n",
       "    <tr>\n",
       "      <td>3</td>\n",
       "      <td>99</td>\n",
       "      <td>Av. España 970</td>\n",
       "      <td>5</td>\n",
       "      <td>NaN</td>\n",
       "    </tr>\n",
       "    <tr>\n",
       "      <td>4</td>\n",
       "      <td>85</td>\n",
       "      <td>Av. España 359</td>\n",
       "      <td>5</td>\n",
       "      <td>7.0</td>\n",
       "    </tr>\n",
       "    <tr>\n",
       "      <td>5</td>\n",
       "      <td>78</td>\n",
       "      <td>Maipu 953</td>\n",
       "      <td>5</td>\n",
       "      <td>14.0</td>\n",
       "    </tr>\n",
       "    <tr>\n",
       "      <td>6</td>\n",
       "      <td>96</td>\n",
       "      <td>Av. España 624</td>\n",
       "      <td>5</td>\n",
       "      <td>NaN</td>\n",
       "    </tr>\n",
       "    <tr>\n",
       "      <td>7</td>\n",
       "      <td>77</td>\n",
       "      <td>Maipu 857</td>\n",
       "      <td>6</td>\n",
       "      <td>15.0</td>\n",
       "    </tr>\n",
       "    <tr>\n",
       "      <td>8</td>\n",
       "      <td>25</td>\n",
       "      <td>Belgrano 958</td>\n",
       "      <td>6</td>\n",
       "      <td>13.0</td>\n",
       "    </tr>\n",
       "    <tr>\n",
       "      <td>9</td>\n",
       "      <td>69</td>\n",
       "      <td>14 de Julio 657</td>\n",
       "      <td>7</td>\n",
       "      <td>10.0</td>\n",
       "    </tr>\n",
       "  </tbody>\n",
       "</table>\n",
       "</div>"
      ],
      "text/plain": [
       "   id_cuadra           direccion  ocupacion_max  lugares_cuadra\n",
       "0         92  Tribunal de Faltas              1             NaN\n",
       "1         94      Av. España 436              4             NaN\n",
       "2         93      Av. España 352              4             NaN\n",
       "3         99      Av. España 970              5             NaN\n",
       "4         85      Av. España 359              5             7.0\n",
       "5         78           Maipu 953              5            14.0\n",
       "6         96      Av. España 624              5             NaN\n",
       "7         77           Maipu 857              6            15.0\n",
       "8         25        Belgrano 958              6            13.0\n",
       "9         69     14 de Julio 657              7            10.0"
      ]
     },
     "metadata": {},
     "output_type": "display_data"
    }
   ],
   "source": [
    "display(less_max_ocupacion)"
   ]
  },
  {
   "cell_type": "markdown",
   "metadata": {},
   "source": [
    "## Traffic per street (how much input-outputs)"
   ]
  },
  {
   "cell_type": "code",
   "execution_count": 36,
   "metadata": {
    "ExecuteTime": {
     "end_time": "2019-10-03T01:50:56.601114Z",
     "start_time": "2019-10-03T01:50:56.578534Z"
    }
   },
   "outputs": [
    {
     "data": {
      "text/html": [
       "<div>\n",
       "<style scoped>\n",
       "    .dataframe tbody tr th:only-of-type {\n",
       "        vertical-align: middle;\n",
       "    }\n",
       "\n",
       "    .dataframe tbody tr th {\n",
       "        vertical-align: top;\n",
       "    }\n",
       "\n",
       "    .dataframe thead th {\n",
       "        text-align: right;\n",
       "    }\n",
       "</style>\n",
       "<table border=\"1\" class=\"dataframe\">\n",
       "  <thead>\n",
       "    <tr style=\"text-align: right;\">\n",
       "      <th></th>\n",
       "      <th>id_cuadra</th>\n",
       "      <th>direccion</th>\n",
       "      <th>in-outs</th>\n",
       "    </tr>\n",
       "  </thead>\n",
       "  <tbody>\n",
       "    <tr>\n",
       "      <td>0</td>\n",
       "      <td>92</td>\n",
       "      <td>Tribunal de Faltas</td>\n",
       "      <td>7</td>\n",
       "    </tr>\n",
       "    <tr>\n",
       "      <td>1</td>\n",
       "      <td>93</td>\n",
       "      <td>Av. España 352</td>\n",
       "      <td>82</td>\n",
       "    </tr>\n",
       "    <tr>\n",
       "      <td>2</td>\n",
       "      <td>95</td>\n",
       "      <td>Av. España 526</td>\n",
       "      <td>118</td>\n",
       "    </tr>\n",
       "    <tr>\n",
       "      <td>3</td>\n",
       "      <td>94</td>\n",
       "      <td>Av. España 436</td>\n",
       "      <td>123</td>\n",
       "    </tr>\n",
       "    <tr>\n",
       "      <td>4</td>\n",
       "      <td>85</td>\n",
       "      <td>Av. España 359</td>\n",
       "      <td>143</td>\n",
       "    </tr>\n",
       "    <tr>\n",
       "      <td>5</td>\n",
       "      <td>77</td>\n",
       "      <td>Maipu 857</td>\n",
       "      <td>153</td>\n",
       "    </tr>\n",
       "    <tr>\n",
       "      <td>6</td>\n",
       "      <td>71</td>\n",
       "      <td>14 de Julio 847</td>\n",
       "      <td>161</td>\n",
       "    </tr>\n",
       "    <tr>\n",
       "      <td>7</td>\n",
       "      <td>78</td>\n",
       "      <td>Maipu 953</td>\n",
       "      <td>181</td>\n",
       "    </tr>\n",
       "    <tr>\n",
       "      <td>8</td>\n",
       "      <td>79</td>\n",
       "      <td>General Paz 347</td>\n",
       "      <td>217</td>\n",
       "    </tr>\n",
       "    <tr>\n",
       "      <td>9</td>\n",
       "      <td>24</td>\n",
       "      <td>Belgrano 868</td>\n",
       "      <td>218</td>\n",
       "    </tr>\n",
       "  </tbody>\n",
       "</table>\n",
       "</div>"
      ],
      "text/plain": [
       "   id_cuadra           direccion  in-outs\n",
       "0         92  Tribunal de Faltas        7\n",
       "1         93      Av. España 352       82\n",
       "2         95      Av. España 526      118\n",
       "3         94      Av. España 436      123\n",
       "4         85      Av. España 359      143\n",
       "5         77           Maipu 857      153\n",
       "6         71     14 de Julio 847      161\n",
       "7         78           Maipu 953      181\n",
       "8         79     General Paz 347      217\n",
       "9         24        Belgrano 868      218"
      ]
     },
     "metadata": {},
     "output_type": "display_data"
    },
    {
     "data": {
      "text/html": [
       "<div>\n",
       "<style scoped>\n",
       "    .dataframe tbody tr th:only-of-type {\n",
       "        vertical-align: middle;\n",
       "    }\n",
       "\n",
       "    .dataframe tbody tr th {\n",
       "        vertical-align: top;\n",
       "    }\n",
       "\n",
       "    .dataframe thead th {\n",
       "        text-align: right;\n",
       "    }\n",
       "</style>\n",
       "<table border=\"1\" class=\"dataframe\">\n",
       "  <thead>\n",
       "    <tr style=\"text-align: right;\">\n",
       "      <th></th>\n",
       "      <th>id_cuadra</th>\n",
       "      <th>direccion</th>\n",
       "      <th>in-outs</th>\n",
       "    </tr>\n",
       "  </thead>\n",
       "  <tbody>\n",
       "    <tr>\n",
       "      <td>0</td>\n",
       "      <td>59</td>\n",
       "      <td>Yrigoyen 655</td>\n",
       "      <td>1331</td>\n",
       "    </tr>\n",
       "    <tr>\n",
       "      <td>1</td>\n",
       "      <td>11</td>\n",
       "      <td>San Martín 658</td>\n",
       "      <td>1280</td>\n",
       "    </tr>\n",
       "    <tr>\n",
       "      <td>2</td>\n",
       "      <td>6</td>\n",
       "      <td>General Pinto 759</td>\n",
       "      <td>1219</td>\n",
       "    </tr>\n",
       "    <tr>\n",
       "      <td>3</td>\n",
       "      <td>4</td>\n",
       "      <td>Rodriguez 552</td>\n",
       "      <td>1173</td>\n",
       "    </tr>\n",
       "    <tr>\n",
       "      <td>4</td>\n",
       "      <td>45</td>\n",
       "      <td>Alem 480</td>\n",
       "      <td>1154</td>\n",
       "    </tr>\n",
       "    <tr>\n",
       "      <td>5</td>\n",
       "      <td>46</td>\n",
       "      <td>Alem 556</td>\n",
       "      <td>1091</td>\n",
       "    </tr>\n",
       "    <tr>\n",
       "      <td>6</td>\n",
       "      <td>5</td>\n",
       "      <td>9 de Julio 441</td>\n",
       "      <td>1079</td>\n",
       "    </tr>\n",
       "    <tr>\n",
       "      <td>7</td>\n",
       "      <td>33</td>\n",
       "      <td>Sarmiento 755</td>\n",
       "      <td>1057</td>\n",
       "    </tr>\n",
       "    <tr>\n",
       "      <td>8</td>\n",
       "      <td>22</td>\n",
       "      <td>Belgrano 768</td>\n",
       "      <td>1043</td>\n",
       "    </tr>\n",
       "    <tr>\n",
       "      <td>9</td>\n",
       "      <td>10</td>\n",
       "      <td>Rodriguez 654</td>\n",
       "      <td>1031</td>\n",
       "    </tr>\n",
       "  </tbody>\n",
       "</table>\n",
       "</div>"
      ],
      "text/plain": [
       "   id_cuadra          direccion  in-outs\n",
       "0         59       Yrigoyen 655     1331\n",
       "1         11     San Martín 658     1280\n",
       "2          6  General Pinto 759     1219\n",
       "3          4      Rodriguez 552     1173\n",
       "4         45           Alem 480     1154\n",
       "5         46           Alem 556     1091\n",
       "6          5     9 de Julio 441     1079\n",
       "7         33      Sarmiento 755     1057\n",
       "8         22       Belgrano 768     1043\n",
       "9         10      Rodriguez 654     1031"
      ]
     },
     "metadata": {},
     "output_type": "display_data"
    }
   ],
   "source": [
    "display(min_traffic)\n",
    "display(max_traffic)"
   ]
  },
  {
   "cell_type": "markdown",
   "metadata": {},
   "source": [
    "## Ocupation for a designated street along the day"
   ]
  },
  {
   "cell_type": "markdown",
   "metadata": {},
   "source": [
    "### Graph for designated date"
   ]
  },
  {
   "cell_type": "code",
   "execution_count": 37,
   "metadata": {
    "ExecuteTime": {
     "end_time": "2019-10-03T01:50:57.139986Z",
     "start_time": "2019-10-03T01:50:56.602574Z"
    }
   },
   "outputs": [
    {
     "data": {
      "image/png": "[encoded data removed]",
      "text/plain": [
       "<Figure size 864x288 with 1 Axes>"
      ]
     },
     "metadata": {
      "needs_background": "light"
     },
     "output_type": "display_data"
    }
   ],
   "source": [
    "plot_line_graph(plot_data, date, max_ocup=max_ocup)"
   ]
  },
  {
   "cell_type": "markdown",
   "metadata": {},
   "source": [
    "### Graph for the date with max mean of parked cars"
   ]
  },
  {
   "cell_type": "code",
   "execution_count": 38,
   "metadata": {
    "ExecuteTime": {
     "end_time": "2019-10-03T01:50:57.702822Z",
     "start_time": "2019-10-03T01:50:57.141978Z"
    }
   },
   "outputs": [
    {
     "data": {
      "image/png": "[encoded data removed]",
      "text/plain": [
       "<Figure size 864x288 with 1 Axes>"
      ]
     },
     "metadata": {
      "needs_background": "light"
     },
     "output_type": "display_data"
    }
   ],
   "source": [
    "plot_line_graph(plot_data, date_max_mean, max_ocup=max_ocup, name='Max mean', color='r')"
   ]
  },
  {
   "cell_type": "markdown",
   "metadata": {},
   "source": [
    "### Graph for the date with min mean of parked cars"
   ]
  },
  {
   "cell_type": "code",
   "execution_count": 39,
   "metadata": {
    "ExecuteTime": {
     "end_time": "2019-10-03T01:50:57.710858Z",
     "start_time": "2019-10-03T01:50:57.705575Z"
    }
   },
   "outputs": [
    {
     "name": "stdout",
     "output_type": "stream",
     "text": [
      "Not min founded so there is no graph to be plotted. Try changing min_quantity value in search_min\n"
     ]
    }
   ],
   "source": [
    "if date_min_mean is not None:\n",
    "    plot_line_graph(plot_data, date_min_mean, max_ocup=max_ocup, name='Min mean', color='g')\n",
    "else:\n",
    "    print('Not min founded so there is no graph to be plotted. Try changing min_quantity value in search_min')"
   ]
  },
  {
   "cell_type": "markdown",
   "metadata": {},
   "source": [
    "## In-outs per hour on each street"
   ]
  },
  {
   "cell_type": "code",
   "execution_count": 40,
   "metadata": {
    "ExecuteTime": {
     "end_time": "2019-10-03T01:50:57.741723Z",
     "start_time": "2019-10-03T01:50:57.713850Z"
    }
   },
   "outputs": [
    {
     "data": {
      "text/html": [
       "<div>\n",
       "<style scoped>\n",
       "    .dataframe tbody tr th:only-of-type {\n",
       "        vertical-align: middle;\n",
       "    }\n",
       "\n",
       "    .dataframe tbody tr th {\n",
       "        vertical-align: top;\n",
       "    }\n",
       "\n",
       "    .dataframe thead th {\n",
       "        text-align: right;\n",
       "    }\n",
       "</style>\n",
       "<table border=\"1\" class=\"dataframe\">\n",
       "  <thead>\n",
       "    <tr style=\"text-align: right;\">\n",
       "      <th></th>\n",
       "      <th>id_cuadra</th>\n",
       "      <th>hora</th>\n",
       "      <th>entradas</th>\n",
       "      <th>salidas</th>\n",
       "      <th>in - out</th>\n",
       "    </tr>\n",
       "  </thead>\n",
       "  <tbody>\n",
       "    <tr>\n",
       "      <td>0</td>\n",
       "      <td>2</td>\n",
       "      <td>7</td>\n",
       "      <td>1.000000</td>\n",
       "      <td>0.000000</td>\n",
       "      <td>1.000000</td>\n",
       "    </tr>\n",
       "    <tr>\n",
       "      <td>1</td>\n",
       "      <td>2</td>\n",
       "      <td>8</td>\n",
       "      <td>1.666667</td>\n",
       "      <td>1.000000</td>\n",
       "      <td>0.666667</td>\n",
       "    </tr>\n",
       "    <tr>\n",
       "      <td>2</td>\n",
       "      <td>2</td>\n",
       "      <td>9</td>\n",
       "      <td>5.333333</td>\n",
       "      <td>2.000000</td>\n",
       "      <td>3.333333</td>\n",
       "    </tr>\n",
       "    <tr>\n",
       "      <td>3</td>\n",
       "      <td>2</td>\n",
       "      <td>10</td>\n",
       "      <td>7.800000</td>\n",
       "      <td>3.500000</td>\n",
       "      <td>4.300000</td>\n",
       "    </tr>\n",
       "    <tr>\n",
       "      <td>4</td>\n",
       "      <td>2</td>\n",
       "      <td>11</td>\n",
       "      <td>4.777778</td>\n",
       "      <td>5.777778</td>\n",
       "      <td>-1.000000</td>\n",
       "    </tr>\n",
       "    <tr>\n",
       "      <td>...</td>\n",
       "      <td>...</td>\n",
       "      <td>...</td>\n",
       "      <td>...</td>\n",
       "      <td>...</td>\n",
       "      <td>...</td>\n",
       "    </tr>\n",
       "    <tr>\n",
       "      <td>1510</td>\n",
       "      <td>98</td>\n",
       "      <td>20</td>\n",
       "      <td>0.000000</td>\n",
       "      <td>2.125000</td>\n",
       "      <td>-2.125000</td>\n",
       "    </tr>\n",
       "    <tr>\n",
       "      <td>1511</td>\n",
       "      <td>98</td>\n",
       "      <td>21</td>\n",
       "      <td>0.000000</td>\n",
       "      <td>1.750000</td>\n",
       "      <td>-1.750000</td>\n",
       "    </tr>\n",
       "    <tr>\n",
       "      <td>1512</td>\n",
       "      <td>98</td>\n",
       "      <td>23</td>\n",
       "      <td>0.000000</td>\n",
       "      <td>1.000000</td>\n",
       "      <td>-1.000000</td>\n",
       "    </tr>\n",
       "    <tr>\n",
       "      <td>1513</td>\n",
       "      <td>99</td>\n",
       "      <td>0</td>\n",
       "      <td>0.000000</td>\n",
       "      <td>1.333333</td>\n",
       "      <td>-1.333333</td>\n",
       "    </tr>\n",
       "    <tr>\n",
       "      <td>1514</td>\n",
       "      <td>99</td>\n",
       "      <td>20</td>\n",
       "      <td>0.000000</td>\n",
       "      <td>1.400000</td>\n",
       "      <td>-1.400000</td>\n",
       "    </tr>\n",
       "  </tbody>\n",
       "</table>\n",
       "<p>1515 rows × 5 columns</p>\n",
       "</div>"
      ],
      "text/plain": [
       "      id_cuadra  hora  entradas   salidas  in - out\n",
       "0             2     7  1.000000  0.000000  1.000000\n",
       "1             2     8  1.666667  1.000000  0.666667\n",
       "2             2     9  5.333333  2.000000  3.333333\n",
       "3             2    10  7.800000  3.500000  4.300000\n",
       "4             2    11  4.777778  5.777778 -1.000000\n",
       "...         ...   ...       ...       ...       ...\n",
       "1510         98    20  0.000000  2.125000 -2.125000\n",
       "1511         98    21  0.000000  1.750000 -1.750000\n",
       "1512         98    23  0.000000  1.000000 -1.000000\n",
       "1513         99     0  0.000000  1.333333 -1.333333\n",
       "1514         99    20  0.000000  1.400000 -1.400000\n",
       "\n",
       "[1515 rows x 5 columns]"
      ]
     },
     "metadata": {},
     "output_type": "display_data"
    }
   ],
   "source": [
    "'''\n",
    "in-out > 0: more entradas than salidas\n",
    "in-out < 0: more salidas than entradas\n",
    "'''\n",
    "display(in_out_per_hour)"
   ]
  },
  {
   "cell_type": "markdown",
   "metadata": {},
   "source": [
    "## In-outs per hour on designated street"
   ]
  },
  {
   "cell_type": "code",
   "execution_count": 41,
   "metadata": {
    "ExecuteTime": {
     "end_time": "2019-10-03T01:50:57.755493Z",
     "start_time": "2019-10-03T01:50:57.743525Z"
    }
   },
   "outputs": [
    {
     "name": "stdout",
     "output_type": "stream",
     "text": [
      "General Pinto 545\n"
     ]
    }
   ],
   "source": [
    "'''\n",
    "in-out > 0: more entradas than salidas\n",
    "in-out < 0: more salidas than entradas\n",
    "'''\n",
    "print(data.loc[data.id_cuadra == street, 'direccion'].iloc[0])"
   ]
  },
  {
   "cell_type": "code",
   "execution_count": 42,
   "metadata": {
    "ExecuteTime": {
     "end_time": "2019-10-03T01:50:57.785567Z",
     "start_time": "2019-10-03T01:50:57.757488Z"
    }
   },
   "outputs": [
    {
     "data": {
      "text/html": [
       "<div>\n",
       "<style scoped>\n",
       "    .dataframe tbody tr th:only-of-type {\n",
       "        vertical-align: middle;\n",
       "    }\n",
       "\n",
       "    .dataframe tbody tr th {\n",
       "        vertical-align: top;\n",
       "    }\n",
       "\n",
       "    .dataframe thead th {\n",
       "        text-align: right;\n",
       "    }\n",
       "</style>\n",
       "<table border=\"1\" class=\"dataframe\">\n",
       "  <thead>\n",
       "    <tr style=\"text-align: right;\">\n",
       "      <th></th>\n",
       "      <th>hora</th>\n",
       "      <th>in - out</th>\n",
       "    </tr>\n",
       "  </thead>\n",
       "  <tbody>\n",
       "    <tr>\n",
       "      <td>0</td>\n",
       "      <td>7</td>\n",
       "      <td>1.000000</td>\n",
       "    </tr>\n",
       "    <tr>\n",
       "      <td>1</td>\n",
       "      <td>8</td>\n",
       "      <td>0.666667</td>\n",
       "    </tr>\n",
       "    <tr>\n",
       "      <td>2</td>\n",
       "      <td>9</td>\n",
       "      <td>3.333333</td>\n",
       "    </tr>\n",
       "    <tr>\n",
       "      <td>3</td>\n",
       "      <td>10</td>\n",
       "      <td>4.300000</td>\n",
       "    </tr>\n",
       "    <tr>\n",
       "      <td>4</td>\n",
       "      <td>11</td>\n",
       "      <td>-1.000000</td>\n",
       "    </tr>\n",
       "    <tr>\n",
       "      <td>5</td>\n",
       "      <td>12</td>\n",
       "      <td>0.000000</td>\n",
       "    </tr>\n",
       "    <tr>\n",
       "      <td>6</td>\n",
       "      <td>13</td>\n",
       "      <td>0.725000</td>\n",
       "    </tr>\n",
       "    <tr>\n",
       "      <td>7</td>\n",
       "      <td>14</td>\n",
       "      <td>-0.402778</td>\n",
       "    </tr>\n",
       "    <tr>\n",
       "      <td>8</td>\n",
       "      <td>15</td>\n",
       "      <td>-2.041667</td>\n",
       "    </tr>\n",
       "    <tr>\n",
       "      <td>9</td>\n",
       "      <td>16</td>\n",
       "      <td>1.055556</td>\n",
       "    </tr>\n",
       "    <tr>\n",
       "      <td>10</td>\n",
       "      <td>17</td>\n",
       "      <td>1.122222</td>\n",
       "    </tr>\n",
       "    <tr>\n",
       "      <td>11</td>\n",
       "      <td>18</td>\n",
       "      <td>2.022222</td>\n",
       "    </tr>\n",
       "    <tr>\n",
       "      <td>12</td>\n",
       "      <td>19</td>\n",
       "      <td>-2.333333</td>\n",
       "    </tr>\n",
       "    <tr>\n",
       "      <td>13</td>\n",
       "      <td>20</td>\n",
       "      <td>-2.333333</td>\n",
       "    </tr>\n",
       "    <tr>\n",
       "      <td>14</td>\n",
       "      <td>0</td>\n",
       "      <td>-2.000000</td>\n",
       "    </tr>\n",
       "    <tr>\n",
       "      <td>15</td>\n",
       "      <td>21</td>\n",
       "      <td>-1.000000</td>\n",
       "    </tr>\n",
       "    <tr>\n",
       "      <td>16</td>\n",
       "      <td>22</td>\n",
       "      <td>-1.000000</td>\n",
       "    </tr>\n",
       "  </tbody>\n",
       "</table>\n",
       "</div>"
      ],
      "text/plain": [
       "    hora  in - out\n",
       "0      7  1.000000\n",
       "1      8  0.666667\n",
       "2      9  3.333333\n",
       "3     10  4.300000\n",
       "4     11 -1.000000\n",
       "5     12  0.000000\n",
       "6     13  0.725000\n",
       "7     14 -0.402778\n",
       "8     15 -2.041667\n",
       "9     16  1.055556\n",
       "10    17  1.122222\n",
       "11    18  2.022222\n",
       "12    19 -2.333333\n",
       "13    20 -2.333333\n",
       "14     0 -2.000000\n",
       "15    21 -1.000000\n",
       "16    22 -1.000000"
      ]
     },
     "metadata": {},
     "output_type": "display_data"
    },
    {
     "data": {
      "text/html": [
       "<div>\n",
       "<style scoped>\n",
       "    .dataframe tbody tr th:only-of-type {\n",
       "        vertical-align: middle;\n",
       "    }\n",
       "\n",
       "    .dataframe tbody tr th {\n",
       "        vertical-align: top;\n",
       "    }\n",
       "\n",
       "    .dataframe thead th {\n",
       "        text-align: right;\n",
       "    }\n",
       "</style>\n",
       "<table border=\"1\" class=\"dataframe\">\n",
       "  <thead>\n",
       "    <tr style=\"text-align: right;\">\n",
       "      <th></th>\n",
       "      <th>hora</th>\n",
       "      <th>in - out</th>\n",
       "    </tr>\n",
       "  </thead>\n",
       "  <tbody>\n",
       "    <tr>\n",
       "      <td>0</td>\n",
       "      <td>20</td>\n",
       "      <td>-2.333333</td>\n",
       "    </tr>\n",
       "    <tr>\n",
       "      <td>1</td>\n",
       "      <td>19</td>\n",
       "      <td>-2.333333</td>\n",
       "    </tr>\n",
       "    <tr>\n",
       "      <td>2</td>\n",
       "      <td>15</td>\n",
       "      <td>-2.041667</td>\n",
       "    </tr>\n",
       "    <tr>\n",
       "      <td>3</td>\n",
       "      <td>0</td>\n",
       "      <td>-2.000000</td>\n",
       "    </tr>\n",
       "    <tr>\n",
       "      <td>4</td>\n",
       "      <td>21</td>\n",
       "      <td>-1.000000</td>\n",
       "    </tr>\n",
       "    <tr>\n",
       "      <td>5</td>\n",
       "      <td>22</td>\n",
       "      <td>-1.000000</td>\n",
       "    </tr>\n",
       "    <tr>\n",
       "      <td>6</td>\n",
       "      <td>11</td>\n",
       "      <td>-1.000000</td>\n",
       "    </tr>\n",
       "    <tr>\n",
       "      <td>7</td>\n",
       "      <td>14</td>\n",
       "      <td>-0.402778</td>\n",
       "    </tr>\n",
       "    <tr>\n",
       "      <td>8</td>\n",
       "      <td>12</td>\n",
       "      <td>0.000000</td>\n",
       "    </tr>\n",
       "    <tr>\n",
       "      <td>9</td>\n",
       "      <td>8</td>\n",
       "      <td>0.666667</td>\n",
       "    </tr>\n",
       "    <tr>\n",
       "      <td>10</td>\n",
       "      <td>13</td>\n",
       "      <td>0.725000</td>\n",
       "    </tr>\n",
       "    <tr>\n",
       "      <td>11</td>\n",
       "      <td>7</td>\n",
       "      <td>1.000000</td>\n",
       "    </tr>\n",
       "    <tr>\n",
       "      <td>12</td>\n",
       "      <td>16</td>\n",
       "      <td>1.055556</td>\n",
       "    </tr>\n",
       "    <tr>\n",
       "      <td>13</td>\n",
       "      <td>17</td>\n",
       "      <td>1.122222</td>\n",
       "    </tr>\n",
       "    <tr>\n",
       "      <td>14</td>\n",
       "      <td>18</td>\n",
       "      <td>2.022222</td>\n",
       "    </tr>\n",
       "    <tr>\n",
       "      <td>15</td>\n",
       "      <td>9</td>\n",
       "      <td>3.333333</td>\n",
       "    </tr>\n",
       "    <tr>\n",
       "      <td>16</td>\n",
       "      <td>10</td>\n",
       "      <td>4.300000</td>\n",
       "    </tr>\n",
       "  </tbody>\n",
       "</table>\n",
       "</div>"
      ],
      "text/plain": [
       "    hora  in - out\n",
       "0     20 -2.333333\n",
       "1     19 -2.333333\n",
       "2     15 -2.041667\n",
       "3      0 -2.000000\n",
       "4     21 -1.000000\n",
       "5     22 -1.000000\n",
       "6     11 -1.000000\n",
       "7     14 -0.402778\n",
       "8     12  0.000000\n",
       "9      8  0.666667\n",
       "10    13  0.725000\n",
       "11     7  1.000000\n",
       "12    16  1.055556\n",
       "13    17  1.122222\n",
       "14    18  2.022222\n",
       "15     9  3.333333\n",
       "16    10  4.300000"
      ]
     },
     "metadata": {},
     "output_type": "display_data"
    }
   ],
   "source": [
    "#First we display the in-out for the designated street orderer by the hora\n",
    "display(in_out_per_hour.loc[in_out_per_hour['id_cuadra'] == street, ['hora','in - out']].reset_index(drop=True))\n",
    "\n",
    "#And at the right we will display the in-out orderer by the in-out (ascendant)\n",
    "display(in_out_per_hour.loc[in_out_per_hour['id_cuadra'] == street, ['hora','in - out']].sort_values(by='in - out').reset_index(drop=True))"
   ]
  },
  {
   "cell_type": "code",
   "execution_count": null,
   "metadata": {},
   "outputs": [],
   "source": []
  }
 ],
 "metadata": {
  "kernelspec": {
   "display_name": "Python 3",
   "language": "python",
   "name": "python3"
  },
  "language_info": {
   "codemirror_mode": {
    "name": "ipython",
    "version": 3
   },
   "file_extension": ".py",
   "mimetype": "text/x-python",
   "name": "python",
   "nbconvert_exporter": "python",
   "pygments_lexer": "ipython3",
   "version": "3.7.3"
  }
 },
 "nbformat": 4,
 "nbformat_minor": 2
}
