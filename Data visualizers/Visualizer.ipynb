{
 "cells": [
  {
   "cell_type": "code",
   "execution_count": 1,
   "metadata": {
    "ExecuteTime": {
     "end_time": "2019-09-26T15:28:42.836584Z",
     "start_time": "2019-09-26T15:28:37.680356Z"
    }
   },
   "outputs": [],
   "source": [
    "import pandas as pd\n",
    "import numpy as np\n",
    "import matplotlib as plt"
   ]
  },
  {
   "cell_type": "code",
   "execution_count": 2,
   "metadata": {
    "ExecuteTime": {
     "end_time": "2019-09-26T15:28:42.848373Z",
     "start_time": "2019-09-26T15:28:42.840486Z"
    }
   },
   "outputs": [],
   "source": [
    "r'''   \n",
    "trusted_data_w_ocupacion: *trusted_data* with actual ocupacion included.\n",
    "    path: r'C:\\Users\\ing_l\\Tesis grado\\Data\\BD_parking_trusted_data_ocupacion.csv'\n",
    "\n",
    "sumo_max_ocupacion: max ocupacion of the sumo data.\n",
    "    path: r'C:\\Users\\ing_l\\Tesis grado\\Data\\Extra_data\\SUMO_max_ocupacion.csv'\n",
    "'''\n",
    "\n",
    "trusted_data_path_w_ocupacion = r'C:\\Users\\ing_l\\Tesis grado\\Data\\BD_parking_trusted_data_ocupacion.csv'\n",
    "sumo_max_ocupacion_path = r'C:\\Users\\ing_l\\Tesis grado\\Data\\Extra_data\\SUMO_max_ocupacion.csv'"
   ]
  },
  {
   "cell_type": "markdown",
   "metadata": {},
   "source": [
    "## Cuadras donde más se estaciona (SUMO)"
   ]
  },
  {
   "cell_type": "code",
   "execution_count": 3,
   "metadata": {
    "ExecuteTime": {
     "end_time": "2019-09-26T15:28:42.921869Z",
     "start_time": "2019-09-26T15:28:42.853175Z"
    }
   },
   "outputs": [
    {
     "data": {
      "text/html": [
       "<div>\n",
       "<style scoped>\n",
       "    .dataframe tbody tr th:only-of-type {\n",
       "        vertical-align: middle;\n",
       "    }\n",
       "\n",
       "    .dataframe tbody tr th {\n",
       "        vertical-align: top;\n",
       "    }\n",
       "\n",
       "    .dataframe thead th {\n",
       "        text-align: right;\n",
       "    }\n",
       "</style>\n",
       "<table border=\"1\" class=\"dataframe\">\n",
       "  <thead>\n",
       "    <tr style=\"text-align: right;\">\n",
       "      <th></th>\n",
       "      <th>id_cuadra</th>\n",
       "      <th>direccion</th>\n",
       "      <th>ocupacion</th>\n",
       "    </tr>\n",
       "  </thead>\n",
       "  <tbody>\n",
       "    <tr>\n",
       "      <td>11</td>\n",
       "      <td>13</td>\n",
       "      <td>General Pinto 343</td>\n",
       "      <td>19.0</td>\n",
       "    </tr>\n",
       "    <tr>\n",
       "      <td>55</td>\n",
       "      <td>58</td>\n",
       "      <td>Yrigoyen 847</td>\n",
       "      <td>19.0</td>\n",
       "    </tr>\n",
       "    <tr>\n",
       "      <td>18</td>\n",
       "      <td>21</td>\n",
       "      <td>Belgrano 540</td>\n",
       "      <td>19.0</td>\n",
       "    </tr>\n",
       "    <tr>\n",
       "      <td>12</td>\n",
       "      <td>14</td>\n",
       "      <td>Rodriguez 464</td>\n",
       "      <td>20.0</td>\n",
       "    </tr>\n",
       "    <tr>\n",
       "      <td>30</td>\n",
       "      <td>33</td>\n",
       "      <td>Sarmiento 755</td>\n",
       "      <td>20.0</td>\n",
       "    </tr>\n",
       "    <tr>\n",
       "      <td>14</td>\n",
       "      <td>16</td>\n",
       "      <td>San Martín 852</td>\n",
       "      <td>21.0</td>\n",
       "    </tr>\n",
       "    <tr>\n",
       "      <td>9</td>\n",
       "      <td>11</td>\n",
       "      <td>San Martín 658</td>\n",
       "      <td>22.0</td>\n",
       "    </tr>\n",
       "    <tr>\n",
       "      <td>77</td>\n",
       "      <td>80</td>\n",
       "      <td>General Paz 447</td>\n",
       "      <td>22.0</td>\n",
       "    </tr>\n",
       "    <tr>\n",
       "      <td>0</td>\n",
       "      <td>2</td>\n",
       "      <td>General Pinto 545</td>\n",
       "      <td>25.0</td>\n",
       "    </tr>\n",
       "    <tr>\n",
       "      <td>56</td>\n",
       "      <td>59</td>\n",
       "      <td>Yrigoyen 655</td>\n",
       "      <td>28.0</td>\n",
       "    </tr>\n",
       "  </tbody>\n",
       "</table>\n",
       "</div>"
      ],
      "text/plain": [
       "    id_cuadra          direccion  ocupacion\n",
       "11         13  General Pinto 343       19.0\n",
       "55         58       Yrigoyen 847       19.0\n",
       "18         21       Belgrano 540       19.0\n",
       "12         14      Rodriguez 464       20.0\n",
       "30         33      Sarmiento 755       20.0\n",
       "14         16     San Martín 852       21.0\n",
       "9          11     San Martín 658       22.0\n",
       "77         80    General Paz 447       22.0\n",
       "0           2  General Pinto 545       25.0\n",
       "56         59       Yrigoyen 655       28.0"
      ]
     },
     "execution_count": 3,
     "metadata": {},
     "output_type": "execute_result"
    }
   ],
   "source": [
    "max_ocupacion = pd.read_csv(sumo_max_ocupacion_path)\n",
    "max_ocupacion = max_ocupacion.sort_values(by='ocupacion')\n",
    "max_ocupacion.tail(10)"
   ]
  },
  {
   "cell_type": "code",
   "execution_count": 4,
   "metadata": {
    "ExecuteTime": {
     "end_time": "2019-09-26T15:28:43.227655Z",
     "start_time": "2019-09-26T15:28:42.923715Z"
    }
   },
   "outputs": [
    {
     "data": {
      "text/html": [
       "<div>\n",
       "<style scoped>\n",
       "    .dataframe tbody tr th:only-of-type {\n",
       "        vertical-align: middle;\n",
       "    }\n",
       "\n",
       "    .dataframe tbody tr th {\n",
       "        vertical-align: top;\n",
       "    }\n",
       "\n",
       "    .dataframe thead th {\n",
       "        text-align: right;\n",
       "    }\n",
       "</style>\n",
       "<table border=\"1\" class=\"dataframe\">\n",
       "  <thead>\n",
       "    <tr style=\"text-align: right;\">\n",
       "      <th></th>\n",
       "      <th>id_cuadra</th>\n",
       "      <th>direccion</th>\n",
       "      <th>ocupacion</th>\n",
       "      <th>lugares_cuadra</th>\n",
       "    </tr>\n",
       "  </thead>\n",
       "  <tbody>\n",
       "    <tr>\n",
       "      <td>0</td>\n",
       "      <td>92</td>\n",
       "      <td>Tribunal de Faltas</td>\n",
       "      <td>1</td>\n",
       "      <td>NaN</td>\n",
       "    </tr>\n",
       "    <tr>\n",
       "      <td>1</td>\n",
       "      <td>94</td>\n",
       "      <td>Av. España 436</td>\n",
       "      <td>4</td>\n",
       "      <td>NaN</td>\n",
       "    </tr>\n",
       "    <tr>\n",
       "      <td>2</td>\n",
       "      <td>93</td>\n",
       "      <td>Av. España 352</td>\n",
       "      <td>4</td>\n",
       "      <td>NaN</td>\n",
       "    </tr>\n",
       "    <tr>\n",
       "      <td>3</td>\n",
       "      <td>99</td>\n",
       "      <td>Av. España 970</td>\n",
       "      <td>5</td>\n",
       "      <td>NaN</td>\n",
       "    </tr>\n",
       "    <tr>\n",
       "      <td>4</td>\n",
       "      <td>78</td>\n",
       "      <td>Maipu 953</td>\n",
       "      <td>5</td>\n",
       "      <td>14.0</td>\n",
       "    </tr>\n",
       "    <tr>\n",
       "      <td>...</td>\n",
       "      <td>...</td>\n",
       "      <td>...</td>\n",
       "      <td>...</td>\n",
       "      <td>...</td>\n",
       "    </tr>\n",
       "    <tr>\n",
       "      <td>92</td>\n",
       "      <td>33</td>\n",
       "      <td>Sarmiento 755</td>\n",
       "      <td>23</td>\n",
       "      <td>32.0</td>\n",
       "    </tr>\n",
       "    <tr>\n",
       "      <td>93</td>\n",
       "      <td>75</td>\n",
       "      <td>Maipu 333</td>\n",
       "      <td>23</td>\n",
       "      <td>31.0</td>\n",
       "    </tr>\n",
       "    <tr>\n",
       "      <td>94</td>\n",
       "      <td>32</td>\n",
       "      <td>Sarmiento 453</td>\n",
       "      <td>27</td>\n",
       "      <td>27.0</td>\n",
       "    </tr>\n",
       "    <tr>\n",
       "      <td>95</td>\n",
       "      <td>14</td>\n",
       "      <td>Rodriguez 464</td>\n",
       "      <td>27</td>\n",
       "      <td>30.0</td>\n",
       "    </tr>\n",
       "    <tr>\n",
       "      <td>96</td>\n",
       "      <td>59</td>\n",
       "      <td>Yrigoyen 655</td>\n",
       "      <td>32</td>\n",
       "      <td>48.0</td>\n",
       "    </tr>\n",
       "  </tbody>\n",
       "</table>\n",
       "<p>97 rows × 4 columns</p>\n",
       "</div>"
      ],
      "text/plain": [
       "    id_cuadra           direccion  ocupacion  lugares_cuadra\n",
       "0          92  Tribunal de Faltas          1             NaN\n",
       "1          94      Av. España 436          4             NaN\n",
       "2          93      Av. España 352          4             NaN\n",
       "3          99      Av. España 970          5             NaN\n",
       "4          78           Maipu 953          5            14.0\n",
       "..        ...                 ...        ...             ...\n",
       "92         33       Sarmiento 755         23            32.0\n",
       "93         75           Maipu 333         23            31.0\n",
       "94         32       Sarmiento 453         27            27.0\n",
       "95         14       Rodriguez 464         27            30.0\n",
       "96         59        Yrigoyen 655         32            48.0\n",
       "\n",
       "[97 rows x 4 columns]"
      ]
     },
     "execution_count": 4,
     "metadata": {},
     "output_type": "execute_result"
    }
   ],
   "source": [
    "sumo_max_ocupacion = pd.read_csv(r'C:\\Users\\ing_l\\Tesis grado\\Data\\SUMO_data_w_operacion.csv')\n",
    "sumo_max_ocupacion = sumo_max_ocupacion.loc[:,['id_cuadra', 'direccion', 'ocupacion', 'lugares_cuadra']]\n",
    "sumo_max_ocupacion = sumo_max_ocupacion.groupby(by='id_cuadra').max().reset_index()\n",
    "sumo_max_ocupacion = sumo_max_ocupacion.sort_values(by='ocupacion').reset_index(drop=True)\n",
    "sumo_max_ocupacion"
   ]
  },
  {
   "cell_type": "markdown",
   "metadata": {},
   "source": [
    "### Para esto todavia faltaria tener mas datos y poder deducir algo del maximo valor posible. Por ahora ningun dato tiene sentido y por la poca cantidad tampoco puedo deducir mucho.\n",
    "\n",
    "## En una ventana de tiempo (aprox al mediodia, donde mas se estacionen normalmente) la cantidad de entradas y salidas que se tienen"
   ]
  },
  {
   "cell_type": "code",
   "execution_count": 83,
   "metadata": {
    "ExecuteTime": {
     "end_time": "2019-09-26T16:44:20.236207Z",
     "start_time": "2019-09-26T16:44:20.223651Z"
    }
   },
   "outputs": [],
   "source": [
    "def plot_line_graph(plot_data, date):\n",
    "    global street\n",
    "\n",
    "    #Get only the values of the date (BORRAR Y HACER QUE EN EL MISMO GRAFICO SE MUESTREN EL MAX Y EL MIN)\n",
    "    plot_data = plot_data.loc[plot_data.fecha == pd.Timestamp(date).date()]\n",
    "\n",
    "    #Modify the plot size\n",
    "    plt.rcParams['figure.figsize'] = (12,4)\n",
    "\n",
    "    #Get the timestamp of the fecha_hora column\n",
    "    time = plot_data['fecha_hora'].reset_index(drop=True).apply(lambda x: pd.Timestamp(x))\n",
    "    \n",
    "    #Get the mean of the fecha_hora column\n",
    "    time_mean = time.mean()\n",
    "    \n",
    "    #Filter to get only the nearest value to the mean\n",
    "    same_hour = time.apply(lambda x: x.hour == time_mean.hour)\n",
    "    same_minutes = time.apply(lambda x: x.minute - time_mean.minute < 10)\n",
    "    same_time = same_hour * same_minutes\n",
    "    \n",
    "    #Obtain that value (at least one of them, with an error of 10 minutes)\n",
    "    time_mean = time.loc[same_time].iloc[0]\n",
    "    time_mean = str(time_mean.time())\n",
    "    \n",
    "    #And obtain the min and max values of the column fecha_hora\n",
    "    min_val = str(time.min().time())\n",
    "    max_val = str(time.max().time())\n",
    "    \n",
    "    #Fill with empty values the time Series\n",
    "    time = pd.Series('', index=time.index)\n",
    "    \n",
    "    #Put all obtained values into time Series\n",
    "    size = int(len(plot_data) / 2)\n",
    "    time.iloc[0] = min_val\n",
    "    time.iloc[len(plot_data) - 1] = max_val\n",
    "    time.iloc[size] = time_mean\n",
    "    \n",
    "    #Plot the graph\n",
    "    plt.xlabel('Time')\n",
    "    plt.ylabel('Parked cars')\n",
    "    plt.title('Parked cars in street nº{} along the day'.format(street))\n",
    "    plt.plot(plot_data['fecha_hora'], plot_data['ocupacion'])\n",
    "    plt.xticks(plot_data['fecha_hora'], time)\n",
    "    plt.show()"
   ]
  },
  {
   "cell_type": "markdown",
   "metadata": {},
   "source": [
    "## BD parking\n"
   ]
  },
  {
   "cell_type": "code",
   "execution_count": 84,
   "metadata": {
    "ExecuteTime": {
     "end_time": "2019-09-26T16:44:22.108631Z",
     "start_time": "2019-09-26T16:44:20.607026Z"
    }
   },
   "outputs": [],
   "source": [
    "trusted_data_reduced_w_ocupacion = pd.read_csv(trusted_data_path_w_ocupacion) \n",
    "\n",
    "street = 2\n",
    "date = '2018-01-02' "
   ]
  },
  {
   "cell_type": "code",
   "execution_count": 113,
   "metadata": {
    "ExecuteTime": {
     "end_time": "2019-09-26T17:12:21.055021Z",
     "start_time": "2019-09-26T17:12:19.391129Z"
    },
    "scrolled": false
   },
   "outputs": [
    {
     "name": "stdout",
     "output_type": "stream",
     "text": [
      "General Pinto 545\n"
     ]
    },
    {
     "data": {
      "image/png": "[encoded data removed]",
      "text/plain": [
       "<Figure size 864x288 with 1 Axes>"
      ]
     },
     "metadata": {
      "needs_background": "light"
     },
     "output_type": "display_data"
    },
    {
     "data": {
      "image/png": "[encoded data removed]",
      "text/plain": [
       "<Figure size 864x288 with 1 Axes>"
      ]
     },
     "metadata": {
      "needs_background": "light"
     },
     "output_type": "display_data"
    },
    {
     "data": {
      "image/png": "[encoded data removed]",
      "text/plain": [
       "<Figure size 864x288 with 1 Axes>"
      ]
     },
     "metadata": {
      "needs_background": "light"
     },
     "output_type": "display_data"
    }
   ],
   "source": [
    "from datetime import datetime \n",
    "import matplotlib.pyplot as plt\n",
    "\n",
    "street_name = trusted_data_reduced_w_ocupacion.loc[trusted_data_reduced_w_ocupacion.id_cuadra == street, 'direccion'].iloc[0]\n",
    "\n",
    "plot_data = trusted_data_reduced_w_ocupacion.loc[trusted_data_reduced_w_ocupacion.id_cuadra == street, ['fecha_hora','ocupacion']]\n",
    "\n",
    "plot_data['fecha'] = plot_data['fecha_hora'].apply(lambda x: pd.Timestamp(x).date())\n",
    "\n",
    "#Date of the max transited day in selected street\n",
    "max_mean = plot_data.groupby(by='fecha').mean().max()[0]\n",
    "date_max_mean = plot_data.groupby(by='fecha').mean().reset_index()\n",
    "date_max_mean = date_max_mean.loc[date_max_mean['ocupacion'] == max_mean, 'fecha'].iloc[0]\n",
    "\n",
    "#Date of the min transited day in selected street\n",
    "min_mean = plot_data.groupby(by='fecha').mean().min()[0]\n",
    "date_min_mean = plot_data.groupby(by='fecha').mean().reset_index()\n",
    "date_min_mean = date_min_mean.loc[date_min_mean['ocupacion'] == min_mean, 'fecha'].iloc[0]\n",
    "\n",
    "#print(date_of_max_mean)\n",
    "#print(plot_data.loc[plot_data['fecha'] == date_of_max_mean])\n",
    "#print(date_of_min_mean)\n",
    "print(street_name)\n",
    "plot_line_graph(plot_data, date)\n",
    "plot_line_graph(plot_data, date_max_mean)\n",
    "plot_line_graph(plot_data, date_min_mean)"
   ]
  },
  {
   "cell_type": "code",
   "execution_count": 68,
   "metadata": {
    "ExecuteTime": {
     "end_time": "2019-09-26T16:35:19.036113Z",
     "start_time": "2019-09-26T16:35:18.934731Z"
    }
   },
   "outputs": [
    {
     "name": "stdout",
     "output_type": "stream",
     "text": [
      "fecha        2018-06-14\n",
      "ocupacion       9.90964\n",
      "dtype: object\n",
      "fecha        2018-01-02\n",
      "ocupacion           0.5\n",
      "dtype: object\n"
     ]
    },
    {
     "data": {
      "text/plain": [
       "\"\\nprint(plot_data.columns.values)\\naux = plot_data.copy()\\naux['fecha'] = plot_data['fecha_hora'].apply(lambda x: pd.Timestamp(x).date())\\nprint(aux.iloc[0]['fecha'])\\ndate_of_max_mean = plot_data.groupby(by='fecha_hora').mean().max()\\ndate_of_min_mean = plot_data.groupby(by='fecha_hora').mean().min()\\nmean = plot_data.groupby(by='fecha_hora').mean()\\nplot_data = plot_data[plot_data['fecha_hora'] == date]\\nprint(date_of_max_mean)\\nprint(date_of_min_mean)\\n#print(mean)\""
      ]
     },
     "execution_count": 68,
     "metadata": {},
     "output_type": "execute_result"
    }
   ],
   "source": [
    "#useless\n",
    "\n",
    "\n",
    "'''\n",
    "print(plot_data.columns.values)\n",
    "aux = plot_data.copy()\n",
    "aux['fecha'] = plot_data['fecha_hora'].apply(lambda x: pd.Timestamp(x).date())\n",
    "print(aux.iloc[0]['fecha'])\n",
    "date_of_max_mean = plot_data.groupby(by='fecha_hora').mean().max()\n",
    "date_of_min_mean = plot_data.groupby(by='fecha_hora').mean().min()\n",
    "mean = plot_data.groupby(by='fecha_hora').mean()\n",
    "plot_data = plot_data[plot_data['fecha_hora'] == date]\n",
    "print(date_of_max_mean)\n",
    "print(date_of_min_mean)\n",
    "#print(mean)'''"
   ]
  },
  {
   "cell_type": "code",
   "execution_count": 48,
   "metadata": {
    "ExecuteTime": {
     "end_time": "2019-09-26T16:24:32.617889Z",
     "start_time": "2019-09-26T16:24:32.466348Z"
    }
   },
   "outputs": [
    {
     "data": {
      "image/png": "[encoded data removed]",
      "text/plain": [
       "<Figure size 864x288 with 1 Axes>"
      ]
     },
     "metadata": {
      "needs_background": "light"
     },
     "output_type": "display_data"
    }
   ],
   "source": [
    "import matplotlib.pyplot as plt\n",
    "\n",
    "\n",
    "x = [1, 2, 3, 4, 5, 6]\n",
    "y = [1, 4, 2, 10, 9, 6]\n",
    "labels = ['Frogs', 'Bogs', '', 'gato']\n",
    "\n",
    "plt.plot(x, y)\n",
    "# You can specify a rotation for the tick labels in degrees or with keywords.\n",
    "plt.xticks(x, labels, rotation='vertical')\n",
    "# Pad margins so that markers don't get clipped by the axes\n",
    "plt.margins(0.2)\n",
    "# Tweak spacing to prevent clipping of tick-labels\n",
    "plt.subplots_adjust(bottom=0.15)\n",
    "plt.show()"
   ]
  },
  {
   "cell_type": "code",
   "execution_count": null,
   "metadata": {},
   "outputs": [],
   "source": []
  }
 ],
 "metadata": {
  "kernelspec": {
   "display_name": "Python 3",
   "language": "python",
   "name": "python3"
  },
  "language_info": {
   "codemirror_mode": {
    "name": "ipython",
    "version": 3
   },
   "file_extension": ".py",
   "mimetype": "text/x-python",
   "name": "python",
   "nbconvert_exporter": "python",
   "pygments_lexer": "ipython3",
   "version": "3.7.3"
  }
 },
 "nbformat": 4,
 "nbformat_minor": 2
}
