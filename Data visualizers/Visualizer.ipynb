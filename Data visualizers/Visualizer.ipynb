{
 "cells": [
  {
   "cell_type": "code",
   "execution_count": 1,
   "metadata": {
    "ExecuteTime": {
     "end_time": "2019-10-15T19:47:08.451678Z",
     "start_time": "2019-10-15T19:47:07.700592Z"
    }
   },
   "outputs": [],
   "source": [
    "import pandas as pd\n",
    "import numpy as np\n",
    "import matplotlib.pyplot as plt\n",
    "from datetime import datetime \n",
    "from IPython.display import display, HTML"
   ]
  },
  {
   "cell_type": "code",
   "execution_count": 2,
   "metadata": {
    "ExecuteTime": {
     "end_time": "2019-10-15T19:47:08.460655Z",
     "start_time": "2019-10-15T19:47:08.452676Z"
    }
   },
   "outputs": [
    {
     "data": {
      "text/html": [
       "<style>\n",
       ".output {\n",
       "    flex-direction: row;\n",
       "}\n",
       "</style>"
      ],
      "text/plain": [
       "<IPython.core.display.HTML object>"
      ]
     },
     "execution_count": 2,
     "metadata": {},
     "output_type": "execute_result"
    }
   ],
   "source": [
    "#Just to have each print in the same row\n",
    "CSS = \"\"\"\n",
    ".output {\n",
    "    flex-direction: row;\n",
    "}\n",
    "\"\"\"\n",
    "\n",
    "HTML('<style>{}</style>'.format(CSS))"
   ]
  },
  {
   "cell_type": "code",
   "execution_count": 3,
   "metadata": {
    "ExecuteTime": {
     "end_time": "2019-10-15T19:47:08.466639Z",
     "start_time": "2019-10-15T19:47:08.462650Z"
    }
   },
   "outputs": [],
   "source": [
    "r'''\n",
    "trusted_data_w_ocupacion: *trusted_data* with actual ocupacion included.\n",
    "    path: r'C:\\Users\\ing_l\\Tesis grado\\Data\\BD_parking_trusted_data_ocupacion.csv'\n",
    "    \n",
    "data_w_operacion: (DataFrame) data with the corresponding operacion (Entrada/Salida).\n",
    "    path: C:\\Users\\ing_l\\Tesis grado\\Data\\SUMO_data_w_operacion.csv\n",
    "\n",
    "'''\n",
    "\n",
    "trusted_data_path_w_ocupacion = r'C:\\Users\\ing_l\\Tesis grado\\Data\\BD_parking_trusted_data_ocupacion.csv'\n",
    "data_w_operacion_path = r'C:\\Users\\ing_l\\Tesis grado\\Data\\SUMO_data_w_operacion.csv'"
   ]
  },
  {
   "cell_type": "code",
   "execution_count": 4,
   "metadata": {
    "ExecuteTime": {
     "end_time": "2019-10-15T19:47:08.478606Z",
     "start_time": "2019-10-15T19:47:08.468634Z"
    }
   },
   "outputs": [],
   "source": [
    "def add_ocupacion(d, street, inplace=False):\n",
    "    '''\n",
    "    Includes a new column called ocupacion and adds one to a row\n",
    "        if its an \"Entrada\" and substract one if its \"Salida\".\n",
    "    \n",
    "    Parameters:\n",
    "        d: (DataFrame) dataframe model to include the new column\n",
    "        inplace: (Boolean) if use a reference of d or make a copy instead.\n",
    "        \n",
    "    Return:\n",
    "        out: the d reference or copy that contains the new column ocupacion\n",
    "            with the correct values.\n",
    "    \n",
    "    '''\n",
    "    def sum_ocup(row):\n",
    "        '''\n",
    "        Just for the apply func. If the row value is Entrada we sum 1,\n",
    "        otherwise we subs 1.\n",
    "        On each day we restart the actual_ocup.\n",
    "        '''\n",
    "        nonlocal actual_ocup, last_day\n",
    "\n",
    "        if pd.to_datetime(row['fecha']).day != last_day:\n",
    "            actual_ocup = 0\n",
    "            last_day = pd.to_datetime(row['fecha']).day\n",
    "\n",
    "        if row['operacion'] == 'Entrada':\n",
    "            actual_ocup += 1\n",
    "        else:\n",
    "            if row['operacion'] == 'Salida':\n",
    "                if actual_ocup > 0:\n",
    "                    actual_ocup -= 1\n",
    "        return actual_ocup\n",
    "\n",
    "    #To use a reference or a copy of the input\n",
    "    if inplace:\n",
    "        out = d\n",
    "    else:\n",
    "        out = d.copy()\n",
    "\n",
    "    out['fecha'] = out['fecha_hora'].apply(lambda x: pd.Timestamp(x).date())\n",
    "\n",
    "    actual_ocup = 0\n",
    "    last_day = pd.to_datetime(out['fecha'].min()).day\n",
    "    out.loc[out['id_cuadra'] == street, 'ocupacion'] = out.loc[out['id_cuadra'] == street, ['operacion', 'fecha']].apply(sum_ocup, axis=1)\n",
    "\n",
    "    out.drop('fecha', axis=1, inplace=True)\n",
    "\n",
    "    if not inplace:\n",
    "        return out"
   ]
  },
  {
   "cell_type": "code",
   "execution_count": 5,
   "metadata": {
    "ExecuteTime": {
     "end_time": "2019-10-15T19:47:08.487584Z",
     "start_time": "2019-10-15T19:47:08.480602Z"
    }
   },
   "outputs": [],
   "source": [
    "def reorder_españa(data, inplace=False):\n",
    "    #Keep only one España street.\n",
    "    # ESTO ESTA MAL TENGO QUE SUMAR EL OCUPADO SINO NO SIRVE\n",
    "    if inplace:\n",
    "        out = data\n",
    "    else:\n",
    "        out = data.copy()\n",
    "        \n",
    "    original = 85\n",
    "    to_del = 93\n",
    "    for i in range(91-85+1):\n",
    "        out.loc[out.id_cuadra == to_del+i, 'id_cuadra'] = out.loc[out.id_cuadra == original+i, 'id_cuadra'].iloc[0]\n",
    "        out.loc[out.id_cuadra == to_del+i, 'direccion'] = out.loc[out.id_cuadra == original+i, 'direccion'].iloc[0]\n",
    "\n",
    "    out.sort_values(by=['id_cuadra','fecha_hora'], inplace=True, ascending=True)\n",
    "    \n",
    "    for i in range(91-85+1):\n",
    "        add_ocupacion(out, street=original+i, inplace=True)"
   ]
  },
  {
   "cell_type": "code",
   "execution_count": 6,
   "metadata": {
    "ExecuteTime": {
     "end_time": "2019-10-15T19:47:15.456458Z",
     "start_time": "2019-10-15T19:47:08.489578Z"
    }
   },
   "outputs": [],
   "source": [
    "SUMO_data = pd.read_csv(data_w_operacion_path)\n",
    "SUMO_data.rename(columns={'fecha_tiempo': 'fecha_hora'}, inplace=True)\n",
    "#SUMO_data['fecha_hora'] = SUMO_data['fecha_hora'].apply(lambda x: pd.Timestamp(x))\n",
    "\n",
    "#We dont want the SUMO office to appear in any data, cause there is no place to park\n",
    "SUMO_data = SUMO_data.loc[SUMO_data.id_cuadra != 50]\n",
    "\n",
    "#We only want one españa per street, but we need to correct the ocupacion\n",
    "reorder_españa(SUMO_data, inplace=True)\n",
    "\n",
    "BD_parking_data = pd.read_csv(trusted_data_path_w_ocupacion)"
   ]
  },
  {
   "cell_type": "code",
   "execution_count": 7,
   "metadata": {
    "ExecuteTime": {
     "end_time": "2019-10-15T19:47:16.005988Z",
     "start_time": "2019-10-15T19:47:15.457455Z"
    }
   },
   "outputs": [],
   "source": [
    "#Weekday data FOR SUMO\n",
    "weekday_data = SUMO_data.copy()\n",
    "weekday_data['dia de semana'] = weekday_data['fecha_hora'].apply(lambda x: pd.Timestamp(x).weekday())\n",
    "#0:Monday 1:Tuesday 2:Wednesday 3:Thursday 4:Friday 5:Saturday 6:Sunday\n",
    "weekday = 0\n",
    "weekday_data = weekday_data.loc[weekday_data['dia de semana'] == 0]"
   ]
  },
  {
   "cell_type": "code",
   "execution_count": 8,
   "metadata": {
    "ExecuteTime": {
     "end_time": "2019-10-15T19:47:16.013968Z",
     "start_time": "2019-10-15T19:47:16.007984Z"
    }
   },
   "outputs": [],
   "source": [
    "def modif_date(data, n):\n",
    "    '''n is the number of the date (e.g. 2 is the second date in the data df)'''\n",
    "    if date_n < len(data):\n",
    "        date = data['fecha_hora'].apply(lambda x: pd.Timestamp(x).date()).drop_duplicates().iloc[date_n]\n",
    "    else:\n",
    "        date = data['fecha_hora'].apply(lambda x: pd.Timestamp(x).date()).drop_duplicates().iloc[len(data)-1]\n",
    "    return pd.Timestamp(date).date()"
   ]
  },
  {
   "cell_type": "markdown",
   "metadata": {},
   "source": [
    "# Choose the data"
   ]
  },
  {
   "cell_type": "code",
   "execution_count": 9,
   "metadata": {
    "ExecuteTime": {
     "end_time": "2019-10-15T19:47:16.521637Z",
     "start_time": "2019-10-15T19:47:16.015962Z"
    }
   },
   "outputs": [
    {
     "name": "stdout",
     "output_type": "stream",
     "text": [
      "Street :  59 (Yrigoyen 655)\n",
      "Date   :  2019-03-10\n",
      "Hour   :  10\n"
     ]
    }
   ],
   "source": [
    "#DF to process...\n",
    "#You can put on data any filter you want. If you put only monday data all the graphs\n",
    "#below will be for monday values...\n",
    "data = SUMO_data.copy()\n",
    "#data = weekday_data.copy()\n",
    "#data = BD_parking_data.copy()\n",
    "\n",
    "#Street to process...\n",
    "#From 2 to 92 without 50\n",
    "street = 59\n",
    "\n",
    "#Date to process...\n",
    "#Select a number from 0 to data['fecha_hora'] len.\n",
    "date_n = 1\n",
    "\n",
    "date = modif_date(data, date_n)\n",
    "\n",
    "#Hour to process...\n",
    "hour = 10\n",
    "\n",
    "\n",
    "print('Street :  {} ({})'.format(street, data.loc[data['id_cuadra'] == street, 'direccion'].iloc[0]))\n",
    "print('Date   : ', date)\n",
    "print('Hour   : ', hour)"
   ]
  },
  {
   "cell_type": "markdown",
   "metadata": {},
   "source": [
    "## Cuadras donde más se estaciona (SUMO)"
   ]
  },
  {
   "cell_type": "code",
   "execution_count": 10,
   "metadata": {
    "ExecuteTime": {
     "end_time": "2019-10-15T19:47:16.532749Z",
     "start_time": "2019-10-15T19:47:16.523606Z"
    }
   },
   "outputs": [],
   "source": [
    "def get_max_ocupacion(data):\n",
    "    '''\n",
    "    Obtain the max ocupacion per street.\n",
    "    \n",
    "    Parameters:\n",
    "        data: (DataFrame) a DataFrame containing all the data or only for\n",
    "        one day, e.g. only with the monday data.\n",
    "        \n",
    "    Returns:\n",
    "        max_ocupacion: all max ocupation for all streets\n",
    "        max_max_ocupacion: max_ocupacion.tail(10)\n",
    "        less_max_ocupacion: max_ocupacion.head(10)\n",
    "    '''\n",
    "    \n",
    "    max_ocupacion = data.copy()\n",
    "    max_ocupacion = max_ocupacion[['id_cuadra','ocupacion_max', 'lugares_cuadra']].groupby(by='id_cuadra').max().reset_index()\n",
    "    max_ocupacion = max_ocupacion.sort_values(by='ocupacion_max')\n",
    "\n",
    "    max_ocupacion = max_ocupacion.merge(pd.read_csv(r'C:\\Users\\ing_l\\Tesis grado\\Data\\Extra_data\\idcuadra_to_direccion.csv'))\n",
    "\n",
    "    #Add the mean of the ocupation of each day\n",
    "    data['fecha'] = data['fecha_hora'].apply(lambda x: pd.Timestamp(x).date())\n",
    "    aux = data[['id_cuadra','fecha','ocupacion']].groupby(by=['id_cuadra','fecha']).max().reset_index().groupby(by='id_cuadra').mean().reset_index()\n",
    "    aux.rename(columns={'ocupacion': 'real_max_ocupacion_mean'}, inplace=True)\n",
    "    max_ocupacion = max_ocupacion.merge(aux)\n",
    "    \n",
    "    less_max_ocupacion = max_ocupacion[['id_cuadra','direccion','ocupacion_max', 'real_max_ocupacion_mean', 'lugares_cuadra']].head(10).reset_index(drop=True)\n",
    "    max_max_ocupacion = max_ocupacion[['id_cuadra','direccion','ocupacion_max', 'real_max_ocupacion_mean', 'lugares_cuadra']].tail(10).reset_index(drop=True)\n",
    "    \n",
    "    data.drop('fecha', axis=1)\n",
    "    \n",
    "    max_max_ocupacion = max_max_ocupacion.sort_values(by='ocupacion_max',ascending=False).reset_index(drop=True)\n",
    "    return max_ocupacion, max_max_ocupacion, less_max_ocupacion"
   ]
  },
  {
   "cell_type": "code",
   "execution_count": 11,
   "metadata": {
    "ExecuteTime": {
     "end_time": "2019-10-15T19:47:17.197046Z",
     "start_time": "2019-10-15T19:47:16.534577Z"
    }
   },
   "outputs": [],
   "source": [
    "max_ocupacion, max_max_ocupacion, less_max_ocupacion = get_max_ocupacion(data)"
   ]
  },
  {
   "cell_type": "code",
   "execution_count": 12,
   "metadata": {
    "ExecuteTime": {
     "end_time": "2019-10-15T19:47:17.216995Z",
     "start_time": "2019-10-15T19:47:17.199055Z"
    }
   },
   "outputs": [
    {
     "data": {
      "text/html": [
       "<div>\n",
       "<style scoped>\n",
       "    .dataframe tbody tr th:only-of-type {\n",
       "        vertical-align: middle;\n",
       "    }\n",
       "\n",
       "    .dataframe tbody tr th {\n",
       "        vertical-align: top;\n",
       "    }\n",
       "\n",
       "    .dataframe thead th {\n",
       "        text-align: right;\n",
       "    }\n",
       "</style>\n",
       "<table border=\"1\" class=\"dataframe\">\n",
       "  <thead>\n",
       "    <tr style=\"text-align: right;\">\n",
       "      <th></th>\n",
       "      <th>id_cuadra</th>\n",
       "      <th>direccion</th>\n",
       "      <th>ocupacion_max</th>\n",
       "      <th>real_max_ocupacion_mean</th>\n",
       "      <th>lugares_cuadra</th>\n",
       "    </tr>\n",
       "  </thead>\n",
       "  <tbody>\n",
       "    <tr>\n",
       "      <td>0</td>\n",
       "      <td>59</td>\n",
       "      <td>Yrigoyen 655</td>\n",
       "      <td>35</td>\n",
       "      <td>22.000000</td>\n",
       "      <td>48.0</td>\n",
       "    </tr>\n",
       "    <tr>\n",
       "      <td>1</td>\n",
       "      <td>60</td>\n",
       "      <td>Fuerte Independencia 349</td>\n",
       "      <td>29</td>\n",
       "      <td>14.892857</td>\n",
       "      <td>44.0</td>\n",
       "    </tr>\n",
       "    <tr>\n",
       "      <td>2</td>\n",
       "      <td>75</td>\n",
       "      <td>Maipu 333</td>\n",
       "      <td>27</td>\n",
       "      <td>16.185185</td>\n",
       "      <td>31.0</td>\n",
       "    </tr>\n",
       "    <tr>\n",
       "      <td>3</td>\n",
       "      <td>14</td>\n",
       "      <td>Rodriguez 464</td>\n",
       "      <td>27</td>\n",
       "      <td>11.142857</td>\n",
       "      <td>30.0</td>\n",
       "    </tr>\n",
       "    <tr>\n",
       "      <td>4</td>\n",
       "      <td>32</td>\n",
       "      <td>Sarmiento 453</td>\n",
       "      <td>27</td>\n",
       "      <td>15.821429</td>\n",
       "      <td>27.0</td>\n",
       "    </tr>\n",
       "    <tr>\n",
       "      <td>5</td>\n",
       "      <td>33</td>\n",
       "      <td>Sarmiento 755</td>\n",
       "      <td>26</td>\n",
       "      <td>18.000000</td>\n",
       "      <td>32.0</td>\n",
       "    </tr>\n",
       "    <tr>\n",
       "      <td>6</td>\n",
       "      <td>6</td>\n",
       "      <td>General Pinto 759</td>\n",
       "      <td>24</td>\n",
       "      <td>14.750000</td>\n",
       "      <td>30.0</td>\n",
       "    </tr>\n",
       "    <tr>\n",
       "      <td>7</td>\n",
       "      <td>21</td>\n",
       "      <td>Belgrano 540</td>\n",
       "      <td>23</td>\n",
       "      <td>13.482759</td>\n",
       "      <td>29.0</td>\n",
       "    </tr>\n",
       "    <tr>\n",
       "      <td>8</td>\n",
       "      <td>11</td>\n",
       "      <td>San Martín 658</td>\n",
       "      <td>22</td>\n",
       "      <td>15.965517</td>\n",
       "      <td>30.0</td>\n",
       "    </tr>\n",
       "    <tr>\n",
       "      <td>9</td>\n",
       "      <td>57</td>\n",
       "      <td>Yrigoyen 753</td>\n",
       "      <td>22</td>\n",
       "      <td>14.000000</td>\n",
       "      <td>24.0</td>\n",
       "    </tr>\n",
       "  </tbody>\n",
       "</table>\n",
       "</div>"
      ],
      "text/plain": [
       "   id_cuadra                 direccion  ocupacion_max  \\\n",
       "0         59              Yrigoyen 655             35   \n",
       "1         60  Fuerte Independencia 349             29   \n",
       "2         75                 Maipu 333             27   \n",
       "3         14             Rodriguez 464             27   \n",
       "4         32             Sarmiento 453             27   \n",
       "5         33             Sarmiento 755             26   \n",
       "6          6         General Pinto 759             24   \n",
       "7         21              Belgrano 540             23   \n",
       "8         11            San Martín 658             22   \n",
       "9         57              Yrigoyen 753             22   \n",
       "\n",
       "   real_max_ocupacion_mean  lugares_cuadra  \n",
       "0                22.000000            48.0  \n",
       "1                14.892857            44.0  \n",
       "2                16.185185            31.0  \n",
       "3                11.142857            30.0  \n",
       "4                15.821429            27.0  \n",
       "5                18.000000            32.0  \n",
       "6                14.750000            30.0  \n",
       "7                13.482759            29.0  \n",
       "8                15.965517            30.0  \n",
       "9                14.000000            24.0  "
      ]
     },
     "metadata": {},
     "output_type": "display_data"
    }
   ],
   "source": [
    "display(max_max_ocupacion)"
   ]
  },
  {
   "cell_type": "code",
   "execution_count": 13,
   "metadata": {
    "ExecuteTime": {
     "end_time": "2019-10-15T19:47:17.231954Z",
     "start_time": "2019-10-15T19:47:17.220984Z"
    }
   },
   "outputs": [
    {
     "data": {
      "text/html": [
       "<div>\n",
       "<style scoped>\n",
       "    .dataframe tbody tr th:only-of-type {\n",
       "        vertical-align: middle;\n",
       "    }\n",
       "\n",
       "    .dataframe tbody tr th {\n",
       "        vertical-align: top;\n",
       "    }\n",
       "\n",
       "    .dataframe thead th {\n",
       "        text-align: right;\n",
       "    }\n",
       "</style>\n",
       "<table border=\"1\" class=\"dataframe\">\n",
       "  <thead>\n",
       "    <tr style=\"text-align: right;\">\n",
       "      <th></th>\n",
       "      <th>id_cuadra</th>\n",
       "      <th>direccion</th>\n",
       "      <th>ocupacion_max</th>\n",
       "      <th>real_max_ocupacion_mean</th>\n",
       "      <th>lugares_cuadra</th>\n",
       "    </tr>\n",
       "  </thead>\n",
       "  <tbody>\n",
       "    <tr>\n",
       "      <td>0</td>\n",
       "      <td>92</td>\n",
       "      <td>Tribunal de Faltas</td>\n",
       "      <td>1</td>\n",
       "      <td>0.571429</td>\n",
       "      <td>NaN</td>\n",
       "    </tr>\n",
       "    <tr>\n",
       "      <td>1</td>\n",
       "      <td>25</td>\n",
       "      <td>Belgrano 958</td>\n",
       "      <td>6</td>\n",
       "      <td>3.730769</td>\n",
       "      <td>13.0</td>\n",
       "    </tr>\n",
       "    <tr>\n",
       "      <td>2</td>\n",
       "      <td>77</td>\n",
       "      <td>Maipu 857</td>\n",
       "      <td>6</td>\n",
       "      <td>3.958333</td>\n",
       "      <td>15.0</td>\n",
       "    </tr>\n",
       "    <tr>\n",
       "      <td>3</td>\n",
       "      <td>78</td>\n",
       "      <td>Maipu 953</td>\n",
       "      <td>6</td>\n",
       "      <td>3.083333</td>\n",
       "      <td>14.0</td>\n",
       "    </tr>\n",
       "    <tr>\n",
       "      <td>4</td>\n",
       "      <td>88</td>\n",
       "      <td>Av. España 647</td>\n",
       "      <td>7</td>\n",
       "      <td>6.862069</td>\n",
       "      <td>11.0</td>\n",
       "    </tr>\n",
       "    <tr>\n",
       "      <td>5</td>\n",
       "      <td>85</td>\n",
       "      <td>Av. España 359</td>\n",
       "      <td>7</td>\n",
       "      <td>4.076923</td>\n",
       "      <td>7.0</td>\n",
       "    </tr>\n",
       "    <tr>\n",
       "      <td>6</td>\n",
       "      <td>41</td>\n",
       "      <td>Mitre 446</td>\n",
       "      <td>8</td>\n",
       "      <td>4.636364</td>\n",
       "      <td>16.0</td>\n",
       "    </tr>\n",
       "    <tr>\n",
       "      <td>7</td>\n",
       "      <td>87</td>\n",
       "      <td>Av. España 545</td>\n",
       "      <td>8</td>\n",
       "      <td>5.923077</td>\n",
       "      <td>10.0</td>\n",
       "    </tr>\n",
       "    <tr>\n",
       "      <td>8</td>\n",
       "      <td>86</td>\n",
       "      <td>Av. España 481</td>\n",
       "      <td>8</td>\n",
       "      <td>4.740741</td>\n",
       "      <td>10.0</td>\n",
       "    </tr>\n",
       "    <tr>\n",
       "      <td>9</td>\n",
       "      <td>49</td>\n",
       "      <td>Alem 852</td>\n",
       "      <td>9</td>\n",
       "      <td>5.629630</td>\n",
       "      <td>12.0</td>\n",
       "    </tr>\n",
       "  </tbody>\n",
       "</table>\n",
       "</div>"
      ],
      "text/plain": [
       "   id_cuadra           direccion  ocupacion_max  real_max_ocupacion_mean  \\\n",
       "0         92  Tribunal de Faltas              1                 0.571429   \n",
       "1         25        Belgrano 958              6                 3.730769   \n",
       "2         77           Maipu 857              6                 3.958333   \n",
       "3         78           Maipu 953              6                 3.083333   \n",
       "4         88      Av. España 647              7                 6.862069   \n",
       "5         85      Av. España 359              7                 4.076923   \n",
       "6         41           Mitre 446              8                 4.636364   \n",
       "7         87      Av. España 545              8                 5.923077   \n",
       "8         86      Av. España 481              8                 4.740741   \n",
       "9         49            Alem 852              9                 5.629630   \n",
       "\n",
       "   lugares_cuadra  \n",
       "0             NaN  \n",
       "1            13.0  \n",
       "2            15.0  \n",
       "3            14.0  \n",
       "4            11.0  \n",
       "5             7.0  \n",
       "6            16.0  \n",
       "7            10.0  \n",
       "8            10.0  \n",
       "9            12.0  "
      ]
     },
     "metadata": {},
     "output_type": "display_data"
    }
   ],
   "source": [
    "display(less_max_ocupacion)"
   ]
  },
  {
   "cell_type": "markdown",
   "metadata": {},
   "source": [
    "### Para esto todavia faltaria tener mas datos y poder deducir algo del maximo valor posible. Por ahora ningun dato tiene sentido y por la poca cantidad tampoco puedo deducir mucho."
   ]
  },
  {
   "cell_type": "markdown",
   "metadata": {},
   "source": [
    "## Cuadras de mas y menos transito (input-ouputs) (SUMO)"
   ]
  },
  {
   "cell_type": "code",
   "execution_count": 14,
   "metadata": {
    "ExecuteTime": {
     "end_time": "2019-10-15T19:47:17.241928Z",
     "start_time": "2019-10-15T19:47:17.234953Z"
    }
   },
   "outputs": [],
   "source": [
    "def traffic_density(data):\n",
    "    '''\n",
    "    Obtain the traffic density (how much in-outs) per street.\n",
    "    \n",
    "    Parameters:\n",
    "        SUMO_data: (DataFrame) a DataFrame containing all the data or only for\n",
    "        one day, e.g. only with the monday data.\n",
    "        \n",
    "    Returns:\n",
    "        traffic: all traffic density for all streets\n",
    "        max_traffic: traffic.tail(10)\n",
    "        min_traffic: traffic.head(10)\n",
    "    '''\n",
    "    traffic = data.copy()\n",
    "    traffic = traffic[['id_cuadra','direccion']].groupby(by='id_cuadra').count().reset_index()\n",
    "    traffic.rename(columns={'direccion': 'in-outs'}, inplace=True)\n",
    "    traffic = traffic.sort_values(by='in-outs')\n",
    "    traffic = traffic.merge(pd.read_csv(r'C:\\Users\\ing_l\\Tesis grado\\Data\\Extra_data\\idcuadra_to_direccion.csv'))\n",
    "    max_traffic = traffic[['id_cuadra','direccion','in-outs']].tail(10).sort_values(by='in-outs', ascending=False).reset_index(drop=True)\n",
    "    min_traffic = traffic[['id_cuadra','direccion','in-outs']].head(10).reset_index(drop=True)\n",
    "    return traffic, max_traffic, min_traffic"
   ]
  },
  {
   "cell_type": "code",
   "execution_count": 15,
   "metadata": {
    "ExecuteTime": {
     "end_time": "2019-10-15T19:47:17.291794Z",
     "start_time": "2019-10-15T19:47:17.243922Z"
    }
   },
   "outputs": [],
   "source": [
    "_, max_traffic, min_traffic = traffic_density(data)"
   ]
  },
  {
   "cell_type": "code",
   "execution_count": 16,
   "metadata": {
    "ExecuteTime": {
     "end_time": "2019-10-15T19:47:17.312738Z",
     "start_time": "2019-10-15T19:47:17.294789Z"
    }
   },
   "outputs": [
    {
     "data": {
      "text/html": [
       "<div>\n",
       "<style scoped>\n",
       "    .dataframe tbody tr th:only-of-type {\n",
       "        vertical-align: middle;\n",
       "    }\n",
       "\n",
       "    .dataframe tbody tr th {\n",
       "        vertical-align: top;\n",
       "    }\n",
       "\n",
       "    .dataframe thead th {\n",
       "        text-align: right;\n",
       "    }\n",
       "</style>\n",
       "<table border=\"1\" class=\"dataframe\">\n",
       "  <thead>\n",
       "    <tr style=\"text-align: right;\">\n",
       "      <th></th>\n",
       "      <th>id_cuadra</th>\n",
       "      <th>direccion</th>\n",
       "      <th>in-outs</th>\n",
       "    </tr>\n",
       "  </thead>\n",
       "  <tbody>\n",
       "    <tr>\n",
       "      <td>0</td>\n",
       "      <td>92</td>\n",
       "      <td>Tribunal de Faltas</td>\n",
       "      <td>10</td>\n",
       "    </tr>\n",
       "    <tr>\n",
       "      <td>1</td>\n",
       "      <td>77</td>\n",
       "      <td>Maipu 857</td>\n",
       "      <td>407</td>\n",
       "    </tr>\n",
       "    <tr>\n",
       "      <td>2</td>\n",
       "      <td>78</td>\n",
       "      <td>Maipu 953</td>\n",
       "      <td>445</td>\n",
       "    </tr>\n",
       "    <tr>\n",
       "      <td>3</td>\n",
       "      <td>71</td>\n",
       "      <td>14 de Julio 847</td>\n",
       "      <td>458</td>\n",
       "    </tr>\n",
       "    <tr>\n",
       "      <td>4</td>\n",
       "      <td>79</td>\n",
       "      <td>General Paz 347</td>\n",
       "      <td>460</td>\n",
       "    </tr>\n",
       "    <tr>\n",
       "      <td>5</td>\n",
       "      <td>41</td>\n",
       "      <td>Mitre 446</td>\n",
       "      <td>556</td>\n",
       "    </tr>\n",
       "    <tr>\n",
       "      <td>6</td>\n",
       "      <td>25</td>\n",
       "      <td>Belgrano 958</td>\n",
       "      <td>560</td>\n",
       "    </tr>\n",
       "    <tr>\n",
       "      <td>7</td>\n",
       "      <td>70</td>\n",
       "      <td>14 de Julio 767</td>\n",
       "      <td>607</td>\n",
       "    </tr>\n",
       "    <tr>\n",
       "      <td>8</td>\n",
       "      <td>85</td>\n",
       "      <td>Av. España 359</td>\n",
       "      <td>624</td>\n",
       "    </tr>\n",
       "    <tr>\n",
       "      <td>9</td>\n",
       "      <td>69</td>\n",
       "      <td>14 de Julio 657</td>\n",
       "      <td>764</td>\n",
       "    </tr>\n",
       "  </tbody>\n",
       "</table>\n",
       "</div>"
      ],
      "text/plain": [
       "   id_cuadra           direccion  in-outs\n",
       "0         92  Tribunal de Faltas       10\n",
       "1         77           Maipu 857      407\n",
       "2         78           Maipu 953      445\n",
       "3         71     14 de Julio 847      458\n",
       "4         79     General Paz 347      460\n",
       "5         41           Mitre 446      556\n",
       "6         25        Belgrano 958      560\n",
       "7         70     14 de Julio 767      607\n",
       "8         85      Av. España 359      624\n",
       "9         69     14 de Julio 657      764"
      ]
     },
     "metadata": {},
     "output_type": "display_data"
    },
    {
     "data": {
      "text/html": [
       "<div>\n",
       "<style scoped>\n",
       "    .dataframe tbody tr th:only-of-type {\n",
       "        vertical-align: middle;\n",
       "    }\n",
       "\n",
       "    .dataframe tbody tr th {\n",
       "        vertical-align: top;\n",
       "    }\n",
       "\n",
       "    .dataframe thead th {\n",
       "        text-align: right;\n",
       "    }\n",
       "</style>\n",
       "<table border=\"1\" class=\"dataframe\">\n",
       "  <thead>\n",
       "    <tr style=\"text-align: right;\">\n",
       "      <th></th>\n",
       "      <th>id_cuadra</th>\n",
       "      <th>direccion</th>\n",
       "      <th>in-outs</th>\n",
       "    </tr>\n",
       "  </thead>\n",
       "  <tbody>\n",
       "    <tr>\n",
       "      <td>0</td>\n",
       "      <td>59</td>\n",
       "      <td>Yrigoyen 655</td>\n",
       "      <td>3191</td>\n",
       "    </tr>\n",
       "    <tr>\n",
       "      <td>1</td>\n",
       "      <td>11</td>\n",
       "      <td>San Martín 658</td>\n",
       "      <td>2987</td>\n",
       "    </tr>\n",
       "    <tr>\n",
       "      <td>2</td>\n",
       "      <td>6</td>\n",
       "      <td>General Pinto 759</td>\n",
       "      <td>2973</td>\n",
       "    </tr>\n",
       "    <tr>\n",
       "      <td>3</td>\n",
       "      <td>4</td>\n",
       "      <td>Rodriguez 552</td>\n",
       "      <td>2819</td>\n",
       "    </tr>\n",
       "    <tr>\n",
       "      <td>4</td>\n",
       "      <td>45</td>\n",
       "      <td>Alem 480</td>\n",
       "      <td>2745</td>\n",
       "    </tr>\n",
       "    <tr>\n",
       "      <td>5</td>\n",
       "      <td>33</td>\n",
       "      <td>Sarmiento 755</td>\n",
       "      <td>2722</td>\n",
       "    </tr>\n",
       "    <tr>\n",
       "      <td>6</td>\n",
       "      <td>89</td>\n",
       "      <td>Av. España 737</td>\n",
       "      <td>2710</td>\n",
       "    </tr>\n",
       "    <tr>\n",
       "      <td>7</td>\n",
       "      <td>46</td>\n",
       "      <td>Alem 556</td>\n",
       "      <td>2614</td>\n",
       "    </tr>\n",
       "    <tr>\n",
       "      <td>8</td>\n",
       "      <td>75</td>\n",
       "      <td>Maipu 333</td>\n",
       "      <td>2565</td>\n",
       "    </tr>\n",
       "    <tr>\n",
       "      <td>9</td>\n",
       "      <td>5</td>\n",
       "      <td>9 de Julio 441</td>\n",
       "      <td>2494</td>\n",
       "    </tr>\n",
       "  </tbody>\n",
       "</table>\n",
       "</div>"
      ],
      "text/plain": [
       "   id_cuadra          direccion  in-outs\n",
       "0         59       Yrigoyen 655     3191\n",
       "1         11     San Martín 658     2987\n",
       "2          6  General Pinto 759     2973\n",
       "3          4      Rodriguez 552     2819\n",
       "4         45           Alem 480     2745\n",
       "5         33      Sarmiento 755     2722\n",
       "6         89     Av. España 737     2710\n",
       "7         46           Alem 556     2614\n",
       "8         75          Maipu 333     2565\n",
       "9          5     9 de Julio 441     2494"
      ]
     },
     "metadata": {},
     "output_type": "display_data"
    }
   ],
   "source": [
    "display(min_traffic)\n",
    "display(max_traffic)"
   ]
  },
  {
   "cell_type": "markdown",
   "metadata": {},
   "source": [
    "## To plot day activity graphs"
   ]
  },
  {
   "cell_type": "code",
   "execution_count": 17,
   "metadata": {
    "ExecuteTime": {
     "end_time": "2019-10-15T19:47:17.328695Z",
     "start_time": "2019-10-15T19:47:17.314733Z"
    }
   },
   "outputs": [],
   "source": [
    "def get_filtered_time(plot_data, k=5):\n",
    "    '''\n",
    "    Obtains a dataframe with fixed dates to plot\n",
    "    \n",
    "    Parameters: \n",
    "        plot_data_date: dataframe containing the fecha_hora values of the plotted data\n",
    "        k: how much dates will appear in the graph\n",
    "        \n",
    "    Returns: a dataframe containing only k dates and empty values\n",
    "    '''\n",
    "    \n",
    "    #Get the timestamp of the fecha_hora column\n",
    "    time = plot_data['fecha_hora'].reset_index(drop=True).apply(lambda x: pd.Timestamp(x)).copy()\n",
    "    \n",
    "    #Obtain the nearest row to 13:00hs\n",
    "    '''same_hour = time.apply(lambda x: x.hour == 13)\n",
    "    same_minutes = time.apply(lambda x: x.minute < 10)\n",
    "    same_time = same_hour * same_minutes\n",
    "    same_time_index = time[same_time].index[0]\n",
    "    '''\n",
    "    #Get the k values to be appended in the out (time var)\n",
    "    size = len(time)\n",
    "    pos = [0]\n",
    "    vals = [str(time[pos[0]].time())]\n",
    "    for i in range(1,k+1):\n",
    "        pos.append(int(size*(i/k)) - 1)\n",
    "        vals.append(str(time[pos[i]].time()))\n",
    "    #pos[int(len(pos)/2)+1] = same_time_index\n",
    "    #vals[int(len(vals)/2)+1] = str(time[pos[int(len(vals)/2)+1]].time())\n",
    "    '''pos = [0, int(size*(1/4)), same_time_index, int(size*(3/4)), int(size-1)]\n",
    "    val1 = str(time[pos[0]].time())\n",
    "    val2 = str(time[pos[1]].time())\n",
    "    val3 = str(time[pos[2]].time())\n",
    "    val4 = str(time[pos[3]].time())\n",
    "    val5 = str(time[pos[4]].time())\n",
    "    '''\n",
    "    #Fill with empty values the time Series\n",
    "    time = pd.Series('', index=time.index)\n",
    "    \n",
    "    #Put all obtained values into time Series\n",
    "    for i in range(k+1):\n",
    "        time.iloc[pos[i]] = vals[i]\n",
    "    '''time.iloc[pos[0]] = val1\n",
    "    time.iloc[pos[1]] = val2\n",
    "    time.iloc[pos[2]] = val3\n",
    "    time.iloc[pos[3]] = val4\n",
    "    time.iloc[pos[4]] = val5\n",
    "    '''\n",
    "    return time"
   ]
  },
  {
   "cell_type": "code",
   "execution_count": 18,
   "metadata": {
    "ExecuteTime": {
     "end_time": "2019-10-15T19:47:17.341660Z",
     "start_time": "2019-10-15T19:47:17.330690Z"
    }
   },
   "outputs": [],
   "source": [
    "def plot_line_graph(plot_data, date, street, max_ocup=30, name='Original', color='b', k=5):\n",
    "\n",
    "    #Get the values for each date we have\n",
    "    plot_data_date = plot_data.loc[plot_data.fecha == pd.Timestamp(date).date()].copy()\n",
    "\n",
    "    #Obtaining the mean to plot in the title of the graph\n",
    "    mean = plot_data_date['ocupacion'].mean()\n",
    "    #Modify the plot size\n",
    "    plt.rcParams['figure.figsize'] = (12,4)\n",
    "    \n",
    "    #The max value\n",
    "    plt.ylim([0, max_ocup+1])\n",
    "\n",
    "    #Just for the x axis, get the first, medium and last time value\n",
    "    if k > len(plot_data_date):\n",
    "        time = get_filtered_time(plot_data_date, len(plot_data_date))\n",
    "    else:\n",
    "        time = get_filtered_time(plot_data_date, k)\n",
    "                \n",
    "    #Set the label titles\n",
    "    plt.xlabel('Time')\n",
    "    plt.ylabel('Parked cars')\n",
    "    plt.title('Parked cars in street nº{} along the day ({}). Mean parked cars: {}. Sample of {} parked cars'.format(street, date, mean, len(plot_data_date)))\n",
    "    \n",
    "    #Set the plot data for each graph (ax1,ax2,ax3)\n",
    "    plt.plot(plot_data_date['fecha_hora'], plot_data_date['ocupacion'], label='{} date'.format(name), color=color)\n",
    "    \n",
    "    plt.xticks(plot_data_date['fecha_hora'], time)\n",
    "    plt.legend()\n",
    "    plt.show()"
   ]
  },
  {
   "cell_type": "code",
   "execution_count": 19,
   "metadata": {
    "ExecuteTime": {
     "end_time": "2019-10-15T19:47:17.359622Z",
     "start_time": "2019-10-15T19:47:17.343657Z"
    },
    "scrolled": false
   },
   "outputs": [],
   "source": [
    "def get_max_min_mean_dates(to_plot_data, street, date):\n",
    "    street_name = to_plot_data.loc[to_plot_data.id_cuadra == street, 'direccion'].iloc[0]\n",
    "\n",
    "    plot_data = to_plot_data.loc[to_plot_data.id_cuadra == street, ['fecha_hora','ocupacion']].copy()\n",
    "\n",
    "    plot_data['fecha'] = plot_data['fecha_hora'].apply(lambda x: pd.Timestamp(x).date())\n",
    "\n",
    "    '''max_mean = plot_data.groupby(by='fecha').mean().max()[0]\n",
    "    date_max_mean = plot_data.groupby(by='fecha').mean().reset_index()\n",
    "    date_max_mean = date_max_mean.loc[date_max_mean['ocupacion'] == max_mean, 'fecha'].iloc[0]\n",
    "    '''\n",
    "    def search_date_of_mean(p_d, what, min_quantity=150):\n",
    "        '''\n",
    "        To search the day with *what* parked cars, but with at least\n",
    "        min_quantity registers (rows)\n",
    "        '''\n",
    "        plot_data = p_d.copy()\n",
    "        full_mean = plot_data.groupby(by='fecha').mean().reset_index()\n",
    "\n",
    "        if what=='max':\n",
    "            mean = full_mean['ocupacion'].max()\n",
    "        elif what=='min':\n",
    "            mean = full_mean['ocupacion'].min()\n",
    "\n",
    "        date_of_mean = full_mean.loc[full_mean['ocupacion'] == mean, 'fecha'].iloc[0]\n",
    "        \n",
    "        #If the date min mean have values from 9hs to 20hs or more we want it, else no...\n",
    "        plot_data_of_date = plot_data.loc[plot_data['fecha'] == date_of_mean, 'fecha_hora'].reset_index(drop=True)\n",
    "        \n",
    "        if (pd.Timestamp(plot_data_of_date.iloc[0]).time().hour < 9) and (pd.Timestamp(plot_data_of_date.iloc[len(plot_data_of_date)-1]).time().hour > 19):\n",
    "            if min_quantity == 0:\n",
    "                return date_of_mean\n",
    "            elif len(plot_data_of_date) > min_quantity:\n",
    "                return date_of_mean\n",
    "            else:\n",
    "                return search_date_of_mean(plot_data.loc[plot_data['fecha'] != date_of_mean], what, min_quantity)\n",
    "        else:\n",
    "            return search_date_of_mean(plot_data.loc[plot_data['fecha'] != date_of_mean], what, min_quantity)\n",
    "\n",
    "    #Date when there was the max mean parked cars in select street\n",
    "    date_max_mean = search_date_of_mean(plot_data, what='max', min_quantity=0)\n",
    "    \n",
    "    #Date when there was the min mean parked cars in select street\n",
    "    date_min_mean = search_date_of_mean(plot_data, what='min', min_quantity=0)\n",
    "\n",
    "    print(street_name)\n",
    "\n",
    "    #Getting the max ocup to plot all the graphs with the same y-axis values\n",
    "    max_ocup1 = plot_data.loc[plot_data['fecha'] == pd.Timestamp(date).date(),'ocupacion'].max()\n",
    "    max_ocup2 = plot_data.loc[plot_data['fecha'] == pd.Timestamp(date_max_mean).date(), 'ocupacion'].max()\n",
    "    max_ocup3 = plot_data.loc[plot_data['fecha'] == pd.Timestamp(date_min_mean).date(), 'ocupacion'].max()\n",
    "\n",
    "    max_ocup = max(max_ocup1, max_ocup2, max_ocup3)\n",
    "    \n",
    "    return plot_data, date_max_mean, date_min_mean, max_ocup "
   ]
  },
  {
   "cell_type": "code",
   "execution_count": 20,
   "metadata": {
    "ExecuteTime": {
     "end_time": "2019-10-15T19:47:17.441921Z",
     "start_time": "2019-10-15T19:47:17.361608Z"
    }
   },
   "outputs": [
    {
     "name": "stdout",
     "output_type": "stream",
     "text": [
      "Yrigoyen 655\n"
     ]
    }
   ],
   "source": [
    "plot_data, date_max_mean, date_min_mean, max_ocup = get_max_min_mean_dates(data, street, date)"
   ]
  },
  {
   "cell_type": "code",
   "execution_count": 21,
   "metadata": {
    "ExecuteTime": {
     "end_time": "2019-10-15T19:47:17.927131Z",
     "start_time": "2019-10-15T19:47:17.442921Z"
    }
   },
   "outputs": [
    {
     "data": {
      "image/png": "[encoded data removed]",
      "text/plain": [
       "<Figure size 864x288 with 1 Axes>"
      ]
     },
     "metadata": {
      "needs_background": "light"
     },
     "output_type": "display_data"
    }
   ],
   "source": [
    "plot_line_graph(plot_data, date, street=street, max_ocup=max_ocup)"
   ]
  },
  {
   "cell_type": "code",
   "execution_count": 22,
   "metadata": {
    "ExecuteTime": {
     "end_time": "2019-10-15T19:47:18.449734Z",
     "start_time": "2019-10-15T19:47:17.929127Z"
    }
   },
   "outputs": [
    {
     "data": {
      "image/png": "[encoded data removed]",
      "text/plain": [
       "<Figure size 864x288 with 1 Axes>"
      ]
     },
     "metadata": {
      "needs_background": "light"
     },
     "output_type": "display_data"
    }
   ],
   "source": [
    "plot_line_graph(plot_data, date_max_mean, street=street, max_ocup=max_ocup, name='Max mean', color='r')"
   ]
  },
  {
   "cell_type": "code",
   "execution_count": 23,
   "metadata": {
    "ExecuteTime": {
     "end_time": "2019-10-15T19:47:18.723546Z",
     "start_time": "2019-10-15T19:47:18.453762Z"
    }
   },
   "outputs": [
    {
     "data": {
      "image/png": "[encoded data removed]",
      "text/plain": [
       "<Figure size 864x288 with 1 Axes>"
      ]
     },
     "metadata": {
      "needs_background": "light"
     },
     "output_type": "display_data"
    }
   ],
   "source": [
    "plot_line_graph(plot_data, date_min_mean, street=street, max_ocup=max_ocup, name='Min mean', color='g')"
   ]
  },
  {
   "cell_type": "markdown",
   "metadata": {},
   "source": [
    "## En una ventana de tiempo la cantidad de entradas y salidas que se tienen para poder predecir donde se podrian liberar lugares para estacionar mas frecuentemente"
   ]
  },
  {
   "cell_type": "code",
   "execution_count": 24,
   "metadata": {
    "ExecuteTime": {
     "end_time": "2019-10-15T19:47:18.737472Z",
     "start_time": "2019-10-15T19:47:18.726528Z"
    }
   },
   "outputs": [],
   "source": [
    "def inputs_outputs_per_hour(data):\n",
    "    '''\n",
    "    Obtain the inputs and outputs (and the sub of both) per street.\n",
    "    \n",
    "    Parameters:\n",
    "        SUMO_data: (DataFrame) a DataFrame containing all the data or only for\n",
    "        one day, e.g. only with the monday data.\n",
    "        \n",
    "    Returns:\n",
    "        in_out_per_hour: (DataFrame) df that contains the inputs, the outputs \n",
    "        and the sub: entradas-salidas.\n",
    "    '''\n",
    "    \n",
    "    #Create column dia and tiempo just to obtain the inputs and outputs in an easy way\n",
    "    in_out_per_hour= data.copy()\n",
    "    in_out_per_hour = in_out_per_hour[['id_cuadra','fecha_hora','operacion']]\n",
    "    in_out_per_hour['dia'] = in_out_per_hour['fecha_hora'].apply(lambda x: pd.Timestamp(x).date().day)\n",
    "    in_out_per_hour['tiempo'] = in_out_per_hour['fecha_hora'].apply(lambda x: pd.Timestamp(x).time().hour)\n",
    "\n",
    "    #Obtain 2 df, one with the count of the inputs and the other with the count of the outputs\n",
    "    in_per_hour = in_out_per_hour.loc[in_out_per_hour['operacion'] == 'Entrada', ['dia','tiempo','id_cuadra', 'operacion']].groupby(by=['id_cuadra', 'dia','tiempo']).count()\n",
    "    out_per_hour = in_out_per_hour.loc[in_out_per_hour['operacion'] == 'Salida', ['dia','tiempo','id_cuadra', 'operacion']].groupby(by=['id_cuadra', 'dia','tiempo']).count()\n",
    "    in_per_hour.rename(columns={'operacion': 'entradas'}, inplace=True)\n",
    "    out_per_hour.rename(columns={'operacion': 'salidas'}, inplace=True)\n",
    "\n",
    "    #Obtain the mean of the inputs and outputs\n",
    "    in_per_hour = in_per_hour.groupby(by=['id_cuadra','tiempo']).mean().reset_index()\n",
    "    out_per_hour = out_per_hour.groupby(by=['id_cuadra','tiempo']).mean().reset_index()\n",
    "\n",
    "    #Merge both in and out per hour to get the diff\n",
    "    in_out_per_hour = in_per_hour.merge(out_per_hour, how='outer', on=['id_cuadra','tiempo'])\n",
    "    in_out_per_hour.fillna(0, inplace=True)\n",
    "\n",
    "    #Subs values\n",
    "    in_out_per_hour['in - out'] = in_out_per_hour['entradas'] - in_out_per_hour['salidas']\n",
    "    in_out_per_hour.rename(columns={'tiempo': 'hora'}, inplace=True)\n",
    "\n",
    "    return in_out_per_hour"
   ]
  },
  {
   "cell_type": "code",
   "execution_count": 25,
   "metadata": {
    "ExecuteTime": {
     "end_time": "2019-10-15T19:47:19.957203Z",
     "start_time": "2019-10-15T19:47:18.739465Z"
    }
   },
   "outputs": [],
   "source": [
    "in_out_per_hour = inputs_outputs_per_hour(data)"
   ]
  },
  {
   "cell_type": "markdown",
   "metadata": {},
   "source": [
    "### All streets info (in-outs)"
   ]
  },
  {
   "cell_type": "code",
   "execution_count": 26,
   "metadata": {
    "ExecuteTime": {
     "end_time": "2019-10-15T19:47:19.972163Z",
     "start_time": "2019-10-15T19:47:19.959210Z"
    }
   },
   "outputs": [
    {
     "data": {
      "text/html": [
       "<div>\n",
       "<style scoped>\n",
       "    .dataframe tbody tr th:only-of-type {\n",
       "        vertical-align: middle;\n",
       "    }\n",
       "\n",
       "    .dataframe tbody tr th {\n",
       "        vertical-align: top;\n",
       "    }\n",
       "\n",
       "    .dataframe thead th {\n",
       "        text-align: right;\n",
       "    }\n",
       "</style>\n",
       "<table border=\"1\" class=\"dataframe\">\n",
       "  <thead>\n",
       "    <tr style=\"text-align: right;\">\n",
       "      <th></th>\n",
       "      <th>id_cuadra</th>\n",
       "      <th>hora</th>\n",
       "      <th>entradas</th>\n",
       "      <th>salidas</th>\n",
       "      <th>in - out</th>\n",
       "    </tr>\n",
       "  </thead>\n",
       "  <tbody>\n",
       "    <tr>\n",
       "      <td>759</td>\n",
       "      <td>59</td>\n",
       "      <td>7</td>\n",
       "      <td>2.125000</td>\n",
       "      <td>14.500000</td>\n",
       "      <td>-12.375000</td>\n",
       "    </tr>\n",
       "    <tr>\n",
       "      <td>760</td>\n",
       "      <td>59</td>\n",
       "      <td>8</td>\n",
       "      <td>3.111111</td>\n",
       "      <td>4.000000</td>\n",
       "      <td>-0.888889</td>\n",
       "    </tr>\n",
       "    <tr>\n",
       "      <td>761</td>\n",
       "      <td>59</td>\n",
       "      <td>9</td>\n",
       "      <td>9.733333</td>\n",
       "      <td>2.000000</td>\n",
       "      <td>7.733333</td>\n",
       "    </tr>\n",
       "    <tr>\n",
       "      <td>762</td>\n",
       "      <td>59</td>\n",
       "      <td>10</td>\n",
       "      <td>20.866667</td>\n",
       "      <td>4.200000</td>\n",
       "      <td>16.666667</td>\n",
       "    </tr>\n",
       "    <tr>\n",
       "      <td>763</td>\n",
       "      <td>59</td>\n",
       "      <td>11</td>\n",
       "      <td>10.333333</td>\n",
       "      <td>11.400000</td>\n",
       "      <td>-1.066667</td>\n",
       "    </tr>\n",
       "    <tr>\n",
       "      <td>764</td>\n",
       "      <td>59</td>\n",
       "      <td>12</td>\n",
       "      <td>6.142857</td>\n",
       "      <td>12.466667</td>\n",
       "      <td>-6.323810</td>\n",
       "    </tr>\n",
       "    <tr>\n",
       "      <td>765</td>\n",
       "      <td>59</td>\n",
       "      <td>13</td>\n",
       "      <td>8.250000</td>\n",
       "      <td>8.937500</td>\n",
       "      <td>-0.687500</td>\n",
       "    </tr>\n",
       "    <tr>\n",
       "      <td>766</td>\n",
       "      <td>59</td>\n",
       "      <td>14</td>\n",
       "      <td>5.538462</td>\n",
       "      <td>9.000000</td>\n",
       "      <td>-3.461538</td>\n",
       "    </tr>\n",
       "    <tr>\n",
       "      <td>767</td>\n",
       "      <td>59</td>\n",
       "      <td>15</td>\n",
       "      <td>5.692308</td>\n",
       "      <td>5.857143</td>\n",
       "      <td>-0.164835</td>\n",
       "    </tr>\n",
       "    <tr>\n",
       "      <td>768</td>\n",
       "      <td>59</td>\n",
       "      <td>16</td>\n",
       "      <td>8.866667</td>\n",
       "      <td>6.000000</td>\n",
       "      <td>2.866667</td>\n",
       "    </tr>\n",
       "    <tr>\n",
       "      <td>769</td>\n",
       "      <td>59</td>\n",
       "      <td>17</td>\n",
       "      <td>14.500000</td>\n",
       "      <td>6.923077</td>\n",
       "      <td>7.576923</td>\n",
       "    </tr>\n",
       "    <tr>\n",
       "      <td>770</td>\n",
       "      <td>59</td>\n",
       "      <td>18</td>\n",
       "      <td>13.153846</td>\n",
       "      <td>7.714286</td>\n",
       "      <td>5.439560</td>\n",
       "    </tr>\n",
       "    <tr>\n",
       "      <td>771</td>\n",
       "      <td>59</td>\n",
       "      <td>19</td>\n",
       "      <td>4.692308</td>\n",
       "      <td>13.357143</td>\n",
       "      <td>-8.664835</td>\n",
       "    </tr>\n",
       "    <tr>\n",
       "      <td>772</td>\n",
       "      <td>59</td>\n",
       "      <td>20</td>\n",
       "      <td>1.000000</td>\n",
       "      <td>12.214286</td>\n",
       "      <td>-11.214286</td>\n",
       "    </tr>\n",
       "    <tr>\n",
       "      <td>1387</td>\n",
       "      <td>59</td>\n",
       "      <td>0</td>\n",
       "      <td>0.000000</td>\n",
       "      <td>4.222222</td>\n",
       "      <td>-4.222222</td>\n",
       "    </tr>\n",
       "    <tr>\n",
       "      <td>1388</td>\n",
       "      <td>59</td>\n",
       "      <td>21</td>\n",
       "      <td>0.000000</td>\n",
       "      <td>5.727273</td>\n",
       "      <td>-5.727273</td>\n",
       "    </tr>\n",
       "    <tr>\n",
       "      <td>1389</td>\n",
       "      <td>59</td>\n",
       "      <td>22</td>\n",
       "      <td>0.000000</td>\n",
       "      <td>2.142857</td>\n",
       "      <td>-2.142857</td>\n",
       "    </tr>\n",
       "    <tr>\n",
       "      <td>1390</td>\n",
       "      <td>59</td>\n",
       "      <td>23</td>\n",
       "      <td>0.000000</td>\n",
       "      <td>1.500000</td>\n",
       "      <td>-1.500000</td>\n",
       "    </tr>\n",
       "  </tbody>\n",
       "</table>\n",
       "</div>"
      ],
      "text/plain": [
       "      id_cuadra  hora   entradas    salidas   in - out\n",
       "759          59     7   2.125000  14.500000 -12.375000\n",
       "760          59     8   3.111111   4.000000  -0.888889\n",
       "761          59     9   9.733333   2.000000   7.733333\n",
       "762          59    10  20.866667   4.200000  16.666667\n",
       "763          59    11  10.333333  11.400000  -1.066667\n",
       "764          59    12   6.142857  12.466667  -6.323810\n",
       "765          59    13   8.250000   8.937500  -0.687500\n",
       "766          59    14   5.538462   9.000000  -3.461538\n",
       "767          59    15   5.692308   5.857143  -0.164835\n",
       "768          59    16   8.866667   6.000000   2.866667\n",
       "769          59    17  14.500000   6.923077   7.576923\n",
       "770          59    18  13.153846   7.714286   5.439560\n",
       "771          59    19   4.692308  13.357143  -8.664835\n",
       "772          59    20   1.000000  12.214286 -11.214286\n",
       "1387         59     0   0.000000   4.222222  -4.222222\n",
       "1388         59    21   0.000000   5.727273  -5.727273\n",
       "1389         59    22   0.000000   2.142857  -2.142857\n",
       "1390         59    23   0.000000   1.500000  -1.500000"
      ]
     },
     "metadata": {},
     "output_type": "display_data"
    }
   ],
   "source": [
    "'''\n",
    "in-out > 0: more entradas than salidas\n",
    "in-out < 0: more salidas than entradas\n",
    "'''\n",
    "display(in_out_per_hour.loc[in_out_per_hour.id_cuadra == 59])"
   ]
  },
  {
   "cell_type": "markdown",
   "metadata": {},
   "source": [
    "### Selected street info (in-outs) ordered by hora and by in-out"
   ]
  },
  {
   "cell_type": "code",
   "execution_count": 27,
   "metadata": {
    "ExecuteTime": {
     "end_time": "2019-10-15T19:47:19.980143Z",
     "start_time": "2019-10-15T19:47:19.974159Z"
    }
   },
   "outputs": [
    {
     "name": "stdout",
     "output_type": "stream",
     "text": [
      "Yrigoyen 655\n"
     ]
    }
   ],
   "source": [
    "'''\n",
    "in-out > 0: more entradas than salidas\n",
    "in-out < 0: more salidas than entradas\n",
    "'''\n",
    "print(data.loc[data.id_cuadra == street, 'direccion'].iloc[0])"
   ]
  },
  {
   "cell_type": "code",
   "execution_count": 28,
   "metadata": {
    "ExecuteTime": {
     "end_time": "2019-10-15T19:47:20.004077Z",
     "start_time": "2019-10-15T19:47:19.983134Z"
    }
   },
   "outputs": [
    {
     "data": {
      "text/html": [
       "<div>\n",
       "<style scoped>\n",
       "    .dataframe tbody tr th:only-of-type {\n",
       "        vertical-align: middle;\n",
       "    }\n",
       "\n",
       "    .dataframe tbody tr th {\n",
       "        vertical-align: top;\n",
       "    }\n",
       "\n",
       "    .dataframe thead th {\n",
       "        text-align: right;\n",
       "    }\n",
       "</style>\n",
       "<table border=\"1\" class=\"dataframe\">\n",
       "  <thead>\n",
       "    <tr style=\"text-align: right;\">\n",
       "      <th></th>\n",
       "      <th>hora</th>\n",
       "      <th>in - out</th>\n",
       "    </tr>\n",
       "  </thead>\n",
       "  <tbody>\n",
       "    <tr>\n",
       "      <td>0</td>\n",
       "      <td>7</td>\n",
       "      <td>-12.375000</td>\n",
       "    </tr>\n",
       "    <tr>\n",
       "      <td>1</td>\n",
       "      <td>8</td>\n",
       "      <td>-0.888889</td>\n",
       "    </tr>\n",
       "    <tr>\n",
       "      <td>2</td>\n",
       "      <td>9</td>\n",
       "      <td>7.733333</td>\n",
       "    </tr>\n",
       "    <tr>\n",
       "      <td>3</td>\n",
       "      <td>10</td>\n",
       "      <td>16.666667</td>\n",
       "    </tr>\n",
       "    <tr>\n",
       "      <td>4</td>\n",
       "      <td>11</td>\n",
       "      <td>-1.066667</td>\n",
       "    </tr>\n",
       "    <tr>\n",
       "      <td>5</td>\n",
       "      <td>12</td>\n",
       "      <td>-6.323810</td>\n",
       "    </tr>\n",
       "    <tr>\n",
       "      <td>6</td>\n",
       "      <td>13</td>\n",
       "      <td>-0.687500</td>\n",
       "    </tr>\n",
       "    <tr>\n",
       "      <td>7</td>\n",
       "      <td>14</td>\n",
       "      <td>-3.461538</td>\n",
       "    </tr>\n",
       "    <tr>\n",
       "      <td>8</td>\n",
       "      <td>15</td>\n",
       "      <td>-0.164835</td>\n",
       "    </tr>\n",
       "    <tr>\n",
       "      <td>9</td>\n",
       "      <td>16</td>\n",
       "      <td>2.866667</td>\n",
       "    </tr>\n",
       "    <tr>\n",
       "      <td>10</td>\n",
       "      <td>17</td>\n",
       "      <td>7.576923</td>\n",
       "    </tr>\n",
       "    <tr>\n",
       "      <td>11</td>\n",
       "      <td>18</td>\n",
       "      <td>5.439560</td>\n",
       "    </tr>\n",
       "    <tr>\n",
       "      <td>12</td>\n",
       "      <td>19</td>\n",
       "      <td>-8.664835</td>\n",
       "    </tr>\n",
       "    <tr>\n",
       "      <td>13</td>\n",
       "      <td>20</td>\n",
       "      <td>-11.214286</td>\n",
       "    </tr>\n",
       "    <tr>\n",
       "      <td>14</td>\n",
       "      <td>0</td>\n",
       "      <td>-4.222222</td>\n",
       "    </tr>\n",
       "    <tr>\n",
       "      <td>15</td>\n",
       "      <td>21</td>\n",
       "      <td>-5.727273</td>\n",
       "    </tr>\n",
       "    <tr>\n",
       "      <td>16</td>\n",
       "      <td>22</td>\n",
       "      <td>-2.142857</td>\n",
       "    </tr>\n",
       "    <tr>\n",
       "      <td>17</td>\n",
       "      <td>23</td>\n",
       "      <td>-1.500000</td>\n",
       "    </tr>\n",
       "  </tbody>\n",
       "</table>\n",
       "</div>"
      ],
      "text/plain": [
       "    hora   in - out\n",
       "0      7 -12.375000\n",
       "1      8  -0.888889\n",
       "2      9   7.733333\n",
       "3     10  16.666667\n",
       "4     11  -1.066667\n",
       "5     12  -6.323810\n",
       "6     13  -0.687500\n",
       "7     14  -3.461538\n",
       "8     15  -0.164835\n",
       "9     16   2.866667\n",
       "10    17   7.576923\n",
       "11    18   5.439560\n",
       "12    19  -8.664835\n",
       "13    20 -11.214286\n",
       "14     0  -4.222222\n",
       "15    21  -5.727273\n",
       "16    22  -2.142857\n",
       "17    23  -1.500000"
      ]
     },
     "metadata": {},
     "output_type": "display_data"
    },
    {
     "data": {
      "text/html": [
       "<div>\n",
       "<style scoped>\n",
       "    .dataframe tbody tr th:only-of-type {\n",
       "        vertical-align: middle;\n",
       "    }\n",
       "\n",
       "    .dataframe tbody tr th {\n",
       "        vertical-align: top;\n",
       "    }\n",
       "\n",
       "    .dataframe thead th {\n",
       "        text-align: right;\n",
       "    }\n",
       "</style>\n",
       "<table border=\"1\" class=\"dataframe\">\n",
       "  <thead>\n",
       "    <tr style=\"text-align: right;\">\n",
       "      <th></th>\n",
       "      <th>hora</th>\n",
       "      <th>in - out</th>\n",
       "    </tr>\n",
       "  </thead>\n",
       "  <tbody>\n",
       "    <tr>\n",
       "      <td>0</td>\n",
       "      <td>7</td>\n",
       "      <td>-12.375000</td>\n",
       "    </tr>\n",
       "    <tr>\n",
       "      <td>1</td>\n",
       "      <td>20</td>\n",
       "      <td>-11.214286</td>\n",
       "    </tr>\n",
       "    <tr>\n",
       "      <td>2</td>\n",
       "      <td>19</td>\n",
       "      <td>-8.664835</td>\n",
       "    </tr>\n",
       "    <tr>\n",
       "      <td>3</td>\n",
       "      <td>12</td>\n",
       "      <td>-6.323810</td>\n",
       "    </tr>\n",
       "    <tr>\n",
       "      <td>4</td>\n",
       "      <td>21</td>\n",
       "      <td>-5.727273</td>\n",
       "    </tr>\n",
       "    <tr>\n",
       "      <td>5</td>\n",
       "      <td>0</td>\n",
       "      <td>-4.222222</td>\n",
       "    </tr>\n",
       "    <tr>\n",
       "      <td>6</td>\n",
       "      <td>14</td>\n",
       "      <td>-3.461538</td>\n",
       "    </tr>\n",
       "    <tr>\n",
       "      <td>7</td>\n",
       "      <td>22</td>\n",
       "      <td>-2.142857</td>\n",
       "    </tr>\n",
       "    <tr>\n",
       "      <td>8</td>\n",
       "      <td>23</td>\n",
       "      <td>-1.500000</td>\n",
       "    </tr>\n",
       "    <tr>\n",
       "      <td>9</td>\n",
       "      <td>11</td>\n",
       "      <td>-1.066667</td>\n",
       "    </tr>\n",
       "    <tr>\n",
       "      <td>10</td>\n",
       "      <td>8</td>\n",
       "      <td>-0.888889</td>\n",
       "    </tr>\n",
       "    <tr>\n",
       "      <td>11</td>\n",
       "      <td>13</td>\n",
       "      <td>-0.687500</td>\n",
       "    </tr>\n",
       "    <tr>\n",
       "      <td>12</td>\n",
       "      <td>15</td>\n",
       "      <td>-0.164835</td>\n",
       "    </tr>\n",
       "    <tr>\n",
       "      <td>13</td>\n",
       "      <td>16</td>\n",
       "      <td>2.866667</td>\n",
       "    </tr>\n",
       "    <tr>\n",
       "      <td>14</td>\n",
       "      <td>18</td>\n",
       "      <td>5.439560</td>\n",
       "    </tr>\n",
       "    <tr>\n",
       "      <td>15</td>\n",
       "      <td>17</td>\n",
       "      <td>7.576923</td>\n",
       "    </tr>\n",
       "    <tr>\n",
       "      <td>16</td>\n",
       "      <td>9</td>\n",
       "      <td>7.733333</td>\n",
       "    </tr>\n",
       "    <tr>\n",
       "      <td>17</td>\n",
       "      <td>10</td>\n",
       "      <td>16.666667</td>\n",
       "    </tr>\n",
       "  </tbody>\n",
       "</table>\n",
       "</div>"
      ],
      "text/plain": [
       "    hora   in - out\n",
       "0      7 -12.375000\n",
       "1     20 -11.214286\n",
       "2     19  -8.664835\n",
       "3     12  -6.323810\n",
       "4     21  -5.727273\n",
       "5      0  -4.222222\n",
       "6     14  -3.461538\n",
       "7     22  -2.142857\n",
       "8     23  -1.500000\n",
       "9     11  -1.066667\n",
       "10     8  -0.888889\n",
       "11    13  -0.687500\n",
       "12    15  -0.164835\n",
       "13    16   2.866667\n",
       "14    18   5.439560\n",
       "15    17   7.576923\n",
       "16     9   7.733333\n",
       "17    10  16.666667"
      ]
     },
     "metadata": {},
     "output_type": "display_data"
    }
   ],
   "source": [
    "#First we display the in-out for the designated street orderer by the hora\n",
    "display(in_out_per_hour.loc[in_out_per_hour['id_cuadra'] == street, ['hora','in - out']].reset_index(drop=True))\n",
    "\n",
    "#And at the right we will display the in-out orderer by the in-out (ascendant)\n",
    "display(in_out_per_hour.loc[in_out_per_hour['id_cuadra'] == street, ['hora','in - out']].sort_values(by='in - out').reset_index(drop=True))"
   ]
  },
  {
   "cell_type": "markdown",
   "metadata": {},
   "source": [
    "# Heat map"
   ]
  },
  {
   "cell_type": "code",
   "execution_count": 29,
   "metadata": {
    "ExecuteTime": {
     "end_time": "2019-10-15T19:47:20.019054Z",
     "start_time": "2019-10-15T19:47:20.006073Z"
    }
   },
   "outputs": [],
   "source": [
    "def get_data_for_scatter_graph(data, hour, date=None):\n",
    "    '''\n",
    "    Parameters:\n",
    "        data: (DataFrame) full data that contains all rows with all ocupacion changes.\n",
    "        hour: (int) the hour of the day to see the mean parked cars.\n",
    "    Return:\n",
    "        scatter_data: (DataFrame) df that contains the data to be plotted in the scatter \n",
    "    '''\n",
    "    \n",
    "    scatter_data = data.copy()[['id_cuadra', 'direccion', 'fecha_hora','ocupacion', 'ocupacion_max']]\n",
    "\n",
    "    #Obtain the coordenadas and direccion for each street\n",
    "    scatter_data = scatter_data.merge(pd.read_csv(r'C:\\Users\\ing_l\\Tesis grado\\Data\\Extra_data\\idcuadra_to_coordenadas.csv'))\n",
    "    scatter_data = scatter_data.merge(pd.read_csv(r'C:\\Users\\ing_l\\Tesis grado\\Data\\Extra_data\\idcuadra_to_direccion.csv'))\n",
    "\n",
    "    #Obtain all streets (also that who dont have any ocupacion at designated hour)\n",
    "    all_streets = scatter_data[['id_cuadra','direccion','latitud','longitud']].copy().drop_duplicates()\n",
    "\n",
    "    if date != None:\n",
    "        scatter_data['fecha'] = scatter_data['fecha_hora'].apply(lambda x: pd.Timestamp(x).date())\n",
    "        scatter_data = scatter_data.loc[scatter_data['fecha'] == date]\n",
    "    \n",
    "    scatter_data['hora'] = scatter_data['fecha_hora'].apply(lambda x: pd.Timestamp(x).time().hour)\n",
    "    scatter_data = scatter_data.loc[scatter_data['hora'] == hour]\n",
    "\n",
    "    #Calculate the mean of all the ocupacion for designated hour\n",
    "    scatter_data = scatter_data.groupby(by=['id_cuadra','direccion']).mean().reset_index()[['id_cuadra', 'direccion', 'latitud','longitud','ocupacion']]\n",
    "\n",
    "    \n",
    "    def complete_streets(data, streets, inplace=False):\n",
    "        '''\n",
    "        Used to complete the data with all the missing streets. In those streets\n",
    "        the ocupacion will be equals to 0.\n",
    "        '''\n",
    "        if not inplace:\n",
    "            out = data.copy()\n",
    "        else:\n",
    "            out = data\n",
    "        for i, row in streets.iterrows():\n",
    "            if not (out['id_cuadra'] == row['id_cuadra']).any():\n",
    "                to_add = row.copy()\n",
    "                to_add['ocupacion'] = 0\n",
    "                out = out.append(to_add)\n",
    "        if not inplace:\n",
    "            return out\n",
    "        return out\n",
    "    \n",
    "    #Complete the data with missing streets\n",
    "    scatter_data = complete_streets(scatter_data, all_streets, inplace=True)\n",
    "\n",
    "    #Put max ocupacion on them\n",
    "    scatter_data = scatter_data.merge(max_ocupacion[['id_cuadra', 'ocupacion_max']], on='id_cuadra').sort_values(by='id_cuadra')\n",
    "\n",
    "    #Invert latitud to transform the scatter in a nice to see map\n",
    "    scatter_data['latitud'] = scatter_data['latitud'] * -1\n",
    "    #scatter_data['longitud'] = scatter_data['longitud']\n",
    "    \n",
    "    return scatter_data"
   ]
  },
  {
   "cell_type": "code",
   "execution_count": 30,
   "metadata": {
    "ExecuteTime": {
     "end_time": "2019-10-15T19:47:20.030035Z",
     "start_time": "2019-10-15T19:47:20.021032Z"
    }
   },
   "outputs": [],
   "source": [
    "def get_color_for_scatter_graph(scatter_data):\n",
    "    \n",
    "    #Because im now using my own maximun (mean of all max on each day)\n",
    "    global max_ocupacion\n",
    "    max_ocup = max_ocupacion.copy()\n",
    "    max_ocup = max_ocup.sort_values(by='id_cuadra').reset_index(drop=True)\n",
    "    scatter_data = scatter_data.sort_values(by='id_cuadra').reset_index(drop=True)\n",
    "    \n",
    "    color_green_data = scatter_data['ocupacion'] <= (max_ocup['real_max_ocupacion_mean'] * 1/4)\n",
    "    color_yellow_data = (~color_green_data) & (scatter_data['ocupacion'] <= (max_ocup['real_max_ocupacion_mean'] * 2/4))\n",
    "    color_orange_data = (~color_green_data) & (~color_yellow_data) & (scatter_data['ocupacion'] <= (max_ocup['real_max_ocupacion_mean'] * 3/4))\n",
    "    color_red_data = (~color_green_data) & (~color_yellow_data) & (~color_orange_data)\n",
    "\n",
    "    color_data = pd.DataFrame(index=scatter_data.index.values, columns=['color'])\n",
    "    color_data[color_green_data] = 'green'\n",
    "    color_data[color_yellow_data] = 'yellow'\n",
    "    color_data[color_orange_data] = 'orange'\n",
    "    color_data[color_red_data] = 'red'\n",
    "\n",
    "    #Tribunal de faltas, we dont need this data, neither SUMO office data (we ve already deleted it)\n",
    "    color_data.iloc[88] = 'purple'\n",
    "\n",
    "    color_list = []\n",
    "    for c in color_data.values:\n",
    "        color_list.append(c[0])\n",
    "\n",
    "    color_data = color_list\n",
    "    \n",
    "    return color_data"
   ]
  },
  {
   "cell_type": "code",
   "execution_count": 31,
   "metadata": {
    "ExecuteTime": {
     "end_time": "2019-10-15T19:47:20.768050Z",
     "start_time": "2019-10-15T19:47:20.032004Z"
    }
   },
   "outputs": [],
   "source": [
    "scatter_data = get_data_for_scatter_graph(data, hour)\n",
    "#color_data = get_color_for_scatter_graph(scatter_data)\n",
    "color_data = get_color_for_scatter_graph(scatter_data)"
   ]
  },
  {
   "cell_type": "code",
   "execution_count": 32,
   "metadata": {
    "ExecuteTime": {
     "end_time": "2019-10-15T19:47:20.774036Z",
     "start_time": "2019-10-15T19:47:20.769047Z"
    }
   },
   "outputs": [],
   "source": [
    "def plot_scatter_map(scatter_data, color_data, hour, date=None):\n",
    "    plt.scatter(scatter_data['latitud'], scatter_data['longitud'], c=color_data)\n",
    "    if date==None:\n",
    "        plt.title('Scatter for hour {}'.format(hour))\n",
    "    else:\n",
    "        plt.title('Scatter for date {} and hour {}'.format(date, hour))\n",
    "    plt.axis('off')\n",
    "    plt.show()"
   ]
  },
  {
   "cell_type": "code",
   "execution_count": 33,
   "metadata": {
    "ExecuteTime": {
     "end_time": "2019-10-15T19:47:20.863167Z",
     "start_time": "2019-10-15T19:47:20.776038Z"
    }
   },
   "outputs": [
    {
     "data": {
      "image/png": "[encoded data removed]",
      "text/plain": [
       "<Figure size 864x288 with 1 Axes>"
      ]
     },
     "metadata": {
      "needs_background": "light"
     },
     "output_type": "display_data"
    }
   ],
   "source": [
    "plot_scatter_map(scatter_data, color_data, hour)"
   ]
  },
  {
   "cell_type": "markdown",
   "metadata": {},
   "source": [
    "# This is what i've done to correct date mistake in the original (v0) csv"
   ]
  },
  {
   "cell_type": "code",
   "execution_count": 34,
   "metadata": {
    "ExecuteTime": {
     "end_time": "2019-10-15T19:47:20.870197Z",
     "start_time": "2019-10-15T19:47:20.865163Z"
    }
   },
   "outputs": [
    {
     "name": "stdout",
     "output_type": "stream",
     "text": [
      "\n"
     ]
    }
   ],
   "source": [
    "'''SUMO_data = pd.read_csv(data_w_operacion_path)\n",
    "SUMO_data'''\n",
    "print()"
   ]
  },
  {
   "cell_type": "code",
   "execution_count": 35,
   "metadata": {
    "ExecuteTime": {
     "end_time": "2019-10-15T19:47:20.880200Z",
     "start_time": "2019-10-15T19:47:20.875183Z"
    }
   },
   "outputs": [
    {
     "name": "stdout",
     "output_type": "stream",
     "text": [
      "\n"
     ]
    }
   ],
   "source": [
    "'''SUMO_data['fecha'] = SUMO_data['fecha_tiempo'].apply(lambda x: pd.Timestamp(x).date())\n",
    "SUMO_data['hora'] = SUMO_data['fecha_tiempo'].apply(lambda x: pd.Timestamp(x).time())\n",
    "SUMO_data.loc[SUMO_data.fecha == pd.Timestamp('2019-11-09').date(),'fecha_tiempo'] = SUMO_data.loc[SUMO_data.fecha == pd.Timestamp('2019-11-09').date(), 'hora'].apply(lambda x: pd.Timestamp.combine(pd.Timestamp(year=2019, month=9, day=11), x))\n",
    "SUMO_data.loc[SUMO_data.fecha == pd.Timestamp('2019-12-09').date(),'fecha_tiempo'] = SUMO_data.loc[SUMO_data.fecha == pd.Timestamp('2019-12-09').date(), 'hora'].apply(lambda x: pd.Timestamp.combine(pd.Timestamp(year=2019, month=9, day=12), x))\n",
    "SUMO_data.drop(['fecha','hora'], axis=1, inplace=True)\n",
    "SUMO_data['fecha_tiempo'] = SUMO_data['fecha_tiempo'].apply(lambda x: pd.Timestamp(x))\n",
    "SUMO_data'''\n",
    "print()"
   ]
  },
  {
   "cell_type": "code",
   "execution_count": 36,
   "metadata": {
    "ExecuteTime": {
     "end_time": "2019-10-15T19:47:20.887226Z",
     "start_time": "2019-10-15T19:47:20.882195Z"
    }
   },
   "outputs": [],
   "source": [
    "#SUMO_data.to_csv(data_w_operacion_path,index=False)"
   ]
  },
  {
   "cell_type": "markdown",
   "metadata": {},
   "source": [
    "."
   ]
  },
  {
   "cell_type": "markdown",
   "metadata": {},
   "source": [
    "."
   ]
  },
  {
   "cell_type": "markdown",
   "metadata": {},
   "source": [
    "."
   ]
  },
  {
   "cell_type": "markdown",
   "metadata": {},
   "source": [
    "."
   ]
  },
  {
   "cell_type": "markdown",
   "metadata": {},
   "source": [
    "."
   ]
  },
  {
   "cell_type": "markdown",
   "metadata": {},
   "source": [
    "."
   ]
  },
  {
   "cell_type": "markdown",
   "metadata": {},
   "source": [
    "# Just ouputs"
   ]
  },
  {
   "cell_type": "code",
   "execution_count": 37,
   "metadata": {
    "ExecuteTime": {
     "end_time": "2019-10-15T19:47:21.427309Z",
     "start_time": "2019-10-15T19:47:20.889211Z"
    }
   },
   "outputs": [
    {
     "name": "stdout",
     "output_type": "stream",
     "text": [
      "Street :  2 (General Pinto 545)\n",
      "Date   :  2019-10-10\n",
      "Hour   :  10\n"
     ]
    }
   ],
   "source": [
    "#DF to process...\n",
    "#You can put on data any filter you want. If you put only monday data all the graphs\n",
    "#below will be for monday values...\n",
    "data = SUMO_data.copy()\n",
    "#data = weekday_data.copy()\n",
    "#data = BD_parking_data.copy()\n",
    "\n",
    "#Street to process...\n",
    "#From 2 to 92 without 50\n",
    "street = 2\n",
    "\n",
    "#Date to process...\n",
    "#Select a number from 0 to data['fecha_hora'] len. Try to avoid 0\n",
    "date_n = 23\n",
    "\n",
    "date = modif_date(data, date_n)\n",
    "\n",
    "#Hour to process...\n",
    "hour = 10\n",
    "\n",
    "\n",
    "print('Street :  {} ({})'.format(street, data.loc[data['id_cuadra'] == street, 'direccion'].iloc[0]))\n",
    "print('Date   : ', date)\n",
    "print('Hour   : ', hour)"
   ]
  },
  {
   "cell_type": "markdown",
   "metadata": {},
   "source": [
    "## Ocupation per street"
   ]
  },
  {
   "cell_type": "markdown",
   "metadata": {},
   "source": [
    "### Top 10 ocupped streets"
   ]
  },
  {
   "cell_type": "code",
   "execution_count": 38,
   "metadata": {
    "ExecuteTime": {
     "end_time": "2019-10-15T19:47:21.445204Z",
     "start_time": "2019-10-15T19:47:21.429247Z"
    }
   },
   "outputs": [
    {
     "data": {
      "text/html": [
       "<div>\n",
       "<style scoped>\n",
       "    .dataframe tbody tr th:only-of-type {\n",
       "        vertical-align: middle;\n",
       "    }\n",
       "\n",
       "    .dataframe tbody tr th {\n",
       "        vertical-align: top;\n",
       "    }\n",
       "\n",
       "    .dataframe thead th {\n",
       "        text-align: right;\n",
       "    }\n",
       "</style>\n",
       "<table border=\"1\" class=\"dataframe\">\n",
       "  <thead>\n",
       "    <tr style=\"text-align: right;\">\n",
       "      <th></th>\n",
       "      <th>id_cuadra</th>\n",
       "      <th>direccion</th>\n",
       "      <th>ocupacion_max</th>\n",
       "      <th>real_max_ocupacion_mean</th>\n",
       "      <th>lugares_cuadra</th>\n",
       "    </tr>\n",
       "  </thead>\n",
       "  <tbody>\n",
       "    <tr>\n",
       "      <td>0</td>\n",
       "      <td>92</td>\n",
       "      <td>Tribunal de Faltas</td>\n",
       "      <td>1</td>\n",
       "      <td>0.571429</td>\n",
       "      <td>NaN</td>\n",
       "    </tr>\n",
       "    <tr>\n",
       "      <td>1</td>\n",
       "      <td>25</td>\n",
       "      <td>Belgrano 958</td>\n",
       "      <td>6</td>\n",
       "      <td>3.730769</td>\n",
       "      <td>13.0</td>\n",
       "    </tr>\n",
       "    <tr>\n",
       "      <td>2</td>\n",
       "      <td>77</td>\n",
       "      <td>Maipu 857</td>\n",
       "      <td>6</td>\n",
       "      <td>3.958333</td>\n",
       "      <td>15.0</td>\n",
       "    </tr>\n",
       "    <tr>\n",
       "      <td>3</td>\n",
       "      <td>78</td>\n",
       "      <td>Maipu 953</td>\n",
       "      <td>6</td>\n",
       "      <td>3.083333</td>\n",
       "      <td>14.0</td>\n",
       "    </tr>\n",
       "    <tr>\n",
       "      <td>4</td>\n",
       "      <td>88</td>\n",
       "      <td>Av. España 647</td>\n",
       "      <td>7</td>\n",
       "      <td>6.862069</td>\n",
       "      <td>11.0</td>\n",
       "    </tr>\n",
       "    <tr>\n",
       "      <td>...</td>\n",
       "      <td>...</td>\n",
       "      <td>...</td>\n",
       "      <td>...</td>\n",
       "      <td>...</td>\n",
       "      <td>...</td>\n",
       "    </tr>\n",
       "    <tr>\n",
       "      <td>84</td>\n",
       "      <td>75</td>\n",
       "      <td>Maipu 333</td>\n",
       "      <td>27</td>\n",
       "      <td>16.185185</td>\n",
       "      <td>31.0</td>\n",
       "    </tr>\n",
       "    <tr>\n",
       "      <td>85</td>\n",
       "      <td>14</td>\n",
       "      <td>Rodriguez 464</td>\n",
       "      <td>27</td>\n",
       "      <td>11.142857</td>\n",
       "      <td>30.0</td>\n",
       "    </tr>\n",
       "    <tr>\n",
       "      <td>86</td>\n",
       "      <td>32</td>\n",
       "      <td>Sarmiento 453</td>\n",
       "      <td>27</td>\n",
       "      <td>15.821429</td>\n",
       "      <td>27.0</td>\n",
       "    </tr>\n",
       "    <tr>\n",
       "      <td>87</td>\n",
       "      <td>60</td>\n",
       "      <td>Fuerte Independencia 349</td>\n",
       "      <td>29</td>\n",
       "      <td>14.892857</td>\n",
       "      <td>44.0</td>\n",
       "    </tr>\n",
       "    <tr>\n",
       "      <td>88</td>\n",
       "      <td>59</td>\n",
       "      <td>Yrigoyen 655</td>\n",
       "      <td>35</td>\n",
       "      <td>22.000000</td>\n",
       "      <td>48.0</td>\n",
       "    </tr>\n",
       "  </tbody>\n",
       "</table>\n",
       "<p>89 rows × 5 columns</p>\n",
       "</div>"
      ],
      "text/plain": [
       "    id_cuadra                 direccion  ocupacion_max  \\\n",
       "0          92        Tribunal de Faltas              1   \n",
       "1          25              Belgrano 958              6   \n",
       "2          77                 Maipu 857              6   \n",
       "3          78                 Maipu 953              6   \n",
       "4          88            Av. España 647              7   \n",
       "..        ...                       ...            ...   \n",
       "84         75                 Maipu 333             27   \n",
       "85         14             Rodriguez 464             27   \n",
       "86         32             Sarmiento 453             27   \n",
       "87         60  Fuerte Independencia 349             29   \n",
       "88         59              Yrigoyen 655             35   \n",
       "\n",
       "    real_max_ocupacion_mean  lugares_cuadra  \n",
       "0                  0.571429             NaN  \n",
       "1                  3.730769            13.0  \n",
       "2                  3.958333            15.0  \n",
       "3                  3.083333            14.0  \n",
       "4                  6.862069            11.0  \n",
       "..                      ...             ...  \n",
       "84                16.185185            31.0  \n",
       "85                11.142857            30.0  \n",
       "86                15.821429            27.0  \n",
       "87                14.892857            44.0  \n",
       "88                22.000000            48.0  \n",
       "\n",
       "[89 rows x 5 columns]"
      ]
     },
     "metadata": {},
     "output_type": "display_data"
    }
   ],
   "source": [
    "display(max_ocupacion[['id_cuadra','direccion','ocupacion_max','real_max_ocupacion_mean','lugares_cuadra']])"
   ]
  },
  {
   "cell_type": "code",
   "execution_count": 39,
   "metadata": {
    "ExecuteTime": {
     "end_time": "2019-10-15T19:47:21.459167Z",
     "start_time": "2019-10-15T19:47:21.447200Z"
    },
    "scrolled": true
   },
   "outputs": [
    {
     "data": {
      "text/html": [
       "<div>\n",
       "<style scoped>\n",
       "    .dataframe tbody tr th:only-of-type {\n",
       "        vertical-align: middle;\n",
       "    }\n",
       "\n",
       "    .dataframe tbody tr th {\n",
       "        vertical-align: top;\n",
       "    }\n",
       "\n",
       "    .dataframe thead th {\n",
       "        text-align: right;\n",
       "    }\n",
       "</style>\n",
       "<table border=\"1\" class=\"dataframe\">\n",
       "  <thead>\n",
       "    <tr style=\"text-align: right;\">\n",
       "      <th></th>\n",
       "      <th>id_cuadra</th>\n",
       "      <th>direccion</th>\n",
       "      <th>ocupacion_max</th>\n",
       "      <th>real_max_ocupacion_mean</th>\n",
       "      <th>lugares_cuadra</th>\n",
       "    </tr>\n",
       "  </thead>\n",
       "  <tbody>\n",
       "    <tr>\n",
       "      <td>0</td>\n",
       "      <td>59</td>\n",
       "      <td>Yrigoyen 655</td>\n",
       "      <td>35</td>\n",
       "      <td>22.000000</td>\n",
       "      <td>48.0</td>\n",
       "    </tr>\n",
       "    <tr>\n",
       "      <td>1</td>\n",
       "      <td>60</td>\n",
       "      <td>Fuerte Independencia 349</td>\n",
       "      <td>29</td>\n",
       "      <td>14.892857</td>\n",
       "      <td>44.0</td>\n",
       "    </tr>\n",
       "    <tr>\n",
       "      <td>2</td>\n",
       "      <td>75</td>\n",
       "      <td>Maipu 333</td>\n",
       "      <td>27</td>\n",
       "      <td>16.185185</td>\n",
       "      <td>31.0</td>\n",
       "    </tr>\n",
       "    <tr>\n",
       "      <td>3</td>\n",
       "      <td>14</td>\n",
       "      <td>Rodriguez 464</td>\n",
       "      <td>27</td>\n",
       "      <td>11.142857</td>\n",
       "      <td>30.0</td>\n",
       "    </tr>\n",
       "    <tr>\n",
       "      <td>4</td>\n",
       "      <td>32</td>\n",
       "      <td>Sarmiento 453</td>\n",
       "      <td>27</td>\n",
       "      <td>15.821429</td>\n",
       "      <td>27.0</td>\n",
       "    </tr>\n",
       "    <tr>\n",
       "      <td>5</td>\n",
       "      <td>33</td>\n",
       "      <td>Sarmiento 755</td>\n",
       "      <td>26</td>\n",
       "      <td>18.000000</td>\n",
       "      <td>32.0</td>\n",
       "    </tr>\n",
       "    <tr>\n",
       "      <td>6</td>\n",
       "      <td>6</td>\n",
       "      <td>General Pinto 759</td>\n",
       "      <td>24</td>\n",
       "      <td>14.750000</td>\n",
       "      <td>30.0</td>\n",
       "    </tr>\n",
       "    <tr>\n",
       "      <td>7</td>\n",
       "      <td>21</td>\n",
       "      <td>Belgrano 540</td>\n",
       "      <td>23</td>\n",
       "      <td>13.482759</td>\n",
       "      <td>29.0</td>\n",
       "    </tr>\n",
       "    <tr>\n",
       "      <td>8</td>\n",
       "      <td>11</td>\n",
       "      <td>San Martín 658</td>\n",
       "      <td>22</td>\n",
       "      <td>15.965517</td>\n",
       "      <td>30.0</td>\n",
       "    </tr>\n",
       "    <tr>\n",
       "      <td>9</td>\n",
       "      <td>57</td>\n",
       "      <td>Yrigoyen 753</td>\n",
       "      <td>22</td>\n",
       "      <td>14.000000</td>\n",
       "      <td>24.0</td>\n",
       "    </tr>\n",
       "  </tbody>\n",
       "</table>\n",
       "</div>"
      ],
      "text/plain": [
       "   id_cuadra                 direccion  ocupacion_max  \\\n",
       "0         59              Yrigoyen 655             35   \n",
       "1         60  Fuerte Independencia 349             29   \n",
       "2         75                 Maipu 333             27   \n",
       "3         14             Rodriguez 464             27   \n",
       "4         32             Sarmiento 453             27   \n",
       "5         33             Sarmiento 755             26   \n",
       "6          6         General Pinto 759             24   \n",
       "7         21              Belgrano 540             23   \n",
       "8         11            San Martín 658             22   \n",
       "9         57              Yrigoyen 753             22   \n",
       "\n",
       "   real_max_ocupacion_mean  lugares_cuadra  \n",
       "0                22.000000            48.0  \n",
       "1                14.892857            44.0  \n",
       "2                16.185185            31.0  \n",
       "3                11.142857            30.0  \n",
       "4                15.821429            27.0  \n",
       "5                18.000000            32.0  \n",
       "6                14.750000            30.0  \n",
       "7                13.482759            29.0  \n",
       "8                15.965517            30.0  \n",
       "9                14.000000            24.0  "
      ]
     },
     "metadata": {},
     "output_type": "display_data"
    }
   ],
   "source": [
    "display(max_max_ocupacion[['id_cuadra','direccion','ocupacion_max','real_max_ocupacion_mean','lugares_cuadra']])"
   ]
  },
  {
   "cell_type": "markdown",
   "metadata": {},
   "source": [
    "### Top 10 less ocupped streets"
   ]
  },
  {
   "cell_type": "code",
   "execution_count": 40,
   "metadata": {
    "ExecuteTime": {
     "end_time": "2019-10-15T19:47:21.472139Z",
     "start_time": "2019-10-15T19:47:21.461162Z"
    }
   },
   "outputs": [
    {
     "data": {
      "text/html": [
       "<div>\n",
       "<style scoped>\n",
       "    .dataframe tbody tr th:only-of-type {\n",
       "        vertical-align: middle;\n",
       "    }\n",
       "\n",
       "    .dataframe tbody tr th {\n",
       "        vertical-align: top;\n",
       "    }\n",
       "\n",
       "    .dataframe thead th {\n",
       "        text-align: right;\n",
       "    }\n",
       "</style>\n",
       "<table border=\"1\" class=\"dataframe\">\n",
       "  <thead>\n",
       "    <tr style=\"text-align: right;\">\n",
       "      <th></th>\n",
       "      <th>id_cuadra</th>\n",
       "      <th>direccion</th>\n",
       "      <th>ocupacion_max</th>\n",
       "      <th>real_max_ocupacion_mean</th>\n",
       "      <th>lugares_cuadra</th>\n",
       "    </tr>\n",
       "  </thead>\n",
       "  <tbody>\n",
       "    <tr>\n",
       "      <td>0</td>\n",
       "      <td>92</td>\n",
       "      <td>Tribunal de Faltas</td>\n",
       "      <td>1</td>\n",
       "      <td>0.571429</td>\n",
       "      <td>NaN</td>\n",
       "    </tr>\n",
       "    <tr>\n",
       "      <td>1</td>\n",
       "      <td>25</td>\n",
       "      <td>Belgrano 958</td>\n",
       "      <td>6</td>\n",
       "      <td>3.730769</td>\n",
       "      <td>13.0</td>\n",
       "    </tr>\n",
       "    <tr>\n",
       "      <td>2</td>\n",
       "      <td>77</td>\n",
       "      <td>Maipu 857</td>\n",
       "      <td>6</td>\n",
       "      <td>3.958333</td>\n",
       "      <td>15.0</td>\n",
       "    </tr>\n",
       "    <tr>\n",
       "      <td>3</td>\n",
       "      <td>78</td>\n",
       "      <td>Maipu 953</td>\n",
       "      <td>6</td>\n",
       "      <td>3.083333</td>\n",
       "      <td>14.0</td>\n",
       "    </tr>\n",
       "    <tr>\n",
       "      <td>4</td>\n",
       "      <td>88</td>\n",
       "      <td>Av. España 647</td>\n",
       "      <td>7</td>\n",
       "      <td>6.862069</td>\n",
       "      <td>11.0</td>\n",
       "    </tr>\n",
       "    <tr>\n",
       "      <td>5</td>\n",
       "      <td>85</td>\n",
       "      <td>Av. España 359</td>\n",
       "      <td>7</td>\n",
       "      <td>4.076923</td>\n",
       "      <td>7.0</td>\n",
       "    </tr>\n",
       "    <tr>\n",
       "      <td>6</td>\n",
       "      <td>41</td>\n",
       "      <td>Mitre 446</td>\n",
       "      <td>8</td>\n",
       "      <td>4.636364</td>\n",
       "      <td>16.0</td>\n",
       "    </tr>\n",
       "    <tr>\n",
       "      <td>7</td>\n",
       "      <td>87</td>\n",
       "      <td>Av. España 545</td>\n",
       "      <td>8</td>\n",
       "      <td>5.923077</td>\n",
       "      <td>10.0</td>\n",
       "    </tr>\n",
       "    <tr>\n",
       "      <td>8</td>\n",
       "      <td>86</td>\n",
       "      <td>Av. España 481</td>\n",
       "      <td>8</td>\n",
       "      <td>4.740741</td>\n",
       "      <td>10.0</td>\n",
       "    </tr>\n",
       "    <tr>\n",
       "      <td>9</td>\n",
       "      <td>49</td>\n",
       "      <td>Alem 852</td>\n",
       "      <td>9</td>\n",
       "      <td>5.629630</td>\n",
       "      <td>12.0</td>\n",
       "    </tr>\n",
       "  </tbody>\n",
       "</table>\n",
       "</div>"
      ],
      "text/plain": [
       "   id_cuadra           direccion  ocupacion_max  real_max_ocupacion_mean  \\\n",
       "0         92  Tribunal de Faltas              1                 0.571429   \n",
       "1         25        Belgrano 958              6                 3.730769   \n",
       "2         77           Maipu 857              6                 3.958333   \n",
       "3         78           Maipu 953              6                 3.083333   \n",
       "4         88      Av. España 647              7                 6.862069   \n",
       "5         85      Av. España 359              7                 4.076923   \n",
       "6         41           Mitre 446              8                 4.636364   \n",
       "7         87      Av. España 545              8                 5.923077   \n",
       "8         86      Av. España 481              8                 4.740741   \n",
       "9         49            Alem 852              9                 5.629630   \n",
       "\n",
       "   lugares_cuadra  \n",
       "0             NaN  \n",
       "1            13.0  \n",
       "2            15.0  \n",
       "3            14.0  \n",
       "4            11.0  \n",
       "5             7.0  \n",
       "6            16.0  \n",
       "7            10.0  \n",
       "8            10.0  \n",
       "9            12.0  "
      ]
     },
     "metadata": {},
     "output_type": "display_data"
    }
   ],
   "source": [
    "display(less_max_ocupacion[['id_cuadra','direccion','ocupacion_max','real_max_ocupacion_mean','lugares_cuadra']])"
   ]
  },
  {
   "cell_type": "markdown",
   "metadata": {},
   "source": [
    "## Traffic per street (how much input-outputs)"
   ]
  },
  {
   "cell_type": "code",
   "execution_count": 41,
   "metadata": {
    "ExecuteTime": {
     "end_time": "2019-10-15T19:47:21.486131Z",
     "start_time": "2019-10-15T19:47:21.474128Z"
    }
   },
   "outputs": [
    {
     "data": {
      "text/html": [
       "<div>\n",
       "<style scoped>\n",
       "    .dataframe tbody tr th:only-of-type {\n",
       "        vertical-align: middle;\n",
       "    }\n",
       "\n",
       "    .dataframe tbody tr th {\n",
       "        vertical-align: top;\n",
       "    }\n",
       "\n",
       "    .dataframe thead th {\n",
       "        text-align: right;\n",
       "    }\n",
       "</style>\n",
       "<table border=\"1\" class=\"dataframe\">\n",
       "  <thead>\n",
       "    <tr style=\"text-align: right;\">\n",
       "      <th></th>\n",
       "      <th>id_cuadra</th>\n",
       "      <th>direccion</th>\n",
       "      <th>in-outs</th>\n",
       "    </tr>\n",
       "  </thead>\n",
       "  <tbody>\n",
       "    <tr>\n",
       "      <td>0</td>\n",
       "      <td>92</td>\n",
       "      <td>Tribunal de Faltas</td>\n",
       "      <td>10</td>\n",
       "    </tr>\n",
       "    <tr>\n",
       "      <td>1</td>\n",
       "      <td>77</td>\n",
       "      <td>Maipu 857</td>\n",
       "      <td>407</td>\n",
       "    </tr>\n",
       "    <tr>\n",
       "      <td>2</td>\n",
       "      <td>78</td>\n",
       "      <td>Maipu 953</td>\n",
       "      <td>445</td>\n",
       "    </tr>\n",
       "    <tr>\n",
       "      <td>3</td>\n",
       "      <td>71</td>\n",
       "      <td>14 de Julio 847</td>\n",
       "      <td>458</td>\n",
       "    </tr>\n",
       "    <tr>\n",
       "      <td>4</td>\n",
       "      <td>79</td>\n",
       "      <td>General Paz 347</td>\n",
       "      <td>460</td>\n",
       "    </tr>\n",
       "    <tr>\n",
       "      <td>5</td>\n",
       "      <td>41</td>\n",
       "      <td>Mitre 446</td>\n",
       "      <td>556</td>\n",
       "    </tr>\n",
       "    <tr>\n",
       "      <td>6</td>\n",
       "      <td>25</td>\n",
       "      <td>Belgrano 958</td>\n",
       "      <td>560</td>\n",
       "    </tr>\n",
       "    <tr>\n",
       "      <td>7</td>\n",
       "      <td>70</td>\n",
       "      <td>14 de Julio 767</td>\n",
       "      <td>607</td>\n",
       "    </tr>\n",
       "    <tr>\n",
       "      <td>8</td>\n",
       "      <td>85</td>\n",
       "      <td>Av. España 359</td>\n",
       "      <td>624</td>\n",
       "    </tr>\n",
       "    <tr>\n",
       "      <td>9</td>\n",
       "      <td>69</td>\n",
       "      <td>14 de Julio 657</td>\n",
       "      <td>764</td>\n",
       "    </tr>\n",
       "  </tbody>\n",
       "</table>\n",
       "</div>"
      ],
      "text/plain": [
       "   id_cuadra           direccion  in-outs\n",
       "0         92  Tribunal de Faltas       10\n",
       "1         77           Maipu 857      407\n",
       "2         78           Maipu 953      445\n",
       "3         71     14 de Julio 847      458\n",
       "4         79     General Paz 347      460\n",
       "5         41           Mitre 446      556\n",
       "6         25        Belgrano 958      560\n",
       "7         70     14 de Julio 767      607\n",
       "8         85      Av. España 359      624\n",
       "9         69     14 de Julio 657      764"
      ]
     },
     "metadata": {},
     "output_type": "display_data"
    },
    {
     "data": {
      "text/html": [
       "<div>\n",
       "<style scoped>\n",
       "    .dataframe tbody tr th:only-of-type {\n",
       "        vertical-align: middle;\n",
       "    }\n",
       "\n",
       "    .dataframe tbody tr th {\n",
       "        vertical-align: top;\n",
       "    }\n",
       "\n",
       "    .dataframe thead th {\n",
       "        text-align: right;\n",
       "    }\n",
       "</style>\n",
       "<table border=\"1\" class=\"dataframe\">\n",
       "  <thead>\n",
       "    <tr style=\"text-align: right;\">\n",
       "      <th></th>\n",
       "      <th>id_cuadra</th>\n",
       "      <th>direccion</th>\n",
       "      <th>in-outs</th>\n",
       "    </tr>\n",
       "  </thead>\n",
       "  <tbody>\n",
       "    <tr>\n",
       "      <td>0</td>\n",
       "      <td>59</td>\n",
       "      <td>Yrigoyen 655</td>\n",
       "      <td>3191</td>\n",
       "    </tr>\n",
       "    <tr>\n",
       "      <td>1</td>\n",
       "      <td>11</td>\n",
       "      <td>San Martín 658</td>\n",
       "      <td>2987</td>\n",
       "    </tr>\n",
       "    <tr>\n",
       "      <td>2</td>\n",
       "      <td>6</td>\n",
       "      <td>General Pinto 759</td>\n",
       "      <td>2973</td>\n",
       "    </tr>\n",
       "    <tr>\n",
       "      <td>3</td>\n",
       "      <td>4</td>\n",
       "      <td>Rodriguez 552</td>\n",
       "      <td>2819</td>\n",
       "    </tr>\n",
       "    <tr>\n",
       "      <td>4</td>\n",
       "      <td>45</td>\n",
       "      <td>Alem 480</td>\n",
       "      <td>2745</td>\n",
       "    </tr>\n",
       "    <tr>\n",
       "      <td>5</td>\n",
       "      <td>33</td>\n",
       "      <td>Sarmiento 755</td>\n",
       "      <td>2722</td>\n",
       "    </tr>\n",
       "    <tr>\n",
       "      <td>6</td>\n",
       "      <td>89</td>\n",
       "      <td>Av. España 737</td>\n",
       "      <td>2710</td>\n",
       "    </tr>\n",
       "    <tr>\n",
       "      <td>7</td>\n",
       "      <td>46</td>\n",
       "      <td>Alem 556</td>\n",
       "      <td>2614</td>\n",
       "    </tr>\n",
       "    <tr>\n",
       "      <td>8</td>\n",
       "      <td>75</td>\n",
       "      <td>Maipu 333</td>\n",
       "      <td>2565</td>\n",
       "    </tr>\n",
       "    <tr>\n",
       "      <td>9</td>\n",
       "      <td>5</td>\n",
       "      <td>9 de Julio 441</td>\n",
       "      <td>2494</td>\n",
       "    </tr>\n",
       "  </tbody>\n",
       "</table>\n",
       "</div>"
      ],
      "text/plain": [
       "   id_cuadra          direccion  in-outs\n",
       "0         59       Yrigoyen 655     3191\n",
       "1         11     San Martín 658     2987\n",
       "2          6  General Pinto 759     2973\n",
       "3          4      Rodriguez 552     2819\n",
       "4         45           Alem 480     2745\n",
       "5         33      Sarmiento 755     2722\n",
       "6         89     Av. España 737     2710\n",
       "7         46           Alem 556     2614\n",
       "8         75          Maipu 333     2565\n",
       "9          5     9 de Julio 441     2494"
      ]
     },
     "metadata": {},
     "output_type": "display_data"
    }
   ],
   "source": [
    "display(min_traffic)\n",
    "display(max_traffic)"
   ]
  },
  {
   "cell_type": "markdown",
   "metadata": {},
   "source": [
    "## Ocupation for a designated street along the day"
   ]
  },
  {
   "cell_type": "markdown",
   "metadata": {},
   "source": [
    "### Graph for designated date"
   ]
  },
  {
   "cell_type": "code",
   "execution_count": 42,
   "metadata": {
    "ExecuteTime": {
     "end_time": "2019-10-15T19:47:21.556932Z",
     "start_time": "2019-10-15T19:47:21.488090Z"
    }
   },
   "outputs": [
    {
     "name": "stdout",
     "output_type": "stream",
     "text": [
      "General Pinto 545\n"
     ]
    }
   ],
   "source": [
    "plot_data, date_max_mean, date_min_mean, max_ocup = get_max_min_mean_dates(data, street, date)"
   ]
  },
  {
   "cell_type": "code",
   "execution_count": 43,
   "metadata": {
    "ExecuteTime": {
     "end_time": "2019-10-15T19:47:21.959895Z",
     "start_time": "2019-10-15T19:47:21.558901Z"
    }
   },
   "outputs": [
    {
     "data": {
      "image/png": "[encoded data removed]",
      "text/plain": [
       "<Figure size 864x288 with 1 Axes>"
      ]
     },
     "metadata": {
      "needs_background": "light"
     },
     "output_type": "display_data"
    }
   ],
   "source": [
    "plot_line_graph(plot_data, date, street=street, max_ocup=max_ocup)"
   ]
  },
  {
   "cell_type": "markdown",
   "metadata": {},
   "source": [
    "### Graph for the date with max mean of parked cars"
   ]
  },
  {
   "cell_type": "code",
   "execution_count": 44,
   "metadata": {
    "ExecuteTime": {
     "end_time": "2019-10-15T19:47:22.347820Z",
     "start_time": "2019-10-15T19:47:21.960855Z"
    }
   },
   "outputs": [
    {
     "data": {
      "image/png": "[encoded data removed]",
      "text/plain": [
       "<Figure size 864x288 with 1 Axes>"
      ]
     },
     "metadata": {
      "needs_background": "light"
     },
     "output_type": "display_data"
    }
   ],
   "source": [
    "plot_line_graph(plot_data, date_max_mean, street=street, max_ocup=max_ocup, name='Max mean', color='r')"
   ]
  },
  {
   "cell_type": "markdown",
   "metadata": {},
   "source": [
    "### Graph for the date with min mean of parked cars"
   ]
  },
  {
   "cell_type": "code",
   "execution_count": 45,
   "metadata": {
    "ExecuteTime": {
     "end_time": "2019-10-15T19:47:22.688467Z",
     "start_time": "2019-10-15T19:47:22.349815Z"
    }
   },
   "outputs": [
    {
     "data": {
      "image/png": "[encoded data removed]",
      "text/plain": [
       "<Figure size 864x288 with 1 Axes>"
      ]
     },
     "metadata": {
      "needs_background": "light"
     },
     "output_type": "display_data"
    }
   ],
   "source": [
    "plot_line_graph(plot_data, date_min_mean, street=street, max_ocup=max_ocup, name='Min mean', color='g')"
   ]
  },
  {
   "cell_type": "markdown",
   "metadata": {},
   "source": [
    "## In-outs per hour on each street"
   ]
  },
  {
   "cell_type": "code",
   "execution_count": 46,
   "metadata": {
    "ExecuteTime": {
     "end_time": "2019-10-15T19:47:22.702447Z",
     "start_time": "2019-10-15T19:47:22.690444Z"
    }
   },
   "outputs": [
    {
     "data": {
      "text/html": [
       "<div>\n",
       "<style scoped>\n",
       "    .dataframe tbody tr th:only-of-type {\n",
       "        vertical-align: middle;\n",
       "    }\n",
       "\n",
       "    .dataframe tbody tr th {\n",
       "        vertical-align: top;\n",
       "    }\n",
       "\n",
       "    .dataframe thead th {\n",
       "        text-align: right;\n",
       "    }\n",
       "</style>\n",
       "<table border=\"1\" class=\"dataframe\">\n",
       "  <thead>\n",
       "    <tr style=\"text-align: right;\">\n",
       "      <th></th>\n",
       "      <th>id_cuadra</th>\n",
       "      <th>hora</th>\n",
       "      <th>entradas</th>\n",
       "      <th>salidas</th>\n",
       "      <th>in - out</th>\n",
       "    </tr>\n",
       "  </thead>\n",
       "  <tbody>\n",
       "    <tr>\n",
       "      <td>0</td>\n",
       "      <td>2</td>\n",
       "      <td>7</td>\n",
       "      <td>1.666667</td>\n",
       "      <td>5.000000</td>\n",
       "      <td>-3.333333</td>\n",
       "    </tr>\n",
       "    <tr>\n",
       "      <td>1</td>\n",
       "      <td>2</td>\n",
       "      <td>8</td>\n",
       "      <td>3.125000</td>\n",
       "      <td>4.500000</td>\n",
       "      <td>-1.375000</td>\n",
       "    </tr>\n",
       "    <tr>\n",
       "      <td>2</td>\n",
       "      <td>2</td>\n",
       "      <td>9</td>\n",
       "      <td>8.666667</td>\n",
       "      <td>2.428571</td>\n",
       "      <td>6.238095</td>\n",
       "    </tr>\n",
       "    <tr>\n",
       "      <td>3</td>\n",
       "      <td>2</td>\n",
       "      <td>10</td>\n",
       "      <td>12.307692</td>\n",
       "      <td>6.272727</td>\n",
       "      <td>6.034965</td>\n",
       "    </tr>\n",
       "    <tr>\n",
       "      <td>4</td>\n",
       "      <td>2</td>\n",
       "      <td>11</td>\n",
       "      <td>8.416667</td>\n",
       "      <td>10.333333</td>\n",
       "      <td>-1.916667</td>\n",
       "    </tr>\n",
       "    <tr>\n",
       "      <td>...</td>\n",
       "      <td>...</td>\n",
       "      <td>...</td>\n",
       "      <td>...</td>\n",
       "      <td>...</td>\n",
       "      <td>...</td>\n",
       "    </tr>\n",
       "    <tr>\n",
       "      <td>1494</td>\n",
       "      <td>91</td>\n",
       "      <td>22</td>\n",
       "      <td>0.000000</td>\n",
       "      <td>1.000000</td>\n",
       "      <td>-1.000000</td>\n",
       "    </tr>\n",
       "    <tr>\n",
       "      <td>1495</td>\n",
       "      <td>91</td>\n",
       "      <td>23</td>\n",
       "      <td>0.000000</td>\n",
       "      <td>4.000000</td>\n",
       "      <td>-4.000000</td>\n",
       "    </tr>\n",
       "    <tr>\n",
       "      <td>1496</td>\n",
       "      <td>92</td>\n",
       "      <td>8</td>\n",
       "      <td>0.000000</td>\n",
       "      <td>1.000000</td>\n",
       "      <td>-1.000000</td>\n",
       "    </tr>\n",
       "    <tr>\n",
       "      <td>1497</td>\n",
       "      <td>92</td>\n",
       "      <td>10</td>\n",
       "      <td>0.000000</td>\n",
       "      <td>1.000000</td>\n",
       "      <td>-1.000000</td>\n",
       "    </tr>\n",
       "    <tr>\n",
       "      <td>1498</td>\n",
       "      <td>92</td>\n",
       "      <td>14</td>\n",
       "      <td>0.000000</td>\n",
       "      <td>1.000000</td>\n",
       "      <td>-1.000000</td>\n",
       "    </tr>\n",
       "  </tbody>\n",
       "</table>\n",
       "<p>1499 rows × 5 columns</p>\n",
       "</div>"
      ],
      "text/plain": [
       "      id_cuadra  hora   entradas    salidas  in - out\n",
       "0             2     7   1.666667   5.000000 -3.333333\n",
       "1             2     8   3.125000   4.500000 -1.375000\n",
       "2             2     9   8.666667   2.428571  6.238095\n",
       "3             2    10  12.307692   6.272727  6.034965\n",
       "4             2    11   8.416667  10.333333 -1.916667\n",
       "...         ...   ...        ...        ...       ...\n",
       "1494         91    22   0.000000   1.000000 -1.000000\n",
       "1495         91    23   0.000000   4.000000 -4.000000\n",
       "1496         92     8   0.000000   1.000000 -1.000000\n",
       "1497         92    10   0.000000   1.000000 -1.000000\n",
       "1498         92    14   0.000000   1.000000 -1.000000\n",
       "\n",
       "[1499 rows x 5 columns]"
      ]
     },
     "metadata": {},
     "output_type": "display_data"
    }
   ],
   "source": [
    "'''\n",
    "in-out > 0: more entradas than salidas\n",
    "in-out < 0: more salidas than entradas\n",
    "'''\n",
    "display(in_out_per_hour)"
   ]
  },
  {
   "cell_type": "markdown",
   "metadata": {},
   "source": [
    "## In-outs per hour on designated street"
   ]
  },
  {
   "cell_type": "code",
   "execution_count": 47,
   "metadata": {
    "ExecuteTime": {
     "end_time": "2019-10-15T19:47:22.709406Z",
     "start_time": "2019-10-15T19:47:22.704407Z"
    }
   },
   "outputs": [
    {
     "name": "stdout",
     "output_type": "stream",
     "text": [
      "General Pinto 545\n"
     ]
    }
   ],
   "source": [
    "'''\n",
    "in-out > 0: more entradas than salidas\n",
    "in-out < 0: more salidas than entradas\n",
    "'''\n",
    "print(data.loc[data.id_cuadra == street, 'direccion'].iloc[0])"
   ]
  },
  {
   "cell_type": "code",
   "execution_count": 48,
   "metadata": {
    "ExecuteTime": {
     "end_time": "2019-10-15T19:47:22.731338Z",
     "start_time": "2019-10-15T19:47:22.711388Z"
    }
   },
   "outputs": [
    {
     "data": {
      "text/html": [
       "<div>\n",
       "<style scoped>\n",
       "    .dataframe tbody tr th:only-of-type {\n",
       "        vertical-align: middle;\n",
       "    }\n",
       "\n",
       "    .dataframe tbody tr th {\n",
       "        vertical-align: top;\n",
       "    }\n",
       "\n",
       "    .dataframe thead th {\n",
       "        text-align: right;\n",
       "    }\n",
       "</style>\n",
       "<table border=\"1\" class=\"dataframe\">\n",
       "  <thead>\n",
       "    <tr style=\"text-align: right;\">\n",
       "      <th></th>\n",
       "      <th>hora</th>\n",
       "      <th>in - out</th>\n",
       "    </tr>\n",
       "  </thead>\n",
       "  <tbody>\n",
       "    <tr>\n",
       "      <td>0</td>\n",
       "      <td>7</td>\n",
       "      <td>-3.333333</td>\n",
       "    </tr>\n",
       "    <tr>\n",
       "      <td>1</td>\n",
       "      <td>8</td>\n",
       "      <td>-1.375000</td>\n",
       "    </tr>\n",
       "    <tr>\n",
       "      <td>2</td>\n",
       "      <td>9</td>\n",
       "      <td>6.238095</td>\n",
       "    </tr>\n",
       "    <tr>\n",
       "      <td>3</td>\n",
       "      <td>10</td>\n",
       "      <td>6.034965</td>\n",
       "    </tr>\n",
       "    <tr>\n",
       "      <td>4</td>\n",
       "      <td>11</td>\n",
       "      <td>-1.916667</td>\n",
       "    </tr>\n",
       "    <tr>\n",
       "      <td>5</td>\n",
       "      <td>12</td>\n",
       "      <td>-0.076923</td>\n",
       "    </tr>\n",
       "    <tr>\n",
       "      <td>6</td>\n",
       "      <td>13</td>\n",
       "      <td>1.702381</td>\n",
       "    </tr>\n",
       "    <tr>\n",
       "      <td>7</td>\n",
       "      <td>14</td>\n",
       "      <td>-0.846154</td>\n",
       "    </tr>\n",
       "    <tr>\n",
       "      <td>8</td>\n",
       "      <td>15</td>\n",
       "      <td>-2.897727</td>\n",
       "    </tr>\n",
       "    <tr>\n",
       "      <td>9</td>\n",
       "      <td>16</td>\n",
       "      <td>3.015152</td>\n",
       "    </tr>\n",
       "    <tr>\n",
       "      <td>10</td>\n",
       "      <td>17</td>\n",
       "      <td>2.236364</td>\n",
       "    </tr>\n",
       "    <tr>\n",
       "      <td>11</td>\n",
       "      <td>18</td>\n",
       "      <td>3.386364</td>\n",
       "    </tr>\n",
       "    <tr>\n",
       "      <td>12</td>\n",
       "      <td>19</td>\n",
       "      <td>-4.833333</td>\n",
       "    </tr>\n",
       "    <tr>\n",
       "      <td>13</td>\n",
       "      <td>20</td>\n",
       "      <td>-4.750000</td>\n",
       "    </tr>\n",
       "    <tr>\n",
       "      <td>14</td>\n",
       "      <td>0</td>\n",
       "      <td>-3.000000</td>\n",
       "    </tr>\n",
       "    <tr>\n",
       "      <td>15</td>\n",
       "      <td>21</td>\n",
       "      <td>-1.600000</td>\n",
       "    </tr>\n",
       "    <tr>\n",
       "      <td>16</td>\n",
       "      <td>22</td>\n",
       "      <td>-1.000000</td>\n",
       "    </tr>\n",
       "  </tbody>\n",
       "</table>\n",
       "</div>"
      ],
      "text/plain": [
       "    hora  in - out\n",
       "0      7 -3.333333\n",
       "1      8 -1.375000\n",
       "2      9  6.238095\n",
       "3     10  6.034965\n",
       "4     11 -1.916667\n",
       "5     12 -0.076923\n",
       "6     13  1.702381\n",
       "7     14 -0.846154\n",
       "8     15 -2.897727\n",
       "9     16  3.015152\n",
       "10    17  2.236364\n",
       "11    18  3.386364\n",
       "12    19 -4.833333\n",
       "13    20 -4.750000\n",
       "14     0 -3.000000\n",
       "15    21 -1.600000\n",
       "16    22 -1.000000"
      ]
     },
     "metadata": {},
     "output_type": "display_data"
    },
    {
     "data": {
      "text/html": [
       "<div>\n",
       "<style scoped>\n",
       "    .dataframe tbody tr th:only-of-type {\n",
       "        vertical-align: middle;\n",
       "    }\n",
       "\n",
       "    .dataframe tbody tr th {\n",
       "        vertical-align: top;\n",
       "    }\n",
       "\n",
       "    .dataframe thead th {\n",
       "        text-align: right;\n",
       "    }\n",
       "</style>\n",
       "<table border=\"1\" class=\"dataframe\">\n",
       "  <thead>\n",
       "    <tr style=\"text-align: right;\">\n",
       "      <th></th>\n",
       "      <th>hora</th>\n",
       "      <th>in - out</th>\n",
       "    </tr>\n",
       "  </thead>\n",
       "  <tbody>\n",
       "    <tr>\n",
       "      <td>0</td>\n",
       "      <td>19</td>\n",
       "      <td>-4.833333</td>\n",
       "    </tr>\n",
       "    <tr>\n",
       "      <td>1</td>\n",
       "      <td>20</td>\n",
       "      <td>-4.750000</td>\n",
       "    </tr>\n",
       "    <tr>\n",
       "      <td>2</td>\n",
       "      <td>7</td>\n",
       "      <td>-3.333333</td>\n",
       "    </tr>\n",
       "    <tr>\n",
       "      <td>3</td>\n",
       "      <td>0</td>\n",
       "      <td>-3.000000</td>\n",
       "    </tr>\n",
       "    <tr>\n",
       "      <td>4</td>\n",
       "      <td>15</td>\n",
       "      <td>-2.897727</td>\n",
       "    </tr>\n",
       "    <tr>\n",
       "      <td>5</td>\n",
       "      <td>11</td>\n",
       "      <td>-1.916667</td>\n",
       "    </tr>\n",
       "    <tr>\n",
       "      <td>6</td>\n",
       "      <td>21</td>\n",
       "      <td>-1.600000</td>\n",
       "    </tr>\n",
       "    <tr>\n",
       "      <td>7</td>\n",
       "      <td>8</td>\n",
       "      <td>-1.375000</td>\n",
       "    </tr>\n",
       "    <tr>\n",
       "      <td>8</td>\n",
       "      <td>22</td>\n",
       "      <td>-1.000000</td>\n",
       "    </tr>\n",
       "    <tr>\n",
       "      <td>9</td>\n",
       "      <td>14</td>\n",
       "      <td>-0.846154</td>\n",
       "    </tr>\n",
       "    <tr>\n",
       "      <td>10</td>\n",
       "      <td>12</td>\n",
       "      <td>-0.076923</td>\n",
       "    </tr>\n",
       "    <tr>\n",
       "      <td>11</td>\n",
       "      <td>13</td>\n",
       "      <td>1.702381</td>\n",
       "    </tr>\n",
       "    <tr>\n",
       "      <td>12</td>\n",
       "      <td>17</td>\n",
       "      <td>2.236364</td>\n",
       "    </tr>\n",
       "    <tr>\n",
       "      <td>13</td>\n",
       "      <td>16</td>\n",
       "      <td>3.015152</td>\n",
       "    </tr>\n",
       "    <tr>\n",
       "      <td>14</td>\n",
       "      <td>18</td>\n",
       "      <td>3.386364</td>\n",
       "    </tr>\n",
       "    <tr>\n",
       "      <td>15</td>\n",
       "      <td>10</td>\n",
       "      <td>6.034965</td>\n",
       "    </tr>\n",
       "    <tr>\n",
       "      <td>16</td>\n",
       "      <td>9</td>\n",
       "      <td>6.238095</td>\n",
       "    </tr>\n",
       "  </tbody>\n",
       "</table>\n",
       "</div>"
      ],
      "text/plain": [
       "    hora  in - out\n",
       "0     19 -4.833333\n",
       "1     20 -4.750000\n",
       "2      7 -3.333333\n",
       "3      0 -3.000000\n",
       "4     15 -2.897727\n",
       "5     11 -1.916667\n",
       "6     21 -1.600000\n",
       "7      8 -1.375000\n",
       "8     22 -1.000000\n",
       "9     14 -0.846154\n",
       "10    12 -0.076923\n",
       "11    13  1.702381\n",
       "12    17  2.236364\n",
       "13    16  3.015152\n",
       "14    18  3.386364\n",
       "15    10  6.034965\n",
       "16     9  6.238095"
      ]
     },
     "metadata": {},
     "output_type": "display_data"
    }
   ],
   "source": [
    "#First we display the in-out for the designated street orderer by the hora\n",
    "display(in_out_per_hour.loc[in_out_per_hour['id_cuadra'] == street, ['hora','in - out']].reset_index(drop=True))\n",
    "\n",
    "#And at the right we will display the in-out orderer by the in-out (ascendant)\n",
    "display(in_out_per_hour.loc[in_out_per_hour['id_cuadra'] == street, ['hora','in - out']].sort_values(by='in - out').reset_index(drop=True))"
   ]
  },
  {
   "cell_type": "markdown",
   "metadata": {},
   "source": [
    "## Heat map"
   ]
  },
  {
   "cell_type": "code",
   "execution_count": 49,
   "metadata": {
    "ExecuteTime": {
     "end_time": "2019-10-15T19:47:23.507588Z",
     "start_time": "2019-10-15T19:47:22.733330Z"
    }
   },
   "outputs": [],
   "source": [
    "scatter_data = get_data_for_scatter_graph(data, hour)\n",
    "color_data = get_color_for_scatter_graph(scatter_data)"
   ]
  },
  {
   "cell_type": "code",
   "execution_count": 50,
   "metadata": {
    "ExecuteTime": {
     "end_time": "2019-10-15T19:47:23.584919Z",
     "start_time": "2019-10-15T19:47:23.508586Z"
    }
   },
   "outputs": [
    {
     "data": {
      "image/png": "[encoded data removed]",
      "text/plain": [
       "<Figure size 864x288 with 1 Axes>"
      ]
     },
     "metadata": {
      "needs_background": "light"
     },
     "output_type": "display_data"
    }
   ],
   "source": [
    "plot_scatter_map(scatter_data, color_data, hour)"
   ]
  },
  {
   "cell_type": "code",
   "execution_count": 51,
   "metadata": {
    "ExecuteTime": {
     "end_time": "2019-10-15T19:47:24.501489Z",
     "start_time": "2019-10-15T19:47:23.586915Z"
    }
   },
   "outputs": [],
   "source": [
    "scatter_data = get_data_for_scatter_graph(data, hour, date)\n",
    "color_data = get_color_for_scatter_graph(scatter_data)"
   ]
  },
  {
   "cell_type": "code",
   "execution_count": 52,
   "metadata": {
    "ExecuteTime": {
     "end_time": "2019-10-15T19:47:24.653102Z",
     "start_time": "2019-10-15T19:47:24.502486Z"
    }
   },
   "outputs": [
    {
     "data": {
      "image/png": "[encoded data removed]",
      "text/plain": [
       "<Figure size 864x288 with 1 Axes>"
      ]
     },
     "metadata": {
      "needs_background": "light"
     },
     "output_type": "display_data"
    }
   ],
   "source": [
    "plot_scatter_map(scatter_data, color_data, hour, date)"
   ]
  },
  {
   "cell_type": "code",
   "execution_count": null,
   "metadata": {},
   "outputs": [],
   "source": []
  }
 ],
 "metadata": {
  "kernelspec": {
   "display_name": "Python 3",
   "language": "python",
   "name": "python3"
  },
  "language_info": {
   "codemirror_mode": {
    "name": "ipython",
    "version": 3
   },
   "file_extension": ".py",
   "mimetype": "text/x-python",
   "name": "python",
   "nbconvert_exporter": "python",
   "pygments_lexer": "ipython3",
   "version": "3.7.3"
  }
 },
 "nbformat": 4,
 "nbformat_minor": 2
}
