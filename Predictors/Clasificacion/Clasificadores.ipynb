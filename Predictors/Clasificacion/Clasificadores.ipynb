{
 "cells": [
  {
   "cell_type": "code",
   "execution_count": 109,
   "metadata": {
    "ExecuteTime": {
     "end_time": "2020-04-27T02:59:01.996328Z",
     "start_time": "2020-04-27T02:59:01.988375Z"
    }
   },
   "outputs": [],
   "source": [
    "import pandas as pd\n",
    "import numpy as np\n",
    "import matplotlib.pyplot as plt\n",
    "from datetime import datetime \n",
    "from IPython.display import display, HTML, clear_output\n",
    "import seaborn as sns\n",
    "import gc\n",
    "from sklearn.model_selection import train_test_split\n",
    "from sklearn.preprocessing import StandardScaler\n",
    "from sklearn.metrics import confusion_matrix\n",
    "from sklearn.naive_bayes import GaussianNB, MultinomialNB\n",
    "from sklearn.tree import DecisionTreeClassifier, DecisionTreeRegressor\n",
    "from sklearn.ensemble import RandomForestClassifier, RandomForestRegressor\n",
    "from math import sqrt\n",
    "import tensorflow as tf\n",
    "from tensorflow.keras.layers import Input, Dense, Dropout, Embedding, Concatenate, Flatten, LSTM, BatchNormalization\n",
    "from tensorflow.keras.models import Model\n",
    "from tensorflow.keras.utils import to_categorical\n",
    "from sklearn.utils.class_weight import compute_class_weight\n",
    "from tensorflow.keras.metrics import top_k_categorical_accuracy, categorical_accuracy\n",
    "from sklearn.metrics import balanced_accuracy_score, confusion_matrix, classification_report, log_loss"
   ]
  },
  {
   "cell_type": "markdown",
   "metadata": {},
   "source": [
    "# Con multiclasificador"
   ]
  },
  {
   "cell_type": "code",
   "execution_count": 110,
   "metadata": {
    "ExecuteTime": {
     "end_time": "2020-04-27T02:59:02.347089Z",
     "start_time": "2020-04-27T02:59:02.343136Z"
    }
   },
   "outputs": [],
   "source": [
    "path = r'C:\\Users\\ing_l\\Tesis grado\\Data\\Predictors data\\Dataset2019_multiclassifier.csv'"
   ]
  },
  {
   "cell_type": "code",
   "execution_count": 111,
   "metadata": {
    "ExecuteTime": {
     "end_time": "2020-04-27T02:59:02.780494Z",
     "start_time": "2020-04-27T02:59:02.530137Z"
    },
    "scrolled": true
   },
   "outputs": [
    {
     "data": {
      "text/html": [
       "<div>\n",
       "<style scoped>\n",
       "    .dataframe tbody tr th:only-of-type {\n",
       "        vertical-align: middle;\n",
       "    }\n",
       "\n",
       "    .dataframe tbody tr th {\n",
       "        vertical-align: top;\n",
       "    }\n",
       "\n",
       "    .dataframe thead th {\n",
       "        text-align: right;\n",
       "    }\n",
       "</style>\n",
       "<table border=\"1\" class=\"dataframe\">\n",
       "  <thead>\n",
       "    <tr style=\"text-align: right;\">\n",
       "      <th></th>\n",
       "      <th>dia de la semana</th>\n",
       "      <th>fecha</th>\n",
       "      <th>id_cuadra</th>\n",
       "      <th>media hora</th>\n",
       "      <th>mes</th>\n",
       "      <th>ocupacion</th>\n",
       "      <th>porcentaje ocupacion</th>\n",
       "      <th>target</th>\n",
       "    </tr>\n",
       "  </thead>\n",
       "  <tbody>\n",
       "    <tr>\n",
       "      <td>0</td>\n",
       "      <td>2</td>\n",
       "      <td>2019-01-02</td>\n",
       "      <td>0</td>\n",
       "      <td>10.0</td>\n",
       "      <td>1</td>\n",
       "      <td>2</td>\n",
       "      <td>0</td>\n",
       "      <td>0</td>\n",
       "    </tr>\n",
       "    <tr>\n",
       "      <td>1</td>\n",
       "      <td>2</td>\n",
       "      <td>2019-01-02</td>\n",
       "      <td>0</td>\n",
       "      <td>10.5</td>\n",
       "      <td>1</td>\n",
       "      <td>1</td>\n",
       "      <td>0</td>\n",
       "      <td>0</td>\n",
       "    </tr>\n",
       "    <tr>\n",
       "      <td>2</td>\n",
       "      <td>2</td>\n",
       "      <td>2019-01-02</td>\n",
       "      <td>0</td>\n",
       "      <td>11.0</td>\n",
       "      <td>1</td>\n",
       "      <td>5</td>\n",
       "      <td>0</td>\n",
       "      <td>0</td>\n",
       "    </tr>\n",
       "    <tr>\n",
       "      <td>3</td>\n",
       "      <td>2</td>\n",
       "      <td>2019-01-02</td>\n",
       "      <td>0</td>\n",
       "      <td>11.5</td>\n",
       "      <td>1</td>\n",
       "      <td>4</td>\n",
       "      <td>0</td>\n",
       "      <td>0</td>\n",
       "    </tr>\n",
       "    <tr>\n",
       "      <td>4</td>\n",
       "      <td>2</td>\n",
       "      <td>2019-01-02</td>\n",
       "      <td>0</td>\n",
       "      <td>12.0</td>\n",
       "      <td>1</td>\n",
       "      <td>2</td>\n",
       "      <td>0</td>\n",
       "      <td>0</td>\n",
       "    </tr>\n",
       "    <tr>\n",
       "      <td>5</td>\n",
       "      <td>2</td>\n",
       "      <td>2019-01-02</td>\n",
       "      <td>0</td>\n",
       "      <td>12.5</td>\n",
       "      <td>1</td>\n",
       "      <td>3</td>\n",
       "      <td>0</td>\n",
       "      <td>0</td>\n",
       "    </tr>\n",
       "    <tr>\n",
       "      <td>6</td>\n",
       "      <td>2</td>\n",
       "      <td>2019-01-02</td>\n",
       "      <td>0</td>\n",
       "      <td>13.0</td>\n",
       "      <td>1</td>\n",
       "      <td>4</td>\n",
       "      <td>0</td>\n",
       "      <td>0</td>\n",
       "    </tr>\n",
       "    <tr>\n",
       "      <td>7</td>\n",
       "      <td>2</td>\n",
       "      <td>2019-01-02</td>\n",
       "      <td>0</td>\n",
       "      <td>13.5</td>\n",
       "      <td>1</td>\n",
       "      <td>3</td>\n",
       "      <td>0</td>\n",
       "      <td>1</td>\n",
       "    </tr>\n",
       "    <tr>\n",
       "      <td>8</td>\n",
       "      <td>2</td>\n",
       "      <td>2019-01-02</td>\n",
       "      <td>0</td>\n",
       "      <td>14.0</td>\n",
       "      <td>1</td>\n",
       "      <td>6</td>\n",
       "      <td>1</td>\n",
       "      <td>1</td>\n",
       "    </tr>\n",
       "    <tr>\n",
       "      <td>9</td>\n",
       "      <td>2</td>\n",
       "      <td>2019-01-02</td>\n",
       "      <td>0</td>\n",
       "      <td>14.5</td>\n",
       "      <td>1</td>\n",
       "      <td>6</td>\n",
       "      <td>1</td>\n",
       "      <td>0</td>\n",
       "    </tr>\n",
       "    <tr>\n",
       "      <td>10</td>\n",
       "      <td>2</td>\n",
       "      <td>2019-01-02</td>\n",
       "      <td>0</td>\n",
       "      <td>15.0</td>\n",
       "      <td>1</td>\n",
       "      <td>3</td>\n",
       "      <td>0</td>\n",
       "      <td>0</td>\n",
       "    </tr>\n",
       "    <tr>\n",
       "      <td>11</td>\n",
       "      <td>2</td>\n",
       "      <td>2019-01-02</td>\n",
       "      <td>0</td>\n",
       "      <td>15.5</td>\n",
       "      <td>1</td>\n",
       "      <td>1</td>\n",
       "      <td>0</td>\n",
       "      <td>0</td>\n",
       "    </tr>\n",
       "    <tr>\n",
       "      <td>12</td>\n",
       "      <td>2</td>\n",
       "      <td>2019-01-02</td>\n",
       "      <td>0</td>\n",
       "      <td>16.0</td>\n",
       "      <td>1</td>\n",
       "      <td>4</td>\n",
       "      <td>0</td>\n",
       "      <td>1</td>\n",
       "    </tr>\n",
       "    <tr>\n",
       "      <td>13</td>\n",
       "      <td>2</td>\n",
       "      <td>2019-01-02</td>\n",
       "      <td>0</td>\n",
       "      <td>16.5</td>\n",
       "      <td>1</td>\n",
       "      <td>6</td>\n",
       "      <td>1</td>\n",
       "      <td>0</td>\n",
       "    </tr>\n",
       "    <tr>\n",
       "      <td>14</td>\n",
       "      <td>2</td>\n",
       "      <td>2019-01-02</td>\n",
       "      <td>0</td>\n",
       "      <td>17.0</td>\n",
       "      <td>1</td>\n",
       "      <td>4</td>\n",
       "      <td>0</td>\n",
       "      <td>0</td>\n",
       "    </tr>\n",
       "    <tr>\n",
       "      <td>15</td>\n",
       "      <td>2</td>\n",
       "      <td>2019-01-02</td>\n",
       "      <td>0</td>\n",
       "      <td>17.5</td>\n",
       "      <td>1</td>\n",
       "      <td>5</td>\n",
       "      <td>0</td>\n",
       "      <td>0</td>\n",
       "    </tr>\n",
       "    <tr>\n",
       "      <td>16</td>\n",
       "      <td>2</td>\n",
       "      <td>2019-01-02</td>\n",
       "      <td>0</td>\n",
       "      <td>18.0</td>\n",
       "      <td>1</td>\n",
       "      <td>4</td>\n",
       "      <td>0</td>\n",
       "      <td>1</td>\n",
       "    </tr>\n",
       "    <tr>\n",
       "      <td>17</td>\n",
       "      <td>2</td>\n",
       "      <td>2019-01-02</td>\n",
       "      <td>0</td>\n",
       "      <td>18.5</td>\n",
       "      <td>1</td>\n",
       "      <td>6</td>\n",
       "      <td>1</td>\n",
       "      <td>1</td>\n",
       "    </tr>\n",
       "    <tr>\n",
       "      <td>18</td>\n",
       "      <td>2</td>\n",
       "      <td>2019-01-02</td>\n",
       "      <td>0</td>\n",
       "      <td>19.0</td>\n",
       "      <td>1</td>\n",
       "      <td>10</td>\n",
       "      <td>1</td>\n",
       "      <td>1</td>\n",
       "    </tr>\n",
       "    <tr>\n",
       "      <td>19</td>\n",
       "      <td>3</td>\n",
       "      <td>2019-01-03</td>\n",
       "      <td>0</td>\n",
       "      <td>9.0</td>\n",
       "      <td>1</td>\n",
       "      <td>2</td>\n",
       "      <td>0</td>\n",
       "      <td>1</td>\n",
       "    </tr>\n",
       "    <tr>\n",
       "      <td>20</td>\n",
       "      <td>3</td>\n",
       "      <td>2019-01-03</td>\n",
       "      <td>0</td>\n",
       "      <td>9.5</td>\n",
       "      <td>1</td>\n",
       "      <td>7</td>\n",
       "      <td>1</td>\n",
       "      <td>1</td>\n",
       "    </tr>\n",
       "    <tr>\n",
       "      <td>21</td>\n",
       "      <td>3</td>\n",
       "      <td>2019-01-03</td>\n",
       "      <td>0</td>\n",
       "      <td>10.0</td>\n",
       "      <td>1</td>\n",
       "      <td>11</td>\n",
       "      <td>1</td>\n",
       "      <td>1</td>\n",
       "    </tr>\n",
       "    <tr>\n",
       "      <td>22</td>\n",
       "      <td>3</td>\n",
       "      <td>2019-01-03</td>\n",
       "      <td>0</td>\n",
       "      <td>10.5</td>\n",
       "      <td>1</td>\n",
       "      <td>10</td>\n",
       "      <td>1</td>\n",
       "      <td>1</td>\n",
       "    </tr>\n",
       "    <tr>\n",
       "      <td>23</td>\n",
       "      <td>3</td>\n",
       "      <td>2019-01-03</td>\n",
       "      <td>0</td>\n",
       "      <td>11.0</td>\n",
       "      <td>1</td>\n",
       "      <td>8</td>\n",
       "      <td>1</td>\n",
       "      <td>1</td>\n",
       "    </tr>\n",
       "    <tr>\n",
       "      <td>24</td>\n",
       "      <td>3</td>\n",
       "      <td>2019-01-03</td>\n",
       "      <td>0</td>\n",
       "      <td>11.5</td>\n",
       "      <td>1</td>\n",
       "      <td>9</td>\n",
       "      <td>1</td>\n",
       "      <td>1</td>\n",
       "    </tr>\n",
       "    <tr>\n",
       "      <td>25</td>\n",
       "      <td>3</td>\n",
       "      <td>2019-01-03</td>\n",
       "      <td>0</td>\n",
       "      <td>12.0</td>\n",
       "      <td>1</td>\n",
       "      <td>8</td>\n",
       "      <td>1</td>\n",
       "      <td>0</td>\n",
       "    </tr>\n",
       "    <tr>\n",
       "      <td>26</td>\n",
       "      <td>3</td>\n",
       "      <td>2019-01-03</td>\n",
       "      <td>0</td>\n",
       "      <td>12.5</td>\n",
       "      <td>1</td>\n",
       "      <td>2</td>\n",
       "      <td>0</td>\n",
       "      <td>0</td>\n",
       "    </tr>\n",
       "    <tr>\n",
       "      <td>27</td>\n",
       "      <td>3</td>\n",
       "      <td>2019-01-03</td>\n",
       "      <td>0</td>\n",
       "      <td>13.0</td>\n",
       "      <td>1</td>\n",
       "      <td>5</td>\n",
       "      <td>0</td>\n",
       "      <td>0</td>\n",
       "    </tr>\n",
       "    <tr>\n",
       "      <td>28</td>\n",
       "      <td>3</td>\n",
       "      <td>2019-01-03</td>\n",
       "      <td>0</td>\n",
       "      <td>13.5</td>\n",
       "      <td>1</td>\n",
       "      <td>5</td>\n",
       "      <td>0</td>\n",
       "      <td>0</td>\n",
       "    </tr>\n",
       "    <tr>\n",
       "      <td>29</td>\n",
       "      <td>3</td>\n",
       "      <td>2019-01-03</td>\n",
       "      <td>0</td>\n",
       "      <td>14.0</td>\n",
       "      <td>1</td>\n",
       "      <td>3</td>\n",
       "      <td>0</td>\n",
       "      <td>0</td>\n",
       "    </tr>\n",
       "    <tr>\n",
       "      <td>30</td>\n",
       "      <td>3</td>\n",
       "      <td>2019-01-03</td>\n",
       "      <td>0</td>\n",
       "      <td>14.5</td>\n",
       "      <td>1</td>\n",
       "      <td>3</td>\n",
       "      <td>0</td>\n",
       "      <td>0</td>\n",
       "    </tr>\n",
       "    <tr>\n",
       "      <td>31</td>\n",
       "      <td>3</td>\n",
       "      <td>2019-01-03</td>\n",
       "      <td>0</td>\n",
       "      <td>15.0</td>\n",
       "      <td>1</td>\n",
       "      <td>1</td>\n",
       "      <td>0</td>\n",
       "      <td>0</td>\n",
       "    </tr>\n",
       "    <tr>\n",
       "      <td>32</td>\n",
       "      <td>3</td>\n",
       "      <td>2019-01-03</td>\n",
       "      <td>0</td>\n",
       "      <td>15.5</td>\n",
       "      <td>1</td>\n",
       "      <td>1</td>\n",
       "      <td>0</td>\n",
       "      <td>0</td>\n",
       "    </tr>\n",
       "    <tr>\n",
       "      <td>33</td>\n",
       "      <td>3</td>\n",
       "      <td>2019-01-03</td>\n",
       "      <td>0</td>\n",
       "      <td>16.0</td>\n",
       "      <td>1</td>\n",
       "      <td>1</td>\n",
       "      <td>0</td>\n",
       "      <td>0</td>\n",
       "    </tr>\n",
       "    <tr>\n",
       "      <td>34</td>\n",
       "      <td>3</td>\n",
       "      <td>2019-01-03</td>\n",
       "      <td>0</td>\n",
       "      <td>16.5</td>\n",
       "      <td>1</td>\n",
       "      <td>2</td>\n",
       "      <td>0</td>\n",
       "      <td>0</td>\n",
       "    </tr>\n",
       "    <tr>\n",
       "      <td>35</td>\n",
       "      <td>3</td>\n",
       "      <td>2019-01-03</td>\n",
       "      <td>0</td>\n",
       "      <td>17.0</td>\n",
       "      <td>1</td>\n",
       "      <td>3</td>\n",
       "      <td>0</td>\n",
       "      <td>0</td>\n",
       "    </tr>\n",
       "    <tr>\n",
       "      <td>36</td>\n",
       "      <td>3</td>\n",
       "      <td>2019-01-03</td>\n",
       "      <td>0</td>\n",
       "      <td>17.5</td>\n",
       "      <td>1</td>\n",
       "      <td>3</td>\n",
       "      <td>0</td>\n",
       "      <td>0</td>\n",
       "    </tr>\n",
       "    <tr>\n",
       "      <td>37</td>\n",
       "      <td>3</td>\n",
       "      <td>2019-01-03</td>\n",
       "      <td>0</td>\n",
       "      <td>18.0</td>\n",
       "      <td>1</td>\n",
       "      <td>2</td>\n",
       "      <td>0</td>\n",
       "      <td>0</td>\n",
       "    </tr>\n",
       "    <tr>\n",
       "      <td>38</td>\n",
       "      <td>3</td>\n",
       "      <td>2019-01-03</td>\n",
       "      <td>0</td>\n",
       "      <td>18.5</td>\n",
       "      <td>1</td>\n",
       "      <td>3</td>\n",
       "      <td>0</td>\n",
       "      <td>0</td>\n",
       "    </tr>\n",
       "    <tr>\n",
       "      <td>39</td>\n",
       "      <td>3</td>\n",
       "      <td>2019-01-03</td>\n",
       "      <td>0</td>\n",
       "      <td>19.0</td>\n",
       "      <td>1</td>\n",
       "      <td>4</td>\n",
       "      <td>0</td>\n",
       "      <td>0</td>\n",
       "    </tr>\n",
       "    <tr>\n",
       "      <td>40</td>\n",
       "      <td>3</td>\n",
       "      <td>2019-01-03</td>\n",
       "      <td>0</td>\n",
       "      <td>19.5</td>\n",
       "      <td>1</td>\n",
       "      <td>5</td>\n",
       "      <td>0</td>\n",
       "      <td>0</td>\n",
       "    </tr>\n",
       "    <tr>\n",
       "      <td>41</td>\n",
       "      <td>3</td>\n",
       "      <td>2019-01-03</td>\n",
       "      <td>0</td>\n",
       "      <td>20.0</td>\n",
       "      <td>1</td>\n",
       "      <td>3</td>\n",
       "      <td>0</td>\n",
       "      <td>0</td>\n",
       "    </tr>\n",
       "    <tr>\n",
       "      <td>42</td>\n",
       "      <td>4</td>\n",
       "      <td>2019-01-04</td>\n",
       "      <td>0</td>\n",
       "      <td>9.0</td>\n",
       "      <td>1</td>\n",
       "      <td>3</td>\n",
       "      <td>0</td>\n",
       "      <td>1</td>\n",
       "    </tr>\n",
       "    <tr>\n",
       "      <td>43</td>\n",
       "      <td>4</td>\n",
       "      <td>2019-01-04</td>\n",
       "      <td>0</td>\n",
       "      <td>9.5</td>\n",
       "      <td>1</td>\n",
       "      <td>9</td>\n",
       "      <td>1</td>\n",
       "      <td>1</td>\n",
       "    </tr>\n",
       "    <tr>\n",
       "      <td>44</td>\n",
       "      <td>4</td>\n",
       "      <td>2019-01-04</td>\n",
       "      <td>0</td>\n",
       "      <td>10.0</td>\n",
       "      <td>1</td>\n",
       "      <td>11</td>\n",
       "      <td>1</td>\n",
       "      <td>2</td>\n",
       "    </tr>\n",
       "    <tr>\n",
       "      <td>45</td>\n",
       "      <td>4</td>\n",
       "      <td>2019-01-04</td>\n",
       "      <td>0</td>\n",
       "      <td>10.5</td>\n",
       "      <td>1</td>\n",
       "      <td>14</td>\n",
       "      <td>2</td>\n",
       "      <td>3</td>\n",
       "    </tr>\n",
       "    <tr>\n",
       "      <td>46</td>\n",
       "      <td>4</td>\n",
       "      <td>2019-01-04</td>\n",
       "      <td>0</td>\n",
       "      <td>11.0</td>\n",
       "      <td>1</td>\n",
       "      <td>17</td>\n",
       "      <td>3</td>\n",
       "      <td>2</td>\n",
       "    </tr>\n",
       "    <tr>\n",
       "      <td>47</td>\n",
       "      <td>4</td>\n",
       "      <td>2019-01-04</td>\n",
       "      <td>0</td>\n",
       "      <td>11.5</td>\n",
       "      <td>1</td>\n",
       "      <td>16</td>\n",
       "      <td>2</td>\n",
       "      <td>3</td>\n",
       "    </tr>\n",
       "    <tr>\n",
       "      <td>48</td>\n",
       "      <td>4</td>\n",
       "      <td>2019-01-04</td>\n",
       "      <td>0</td>\n",
       "      <td>12.0</td>\n",
       "      <td>1</td>\n",
       "      <td>17</td>\n",
       "      <td>3</td>\n",
       "      <td>3</td>\n",
       "    </tr>\n",
       "    <tr>\n",
       "      <td>49</td>\n",
       "      <td>4</td>\n",
       "      <td>2019-01-04</td>\n",
       "      <td>0</td>\n",
       "      <td>12.5</td>\n",
       "      <td>1</td>\n",
       "      <td>17</td>\n",
       "      <td>3</td>\n",
       "      <td>2</td>\n",
       "    </tr>\n",
       "  </tbody>\n",
       "</table>\n",
       "</div>"
      ],
      "text/plain": [
       "    dia de la semana       fecha  id_cuadra  media hora  mes  ocupacion  \\\n",
       "0                  2  2019-01-02          0        10.0    1          2   \n",
       "1                  2  2019-01-02          0        10.5    1          1   \n",
       "2                  2  2019-01-02          0        11.0    1          5   \n",
       "3                  2  2019-01-02          0        11.5    1          4   \n",
       "4                  2  2019-01-02          0        12.0    1          2   \n",
       "5                  2  2019-01-02          0        12.5    1          3   \n",
       "6                  2  2019-01-02          0        13.0    1          4   \n",
       "7                  2  2019-01-02          0        13.5    1          3   \n",
       "8                  2  2019-01-02          0        14.0    1          6   \n",
       "9                  2  2019-01-02          0        14.5    1          6   \n",
       "10                 2  2019-01-02          0        15.0    1          3   \n",
       "11                 2  2019-01-02          0        15.5    1          1   \n",
       "12                 2  2019-01-02          0        16.0    1          4   \n",
       "13                 2  2019-01-02          0        16.5    1          6   \n",
       "14                 2  2019-01-02          0        17.0    1          4   \n",
       "15                 2  2019-01-02          0        17.5    1          5   \n",
       "16                 2  2019-01-02          0        18.0    1          4   \n",
       "17                 2  2019-01-02          0        18.5    1          6   \n",
       "18                 2  2019-01-02          0        19.0    1         10   \n",
       "19                 3  2019-01-03          0         9.0    1          2   \n",
       "20                 3  2019-01-03          0         9.5    1          7   \n",
       "21                 3  2019-01-03          0        10.0    1         11   \n",
       "22                 3  2019-01-03          0        10.5    1         10   \n",
       "23                 3  2019-01-03          0        11.0    1          8   \n",
       "24                 3  2019-01-03          0        11.5    1          9   \n",
       "25                 3  2019-01-03          0        12.0    1          8   \n",
       "26                 3  2019-01-03          0        12.5    1          2   \n",
       "27                 3  2019-01-03          0        13.0    1          5   \n",
       "28                 3  2019-01-03          0        13.5    1          5   \n",
       "29                 3  2019-01-03          0        14.0    1          3   \n",
       "30                 3  2019-01-03          0        14.5    1          3   \n",
       "31                 3  2019-01-03          0        15.0    1          1   \n",
       "32                 3  2019-01-03          0        15.5    1          1   \n",
       "33                 3  2019-01-03          0        16.0    1          1   \n",
       "34                 3  2019-01-03          0        16.5    1          2   \n",
       "35                 3  2019-01-03          0        17.0    1          3   \n",
       "36                 3  2019-01-03          0        17.5    1          3   \n",
       "37                 3  2019-01-03          0        18.0    1          2   \n",
       "38                 3  2019-01-03          0        18.5    1          3   \n",
       "39                 3  2019-01-03          0        19.0    1          4   \n",
       "40                 3  2019-01-03          0        19.5    1          5   \n",
       "41                 3  2019-01-03          0        20.0    1          3   \n",
       "42                 4  2019-01-04          0         9.0    1          3   \n",
       "43                 4  2019-01-04          0         9.5    1          9   \n",
       "44                 4  2019-01-04          0        10.0    1         11   \n",
       "45                 4  2019-01-04          0        10.5    1         14   \n",
       "46                 4  2019-01-04          0        11.0    1         17   \n",
       "47                 4  2019-01-04          0        11.5    1         16   \n",
       "48                 4  2019-01-04          0        12.0    1         17   \n",
       "49                 4  2019-01-04          0        12.5    1         17   \n",
       "\n",
       "    porcentaje ocupacion  target  \n",
       "0                      0       0  \n",
       "1                      0       0  \n",
       "2                      0       0  \n",
       "3                      0       0  \n",
       "4                      0       0  \n",
       "5                      0       0  \n",
       "6                      0       0  \n",
       "7                      0       1  \n",
       "8                      1       1  \n",
       "9                      1       0  \n",
       "10                     0       0  \n",
       "11                     0       0  \n",
       "12                     0       1  \n",
       "13                     1       0  \n",
       "14                     0       0  \n",
       "15                     0       0  \n",
       "16                     0       1  \n",
       "17                     1       1  \n",
       "18                     1       1  \n",
       "19                     0       1  \n",
       "20                     1       1  \n",
       "21                     1       1  \n",
       "22                     1       1  \n",
       "23                     1       1  \n",
       "24                     1       1  \n",
       "25                     1       0  \n",
       "26                     0       0  \n",
       "27                     0       0  \n",
       "28                     0       0  \n",
       "29                     0       0  \n",
       "30                     0       0  \n",
       "31                     0       0  \n",
       "32                     0       0  \n",
       "33                     0       0  \n",
       "34                     0       0  \n",
       "35                     0       0  \n",
       "36                     0       0  \n",
       "37                     0       0  \n",
       "38                     0       0  \n",
       "39                     0       0  \n",
       "40                     0       0  \n",
       "41                     0       0  \n",
       "42                     0       1  \n",
       "43                     1       1  \n",
       "44                     1       2  \n",
       "45                     2       3  \n",
       "46                     3       2  \n",
       "47                     2       3  \n",
       "48                     3       3  \n",
       "49                     3       2  "
      ]
     },
     "execution_count": 111,
     "metadata": {},
     "output_type": "execute_result"
    }
   ],
   "source": [
    "data = pd.read_csv(path)\n",
    "tiempo = 'media hora'\n",
    "#data['media hora'] = data['media hora'] / (1800*2)\n",
    "#data = data.loc[(data['media hora'] >= 9) & (data['media hora'] <= 20)]\n",
    "data[0:50]"
   ]
  },
  {
   "cell_type": "markdown",
   "metadata": {},
   "source": [
    "### Acomodo los targets"
   ]
  },
  {
   "cell_type": "code",
   "execution_count": 112,
   "metadata": {
    "ExecuteTime": {
     "end_time": "2020-04-27T02:59:02.960412Z",
     "start_time": "2020-04-27T02:59:02.955425Z"
    }
   },
   "outputs": [
    {
     "data": {
      "text/plain": [
       "\"out = pd.DataFrame(columns=data.columns.values)\\nout['target'] = 0\\n\\nfor s in data['id_cuadra'].drop_duplicates().sort_values():\\n    clear_output()\\n    print('calle:', s)\\n    \\n    data_s = data.loc[data['id_cuadra'] == s].copy()\\n    \\n    for f in data_s['fecha'].drop_duplicates():\\n        \\n        data_f = data_s.loc[data_s['fecha'] == f].sort_values(by=tiempo).reset_index(drop=True)\\n        \\n        to_append = pd.DataFrame(columns=data.columns.values)\\n        to_append['target'] = 0\\n        \\n        to_append = to_append.append(data_f[:-1])\\n        #display(to_append)\\n        to_append['target'] = data_f['porcentaje ocupacion'][1:].reset_index(drop=True)\\n        #display(data_f['porcentaje ocupacion'][1:].reset_index(drop=True))\\n        out = out.append(to_append)\\n        \""
      ]
     },
     "execution_count": 112,
     "metadata": {},
     "output_type": "execute_result"
    }
   ],
   "source": [
    "'''out = pd.DataFrame(columns=data.columns.values)\n",
    "out['target'] = 0\n",
    "\n",
    "for s in data['id_cuadra'].drop_duplicates().sort_values():\n",
    "    clear_output()\n",
    "    print('calle:', s)\n",
    "    \n",
    "    data_s = data.loc[data['id_cuadra'] == s].copy()\n",
    "    \n",
    "    for f in data_s['fecha'].drop_duplicates():\n",
    "        \n",
    "        data_f = data_s.loc[data_s['fecha'] == f].sort_values(by=tiempo).reset_index(drop=True)\n",
    "        \n",
    "        to_append = pd.DataFrame(columns=data.columns.values)\n",
    "        to_append['target'] = 0\n",
    "        \n",
    "        to_append = to_append.append(data_f[:-1])\n",
    "        #display(to_append)\n",
    "        to_append['target'] = data_f['porcentaje ocupacion'][1:].reset_index(drop=True)\n",
    "        #display(data_f['porcentaje ocupacion'][1:].reset_index(drop=True))\n",
    "        out = out.append(to_append)\n",
    "        '''"
   ]
  },
  {
   "cell_type": "code",
   "execution_count": 113,
   "metadata": {
    "ExecuteTime": {
     "end_time": "2020-04-27T02:59:03.141440Z",
     "start_time": "2020-04-27T02:59:03.137451Z"
    }
   },
   "outputs": [],
   "source": [
    "#out"
   ]
  },
  {
   "cell_type": "markdown",
   "metadata": {},
   "source": [
    "### veo si las clases estan balanceadas"
   ]
  },
  {
   "cell_type": "code",
   "execution_count": 114,
   "metadata": {
    "ExecuteTime": {
     "end_time": "2020-04-27T02:59:03.508280Z",
     "start_time": "2020-04-27T02:59:03.477337Z"
    }
   },
   "outputs": [
    {
     "data": {
      "text/html": [
       "<div>\n",
       "<style scoped>\n",
       "    .dataframe tbody tr th:only-of-type {\n",
       "        vertical-align: middle;\n",
       "    }\n",
       "\n",
       "    .dataframe tbody tr th {\n",
       "        vertical-align: top;\n",
       "    }\n",
       "\n",
       "    .dataframe thead th {\n",
       "        text-align: right;\n",
       "    }\n",
       "</style>\n",
       "<table border=\"1\" class=\"dataframe\">\n",
       "  <thead>\n",
       "    <tr style=\"text-align: right;\">\n",
       "      <th></th>\n",
       "      <th>count</th>\n",
       "    </tr>\n",
       "    <tr>\n",
       "      <th>porcentaje ocupacion</th>\n",
       "      <th></th>\n",
       "    </tr>\n",
       "  </thead>\n",
       "  <tbody>\n",
       "    <tr>\n",
       "      <td>0</td>\n",
       "      <td>151448</td>\n",
       "    </tr>\n",
       "    <tr>\n",
       "      <td>1</td>\n",
       "      <td>171976</td>\n",
       "    </tr>\n",
       "    <tr>\n",
       "      <td>2</td>\n",
       "      <td>90890</td>\n",
       "    </tr>\n",
       "    <tr>\n",
       "      <td>3</td>\n",
       "      <td>28247</td>\n",
       "    </tr>\n",
       "    <tr>\n",
       "      <td>4</td>\n",
       "      <td>5905</td>\n",
       "    </tr>\n",
       "  </tbody>\n",
       "</table>\n",
       "</div>"
      ],
      "text/plain": [
       "                       count\n",
       "porcentaje ocupacion        \n",
       "0                     151448\n",
       "1                     171976\n",
       "2                      90890\n",
       "3                      28247\n",
       "4                       5905"
      ]
     },
     "execution_count": 114,
     "metadata": {},
     "output_type": "execute_result"
    }
   ],
   "source": [
    "balanced_classes = data[['porcentaje ocupacion','ocupacion']].groupby('porcentaje ocupacion').count()\n",
    "balanced_classes.rename(columns={'ocupacion': 'count'}, inplace=True)\n",
    "total_data = balanced_classes['count'].sum()\n",
    "balanced_classes"
   ]
  },
  {
   "cell_type": "markdown",
   "metadata": {},
   "source": [
    "### Separo en train y test"
   ]
  },
  {
   "cell_type": "code",
   "execution_count": 115,
   "metadata": {
    "ExecuteTime": {
     "end_time": "2020-04-27T02:59:03.811256Z",
     "start_time": "2020-04-27T02:59:03.807265Z"
    }
   },
   "outputs": [],
   "source": [
    "input_features = ['porcentaje ocupacion', 'ocupacion', tiempo]"
   ]
  },
  {
   "cell_type": "code",
   "execution_count": 116,
   "metadata": {
    "ExecuteTime": {
     "end_time": "2020-04-27T02:59:04.255559Z",
     "start_time": "2020-04-27T02:59:03.940404Z"
    }
   },
   "outputs": [],
   "source": [
    "x_train, x_test, y_train, y_test = train_test_split(data[['ocupacion',tiempo,'id_cuadra', 'dia de la semana', 'mes', 'porcentaje ocupacion']], data['target'], test_size=0.1, shuffle=True, stratify=data['target'])   "
   ]
  },
  {
   "cell_type": "code",
   "execution_count": 117,
   "metadata": {
    "ExecuteTime": {
     "end_time": "2020-04-27T02:59:04.264536Z",
     "start_time": "2020-04-27T02:59:04.257555Z"
    }
   },
   "outputs": [],
   "source": [
    "y_train_no_cat = y_train.copy()\n",
    "y_test_no_cat = y_test.copy()"
   ]
  },
  {
   "cell_type": "code",
   "execution_count": 118,
   "metadata": {
    "ExecuteTime": {
     "end_time": "2020-04-27T02:59:04.297448Z",
     "start_time": "2020-04-27T02:59:04.278499Z"
    }
   },
   "outputs": [],
   "source": [
    "y_train = to_categorical(y_train)\n",
    "y_test = to_categorical(y_test)"
   ]
  },
  {
   "cell_type": "code",
   "execution_count": 119,
   "metadata": {
    "ExecuteTime": {
     "end_time": "2020-04-27T02:59:04.524090Z",
     "start_time": "2020-04-27T02:59:04.432339Z"
    }
   },
   "outputs": [
    {
     "data": {
      "text/plain": [
       "array([ 0.60008326,  0.52031867,  0.97521957,  3.1306496 , 14.96270621])"
      ]
     },
     "execution_count": 119,
     "metadata": {},
     "output_type": "execute_result"
    }
   ],
   "source": [
    "class_weight = compute_class_weight('balanced', np.unique(y_train_no_cat), y_train_no_cat)\n",
    "class_weight"
   ]
  },
  {
   "cell_type": "markdown",
   "metadata": {},
   "source": [
    "# Modelo baseline"
   ]
  },
  {
   "cell_type": "code",
   "execution_count": 120,
   "metadata": {
    "ExecuteTime": {
     "end_time": "2020-04-27T02:59:04.799357Z",
     "start_time": "2020-04-27T02:59:04.756468Z"
    }
   },
   "outputs": [
    {
     "data": {
      "text/plain": [
       "0.5758612885412144"
      ]
     },
     "execution_count": 120,
     "metadata": {},
     "output_type": "execute_result"
    }
   ],
   "source": [
    "balanced_accuracy_score(y_test_no_cat, x_test['porcentaje ocupacion'])"
   ]
  },
  {
   "cell_type": "code",
   "execution_count": 121,
   "metadata": {
    "ExecuteTime": {
     "end_time": "2020-04-27T02:59:04.940091Z",
     "start_time": "2020-04-27T02:59:04.935105Z"
    }
   },
   "outputs": [
    {
     "data": {
      "text/plain": [
       "array([2, 1, 0, 4, 3], dtype=int64)"
      ]
     },
     "execution_count": 121,
     "metadata": {},
     "output_type": "execute_result"
    }
   ],
   "source": [
    "y_test_no_cat.unique()"
   ]
  },
  {
   "cell_type": "code",
   "execution_count": 122,
   "metadata": {
    "ExecuteTime": {
     "end_time": "2020-04-27T02:59:05.465589Z",
     "start_time": "2020-04-27T02:59:05.426648Z"
    }
   },
   "outputs": [
    {
     "data": {
      "text/plain": [
       "array([[10952,  3707,   258,    27,     3],\n",
       "       [ 3796, 10503,  2715,   207,    17],\n",
       "       [  326,  2779,  5023,  1016,    53],\n",
       "       [   20,   249,  1017,  1388,   191],\n",
       "       [    9,    24,    64,   199,   304]], dtype=int64)"
      ]
     },
     "execution_count": 122,
     "metadata": {},
     "output_type": "execute_result"
    }
   ],
   "source": [
    "cnf_matrix = confusion_matrix(y_test_no_cat, x_test['porcentaje ocupacion'],labels=np.sort(y_test_no_cat.unique()))\n",
    "cnf_matrix"
   ]
  },
  {
   "cell_type": "code",
   "execution_count": 123,
   "metadata": {
    "ExecuteTime": {
     "end_time": "2020-04-27T02:59:05.731313Z",
     "start_time": "2020-04-27T02:59:05.657505Z"
    }
   },
   "outputs": [
    {
     "name": "stdout",
     "output_type": "stream",
     "text": [
      "              precision    recall  f1-score   support\n",
      "\n",
      "           0       0.73      0.73      0.73     14947\n",
      "           1       0.61      0.61      0.61     17238\n",
      "           2       0.55      0.55      0.55      9197\n",
      "           3       0.49      0.48      0.49      2865\n",
      "           4       0.54      0.51      0.52       600\n",
      "\n",
      "    accuracy                           0.63     44847\n",
      "   macro avg       0.58      0.58      0.58     44847\n",
      "weighted avg       0.63      0.63      0.63     44847\n",
      "\n"
     ]
    }
   ],
   "source": [
    "print(classification_report(y_test_no_cat, x_test['porcentaje ocupacion']))"
   ]
  },
  {
   "cell_type": "markdown",
   "metadata": {},
   "source": [
    "# Naive bayes classifier"
   ]
  },
  {
   "cell_type": "markdown",
   "metadata": {},
   "source": [
    "### Multinomial"
   ]
  },
  {
   "cell_type": "code",
   "execution_count": 38,
   "metadata": {
    "ExecuteTime": {
     "end_time": "2020-04-26T20:37:09.592930Z",
     "start_time": "2020-04-26T20:37:09.448317Z"
    }
   },
   "outputs": [
    {
     "data": {
      "text/plain": [
       "0.583004437309073"
      ]
     },
     "execution_count": 38,
     "metadata": {},
     "output_type": "execute_result"
    }
   ],
   "source": [
    "model = MultinomialNB()\n",
    "\n",
    "model.fit(x_train[input_features], y_train_no_cat)\n",
    "\n",
    "model.score(x_test[input_features], y_test_no_cat)"
   ]
  },
  {
   "cell_type": "code",
   "execution_count": 39,
   "metadata": {
    "ExecuteTime": {
     "end_time": "2020-04-26T20:37:09.794812Z",
     "start_time": "2020-04-26T20:37:09.747904Z"
    }
   },
   "outputs": [
    {
     "data": {
      "text/plain": [
       "array([[11423,  3402,   122,     0,     0],\n",
       "       [ 4561,  9881,  2793,     3,     0],\n",
       "       [  651,  3808,  4657,    81,     0],\n",
       "       [   98,   759,  1823,   185,     0],\n",
       "       [   15,   137,   347,   101,     0]], dtype=int64)"
      ]
     },
     "execution_count": 39,
     "metadata": {},
     "output_type": "execute_result"
    }
   ],
   "source": [
    "cnf_matrix = confusion_matrix(y_test_no_cat, model.predict(x_test[input_features]),labels=np.sort(y_test_no_cat.unique()))\n",
    "cnf_matrix"
   ]
  },
  {
   "cell_type": "markdown",
   "metadata": {},
   "source": [
    "### Gaussian"
   ]
  },
  {
   "cell_type": "code",
   "execution_count": 19,
   "metadata": {
    "ExecuteTime": {
     "end_time": "2020-04-26T20:06:37.026299Z",
     "start_time": "2020-04-26T20:06:36.893656Z"
    }
   },
   "outputs": [
    {
     "data": {
      "text/plain": [
       "0.6173211140098558"
      ]
     },
     "execution_count": 19,
     "metadata": {},
     "output_type": "execute_result"
    }
   ],
   "source": [
    "model = GaussianNB()\n",
    "\n",
    "model.fit(x_train[input_features], y_train_no_cat)\n",
    "\n",
    "model.score(x_test[input_features], y_test_no_cat)"
   ]
  },
  {
   "cell_type": "code",
   "execution_count": 20,
   "metadata": {
    "ExecuteTime": {
     "end_time": "2020-04-26T20:06:37.213583Z",
     "start_time": "2020-04-26T20:06:37.157767Z"
    }
   },
   "outputs": [
    {
     "data": {
      "text/plain": [
       "array([[11617,  3192,   131,     7,     0],\n",
       "       [ 4715,  9991,  2457,    73,     2],\n",
       "       [  625,  2960,  5005,   600,     7],\n",
       "       [   89,   483,  1231,   991,    71],\n",
       "       [   14,    42,   140,   323,    81]], dtype=int64)"
      ]
     },
     "execution_count": 20,
     "metadata": {},
     "output_type": "execute_result"
    }
   ],
   "source": [
    "cnf_matrix = confusion_matrix(y_test_no_cat, model.predict(x_test[input_features]),labels=np.sort(y_test_no_cat.unique()))\n",
    "cnf_matrix"
   ]
  },
  {
   "cell_type": "markdown",
   "metadata": {},
   "source": [
    "# Arbol de decision"
   ]
  },
  {
   "cell_type": "code",
   "execution_count": 40,
   "metadata": {
    "ExecuteTime": {
     "end_time": "2020-04-26T20:37:38.160183Z",
     "start_time": "2020-04-26T20:37:24.258378Z"
    }
   },
   "outputs": [
    {
     "name": "stdout",
     "output_type": "stream",
     "text": [
      "Profundidad: 20\n",
      "Mejor profundidad: 14\n",
      "Mejor accuracy: 0.6312796842598167\n"
     ]
    }
   ],
   "source": [
    "max_depth = 20\n",
    "\n",
    "best_score = np.zeros((max_depth+1, 2))\n",
    "best_depth = 0\n",
    "best_model = 0\n",
    "\n",
    "\n",
    "for i in range(1, max_depth+1):\n",
    "    clear_output()\n",
    "    print(\"Profundidad:\", i)\n",
    "    dt = DecisionTreeClassifier(max_depth=i, class_weight='balanced')\n",
    "    dt = dt.fit(x_train[input_features], y_train_no_cat)\n",
    "    \n",
    "    if dt.score(x_test[input_features], y_test_no_cat) > max([x[1] for x in best_score]):\n",
    "        best_depth = i\n",
    "        best_model = dt\n",
    "        \n",
    "    best_score[i][0] = dt.score(x_train[input_features], y_train_no_cat)\n",
    "    best_score[i][1] = dt.score(x_test[input_features], y_test_no_cat)\n",
    "\n",
    "    \n",
    "print('Mejor profundidad:', best_depth)\n",
    "print('Mejor accuracy:', max([x[1] for x in best_score]))"
   ]
  },
  {
   "cell_type": "code",
   "execution_count": 41,
   "metadata": {
    "ExecuteTime": {
     "end_time": "2020-04-26T20:37:38.216054Z",
     "start_time": "2020-04-26T20:37:38.163194Z"
    }
   },
   "outputs": [
    {
     "data": {
      "text/plain": [
       "array([[11815,  2699,   268,   125,    40],\n",
       "       [ 3980,  9556,  2921,   642,   139],\n",
       "       [  314,  2114,  5010,  1491,   268],\n",
       "       [   33,   120,   727,  1527,   458],\n",
       "       [    5,    10,    23,   159,   403]], dtype=int64)"
      ]
     },
     "execution_count": 41,
     "metadata": {},
     "output_type": "execute_result"
    }
   ],
   "source": [
    "cnf_matrix = confusion_matrix(y_test_no_cat, best_model.predict(x_test[input_features]),labels=np.sort(y_test_no_cat.unique()))\n",
    "cnf_matrix"
   ]
  },
  {
   "cell_type": "code",
   "execution_count": 42,
   "metadata": {
    "ExecuteTime": {
     "end_time": "2020-04-26T20:37:38.314799Z",
     "start_time": "2020-04-26T20:37:38.218021Z"
    }
   },
   "outputs": [
    {
     "name": "stdout",
     "output_type": "stream",
     "text": [
      "              precision    recall  f1-score   support\n",
      "\n",
      "           0       0.73      0.79      0.76     14947\n",
      "           1       0.66      0.55      0.60     17238\n",
      "           2       0.56      0.54      0.55      9197\n",
      "           3       0.39      0.53      0.45      2865\n",
      "           4       0.31      0.67      0.42       600\n",
      "\n",
      "    accuracy                           0.63     44847\n",
      "   macro avg       0.53      0.62      0.56     44847\n",
      "weighted avg       0.64      0.63      0.63     44847\n",
      "\n"
     ]
    }
   ],
   "source": [
    "print(classification_report(y_test_no_cat, best_model.predict(x_test[input_features])))"
   ]
  },
  {
   "cell_type": "markdown",
   "metadata": {},
   "source": [
    "# Random forest"
   ]
  },
  {
   "cell_type": "code",
   "execution_count": 22,
   "metadata": {
    "ExecuteTime": {
     "end_time": "2020-04-12T18:17:21.420385Z",
     "start_time": "2020-04-12T18:09:37.132329Z"
    }
   },
   "outputs": [
    {
     "name": "stdout",
     "output_type": "stream",
     "text": [
      "Profundidad: 20\n",
      "Mejor profundidad: 6\n",
      "Mejor accuracy: 0.6337101701340112\n"
     ]
    }
   ],
   "source": [
    "max_depth = 20\n",
    "\n",
    "best_score = np.zeros((max_depth+1, 2))\n",
    "best_depth = 0\n",
    "best_model = 0\n",
    "\n",
    "\n",
    "for i in range(1, max_depth+1):\n",
    "    clear_output()\n",
    "    print(\"Profundidad:\", i)\n",
    "    dt = RandomForestClassifier(max_depth=i, class_weight='balanced')\n",
    "    dt = dt.fit(x_train[input_features], y_train_no_cat)\n",
    "    \n",
    "    if dt.score(x_test[input_features], y_test_no_cat) > max([x[1] for x in best_score]):\n",
    "        best_depth = i\n",
    "        best_model = dt\n",
    "        \n",
    "    best_score[i][0] = dt.score(x_train[input_features], y_train_no_cat)\n",
    "    best_score[i][1] = dt.score(x_test[input_features], y_test_no_cat)\n",
    "\n",
    "    \n",
    "print('Mejor profundidad:', best_depth)\n",
    "print('Mejor accuracy:', max([x[1] for x in best_score]))"
   ]
  },
  {
   "cell_type": "code",
   "execution_count": 23,
   "metadata": {
    "ExecuteTime": {
     "end_time": "2020-04-12T18:17:21.977986Z",
     "start_time": "2020-04-12T18:17:21.424400Z"
    }
   },
   "outputs": [
    {
     "data": {
      "text/plain": [
       "array([[11761,  2914,   172,    70,    30],\n",
       "       [ 4027,  9725,  2901,   460,   125],\n",
       "       [  432,  2270,  5094,  1169,   232],\n",
       "       [   50,   161,   814,  1434,   406],\n",
       "       [    9,    12,    29,   144,   406]], dtype=int64)"
      ]
     },
     "execution_count": 23,
     "metadata": {},
     "output_type": "execute_result"
    }
   ],
   "source": [
    "cnf_matrix = confusion_matrix(y_test_no_cat, best_model.predict(x_test[input_features]),labels=np.sort(y_test_no_cat.unique()))\n",
    "cnf_matrix"
   ]
  },
  {
   "cell_type": "code",
   "execution_count": 24,
   "metadata": {
    "ExecuteTime": {
     "end_time": "2020-04-12T18:17:22.543907Z",
     "start_time": "2020-04-12T18:17:21.979981Z"
    }
   },
   "outputs": [
    {
     "name": "stdout",
     "output_type": "stream",
     "text": [
      "              precision    recall  f1-score   support\n",
      "\n",
      "           0       0.72      0.79      0.75     14947\n",
      "           1       0.64      0.56      0.60     17238\n",
      "           2       0.57      0.55      0.56      9197\n",
      "           3       0.44      0.50      0.47      2865\n",
      "           4       0.34      0.68      0.45       600\n",
      "\n",
      "    accuracy                           0.63     44847\n",
      "   macro avg       0.54      0.62      0.57     44847\n",
      "weighted avg       0.64      0.63      0.63     44847\n",
      "\n"
     ]
    }
   ],
   "source": [
    "print(classification_report(y_test_no_cat, best_model.predict(x_test[input_features])))"
   ]
  },
  {
   "cell_type": "markdown",
   "metadata": {},
   "source": [
    "# Redes neuronales"
   ]
  },
  {
   "cell_type": "markdown",
   "metadata": {},
   "source": [
    "### Una especie de regresion logistica con 5 salidas solo num"
   ]
  },
  {
   "cell_type": "code",
   "execution_count": 15,
   "metadata": {
    "ExecuteTime": {
     "end_time": "2020-04-26T20:19:00.862080Z",
     "start_time": "2020-04-26T20:19:00.743340Z"
    }
   },
   "outputs": [
    {
     "name": "stdout",
     "output_type": "stream",
     "text": [
      "Model: \"model\"\n",
      "_________________________________________________________________\n",
      "Layer (type)                 Output Shape              Param #   \n",
      "=================================================================\n",
      "input_1 (InputLayer)         [(None, 3)]               0         \n",
      "_________________________________________________________________\n",
      "Output (Dense)               (None, 5)                 20        \n",
      "=================================================================\n",
      "Total params: 20\n",
      "Trainable params: 20\n",
      "Non-trainable params: 0\n",
      "_________________________________________________________________\n"
     ]
    }
   ],
   "source": [
    "i_features = Input(shape=(len(input_features)))\n",
    "\n",
    "o = Dense(max(data['porcentaje ocupacion'])+1, activation='softmax', name='Output')(i_features)\n",
    "\n",
    "model = Model(inputs=i_features, outputs=o)\n",
    "model.summary()\n",
    "model.compile(loss='categorical_crossentropy', optimizer='adam', metrics=['categorical_accuracy'])"
   ]
  },
  {
   "cell_type": "code",
   "execution_count": 16,
   "metadata": {
    "ExecuteTime": {
     "end_time": "2020-04-26T20:20:03.412301Z",
     "start_time": "2020-04-26T20:19:01.100351Z"
    }
   },
   "outputs": [
    {
     "name": "stdout",
     "output_type": "stream",
     "text": [
      "WARNING:tensorflow:Falling back from v2 loop because of error: Failed to find data adapter that can handle input: <class 'pandas.core.frame.DataFrame'>, <class 'NoneType'>\n",
      "Train on 403619 samples, validate on 44847 samples\n",
      "Epoch 1/10\n",
      "403619/403619 [==============================] - 6s 15us/sample - loss: 1.1054 - categorical_accuracy: 0.5716 - val_loss: 0.9110 - val_categorical_accuracy: 0.6103\n",
      "Epoch 2/10\n",
      "403619/403619 [==============================] - 6s 15us/sample - loss: 0.9018 - categorical_accuracy: 0.6162 - val_loss: 0.8961 - val_categorical_accuracy: 0.6169\n",
      "Epoch 3/10\n",
      "403619/403619 [==============================] - 6s 15us/sample - loss: 0.8929 - categorical_accuracy: 0.6192 - val_loss: 0.8890 - val_categorical_accuracy: 0.6193\n",
      "Epoch 4/10\n",
      "403619/403619 [==============================] - 6s 15us/sample - loss: 0.8889 - categorical_accuracy: 0.6203 - val_loss: 0.8873 - val_categorical_accuracy: 0.6186\n",
      "Epoch 5/10\n",
      "403619/403619 [==============================] - 6s 16us/sample - loss: 0.8864 - categorical_accuracy: 0.6209 - val_loss: 0.8852 - val_categorical_accuracy: 0.6202s - loss: 0.8868 - \n",
      "Epoch 6/10\n",
      "403619/403619 [==============================] - 6s 16us/sample - loss: 0.8847 - categorical_accuracy: 0.6218 - val_loss: 0.8831 - val_categorical_accuracy: 0.6217\n",
      "Epoch 7/10\n",
      "403619/403619 [==============================] - 6s 16us/sample - loss: 0.8837 - categorical_accuracy: 0.6219 - val_loss: 0.8829 - val_categorical_accuracy: 0.6207\n",
      "Epoch 8/10\n",
      "403619/403619 [==============================] - 6s 16us/sample - loss: 0.8829 - categorical_accuracy: 0.6226 - val_loss: 0.8853 - val_categorical_accuracy: 0.6301\n",
      "Epoch 9/10\n",
      "403619/403619 [==============================] - 6s 15us/sample - loss: 0.8824 - categorical_accuracy: 0.6226 - val_loss: 0.8827 - val_categorical_accuracy: 0.6218\n",
      "Epoch 10/10\n",
      "403619/403619 [==============================] - 6s 15us/sample - loss: 0.8820 - categorical_accuracy: 0.6231 - val_loss: 0.8810 - val_categorical_accuracy: 0.6223\n"
     ]
    }
   ],
   "source": [
    "h = model.fit(x_train[input_features], y_train, epochs=10, batch_size=64, class_weight=class_weight, validation_data=[x_test[input_features],y_test])"
   ]
  },
  {
   "cell_type": "code",
   "execution_count": 17,
   "metadata": {
    "ExecuteTime": {
     "end_time": "2020-04-26T20:20:03.980594Z",
     "start_time": "2020-04-26T20:20:03.414295Z"
    }
   },
   "outputs": [
    {
     "name": "stdout",
     "output_type": "stream",
     "text": [
      "WARNING:tensorflow:Falling back from v2 loop because of error: Failed to find data adapter that can handle input: <class 'pandas.core.frame.DataFrame'>, <class 'NoneType'>\n"
     ]
    },
    {
     "data": {
      "text/plain": [
       "array([[11142,  3597,   176,    31,     1],\n",
       "       [ 4097, 10867,  2123,   151,     0],\n",
       "       [  428,  3220,  4910,   636,     3],\n",
       "       [   52,   367,  1460,   979,     7],\n",
       "       [    9,    27,   127,   426,    11]], dtype=int64)"
      ]
     },
     "execution_count": 17,
     "metadata": {},
     "output_type": "execute_result"
    }
   ],
   "source": [
    "pred = [x.argmax() for x in model.predict(x_test[input_features])]\n",
    "\n",
    "cnf_matrix = confusion_matrix(y_test_no_cat, pred,labels=np.sort(y_test_no_cat.unique()))\n",
    "cnf_matrix"
   ]
  },
  {
   "cell_type": "code",
   "execution_count": 18,
   "metadata": {
    "ExecuteTime": {
     "end_time": "2020-04-26T20:20:04.066419Z",
     "start_time": "2020-04-26T20:20:03.982589Z"
    }
   },
   "outputs": [
    {
     "name": "stdout",
     "output_type": "stream",
     "text": [
      "              precision    recall  f1-score   support\n",
      "\n",
      "           0       0.71      0.75      0.73     14947\n",
      "           1       0.60      0.63      0.62     17238\n",
      "           2       0.56      0.53      0.55      9197\n",
      "           3       0.44      0.34      0.38      2865\n",
      "           4       0.50      0.02      0.04       600\n",
      "\n",
      "    accuracy                           0.62     44847\n",
      "   macro avg       0.56      0.45      0.46     44847\n",
      "weighted avg       0.62      0.62      0.62     44847\n",
      "\n"
     ]
    }
   ],
   "source": [
    "print(classification_report(y_test_no_cat, pred))"
   ]
  },
  {
   "cell_type": "markdown",
   "metadata": {},
   "source": [
    "### La misma especie de regresio logistica con 5 salidas pero con valores categoricos tambien"
   ]
  },
  {
   "cell_type": "code",
   "execution_count": 29,
   "metadata": {
    "ExecuteTime": {
     "end_time": "2020-04-12T18:18:23.078491Z",
     "start_time": "2020-04-12T18:18:22.912550Z"
    }
   },
   "outputs": [
    {
     "name": "stdout",
     "output_type": "stream",
     "text": [
      "Model: \"model_1\"\n",
      "__________________________________________________________________________________________________\n",
      "Layer (type)                    Output Shape         Param #     Connected to                     \n",
      "==================================================================================================\n",
      "input_3 (InputLayer)            [(None, 1)]          0                                            \n",
      "__________________________________________________________________________________________________\n",
      "embedding (Embedding)           (None, 1, 10)        1910        input_3[0][0]                    \n",
      "__________________________________________________________________________________________________\n",
      "input_4 (InputLayer)            [(None, 1)]          0                                            \n",
      "__________________________________________________________________________________________________\n",
      "input_2 (InputLayer)            [(None, 3)]          0                                            \n",
      "__________________________________________________________________________________________________\n",
      "flatten (Flatten)               (None, 10)           0           embedding[0][0]                  \n",
      "__________________________________________________________________________________________________\n",
      "embedding_1 (Embedding)         (None, 1, 5)         35          input_4[0][0]                    \n",
      "__________________________________________________________________________________________________\n",
      "input_5 (InputLayer)            [(None, 1)]          0                                            \n",
      "__________________________________________________________________________________________________\n",
      "concatenate (Concatenate)       multiple             0           input_2[0][0]                    \n",
      "                                                                 flatten[0][0]                    \n",
      "                                                                 concatenate[0][0]                \n",
      "                                                                 flatten_1[0][0]                  \n",
      "                                                                 concatenate[1][0]                \n",
      "                                                                 flatten_2[0][0]                  \n",
      "__________________________________________________________________________________________________\n",
      "flatten_1 (Flatten)             (None, 5)            0           embedding_1[0][0]                \n",
      "__________________________________________________________________________________________________\n",
      "embedding_2 (Embedding)         (None, 1, 5)         65          input_5[0][0]                    \n",
      "__________________________________________________________________________________________________\n",
      "flatten_2 (Flatten)             (None, 5)            0           embedding_2[0][0]                \n",
      "__________________________________________________________________________________________________\n",
      "Output (Dense)                  (None, 5)            120         concatenate[2][0]                \n",
      "==================================================================================================\n",
      "Total params: 2,130\n",
      "Trainable params: 2,130\n",
      "Non-trainable params: 0\n",
      "__________________________________________________________________________________________________\n"
     ]
    }
   ],
   "source": [
    "i_features = Input(shape=(len(input_features)))\n",
    "\n",
    "max_street=max((data['id_cuadra'].drop_duplicates()))\n",
    "\n",
    "i_street = Input(shape=(1))\n",
    "emb_street = Embedding(input_dim=max_street+1, output_dim=10)(i_street)\n",
    "flat_street = Flatten()(emb_street)\n",
    "\n",
    "i_weekday = Input(shape=(1))\n",
    "emb_weekday = Embedding(input_dim=7, output_dim=5)(i_weekday)\n",
    "flat_weekday = Flatten()(emb_weekday)\n",
    "\n",
    "i_month = Input(shape=(1))\n",
    "emb_month = Embedding(input_dim=12+1, output_dim=5)(i_month)\n",
    "flat_month = Flatten()(emb_month)\n",
    "\n",
    "concat = Concatenate(axis=-1)\n",
    "d = concat([i_features, flat_street])\n",
    "d = concat([d, flat_weekday])\n",
    "d = concat([d, flat_month])\n",
    "\n",
    "o = Dense(max(data['porcentaje ocupacion'])+1, activation='softmax', name='Output')(d)\n",
    "\n",
    "model = Model(inputs=[i_features,i_street,i_weekday, i_month], outputs=o)\n",
    "model.summary()\n",
    "model.compile(loss='categorical_crossentropy', optimizer='adam', metrics=['categorical_accuracy'])"
   ]
  },
  {
   "cell_type": "code",
   "execution_count": 30,
   "metadata": {
    "ExecuteTime": {
     "end_time": "2020-04-12T18:19:47.774896Z",
     "start_time": "2020-04-12T18:18:23.080486Z"
    }
   },
   "outputs": [
    {
     "name": "stdout",
     "output_type": "stream",
     "text": [
      "WARNING:tensorflow:Falling back from v2 loop because of error: Failed to find data adapter that can handle input: (<class 'list'> containing values of types {\"<class 'pandas.core.series.Series'>\", \"<class 'pandas.core.frame.DataFrame'>\"}), <class 'NoneType'>\n",
      "Train on 403619 samples, validate on 44847 samples\n",
      "Epoch 1/10\n",
      "403619/403619 [==============================] - 8s 21us/sample - loss: 0.9276 - categorical_accuracy: 0.6120 - val_loss: 0.8292 - val_categorical_accuracy: 0.6341\n",
      "Epoch 2/10\n",
      "403619/403619 [==============================] - 8s 21us/sample - loss: 0.8181 - categorical_accuracy: 0.6398 - val_loss: 0.8179 - val_categorical_accuracy: 0.6387\n",
      "Epoch 3/10\n",
      "403619/403619 [==============================] - 8s 21us/sample - loss: 0.8128 - categorical_accuracy: 0.6418 - val_loss: 0.8166 - val_categorical_accuracy: 0.6366\n",
      "Epoch 4/10\n",
      "403619/403619 [==============================] - 8s 21us/sample - loss: 0.8114 - categorical_accuracy: 0.6424 - val_loss: 0.8152 - val_categorical_accuracy: 0.6402\n",
      "Epoch 5/10\n",
      "403619/403619 [==============================] - 8s 21us/sample - loss: 0.8107 - categorical_accuracy: 0.6428 - val_loss: 0.8142 - val_categorical_accuracy: 0.6401\n",
      "Epoch 6/10\n",
      "403619/403619 [==============================] - 8s 21us/sample - loss: 0.8104 - categorical_accuracy: 0.6424 - val_loss: 0.8147 - val_categorical_accuracy: 0.6386\n",
      "Epoch 7/10\n",
      "403619/403619 [==============================] - 9s 22us/sample - loss: 0.8102 - categorical_accuracy: 0.6430 - val_loss: 0.8139 - val_categorical_accuracy: 0.6396\n",
      "Epoch 8/10\n",
      "403619/403619 [==============================] - 8s 21us/sample - loss: 0.8099 - categorical_accuracy: 0.6428 - val_loss: 0.8175 - val_categorical_accuracy: 0.6385\n",
      "Epoch 9/10\n",
      "403619/403619 [==============================] - 9s 21us/sample - loss: 0.8099 - categorical_accuracy: 0.6427 - val_loss: 0.8137 - val_categorical_accuracy: 0.6398\n",
      "Epoch 10/10\n",
      "403619/403619 [==============================] - 8s 20us/sample - loss: 0.8097 - categorical_accuracy: 0.6425 - val_loss: 0.8143 - val_categorical_accuracy: 0.6402\n"
     ]
    }
   ],
   "source": [
    "h = model.fit([x_train[input_features],x_train['id_cuadra'], x_train['dia de la semana'], x_train['mes']], y_train, epochs=10, batch_size=64, class_weight=class_weight, validation_data=[[x_test[input_features],x_test['id_cuadra'], x_test['dia de la semana'], x_test['mes']],y_test])"
   ]
  },
  {
   "cell_type": "code",
   "execution_count": 31,
   "metadata": {
    "ExecuteTime": {
     "end_time": "2020-04-12T18:19:48.622401Z",
     "start_time": "2020-04-12T18:19:47.775891Z"
    }
   },
   "outputs": [
    {
     "name": "stdout",
     "output_type": "stream",
     "text": [
      "WARNING:tensorflow:Falling back from v2 loop because of error: Failed to find data adapter that can handle input: (<class 'list'> containing values of types {\"<class 'pandas.core.series.Series'>\", \"<class 'pandas.core.frame.DataFrame'>\"}), <class 'NoneType'>\n"
     ]
    },
    {
     "data": {
      "text/plain": [
       "array([[11106,  3711,   105,    21,     4],\n",
       "       [ 3699, 11699,  1702,   120,    18],\n",
       "       [  291,  3823,  4571,   489,    23],\n",
       "       [   24,   470,  1161,  1166,    44],\n",
       "       [    4,    38,    70,   319,   169]], dtype=int64)"
      ]
     },
     "execution_count": 31,
     "metadata": {},
     "output_type": "execute_result"
    }
   ],
   "source": [
    "pred = [x.argmax() for x in model.predict([x_test[input_features],x_test['id_cuadra'], x_test['dia de la semana'], x_test['mes']])]\n",
    "\n",
    "cnf_matrix = confusion_matrix(y_test_no_cat, pred,labels=np.sort(y_test_no_cat.unique()))\n",
    "cnf_matrix"
   ]
  },
  {
   "cell_type": "code",
   "execution_count": 32,
   "metadata": {
    "ExecuteTime": {
     "end_time": "2020-04-12T18:19:48.706184Z",
     "start_time": "2020-04-12T18:19:48.624394Z"
    }
   },
   "outputs": [
    {
     "name": "stdout",
     "output_type": "stream",
     "text": [
      "              precision    recall  f1-score   support\n",
      "\n",
      "           0       0.73      0.74      0.74     14947\n",
      "           1       0.59      0.68      0.63     17238\n",
      "           2       0.60      0.50      0.54      9197\n",
      "           3       0.55      0.41      0.47      2865\n",
      "           4       0.66      0.28      0.39       600\n",
      "\n",
      "    accuracy                           0.64     44847\n",
      "   macro avg       0.63      0.52      0.56     44847\n",
      "weighted avg       0.64      0.64      0.64     44847\n",
      "\n"
     ]
    }
   ],
   "source": [
    "print(classification_report(y_test_no_cat, pred))"
   ]
  },
  {
   "cell_type": "code",
   "execution_count": 33,
   "metadata": {
    "ExecuteTime": {
     "end_time": "2020-04-12T18:19:48.712160Z",
     "start_time": "2020-04-12T18:19:48.707174Z"
    }
   },
   "outputs": [
    {
     "data": {
      "text/plain": [
       "\"comp = pd.DataFrame([y_t, pred]).T\\ncomp.rename({0: 'y',\\n             1: 'yhat'}, axis=1, inplace=True)\\ncomp[0:50]\""
      ]
     },
     "execution_count": 33,
     "metadata": {},
     "output_type": "execute_result"
    }
   ],
   "source": [
    "'''comp = pd.DataFrame([y_t, pred]).T\n",
    "comp.rename({0: 'y',\n",
    "             1: 'yhat'}, axis=1, inplace=True)\n",
    "comp[0:50]'''"
   ]
  },
  {
   "cell_type": "markdown",
   "metadata": {},
   "source": [
    "### red neuronal Solo var num "
   ]
  },
  {
   "cell_type": "code",
   "execution_count": 34,
   "metadata": {
    "ExecuteTime": {
     "end_time": "2020-04-12T18:19:48.855776Z",
     "start_time": "2020-04-12T18:19:48.714154Z"
    }
   },
   "outputs": [
    {
     "name": "stdout",
     "output_type": "stream",
     "text": [
      "Model: \"model_2\"\n",
      "_________________________________________________________________\n",
      "Layer (type)                 Output Shape              Param #   \n",
      "=================================================================\n",
      "input_6 (InputLayer)         [(None, 3)]               0         \n",
      "_________________________________________________________________\n",
      "dense (Dense)                (None, 64)                256       \n",
      "_________________________________________________________________\n",
      "dropout (Dropout)            (None, 64)                0         \n",
      "_________________________________________________________________\n",
      "dense_1 (Dense)              (None, 64)                4160      \n",
      "_________________________________________________________________\n",
      "Output (Dense)               (None, 5)                 325       \n",
      "=================================================================\n",
      "Total params: 4,741\n",
      "Trainable params: 4,741\n",
      "Non-trainable params: 0\n",
      "_________________________________________________________________\n"
     ]
    }
   ],
   "source": [
    "i_features = Input(shape=(len(input_features)))\n",
    "d = Dense(64, activation='relu')(i_features)\n",
    "d = Dropout(0.3)(d)\n",
    "d = Dense(64, activation='relu')(d)\n",
    "o = Dense(max(data['porcentaje ocupacion'])+1, activation='softmax', name='Output')(d)\n",
    "\n",
    "model = Model(inputs=i_features, outputs=o)\n",
    "model.summary()\n",
    "model.compile(loss='categorical_crossentropy', optimizer='adam', metrics=['categorical_accuracy'])"
   ]
  },
  {
   "cell_type": "code",
   "execution_count": 35,
   "metadata": {
    "ExecuteTime": {
     "end_time": "2020-04-12T18:21:11.116999Z",
     "start_time": "2020-04-12T18:19:48.857770Z"
    }
   },
   "outputs": [
    {
     "name": "stdout",
     "output_type": "stream",
     "text": [
      "WARNING:tensorflow:Falling back from v2 loop because of error: Failed to find data adapter that can handle input: <class 'pandas.core.frame.DataFrame'>, <class 'NoneType'>\n",
      "Train on 403619 samples, validate on 44847 samples\n",
      "Epoch 1/10\n",
      "403619/403619 [==============================] - 8s 21us/sample - loss: 0.9085 - categorical_accuracy: 0.6132 - val_loss: 0.8669 - val_categorical_accuracy: 0.6271\n",
      "Epoch 2/10\n",
      "403619/403619 [==============================] - 8s 20us/sample - loss: 0.8656 - categorical_accuracy: 0.6302 - val_loss: 0.8587 - val_categorical_accuracy: 0.6332\n",
      "Epoch 3/10\n",
      "403619/403619 [==============================] - 8s 21us/sample - loss: 0.8545 - categorical_accuracy: 0.6341 - val_loss: 0.8522 - val_categorical_accuracy: 0.6352\n",
      "Epoch 4/10\n",
      "403619/403619 [==============================] - 8s 19us/sample - loss: 0.8485 - categorical_accuracy: 0.6365 - val_loss: 0.8422 - val_categorical_accuracy: 0.6378\n",
      "Epoch 5/10\n",
      "403619/403619 [==============================] - 8s 21us/sample - loss: 0.8423 - categorical_accuracy: 0.6396 - val_loss: 0.8410 - val_categorical_accuracy: 0.6392\n",
      "Epoch 6/10\n",
      "403619/403619 [==============================] - 8s 20us/sample - loss: 0.8362 - categorical_accuracy: 0.6412 - val_loss: 0.8341 - val_categorical_accuracy: 0.6440\n",
      "Epoch 7/10\n",
      "403619/403619 [==============================] - 9s 21us/sample - loss: 0.8330 - categorical_accuracy: 0.6423 - val_loss: 0.8399 - val_categorical_accuracy: 0.6402\n",
      "Epoch 8/10\n",
      "403619/403619 [==============================] - 8s 20us/sample - loss: 0.8297 - categorical_accuracy: 0.6433 - val_loss: 0.8385 - val_categorical_accuracy: 0.6411\n",
      "Epoch 9/10\n",
      "403619/403619 [==============================] - 9s 21us/sample - loss: 0.8279 - categorical_accuracy: 0.6441 - val_loss: 0.8413 - val_categorical_accuracy: 0.6325\n",
      "Epoch 10/10\n",
      "403619/403619 [==============================] - 8s 19us/sample - loss: 0.8264 - categorical_accuracy: 0.6454 - val_loss: 0.8331 - val_categorical_accuracy: 0.6419\n"
     ]
    }
   ],
   "source": [
    "h = model.fit(x_train[input_features], y_train, epochs=10, batch_size=64, class_weight=class_weight, validation_data=[x_test[input_features],y_test])"
   ]
  },
  {
   "cell_type": "code",
   "execution_count": 36,
   "metadata": {
    "ExecuteTime": {
     "end_time": "2020-04-12T18:21:11.815380Z",
     "start_time": "2020-04-12T18:21:11.117994Z"
    }
   },
   "outputs": [
    {
     "name": "stdout",
     "output_type": "stream",
     "text": [
      "WARNING:tensorflow:Falling back from v2 loop because of error: Failed to find data adapter that can handle input: <class 'pandas.core.frame.DataFrame'>, <class 'NoneType'>\n"
     ]
    },
    {
     "data": {
      "text/plain": [
       "array([[11201,  3551,   186,     9,     0],\n",
       "       [ 3445, 11227,  2502,    64,     0],\n",
       "       [  313,  3073,  5454,   357,     0],\n",
       "       [   36,   273,  1657,   897,     2],\n",
       "       [    5,    21,   183,   382,     9]], dtype=int64)"
      ]
     },
     "execution_count": 36,
     "metadata": {},
     "output_type": "execute_result"
    }
   ],
   "source": [
    "pred = [x.argmax() for x in model.predict(x_test[input_features])]\n",
    "\n",
    "cnf_matrix = confusion_matrix(y_test_no_cat, pred,labels=np.sort(y_test_no_cat.unique()))\n",
    "cnf_matrix"
   ]
  },
  {
   "cell_type": "code",
   "execution_count": 37,
   "metadata": {
    "ExecuteTime": {
     "end_time": "2020-04-12T18:21:12.373408Z",
     "start_time": "2020-04-12T18:21:11.817374Z"
    }
   },
   "outputs": [
    {
     "name": "stdout",
     "output_type": "stream",
     "text": [
      "              precision    recall  f1-score   support\n",
      "\n",
      "           0       0.72      0.79      0.75     14947\n",
      "           1       0.64      0.56      0.60     17238\n",
      "           2       0.57      0.55      0.56      9197\n",
      "           3       0.44      0.50      0.47      2865\n",
      "           4       0.34      0.68      0.45       600\n",
      "\n",
      "    accuracy                           0.63     44847\n",
      "   macro avg       0.54      0.62      0.57     44847\n",
      "weighted avg       0.64      0.63      0.63     44847\n",
      "\n"
     ]
    }
   ],
   "source": [
    "print(classification_report(y_test_no_cat, best_model.predict(x_test[input_features])))"
   ]
  },
  {
   "cell_type": "code",
   "execution_count": 38,
   "metadata": {
    "ExecuteTime": {
     "end_time": "2020-04-12T18:21:12.379422Z",
     "start_time": "2020-04-12T18:21:12.375400Z"
    }
   },
   "outputs": [
    {
     "data": {
      "text/plain": [
       "\"comp = pd.DataFrame([y_t, pred]).T\\ncomp.rename({0: 'y',\\n             1: 'yhat'}, axis=1, inplace=True)\\ncomp[0:50]\""
      ]
     },
     "execution_count": 38,
     "metadata": {},
     "output_type": "execute_result"
    }
   ],
   "source": [
    "'''comp = pd.DataFrame([y_t, pred]).T\n",
    "comp.rename({0: 'y',\n",
    "             1: 'yhat'}, axis=1, inplace=True)\n",
    "comp[0:50]'''"
   ]
  },
  {
   "cell_type": "markdown",
   "metadata": {},
   "source": [
    "### Red neuronal Var num y cat "
   ]
  },
  {
   "cell_type": "code",
   "execution_count": 124,
   "metadata": {
    "ExecuteTime": {
     "end_time": "2020-04-27T02:59:23.819110Z",
     "start_time": "2020-04-27T02:59:23.582577Z"
    }
   },
   "outputs": [
    {
     "name": "stdout",
     "output_type": "stream",
     "text": [
      "Model: \"model_12\"\n",
      "__________________________________________________________________________________________________\n",
      "Layer (type)                    Output Shape         Param #     Connected to                     \n",
      "==================================================================================================\n",
      "input_25 (InputLayer)           [(None, 1)]          0                                            \n",
      "__________________________________________________________________________________________________\n",
      "embedding_14 (Embedding)        (None, 1, 10)        1910        input_25[0][0]                   \n",
      "__________________________________________________________________________________________________\n",
      "input_26 (InputLayer)           [(None, 1)]          0                                            \n",
      "__________________________________________________________________________________________________\n",
      "input_24 (InputLayer)           [(None, 3)]          0                                            \n",
      "__________________________________________________________________________________________________\n",
      "flatten_14 (Flatten)            (None, 10)           0           embedding_14[0][0]               \n",
      "__________________________________________________________________________________________________\n",
      "embedding_15 (Embedding)        (None, 1, 5)         35          input_26[0][0]                   \n",
      "__________________________________________________________________________________________________\n",
      "input_27 (InputLayer)           [(None, 1)]          0                                            \n",
      "__________________________________________________________________________________________________\n",
      "concatenate_4 (Concatenate)     multiple             0           input_24[0][0]                   \n",
      "                                                                 flatten_14[0][0]                 \n",
      "                                                                 concatenate_4[0][0]              \n",
      "                                                                 flatten_15[0][0]                 \n",
      "                                                                 concatenate_4[1][0]              \n",
      "                                                                 flatten_16[0][0]                 \n",
      "__________________________________________________________________________________________________\n",
      "flatten_15 (Flatten)            (None, 5)            0           embedding_15[0][0]               \n",
      "__________________________________________________________________________________________________\n",
      "embedding_16 (Embedding)        (None, 1, 5)         65          input_27[0][0]                   \n",
      "__________________________________________________________________________________________________\n",
      "flatten_16 (Flatten)            (None, 5)            0           embedding_16[0][0]               \n",
      "__________________________________________________________________________________________________\n",
      "batch_normalization_10 (BatchNo (None, 23)           92          concatenate_4[2][0]              \n",
      "__________________________________________________________________________________________________\n",
      "dense_21 (Dense)                (None, 256)          6144        batch_normalization_10[0][0]     \n",
      "__________________________________________________________________________________________________\n",
      "dropout_13 (Dropout)            (None, 256)          0           dense_21[0][0]                   \n",
      "__________________________________________________________________________________________________\n",
      "Output (Dense)                  (None, 5)            1285        dropout_13[0][0]                 \n",
      "==================================================================================================\n",
      "Total params: 9,531\n",
      "Trainable params: 9,485\n",
      "Non-trainable params: 46\n",
      "__________________________________________________________________________________________________\n"
     ]
    }
   ],
   "source": [
    "i_features = Input(shape=(len(input_features)))\n",
    "\n",
    "max_street=max((data['id_cuadra'].drop_duplicates()))\n",
    "\n",
    "i_street = Input(shape=(1))\n",
    "emb_street = Embedding(input_dim=max_street+1, output_dim=10)(i_street)\n",
    "flat_street = Flatten()(emb_street)\n",
    "\n",
    "i_weekday = Input(shape=(1))\n",
    "emb_weekday = Embedding(input_dim=7, output_dim=5)(i_weekday)\n",
    "flat_weekday = Flatten()(emb_weekday)\n",
    "\n",
    "i_month = Input(shape=(1))\n",
    "emb_month = Embedding(input_dim=12+1, output_dim=5)(i_month)\n",
    "flat_month = Flatten()(emb_month)\n",
    "\n",
    "concat = Concatenate(axis=-1)\n",
    "d = concat([i_features, flat_street])\n",
    "d = concat([d, flat_weekday])\n",
    "d = concat([d, flat_month])\n",
    "\n",
    "d = BatchNormalization()(d)\n",
    "d = Dense(256, activation='relu')(d)\n",
    "d = Dropout(0.2)(d)\n",
    "\n",
    "o = Dense(max(data['porcentaje ocupacion'])+1, activation='softmax', name='Output')(d)\n",
    "\n",
    "model = Model(inputs=[i_features,i_street,i_weekday, i_month], outputs=o)\n",
    "model.summary()\n",
    "model.compile(loss='categorical_crossentropy', optimizer='adam', metrics=['categorical_accuracy'])"
   ]
  },
  {
   "cell_type": "code",
   "execution_count": 125,
   "metadata": {
    "ExecuteTime": {
     "end_time": "2020-04-27T03:01:47.985497Z",
     "start_time": "2020-04-27T02:59:23.851064Z"
    }
   },
   "outputs": [
    {
     "name": "stdout",
     "output_type": "stream",
     "text": [
      "WARNING:tensorflow:Falling back from v2 loop because of error: Failed to find data adapter that can handle input: (<class 'list'> containing values of types {\"<class 'pandas.core.series.Series'>\", \"<class 'pandas.core.frame.DataFrame'>\"}), <class 'NoneType'>\n",
      "Train on 403619 samples, validate on 44847 samples\n",
      "Epoch 1/10\n",
      "403619/403619 [==============================] - 17s 42us/sample - loss: 0.8364 - categorical_accuracy: 0.6309 - val_loss: 0.7811 - val_categorical_accuracy: 0.6517\n",
      "Epoch 2/10\n",
      "403619/403619 [==============================] - 18s 44us/sample - loss: 0.7997 - categorical_accuracy: 0.6462 - val_loss: 0.7576 - val_categorical_accuracy: 0.6636\n",
      "Epoch 3/10\n",
      "403619/403619 [==============================] - 14s 35us/sample - loss: 0.7933 - categorical_accuracy: 0.6479 - val_loss: 0.7528 - val_categorical_accuracy: 0.6631\n",
      "Epoch 4/10\n",
      "403619/403619 [==============================] - 14s 34us/sample - loss: 0.7893 - categorical_accuracy: 0.6498 - val_loss: 0.7482 - val_categorical_accuracy: 0.6663\n",
      "Epoch 5/10\n",
      "403619/403619 [==============================] - 14s 36us/sample - loss: 0.7861 - categorical_accuracy: 0.6523 - val_loss: 0.7427 - val_categorical_accuracy: 0.6712\n",
      "Epoch 6/10\n",
      "403619/403619 [==============================] - 13s 31us/sample - loss: 0.7838 - categorical_accuracy: 0.6533 - val_loss: 0.7438 - val_categorical_accuracy: 0.6718\n",
      "Epoch 7/10\n",
      "403619/403619 [==============================] - 12s 31us/sample - loss: 0.7825 - categorical_accuracy: 0.6529 - val_loss: 0.7388 - val_categorical_accuracy: 0.6715\n",
      "Epoch 8/10\n",
      "403619/403619 [==============================] - 13s 31us/sample - loss: 0.7808 - categorical_accuracy: 0.6538 - val_loss: 0.7428 - val_categorical_accuracy: 0.6691\n",
      "Epoch 9/10\n",
      "403619/403619 [==============================] - 13s 31us/sample - loss: 0.7792 - categorical_accuracy: 0.6541 - val_loss: 0.7421 - val_categorical_accuracy: 0.6707\n",
      "Epoch 10/10\n",
      "403619/403619 [==============================] - 13s 32us/sample - loss: 0.7798 - categorical_accuracy: 0.6540 - val_loss: 0.7392 - val_categorical_accuracy: 0.6712\n"
     ]
    }
   ],
   "source": [
    "h = model.fit([x_train[input_features],x_train['id_cuadra'], x_train['dia de la semana'], x_train['mes']], y_train, epochs=10, batch_size=64, class_weight=class_weight, validation_data=[[x_test[input_features],x_test['id_cuadra'], x_test['dia de la semana'], x_test['mes']],y_test])"
   ]
  },
  {
   "cell_type": "code",
   "execution_count": 126,
   "metadata": {
    "ExecuteTime": {
     "end_time": "2020-04-27T03:01:49.100543Z",
     "start_time": "2020-04-27T03:01:47.987458Z"
    }
   },
   "outputs": [
    {
     "name": "stdout",
     "output_type": "stream",
     "text": [
      "WARNING:tensorflow:Falling back from v2 loop because of error: Failed to find data adapter that can handle input: (<class 'list'> containing values of types {\"<class 'pandas.core.series.Series'>\", \"<class 'pandas.core.frame.DataFrame'>\"}), <class 'NoneType'>\n"
     ]
    },
    {
     "data": {
      "text/plain": [
       "array([[11510,  3333,    89,    14,     1],\n",
       "       [ 3189, 12216,  1689,   138,     6],\n",
       "       [  173,  3445,  4766,   796,    17],\n",
       "       [    5,   349,  1053,  1406,    52],\n",
       "       [    1,    35,    81,   278,   205]], dtype=int64)"
      ]
     },
     "execution_count": 126,
     "metadata": {},
     "output_type": "execute_result"
    }
   ],
   "source": [
    "pred = [x.argmax() for x in model.predict([x_test[input_features],x_test['id_cuadra'], x_test['dia de la semana'], x_test['mes']])]\n",
    "\n",
    "cnf_matrix = confusion_matrix(y_test_no_cat, pred,labels=np.sort(y_test_no_cat.unique()))\n",
    "cnf_matrix"
   ]
  },
  {
   "cell_type": "code",
   "execution_count": 127,
   "metadata": {
    "ExecuteTime": {
     "end_time": "2020-04-27T03:01:49.189345Z",
     "start_time": "2020-04-27T03:01:49.102537Z"
    }
   },
   "outputs": [
    {
     "name": "stdout",
     "output_type": "stream",
     "text": [
      "              precision    recall  f1-score   support\n",
      "\n",
      "           0       0.77      0.77      0.77     14947\n",
      "           1       0.63      0.71      0.67     17238\n",
      "           2       0.62      0.52      0.56      9197\n",
      "           3       0.53      0.49      0.51      2865\n",
      "           4       0.73      0.34      0.47       600\n",
      "\n",
      "    accuracy                           0.67     44847\n",
      "   macro avg       0.66      0.57      0.60     44847\n",
      "weighted avg       0.67      0.67      0.67     44847\n",
      "\n"
     ]
    }
   ],
   "source": [
    "print(classification_report(y_test_no_cat, pred))"
   ]
  },
  {
   "cell_type": "code",
   "execution_count": 128,
   "metadata": {
    "ExecuteTime": {
     "end_time": "2020-04-27T03:01:49.198282Z",
     "start_time": "2020-04-27T03:01:49.192297Z"
    }
   },
   "outputs": [
    {
     "data": {
      "text/plain": [
       "\"comp = pd.DataFrame([y_t, pred]).T\\ncomp.rename({0: 'y',\\n             1: 'yhat'}, axis=1, inplace=True)\\ncomp[0:50]\""
      ]
     },
     "execution_count": 128,
     "metadata": {},
     "output_type": "execute_result"
    }
   ],
   "source": [
    "'''comp = pd.DataFrame([y_t, pred]).T\n",
    "comp.rename({0: 'y',\n",
    "             1: 'yhat'}, axis=1, inplace=True)\n",
    "comp[0:50]'''"
   ]
  },
  {
   "cell_type": "markdown",
   "metadata": {},
   "source": [
    "# LSTM"
   ]
  },
  {
   "cell_type": "code",
   "execution_count": 15,
   "metadata": {
    "ExecuteTime": {
     "end_time": "2020-04-24T20:09:32.232306Z",
     "start_time": "2020-04-24T20:06:57.105846Z"
    }
   },
   "outputs": [
    {
     "name": "stdout",
     "output_type": "stream",
     "text": [
      "calle: 190\n"
     ]
    }
   ],
   "source": [
    "#['porcentaje ocupacion','ocupacion','media hora', 'id_cuadra']\n",
    "train_size = 3\n",
    "\n",
    "ocup =[]\n",
    "porc_ocup =[]\n",
    "media_hora =[]\n",
    "mes =[]\n",
    "dia_de_la_semana =[]\n",
    "id_cuadra =[]\n",
    "target =[]\n",
    "for s in data['id_cuadra'].drop_duplicates().sort_values():\n",
    "    clear_output()\n",
    "    print('calle:', s)\n",
    "    \n",
    "    d_s = data.loc[data['id_cuadra'] == s].copy()\n",
    "    \n",
    "    for f in d_s['fecha'].drop_duplicates():\n",
    "        d_f = d_s.loc[d_s['fecha'] == f]\n",
    "        \n",
    "        for i in range(len(d_f) - train_size):\n",
    "            ocup.append(d_f['ocupacion'].iloc[i:i+train_size])\n",
    "            \n",
    "            porc_ocup.append(d_f['porcentaje ocupacion'].iloc[i+train_size])\n",
    "            media_hora.append(d_f[tiempo].iloc[i+train_size])\n",
    "            mes.append(d_f['mes'].iloc[i+train_size])\n",
    "            dia_de_la_semana.append(d_f['dia de la semana'].iloc[i+train_size])\n",
    "            id_cuadra.append(d_f['id_cuadra'].iloc[i+train_size])\n",
    "            target.append(d_f['target'].iloc[i+train_size])"
   ]
  },
  {
   "cell_type": "code",
   "execution_count": 16,
   "metadata": {
    "ExecuteTime": {
     "end_time": "2020-04-24T20:09:34.636038Z",
     "start_time": "2020-04-24T20:09:32.233963Z"
    }
   },
   "outputs": [],
   "source": [
    "from random import shuffle\n",
    "\n",
    "to_shuffle = list(zip(ocup, porc_ocup, media_hora, mes, dia_de_la_semana, id_cuadra, target))\n",
    "shuffle(to_shuffle)\n",
    "ocup, porc_ocup, media_hora, mes, dia_de_la_semana, id_cuadra, target = zip(*to_shuffle)"
   ]
  },
  {
   "cell_type": "code",
   "execution_count": 17,
   "metadata": {
    "ExecuteTime": {
     "end_time": "2020-04-24T20:09:34.782224Z",
     "start_time": "2020-04-24T20:09:34.641677Z"
    }
   },
   "outputs": [],
   "source": [
    "train_test = int(len(porc_ocup) * 0.1)\n",
    "\n",
    "train_ocup = ocup[train_test:]\n",
    "train_porc_ocup = porc_ocup[train_test:]\n",
    "train_media_hora = media_hora[train_test:]\n",
    "train_mes = mes[train_test:]\n",
    "train_dia_de_la_semana = dia_de_la_semana[train_test:]\n",
    "train_id_cuadra = id_cuadra[train_test:]\n",
    "train_target = target[train_test:]\n",
    "\n",
    "test_ocup = ocup[:train_test]\n",
    "test_porc_ocup = porc_ocup[:train_test]\n",
    "test_media_hora = media_hora[:train_test]\n",
    "test_mes = mes[:train_test]\n",
    "test_dia_de_la_semana = dia_de_la_semana[:train_test]\n",
    "test_id_cuadra = id_cuadra[:train_test]\n",
    "test_target = target[:train_test]"
   ]
  },
  {
   "cell_type": "code",
   "execution_count": 18,
   "metadata": {
    "ExecuteTime": {
     "end_time": "2020-04-24T20:09:35.146267Z",
     "start_time": "2020-04-24T20:09:34.782224Z"
    }
   },
   "outputs": [],
   "source": [
    "#porc_ocup = to_categorical(porc_ocup)\n",
    "train_target = to_categorical(train_target,num_classes=max(target)+1)\n",
    "test_target = to_categorical(test_target,num_classes=max(target)+1)"
   ]
  },
  {
   "cell_type": "markdown",
   "metadata": {},
   "source": [
    "# LSTM num"
   ]
  },
  {
   "cell_type": "code",
   "execution_count": 97,
   "metadata": {
    "ExecuteTime": {
     "end_time": "2020-04-27T02:43:29.809157Z",
     "start_time": "2020-04-27T02:43:29.131745Z"
    }
   },
   "outputs": [
    {
     "name": "stdout",
     "output_type": "stream",
     "text": [
      "Model: \"model_10\"\n",
      "__________________________________________________________________________________________________\n",
      "Layer (type)                    Output Shape         Param #     Connected to                     \n",
      "==================================================================================================\n",
      "i_porc_ocup (InputLayer)        [(None, 1)]          0                                            \n",
      "__________________________________________________________________________________________________\n",
      "i_time (InputLayer)             [(None, 1)]          0                                            \n",
      "__________________________________________________________________________________________________\n",
      "i_ocup (InputLayer)             [(None, 3, 1)]       0                                            \n",
      "__________________________________________________________________________________________________\n",
      "input_merge (Concatenate)       multiple             0           i_porc_ocup[0][0]                \n",
      "                                                                 i_time[0][0]                     \n",
      "                                                                 input_merge[0][0]                \n",
      "                                                                 lstm[0][0]                       \n",
      "__________________________________________________________________________________________________\n",
      "lstm (LSTM)                     (None, 10)           480         i_ocup[0][0]                     \n",
      "__________________________________________________________________________________________________\n",
      "batch_normalization_6 (BatchNor (None, 12)           48          input_merge[1][0]                \n",
      "__________________________________________________________________________________________________\n",
      "dense_15 (Dense)                (None, 256)          3328        batch_normalization_6[0][0]      \n",
      "__________________________________________________________________________________________________\n",
      "dropout_9 (Dropout)             (None, 256)          0           dense_15[0][0]                   \n",
      "__________________________________________________________________________________________________\n",
      "dense_16 (Dense)                (None, 512)          131584      dropout_9[0][0]                  \n",
      "__________________________________________________________________________________________________\n",
      "batch_normalization_7 (BatchNor (None, 512)          2048        dense_16[0][0]                   \n",
      "__________________________________________________________________________________________________\n",
      "dropout_10 (Dropout)            (None, 512)          0           batch_normalization_7[0][0]      \n",
      "__________________________________________________________________________________________________\n",
      "dense_17 (Dense)                (None, 512)          262656      dropout_10[0][0]                 \n",
      "__________________________________________________________________________________________________\n",
      "Output (Dense)                  (None, 5)            2565        dense_17[0][0]                   \n",
      "==================================================================================================\n",
      "Total params: 402,709\n",
      "Trainable params: 401,661\n",
      "Non-trainable params: 1,048\n",
      "__________________________________________________________________________________________________\n"
     ]
    }
   ],
   "source": [
    "#porc ocup\n",
    "i_porc_ocup = Input(shape=(1), name='i_porc_ocup')\n",
    "\n",
    "#media hora\n",
    "i_time = Input(shape=(1), name='i_time')\n",
    "\n",
    "#ocup\n",
    "i_ocup = Input(shape=(train_size,1), name='i_ocup')\n",
    "lstm = LSTM(10, return_sequences=False, name='lstm')(i_ocup)\n",
    "\n",
    "\n",
    "concat = Concatenate(axis=-1, name='input_merge')\n",
    "input_merge = concat([i_porc_ocup, i_time])\n",
    "input_merge = concat([input_merge, lstm])\n",
    "\n",
    "d = BatchNormalization()(input_merge)\n",
    "d = Dense(256, activation='relu')(d)\n",
    "d = Dropout(0.2)(d)\n",
    "d = Dense(512, activation='relu')(d)\n",
    "d = BatchNormalization()(d)\n",
    "d = Dropout(0.2)(d)\n",
    "d = Dense(512, activation='relu')(d)\n",
    "\n",
    "o = Dense(max(data['porcentaje ocupacion'])+1, activation='softmax', name='Output')(d)\n",
    "\n",
    "model = Model(inputs=[i_porc_ocup, i_time, i_ocup], outputs=o)\n",
    "model.summary()\n",
    "model.compile(loss='categorical_crossentropy', optimizer='adam', metrics=['categorical_accuracy'])"
   ]
  },
  {
   "cell_type": "code",
   "execution_count": 98,
   "metadata": {
    "ExecuteTime": {
     "end_time": "2020-04-27T02:43:56.490209Z",
     "start_time": "2020-04-27T02:43:30.388096Z"
    }
   },
   "outputs": [],
   "source": [
    "train_ocup_tf = tf.convert_to_tensor(np.array(train_ocup).reshape(-1,train_size,1), np.float64)\n",
    "test_ocup_tf = tf.convert_to_tensor(np.array(test_ocup).reshape(-1,train_size,1), np.float64)"
   ]
  },
  {
   "cell_type": "code",
   "execution_count": 99,
   "metadata": {
    "ExecuteTime": {
     "end_time": "2020-04-27T02:49:21.188884Z",
     "start_time": "2020-04-27T02:43:56.491770Z"
    }
   },
   "outputs": [
    {
     "name": "stdout",
     "output_type": "stream",
     "text": [
      "Train on 330459 samples, validate on 36717 samples\n",
      "Epoch 1/10\n",
      "330459/330459 [==============================] - 38s 115us/sample - loss: 0.8506 - categorical_accuracy: 0.6432 - val_loss: 0.8151 - val_categorical_accuracy: 0.6533\n",
      "Epoch 2/10\n",
      "330459/330459 [==============================] - 33s 100us/sample - loss: 0.8205 - categorical_accuracy: 0.6550 - val_loss: 0.8080 - val_categorical_accuracy: 0.6588\n",
      "Epoch 3/10\n",
      "330459/330459 [==============================] - 34s 102us/sample - loss: 0.8139 - categorical_accuracy: 0.6560 - val_loss: 0.8049 - val_categorical_accuracy: 0.6569\n",
      "Epoch 4/10\n",
      "330459/330459 [==============================] - 32s 96us/sample - loss: 0.8112 - categorical_accuracy: 0.6575 - val_loss: 0.8035 - val_categorical_accuracy: 0.6577\n",
      "Epoch 5/10\n",
      "330459/330459 [==============================] - 31s 94us/sample - loss: 0.8092 - categorical_accuracy: 0.6582 - val_loss: 0.8027 - val_categorical_accuracy: 0.6593\n",
      "Epoch 6/10\n",
      "330459/330459 [==============================] - 31s 94us/sample - loss: 0.8076 - categorical_accuracy: 0.6587 - val_loss: 0.8013 - val_categorical_accuracy: 0.6596\n",
      "Epoch 7/10\n",
      "330459/330459 [==============================] - 31s 93us/sample - loss: 0.8063 - categorical_accuracy: 0.6593 - val_loss: 0.8079 - val_categorical_accuracy: 0.6597\n",
      "Epoch 8/10\n",
      "330459/330459 [==============================] - 31s 94us/sample - loss: 0.8058 - categorical_accuracy: 0.6596 - val_loss: 0.8033 - val_categorical_accuracy: 0.6563\n",
      "Epoch 9/10\n",
      "330459/330459 [==============================] - 32s 96us/sample - loss: 0.8052 - categorical_accuracy: 0.6598 - val_loss: 0.8008 - val_categorical_accuracy: 0.6598\n",
      "Epoch 10/10\n",
      "330459/330459 [==============================] - 32s 98us/sample - loss: 0.8041 - categorical_accuracy: 0.6600 - val_loss: 0.7997 - val_categorical_accuracy: 0.6598\n"
     ]
    }
   ],
   "source": [
    "x_train = [np.array(train_porc_ocup), np.array(train_media_hora), train_ocup_tf]\n",
    "x_test = [np.array(test_porc_ocup), np.array(test_media_hora), test_ocup_tf]\n",
    "#xt = [x_test_porc_ocup, x_test['id_cuadra'], x_test['media hora'], x_train['ocupacion']]\n",
    "h = model.fit(x_train, train_target, epochs=10, batch_size=128, class_weight=class_weight, validation_data=[x_test, test_target])"
   ]
  },
  {
   "cell_type": "code",
   "execution_count": 100,
   "metadata": {
    "ExecuteTime": {
     "end_time": "2020-04-27T02:49:21.196863Z",
     "start_time": "2020-04-27T02:49:21.191877Z"
    }
   },
   "outputs": [],
   "source": [
    "x_test = [tf.convert_to_tensor(x, np.float64) for x in x_test]"
   ]
  },
  {
   "cell_type": "code",
   "execution_count": 101,
   "metadata": {
    "ExecuteTime": {
     "end_time": "2020-04-27T02:49:24.516959Z",
     "start_time": "2020-04-27T02:49:21.199855Z"
    }
   },
   "outputs": [
    {
     "data": {
      "text/plain": [
       "array([[9411, 3265,  118,    4,    2],\n",
       "       [2688, 9421, 1642,   66,   21],\n",
       "       [ 127, 2582, 4138,  476,   37],\n",
       "       [  11,  237,  867,  996,  168],\n",
       "       [   2,   18,   45,  114,  261]], dtype=int64)"
      ]
     },
     "execution_count": 101,
     "metadata": {},
     "output_type": "execute_result"
    }
   ],
   "source": [
    "pred = [x.argmax() for x in model.predict(x_test)]\n",
    "test_t = pd.Series([x.argmax() for x in test_target])\n",
    "\n",
    "cnf_matrix = confusion_matrix(test_t, pred,labels=np.sort(test_t.unique()))\n",
    "cnf_matrix"
   ]
  },
  {
   "cell_type": "code",
   "execution_count": 102,
   "metadata": {
    "ExecuteTime": {
     "end_time": "2020-04-27T02:49:24.603440Z",
     "start_time": "2020-04-27T02:49:24.517990Z"
    }
   },
   "outputs": [
    {
     "name": "stdout",
     "output_type": "stream",
     "text": [
      "              precision    recall  f1-score   support\n",
      "\n",
      "           0       0.77      0.74      0.75     12800\n",
      "           1       0.61      0.68      0.64     13838\n",
      "           2       0.61      0.56      0.58      7360\n",
      "           3       0.60      0.44      0.51      2279\n",
      "           4       0.53      0.59      0.56       440\n",
      "\n",
      "    accuracy                           0.66     36717\n",
      "   macro avg       0.62      0.60      0.61     36717\n",
      "weighted avg       0.66      0.66      0.66     36717\n",
      "\n"
     ]
    }
   ],
   "source": [
    "print(classification_report(test_t, pred))"
   ]
  },
  {
   "cell_type": "markdown",
   "metadata": {},
   "source": [
    "# LSTM num y cat"
   ]
  },
  {
   "cell_type": "code",
   "execution_count": 103,
   "metadata": {
    "ExecuteTime": {
     "end_time": "2020-04-27T02:49:25.411025Z",
     "start_time": "2020-04-27T02:49:24.605435Z"
    }
   },
   "outputs": [
    {
     "name": "stdout",
     "output_type": "stream",
     "text": [
      "Model: \"model_11\"\n",
      "__________________________________________________________________________________________________\n",
      "Layer (type)                    Output Shape         Param #     Connected to                     \n",
      "==================================================================================================\n",
      "i_street (InputLayer)           [(None, 1)]          0                                            \n",
      "__________________________________________________________________________________________________\n",
      "emd_street (Embedding)          (None, 1, 10)        1910        i_street[0][0]                   \n",
      "__________________________________________________________________________________________________\n",
      "i_porc_ocup (InputLayer)        [(None, 1)]          0                                            \n",
      "__________________________________________________________________________________________________\n",
      "flat_street (Flatten)           (None, 10)           0           emd_street[0][0]                 \n",
      "__________________________________________________________________________________________________\n",
      "input_22 (InputLayer)           [(None, 1)]          0                                            \n",
      "__________________________________________________________________________________________________\n",
      "input_merge (Concatenate)       multiple             0           i_porc_ocup[0][0]                \n",
      "                                                                 flat_street[0][0]                \n",
      "                                                                 input_merge[0][0]                \n",
      "                                                                 i_time[0][0]                     \n",
      "                                                                 input_merge[1][0]                \n",
      "                                                                 flatten_12[0][0]                 \n",
      "                                                                 input_merge[2][0]                \n",
      "                                                                 flatten_13[0][0]                 \n",
      "                                                                 input_merge[3][0]                \n",
      "                                                                 lstm[0][0]                       \n",
      "__________________________________________________________________________________________________\n",
      "i_time (InputLayer)             [(None, 1)]          0                                            \n",
      "__________________________________________________________________________________________________\n",
      "embedding_12 (Embedding)        (None, 1, 5)         35          input_22[0][0]                   \n",
      "__________________________________________________________________________________________________\n",
      "input_23 (InputLayer)           [(None, 1)]          0                                            \n",
      "__________________________________________________________________________________________________\n",
      "flatten_12 (Flatten)            (None, 5)            0           embedding_12[0][0]               \n",
      "__________________________________________________________________________________________________\n",
      "embedding_13 (Embedding)        (None, 1, 5)         65          input_23[0][0]                   \n",
      "__________________________________________________________________________________________________\n",
      "flatten_13 (Flatten)            (None, 5)            0           embedding_13[0][0]               \n",
      "__________________________________________________________________________________________________\n",
      "i_ocup (InputLayer)             [(None, 3, 1)]       0                                            \n",
      "__________________________________________________________________________________________________\n",
      "lstm (LSTM)                     (None, 10)           480         i_ocup[0][0]                     \n",
      "__________________________________________________________________________________________________\n",
      "batch_normalization_8 (BatchNor (None, 32)           128         input_merge[4][0]                \n",
      "__________________________________________________________________________________________________\n",
      "dense_18 (Dense)                (None, 256)          8448        batch_normalization_8[0][0]      \n",
      "__________________________________________________________________________________________________\n",
      "dropout_11 (Dropout)            (None, 256)          0           dense_18[0][0]                   \n",
      "__________________________________________________________________________________________________\n",
      "dense_19 (Dense)                (None, 512)          131584      dropout_11[0][0]                 \n",
      "__________________________________________________________________________________________________\n",
      "batch_normalization_9 (BatchNor (None, 512)          2048        dense_19[0][0]                   \n",
      "__________________________________________________________________________________________________\n",
      "dropout_12 (Dropout)            (None, 512)          0           batch_normalization_9[0][0]      \n",
      "__________________________________________________________________________________________________\n",
      "dense_20 (Dense)                (None, 512)          262656      dropout_12[0][0]                 \n",
      "__________________________________________________________________________________________________\n",
      "Output (Dense)                  (None, 5)            2565        dense_20[0][0]                   \n",
      "==================================================================================================\n",
      "Total params: 409,919\n",
      "Trainable params: 408,831\n",
      "Non-trainable params: 1,088\n",
      "__________________________________________________________________________________________________\n"
     ]
    }
   ],
   "source": [
    "#porc ocup\n",
    "i_porc_ocup = Input(shape=(1), name='i_porc_ocup')\n",
    "\n",
    "#cuadra\n",
    "max_street=max((data['id_cuadra'].drop_duplicates()))\n",
    "\n",
    "i_street = Input(shape=(1), name='i_street')\n",
    "emd_street = Embedding(input_dim=max_street+1, output_dim=10, name='emd_street')(i_street)\n",
    "flat_street = Flatten(name='flat_street')(emd_street)\n",
    "\n",
    "#dia de la semana\n",
    "i_weekday = Input(shape=(1))\n",
    "emb_weekday = Embedding(input_dim=7, output_dim=5)(i_weekday)\n",
    "flat_weekday = Flatten()(emb_weekday)\n",
    "\n",
    "#mes\n",
    "i_month = Input(shape=(1))\n",
    "emb_month = Embedding(input_dim=12+1, output_dim=5)(i_month)\n",
    "flat_month = Flatten()(emb_month)\n",
    "\n",
    "\n",
    "#media hora\n",
    "i_time = Input(shape=(1), name='i_time')\n",
    "\n",
    "#ocup\n",
    "i_ocup = Input(shape=(train_size,1), name='i_ocup')\n",
    "lstm = LSTM(10, return_sequences=False, name='lstm')(i_ocup)\n",
    "\n",
    "\n",
    "concat = Concatenate(axis=-1, name='input_merge')\n",
    "input_merge = concat([i_porc_ocup, flat_street])\n",
    "input_merge = concat([input_merge, i_time])\n",
    "input_merge = concat([input_merge, flat_weekday])\n",
    "input_merge = concat([input_merge, flat_month])\n",
    "input_merge = concat([input_merge, lstm])\n",
    "\n",
    "d = BatchNormalization()(input_merge)\n",
    "d = Dense(256, activation='relu')(d)\n",
    "d = Dropout(0.2)(d)\n",
    "d = Dense(512, activation='relu')(d)\n",
    "d = BatchNormalization()(d)\n",
    "d = Dropout(0.2)(d)\n",
    "d = Dense(512, activation='relu')(d)\n",
    "\n",
    "o = Dense(max(data['porcentaje ocupacion'])+1, activation='softmax', name='Output')(d)\n",
    "\n",
    "model = Model(inputs=[i_porc_ocup, i_street, i_weekday, i_month, i_time, i_ocup], outputs=o)\n",
    "model.summary()\n",
    "model.compile(loss='categorical_crossentropy', optimizer='adam', metrics=['categorical_accuracy'])"
   ]
  },
  {
   "cell_type": "code",
   "execution_count": 104,
   "metadata": {
    "ExecuteTime": {
     "end_time": "2020-04-27T02:49:50.789013Z",
     "start_time": "2020-04-27T02:49:25.413020Z"
    }
   },
   "outputs": [],
   "source": [
    "train_ocup_tf = tf.convert_to_tensor(np.array(train_ocup).reshape(-1,train_size,1), np.float64)\n",
    "test_ocup_tf = tf.convert_to_tensor(np.array(test_ocup).reshape(-1,train_size,1), np.float64)"
   ]
  },
  {
   "cell_type": "code",
   "execution_count": 105,
   "metadata": {
    "ExecuteTime": {
     "end_time": "2020-04-27T02:55:36.718631Z",
     "start_time": "2020-04-27T02:49:50.791907Z"
    }
   },
   "outputs": [
    {
     "name": "stdout",
     "output_type": "stream",
     "text": [
      "Train on 330459 samples, validate on 36717 samples\n",
      "Epoch 1/10\n",
      "330459/330459 [==============================] - 41s 123us/sample - loss: 0.8395 - categorical_accuracy: 0.6387 - val_loss: 0.7887 - val_categorical_accuracy: 0.6602\n",
      "Epoch 2/10\n",
      "330459/330459 [==============================] - 35s 107us/sample - loss: 0.7914 - categorical_accuracy: 0.6568 - val_loss: 0.7691 - val_categorical_accuracy: 0.6623\n",
      "Epoch 3/10\n",
      "330459/330459 [==============================] - 35s 105us/sample - loss: 0.7807 - categorical_accuracy: 0.6607 - val_loss: 0.7630 - val_categorical_accuracy: 0.6655\n",
      "Epoch 4/10\n",
      "330459/330459 [==============================] - 34s 104us/sample - loss: 0.7752 - categorical_accuracy: 0.6630 - val_loss: 0.7529 - val_categorical_accuracy: 0.6722\n",
      "Epoch 5/10\n",
      "330459/330459 [==============================] - 32s 98us/sample - loss: 0.7707 - categorical_accuracy: 0.6644 - val_loss: 0.7529 - val_categorical_accuracy: 0.6683\n",
      "Epoch 6/10\n",
      "330459/330459 [==============================] - 34s 103us/sample - loss: 0.7665 - categorical_accuracy: 0.6655 - val_loss: 0.7514 - val_categorical_accuracy: 0.6709\n",
      "Epoch 7/10\n",
      "330459/330459 [==============================] - 34s 104us/sample - loss: 0.7646 - categorical_accuracy: 0.6664 - val_loss: 0.7529 - val_categorical_accuracy: 0.6697\n",
      "Epoch 8/10\n",
      "330459/330459 [==============================] - 35s 106us/sample - loss: 0.7620 - categorical_accuracy: 0.6676 - val_loss: 0.7476 - val_categorical_accuracy: 0.6746\n",
      "Epoch 9/10\n",
      "330459/330459 [==============================] - 32s 98us/sample - loss: 0.7600 - categorical_accuracy: 0.6675 - val_loss: 0.7459 - val_categorical_accuracy: 0.6734\n",
      "Epoch 10/10\n",
      "330459/330459 [==============================] - 32s 97us/sample - loss: 0.7590 - categorical_accuracy: 0.6687 - val_loss: 0.7454 - val_categorical_accuracy: 0.6722\n"
     ]
    }
   ],
   "source": [
    "x_train = [np.array(train_porc_ocup), np.array(train_id_cuadra), np.array(train_dia_de_la_semana), np.array(train_mes), np.array(train_media_hora), train_ocup_tf]\n",
    "x_test = [np.array(test_porc_ocup), np.array(test_id_cuadra), np.array(test_dia_de_la_semana), np.array(test_mes),  np.array(test_media_hora), test_ocup_tf]\n",
    "#xt = [x_test_porc_ocup, x_test['id_cuadra'], x_test['media hora'], x_train['ocupacion']]\n",
    "h = model.fit(x_train, train_target, epochs=10, batch_size=128, class_weight=class_weight, validation_data=[x_test, test_target])"
   ]
  },
  {
   "cell_type": "code",
   "execution_count": 106,
   "metadata": {
    "ExecuteTime": {
     "end_time": "2020-04-27T02:55:36.726609Z",
     "start_time": "2020-04-27T02:55:36.720625Z"
    }
   },
   "outputs": [],
   "source": [
    "x_test = [tf.convert_to_tensor(x, np.float64) for x in x_test]"
   ]
  },
  {
   "cell_type": "code",
   "execution_count": 107,
   "metadata": {
    "ExecuteTime": {
     "end_time": "2020-04-27T02:55:40.301426Z",
     "start_time": "2020-04-27T02:55:36.728604Z"
    }
   },
   "outputs": [
    {
     "data": {
      "text/plain": [
       "array([[9371, 3299,  121,    9,    0],\n",
       "       [2410, 9586, 1740,   97,    5],\n",
       "       [ 113, 2344, 4349,  550,    4],\n",
       "       [   6,  185,  824, 1211,   53],\n",
       "       [   1,   13,   38,  222,  166]], dtype=int64)"
      ]
     },
     "execution_count": 107,
     "metadata": {},
     "output_type": "execute_result"
    }
   ],
   "source": [
    "pred = [x.argmax() for x in model.predict(x_test)]\n",
    "test_t = pd.Series([x.argmax() for x in test_target])\n",
    "\n",
    "cnf_matrix = confusion_matrix(test_t, pred,labels=np.sort(test_t.unique()))\n",
    "cnf_matrix"
   ]
  },
  {
   "cell_type": "code",
   "execution_count": 108,
   "metadata": {
    "ExecuteTime": {
     "end_time": "2020-04-27T02:55:40.389193Z",
     "start_time": "2020-04-27T02:55:40.303387Z"
    }
   },
   "outputs": [
    {
     "name": "stdout",
     "output_type": "stream",
     "text": [
      "              precision    recall  f1-score   support\n",
      "\n",
      "           0       0.79      0.73      0.76     12800\n",
      "           1       0.62      0.69      0.66     13838\n",
      "           2       0.61      0.59      0.60      7360\n",
      "           3       0.58      0.53      0.55      2279\n",
      "           4       0.73      0.38      0.50       440\n",
      "\n",
      "    accuracy                           0.67     36717\n",
      "   macro avg       0.67      0.58      0.61     36717\n",
      "weighted avg       0.68      0.67      0.67     36717\n",
      "\n"
     ]
    }
   ],
   "source": [
    "print(classification_report(test_t, pred))"
   ]
  },
  {
   "cell_type": "code",
   "execution_count": null,
   "metadata": {},
   "outputs": [],
   "source": []
  },
  {
   "cell_type": "code",
   "execution_count": null,
   "metadata": {},
   "outputs": [],
   "source": []
  }
 ],
 "metadata": {
  "kernelspec": {
   "display_name": "Python 3",
   "language": "python",
   "name": "python3"
  },
  "language_info": {
   "codemirror_mode": {
    "name": "ipython",
    "version": 3
   },
   "file_extension": ".py",
   "mimetype": "text/x-python",
   "name": "python",
   "nbconvert_exporter": "python",
   "pygments_lexer": "ipython3",
   "version": "3.7.3"
  }
 },
 "nbformat": 4,
 "nbformat_minor": 2
}
