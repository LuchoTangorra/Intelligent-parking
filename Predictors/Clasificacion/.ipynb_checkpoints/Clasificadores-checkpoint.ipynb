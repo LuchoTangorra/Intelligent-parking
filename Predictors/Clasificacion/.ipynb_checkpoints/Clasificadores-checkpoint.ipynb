{
 "cells": [
  {
   "cell_type": "code",
   "execution_count": 1,
   "metadata": {
    "ExecuteTime": {
     "end_time": "2020-04-26T20:18:49.414028Z",
     "start_time": "2020-04-26T20:18:45.164176Z"
    }
   },
   "outputs": [],
   "source": [
    "import pandas as pd\n",
    "import numpy as np\n",
    "import matplotlib.pyplot as plt\n",
    "from datetime import datetime \n",
    "from IPython.display import display, HTML, clear_output\n",
    "import seaborn as sns\n",
    "import gc\n",
    "from sklearn.model_selection import train_test_split\n",
    "from sklearn.preprocessing import StandardScaler\n",
    "from sklearn.metrics import confusion_matrix\n",
    "from sklearn.naive_bayes import GaussianNB, MultinomialNB\n",
    "from sklearn.tree import DecisionTreeClassifier, DecisionTreeRegressor\n",
    "from sklearn.ensemble import RandomForestClassifier, RandomForestRegressor\n",
    "from math import sqrt\n",
    "import tensorflow as tf\n",
    "from tensorflow.keras.layers import Input, Dense, Dropout, Embedding, Concatenate, Flatten, LSTM, BatchNormalization\n",
    "from tensorflow.keras.models import Model\n",
    "from tensorflow.keras.utils import to_categorical\n",
    "from sklearn.utils.class_weight import compute_class_weight\n",
    "from tensorflow.keras.metrics import top_k_categorical_accuracy, categorical_accuracy\n",
    "from sklearn.metrics import balanced_accuracy_score, confusion_matrix, classification_report, log_loss"
   ]
  },
  {
   "cell_type": "markdown",
   "metadata": {},
   "source": [
    "# Con multiclasificador"
   ]
  },
  {
   "cell_type": "code",
   "execution_count": 2,
   "metadata": {
    "ExecuteTime": {
     "end_time": "2020-04-26T20:18:49.420010Z",
     "start_time": "2020-04-26T20:18:49.415996Z"
    }
   },
   "outputs": [],
   "source": [
    "path = r'C:\\Users\\ing_l\\Tesis grado\\Data\\Predictors data\\Dataset2019_multiclassifier.csv'"
   ]
  },
  {
   "cell_type": "code",
   "execution_count": 3,
   "metadata": {
    "ExecuteTime": {
     "end_time": "2020-04-26T20:18:49.673297Z",
     "start_time": "2020-04-26T20:18:49.421969Z"
    },
    "scrolled": true
   },
   "outputs": [
    {
     "data": {
      "text/html": [
       "<div>\n",
       "<style scoped>\n",
       "    .dataframe tbody tr th:only-of-type {\n",
       "        vertical-align: middle;\n",
       "    }\n",
       "\n",
       "    .dataframe tbody tr th {\n",
       "        vertical-align: top;\n",
       "    }\n",
       "\n",
       "    .dataframe thead th {\n",
       "        text-align: right;\n",
       "    }\n",
       "</style>\n",
       "<table border=\"1\" class=\"dataframe\">\n",
       "  <thead>\n",
       "    <tr style=\"text-align: right;\">\n",
       "      <th></th>\n",
       "      <th>dia de la semana</th>\n",
       "      <th>fecha</th>\n",
       "      <th>id_cuadra</th>\n",
       "      <th>media hora</th>\n",
       "      <th>mes</th>\n",
       "      <th>ocupacion</th>\n",
       "      <th>porcentaje ocupacion</th>\n",
       "      <th>target</th>\n",
       "    </tr>\n",
       "  </thead>\n",
       "  <tbody>\n",
       "    <tr>\n",
       "      <td>0</td>\n",
       "      <td>2</td>\n",
       "      <td>2019-01-02</td>\n",
       "      <td>0</td>\n",
       "      <td>10.0</td>\n",
       "      <td>1</td>\n",
       "      <td>2</td>\n",
       "      <td>0</td>\n",
       "      <td>0</td>\n",
       "    </tr>\n",
       "    <tr>\n",
       "      <td>1</td>\n",
       "      <td>2</td>\n",
       "      <td>2019-01-02</td>\n",
       "      <td>0</td>\n",
       "      <td>10.5</td>\n",
       "      <td>1</td>\n",
       "      <td>1</td>\n",
       "      <td>0</td>\n",
       "      <td>0</td>\n",
       "    </tr>\n",
       "    <tr>\n",
       "      <td>2</td>\n",
       "      <td>2</td>\n",
       "      <td>2019-01-02</td>\n",
       "      <td>0</td>\n",
       "      <td>11.0</td>\n",
       "      <td>1</td>\n",
       "      <td>5</td>\n",
       "      <td>0</td>\n",
       "      <td>0</td>\n",
       "    </tr>\n",
       "    <tr>\n",
       "      <td>3</td>\n",
       "      <td>2</td>\n",
       "      <td>2019-01-02</td>\n",
       "      <td>0</td>\n",
       "      <td>11.5</td>\n",
       "      <td>1</td>\n",
       "      <td>4</td>\n",
       "      <td>0</td>\n",
       "      <td>0</td>\n",
       "    </tr>\n",
       "    <tr>\n",
       "      <td>4</td>\n",
       "      <td>2</td>\n",
       "      <td>2019-01-02</td>\n",
       "      <td>0</td>\n",
       "      <td>12.0</td>\n",
       "      <td>1</td>\n",
       "      <td>2</td>\n",
       "      <td>0</td>\n",
       "      <td>0</td>\n",
       "    </tr>\n",
       "    <tr>\n",
       "      <td>5</td>\n",
       "      <td>2</td>\n",
       "      <td>2019-01-02</td>\n",
       "      <td>0</td>\n",
       "      <td>12.5</td>\n",
       "      <td>1</td>\n",
       "      <td>3</td>\n",
       "      <td>0</td>\n",
       "      <td>0</td>\n",
       "    </tr>\n",
       "    <tr>\n",
       "      <td>6</td>\n",
       "      <td>2</td>\n",
       "      <td>2019-01-02</td>\n",
       "      <td>0</td>\n",
       "      <td>13.0</td>\n",
       "      <td>1</td>\n",
       "      <td>4</td>\n",
       "      <td>0</td>\n",
       "      <td>0</td>\n",
       "    </tr>\n",
       "    <tr>\n",
       "      <td>7</td>\n",
       "      <td>2</td>\n",
       "      <td>2019-01-02</td>\n",
       "      <td>0</td>\n",
       "      <td>13.5</td>\n",
       "      <td>1</td>\n",
       "      <td>3</td>\n",
       "      <td>0</td>\n",
       "      <td>1</td>\n",
       "    </tr>\n",
       "    <tr>\n",
       "      <td>8</td>\n",
       "      <td>2</td>\n",
       "      <td>2019-01-02</td>\n",
       "      <td>0</td>\n",
       "      <td>14.0</td>\n",
       "      <td>1</td>\n",
       "      <td>6</td>\n",
       "      <td>1</td>\n",
       "      <td>1</td>\n",
       "    </tr>\n",
       "    <tr>\n",
       "      <td>9</td>\n",
       "      <td>2</td>\n",
       "      <td>2019-01-02</td>\n",
       "      <td>0</td>\n",
       "      <td>14.5</td>\n",
       "      <td>1</td>\n",
       "      <td>6</td>\n",
       "      <td>1</td>\n",
       "      <td>0</td>\n",
       "    </tr>\n",
       "    <tr>\n",
       "      <td>10</td>\n",
       "      <td>2</td>\n",
       "      <td>2019-01-02</td>\n",
       "      <td>0</td>\n",
       "      <td>15.0</td>\n",
       "      <td>1</td>\n",
       "      <td>3</td>\n",
       "      <td>0</td>\n",
       "      <td>0</td>\n",
       "    </tr>\n",
       "    <tr>\n",
       "      <td>11</td>\n",
       "      <td>2</td>\n",
       "      <td>2019-01-02</td>\n",
       "      <td>0</td>\n",
       "      <td>15.5</td>\n",
       "      <td>1</td>\n",
       "      <td>1</td>\n",
       "      <td>0</td>\n",
       "      <td>0</td>\n",
       "    </tr>\n",
       "    <tr>\n",
       "      <td>12</td>\n",
       "      <td>2</td>\n",
       "      <td>2019-01-02</td>\n",
       "      <td>0</td>\n",
       "      <td>16.0</td>\n",
       "      <td>1</td>\n",
       "      <td>4</td>\n",
       "      <td>0</td>\n",
       "      <td>1</td>\n",
       "    </tr>\n",
       "    <tr>\n",
       "      <td>13</td>\n",
       "      <td>2</td>\n",
       "      <td>2019-01-02</td>\n",
       "      <td>0</td>\n",
       "      <td>16.5</td>\n",
       "      <td>1</td>\n",
       "      <td>6</td>\n",
       "      <td>1</td>\n",
       "      <td>0</td>\n",
       "    </tr>\n",
       "    <tr>\n",
       "      <td>14</td>\n",
       "      <td>2</td>\n",
       "      <td>2019-01-02</td>\n",
       "      <td>0</td>\n",
       "      <td>17.0</td>\n",
       "      <td>1</td>\n",
       "      <td>4</td>\n",
       "      <td>0</td>\n",
       "      <td>0</td>\n",
       "    </tr>\n",
       "    <tr>\n",
       "      <td>15</td>\n",
       "      <td>2</td>\n",
       "      <td>2019-01-02</td>\n",
       "      <td>0</td>\n",
       "      <td>17.5</td>\n",
       "      <td>1</td>\n",
       "      <td>5</td>\n",
       "      <td>0</td>\n",
       "      <td>0</td>\n",
       "    </tr>\n",
       "    <tr>\n",
       "      <td>16</td>\n",
       "      <td>2</td>\n",
       "      <td>2019-01-02</td>\n",
       "      <td>0</td>\n",
       "      <td>18.0</td>\n",
       "      <td>1</td>\n",
       "      <td>4</td>\n",
       "      <td>0</td>\n",
       "      <td>1</td>\n",
       "    </tr>\n",
       "    <tr>\n",
       "      <td>17</td>\n",
       "      <td>2</td>\n",
       "      <td>2019-01-02</td>\n",
       "      <td>0</td>\n",
       "      <td>18.5</td>\n",
       "      <td>1</td>\n",
       "      <td>6</td>\n",
       "      <td>1</td>\n",
       "      <td>1</td>\n",
       "    </tr>\n",
       "    <tr>\n",
       "      <td>18</td>\n",
       "      <td>2</td>\n",
       "      <td>2019-01-02</td>\n",
       "      <td>0</td>\n",
       "      <td>19.0</td>\n",
       "      <td>1</td>\n",
       "      <td>10</td>\n",
       "      <td>1</td>\n",
       "      <td>1</td>\n",
       "    </tr>\n",
       "    <tr>\n",
       "      <td>19</td>\n",
       "      <td>3</td>\n",
       "      <td>2019-01-03</td>\n",
       "      <td>0</td>\n",
       "      <td>9.0</td>\n",
       "      <td>1</td>\n",
       "      <td>2</td>\n",
       "      <td>0</td>\n",
       "      <td>1</td>\n",
       "    </tr>\n",
       "    <tr>\n",
       "      <td>20</td>\n",
       "      <td>3</td>\n",
       "      <td>2019-01-03</td>\n",
       "      <td>0</td>\n",
       "      <td>9.5</td>\n",
       "      <td>1</td>\n",
       "      <td>7</td>\n",
       "      <td>1</td>\n",
       "      <td>1</td>\n",
       "    </tr>\n",
       "    <tr>\n",
       "      <td>21</td>\n",
       "      <td>3</td>\n",
       "      <td>2019-01-03</td>\n",
       "      <td>0</td>\n",
       "      <td>10.0</td>\n",
       "      <td>1</td>\n",
       "      <td>11</td>\n",
       "      <td>1</td>\n",
       "      <td>1</td>\n",
       "    </tr>\n",
       "    <tr>\n",
       "      <td>22</td>\n",
       "      <td>3</td>\n",
       "      <td>2019-01-03</td>\n",
       "      <td>0</td>\n",
       "      <td>10.5</td>\n",
       "      <td>1</td>\n",
       "      <td>10</td>\n",
       "      <td>1</td>\n",
       "      <td>1</td>\n",
       "    </tr>\n",
       "    <tr>\n",
       "      <td>23</td>\n",
       "      <td>3</td>\n",
       "      <td>2019-01-03</td>\n",
       "      <td>0</td>\n",
       "      <td>11.0</td>\n",
       "      <td>1</td>\n",
       "      <td>8</td>\n",
       "      <td>1</td>\n",
       "      <td>1</td>\n",
       "    </tr>\n",
       "    <tr>\n",
       "      <td>24</td>\n",
       "      <td>3</td>\n",
       "      <td>2019-01-03</td>\n",
       "      <td>0</td>\n",
       "      <td>11.5</td>\n",
       "      <td>1</td>\n",
       "      <td>9</td>\n",
       "      <td>1</td>\n",
       "      <td>1</td>\n",
       "    </tr>\n",
       "    <tr>\n",
       "      <td>25</td>\n",
       "      <td>3</td>\n",
       "      <td>2019-01-03</td>\n",
       "      <td>0</td>\n",
       "      <td>12.0</td>\n",
       "      <td>1</td>\n",
       "      <td>8</td>\n",
       "      <td>1</td>\n",
       "      <td>0</td>\n",
       "    </tr>\n",
       "    <tr>\n",
       "      <td>26</td>\n",
       "      <td>3</td>\n",
       "      <td>2019-01-03</td>\n",
       "      <td>0</td>\n",
       "      <td>12.5</td>\n",
       "      <td>1</td>\n",
       "      <td>2</td>\n",
       "      <td>0</td>\n",
       "      <td>0</td>\n",
       "    </tr>\n",
       "    <tr>\n",
       "      <td>27</td>\n",
       "      <td>3</td>\n",
       "      <td>2019-01-03</td>\n",
       "      <td>0</td>\n",
       "      <td>13.0</td>\n",
       "      <td>1</td>\n",
       "      <td>5</td>\n",
       "      <td>0</td>\n",
       "      <td>0</td>\n",
       "    </tr>\n",
       "    <tr>\n",
       "      <td>28</td>\n",
       "      <td>3</td>\n",
       "      <td>2019-01-03</td>\n",
       "      <td>0</td>\n",
       "      <td>13.5</td>\n",
       "      <td>1</td>\n",
       "      <td>5</td>\n",
       "      <td>0</td>\n",
       "      <td>0</td>\n",
       "    </tr>\n",
       "    <tr>\n",
       "      <td>29</td>\n",
       "      <td>3</td>\n",
       "      <td>2019-01-03</td>\n",
       "      <td>0</td>\n",
       "      <td>14.0</td>\n",
       "      <td>1</td>\n",
       "      <td>3</td>\n",
       "      <td>0</td>\n",
       "      <td>0</td>\n",
       "    </tr>\n",
       "    <tr>\n",
       "      <td>30</td>\n",
       "      <td>3</td>\n",
       "      <td>2019-01-03</td>\n",
       "      <td>0</td>\n",
       "      <td>14.5</td>\n",
       "      <td>1</td>\n",
       "      <td>3</td>\n",
       "      <td>0</td>\n",
       "      <td>0</td>\n",
       "    </tr>\n",
       "    <tr>\n",
       "      <td>31</td>\n",
       "      <td>3</td>\n",
       "      <td>2019-01-03</td>\n",
       "      <td>0</td>\n",
       "      <td>15.0</td>\n",
       "      <td>1</td>\n",
       "      <td>1</td>\n",
       "      <td>0</td>\n",
       "      <td>0</td>\n",
       "    </tr>\n",
       "    <tr>\n",
       "      <td>32</td>\n",
       "      <td>3</td>\n",
       "      <td>2019-01-03</td>\n",
       "      <td>0</td>\n",
       "      <td>15.5</td>\n",
       "      <td>1</td>\n",
       "      <td>1</td>\n",
       "      <td>0</td>\n",
       "      <td>0</td>\n",
       "    </tr>\n",
       "    <tr>\n",
       "      <td>33</td>\n",
       "      <td>3</td>\n",
       "      <td>2019-01-03</td>\n",
       "      <td>0</td>\n",
       "      <td>16.0</td>\n",
       "      <td>1</td>\n",
       "      <td>1</td>\n",
       "      <td>0</td>\n",
       "      <td>0</td>\n",
       "    </tr>\n",
       "    <tr>\n",
       "      <td>34</td>\n",
       "      <td>3</td>\n",
       "      <td>2019-01-03</td>\n",
       "      <td>0</td>\n",
       "      <td>16.5</td>\n",
       "      <td>1</td>\n",
       "      <td>2</td>\n",
       "      <td>0</td>\n",
       "      <td>0</td>\n",
       "    </tr>\n",
       "    <tr>\n",
       "      <td>35</td>\n",
       "      <td>3</td>\n",
       "      <td>2019-01-03</td>\n",
       "      <td>0</td>\n",
       "      <td>17.0</td>\n",
       "      <td>1</td>\n",
       "      <td>3</td>\n",
       "      <td>0</td>\n",
       "      <td>0</td>\n",
       "    </tr>\n",
       "    <tr>\n",
       "      <td>36</td>\n",
       "      <td>3</td>\n",
       "      <td>2019-01-03</td>\n",
       "      <td>0</td>\n",
       "      <td>17.5</td>\n",
       "      <td>1</td>\n",
       "      <td>3</td>\n",
       "      <td>0</td>\n",
       "      <td>0</td>\n",
       "    </tr>\n",
       "    <tr>\n",
       "      <td>37</td>\n",
       "      <td>3</td>\n",
       "      <td>2019-01-03</td>\n",
       "      <td>0</td>\n",
       "      <td>18.0</td>\n",
       "      <td>1</td>\n",
       "      <td>2</td>\n",
       "      <td>0</td>\n",
       "      <td>0</td>\n",
       "    </tr>\n",
       "    <tr>\n",
       "      <td>38</td>\n",
       "      <td>3</td>\n",
       "      <td>2019-01-03</td>\n",
       "      <td>0</td>\n",
       "      <td>18.5</td>\n",
       "      <td>1</td>\n",
       "      <td>3</td>\n",
       "      <td>0</td>\n",
       "      <td>0</td>\n",
       "    </tr>\n",
       "    <tr>\n",
       "      <td>39</td>\n",
       "      <td>3</td>\n",
       "      <td>2019-01-03</td>\n",
       "      <td>0</td>\n",
       "      <td>19.0</td>\n",
       "      <td>1</td>\n",
       "      <td>4</td>\n",
       "      <td>0</td>\n",
       "      <td>0</td>\n",
       "    </tr>\n",
       "    <tr>\n",
       "      <td>40</td>\n",
       "      <td>3</td>\n",
       "      <td>2019-01-03</td>\n",
       "      <td>0</td>\n",
       "      <td>19.5</td>\n",
       "      <td>1</td>\n",
       "      <td>5</td>\n",
       "      <td>0</td>\n",
       "      <td>0</td>\n",
       "    </tr>\n",
       "    <tr>\n",
       "      <td>41</td>\n",
       "      <td>3</td>\n",
       "      <td>2019-01-03</td>\n",
       "      <td>0</td>\n",
       "      <td>20.0</td>\n",
       "      <td>1</td>\n",
       "      <td>3</td>\n",
       "      <td>0</td>\n",
       "      <td>0</td>\n",
       "    </tr>\n",
       "    <tr>\n",
       "      <td>42</td>\n",
       "      <td>4</td>\n",
       "      <td>2019-01-04</td>\n",
       "      <td>0</td>\n",
       "      <td>9.0</td>\n",
       "      <td>1</td>\n",
       "      <td>3</td>\n",
       "      <td>0</td>\n",
       "      <td>1</td>\n",
       "    </tr>\n",
       "    <tr>\n",
       "      <td>43</td>\n",
       "      <td>4</td>\n",
       "      <td>2019-01-04</td>\n",
       "      <td>0</td>\n",
       "      <td>9.5</td>\n",
       "      <td>1</td>\n",
       "      <td>9</td>\n",
       "      <td>1</td>\n",
       "      <td>1</td>\n",
       "    </tr>\n",
       "    <tr>\n",
       "      <td>44</td>\n",
       "      <td>4</td>\n",
       "      <td>2019-01-04</td>\n",
       "      <td>0</td>\n",
       "      <td>10.0</td>\n",
       "      <td>1</td>\n",
       "      <td>11</td>\n",
       "      <td>1</td>\n",
       "      <td>2</td>\n",
       "    </tr>\n",
       "    <tr>\n",
       "      <td>45</td>\n",
       "      <td>4</td>\n",
       "      <td>2019-01-04</td>\n",
       "      <td>0</td>\n",
       "      <td>10.5</td>\n",
       "      <td>1</td>\n",
       "      <td>14</td>\n",
       "      <td>2</td>\n",
       "      <td>3</td>\n",
       "    </tr>\n",
       "    <tr>\n",
       "      <td>46</td>\n",
       "      <td>4</td>\n",
       "      <td>2019-01-04</td>\n",
       "      <td>0</td>\n",
       "      <td>11.0</td>\n",
       "      <td>1</td>\n",
       "      <td>17</td>\n",
       "      <td>3</td>\n",
       "      <td>2</td>\n",
       "    </tr>\n",
       "    <tr>\n",
       "      <td>47</td>\n",
       "      <td>4</td>\n",
       "      <td>2019-01-04</td>\n",
       "      <td>0</td>\n",
       "      <td>11.5</td>\n",
       "      <td>1</td>\n",
       "      <td>16</td>\n",
       "      <td>2</td>\n",
       "      <td>3</td>\n",
       "    </tr>\n",
       "    <tr>\n",
       "      <td>48</td>\n",
       "      <td>4</td>\n",
       "      <td>2019-01-04</td>\n",
       "      <td>0</td>\n",
       "      <td>12.0</td>\n",
       "      <td>1</td>\n",
       "      <td>17</td>\n",
       "      <td>3</td>\n",
       "      <td>3</td>\n",
       "    </tr>\n",
       "    <tr>\n",
       "      <td>49</td>\n",
       "      <td>4</td>\n",
       "      <td>2019-01-04</td>\n",
       "      <td>0</td>\n",
       "      <td>12.5</td>\n",
       "      <td>1</td>\n",
       "      <td>17</td>\n",
       "      <td>3</td>\n",
       "      <td>2</td>\n",
       "    </tr>\n",
       "  </tbody>\n",
       "</table>\n",
       "</div>"
      ],
      "text/plain": [
       "    dia de la semana       fecha  id_cuadra  media hora  mes  ocupacion  \\\n",
       "0                  2  2019-01-02          0        10.0    1          2   \n",
       "1                  2  2019-01-02          0        10.5    1          1   \n",
       "2                  2  2019-01-02          0        11.0    1          5   \n",
       "3                  2  2019-01-02          0        11.5    1          4   \n",
       "4                  2  2019-01-02          0        12.0    1          2   \n",
       "5                  2  2019-01-02          0        12.5    1          3   \n",
       "6                  2  2019-01-02          0        13.0    1          4   \n",
       "7                  2  2019-01-02          0        13.5    1          3   \n",
       "8                  2  2019-01-02          0        14.0    1          6   \n",
       "9                  2  2019-01-02          0        14.5    1          6   \n",
       "10                 2  2019-01-02          0        15.0    1          3   \n",
       "11                 2  2019-01-02          0        15.5    1          1   \n",
       "12                 2  2019-01-02          0        16.0    1          4   \n",
       "13                 2  2019-01-02          0        16.5    1          6   \n",
       "14                 2  2019-01-02          0        17.0    1          4   \n",
       "15                 2  2019-01-02          0        17.5    1          5   \n",
       "16                 2  2019-01-02          0        18.0    1          4   \n",
       "17                 2  2019-01-02          0        18.5    1          6   \n",
       "18                 2  2019-01-02          0        19.0    1         10   \n",
       "19                 3  2019-01-03          0         9.0    1          2   \n",
       "20                 3  2019-01-03          0         9.5    1          7   \n",
       "21                 3  2019-01-03          0        10.0    1         11   \n",
       "22                 3  2019-01-03          0        10.5    1         10   \n",
       "23                 3  2019-01-03          0        11.0    1          8   \n",
       "24                 3  2019-01-03          0        11.5    1          9   \n",
       "25                 3  2019-01-03          0        12.0    1          8   \n",
       "26                 3  2019-01-03          0        12.5    1          2   \n",
       "27                 3  2019-01-03          0        13.0    1          5   \n",
       "28                 3  2019-01-03          0        13.5    1          5   \n",
       "29                 3  2019-01-03          0        14.0    1          3   \n",
       "30                 3  2019-01-03          0        14.5    1          3   \n",
       "31                 3  2019-01-03          0        15.0    1          1   \n",
       "32                 3  2019-01-03          0        15.5    1          1   \n",
       "33                 3  2019-01-03          0        16.0    1          1   \n",
       "34                 3  2019-01-03          0        16.5    1          2   \n",
       "35                 3  2019-01-03          0        17.0    1          3   \n",
       "36                 3  2019-01-03          0        17.5    1          3   \n",
       "37                 3  2019-01-03          0        18.0    1          2   \n",
       "38                 3  2019-01-03          0        18.5    1          3   \n",
       "39                 3  2019-01-03          0        19.0    1          4   \n",
       "40                 3  2019-01-03          0        19.5    1          5   \n",
       "41                 3  2019-01-03          0        20.0    1          3   \n",
       "42                 4  2019-01-04          0         9.0    1          3   \n",
       "43                 4  2019-01-04          0         9.5    1          9   \n",
       "44                 4  2019-01-04          0        10.0    1         11   \n",
       "45                 4  2019-01-04          0        10.5    1         14   \n",
       "46                 4  2019-01-04          0        11.0    1         17   \n",
       "47                 4  2019-01-04          0        11.5    1         16   \n",
       "48                 4  2019-01-04          0        12.0    1         17   \n",
       "49                 4  2019-01-04          0        12.5    1         17   \n",
       "\n",
       "    porcentaje ocupacion  target  \n",
       "0                      0       0  \n",
       "1                      0       0  \n",
       "2                      0       0  \n",
       "3                      0       0  \n",
       "4                      0       0  \n",
       "5                      0       0  \n",
       "6                      0       0  \n",
       "7                      0       1  \n",
       "8                      1       1  \n",
       "9                      1       0  \n",
       "10                     0       0  \n",
       "11                     0       0  \n",
       "12                     0       1  \n",
       "13                     1       0  \n",
       "14                     0       0  \n",
       "15                     0       0  \n",
       "16                     0       1  \n",
       "17                     1       1  \n",
       "18                     1       1  \n",
       "19                     0       1  \n",
       "20                     1       1  \n",
       "21                     1       1  \n",
       "22                     1       1  \n",
       "23                     1       1  \n",
       "24                     1       1  \n",
       "25                     1       0  \n",
       "26                     0       0  \n",
       "27                     0       0  \n",
       "28                     0       0  \n",
       "29                     0       0  \n",
       "30                     0       0  \n",
       "31                     0       0  \n",
       "32                     0       0  \n",
       "33                     0       0  \n",
       "34                     0       0  \n",
       "35                     0       0  \n",
       "36                     0       0  \n",
       "37                     0       0  \n",
       "38                     0       0  \n",
       "39                     0       0  \n",
       "40                     0       0  \n",
       "41                     0       0  \n",
       "42                     0       1  \n",
       "43                     1       1  \n",
       "44                     1       2  \n",
       "45                     2       3  \n",
       "46                     3       2  \n",
       "47                     2       3  \n",
       "48                     3       3  \n",
       "49                     3       2  "
      ]
     },
     "execution_count": 3,
     "metadata": {},
     "output_type": "execute_result"
    }
   ],
   "source": [
    "data = pd.read_csv(path)\n",
    "tiempo = 'media hora'\n",
    "#data['media hora'] = data['media hora'] / (1800*2)\n",
    "#data = data.loc[(data['media hora'] >= 9) & (data['media hora'] <= 20)]\n",
    "data[0:50]"
   ]
  },
  {
   "cell_type": "markdown",
   "metadata": {},
   "source": [
    "### Acomodo los targets"
   ]
  },
  {
   "cell_type": "code",
   "execution_count": 4,
   "metadata": {
    "ExecuteTime": {
     "end_time": "2020-04-26T20:18:49.679309Z",
     "start_time": "2020-04-26T20:18:49.675319Z"
    }
   },
   "outputs": [
    {
     "data": {
      "text/plain": [
       "\"out = pd.DataFrame(columns=data.columns.values)\\nout['target'] = 0\\n\\nfor s in data['id_cuadra'].drop_duplicates().sort_values():\\n    clear_output()\\n    print('calle:', s)\\n    \\n    data_s = data.loc[data['id_cuadra'] == s].copy()\\n    \\n    for f in data_s['fecha'].drop_duplicates():\\n        \\n        data_f = data_s.loc[data_s['fecha'] == f].sort_values(by=tiempo).reset_index(drop=True)\\n        \\n        to_append = pd.DataFrame(columns=data.columns.values)\\n        to_append['target'] = 0\\n        \\n        to_append = to_append.append(data_f[:-1])\\n        #display(to_append)\\n        to_append['target'] = data_f['porcentaje ocupacion'][1:].reset_index(drop=True)\\n        #display(data_f['porcentaje ocupacion'][1:].reset_index(drop=True))\\n        out = out.append(to_append)\\n        \""
      ]
     },
     "execution_count": 4,
     "metadata": {},
     "output_type": "execute_result"
    }
   ],
   "source": [
    "'''out = pd.DataFrame(columns=data.columns.values)\n",
    "out['target'] = 0\n",
    "\n",
    "for s in data['id_cuadra'].drop_duplicates().sort_values():\n",
    "    clear_output()\n",
    "    print('calle:', s)\n",
    "    \n",
    "    data_s = data.loc[data['id_cuadra'] == s].copy()\n",
    "    \n",
    "    for f in data_s['fecha'].drop_duplicates():\n",
    "        \n",
    "        data_f = data_s.loc[data_s['fecha'] == f].sort_values(by=tiempo).reset_index(drop=True)\n",
    "        \n",
    "        to_append = pd.DataFrame(columns=data.columns.values)\n",
    "        to_append['target'] = 0\n",
    "        \n",
    "        to_append = to_append.append(data_f[:-1])\n",
    "        #display(to_append)\n",
    "        to_append['target'] = data_f['porcentaje ocupacion'][1:].reset_index(drop=True)\n",
    "        #display(data_f['porcentaje ocupacion'][1:].reset_index(drop=True))\n",
    "        out = out.append(to_append)\n",
    "        '''"
   ]
  },
  {
   "cell_type": "code",
   "execution_count": 5,
   "metadata": {
    "ExecuteTime": {
     "end_time": "2020-04-26T20:18:49.686263Z",
     "start_time": "2020-04-26T20:18:49.681277Z"
    }
   },
   "outputs": [],
   "source": [
    "#out"
   ]
  },
  {
   "cell_type": "markdown",
   "metadata": {},
   "source": [
    "### veo si las clases estan balanceadas"
   ]
  },
  {
   "cell_type": "code",
   "execution_count": 6,
   "metadata": {
    "ExecuteTime": {
     "end_time": "2020-04-26T20:18:49.723163Z",
     "start_time": "2020-04-26T20:18:49.688258Z"
    }
   },
   "outputs": [
    {
     "data": {
      "text/html": [
       "<div>\n",
       "<style scoped>\n",
       "    .dataframe tbody tr th:only-of-type {\n",
       "        vertical-align: middle;\n",
       "    }\n",
       "\n",
       "    .dataframe tbody tr th {\n",
       "        vertical-align: top;\n",
       "    }\n",
       "\n",
       "    .dataframe thead th {\n",
       "        text-align: right;\n",
       "    }\n",
       "</style>\n",
       "<table border=\"1\" class=\"dataframe\">\n",
       "  <thead>\n",
       "    <tr style=\"text-align: right;\">\n",
       "      <th></th>\n",
       "      <th>count</th>\n",
       "    </tr>\n",
       "    <tr>\n",
       "      <th>porcentaje ocupacion</th>\n",
       "      <th></th>\n",
       "    </tr>\n",
       "  </thead>\n",
       "  <tbody>\n",
       "    <tr>\n",
       "      <td>0</td>\n",
       "      <td>151448</td>\n",
       "    </tr>\n",
       "    <tr>\n",
       "      <td>1</td>\n",
       "      <td>171976</td>\n",
       "    </tr>\n",
       "    <tr>\n",
       "      <td>2</td>\n",
       "      <td>90890</td>\n",
       "    </tr>\n",
       "    <tr>\n",
       "      <td>3</td>\n",
       "      <td>28247</td>\n",
       "    </tr>\n",
       "    <tr>\n",
       "      <td>4</td>\n",
       "      <td>5905</td>\n",
       "    </tr>\n",
       "  </tbody>\n",
       "</table>\n",
       "</div>"
      ],
      "text/plain": [
       "                       count\n",
       "porcentaje ocupacion        \n",
       "0                     151448\n",
       "1                     171976\n",
       "2                      90890\n",
       "3                      28247\n",
       "4                       5905"
      ]
     },
     "execution_count": 6,
     "metadata": {},
     "output_type": "execute_result"
    }
   ],
   "source": [
    "balanced_classes = data[['porcentaje ocupacion','ocupacion']].groupby('porcentaje ocupacion').count()\n",
    "balanced_classes.rename(columns={'ocupacion': 'count'}, inplace=True)\n",
    "total_data = balanced_classes['count'].sum()\n",
    "balanced_classes"
   ]
  },
  {
   "cell_type": "markdown",
   "metadata": {},
   "source": [
    "### Separo en train y test"
   ]
  },
  {
   "cell_type": "code",
   "execution_count": 7,
   "metadata": {
    "ExecuteTime": {
     "end_time": "2020-04-26T20:18:49.731142Z",
     "start_time": "2020-04-26T20:18:49.725158Z"
    }
   },
   "outputs": [],
   "source": [
    "input_features = ['porcentaje ocupacion', 'ocupacion', tiempo]"
   ]
  },
  {
   "cell_type": "code",
   "execution_count": 8,
   "metadata": {
    "ExecuteTime": {
     "end_time": "2020-04-26T20:18:49.991450Z",
     "start_time": "2020-04-26T20:18:49.734135Z"
    }
   },
   "outputs": [],
   "source": [
    "x_train, x_test, y_train, y_test = train_test_split(data[['ocupacion',tiempo,'id_cuadra', 'dia de la semana', 'mes', 'porcentaje ocupacion']], data['target'], test_size=0.1, shuffle=True, stratify=data['target'])   "
   ]
  },
  {
   "cell_type": "code",
   "execution_count": 9,
   "metadata": {
    "ExecuteTime": {
     "end_time": "2020-04-26T20:18:49.999432Z",
     "start_time": "2020-04-26T20:18:49.992450Z"
    }
   },
   "outputs": [],
   "source": [
    "y_train_no_cat = y_train.copy()\n",
    "y_test_no_cat = y_test.copy()"
   ]
  },
  {
   "cell_type": "code",
   "execution_count": 10,
   "metadata": {
    "ExecuteTime": {
     "end_time": "2020-04-26T20:18:50.018019Z",
     "start_time": "2020-04-26T20:18:50.001082Z"
    }
   },
   "outputs": [],
   "source": [
    "y_train = to_categorical(y_train)\n",
    "y_test = to_categorical(y_test)"
   ]
  },
  {
   "cell_type": "code",
   "execution_count": 11,
   "metadata": {
    "ExecuteTime": {
     "end_time": "2020-04-26T20:18:50.105830Z",
     "start_time": "2020-04-26T20:18:50.020016Z"
    }
   },
   "outputs": [
    {
     "data": {
      "text/plain": [
       "array([ 0.60008326,  0.52031867,  0.97521957,  3.1306496 , 14.96270621])"
      ]
     },
     "execution_count": 11,
     "metadata": {},
     "output_type": "execute_result"
    }
   ],
   "source": [
    "class_weight = compute_class_weight('balanced', np.unique(y_train_no_cat), y_train_no_cat)\n",
    "class_weight"
   ]
  },
  {
   "cell_type": "markdown",
   "metadata": {},
   "source": [
    "# Modelo baseline"
   ]
  },
  {
   "cell_type": "code",
   "execution_count": 12,
   "metadata": {
    "ExecuteTime": {
     "end_time": "2020-04-26T20:18:50.147672Z",
     "start_time": "2020-04-26T20:18:50.107779Z"
    }
   },
   "outputs": [
    {
     "data": {
      "text/plain": [
       "0.5827115410326827"
      ]
     },
     "execution_count": 12,
     "metadata": {},
     "output_type": "execute_result"
    }
   ],
   "source": [
    "balanced_accuracy_score(y_test_no_cat, x_test['porcentaje ocupacion'])"
   ]
  },
  {
   "cell_type": "code",
   "execution_count": 13,
   "metadata": {
    "ExecuteTime": {
     "end_time": "2020-04-26T20:18:50.154654Z",
     "start_time": "2020-04-26T20:18:50.149667Z"
    }
   },
   "outputs": [
    {
     "data": {
      "text/plain": [
       "array([1, 2, 0, 3, 4], dtype=int64)"
      ]
     },
     "execution_count": 13,
     "metadata": {},
     "output_type": "execute_result"
    }
   ],
   "source": [
    "y_test_no_cat.unique()"
   ]
  },
  {
   "cell_type": "code",
   "execution_count": 14,
   "metadata": {
    "ExecuteTime": {
     "end_time": "2020-04-26T20:18:50.193559Z",
     "start_time": "2020-04-26T20:18:50.156649Z"
    }
   },
   "outputs": [
    {
     "data": {
      "text/plain": [
       "array([[10903,  3759,   245,    34,     6],\n",
       "       [ 3939, 10428,  2668,   183,    20],\n",
       "       [  300,  2764,  5074,  1008,    51],\n",
       "       [   26,   247,   923,  1473,   196],\n",
       "       [    3,    22,    56,   211,   308]], dtype=int64)"
      ]
     },
     "execution_count": 14,
     "metadata": {},
     "output_type": "execute_result"
    }
   ],
   "source": [
    "cnf_matrix = confusion_matrix(y_test_no_cat, x_test['porcentaje ocupacion'],labels=np.sort(y_test_no_cat.unique()))\n",
    "cnf_matrix"
   ]
  },
  {
   "cell_type": "code",
   "execution_count": 16,
   "metadata": {
    "ExecuteTime": {
     "end_time": "2020-04-26T20:06:16.954906Z",
     "start_time": "2020-04-26T20:06:16.880134Z"
    }
   },
   "outputs": [
    {
     "name": "stdout",
     "output_type": "stream",
     "text": [
      "              precision    recall  f1-score   support\n",
      "\n",
      "           0       0.72      0.73      0.73     14947\n",
      "           1       0.61      0.60      0.61     17238\n",
      "           2       0.56      0.56      0.56      9197\n",
      "           3       0.49      0.49      0.49      2865\n",
      "           4       0.55      0.52      0.54       600\n",
      "\n",
      "    accuracy                           0.63     44847\n",
      "   macro avg       0.59      0.58      0.58     44847\n",
      "weighted avg       0.63      0.63      0.63     44847\n",
      "\n"
     ]
    }
   ],
   "source": [
    "print(classification_report(y_test_no_cat, x_test['porcentaje ocupacion']))"
   ]
  },
  {
   "cell_type": "markdown",
   "metadata": {},
   "source": [
    "# Naive bayes classifier"
   ]
  },
  {
   "cell_type": "markdown",
   "metadata": {},
   "source": [
    "### Multinomial"
   ]
  },
  {
   "cell_type": "code",
   "execution_count": 17,
   "metadata": {
    "ExecuteTime": {
     "end_time": "2020-04-26T20:06:30.487153Z",
     "start_time": "2020-04-26T20:06:30.335496Z"
    }
   },
   "outputs": [
    {
     "data": {
      "text/plain": [
       "0.5824023903494102"
      ]
     },
     "execution_count": 17,
     "metadata": {},
     "output_type": "execute_result"
    }
   ],
   "source": [
    "model = MultinomialNB()\n",
    "\n",
    "model.fit(x_train[input_features], y_train_no_cat)\n",
    "\n",
    "model.score(x_test[input_features], y_test_no_cat)"
   ]
  },
  {
   "cell_type": "code",
   "execution_count": 18,
   "metadata": {
    "ExecuteTime": {
     "end_time": "2020-04-26T20:06:30.931270Z",
     "start_time": "2020-04-26T20:06:30.886384Z"
    }
   },
   "outputs": [
    {
     "data": {
      "text/plain": [
       "array([[11496,  3333,   118,     0,     0],\n",
       "       [ 4655,  9712,  2868,     3,     0],\n",
       "       [  644,  3761,  4724,    68,     0],\n",
       "       [  110,   833,  1735,   187,     0],\n",
       "       [   23,   129,   364,    84,     0]], dtype=int64)"
      ]
     },
     "execution_count": 18,
     "metadata": {},
     "output_type": "execute_result"
    }
   ],
   "source": [
    "cnf_matrix = confusion_matrix(y_test_no_cat, model.predict(x_test[input_features]),labels=np.sort(y_test_no_cat.unique()))\n",
    "cnf_matrix"
   ]
  },
  {
   "cell_type": "markdown",
   "metadata": {},
   "source": [
    "### Gaussian"
   ]
  },
  {
   "cell_type": "code",
   "execution_count": 19,
   "metadata": {
    "ExecuteTime": {
     "end_time": "2020-04-26T20:06:37.026299Z",
     "start_time": "2020-04-26T20:06:36.893656Z"
    }
   },
   "outputs": [
    {
     "data": {
      "text/plain": [
       "0.6173211140098558"
      ]
     },
     "execution_count": 19,
     "metadata": {},
     "output_type": "execute_result"
    }
   ],
   "source": [
    "model = GaussianNB()\n",
    "\n",
    "model.fit(x_train[input_features], y_train_no_cat)\n",
    "\n",
    "model.score(x_test[input_features], y_test_no_cat)"
   ]
  },
  {
   "cell_type": "code",
   "execution_count": 20,
   "metadata": {
    "ExecuteTime": {
     "end_time": "2020-04-26T20:06:37.213583Z",
     "start_time": "2020-04-26T20:06:37.157767Z"
    }
   },
   "outputs": [
    {
     "data": {
      "text/plain": [
       "array([[11617,  3192,   131,     7,     0],\n",
       "       [ 4715,  9991,  2457,    73,     2],\n",
       "       [  625,  2960,  5005,   600,     7],\n",
       "       [   89,   483,  1231,   991,    71],\n",
       "       [   14,    42,   140,   323,    81]], dtype=int64)"
      ]
     },
     "execution_count": 20,
     "metadata": {},
     "output_type": "execute_result"
    }
   ],
   "source": [
    "cnf_matrix = confusion_matrix(y_test_no_cat, model.predict(x_test[input_features]),labels=np.sort(y_test_no_cat.unique()))\n",
    "cnf_matrix"
   ]
  },
  {
   "cell_type": "markdown",
   "metadata": {},
   "source": [
    "# Arbol de decision"
   ]
  },
  {
   "cell_type": "code",
   "execution_count": 21,
   "metadata": {
    "ExecuteTime": {
     "end_time": "2020-04-26T20:06:42.917185Z",
     "start_time": "2020-04-26T20:06:37.904341Z"
    }
   },
   "outputs": [
    {
     "name": "stdout",
     "output_type": "stream",
     "text": [
      "Profundidad: 9\n"
     ]
    },
    {
     "ename": "KeyboardInterrupt",
     "evalue": "",
     "output_type": "error",
     "traceback": [
      "\u001b[1;31m---------------------------------------------------------------------------\u001b[0m",
      "\u001b[1;31mKeyboardInterrupt\u001b[0m                         Traceback (most recent call last)",
      "\u001b[1;32m<ipython-input-21-cbc33b6fd0c2>\u001b[0m in \u001b[0;36m<module>\u001b[1;34m\u001b[0m\n\u001b[0;32m     10\u001b[0m     \u001b[0mprint\u001b[0m\u001b[1;33m(\u001b[0m\u001b[1;34m\"Profundidad:\"\u001b[0m\u001b[1;33m,\u001b[0m \u001b[0mi\u001b[0m\u001b[1;33m)\u001b[0m\u001b[1;33m\u001b[0m\u001b[1;33m\u001b[0m\u001b[0m\n\u001b[0;32m     11\u001b[0m     \u001b[0mdt\u001b[0m \u001b[1;33m=\u001b[0m \u001b[0mDecisionTreeClassifier\u001b[0m\u001b[1;33m(\u001b[0m\u001b[0mmax_depth\u001b[0m\u001b[1;33m=\u001b[0m\u001b[0mi\u001b[0m\u001b[1;33m,\u001b[0m \u001b[0mclass_weight\u001b[0m\u001b[1;33m=\u001b[0m\u001b[1;34m'balanced'\u001b[0m\u001b[1;33m)\u001b[0m\u001b[1;33m\u001b[0m\u001b[1;33m\u001b[0m\u001b[0m\n\u001b[1;32m---> 12\u001b[1;33m     \u001b[0mdt\u001b[0m \u001b[1;33m=\u001b[0m \u001b[0mdt\u001b[0m\u001b[1;33m.\u001b[0m\u001b[0mfit\u001b[0m\u001b[1;33m(\u001b[0m\u001b[0mx_train\u001b[0m\u001b[1;33m[\u001b[0m\u001b[0minput_features\u001b[0m\u001b[1;33m]\u001b[0m\u001b[1;33m,\u001b[0m \u001b[0my_train_no_cat\u001b[0m\u001b[1;33m)\u001b[0m\u001b[1;33m\u001b[0m\u001b[1;33m\u001b[0m\u001b[0m\n\u001b[0m\u001b[0;32m     13\u001b[0m \u001b[1;33m\u001b[0m\u001b[0m\n\u001b[0;32m     14\u001b[0m     \u001b[1;32mif\u001b[0m \u001b[0mdt\u001b[0m\u001b[1;33m.\u001b[0m\u001b[0mscore\u001b[0m\u001b[1;33m(\u001b[0m\u001b[0mx_test\u001b[0m\u001b[1;33m[\u001b[0m\u001b[0minput_features\u001b[0m\u001b[1;33m]\u001b[0m\u001b[1;33m,\u001b[0m \u001b[0my_test_no_cat\u001b[0m\u001b[1;33m)\u001b[0m \u001b[1;33m>\u001b[0m \u001b[0mmax\u001b[0m\u001b[1;33m(\u001b[0m\u001b[1;33m[\u001b[0m\u001b[0mx\u001b[0m\u001b[1;33m[\u001b[0m\u001b[1;36m1\u001b[0m\u001b[1;33m]\u001b[0m \u001b[1;32mfor\u001b[0m \u001b[0mx\u001b[0m \u001b[1;32min\u001b[0m \u001b[0mbest_score\u001b[0m\u001b[1;33m]\u001b[0m\u001b[1;33m)\u001b[0m\u001b[1;33m:\u001b[0m\u001b[1;33m\u001b[0m\u001b[1;33m\u001b[0m\u001b[0m\n",
      "\u001b[1;32m~\\AppData\\Roaming\\Python\\Python37\\site-packages\\sklearn\\tree\\_classes.py\u001b[0m in \u001b[0;36mfit\u001b[1;34m(self, X, y, sample_weight, check_input, X_idx_sorted)\u001b[0m\n\u001b[0;32m    875\u001b[0m             \u001b[0msample_weight\u001b[0m\u001b[1;33m=\u001b[0m\u001b[0msample_weight\u001b[0m\u001b[1;33m,\u001b[0m\u001b[1;33m\u001b[0m\u001b[1;33m\u001b[0m\u001b[0m\n\u001b[0;32m    876\u001b[0m             \u001b[0mcheck_input\u001b[0m\u001b[1;33m=\u001b[0m\u001b[0mcheck_input\u001b[0m\u001b[1;33m,\u001b[0m\u001b[1;33m\u001b[0m\u001b[1;33m\u001b[0m\u001b[0m\n\u001b[1;32m--> 877\u001b[1;33m             X_idx_sorted=X_idx_sorted)\n\u001b[0m\u001b[0;32m    878\u001b[0m         \u001b[1;32mreturn\u001b[0m \u001b[0mself\u001b[0m\u001b[1;33m\u001b[0m\u001b[1;33m\u001b[0m\u001b[0m\n\u001b[0;32m    879\u001b[0m \u001b[1;33m\u001b[0m\u001b[0m\n",
      "\u001b[1;32m~\\AppData\\Roaming\\Python\\Python37\\site-packages\\sklearn\\tree\\_classes.py\u001b[0m in \u001b[0;36mfit\u001b[1;34m(self, X, y, sample_weight, check_input, X_idx_sorted)\u001b[0m\n\u001b[0;32m    365\u001b[0m                                            min_impurity_split)\n\u001b[0;32m    366\u001b[0m \u001b[1;33m\u001b[0m\u001b[0m\n\u001b[1;32m--> 367\u001b[1;33m         \u001b[0mbuilder\u001b[0m\u001b[1;33m.\u001b[0m\u001b[0mbuild\u001b[0m\u001b[1;33m(\u001b[0m\u001b[0mself\u001b[0m\u001b[1;33m.\u001b[0m\u001b[0mtree_\u001b[0m\u001b[1;33m,\u001b[0m \u001b[0mX\u001b[0m\u001b[1;33m,\u001b[0m \u001b[0my\u001b[0m\u001b[1;33m,\u001b[0m \u001b[0msample_weight\u001b[0m\u001b[1;33m,\u001b[0m \u001b[0mX_idx_sorted\u001b[0m\u001b[1;33m)\u001b[0m\u001b[1;33m\u001b[0m\u001b[1;33m\u001b[0m\u001b[0m\n\u001b[0m\u001b[0;32m    368\u001b[0m \u001b[1;33m\u001b[0m\u001b[0m\n\u001b[0;32m    369\u001b[0m         \u001b[1;32mif\u001b[0m \u001b[0mself\u001b[0m\u001b[1;33m.\u001b[0m\u001b[0mn_outputs_\u001b[0m \u001b[1;33m==\u001b[0m \u001b[1;36m1\u001b[0m \u001b[1;32mand\u001b[0m \u001b[0mis_classifier\u001b[0m\u001b[1;33m(\u001b[0m\u001b[0mself\u001b[0m\u001b[1;33m)\u001b[0m\u001b[1;33m:\u001b[0m\u001b[1;33m\u001b[0m\u001b[1;33m\u001b[0m\u001b[0m\n",
      "\u001b[1;31mKeyboardInterrupt\u001b[0m: "
     ]
    }
   ],
   "source": [
    "max_depth = 20\n",
    "\n",
    "best_score = np.zeros((max_depth+1, 2))\n",
    "best_depth = 0\n",
    "best_model = 0\n",
    "\n",
    "\n",
    "for i in range(1, max_depth+1):\n",
    "    clear_output()\n",
    "    print(\"Profundidad:\", i)\n",
    "    dt = DecisionTreeClassifier(max_depth=i, class_weight='balanced')\n",
    "    dt = dt.fit(x_train[input_features], y_train_no_cat)\n",
    "    \n",
    "    if dt.score(x_test[input_features], y_test_no_cat) > max([x[1] for x in best_score]):\n",
    "        best_depth = i\n",
    "        best_model = dt\n",
    "        \n",
    "    best_score[i][0] = dt.score(x_train[input_features], y_train_no_cat)\n",
    "    best_score[i][1] = dt.score(x_test[input_features], y_test_no_cat)\n",
    "\n",
    "    \n",
    "print('Mejor profundidad:', best_depth)\n",
    "print('Mejor accuracy:', max([x[1] for x in best_score]))"
   ]
  },
  {
   "cell_type": "code",
   "execution_count": 81,
   "metadata": {
    "ExecuteTime": {
     "end_time": "2020-04-12T21:56:39.716806Z",
     "start_time": "2020-04-12T21:56:39.667902Z"
    }
   },
   "outputs": [
    {
     "data": {
      "text/plain": [
       "array([[11966,  2583,   233,   128,    37],\n",
       "       [ 4201,  9307,  2908,   706,   116],\n",
       "       [  356,  2124,  5031,  1419,   267],\n",
       "       [   38,   133,   694,  1539,   461],\n",
       "       [    4,     5,    21,   159,   411]], dtype=int64)"
      ]
     },
     "execution_count": 81,
     "metadata": {},
     "output_type": "execute_result"
    }
   ],
   "source": [
    "cnf_matrix = confusion_matrix(y_test_no_cat, best_model.predict(x_test[input_features]),labels=np.sort(y_test_no_cat.unique()))\n",
    "cnf_matrix"
   ]
  },
  {
   "cell_type": "code",
   "execution_count": 82,
   "metadata": {
    "ExecuteTime": {
     "end_time": "2020-04-12T21:56:39.811520Z",
     "start_time": "2020-04-12T21:56:39.718767Z"
    }
   },
   "outputs": [
    {
     "name": "stdout",
     "output_type": "stream",
     "text": [
      "              precision    recall  f1-score   support\n",
      "\n",
      "           0       0.72      0.80      0.76     14947\n",
      "           1       0.66      0.54      0.59     17238\n",
      "           2       0.57      0.55      0.56      9197\n",
      "           3       0.39      0.54      0.45      2865\n",
      "           4       0.32      0.69      0.43       600\n",
      "\n",
      "    accuracy                           0.63     44847\n",
      "   macro avg       0.53      0.62      0.56     44847\n",
      "weighted avg       0.64      0.63      0.63     44847\n",
      "\n"
     ]
    }
   ],
   "source": [
    "print(classification_report(y_test_no_cat, best_model.predict(x_test[input_features])))"
   ]
  },
  {
   "cell_type": "markdown",
   "metadata": {},
   "source": [
    "# Random forest"
   ]
  },
  {
   "cell_type": "code",
   "execution_count": 22,
   "metadata": {
    "ExecuteTime": {
     "end_time": "2020-04-12T18:17:21.420385Z",
     "start_time": "2020-04-12T18:09:37.132329Z"
    }
   },
   "outputs": [
    {
     "name": "stdout",
     "output_type": "stream",
     "text": [
      "Profundidad: 20\n",
      "Mejor profundidad: 6\n",
      "Mejor accuracy: 0.6337101701340112\n"
     ]
    }
   ],
   "source": [
    "max_depth = 20\n",
    "\n",
    "best_score = np.zeros((max_depth+1, 2))\n",
    "best_depth = 0\n",
    "best_model = 0\n",
    "\n",
    "\n",
    "for i in range(1, max_depth+1):\n",
    "    clear_output()\n",
    "    print(\"Profundidad:\", i)\n",
    "    dt = RandomForestClassifier(max_depth=i, class_weight='balanced')\n",
    "    dt = dt.fit(x_train[input_features], y_train_no_cat)\n",
    "    \n",
    "    if dt.score(x_test[input_features], y_test_no_cat) > max([x[1] for x in best_score]):\n",
    "        best_depth = i\n",
    "        best_model = dt\n",
    "        \n",
    "    best_score[i][0] = dt.score(x_train[input_features], y_train_no_cat)\n",
    "    best_score[i][1] = dt.score(x_test[input_features], y_test_no_cat)\n",
    "\n",
    "    \n",
    "print('Mejor profundidad:', best_depth)\n",
    "print('Mejor accuracy:', max([x[1] for x in best_score]))"
   ]
  },
  {
   "cell_type": "code",
   "execution_count": 23,
   "metadata": {
    "ExecuteTime": {
     "end_time": "2020-04-12T18:17:21.977986Z",
     "start_time": "2020-04-12T18:17:21.424400Z"
    }
   },
   "outputs": [
    {
     "data": {
      "text/plain": [
       "array([[11761,  2914,   172,    70,    30],\n",
       "       [ 4027,  9725,  2901,   460,   125],\n",
       "       [  432,  2270,  5094,  1169,   232],\n",
       "       [   50,   161,   814,  1434,   406],\n",
       "       [    9,    12,    29,   144,   406]], dtype=int64)"
      ]
     },
     "execution_count": 23,
     "metadata": {},
     "output_type": "execute_result"
    }
   ],
   "source": [
    "cnf_matrix = confusion_matrix(y_test_no_cat, best_model.predict(x_test[input_features]),labels=np.sort(y_test_no_cat.unique()))\n",
    "cnf_matrix"
   ]
  },
  {
   "cell_type": "code",
   "execution_count": 24,
   "metadata": {
    "ExecuteTime": {
     "end_time": "2020-04-12T18:17:22.543907Z",
     "start_time": "2020-04-12T18:17:21.979981Z"
    }
   },
   "outputs": [
    {
     "name": "stdout",
     "output_type": "stream",
     "text": [
      "              precision    recall  f1-score   support\n",
      "\n",
      "           0       0.72      0.79      0.75     14947\n",
      "           1       0.64      0.56      0.60     17238\n",
      "           2       0.57      0.55      0.56      9197\n",
      "           3       0.44      0.50      0.47      2865\n",
      "           4       0.34      0.68      0.45       600\n",
      "\n",
      "    accuracy                           0.63     44847\n",
      "   macro avg       0.54      0.62      0.57     44847\n",
      "weighted avg       0.64      0.63      0.63     44847\n",
      "\n"
     ]
    }
   ],
   "source": [
    "print(classification_report(y_test_no_cat, best_model.predict(x_test[input_features])))"
   ]
  },
  {
   "cell_type": "markdown",
   "metadata": {},
   "source": [
    "# Redes neuronales"
   ]
  },
  {
   "cell_type": "markdown",
   "metadata": {},
   "source": [
    "### Una especie de regresion logistica con 5 salidas solo num"
   ]
  },
  {
   "cell_type": "code",
   "execution_count": 15,
   "metadata": {
    "ExecuteTime": {
     "end_time": "2020-04-26T20:19:00.862080Z",
     "start_time": "2020-04-26T20:19:00.743340Z"
    }
   },
   "outputs": [
    {
     "name": "stdout",
     "output_type": "stream",
     "text": [
      "Model: \"model\"\n",
      "_________________________________________________________________\n",
      "Layer (type)                 Output Shape              Param #   \n",
      "=================================================================\n",
      "input_1 (InputLayer)         [(None, 3)]               0         \n",
      "_________________________________________________________________\n",
      "Output (Dense)               (None, 5)                 20        \n",
      "=================================================================\n",
      "Total params: 20\n",
      "Trainable params: 20\n",
      "Non-trainable params: 0\n",
      "_________________________________________________________________\n"
     ]
    }
   ],
   "source": [
    "i_features = Input(shape=(len(input_features)))\n",
    "\n",
    "o = Dense(max(data['porcentaje ocupacion'])+1, activation='softmax', name='Output')(i_features)\n",
    "\n",
    "model = Model(inputs=i_features, outputs=o)\n",
    "model.summary()\n",
    "model.compile(loss='categorical_crossentropy', optimizer='adam', metrics=['categorical_accuracy'])"
   ]
  },
  {
   "cell_type": "code",
   "execution_count": 16,
   "metadata": {
    "ExecuteTime": {
     "end_time": "2020-04-26T20:20:03.412301Z",
     "start_time": "2020-04-26T20:19:01.100351Z"
    }
   },
   "outputs": [
    {
     "name": "stdout",
     "output_type": "stream",
     "text": [
      "WARNING:tensorflow:Falling back from v2 loop because of error: Failed to find data adapter that can handle input: <class 'pandas.core.frame.DataFrame'>, <class 'NoneType'>\n",
      "Train on 403619 samples, validate on 44847 samples\n",
      "Epoch 1/10\n",
      "403619/403619 [==============================] - 6s 15us/sample - loss: 1.1054 - categorical_accuracy: 0.5716 - val_loss: 0.9110 - val_categorical_accuracy: 0.6103\n",
      "Epoch 2/10\n",
      "403619/403619 [==============================] - 6s 15us/sample - loss: 0.9018 - categorical_accuracy: 0.6162 - val_loss: 0.8961 - val_categorical_accuracy: 0.6169\n",
      "Epoch 3/10\n",
      "403619/403619 [==============================] - 6s 15us/sample - loss: 0.8929 - categorical_accuracy: 0.6192 - val_loss: 0.8890 - val_categorical_accuracy: 0.6193\n",
      "Epoch 4/10\n",
      "403619/403619 [==============================] - 6s 15us/sample - loss: 0.8889 - categorical_accuracy: 0.6203 - val_loss: 0.8873 - val_categorical_accuracy: 0.6186\n",
      "Epoch 5/10\n",
      "403619/403619 [==============================] - 6s 16us/sample - loss: 0.8864 - categorical_accuracy: 0.6209 - val_loss: 0.8852 - val_categorical_accuracy: 0.6202s - loss: 0.8868 - \n",
      "Epoch 6/10\n",
      "403619/403619 [==============================] - 6s 16us/sample - loss: 0.8847 - categorical_accuracy: 0.6218 - val_loss: 0.8831 - val_categorical_accuracy: 0.6217\n",
      "Epoch 7/10\n",
      "403619/403619 [==============================] - 6s 16us/sample - loss: 0.8837 - categorical_accuracy: 0.6219 - val_loss: 0.8829 - val_categorical_accuracy: 0.6207\n",
      "Epoch 8/10\n",
      "403619/403619 [==============================] - 6s 16us/sample - loss: 0.8829 - categorical_accuracy: 0.6226 - val_loss: 0.8853 - val_categorical_accuracy: 0.6301\n",
      "Epoch 9/10\n",
      "403619/403619 [==============================] - 6s 15us/sample - loss: 0.8824 - categorical_accuracy: 0.6226 - val_loss: 0.8827 - val_categorical_accuracy: 0.6218\n",
      "Epoch 10/10\n",
      "403619/403619 [==============================] - 6s 15us/sample - loss: 0.8820 - categorical_accuracy: 0.6231 - val_loss: 0.8810 - val_categorical_accuracy: 0.6223\n"
     ]
    }
   ],
   "source": [
    "h = model.fit(x_train[input_features], y_train, epochs=10, batch_size=64, class_weight=class_weight, validation_data=[x_test[input_features],y_test])"
   ]
  },
  {
   "cell_type": "code",
   "execution_count": 17,
   "metadata": {
    "ExecuteTime": {
     "end_time": "2020-04-26T20:20:03.980594Z",
     "start_time": "2020-04-26T20:20:03.414295Z"
    }
   },
   "outputs": [
    {
     "name": "stdout",
     "output_type": "stream",
     "text": [
      "WARNING:tensorflow:Falling back from v2 loop because of error: Failed to find data adapter that can handle input: <class 'pandas.core.frame.DataFrame'>, <class 'NoneType'>\n"
     ]
    },
    {
     "data": {
      "text/plain": [
       "array([[11142,  3597,   176,    31,     1],\n",
       "       [ 4097, 10867,  2123,   151,     0],\n",
       "       [  428,  3220,  4910,   636,     3],\n",
       "       [   52,   367,  1460,   979,     7],\n",
       "       [    9,    27,   127,   426,    11]], dtype=int64)"
      ]
     },
     "execution_count": 17,
     "metadata": {},
     "output_type": "execute_result"
    }
   ],
   "source": [
    "pred = [x.argmax() for x in model.predict(x_test[input_features])]\n",
    "\n",
    "cnf_matrix = confusion_matrix(y_test_no_cat, pred,labels=np.sort(y_test_no_cat.unique()))\n",
    "cnf_matrix"
   ]
  },
  {
   "cell_type": "code",
   "execution_count": 18,
   "metadata": {
    "ExecuteTime": {
     "end_time": "2020-04-26T20:20:04.066419Z",
     "start_time": "2020-04-26T20:20:03.982589Z"
    }
   },
   "outputs": [
    {
     "name": "stdout",
     "output_type": "stream",
     "text": [
      "              precision    recall  f1-score   support\n",
      "\n",
      "           0       0.71      0.75      0.73     14947\n",
      "           1       0.60      0.63      0.62     17238\n",
      "           2       0.56      0.53      0.55      9197\n",
      "           3       0.44      0.34      0.38      2865\n",
      "           4       0.50      0.02      0.04       600\n",
      "\n",
      "    accuracy                           0.62     44847\n",
      "   macro avg       0.56      0.45      0.46     44847\n",
      "weighted avg       0.62      0.62      0.62     44847\n",
      "\n"
     ]
    }
   ],
   "source": [
    "print(classification_report(y_test_no_cat, pred))"
   ]
  },
  {
   "cell_type": "markdown",
   "metadata": {},
   "source": [
    "### La misma especie de regresio logistica con 5 salidas pero con valores categoricos tambien"
   ]
  },
  {
   "cell_type": "code",
   "execution_count": 29,
   "metadata": {
    "ExecuteTime": {
     "end_time": "2020-04-12T18:18:23.078491Z",
     "start_time": "2020-04-12T18:18:22.912550Z"
    }
   },
   "outputs": [
    {
     "name": "stdout",
     "output_type": "stream",
     "text": [
      "Model: \"model_1\"\n",
      "__________________________________________________________________________________________________\n",
      "Layer (type)                    Output Shape         Param #     Connected to                     \n",
      "==================================================================================================\n",
      "input_3 (InputLayer)            [(None, 1)]          0                                            \n",
      "__________________________________________________________________________________________________\n",
      "embedding (Embedding)           (None, 1, 10)        1910        input_3[0][0]                    \n",
      "__________________________________________________________________________________________________\n",
      "input_4 (InputLayer)            [(None, 1)]          0                                            \n",
      "__________________________________________________________________________________________________\n",
      "input_2 (InputLayer)            [(None, 3)]          0                                            \n",
      "__________________________________________________________________________________________________\n",
      "flatten (Flatten)               (None, 10)           0           embedding[0][0]                  \n",
      "__________________________________________________________________________________________________\n",
      "embedding_1 (Embedding)         (None, 1, 5)         35          input_4[0][0]                    \n",
      "__________________________________________________________________________________________________\n",
      "input_5 (InputLayer)            [(None, 1)]          0                                            \n",
      "__________________________________________________________________________________________________\n",
      "concatenate (Concatenate)       multiple             0           input_2[0][0]                    \n",
      "                                                                 flatten[0][0]                    \n",
      "                                                                 concatenate[0][0]                \n",
      "                                                                 flatten_1[0][0]                  \n",
      "                                                                 concatenate[1][0]                \n",
      "                                                                 flatten_2[0][0]                  \n",
      "__________________________________________________________________________________________________\n",
      "flatten_1 (Flatten)             (None, 5)            0           embedding_1[0][0]                \n",
      "__________________________________________________________________________________________________\n",
      "embedding_2 (Embedding)         (None, 1, 5)         65          input_5[0][0]                    \n",
      "__________________________________________________________________________________________________\n",
      "flatten_2 (Flatten)             (None, 5)            0           embedding_2[0][0]                \n",
      "__________________________________________________________________________________________________\n",
      "Output (Dense)                  (None, 5)            120         concatenate[2][0]                \n",
      "==================================================================================================\n",
      "Total params: 2,130\n",
      "Trainable params: 2,130\n",
      "Non-trainable params: 0\n",
      "__________________________________________________________________________________________________\n"
     ]
    }
   ],
   "source": [
    "i_features = Input(shape=(len(input_features)))\n",
    "\n",
    "max_street=max((data['id_cuadra'].drop_duplicates()))\n",
    "\n",
    "i_street = Input(shape=(1))\n",
    "emb_street = Embedding(input_dim=max_street+1, output_dim=10)(i_street)\n",
    "flat_street = Flatten()(emb_street)\n",
    "\n",
    "i_weekday = Input(shape=(1))\n",
    "emb_weekday = Embedding(input_dim=7, output_dim=5)(i_weekday)\n",
    "flat_weekday = Flatten()(emb_weekday)\n",
    "\n",
    "i_month = Input(shape=(1))\n",
    "emb_month = Embedding(input_dim=12+1, output_dim=5)(i_month)\n",
    "flat_month = Flatten()(emb_month)\n",
    "\n",
    "concat = Concatenate(axis=-1)\n",
    "d = concat([i_features, flat_street])\n",
    "d = concat([d, flat_weekday])\n",
    "d = concat([d, flat_month])\n",
    "\n",
    "o = Dense(max(data['porcentaje ocupacion'])+1, activation='softmax', name='Output')(d)\n",
    "\n",
    "model = Model(inputs=[i_features,i_street,i_weekday, i_month], outputs=o)\n",
    "model.summary()\n",
    "model.compile(loss='categorical_crossentropy', optimizer='adam', metrics=['categorical_accuracy'])"
   ]
  },
  {
   "cell_type": "code",
   "execution_count": 30,
   "metadata": {
    "ExecuteTime": {
     "end_time": "2020-04-12T18:19:47.774896Z",
     "start_time": "2020-04-12T18:18:23.080486Z"
    }
   },
   "outputs": [
    {
     "name": "stdout",
     "output_type": "stream",
     "text": [
      "WARNING:tensorflow:Falling back from v2 loop because of error: Failed to find data adapter that can handle input: (<class 'list'> containing values of types {\"<class 'pandas.core.series.Series'>\", \"<class 'pandas.core.frame.DataFrame'>\"}), <class 'NoneType'>\n",
      "Train on 403619 samples, validate on 44847 samples\n",
      "Epoch 1/10\n",
      "403619/403619 [==============================] - 8s 21us/sample - loss: 0.9276 - categorical_accuracy: 0.6120 - val_loss: 0.8292 - val_categorical_accuracy: 0.6341\n",
      "Epoch 2/10\n",
      "403619/403619 [==============================] - 8s 21us/sample - loss: 0.8181 - categorical_accuracy: 0.6398 - val_loss: 0.8179 - val_categorical_accuracy: 0.6387\n",
      "Epoch 3/10\n",
      "403619/403619 [==============================] - 8s 21us/sample - loss: 0.8128 - categorical_accuracy: 0.6418 - val_loss: 0.8166 - val_categorical_accuracy: 0.6366\n",
      "Epoch 4/10\n",
      "403619/403619 [==============================] - 8s 21us/sample - loss: 0.8114 - categorical_accuracy: 0.6424 - val_loss: 0.8152 - val_categorical_accuracy: 0.6402\n",
      "Epoch 5/10\n",
      "403619/403619 [==============================] - 8s 21us/sample - loss: 0.8107 - categorical_accuracy: 0.6428 - val_loss: 0.8142 - val_categorical_accuracy: 0.6401\n",
      "Epoch 6/10\n",
      "403619/403619 [==============================] - 8s 21us/sample - loss: 0.8104 - categorical_accuracy: 0.6424 - val_loss: 0.8147 - val_categorical_accuracy: 0.6386\n",
      "Epoch 7/10\n",
      "403619/403619 [==============================] - 9s 22us/sample - loss: 0.8102 - categorical_accuracy: 0.6430 - val_loss: 0.8139 - val_categorical_accuracy: 0.6396\n",
      "Epoch 8/10\n",
      "403619/403619 [==============================] - 8s 21us/sample - loss: 0.8099 - categorical_accuracy: 0.6428 - val_loss: 0.8175 - val_categorical_accuracy: 0.6385\n",
      "Epoch 9/10\n",
      "403619/403619 [==============================] - 9s 21us/sample - loss: 0.8099 - categorical_accuracy: 0.6427 - val_loss: 0.8137 - val_categorical_accuracy: 0.6398\n",
      "Epoch 10/10\n",
      "403619/403619 [==============================] - 8s 20us/sample - loss: 0.8097 - categorical_accuracy: 0.6425 - val_loss: 0.8143 - val_categorical_accuracy: 0.6402\n"
     ]
    }
   ],
   "source": [
    "h = model.fit([x_train[input_features],x_train['id_cuadra'], x_train['dia de la semana'], x_train['mes']], y_train, epochs=10, batch_size=64, class_weight=class_weight, validation_data=[[x_test[input_features],x_test['id_cuadra'], x_test['dia de la semana'], x_test['mes']],y_test])"
   ]
  },
  {
   "cell_type": "code",
   "execution_count": 31,
   "metadata": {
    "ExecuteTime": {
     "end_time": "2020-04-12T18:19:48.622401Z",
     "start_time": "2020-04-12T18:19:47.775891Z"
    }
   },
   "outputs": [
    {
     "name": "stdout",
     "output_type": "stream",
     "text": [
      "WARNING:tensorflow:Falling back from v2 loop because of error: Failed to find data adapter that can handle input: (<class 'list'> containing values of types {\"<class 'pandas.core.series.Series'>\", \"<class 'pandas.core.frame.DataFrame'>\"}), <class 'NoneType'>\n"
     ]
    },
    {
     "data": {
      "text/plain": [
       "array([[11106,  3711,   105,    21,     4],\n",
       "       [ 3699, 11699,  1702,   120,    18],\n",
       "       [  291,  3823,  4571,   489,    23],\n",
       "       [   24,   470,  1161,  1166,    44],\n",
       "       [    4,    38,    70,   319,   169]], dtype=int64)"
      ]
     },
     "execution_count": 31,
     "metadata": {},
     "output_type": "execute_result"
    }
   ],
   "source": [
    "pred = [x.argmax() for x in model.predict([x_test[input_features],x_test['id_cuadra'], x_test['dia de la semana'], x_test['mes']])]\n",
    "\n",
    "cnf_matrix = confusion_matrix(y_test_no_cat, pred,labels=np.sort(y_test_no_cat.unique()))\n",
    "cnf_matrix"
   ]
  },
  {
   "cell_type": "code",
   "execution_count": 32,
   "metadata": {
    "ExecuteTime": {
     "end_time": "2020-04-12T18:19:48.706184Z",
     "start_time": "2020-04-12T18:19:48.624394Z"
    }
   },
   "outputs": [
    {
     "name": "stdout",
     "output_type": "stream",
     "text": [
      "              precision    recall  f1-score   support\n",
      "\n",
      "           0       0.73      0.74      0.74     14947\n",
      "           1       0.59      0.68      0.63     17238\n",
      "           2       0.60      0.50      0.54      9197\n",
      "           3       0.55      0.41      0.47      2865\n",
      "           4       0.66      0.28      0.39       600\n",
      "\n",
      "    accuracy                           0.64     44847\n",
      "   macro avg       0.63      0.52      0.56     44847\n",
      "weighted avg       0.64      0.64      0.64     44847\n",
      "\n"
     ]
    }
   ],
   "source": [
    "print(classification_report(y_test_no_cat, pred))"
   ]
  },
  {
   "cell_type": "code",
   "execution_count": 33,
   "metadata": {
    "ExecuteTime": {
     "end_time": "2020-04-12T18:19:48.712160Z",
     "start_time": "2020-04-12T18:19:48.707174Z"
    }
   },
   "outputs": [
    {
     "data": {
      "text/plain": [
       "\"comp = pd.DataFrame([y_t, pred]).T\\ncomp.rename({0: 'y',\\n             1: 'yhat'}, axis=1, inplace=True)\\ncomp[0:50]\""
      ]
     },
     "execution_count": 33,
     "metadata": {},
     "output_type": "execute_result"
    }
   ],
   "source": [
    "'''comp = pd.DataFrame([y_t, pred]).T\n",
    "comp.rename({0: 'y',\n",
    "             1: 'yhat'}, axis=1, inplace=True)\n",
    "comp[0:50]'''"
   ]
  },
  {
   "cell_type": "markdown",
   "metadata": {},
   "source": [
    "### red neuronal Solo var num "
   ]
  },
  {
   "cell_type": "code",
   "execution_count": 34,
   "metadata": {
    "ExecuteTime": {
     "end_time": "2020-04-12T18:19:48.855776Z",
     "start_time": "2020-04-12T18:19:48.714154Z"
    }
   },
   "outputs": [
    {
     "name": "stdout",
     "output_type": "stream",
     "text": [
      "Model: \"model_2\"\n",
      "_________________________________________________________________\n",
      "Layer (type)                 Output Shape              Param #   \n",
      "=================================================================\n",
      "input_6 (InputLayer)         [(None, 3)]               0         \n",
      "_________________________________________________________________\n",
      "dense (Dense)                (None, 64)                256       \n",
      "_________________________________________________________________\n",
      "dropout (Dropout)            (None, 64)                0         \n",
      "_________________________________________________________________\n",
      "dense_1 (Dense)              (None, 64)                4160      \n",
      "_________________________________________________________________\n",
      "Output (Dense)               (None, 5)                 325       \n",
      "=================================================================\n",
      "Total params: 4,741\n",
      "Trainable params: 4,741\n",
      "Non-trainable params: 0\n",
      "_________________________________________________________________\n"
     ]
    }
   ],
   "source": [
    "i_features = Input(shape=(len(input_features)))\n",
    "d = Dense(64, activation='relu')(i_features)\n",
    "d = Dropout(0.3)(d)\n",
    "d = Dense(64, activation='relu')(d)\n",
    "o = Dense(max(data['porcentaje ocupacion'])+1, activation='softmax', name='Output')(d)\n",
    "\n",
    "model = Model(inputs=i_features, outputs=o)\n",
    "model.summary()\n",
    "model.compile(loss='categorical_crossentropy', optimizer='adam', metrics=['categorical_accuracy'])"
   ]
  },
  {
   "cell_type": "code",
   "execution_count": 35,
   "metadata": {
    "ExecuteTime": {
     "end_time": "2020-04-12T18:21:11.116999Z",
     "start_time": "2020-04-12T18:19:48.857770Z"
    }
   },
   "outputs": [
    {
     "name": "stdout",
     "output_type": "stream",
     "text": [
      "WARNING:tensorflow:Falling back from v2 loop because of error: Failed to find data adapter that can handle input: <class 'pandas.core.frame.DataFrame'>, <class 'NoneType'>\n",
      "Train on 403619 samples, validate on 44847 samples\n",
      "Epoch 1/10\n",
      "403619/403619 [==============================] - 8s 21us/sample - loss: 0.9085 - categorical_accuracy: 0.6132 - val_loss: 0.8669 - val_categorical_accuracy: 0.6271\n",
      "Epoch 2/10\n",
      "403619/403619 [==============================] - 8s 20us/sample - loss: 0.8656 - categorical_accuracy: 0.6302 - val_loss: 0.8587 - val_categorical_accuracy: 0.6332\n",
      "Epoch 3/10\n",
      "403619/403619 [==============================] - 8s 21us/sample - loss: 0.8545 - categorical_accuracy: 0.6341 - val_loss: 0.8522 - val_categorical_accuracy: 0.6352\n",
      "Epoch 4/10\n",
      "403619/403619 [==============================] - 8s 19us/sample - loss: 0.8485 - categorical_accuracy: 0.6365 - val_loss: 0.8422 - val_categorical_accuracy: 0.6378\n",
      "Epoch 5/10\n",
      "403619/403619 [==============================] - 8s 21us/sample - loss: 0.8423 - categorical_accuracy: 0.6396 - val_loss: 0.8410 - val_categorical_accuracy: 0.6392\n",
      "Epoch 6/10\n",
      "403619/403619 [==============================] - 8s 20us/sample - loss: 0.8362 - categorical_accuracy: 0.6412 - val_loss: 0.8341 - val_categorical_accuracy: 0.6440\n",
      "Epoch 7/10\n",
      "403619/403619 [==============================] - 9s 21us/sample - loss: 0.8330 - categorical_accuracy: 0.6423 - val_loss: 0.8399 - val_categorical_accuracy: 0.6402\n",
      "Epoch 8/10\n",
      "403619/403619 [==============================] - 8s 20us/sample - loss: 0.8297 - categorical_accuracy: 0.6433 - val_loss: 0.8385 - val_categorical_accuracy: 0.6411\n",
      "Epoch 9/10\n",
      "403619/403619 [==============================] - 9s 21us/sample - loss: 0.8279 - categorical_accuracy: 0.6441 - val_loss: 0.8413 - val_categorical_accuracy: 0.6325\n",
      "Epoch 10/10\n",
      "403619/403619 [==============================] - 8s 19us/sample - loss: 0.8264 - categorical_accuracy: 0.6454 - val_loss: 0.8331 - val_categorical_accuracy: 0.6419\n"
     ]
    }
   ],
   "source": [
    "h = model.fit(x_train[input_features], y_train, epochs=10, batch_size=64, class_weight=class_weight, validation_data=[x_test[input_features],y_test])"
   ]
  },
  {
   "cell_type": "code",
   "execution_count": 36,
   "metadata": {
    "ExecuteTime": {
     "end_time": "2020-04-12T18:21:11.815380Z",
     "start_time": "2020-04-12T18:21:11.117994Z"
    }
   },
   "outputs": [
    {
     "name": "stdout",
     "output_type": "stream",
     "text": [
      "WARNING:tensorflow:Falling back from v2 loop because of error: Failed to find data adapter that can handle input: <class 'pandas.core.frame.DataFrame'>, <class 'NoneType'>\n"
     ]
    },
    {
     "data": {
      "text/plain": [
       "array([[11201,  3551,   186,     9,     0],\n",
       "       [ 3445, 11227,  2502,    64,     0],\n",
       "       [  313,  3073,  5454,   357,     0],\n",
       "       [   36,   273,  1657,   897,     2],\n",
       "       [    5,    21,   183,   382,     9]], dtype=int64)"
      ]
     },
     "execution_count": 36,
     "metadata": {},
     "output_type": "execute_result"
    }
   ],
   "source": [
    "pred = [x.argmax() for x in model.predict(x_test[input_features])]\n",
    "\n",
    "cnf_matrix = confusion_matrix(y_test_no_cat, pred,labels=np.sort(y_test_no_cat.unique()))\n",
    "cnf_matrix"
   ]
  },
  {
   "cell_type": "code",
   "execution_count": 37,
   "metadata": {
    "ExecuteTime": {
     "end_time": "2020-04-12T18:21:12.373408Z",
     "start_time": "2020-04-12T18:21:11.817374Z"
    }
   },
   "outputs": [
    {
     "name": "stdout",
     "output_type": "stream",
     "text": [
      "              precision    recall  f1-score   support\n",
      "\n",
      "           0       0.72      0.79      0.75     14947\n",
      "           1       0.64      0.56      0.60     17238\n",
      "           2       0.57      0.55      0.56      9197\n",
      "           3       0.44      0.50      0.47      2865\n",
      "           4       0.34      0.68      0.45       600\n",
      "\n",
      "    accuracy                           0.63     44847\n",
      "   macro avg       0.54      0.62      0.57     44847\n",
      "weighted avg       0.64      0.63      0.63     44847\n",
      "\n"
     ]
    }
   ],
   "source": [
    "print(classification_report(y_test_no_cat, best_model.predict(x_test[input_features])))"
   ]
  },
  {
   "cell_type": "code",
   "execution_count": 38,
   "metadata": {
    "ExecuteTime": {
     "end_time": "2020-04-12T18:21:12.379422Z",
     "start_time": "2020-04-12T18:21:12.375400Z"
    }
   },
   "outputs": [
    {
     "data": {
      "text/plain": [
       "\"comp = pd.DataFrame([y_t, pred]).T\\ncomp.rename({0: 'y',\\n             1: 'yhat'}, axis=1, inplace=True)\\ncomp[0:50]\""
      ]
     },
     "execution_count": 38,
     "metadata": {},
     "output_type": "execute_result"
    }
   ],
   "source": [
    "'''comp = pd.DataFrame([y_t, pred]).T\n",
    "comp.rename({0: 'y',\n",
    "             1: 'yhat'}, axis=1, inplace=True)\n",
    "comp[0:50]'''"
   ]
  },
  {
   "cell_type": "markdown",
   "metadata": {},
   "source": [
    "### Red neuronal Var num y cat "
   ]
  },
  {
   "cell_type": "code",
   "execution_count": 48,
   "metadata": {
    "ExecuteTime": {
     "end_time": "2020-04-24T20:28:07.974459Z",
     "start_time": "2020-04-24T20:28:07.362095Z"
    }
   },
   "outputs": [
    {
     "name": "stdout",
     "output_type": "stream",
     "text": [
      "Model: \"model_6\"\n",
      "__________________________________________________________________________________________________\n",
      "Layer (type)                    Output Shape         Param #     Connected to                     \n",
      "==================================================================================================\n",
      "input_20 (InputLayer)           [(None, 1)]          0                                            \n",
      "__________________________________________________________________________________________________\n",
      "embedding_15 (Embedding)        (None, 1, 10)        1910        input_20[0][0]                   \n",
      "__________________________________________________________________________________________________\n",
      "input_21 (InputLayer)           [(None, 1)]          0                                            \n",
      "__________________________________________________________________________________________________\n",
      "input_19 (InputLayer)           [(None, 3)]          0                                            \n",
      "__________________________________________________________________________________________________\n",
      "flatten_15 (Flatten)            (None, 10)           0           embedding_15[0][0]               \n",
      "__________________________________________________________________________________________________\n",
      "embedding_16 (Embedding)        (None, 1, 5)         35          input_21[0][0]                   \n",
      "__________________________________________________________________________________________________\n",
      "input_22 (InputLayer)           [(None, 1)]          0                                            \n",
      "__________________________________________________________________________________________________\n",
      "concatenate_3 (Concatenate)     multiple             0           input_19[0][0]                   \n",
      "                                                                 flatten_15[0][0]                 \n",
      "                                                                 concatenate_3[0][0]              \n",
      "                                                                 flatten_16[0][0]                 \n",
      "                                                                 concatenate_3[1][0]              \n",
      "                                                                 flatten_17[0][0]                 \n",
      "__________________________________________________________________________________________________\n",
      "flatten_16 (Flatten)            (None, 5)            0           embedding_16[0][0]               \n",
      "__________________________________________________________________________________________________\n",
      "embedding_17 (Embedding)        (None, 1, 5)         65          input_22[0][0]                   \n",
      "__________________________________________________________________________________________________\n",
      "flatten_17 (Flatten)            (None, 5)            0           embedding_17[0][0]               \n",
      "__________________________________________________________________________________________________\n",
      "batch_normalization_18 (BatchNo (None, 23)           92          concatenate_3[2][0]              \n",
      "__________________________________________________________________________________________________\n",
      "dense_27 (Dense)                (None, 256)          6144        batch_normalization_18[0][0]     \n",
      "__________________________________________________________________________________________________\n",
      "dropout_18 (Dropout)            (None, 256)          0           dense_27[0][0]                   \n",
      "__________________________________________________________________________________________________\n",
      "dense_28 (Dense)                (None, 512)          131584      dropout_18[0][0]                 \n",
      "__________________________________________________________________________________________________\n",
      "batch_normalization_19 (BatchNo (None, 512)          2048        dense_28[0][0]                   \n",
      "__________________________________________________________________________________________________\n",
      "dropout_19 (Dropout)            (None, 512)          0           batch_normalization_19[0][0]     \n",
      "__________________________________________________________________________________________________\n",
      "dense_29 (Dense)                (None, 512)          262656      dropout_19[0][0]                 \n",
      "__________________________________________________________________________________________________\n",
      "batch_normalization_20 (BatchNo (None, 512)          2048        dense_29[0][0]                   \n",
      "__________________________________________________________________________________________________\n",
      "dense_30 (Dense)                (None, 256)          131328      batch_normalization_20[0][0]     \n",
      "__________________________________________________________________________________________________\n",
      "dropout_20 (Dropout)            (None, 256)          0           dense_30[0][0]                   \n",
      "__________________________________________________________________________________________________\n",
      "Output (Dense)                  (None, 5)            1285        dropout_20[0][0]                 \n",
      "==================================================================================================\n",
      "Total params: 539,195\n",
      "Trainable params: 537,101\n",
      "Non-trainable params: 2,094\n",
      "__________________________________________________________________________________________________\n"
     ]
    }
   ],
   "source": [
    "i_features = Input(shape=(len(input_features)))\n",
    "\n",
    "max_street=max((data['id_cuadra'].drop_duplicates()))\n",
    "\n",
    "i_street = Input(shape=(1))\n",
    "emb_street = Embedding(input_dim=max_street+1, output_dim=10)(i_street)\n",
    "flat_street = Flatten()(emb_street)\n",
    "\n",
    "i_weekday = Input(shape=(1))\n",
    "emb_weekday = Embedding(input_dim=7, output_dim=5)(i_weekday)\n",
    "flat_weekday = Flatten()(emb_weekday)\n",
    "\n",
    "i_month = Input(shape=(1))\n",
    "emb_month = Embedding(input_dim=12+1, output_dim=5)(i_month)\n",
    "flat_month = Flatten()(emb_month)\n",
    "\n",
    "concat = Concatenate(axis=-1)\n",
    "d = concat([i_features, flat_street])\n",
    "d = concat([d, flat_weekday])\n",
    "d = concat([d, flat_month])\n",
    "\n",
    "d = BatchNormalization()(d)\n",
    "d = Dense(256, activation='relu')(d)\n",
    "d = Dropout(0.2)(d)\n",
    "d = Dense(512, activation='relu')(d)\n",
    "d = BatchNormalization()(d)\n",
    "d = Dropout(0.2)(d)\n",
    "d = Dense(512, activation='relu')(d)\n",
    "\n",
    "\n",
    "d = BatchNormalization()(d)\n",
    "d = Dense(256, activation='relu')(d)\n",
    "d = Dropout(0.2)(d)\n",
    "\n",
    "o = Dense(max(data['porcentaje ocupacion'])+1, activation='softmax', name='Output')(d)\n",
    "\n",
    "model = Model(inputs=[i_features,i_street,i_weekday, i_month], outputs=o)\n",
    "model.summary()\n",
    "model.compile(loss='categorical_crossentropy', optimizer='adam', metrics=['categorical_accuracy'])"
   ]
  },
  {
   "cell_type": "code",
   "execution_count": 49,
   "metadata": {
    "ExecuteTime": {
     "end_time": "2020-04-24T20:40:33.059607Z",
     "start_time": "2020-04-24T20:28:07.977075Z"
    }
   },
   "outputs": [
    {
     "name": "stdout",
     "output_type": "stream",
     "text": [
      "WARNING:tensorflow:Falling back from v2 loop because of error: Failed to find data adapter that can handle input: (<class 'list'> containing values of types {\"<class 'pandas.core.series.Series'>\", \"<class 'pandas.core.frame.DataFrame'>\"}), <class 'NoneType'>\n",
      "Train on 403619 samples, validate on 44847 samples\n",
      "Epoch 1/10\n",
      "403619/403619 [==============================] - 87s 216us/sample - loss: 0.8441 - categorical_accuracy: 0.6297 - val_loss: 0.7604 - val_categorical_accuracy: 0.6660\n",
      "Epoch 2/10\n",
      "403619/403619 [==============================] - 76s 188us/sample - loss: 0.7951 - categorical_accuracy: 0.6491 - val_loss: 0.7472 - val_categorical_accuracy: 0.6704\n",
      "Epoch 3/10\n",
      "403619/403619 [==============================] - 77s 191us/sample - loss: 0.7806 - categorical_accuracy: 0.6547 - val_loss: 0.7410 - val_categorical_accuracy: 0.6717\n",
      "Epoch 4/10\n",
      "403619/403619 [==============================] - 82s 202us/sample - loss: 0.7727 - categorical_accuracy: 0.6585 - val_loss: 0.7345 - val_categorical_accuracy: 0.6745\n",
      "Epoch 5/10\n",
      "403619/403619 [==============================] - 67s 166us/sample - loss: 0.7680 - categorical_accuracy: 0.6605 - val_loss: 0.7271 - val_categorical_accuracy: 0.6754\n",
      "Epoch 6/10\n",
      "403619/403619 [==============================] - 66s 163us/sample - loss: 0.7633 - categorical_accuracy: 0.6619 - val_loss: 0.7322 - val_categorical_accuracy: 0.6757\n",
      "Epoch 7/10\n",
      "403619/403619 [==============================] - 60s 149us/sample - loss: 0.7610 - categorical_accuracy: 0.6629 - val_loss: 0.7276 - val_categorical_accuracy: 0.6772\n",
      "Epoch 8/10\n",
      "403619/403619 [==============================] - 66s 162us/sample - loss: 0.7590 - categorical_accuracy: 0.6640 - val_loss: 0.7263 - val_categorical_accuracy: 0.6779\n",
      "Epoch 9/10\n",
      "403619/403619 [==============================] - 76s 188us/sample - loss: 0.7563 - categorical_accuracy: 0.6653 - val_loss: 0.7247 - val_categorical_accuracy: 0.6773\n",
      "Epoch 10/10\n",
      "403619/403619 [==============================] - 62s 154us/sample - loss: 0.7550 - categorical_accuracy: 0.6657 - val_loss: 0.7212 - val_categorical_accuracy: 0.6808\n"
     ]
    }
   ],
   "source": [
    "h = model.fit([x_train[input_features],x_train['id_cuadra'], x_train['dia de la semana'], x_train['mes']], y_train, epochs=10, batch_size=64, class_weight=class_weight, validation_data=[[x_test[input_features],x_test['id_cuadra'], x_test['dia de la semana'], x_test['mes']],y_test])"
   ]
  },
  {
   "cell_type": "code",
   "execution_count": 50,
   "metadata": {
    "ExecuteTime": {
     "end_time": "2020-04-24T20:40:36.401463Z",
     "start_time": "2020-04-24T20:40:33.061602Z"
    }
   },
   "outputs": [
    {
     "name": "stdout",
     "output_type": "stream",
     "text": [
      "WARNING:tensorflow:Falling back from v2 loop because of error: Failed to find data adapter that can handle input: (<class 'list'> containing values of types {\"<class 'pandas.core.series.Series'>\", \"<class 'pandas.core.frame.DataFrame'>\"}), <class 'NoneType'>\n"
     ]
    },
    {
     "data": {
      "text/plain": [
       "array([[11501,  3336,   103,     6,     1],\n",
       "       [ 3158, 12356,  1675,    43,     6],\n",
       "       [  159,  3405,  5157,   456,    20],\n",
       "       [   13,   381,  1136,  1255,    80],\n",
       "       [    0,    46,    77,   212,   265]], dtype=int64)"
      ]
     },
     "execution_count": 50,
     "metadata": {},
     "output_type": "execute_result"
    }
   ],
   "source": [
    "pred = [x.argmax() for x in model.predict([x_test[input_features],x_test['id_cuadra'], x_test['dia de la semana'], x_test['mes']])]\n",
    "\n",
    "cnf_matrix = confusion_matrix(y_test_no_cat, pred,labels=np.sort(y_test_no_cat.unique()))\n",
    "cnf_matrix"
   ]
  },
  {
   "cell_type": "code",
   "execution_count": 51,
   "metadata": {
    "ExecuteTime": {
     "end_time": "2020-04-24T20:40:36.496964Z",
     "start_time": "2020-04-24T20:40:36.402510Z"
    }
   },
   "outputs": [
    {
     "name": "stdout",
     "output_type": "stream",
     "text": [
      "              precision    recall  f1-score   support\n",
      "\n",
      "           0       0.78      0.77      0.77     14947\n",
      "           1       0.63      0.72      0.67     17238\n",
      "           2       0.63      0.56      0.59      9197\n",
      "           3       0.64      0.44      0.52      2865\n",
      "           4       0.71      0.44      0.55       600\n",
      "\n",
      "    accuracy                           0.68     44847\n",
      "   macro avg       0.68      0.59      0.62     44847\n",
      "weighted avg       0.68      0.68      0.68     44847\n",
      "\n"
     ]
    }
   ],
   "source": [
    "print(classification_report(y_test_no_cat, pred))"
   ]
  },
  {
   "cell_type": "code",
   "execution_count": 43,
   "metadata": {
    "ExecuteTime": {
     "end_time": "2020-04-12T18:22:35.803721Z",
     "start_time": "2020-04-12T18:22:35.798734Z"
    }
   },
   "outputs": [
    {
     "data": {
      "text/plain": [
       "\"comp = pd.DataFrame([y_t, pred]).T\\ncomp.rename({0: 'y',\\n             1: 'yhat'}, axis=1, inplace=True)\\ncomp[0:50]\""
      ]
     },
     "execution_count": 43,
     "metadata": {},
     "output_type": "execute_result"
    }
   ],
   "source": [
    "'''comp = pd.DataFrame([y_t, pred]).T\n",
    "comp.rename({0: 'y',\n",
    "             1: 'yhat'}, axis=1, inplace=True)\n",
    "comp[0:50]'''"
   ]
  },
  {
   "cell_type": "markdown",
   "metadata": {},
   "source": [
    "# LSTM"
   ]
  },
  {
   "cell_type": "code",
   "execution_count": 15,
   "metadata": {
    "ExecuteTime": {
     "end_time": "2020-04-24T20:09:32.232306Z",
     "start_time": "2020-04-24T20:06:57.105846Z"
    }
   },
   "outputs": [
    {
     "name": "stdout",
     "output_type": "stream",
     "text": [
      "calle: 190\n"
     ]
    }
   ],
   "source": [
    "#['porcentaje ocupacion','ocupacion','media hora', 'id_cuadra']\n",
    "train_size = 3\n",
    "\n",
    "ocup =[]\n",
    "porc_ocup =[]\n",
    "media_hora =[]\n",
    "mes =[]\n",
    "dia_de_la_semana =[]\n",
    "id_cuadra =[]\n",
    "target =[]\n",
    "for s in data['id_cuadra'].drop_duplicates().sort_values():\n",
    "    clear_output()\n",
    "    print('calle:', s)\n",
    "    \n",
    "    d_s = data.loc[data['id_cuadra'] == s].copy()\n",
    "    \n",
    "    for f in d_s['fecha'].drop_duplicates():\n",
    "        d_f = d_s.loc[d_s['fecha'] == f]\n",
    "        \n",
    "        for i in range(len(d_f) - train_size):\n",
    "            ocup.append(d_f['ocupacion'].iloc[i:i+train_size])\n",
    "            \n",
    "            porc_ocup.append(d_f['porcentaje ocupacion'].iloc[i+train_size])\n",
    "            media_hora.append(d_f[tiempo].iloc[i+train_size])\n",
    "            mes.append(d_f['mes'].iloc[i+train_size])\n",
    "            dia_de_la_semana.append(d_f['dia de la semana'].iloc[i+train_size])\n",
    "            id_cuadra.append(d_f['id_cuadra'].iloc[i+train_size])\n",
    "            target.append(d_f['target'].iloc[i+train_size])"
   ]
  },
  {
   "cell_type": "code",
   "execution_count": 16,
   "metadata": {
    "ExecuteTime": {
     "end_time": "2020-04-24T20:09:34.636038Z",
     "start_time": "2020-04-24T20:09:32.233963Z"
    }
   },
   "outputs": [],
   "source": [
    "from random import shuffle\n",
    "\n",
    "to_shuffle = list(zip(ocup, porc_ocup, media_hora, mes, dia_de_la_semana, id_cuadra, target))\n",
    "shuffle(to_shuffle)\n",
    "ocup, porc_ocup, media_hora, mes, dia_de_la_semana, id_cuadra, target = zip(*to_shuffle)"
   ]
  },
  {
   "cell_type": "code",
   "execution_count": 17,
   "metadata": {
    "ExecuteTime": {
     "end_time": "2020-04-24T20:09:34.782224Z",
     "start_time": "2020-04-24T20:09:34.641677Z"
    }
   },
   "outputs": [],
   "source": [
    "train_test = int(len(porc_ocup) * 0.1)\n",
    "\n",
    "train_ocup = ocup[train_test:]\n",
    "train_porc_ocup = porc_ocup[train_test:]\n",
    "train_media_hora = media_hora[train_test:]\n",
    "train_mes = mes[train_test:]\n",
    "train_dia_de_la_semana = dia_de_la_semana[train_test:]\n",
    "train_id_cuadra = id_cuadra[train_test:]\n",
    "train_target = target[train_test:]\n",
    "\n",
    "test_ocup = ocup[:train_test]\n",
    "test_porc_ocup = porc_ocup[:train_test]\n",
    "test_media_hora = media_hora[:train_test]\n",
    "test_mes = mes[:train_test]\n",
    "test_dia_de_la_semana = dia_de_la_semana[:train_test]\n",
    "test_id_cuadra = id_cuadra[:train_test]\n",
    "test_target = target[:train_test]"
   ]
  },
  {
   "cell_type": "code",
   "execution_count": 18,
   "metadata": {
    "ExecuteTime": {
     "end_time": "2020-04-24T20:09:35.146267Z",
     "start_time": "2020-04-24T20:09:34.782224Z"
    }
   },
   "outputs": [],
   "source": [
    "#porc_ocup = to_categorical(porc_ocup)\n",
    "train_target = to_categorical(train_target,num_classes=max(target)+1)\n",
    "test_target = to_categorical(test_target,num_classes=max(target)+1)"
   ]
  },
  {
   "cell_type": "markdown",
   "metadata": {},
   "source": [
    "# LSTM num"
   ]
  },
  {
   "cell_type": "code",
   "execution_count": 55,
   "metadata": {
    "ExecuteTime": {
     "end_time": "2020-04-12T19:00:45.177351Z",
     "start_time": "2020-04-12T19:00:44.789943Z"
    }
   },
   "outputs": [
    {
     "name": "stdout",
     "output_type": "stream",
     "text": [
      "Model: \"model_6\"\n",
      "__________________________________________________________________________________________________\n",
      "Layer (type)                    Output Shape         Param #     Connected to                     \n",
      "==================================================================================================\n",
      "i_porc_ocup (InputLayer)        [(None, 1)]          0                                            \n",
      "__________________________________________________________________________________________________\n",
      "i_time (InputLayer)             [(None, 1)]          0                                            \n",
      "__________________________________________________________________________________________________\n",
      "i_ocup (InputLayer)             [(None, 3, 1)]       0                                            \n",
      "__________________________________________________________________________________________________\n",
      "input_merge (Concatenate)       multiple             0           i_porc_ocup[0][0]                \n",
      "                                                                 i_time[0][0]                     \n",
      "                                                                 input_merge[0][0]                \n",
      "                                                                 lstm[0][0]                       \n",
      "__________________________________________________________________________________________________\n",
      "lstm (LSTM)                     (None, 10)           480         i_ocup[0][0]                     \n",
      "__________________________________________________________________________________________________\n",
      "Output (Dense)                  (None, 5)            65          input_merge[1][0]                \n",
      "==================================================================================================\n",
      "Total params: 545\n",
      "Trainable params: 545\n",
      "Non-trainable params: 0\n",
      "__________________________________________________________________________________________________\n"
     ]
    }
   ],
   "source": [
    "#porc ocup\n",
    "i_porc_ocup = Input(shape=(1), name='i_porc_ocup')\n",
    "\n",
    "#media hora\n",
    "i_time = Input(shape=(1), name='i_time')\n",
    "\n",
    "#ocup\n",
    "i_ocup = Input(shape=(train_size,1), name='i_ocup')\n",
    "lstm = LSTM(10, return_sequences=False, name='lstm')(i_ocup)\n",
    "\n",
    "\n",
    "concat = Concatenate(axis=-1, name='input_merge')\n",
    "input_merge = concat([i_porc_ocup, i_time])\n",
    "input_merge = concat([input_merge, lstm])\n",
    "\n",
    "o = Dense(max(data['porcentaje ocupacion'])+1, activation='softmax', name='Output')(input_merge)\n",
    "\n",
    "model = Model(inputs=[i_porc_ocup, i_time, i_ocup], outputs=o)\n",
    "model.summary()\n",
    "model.compile(loss='categorical_crossentropy', optimizer='adam', metrics=['categorical_accuracy'])"
   ]
  },
  {
   "cell_type": "code",
   "execution_count": 56,
   "metadata": {
    "ExecuteTime": {
     "end_time": "2020-04-12T19:01:05.910473Z",
     "start_time": "2020-04-12T19:00:47.688943Z"
    }
   },
   "outputs": [],
   "source": [
    "train_ocup_tf = tf.convert_to_tensor(np.array(train_ocup).reshape(-1,train_size,1), np.float64)\n",
    "test_ocup_tf = tf.convert_to_tensor(np.array(test_ocup).reshape(-1,train_size,1), np.float64)"
   ]
  },
  {
   "cell_type": "code",
   "execution_count": 57,
   "metadata": {
    "ExecuteTime": {
     "end_time": "2020-04-12T19:02:14.623296Z",
     "start_time": "2020-04-12T19:01:05.910473Z"
    }
   },
   "outputs": [
    {
     "name": "stdout",
     "output_type": "stream",
     "text": [
      "Train on 330459 samples, validate on 36717 samples\n",
      "Epoch 1/10\n",
      "330459/330459 [==============================] - 9s 28us/sample - loss: 1.1359 - categorical_accuracy: 0.5444 - val_loss: 0.9150 - val_categorical_accuracy: 0.5981\n",
      "Epoch 2/10\n",
      "330459/330459 [==============================] - 7s 20us/sample - loss: 0.8862 - categorical_accuracy: 0.6172 - val_loss: 0.8691 - val_categorical_accuracy: 0.6326\n",
      "Epoch 3/10\n",
      "330459/330459 [==============================] - 7s 20us/sample - loss: 0.8636 - categorical_accuracy: 0.6331 - val_loss: 0.8593 - val_categorical_accuracy: 0.6360\n",
      "Epoch 4/10\n",
      "330459/330459 [==============================] - 6s 20us/sample - loss: 0.8578 - categorical_accuracy: 0.6373 - val_loss: 0.8564 - val_categorical_accuracy: 0.6419\n",
      "Epoch 5/10\n",
      "330459/330459 [==============================] - 7s 20us/sample - loss: 0.8558 - categorical_accuracy: 0.6394 - val_loss: 0.8547 - val_categorical_accuracy: 0.6400\n",
      "Epoch 6/10\n",
      "330459/330459 [==============================] - 7s 20us/sample - loss: 0.8549 - categorical_accuracy: 0.6400 - val_loss: 0.8551 - val_categorical_accuracy: 0.6460\n",
      "Epoch 7/10\n",
      "330459/330459 [==============================] - 7s 20us/sample - loss: 0.8541 - categorical_accuracy: 0.6412 - val_loss: 0.8537 - val_categorical_accuracy: 0.6426\n",
      "Epoch 8/10\n",
      "330459/330459 [==============================] - 7s 20us/sample - loss: 0.8540 - categorical_accuracy: 0.6417 - val_loss: 0.8533 - val_categorical_accuracy: 0.6427\n",
      "Epoch 9/10\n",
      "330459/330459 [==============================] - 6s 20us/sample - loss: 0.8537 - categorical_accuracy: 0.6418 - val_loss: 0.8528 - val_categorical_accuracy: 0.6436\n",
      "Epoch 10/10\n",
      "330459/330459 [==============================] - 7s 20us/sample - loss: 0.8535 - categorical_accuracy: 0.6420 - val_loss: 0.8531 - val_categorical_accuracy: 0.6411\n"
     ]
    }
   ],
   "source": [
    "x_train = [np.array(train_porc_ocup), np.array(train_media_hora), train_ocup_tf]\n",
    "x_test = [np.array(test_porc_ocup), np.array(test_media_hora), test_ocup_tf]\n",
    "#xt = [x_test_porc_ocup, x_test['id_cuadra'], x_test['media hora'], x_train['ocupacion']]\n",
    "h = model.fit(x_train, train_target, epochs=10, batch_size=128, class_weight=class_weight, validation_data=[x_test, test_target])"
   ]
  },
  {
   "cell_type": "code",
   "execution_count": 58,
   "metadata": {
    "ExecuteTime": {
     "end_time": "2020-04-12T19:02:14.629281Z",
     "start_time": "2020-04-12T19:02:14.625291Z"
    }
   },
   "outputs": [],
   "source": [
    "x_test = [tf.convert_to_tensor(x, np.float64) for x in x_test]"
   ]
  },
  {
   "cell_type": "code",
   "execution_count": 59,
   "metadata": {
    "ExecuteTime": {
     "end_time": "2020-04-12T19:02:16.487856Z",
     "start_time": "2020-04-12T19:02:14.631276Z"
    }
   },
   "outputs": [
    {
     "data": {
      "text/plain": [
       "array([[8977, 3412,  202,   15,    2],\n",
       "       [2453, 9054, 2399,   79,    8],\n",
       "       [ 112, 2081, 4955,  216,   13],\n",
       "       [  11,  167, 1607,  423,   78],\n",
       "       [   1,    9,  108,  206,  129]], dtype=int64)"
      ]
     },
     "execution_count": 59,
     "metadata": {},
     "output_type": "execute_result"
    }
   ],
   "source": [
    "pred = [x.argmax() for x in model.predict(x_test)]\n",
    "test_t = pd.Series([x.argmax() for x in test_target])\n",
    "\n",
    "cnf_matrix = confusion_matrix(test_t, pred,labels=np.sort(test_t.unique()))\n",
    "cnf_matrix"
   ]
  },
  {
   "cell_type": "code",
   "execution_count": 60,
   "metadata": {
    "ExecuteTime": {
     "end_time": "2020-04-12T19:02:16.556855Z",
     "start_time": "2020-04-12T19:02:16.488912Z"
    }
   },
   "outputs": [
    {
     "name": "stdout",
     "output_type": "stream",
     "text": [
      "              precision    recall  f1-score   support\n",
      "\n",
      "           0       0.78      0.71      0.74     12608\n",
      "           1       0.61      0.65      0.63     13993\n",
      "           2       0.53      0.67      0.60      7377\n",
      "           3       0.45      0.19      0.26      2286\n",
      "           4       0.56      0.28      0.38       453\n",
      "\n",
      "    accuracy                           0.64     36717\n",
      "   macro avg       0.59      0.50      0.52     36717\n",
      "weighted avg       0.64      0.64      0.64     36717\n",
      "\n"
     ]
    }
   ],
   "source": [
    "print(classification_report(test_t, pred))"
   ]
  },
  {
   "cell_type": "markdown",
   "metadata": {},
   "source": [
    "# LSTM num y cat"
   ]
  },
  {
   "cell_type": "code",
   "execution_count": 27,
   "metadata": {
    "ExecuteTime": {
     "end_time": "2020-04-24T20:13:56.496903Z",
     "start_time": "2020-04-24T20:13:55.507907Z"
    }
   },
   "outputs": [
    {
     "name": "stdout",
     "output_type": "stream",
     "text": [
      "Model: \"model_3\"\n",
      "__________________________________________________________________________________________________\n",
      "Layer (type)                    Output Shape         Param #     Connected to                     \n",
      "==================================================================================================\n",
      "i_street (InputLayer)           [(None, 1)]          0                                            \n",
      "__________________________________________________________________________________________________\n",
      "emd_street (Embedding)          (None, 1, 10)        1910        i_street[0][0]                   \n",
      "__________________________________________________________________________________________________\n",
      "i_porc_ocup (InputLayer)        [(None, 1)]          0                                            \n",
      "__________________________________________________________________________________________________\n",
      "flat_street (Flatten)           (None, 10)           0           emd_street[0][0]                 \n",
      "__________________________________________________________________________________________________\n",
      "input_9 (InputLayer)            [(None, 1)]          0                                            \n",
      "__________________________________________________________________________________________________\n",
      "input_merge (Concatenate)       multiple             0           i_porc_ocup[0][0]                \n",
      "                                                                 flat_street[0][0]                \n",
      "                                                                 input_merge[0][0]                \n",
      "                                                                 i_time[0][0]                     \n",
      "                                                                 input_merge[1][0]                \n",
      "                                                                 flatten_7[0][0]                  \n",
      "                                                                 input_merge[2][0]                \n",
      "                                                                 flatten_8[0][0]                  \n",
      "                                                                 input_merge[3][0]                \n",
      "                                                                 lstm[0][0]                       \n",
      "__________________________________________________________________________________________________\n",
      "i_time (InputLayer)             [(None, 1)]          0                                            \n",
      "__________________________________________________________________________________________________\n",
      "embedding_7 (Embedding)         (None, 1, 5)         35          input_9[0][0]                    \n",
      "__________________________________________________________________________________________________\n",
      "input_10 (InputLayer)           [(None, 1)]          0                                            \n",
      "__________________________________________________________________________________________________\n",
      "flatten_7 (Flatten)             (None, 5)            0           embedding_7[0][0]                \n",
      "__________________________________________________________________________________________________\n",
      "embedding_8 (Embedding)         (None, 1, 5)         65          input_10[0][0]                   \n",
      "__________________________________________________________________________________________________\n",
      "flatten_8 (Flatten)             (None, 5)            0           embedding_8[0][0]                \n",
      "__________________________________________________________________________________________________\n",
      "i_ocup (InputLayer)             [(None, 3, 1)]       0                                            \n",
      "__________________________________________________________________________________________________\n",
      "lstm (LSTM)                     (None, 10)           480         i_ocup[0][0]                     \n",
      "__________________________________________________________________________________________________\n",
      "batch_normalization_8 (BatchNor (None, 32)           128         input_merge[4][0]                \n",
      "__________________________________________________________________________________________________\n",
      "dense_12 (Dense)                (None, 256)          8448        batch_normalization_8[0][0]      \n",
      "__________________________________________________________________________________________________\n",
      "dropout_8 (Dropout)             (None, 256)          0           dense_12[0][0]                   \n",
      "__________________________________________________________________________________________________\n",
      "dense_13 (Dense)                (None, 512)          131584      dropout_8[0][0]                  \n",
      "__________________________________________________________________________________________________\n",
      "batch_normalization_9 (BatchNor (None, 512)          2048        dense_13[0][0]                   \n",
      "__________________________________________________________________________________________________\n",
      "dropout_9 (Dropout)             (None, 512)          0           batch_normalization_9[0][0]      \n",
      "__________________________________________________________________________________________________\n",
      "dense_14 (Dense)                (None, 512)          262656      dropout_9[0][0]                  \n",
      "__________________________________________________________________________________________________\n",
      "Output (Dense)                  (None, 5)            2565        dense_14[0][0]                   \n",
      "==================================================================================================\n",
      "Total params: 409,919\n",
      "Trainable params: 408,831\n",
      "Non-trainable params: 1,088\n",
      "__________________________________________________________________________________________________\n"
     ]
    }
   ],
   "source": [
    "#porc ocup\n",
    "i_porc_ocup = Input(shape=(1), name='i_porc_ocup')\n",
    "\n",
    "#cuadra\n",
    "max_street=max((data['id_cuadra'].drop_duplicates()))\n",
    "\n",
    "i_street = Input(shape=(1), name='i_street')\n",
    "emd_street = Embedding(input_dim=max_street+1, output_dim=10, name='emd_street')(i_street)\n",
    "flat_street = Flatten(name='flat_street')(emd_street)\n",
    "\n",
    "#dia de la semana\n",
    "i_weekday = Input(shape=(1))\n",
    "emb_weekday = Embedding(input_dim=7, output_dim=5)(i_weekday)\n",
    "flat_weekday = Flatten()(emb_weekday)\n",
    "\n",
    "#mes\n",
    "i_month = Input(shape=(1))\n",
    "emb_month = Embedding(input_dim=12+1, output_dim=5)(i_month)\n",
    "flat_month = Flatten()(emb_month)\n",
    "\n",
    "\n",
    "#media hora\n",
    "i_time = Input(shape=(1), name='i_time')\n",
    "\n",
    "#ocup\n",
    "i_ocup = Input(shape=(train_size,1), name='i_ocup')\n",
    "lstm = LSTM(10, return_sequences=False, name='lstm')(i_ocup)\n",
    "\n",
    "\n",
    "concat = Concatenate(axis=-1, name='input_merge')\n",
    "input_merge = concat([i_porc_ocup, flat_street])\n",
    "input_merge = concat([input_merge, i_time])\n",
    "input_merge = concat([input_merge, flat_weekday])\n",
    "input_merge = concat([input_merge, flat_month])\n",
    "input_merge = concat([input_merge, lstm])\n",
    "\n",
    "d = BatchNormalization()(input_merge)\n",
    "d = Dense(256, activation='relu')(d)\n",
    "d = Dropout(0.2)(d)\n",
    "d = Dense(512, activation='relu')(d)\n",
    "d = BatchNormalization()(d)\n",
    "d = Dropout(0.2)(d)\n",
    "d = Dense(512, activation='relu')(d)\n",
    "\n",
    "o = Dense(max(data['porcentaje ocupacion'])+1, activation='softmax', name='Output')(d)\n",
    "\n",
    "model = Model(inputs=[i_porc_ocup, i_street, i_weekday, i_month, i_time, i_ocup], outputs=o)\n",
    "model.summary()\n",
    "model.compile(loss='categorical_crossentropy', optimizer='adam', metrics=['categorical_accuracy'])"
   ]
  },
  {
   "cell_type": "code",
   "execution_count": 28,
   "metadata": {
    "ExecuteTime": {
     "end_time": "2020-04-24T20:14:30.470399Z",
     "start_time": "2020-04-24T20:13:56.496903Z"
    }
   },
   "outputs": [],
   "source": [
    "train_ocup_tf = tf.convert_to_tensor(np.array(train_ocup).reshape(-1,train_size,1), np.float64)\n",
    "test_ocup_tf = tf.convert_to_tensor(np.array(test_ocup).reshape(-1,train_size,1), np.float64)"
   ]
  },
  {
   "cell_type": "code",
   "execution_count": 29,
   "metadata": {
    "ExecuteTime": {
     "end_time": "2020-04-24T20:21:21.023501Z",
     "start_time": "2020-04-24T20:14:30.473681Z"
    }
   },
   "outputs": [
    {
     "name": "stdout",
     "output_type": "stream",
     "text": [
      "Train on 330459 samples, validate on 36717 samples\n",
      "Epoch 1/10\n",
      "330459/330459 [==============================] - 47s 143us/sample - loss: 0.8360 - categorical_accuracy: 0.6407 - val_loss: 0.7879 - val_categorical_accuracy: 0.6569\n",
      "Epoch 2/10\n",
      "330459/330459 [==============================] - 41s 123us/sample - loss: 0.7896 - categorical_accuracy: 0.6575 - val_loss: 0.7821 - val_categorical_accuracy: 0.6605\n",
      "Epoch 3/10\n",
      "330459/330459 [==============================] - 40s 122us/sample - loss: 0.7786 - categorical_accuracy: 0.6612 - val_loss: 0.7729 - val_categorical_accuracy: 0.6650\n",
      "Epoch 4/10\n",
      "330459/330459 [==============================] - 40s 122us/sample - loss: 0.7724 - categorical_accuracy: 0.6633 - val_loss: 0.7673 - val_categorical_accuracy: 0.6668\n",
      "Epoch 5/10\n",
      "330459/330459 [==============================] - 40s 122us/sample - loss: 0.7685 - categorical_accuracy: 0.6640 - val_loss: 0.7684 - val_categorical_accuracy: 0.6667\n",
      "Epoch 6/10\n",
      "330459/330459 [==============================] - 40s 122us/sample - loss: 0.7642 - categorical_accuracy: 0.6661 - val_loss: 0.7579 - val_categorical_accuracy: 0.6694\n",
      "Epoch 7/10\n",
      "330459/330459 [==============================] - 40s 122us/sample - loss: 0.7616 - categorical_accuracy: 0.6680 - val_loss: 0.7581 - val_categorical_accuracy: 0.6694\n",
      "Epoch 8/10\n",
      "330459/330459 [==============================] - 40s 122us/sample - loss: 0.7602 - categorical_accuracy: 0.6679 - val_loss: 0.7770 - val_categorical_accuracy: 0.6628\n",
      "Epoch 9/10\n",
      "330459/330459 [==============================] - 40s 121us/sample - loss: 0.7584 - categorical_accuracy: 0.6688 - val_loss: 0.7594 - val_categorical_accuracy: 0.6686\n",
      "Epoch 10/10\n",
      "330459/330459 [==============================] - 40s 121us/sample - loss: 0.7567 - categorical_accuracy: 0.6695 - val_loss: 0.7565 - val_categorical_accuracy: 0.6706\n"
     ]
    }
   ],
   "source": [
    "x_train = [np.array(train_porc_ocup), np.array(train_id_cuadra), np.array(train_dia_de_la_semana), np.array(train_mes), np.array(train_media_hora), train_ocup_tf]\n",
    "x_test = [np.array(test_porc_ocup), np.array(test_id_cuadra), np.array(test_dia_de_la_semana), np.array(test_mes),  np.array(test_media_hora), test_ocup_tf]\n",
    "#xt = [x_test_porc_ocup, x_test['id_cuadra'], x_test['media hora'], x_train['ocupacion']]\n",
    "h = model.fit(x_train, train_target, epochs=10, batch_size=128, class_weight=class_weight, validation_data=[x_test, test_target])"
   ]
  },
  {
   "cell_type": "code",
   "execution_count": 30,
   "metadata": {
    "ExecuteTime": {
     "end_time": "2020-04-24T20:21:21.032123Z",
     "start_time": "2020-04-24T20:21:21.025837Z"
    }
   },
   "outputs": [],
   "source": [
    "x_test = [tf.convert_to_tensor(x, np.float64) for x in x_test]"
   ]
  },
  {
   "cell_type": "code",
   "execution_count": 31,
   "metadata": {
    "ExecuteTime": {
     "end_time": "2020-04-24T20:21:26.225891Z",
     "start_time": "2020-04-24T20:21:21.034375Z"
    }
   },
   "outputs": [
    {
     "data": {
      "text/plain": [
       "array([[9906, 2718,   98,   10,    3],\n",
       "       [2884, 9101, 1706,   92,    7],\n",
       "       [ 184, 2375, 4237,  673,   12],\n",
       "       [  21,  211,  731, 1177,  112],\n",
       "       [   1,   17,   33,  207,  201]], dtype=int64)"
      ]
     },
     "execution_count": 31,
     "metadata": {},
     "output_type": "execute_result"
    }
   ],
   "source": [
    "pred = [x.argmax() for x in model.predict(x_test)]\n",
    "test_t = pd.Series([x.argmax() for x in test_target])\n",
    "\n",
    "cnf_matrix = confusion_matrix(test_t, pred,labels=np.sort(test_t.unique()))\n",
    "cnf_matrix"
   ]
  },
  {
   "cell_type": "code",
   "execution_count": 32,
   "metadata": {
    "ExecuteTime": {
     "end_time": "2020-04-24T20:21:26.326416Z",
     "start_time": "2020-04-24T20:21:26.227940Z"
    }
   },
   "outputs": [
    {
     "name": "stdout",
     "output_type": "stream",
     "text": [
      "              precision    recall  f1-score   support\n",
      "\n",
      "           0       0.76      0.78      0.77     12735\n",
      "           1       0.63      0.66      0.65     13790\n",
      "           2       0.62      0.57      0.59      7481\n",
      "           3       0.55      0.52      0.53      2252\n",
      "           4       0.60      0.44      0.51       459\n",
      "\n",
      "    accuracy                           0.67     36717\n",
      "   macro avg       0.63      0.59      0.61     36717\n",
      "weighted avg       0.67      0.67      0.67     36717\n",
      "\n"
     ]
    }
   ],
   "source": [
    "print(classification_report(test_t, pred))"
   ]
  },
  {
   "cell_type": "code",
   "execution_count": null,
   "metadata": {},
   "outputs": [],
   "source": []
  },
  {
   "cell_type": "code",
   "execution_count": null,
   "metadata": {},
   "outputs": [],
   "source": []
  }
 ],
 "metadata": {
  "kernelspec": {
   "display_name": "Python 3",
   "language": "python",
   "name": "python3"
  },
  "language_info": {
   "codemirror_mode": {
    "name": "ipython",
    "version": 3
   },
   "file_extension": ".py",
   "mimetype": "text/x-python",
   "name": "python",
   "nbconvert_exporter": "python",
   "pygments_lexer": "ipython3",
   "version": "3.7.3"
  }
 },
 "nbformat": 4,
 "nbformat_minor": 2
}
