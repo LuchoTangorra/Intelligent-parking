{
 "cells": [
  {
   "cell_type": "code",
   "execution_count": 1,
   "metadata": {
    "ExecuteTime": {
     "end_time": "2020-04-07T20:22:40.855007Z",
     "start_time": "2020-04-07T20:22:38.986238Z"
    }
   },
   "outputs": [],
   "source": [
    "import pandas as pd\n",
    "import numpy as np\n",
    "import math\n",
    "import matplotlib.pyplot as plt\n",
    "from datetime import datetime \n",
    "from IPython.display import display, HTML, clear_output\n",
    "import gc\n",
    "from sklearn.model_selection import train_test_split\n",
    "from sklearn.naive_bayes import GaussianNB, MultinomialNB\n",
    "from sklearn.tree import DecisionTreeClassifier, plot_tree, export_graphviz"
   ]
  },
  {
   "cell_type": "code",
   "execution_count": 2,
   "metadata": {
    "ExecuteTime": {
     "end_time": "2020-04-07T20:22:40.860678Z",
     "start_time": "2020-04-07T20:22:40.856723Z"
    }
   },
   "outputs": [],
   "source": [
    "r'''\n",
    "dataset2019: all sumo data with ocupation (requested in sumo office)\n",
    "'''\n",
    "\n",
    "dataset2019_path = r'C:\\Users\\ing_l\\Tesis grado\\Data\\dataset_2019.csv'\n",
    "dhour_max = r'C:\\Users\\ing_l\\Tesis grado\\Data\\Predictors data\\Dataset2019_hour_max.csv'"
   ]
  },
  {
   "cell_type": "code",
   "execution_count": 3,
   "metadata": {
    "ExecuteTime": {
     "end_time": "2020-04-07T20:22:43.776190Z",
     "start_time": "2020-04-07T20:22:40.862671Z"
    }
   },
   "outputs": [],
   "source": [
    "dataset2019 = pd.read_csv(dataset2019_path)[['id_cuadra', 'direccion', 'fecha', 'tiempo', 'operacion', 'ocupacion', 'latitud', 'longitud']]\n",
    "dataset2019['dia de la semana'] = -1\n",
    "dataset2019.columns.names = ['dataset2019']"
   ]
  },
  {
   "cell_type": "code",
   "execution_count": 6,
   "metadata": {
    "ExecuteTime": {
     "end_time": "2020-04-07T20:48:30.859035Z",
     "start_time": "2020-04-07T20:24:17.439507Z"
    }
   },
   "outputs": [],
   "source": [
    "def correct_type(row):\n",
    "    '''\n",
    "    Corrects the dtype of fecha, tiempo and ocupación on the df\n",
    "    '''\n",
    "    row['fecha'] = pd.to_datetime(row['fecha'], dayfirst=True).date()\n",
    "    row['tiempo'] = pd.to_datetime(row['tiempo']).time()\n",
    "    row['ocupacion'] = int(row['ocupacion'])\n",
    "    row['dia de la semana'] = row['fecha'].weekday()\n",
    "    return row\n",
    "\n",
    "print('Working on dataset2019...')\n",
    "dataset2019 = dataset2019.apply(correct_type, axis=1).sort_values(by=['fecha', 'tiempo'])\n",
    "dataset2019['mes'] = dataset2019['fecha'].apply(lambda x: x.month)\n",
    "dataset2019['hora'] = dataset2019['tiempo'].apply(lambda x: x.hour)\n",
    "clear_output()"
   ]
  },
  {
   "cell_type": "code",
   "execution_count": 7,
   "metadata": {
    "ExecuteTime": {
     "end_time": "2020-04-07T20:48:31.308596Z",
     "start_time": "2020-04-07T20:48:30.859035Z"
    }
   },
   "outputs": [],
   "source": [
    "d = dataset2019.copy()"
   ]
  },
  {
   "cell_type": "code",
   "execution_count": 8,
   "metadata": {
    "ExecuteTime": {
     "end_time": "2020-04-07T20:48:33.130920Z",
     "start_time": "2020-04-07T20:48:31.310348Z"
    }
   },
   "outputs": [],
   "source": [
    "d['tiempo'] = d['tiempo'].apply(lambda x: x.hour * 60 * 60 + x.minute * 60 + x.second)"
   ]
  },
  {
   "cell_type": "code",
   "execution_count": 21,
   "metadata": {
    "ExecuteTime": {
     "end_time": "2020-03-30T08:03:32.440931Z",
     "start_time": "2020-03-29T22:25:29.123043Z"
    }
   },
   "outputs": [
    {
     "name": "stdout",
     "output_type": "stream",
     "text": [
      "Cuadra: 190\n"
     ]
    },
    {
     "data": {
      "text/html": [
       "<div>\n",
       "<style scoped>\n",
       "    .dataframe tbody tr th:only-of-type {\n",
       "        vertical-align: middle;\n",
       "    }\n",
       "\n",
       "    .dataframe tbody tr th {\n",
       "        vertical-align: top;\n",
       "    }\n",
       "\n",
       "    .dataframe thead th {\n",
       "        text-align: right;\n",
       "    }\n",
       "</style>\n",
       "<table border=\"1\" class=\"dataframe\">\n",
       "  <thead>\n",
       "    <tr style=\"text-align: right;\">\n",
       "      <th></th>\n",
       "      <th>id_cuadra</th>\n",
       "      <th>fecha</th>\n",
       "      <th>dia de la semana</th>\n",
       "      <th>mes</th>\n",
       "      <th>ocupacion</th>\n",
       "      <th>ocupacion anterior</th>\n",
       "      <th>operacion</th>\n",
       "      <th>operacion anterior</th>\n",
       "      <th>t</th>\n",
       "      <th>target_t</th>\n",
       "      <th>target_op</th>\n",
       "    </tr>\n",
       "  </thead>\n",
       "  <tbody>\n",
       "    <tr>\n",
       "      <td>0</td>\n",
       "      <td>0</td>\n",
       "      <td>2019-01-02</td>\n",
       "      <td>2</td>\n",
       "      <td>1</td>\n",
       "      <td>2</td>\n",
       "      <td>1</td>\n",
       "      <td>1.0</td>\n",
       "      <td>1.0</td>\n",
       "      <td>34740</td>\n",
       "      <td>34860</td>\n",
       "      <td>1</td>\n",
       "    </tr>\n",
       "    <tr>\n",
       "      <td>1</td>\n",
       "      <td>0</td>\n",
       "      <td>2019-01-02</td>\n",
       "      <td>2</td>\n",
       "      <td>1</td>\n",
       "      <td>3</td>\n",
       "      <td>2</td>\n",
       "      <td>1.0</td>\n",
       "      <td>1.0</td>\n",
       "      <td>34860</td>\n",
       "      <td>35100</td>\n",
       "      <td>0</td>\n",
       "    </tr>\n",
       "    <tr>\n",
       "      <td>2</td>\n",
       "      <td>0</td>\n",
       "      <td>2019-01-02</td>\n",
       "      <td>2</td>\n",
       "      <td>1</td>\n",
       "      <td>2</td>\n",
       "      <td>3</td>\n",
       "      <td>0.0</td>\n",
       "      <td>1.0</td>\n",
       "      <td>35100</td>\n",
       "      <td>35100</td>\n",
       "      <td>0</td>\n",
       "    </tr>\n",
       "    <tr>\n",
       "      <td>3</td>\n",
       "      <td>0</td>\n",
       "      <td>2019-01-02</td>\n",
       "      <td>2</td>\n",
       "      <td>1</td>\n",
       "      <td>1</td>\n",
       "      <td>2</td>\n",
       "      <td>0.0</td>\n",
       "      <td>0.0</td>\n",
       "      <td>35100</td>\n",
       "      <td>35700</td>\n",
       "      <td>1</td>\n",
       "    </tr>\n",
       "    <tr>\n",
       "      <td>4</td>\n",
       "      <td>0</td>\n",
       "      <td>2019-01-02</td>\n",
       "      <td>2</td>\n",
       "      <td>1</td>\n",
       "      <td>2</td>\n",
       "      <td>1</td>\n",
       "      <td>1.0</td>\n",
       "      <td>0.0</td>\n",
       "      <td>35700</td>\n",
       "      <td>35940</td>\n",
       "      <td>1</td>\n",
       "    </tr>\n",
       "    <tr>\n",
       "      <td>...</td>\n",
       "      <td>...</td>\n",
       "      <td>...</td>\n",
       "      <td>...</td>\n",
       "      <td>...</td>\n",
       "      <td>...</td>\n",
       "      <td>...</td>\n",
       "      <td>...</td>\n",
       "      <td>...</td>\n",
       "      <td>...</td>\n",
       "      <td>...</td>\n",
       "      <td>...</td>\n",
       "    </tr>\n",
       "    <tr>\n",
       "      <td>3</td>\n",
       "      <td>190</td>\n",
       "      <td>2019-11-19</td>\n",
       "      <td>1</td>\n",
       "      <td>11</td>\n",
       "      <td>1</td>\n",
       "      <td>0</td>\n",
       "      <td>1.0</td>\n",
       "      <td>0.0</td>\n",
       "      <td>42060</td>\n",
       "      <td>42060</td>\n",
       "      <td>0</td>\n",
       "    </tr>\n",
       "    <tr>\n",
       "      <td>4</td>\n",
       "      <td>190</td>\n",
       "      <td>2019-11-19</td>\n",
       "      <td>1</td>\n",
       "      <td>11</td>\n",
       "      <td>0</td>\n",
       "      <td>1</td>\n",
       "      <td>0.0</td>\n",
       "      <td>1.0</td>\n",
       "      <td>42060</td>\n",
       "      <td>43800</td>\n",
       "      <td>1</td>\n",
       "    </tr>\n",
       "    <tr>\n",
       "      <td>5</td>\n",
       "      <td>190</td>\n",
       "      <td>2019-11-19</td>\n",
       "      <td>1</td>\n",
       "      <td>11</td>\n",
       "      <td>1</td>\n",
       "      <td>0</td>\n",
       "      <td>1.0</td>\n",
       "      <td>0.0</td>\n",
       "      <td>43800</td>\n",
       "      <td>43860</td>\n",
       "      <td>0</td>\n",
       "    </tr>\n",
       "    <tr>\n",
       "      <td>0</td>\n",
       "      <td>190</td>\n",
       "      <td>2019-11-26</td>\n",
       "      <td>1</td>\n",
       "      <td>11</td>\n",
       "      <td>1</td>\n",
       "      <td>0</td>\n",
       "      <td>1.0</td>\n",
       "      <td>0.0</td>\n",
       "      <td>37260</td>\n",
       "      <td>37260</td>\n",
       "      <td>0</td>\n",
       "    </tr>\n",
       "    <tr>\n",
       "      <td>0</td>\n",
       "      <td>190</td>\n",
       "      <td>2019-12-09</td>\n",
       "      <td>0</td>\n",
       "      <td>12</td>\n",
       "      <td>1</td>\n",
       "      <td>0</td>\n",
       "      <td>1.0</td>\n",
       "      <td>0.0</td>\n",
       "      <td>37920</td>\n",
       "      <td>37920</td>\n",
       "      <td>0</td>\n",
       "    </tr>\n",
       "  </tbody>\n",
       "</table>\n",
       "<p>2898572 rows × 11 columns</p>\n",
       "</div>"
      ],
      "text/plain": [
       "   id_cuadra       fecha dia de la semana mes ocupacion ocupacion anterior  \\\n",
       "0          0  2019-01-02                2   1         2                  1   \n",
       "1          0  2019-01-02                2   1         3                  2   \n",
       "2          0  2019-01-02                2   1         2                  3   \n",
       "3          0  2019-01-02                2   1         1                  2   \n",
       "4          0  2019-01-02                2   1         2                  1   \n",
       "..       ...         ...              ...  ..       ...                ...   \n",
       "3        190  2019-11-19                1  11         1                  0   \n",
       "4        190  2019-11-19                1  11         0                  1   \n",
       "5        190  2019-11-19                1  11         1                  0   \n",
       "0        190  2019-11-26                1  11         1                  0   \n",
       "0        190  2019-12-09                0  12         1                  0   \n",
       "\n",
       "    operacion  operacion anterior      t target_t target_op  \n",
       "0         1.0                 1.0  34740    34860         1  \n",
       "1         1.0                 1.0  34860    35100         0  \n",
       "2         0.0                 1.0  35100    35100         0  \n",
       "3         0.0                 0.0  35100    35700         1  \n",
       "4         1.0                 0.0  35700    35940         1  \n",
       "..        ...                 ...    ...      ...       ...  \n",
       "3         1.0                 0.0  42060    42060         0  \n",
       "4         0.0                 1.0  42060    43800         1  \n",
       "5         1.0                 0.0  43800    43860         0  \n",
       "0         1.0                 0.0  37260    37260         0  \n",
       "0         1.0                 0.0  37920    37920         0  \n",
       "\n",
       "[2898572 rows x 11 columns]"
      ]
     },
     "execution_count": 21,
     "metadata": {},
     "output_type": "execute_result"
    }
   ],
   "source": [
    "out = pd.DataFrame(columns=['id_cuadra', 'fecha', 'tiempo', 'a pred tiempo', 'ocupacion', 'ocupacion anterior', 'dia de la semana', 'mes', 'targets'])\n",
    "\n",
    "for s in dataset2019['id_cuadra'].drop_duplicates().sort_values():\n",
    "    clear_output()\n",
    "    print('Cuadra:', s)\n",
    "    dataset_street = dataset2019.loc[dataset2019['id_cuadra'] == s]\n",
    "\n",
    "    \n",
    "    for d in dataset_street['fecha'].drop_duplicates():\n",
    "        dataset_date = dataset_street.loc[dataset_street['fecha'] == d]\n",
    "\n",
    "        to_append = pd.DataFrame(columns=['id_cuadra', 'fecha', 'tiempo', 'a pred tiempo', 'ocupacion', 'ocupacion anterior', 'dia de la semana', 'mes', 'targets'])\n",
    "\n",
    "        to_append = to_append.append(dataset_date[['id_cuadra', 'fecha', 'tiempo', 'ocupacion', 'operacion', 'dia de la semana', 'mes']][1:-1].reset_index(drop=True))\n",
    "        \n",
    "        to_append['operacion anterior'] = dataset_date['operacion'][:-2].reset_index(drop=True)\n",
    "        to_append['ocupacion anterior'] = dataset_date['ocupacion'][:-2].reset_index(drop=True)\n",
    "        to_append['a pred tiempo'] = dataset_date['tiempo'][2:].reset_index(drop=True)        \n",
    "        to_append['targets'] = dataset_date['operacion'][2:].reset_index(drop=True)\n",
    "        \n",
    "        out = out.append(to_append)\n",
    "        \n",
    "out = out[['id_cuadra', 'fecha', 'dia de la semana','mes','ocupacion','ocupacion anterior','operacion','operacion anterior','tiempo','a pred tiempo','targets']]\n",
    "out.rename({'tiempo': 't',\n",
    "           'a pred tiempo': 'target_t',\n",
    "           'targets': 'target_op'}, axis=1, inplace=True)\n",
    "out"
   ]
  },
  {
   "cell_type": "code",
   "execution_count": 22,
   "metadata": {
    "ExecuteTime": {
     "end_time": "2020-03-30T13:43:59.005251Z",
     "start_time": "2020-03-30T13:43:44.457688Z"
    }
   },
   "outputs": [],
   "source": [
    "out.to_csv(r'C:\\Users\\ing_l\\Tesis grado\\Data\\Dataset2019_classifier.csv', index=False)"
   ]
  },
  {
   "cell_type": "code",
   "execution_count": null,
   "metadata": {},
   "outputs": [],
   "source": []
  },
  {
   "cell_type": "code",
   "execution_count": null,
   "metadata": {},
   "outputs": [],
   "source": []
  },
  {
   "cell_type": "code",
   "execution_count": null,
   "metadata": {},
   "outputs": [],
   "source": []
  },
  {
   "cell_type": "code",
   "execution_count": null,
   "metadata": {},
   "outputs": [],
   "source": []
  },
  {
   "cell_type": "code",
   "execution_count": 5,
   "metadata": {
    "ExecuteTime": {
     "end_time": "2020-04-02T19:09:16.999690Z",
     "start_time": "2020-04-02T19:09:16.826130Z"
    }
   },
   "outputs": [],
   "source": [
    "data = pd.read_csv(dhour_max)\n",
    "data.drop('Unnamed: 0', axis=1, inplace=True)\n",
    "data = data[['fecha','mes','dia de la semana','hora','id_cuadra','ocupacion']]"
   ]
  },
  {
   "cell_type": "code",
   "execution_count": 6,
   "metadata": {
    "ExecuteTime": {
     "end_time": "2020-04-02T19:09:26.639593Z",
     "start_time": "2020-04-02T19:09:20.882015Z"
    }
   },
   "outputs": [
    {
     "name": "stdout",
     "output_type": "stream",
     "text": [
      "calle: 190\n"
     ]
    },
    {
     "data": {
      "text/html": [
       "<div>\n",
       "<style scoped>\n",
       "    .dataframe tbody tr th:only-of-type {\n",
       "        vertical-align: middle;\n",
       "    }\n",
       "\n",
       "    .dataframe tbody tr th {\n",
       "        vertical-align: top;\n",
       "    }\n",
       "\n",
       "    .dataframe thead th {\n",
       "        text-align: right;\n",
       "    }\n",
       "</style>\n",
       "<table border=\"1\" class=\"dataframe\">\n",
       "  <thead>\n",
       "    <tr style=\"text-align: right;\">\n",
       "      <th></th>\n",
       "      <th>fecha</th>\n",
       "      <th>mes</th>\n",
       "      <th>dia de la semana</th>\n",
       "      <th>hora</th>\n",
       "      <th>id_cuadra</th>\n",
       "      <th>ocupacion</th>\n",
       "      <th>porcentaje ocupacion</th>\n",
       "    </tr>\n",
       "  </thead>\n",
       "  <tbody>\n",
       "    <tr>\n",
       "      <td>0</td>\n",
       "      <td>2019-01-02</td>\n",
       "      <td>1</td>\n",
       "      <td>2</td>\n",
       "      <td>10</td>\n",
       "      <td>0</td>\n",
       "      <td>2</td>\n",
       "      <td>0</td>\n",
       "    </tr>\n",
       "    <tr>\n",
       "      <td>1</td>\n",
       "      <td>2019-01-02</td>\n",
       "      <td>1</td>\n",
       "      <td>2</td>\n",
       "      <td>11</td>\n",
       "      <td>0</td>\n",
       "      <td>5</td>\n",
       "      <td>0</td>\n",
       "    </tr>\n",
       "    <tr>\n",
       "      <td>2</td>\n",
       "      <td>2019-01-02</td>\n",
       "      <td>1</td>\n",
       "      <td>2</td>\n",
       "      <td>12</td>\n",
       "      <td>0</td>\n",
       "      <td>3</td>\n",
       "      <td>0</td>\n",
       "    </tr>\n",
       "    <tr>\n",
       "      <td>3</td>\n",
       "      <td>2019-01-02</td>\n",
       "      <td>1</td>\n",
       "      <td>2</td>\n",
       "      <td>13</td>\n",
       "      <td>0</td>\n",
       "      <td>4</td>\n",
       "      <td>0</td>\n",
       "    </tr>\n",
       "    <tr>\n",
       "      <td>4</td>\n",
       "      <td>2019-01-02</td>\n",
       "      <td>1</td>\n",
       "      <td>2</td>\n",
       "      <td>14</td>\n",
       "      <td>0</td>\n",
       "      <td>6</td>\n",
       "      <td>1</td>\n",
       "    </tr>\n",
       "    <tr>\n",
       "      <td>...</td>\n",
       "      <td>...</td>\n",
       "      <td>...</td>\n",
       "      <td>...</td>\n",
       "      <td>...</td>\n",
       "      <td>...</td>\n",
       "      <td>...</td>\n",
       "      <td>...</td>\n",
       "    </tr>\n",
       "    <tr>\n",
       "      <td>2</td>\n",
       "      <td>2019-09-17</td>\n",
       "      <td>9</td>\n",
       "      <td>1</td>\n",
       "      <td>10</td>\n",
       "      <td>190</td>\n",
       "      <td>1</td>\n",
       "      <td>3</td>\n",
       "    </tr>\n",
       "    <tr>\n",
       "      <td>3</td>\n",
       "      <td>2019-09-17</td>\n",
       "      <td>9</td>\n",
       "      <td>1</td>\n",
       "      <td>11</td>\n",
       "      <td>190</td>\n",
       "      <td>1</td>\n",
       "      <td>3</td>\n",
       "    </tr>\n",
       "    <tr>\n",
       "      <td>4</td>\n",
       "      <td>2019-11-12</td>\n",
       "      <td>11</td>\n",
       "      <td>1</td>\n",
       "      <td>10</td>\n",
       "      <td>190</td>\n",
       "      <td>0</td>\n",
       "      <td>0</td>\n",
       "    </tr>\n",
       "    <tr>\n",
       "      <td>5</td>\n",
       "      <td>2019-11-19</td>\n",
       "      <td>11</td>\n",
       "      <td>1</td>\n",
       "      <td>9</td>\n",
       "      <td>190</td>\n",
       "      <td>1</td>\n",
       "      <td>3</td>\n",
       "    </tr>\n",
       "    <tr>\n",
       "      <td>6</td>\n",
       "      <td>2019-11-19</td>\n",
       "      <td>11</td>\n",
       "      <td>1</td>\n",
       "      <td>11</td>\n",
       "      <td>190</td>\n",
       "      <td>1</td>\n",
       "      <td>3</td>\n",
       "    </tr>\n",
       "  </tbody>\n",
       "</table>\n",
       "<p>250754 rows × 7 columns</p>\n",
       "</div>"
      ],
      "text/plain": [
       "         fecha mes dia de la semana hora id_cuadra ocupacion  \\\n",
       "0   2019-01-02   1                2   10         0         2   \n",
       "1   2019-01-02   1                2   11         0         5   \n",
       "2   2019-01-02   1                2   12         0         3   \n",
       "3   2019-01-02   1                2   13         0         4   \n",
       "4   2019-01-02   1                2   14         0         6   \n",
       "..         ...  ..              ...  ...       ...       ...   \n",
       "2   2019-09-17   9                1   10       190         1   \n",
       "3   2019-09-17   9                1   11       190         1   \n",
       "4   2019-11-12  11                1   10       190         0   \n",
       "5   2019-11-19  11                1    9       190         1   \n",
       "6   2019-11-19  11                1   11       190         1   \n",
       "\n",
       "    porcentaje ocupacion  \n",
       "0                      0  \n",
       "1                      0  \n",
       "2                      0  \n",
       "3                      0  \n",
       "4                      1  \n",
       "..                   ...  \n",
       "2                      3  \n",
       "3                      3  \n",
       "4                      0  \n",
       "5                      3  \n",
       "6                      3  \n",
       "\n",
       "[250754 rows x 7 columns]"
      ]
     },
     "execution_count": 6,
     "metadata": {},
     "output_type": "execute_result"
    },
    {
     "data": {
      "image/png": "[encoded data removed]",
      "text/plain": [
       "<Figure size 432x288 with 1 Axes>"
      ]
     },
     "metadata": {
      "needs_background": "light"
     },
     "output_type": "display_data"
    }
   ],
   "source": [
    "out = pd.DataFrame(columns=data.columns.values)\n",
    "out['porcentaje ocupacion'] = 0\n",
    "\n",
    "for s in data['id_cuadra'].drop_duplicates().sort_values():\n",
    "    clear_output()\n",
    "    print('calle:', s)\n",
    "    \n",
    "    data_s = data.loc[data['id_cuadra'] == s].copy().reset_index(drop=True)\n",
    "    to_append = pd.DataFrame(columns=data_s.columns.values)\n",
    "    \n",
    "    to_append = to_append.append(data_s).reset_index(drop=True)\n",
    "    \n",
    "    to_append['porcentaje ocupacion'] = 0\n",
    "    \n",
    "    max_without_outliers = data_s.boxplot(column='ocupacion', return_type='dict')['whiskers'][1].get_ydata()[1]\n",
    "\n",
    "    grade_1 = data_s['ocupacion'] <= (max_without_outliers * 1/4)\n",
    "    grade_2 = (~grade_1) & (data_s['ocupacion'] <= (max_without_outliers * 2/4))\n",
    "    grade_3 = (~grade_1) & (~grade_2) & (data_s['ocupacion'] <= (max_without_outliers * 3/4))\n",
    "    grade_4 = (~grade_1) & (~grade_2) & (~grade_3) & (data_s['ocupacion'] <= (max_without_outliers))\n",
    "    grade_5 = (~grade_1) & (~grade_2) & (~grade_3) & (~grade_4)\n",
    "\n",
    "    to_append.loc[grade_1, 'porcentaje ocupacion'] = 0\n",
    "    to_append.loc[grade_2, 'porcentaje ocupacion'] = 1\n",
    "    to_append.loc[grade_3, 'porcentaje ocupacion'] = 2\n",
    "    to_append.loc[grade_4, 'porcentaje ocupacion'] = 3\n",
    "    to_append.loc[grade_5, 'porcentaje ocupacion'] = 4\n",
    "    out = out.append(to_append)\n",
    "\n",
    "\n",
    "out"
   ]
  },
  {
   "cell_type": "code",
   "execution_count": 7,
   "metadata": {
    "ExecuteTime": {
     "end_time": "2020-04-02T19:09:32.605178Z",
     "start_time": "2020-04-02T19:09:31.911804Z"
    }
   },
   "outputs": [],
   "source": [
    "out.to_csv(r'C:\\Users\\ing_l\\Tesis grado\\Data\\Predictors data\\Dataset2019_multiclassifier_hour.csv', index=False)"
   ]
  },
  {
   "cell_type": "code",
   "execution_count": null,
   "metadata": {},
   "outputs": [],
   "source": []
  }
 ],
 "metadata": {
  "kernelspec": {
   "display_name": "Python 3",
   "language": "python",
   "name": "python3"
  },
  "language_info": {
   "codemirror_mode": {
    "name": "ipython",
    "version": 3
   },
   "file_extension": ".py",
   "mimetype": "text/x-python",
   "name": "python",
   "nbconvert_exporter": "python",
   "pygments_lexer": "ipython3",
   "version": "3.7.3"
  }
 },
 "nbformat": 4,
 "nbformat_minor": 2
}
