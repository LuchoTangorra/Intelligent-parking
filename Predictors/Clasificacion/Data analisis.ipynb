{
 "cells": [
  {
   "cell_type": "code",
   "execution_count": 1,
   "metadata": {
    "ExecuteTime": {
     "end_time": "2020-03-29T19:34:44.404985Z",
     "start_time": "2020-03-29T19:34:42.075141Z"
    }
   },
   "outputs": [],
   "source": [
    "import pandas as pd\n",
    "import numpy as np\n",
    "#import math\n",
    "import matplotlib.pyplot as plt\n",
    "#import matplotlib.patches as mpatches\n",
    "from datetime import datetime \n",
    "from IPython.display import display, HTML, clear_output\n",
    "import gc\n",
    "import seaborn as sns\n",
    "from scipy.stats import normaltest, boxcox, probplot\n",
    "#from sklearn.model_selection import train_test_split\n",
    "#from sklearn.metrics import confusion_matrix\n",
    "#from random import shuffle\n",
    "#from sklearn.naive_bayes import GaussianNB, MultinomialNB\n",
    "#from sklearn.metrics import f1_score, balanced_accuracy_score\n",
    "from statsmodels.tsa.stattools import adfuller"
   ]
  },
  {
   "cell_type": "code",
   "execution_count": 2,
   "metadata": {
    "ExecuteTime": {
     "end_time": "2020-03-29T19:35:27.156911Z",
     "start_time": "2020-03-29T19:35:27.152958Z"
    }
   },
   "outputs": [],
   "source": [
    "path = r'C:\\Users\\ing_l\\Tesis grado\\Data\\Predictors data\\Dataset2019_classifier.csv'"
   ]
  },
  {
   "cell_type": "code",
   "execution_count": 5,
   "metadata": {
    "ExecuteTime": {
     "end_time": "2020-03-29T19:35:40.278002Z",
     "start_time": "2020-03-29T19:35:38.970501Z"
    }
   },
   "outputs": [],
   "source": [
    "data = pd.read_csv(path)\n",
    "data.drop('Unnamed: 0', axis=1, inplace=True)\n",
    "#data['fecha'] = data['fecha'].apply(lambda x: pd.to_datetime(x).date())\n",
    "#data"
   ]
  },
  {
   "cell_type": "code",
   "execution_count": 18,
   "metadata": {
    "ExecuteTime": {
     "end_time": "2020-03-29T20:20:18.971197Z",
     "start_time": "2020-03-29T20:20:18.827582Z"
    }
   },
   "outputs": [],
   "source": [
    "d = data[['id_cuadra', 'ocupacion', 'ocupacion anterior', 'timestamp', 'a pred timestamp', 'targets']].copy()"
   ]
  },
  {
   "cell_type": "code",
   "execution_count": 19,
   "metadata": {
    "ExecuteTime": {
     "end_time": "2020-03-29T20:20:19.193283Z",
     "start_time": "2020-03-29T20:20:19.137432Z"
    }
   },
   "outputs": [],
   "source": [
    "d.rename({'a pred timestamp': 'target_t',\n",
    "         'timestamp': 't',\n",
    "         'targets': 'targets_op'}, axis=1, inplace=True)"
   ]
  },
  {
   "cell_type": "code",
   "execution_count": 20,
   "metadata": {
    "ExecuteTime": {
     "end_time": "2020-03-29T20:20:19.830038Z",
     "start_time": "2020-03-29T20:20:19.819067Z"
    }
   },
   "outputs": [
    {
     "data": {
      "text/html": [
       "<div>\n",
       "<style scoped>\n",
       "    .dataframe tbody tr th:only-of-type {\n",
       "        vertical-align: middle;\n",
       "    }\n",
       "\n",
       "    .dataframe tbody tr th {\n",
       "        vertical-align: top;\n",
       "    }\n",
       "\n",
       "    .dataframe thead th {\n",
       "        text-align: right;\n",
       "    }\n",
       "</style>\n",
       "<table border=\"1\" class=\"dataframe\">\n",
       "  <thead>\n",
       "    <tr style=\"text-align: right;\">\n",
       "      <th></th>\n",
       "      <th>id_cuadra</th>\n",
       "      <th>ocupacion</th>\n",
       "      <th>ocupacion anterior</th>\n",
       "      <th>t</th>\n",
       "      <th>target_t</th>\n",
       "      <th>targets_op</th>\n",
       "    </tr>\n",
       "  </thead>\n",
       "  <tbody>\n",
       "    <tr>\n",
       "      <td>0</td>\n",
       "      <td>0</td>\n",
       "      <td>2</td>\n",
       "      <td>1</td>\n",
       "      <td>34740</td>\n",
       "      <td>34860</td>\n",
       "      <td>1</td>\n",
       "    </tr>\n",
       "    <tr>\n",
       "      <td>1</td>\n",
       "      <td>0</td>\n",
       "      <td>3</td>\n",
       "      <td>2</td>\n",
       "      <td>34860</td>\n",
       "      <td>35100</td>\n",
       "      <td>0</td>\n",
       "    </tr>\n",
       "    <tr>\n",
       "      <td>2</td>\n",
       "      <td>0</td>\n",
       "      <td>2</td>\n",
       "      <td>3</td>\n",
       "      <td>35100</td>\n",
       "      <td>35100</td>\n",
       "      <td>0</td>\n",
       "    </tr>\n",
       "    <tr>\n",
       "      <td>3</td>\n",
       "      <td>0</td>\n",
       "      <td>1</td>\n",
       "      <td>2</td>\n",
       "      <td>35100</td>\n",
       "      <td>35700</td>\n",
       "      <td>1</td>\n",
       "    </tr>\n",
       "    <tr>\n",
       "      <td>4</td>\n",
       "      <td>0</td>\n",
       "      <td>2</td>\n",
       "      <td>1</td>\n",
       "      <td>35700</td>\n",
       "      <td>35940</td>\n",
       "      <td>1</td>\n",
       "    </tr>\n",
       "    <tr>\n",
       "      <td>...</td>\n",
       "      <td>...</td>\n",
       "      <td>...</td>\n",
       "      <td>...</td>\n",
       "      <td>...</td>\n",
       "      <td>...</td>\n",
       "      <td>...</td>\n",
       "    </tr>\n",
       "    <tr>\n",
       "      <td>2898567</td>\n",
       "      <td>190</td>\n",
       "      <td>1</td>\n",
       "      <td>0</td>\n",
       "      <td>42060</td>\n",
       "      <td>42060</td>\n",
       "      <td>0</td>\n",
       "    </tr>\n",
       "    <tr>\n",
       "      <td>2898568</td>\n",
       "      <td>190</td>\n",
       "      <td>0</td>\n",
       "      <td>1</td>\n",
       "      <td>42060</td>\n",
       "      <td>43800</td>\n",
       "      <td>1</td>\n",
       "    </tr>\n",
       "    <tr>\n",
       "      <td>2898569</td>\n",
       "      <td>190</td>\n",
       "      <td>1</td>\n",
       "      <td>0</td>\n",
       "      <td>43800</td>\n",
       "      <td>43860</td>\n",
       "      <td>0</td>\n",
       "    </tr>\n",
       "    <tr>\n",
       "      <td>2898570</td>\n",
       "      <td>190</td>\n",
       "      <td>1</td>\n",
       "      <td>0</td>\n",
       "      <td>37260</td>\n",
       "      <td>37260</td>\n",
       "      <td>0</td>\n",
       "    </tr>\n",
       "    <tr>\n",
       "      <td>2898571</td>\n",
       "      <td>190</td>\n",
       "      <td>1</td>\n",
       "      <td>0</td>\n",
       "      <td>37920</td>\n",
       "      <td>37920</td>\n",
       "      <td>0</td>\n",
       "    </tr>\n",
       "  </tbody>\n",
       "</table>\n",
       "<p>2898572 rows × 6 columns</p>\n",
       "</div>"
      ],
      "text/plain": [
       "         id_cuadra  ocupacion  ocupacion anterior      t  target_t  targets_op\n",
       "0                0          2                   1  34740     34860           1\n",
       "1                0          3                   2  34860     35100           0\n",
       "2                0          2                   3  35100     35100           0\n",
       "3                0          1                   2  35100     35700           1\n",
       "4                0          2                   1  35700     35940           1\n",
       "...            ...        ...                 ...    ...       ...         ...\n",
       "2898567        190          1                   0  42060     42060           0\n",
       "2898568        190          0                   1  42060     43800           1\n",
       "2898569        190          1                   0  43800     43860           0\n",
       "2898570        190          1                   0  37260     37260           0\n",
       "2898571        190          1                   0  37920     37920           0\n",
       "\n",
       "[2898572 rows x 6 columns]"
      ]
     },
     "execution_count": 20,
     "metadata": {},
     "output_type": "execute_result"
    }
   ],
   "source": [
    "d"
   ]
  },
  {
   "cell_type": "code",
   "execution_count": 17,
   "metadata": {
    "ExecuteTime": {
     "end_time": "2020-03-29T20:19:48.358820Z",
     "start_time": "2020-03-29T20:19:47.808060Z"
    }
   },
   "outputs": [
    {
     "data": {
      "text/plain": [
       "<matplotlib.axes._subplots.AxesSubplot at 0x24dab797a58>"
      ]
     },
     "execution_count": 17,
     "metadata": {},
     "output_type": "execute_result"
    },
    {
     "data": {
      "image/png": "[encoded data removed]",
      "text/plain": [
       "<Figure size 432x288 with 2 Axes>"
      ]
     },
     "metadata": {
      "needs_background": "light"
     },
     "output_type": "display_data"
    }
   ],
   "source": [
    "#Correlacion para dataset_hh\n",
    "sns.heatmap(d.corr())"
   ]
  }
 ],
 "metadata": {
  "kernelspec": {
   "display_name": "Python 3",
   "language": "python",
   "name": "python3"
  },
  "language_info": {
   "codemirror_mode": {
    "name": "ipython",
    "version": 3
   },
   "file_extension": ".py",
   "mimetype": "text/x-python",
   "name": "python",
   "nbconvert_exporter": "python",
   "pygments_lexer": "ipython3",
   "version": "3.7.3"
  }
 },
 "nbformat": 4,
 "nbformat_minor": 2
}
