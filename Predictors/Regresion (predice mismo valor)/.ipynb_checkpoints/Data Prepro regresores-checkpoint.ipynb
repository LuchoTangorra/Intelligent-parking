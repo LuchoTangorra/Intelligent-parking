{
 "cells": [
  {
   "cell_type": "code",
   "execution_count": 1,
   "metadata": {
    "ExecuteTime": {
     "end_time": "2020-03-31T03:53:28.454768Z",
     "start_time": "2020-03-31T03:53:26.245421Z"
    }
   },
   "outputs": [],
   "source": [
    "import pandas as pd\n",
    "import numpy as np\n",
    "import math\n",
    "import matplotlib.pyplot as plt\n",
    "import matplotlib.patches as mpatches\n",
    "from datetime import datetime \n",
    "from IPython.display import display, HTML, clear_output\n",
    "import gc\n",
    "import seaborn as sns\n",
    "from scipy.stats import normaltest, boxcox, probplot\n",
    "from sklearn.model_selection import train_test_split\n",
    "from sklearn.metrics import confusion_matrix\n",
    "from random import shuffle\n",
    "from sklearn.naive_bayes import GaussianNB, MultinomialNB\n",
    "from sklearn.metrics import f1_score, balanced_accuracy_score\n",
    "from statsmodels.tsa.stattools import adfuller"
   ]
  },
  {
   "cell_type": "code",
   "execution_count": 2,
   "metadata": {
    "ExecuteTime": {
     "end_time": "2020-03-31T03:53:28.460752Z",
     "start_time": "2020-03-31T03:53:28.456763Z"
    }
   },
   "outputs": [],
   "source": [
    "r'''\n",
    "dataset2019: all sumo data with ocupation (requested in sumo office)\n",
    "'''\n",
    "\n",
    "dataset2019_path = r'C:\\Users\\ing_l\\Tesis grado\\Data\\dataset_2019.csv'"
   ]
  },
  {
   "cell_type": "code",
   "execution_count": 3,
   "metadata": {
    "ExecuteTime": {
     "end_time": "2020-03-31T03:53:31.156973Z",
     "start_time": "2020-03-31T03:53:28.462748Z"
    }
   },
   "outputs": [],
   "source": [
    "dataset2019 = pd.read_csv(dataset2019_path)[['id_cuadra', 'direccion', 'fecha', 'tiempo', 'operacion', 'ocupacion', 'latitud', 'longitud']]\n",
    "dataset2019['dia de la semana'] = -1\n",
    "dataset2019.columns.names = ['dataset2019']"
   ]
  },
  {
   "cell_type": "code",
   "execution_count": null,
   "metadata": {
    "ExecuteTime": {
     "start_time": "2020-03-31T03:53:27.040Z"
    }
   },
   "outputs": [
    {
     "name": "stdout",
     "output_type": "stream",
     "text": [
      "Working on dataset2019...\n"
     ]
    }
   ],
   "source": [
    "def correct_type(row):\n",
    "    '''\n",
    "    Corrects the dtype of fecha, tiempo and ocupación on the df\n",
    "    '''\n",
    "    row['fecha'] = pd.to_datetime(row['fecha'], dayfirst=True).date()\n",
    "    row['tiempo'] = pd.to_datetime(row['tiempo']).time()\n",
    "    row['ocupacion'] = int(row['ocupacion'])\n",
    "    row['dia de la semana'] = row['fecha'].weekday()\n",
    "    return row\n",
    "\n",
    "print('Working on dataset2019...')\n",
    "dataset2019 = dataset2019.apply(correct_type, axis=1).sort_values(by=['fecha', 'tiempo'])\n",
    "dataset2019['mes'] = dataset2019['fecha'].apply(lambda x: x.month)\n",
    "dataset2019['hora'] = dataset2019['tiempo'].apply(lambda x: x.hour)\n",
    "clear_output()"
   ]
  },
  {
   "cell_type": "code",
   "execution_count": null,
   "metadata": {
    "ExecuteTime": {
     "start_time": "2020-03-31T03:53:27.263Z"
    }
   },
   "outputs": [],
   "source": [
    "dataset2019_backup = dataset2019.copy()"
   ]
  },
  {
   "cell_type": "code",
   "execution_count": null,
   "metadata": {
    "ExecuteTime": {
     "start_time": "2020-03-31T03:53:27.500Z"
    }
   },
   "outputs": [],
   "source": [
    "dataset2019['timestamp'] = dataset2019['tiempo'].apply(lambda x: x.hour * 60 * 60 + x.minute * 60 + x.second)"
   ]
  },
  {
   "cell_type": "code",
   "execution_count": null,
   "metadata": {
    "ExecuteTime": {
     "start_time": "2020-03-31T03:53:28.067Z"
    }
   },
   "outputs": [],
   "source": [
    "half_hour = 30 * 60\n",
    "\n",
    "def set_half_hour(ts):\n",
    "    global half_hour\n",
    "    return (math.floor(ts / half_hour)) * half_hour\n",
    "\n",
    "dataset2019['media hora'] = dataset2019['timestamp'].apply(set_half_hour)"
   ]
  },
  {
   "cell_type": "code",
   "execution_count": null,
   "metadata": {
    "ExecuteTime": {
     "start_time": "2020-03-31T03:53:28.094Z"
    },
    "scrolled": false
   },
   "outputs": [],
   "source": [
    "dataset2019.reset_index(drop=True)[['id_cuadra','direccion','fecha','mes','dia de la semana','media hora','ocupacion']].sort_values(by=['id_cuadra','fecha','media hora'])"
   ]
  },
  {
   "cell_type": "markdown",
   "metadata": {},
   "source": [
    "# Creación de los dos datasets. \n",
    "\n",
    "### Dataset_hh posee los datos agrupados cada media hora"
   ]
  },
  {
   "cell_type": "code",
   "execution_count": null,
   "metadata": {
    "ExecuteTime": {
     "start_time": "2020-03-31T03:53:30.021Z"
    }
   },
   "outputs": [],
   "source": [
    "dataset_hh = dataset2019.groupby(['id_cuadra','fecha','media hora']).max()\n",
    "dataset_hh = dataset_hh.sort_values(by=['id_cuadra','fecha','media hora']).reset_index()[['id_cuadra','direccion','fecha','mes','dia de la semana','media hora','ocupacion']]"
   ]
  },
  {
   "cell_type": "code",
   "execution_count": null,
   "metadata": {
    "ExecuteTime": {
     "end_time": "2020-03-27T17:29:42.219228Z",
     "start_time": "2020-03-27T16:57:12.206418Z"
    }
   },
   "outputs": [],
   "source": [
    "out = pd.DataFrame(columns=['id_cuadra','direccion','fecha','mes','dia de la semana','media hora','ocupacion','target'])\n",
    "\n",
    "for s in dataset_hh['id_cuadra'].drop_duplicates().sort_values():\n",
    "    clear_output()\n",
    "    print('Street:', s)\n",
    "    dataset_hh_s = dataset_hh.loc[dataset_hh['id_cuadra'] == s].reset_index(drop=True)\n",
    "    \n",
    "    for f in dataset_hh_s['fecha'].drop_duplicates().sort_values():\n",
    "        \n",
    "        to_append = pd.DataFrame(columns=['id_cuadra','direccion','fecha','mes','dia de la semana','media hora','ocupacion'])\n",
    "\n",
    "        dataset_hh_f = dataset_hh_s.loc[dataset_hh_s['fecha'] == f].reset_index(drop=True)\n",
    "\n",
    "        to_append = dataset_hh_f[:-1].reset_index(drop=True)\n",
    "        \n",
    "        to_append['target'] = dataset_hh_f['ocupacion'][1:].reset_index(drop=True)\n",
    "        out = out.append(to_append)\n",
    "\n",
    "dataset_hh = out"
   ]
  },
  {
   "cell_type": "code",
   "execution_count": null,
   "metadata": {
    "ExecuteTime": {
     "end_time": "2020-03-27T17:29:42.250412Z",
     "start_time": "2020-03-27T17:29:42.221224Z"
    }
   },
   "outputs": [],
   "source": [
    "dataset_hh[0:50]"
   ]
  },
  {
   "cell_type": "code",
   "execution_count": null,
   "metadata": {
    "ExecuteTime": {
     "end_time": "2020-03-27T17:29:46.797517Z",
     "start_time": "2020-03-27T17:29:42.252408Z"
    }
   },
   "outputs": [],
   "source": [
    "dataset_hh.to_csv(r'C:\\Users\\ing_l\\Tesis grado\\Data\\Predictors data\\Dataset2019_half_hour_max.csv')"
   ]
  },
  {
   "cell_type": "markdown",
   "metadata": {},
   "source": [
    "### Dataset_hour posee los datos agrupados por hora."
   ]
  },
  {
   "cell_type": "code",
   "execution_count": null,
   "metadata": {
    "ExecuteTime": {
     "end_time": "2020-03-27T19:26:47.595835Z",
     "start_time": "2020-03-27T19:26:46.209287Z"
    }
   },
   "outputs": [],
   "source": [
    "dataset_hour = dataset2019.groupby(['id_cuadra','fecha','hora']).mean()\n",
    "dataset_hour = dataset_hour.sort_values(by=['id_cuadra','fecha','hora']).reset_index()[['id_cuadra', 'fecha', 'hora', 'ocupacion', 'dia de la semana', 'mes']]"
   ]
  },
  {
   "cell_type": "code",
   "execution_count": null,
   "metadata": {
    "ExecuteTime": {
     "end_time": "2020-03-27T19:43:40.213281Z",
     "start_time": "2020-03-27T19:26:47.595835Z"
    }
   },
   "outputs": [],
   "source": [
    "out = pd.DataFrame(columns=['id_cuadra', 'fecha', 'hora', 'ocupacion', 'dia de la semana', 'mes', 'targets'])\n",
    "\n",
    "for s in dataset_hour['id_cuadra'].drop_duplicates().sort_values():\n",
    "    clear_output()\n",
    "    print('Street:', s)\n",
    "    dataset_hour_s = dataset_hour.loc[dataset_hour['id_cuadra'] == s].reset_index(drop=True)\n",
    "    \n",
    "    for f in dataset_hour_s['fecha'].drop_duplicates().sort_values():\n",
    "        to_append = pd.DataFrame(columns=['id_cuadra', 'fecha', 'hora', 'ocupacion', 'ocupacion anterior', 'dia de la semana', 'mes', 'targets'])\n",
    "\n",
    "        dataset_hour_f = dataset_hour_s.loc[dataset_hour_s['fecha'] == f].reset_index(drop=True)\n",
    "\n",
    "        to_append = dataset_hour_f[1:-1].reset_index(drop=True)\n",
    "        \n",
    "        to_append['ocupacion anterior'] = dataset_hour_f['ocupacion'][:-2].reset_index(drop=True)\n",
    "        to_append['targets'] = dataset_hour_f['ocupacion'][2:].reset_index(drop=True)\n",
    "        out = out.append(to_append)\n",
    "dataset_hour = out"
   ]
  },
  {
   "cell_type": "code",
   "execution_count": null,
   "metadata": {
    "ExecuteTime": {
     "end_time": "2020-03-27T19:43:40.243240Z",
     "start_time": "2020-03-27T19:43:40.213281Z"
    }
   },
   "outputs": [],
   "source": [
    "dataset_hour[0:50]"
   ]
  },
  {
   "cell_type": "code",
   "execution_count": null,
   "metadata": {
    "ExecuteTime": {
     "end_time": "2020-03-27T19:43:42.774888Z",
     "start_time": "2020-03-27T19:43:40.245235Z"
    }
   },
   "outputs": [],
   "source": [
    "dataset_hour.to_csv(r'C:\\Users\\ing_l\\Tesis grado\\Data\\Predictors data\\Dataset2019_hour_mean.csv')"
   ]
  },
  {
   "cell_type": "code",
   "execution_count": null,
   "metadata": {},
   "outputs": [],
   "source": []
  }
 ],
 "metadata": {
  "kernelspec": {
   "display_name": "Python 3",
   "language": "python",
   "name": "python3"
  },
  "language_info": {
   "codemirror_mode": {
    "name": "ipython",
    "version": 3
   },
   "file_extension": ".py",
   "mimetype": "text/x-python",
   "name": "python",
   "nbconvert_exporter": "python",
   "pygments_lexer": "ipython3",
   "version": "3.7.3"
  }
 },
 "nbformat": 4,
 "nbformat_minor": 2
}
