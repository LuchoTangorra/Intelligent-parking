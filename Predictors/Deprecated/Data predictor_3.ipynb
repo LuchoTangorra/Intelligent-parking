{
 "cells": [
  {
   "cell_type": "code",
   "execution_count": 1,
   "metadata": {
    "ExecuteTime": {
     "end_time": "2020-01-05T20:52:39.619507Z",
     "start_time": "2020-01-05T20:52:35.407618Z"
    }
   },
   "outputs": [],
   "source": [
    "import pandas as pd\n",
    "import numpy as np\n",
    "import matplotlib.pyplot as plt\n",
    "from IPython.display import display, HTML\n",
    "from tensorflow.keras.layers import Input, LSTM, Dense, Dropout, Embedding, Concatenate, Flatten, Reshape\n",
    "from tensorflow.keras.models import Model\n",
    "from random import shuffle\n",
    "import datetime\n",
    "import math\n",
    "import tensorflow as tf\n",
    "from IPython.display import clear_output\n",
    "from tensorflow.keras.callbacks import ReduceLROnPlateau"
   ]
  },
  {
   "cell_type": "code",
   "execution_count": 2,
   "metadata": {
    "ExecuteTime": {
     "end_time": "2020-01-05T20:52:39.631448Z",
     "start_time": "2020-01-05T20:52:39.621475Z"
    }
   },
   "outputs": [
    {
     "data": {
      "text/html": [
       "<style>\n",
       ".output {\n",
       "    flex-direction: column;\n",
       "}\n",
       "</style>"
      ],
      "text/plain": [
       "<IPython.core.display.HTML object>"
      ]
     },
     "execution_count": 2,
     "metadata": {},
     "output_type": "execute_result"
    }
   ],
   "source": [
    "pd.set_option('display.max_rows', 100)\n",
    "#Just to have each print in the same row\n",
    "CSS = \"\"\"\n",
    ".output {\n",
    "    flex-direction: column;\n",
    "}\n",
    "\"\"\"\n",
    "\n",
    "HTML('<style>{}</style>'.format(CSS))"
   ]
  },
  {
   "cell_type": "code",
   "execution_count": 3,
   "metadata": {
    "ExecuteTime": {
     "end_time": "2020-01-05T20:52:39.642419Z",
     "start_time": "2020-01-05T20:52:39.638429Z"
    }
   },
   "outputs": [],
   "source": [
    "r'''   \n",
    "data_w_operacion: (DataFrame) data with their corresponding operacion (Entrada/Salida).\n",
    "    path: C:\\Users\\ing_l\\Tesis grado\\Data\\SUMO_data_w_operacion.csv\n",
    "\n",
    "tandil_filtered_normalized: (DataFrame) weather information of Tandil from 01/01/2019 to 31/12/2019\n",
    "\n",
    "'''\n",
    "\n",
    "data_path = r'C:\\Users\\ing_l\\Tesis grado\\Data\\SUMO_data_w_operacion.csv'\n",
    "weather_path = r'C:\\Users\\ing_l\\Tesis grado\\Data\\Weather data\\tandil_filtered_normalized.csv'"
   ]
  },
  {
   "cell_type": "code",
   "execution_count": 4,
   "metadata": {
    "ExecuteTime": {
     "end_time": "2020-01-05T20:52:39.651394Z",
     "start_time": "2020-01-05T20:52:39.645410Z"
    }
   },
   "outputs": [],
   "source": [
    "#Time intervals\n",
    "period = 1 #3 - 3\n",
    "\n",
    "#How much data we will use to feed the lstm\n",
    "train_size = 30 #7 - 4\n",
    "\n",
    "#How much different values we want as input of the LSTM (i.e. tolerance 3/train_size 5: 0,1,2,2,1)\n",
    "#Must be less or equals than train_size\n",
    "tolerance = 0 #5 - 3\n",
    "\n",
    "#which columns we'll use as input of the LSTM, features are how much colums we have\n",
    "#data_columns = ['tiempo', 'ocupacion','operacion']\n",
    "data_columns = ['ocupacion','operacion']\n",
    "features = len(data_columns)\n",
    "\n",
    "#if we want the target to be different to the last value of the data\n",
    "control_target = False\n",
    "\n",
    "dateweek_columns = ['id_cuadra','dia de semana', 'tiempo', 'ocupacion','operacion','estacion', 'fecha', 'FeelsLikeC', 'precipMM', 'windspeedKmph', 'time']"
   ]
  },
  {
   "cell_type": "code",
   "execution_count": 5,
   "metadata": {
    "ExecuteTime": {
     "end_time": "2020-01-05T20:52:40.404701Z",
     "start_time": "2020-01-05T20:52:39.653390Z"
    }
   },
   "outputs": [],
   "source": [
    "data = pd.read_csv(data_path, parse_dates=['fecha_tiempo'])\n",
    "weather = pd.read_csv(weather_path, parse_dates=[['date','time']])"
   ]
  },
  {
   "cell_type": "code",
   "execution_count": 6,
   "metadata": {
    "ExecuteTime": {
     "end_time": "2020-01-05T20:52:40.428036Z",
     "start_time": "2020-01-05T20:52:40.404701Z"
    }
   },
   "outputs": [],
   "source": [
    "weather['time'] = weather['date_time'].apply(lambda x: x.hour)\n",
    "weather['date'] = weather['date_time'].apply(lambda x: x.date())"
   ]
  },
  {
   "cell_type": "code",
   "execution_count": 7,
   "metadata": {
    "ExecuteTime": {
     "end_time": "2020-01-05T20:52:40.448979Z",
     "start_time": "2020-01-05T20:52:40.429033Z"
    }
   },
   "outputs": [
    {
     "data": {
      "text/html": [
       "<div>\n",
       "<style scoped>\n",
       "    .dataframe tbody tr th:only-of-type {\n",
       "        vertical-align: middle;\n",
       "    }\n",
       "\n",
       "    .dataframe tbody tr th {\n",
       "        vertical-align: top;\n",
       "    }\n",
       "\n",
       "    .dataframe thead th {\n",
       "        text-align: right;\n",
       "    }\n",
       "</style>\n",
       "<table border=\"1\" class=\"dataframe\">\n",
       "  <thead>\n",
       "    <tr style=\"text-align: right;\">\n",
       "      <th></th>\n",
       "      <th>date_time</th>\n",
       "      <th>Unnamed: 0</th>\n",
       "      <th>FeelsLikeC</th>\n",
       "      <th>precipMM</th>\n",
       "      <th>windspeedKmph</th>\n",
       "      <th>time</th>\n",
       "      <th>date</th>\n",
       "    </tr>\n",
       "  </thead>\n",
       "  <tbody>\n",
       "    <tr>\n",
       "      <td>0</td>\n",
       "      <td>2019-01-01 06:00:00</td>\n",
       "      <td>2</td>\n",
       "      <td>0.446809</td>\n",
       "      <td>0.008621</td>\n",
       "      <td>0.195122</td>\n",
       "      <td>6</td>\n",
       "      <td>2019-01-01</td>\n",
       "    </tr>\n",
       "    <tr>\n",
       "      <td>1</td>\n",
       "      <td>2019-01-01 09:00:00</td>\n",
       "      <td>3</td>\n",
       "      <td>0.659574</td>\n",
       "      <td>0.008621</td>\n",
       "      <td>0.317073</td>\n",
       "      <td>9</td>\n",
       "      <td>2019-01-01</td>\n",
       "    </tr>\n",
       "    <tr>\n",
       "      <td>2</td>\n",
       "      <td>2019-01-01 12:00:00</td>\n",
       "      <td>4</td>\n",
       "      <td>0.765957</td>\n",
       "      <td>0.000000</td>\n",
       "      <td>0.292683</td>\n",
       "      <td>12</td>\n",
       "      <td>2019-01-01</td>\n",
       "    </tr>\n",
       "    <tr>\n",
       "      <td>3</td>\n",
       "      <td>2019-01-01 15:00:00</td>\n",
       "      <td>5</td>\n",
       "      <td>0.829787</td>\n",
       "      <td>0.000000</td>\n",
       "      <td>0.243902</td>\n",
       "      <td>15</td>\n",
       "      <td>2019-01-01</td>\n",
       "    </tr>\n",
       "    <tr>\n",
       "      <td>4</td>\n",
       "      <td>2019-01-01 18:00:00</td>\n",
       "      <td>6</td>\n",
       "      <td>0.787234</td>\n",
       "      <td>0.073276</td>\n",
       "      <td>0.073171</td>\n",
       "      <td>18</td>\n",
       "      <td>2019-01-01</td>\n",
       "    </tr>\n",
       "    <tr>\n",
       "      <td>...</td>\n",
       "      <td>...</td>\n",
       "      <td>...</td>\n",
       "      <td>...</td>\n",
       "      <td>...</td>\n",
       "      <td>...</td>\n",
       "      <td>...</td>\n",
       "      <td>...</td>\n",
       "    </tr>\n",
       "    <tr>\n",
       "      <td>2371</td>\n",
       "      <td>2019-12-31 09:00:00</td>\n",
       "      <td>3163</td>\n",
       "      <td>0.553191</td>\n",
       "      <td>0.000000</td>\n",
       "      <td>0.365854</td>\n",
       "      <td>9</td>\n",
       "      <td>2019-12-31</td>\n",
       "    </tr>\n",
       "    <tr>\n",
       "      <td>2372</td>\n",
       "      <td>2019-12-31 12:00:00</td>\n",
       "      <td>3164</td>\n",
       "      <td>0.595745</td>\n",
       "      <td>0.004310</td>\n",
       "      <td>0.195122</td>\n",
       "      <td>12</td>\n",
       "      <td>2019-12-31</td>\n",
       "    </tr>\n",
       "    <tr>\n",
       "      <td>2373</td>\n",
       "      <td>2019-12-31 15:00:00</td>\n",
       "      <td>3165</td>\n",
       "      <td>0.702128</td>\n",
       "      <td>0.012931</td>\n",
       "      <td>0.317073</td>\n",
       "      <td>15</td>\n",
       "      <td>2019-12-31</td>\n",
       "    </tr>\n",
       "    <tr>\n",
       "      <td>2374</td>\n",
       "      <td>2019-12-31 18:00:00</td>\n",
       "      <td>3166</td>\n",
       "      <td>0.680851</td>\n",
       "      <td>0.000000</td>\n",
       "      <td>0.317073</td>\n",
       "      <td>18</td>\n",
       "      <td>2019-12-31</td>\n",
       "    </tr>\n",
       "    <tr>\n",
       "      <td>2375</td>\n",
       "      <td>2019-12-31 21:00:00</td>\n",
       "      <td>3167</td>\n",
       "      <td>0.553191</td>\n",
       "      <td>0.000000</td>\n",
       "      <td>0.292683</td>\n",
       "      <td>21</td>\n",
       "      <td>2019-12-31</td>\n",
       "    </tr>\n",
       "  </tbody>\n",
       "</table>\n",
       "<p>2376 rows × 7 columns</p>\n",
       "</div>"
      ],
      "text/plain": [
       "               date_time  Unnamed: 0  FeelsLikeC  precipMM  windspeedKmph  \\\n",
       "0    2019-01-01 06:00:00           2    0.446809  0.008621       0.195122   \n",
       "1    2019-01-01 09:00:00           3    0.659574  0.008621       0.317073   \n",
       "2    2019-01-01 12:00:00           4    0.765957  0.000000       0.292683   \n",
       "3    2019-01-01 15:00:00           5    0.829787  0.000000       0.243902   \n",
       "4    2019-01-01 18:00:00           6    0.787234  0.073276       0.073171   \n",
       "...                  ...         ...         ...       ...            ...   \n",
       "2371 2019-12-31 09:00:00        3163    0.553191  0.000000       0.365854   \n",
       "2372 2019-12-31 12:00:00        3164    0.595745  0.004310       0.195122   \n",
       "2373 2019-12-31 15:00:00        3165    0.702128  0.012931       0.317073   \n",
       "2374 2019-12-31 18:00:00        3166    0.680851  0.000000       0.317073   \n",
       "2375 2019-12-31 21:00:00        3167    0.553191  0.000000       0.292683   \n",
       "\n",
       "      time        date  \n",
       "0        6  2019-01-01  \n",
       "1        9  2019-01-01  \n",
       "2       12  2019-01-01  \n",
       "3       15  2019-01-01  \n",
       "4       18  2019-01-01  \n",
       "...    ...         ...  \n",
       "2371     9  2019-12-31  \n",
       "2372    12  2019-12-31  \n",
       "2373    15  2019-12-31  \n",
       "2374    18  2019-12-31  \n",
       "2375    21  2019-12-31  \n",
       "\n",
       "[2376 rows x 7 columns]"
      ]
     },
     "execution_count": 7,
     "metadata": {},
     "output_type": "execute_result"
    }
   ],
   "source": [
    "weather"
   ]
  },
  {
   "cell_type": "code",
   "execution_count": 8,
   "metadata": {
    "ExecuteTime": {
     "end_time": "2020-01-05T20:53:14.732835Z",
     "start_time": "2020-01-05T20:52:40.450975Z"
    },
    "collapsed": true
   },
   "outputs": [
    {
     "data": {
      "text/html": [
       "<div>\n",
       "<style scoped>\n",
       "    .dataframe tbody tr th:only-of-type {\n",
       "        vertical-align: middle;\n",
       "    }\n",
       "\n",
       "    .dataframe tbody tr th {\n",
       "        vertical-align: top;\n",
       "    }\n",
       "\n",
       "    .dataframe thead th {\n",
       "        text-align: right;\n",
       "    }\n",
       "</style>\n",
       "<table border=\"1\" class=\"dataframe\">\n",
       "  <thead>\n",
       "    <tr style=\"text-align: right;\">\n",
       "      <th></th>\n",
       "      <th>id_cuadra</th>\n",
       "      <th>direccion</th>\n",
       "      <th>fecha</th>\n",
       "      <th>tiempo</th>\n",
       "      <th>ocupacion</th>\n",
       "      <th>lugares_cuadra</th>\n",
       "      <th>ocupacion_max</th>\n",
       "      <th>dispon_parq</th>\n",
       "      <th>altas_bajas(dia)</th>\n",
       "      <th>fecha_tiempo</th>\n",
       "      <th>operacion</th>\n",
       "      <th>dia de semana</th>\n",
       "    </tr>\n",
       "  </thead>\n",
       "  <tbody>\n",
       "    <tr>\n",
       "      <td>0</td>\n",
       "      <td>2</td>\n",
       "      <td>General Pinto 545</td>\n",
       "      <td>2019-11-09</td>\n",
       "      <td>17:15:31</td>\n",
       "      <td>6</td>\n",
       "      <td>27.0</td>\n",
       "      <td>17</td>\n",
       "      <td>green</td>\n",
       "      <td>184</td>\n",
       "      <td>2019-09-11 17:15:31</td>\n",
       "      <td>NaN</td>\n",
       "      <td>2</td>\n",
       "    </tr>\n",
       "    <tr>\n",
       "      <td>1</td>\n",
       "      <td>2</td>\n",
       "      <td>General Pinto 545</td>\n",
       "      <td>2019-11-09</td>\n",
       "      <td>17:20:25</td>\n",
       "      <td>7</td>\n",
       "      <td>27.0</td>\n",
       "      <td>17</td>\n",
       "      <td>green</td>\n",
       "      <td>184</td>\n",
       "      <td>2019-09-11 17:20:25</td>\n",
       "      <td>Entrada</td>\n",
       "      <td>2</td>\n",
       "    </tr>\n",
       "    <tr>\n",
       "      <td>2</td>\n",
       "      <td>2</td>\n",
       "      <td>General Pinto 545</td>\n",
       "      <td>2019-11-09</td>\n",
       "      <td>17:34:54</td>\n",
       "      <td>6</td>\n",
       "      <td>27.0</td>\n",
       "      <td>17</td>\n",
       "      <td>green</td>\n",
       "      <td>190</td>\n",
       "      <td>2019-09-11 17:34:54</td>\n",
       "      <td>Salida</td>\n",
       "      <td>2</td>\n",
       "    </tr>\n",
       "    <tr>\n",
       "      <td>3</td>\n",
       "      <td>2</td>\n",
       "      <td>General Pinto 545</td>\n",
       "      <td>2019-11-09</td>\n",
       "      <td>17:40:09</td>\n",
       "      <td>5</td>\n",
       "      <td>27.0</td>\n",
       "      <td>17</td>\n",
       "      <td>green</td>\n",
       "      <td>191</td>\n",
       "      <td>2019-09-11 17:40:09</td>\n",
       "      <td>Salida</td>\n",
       "      <td>2</td>\n",
       "    </tr>\n",
       "    <tr>\n",
       "      <td>4</td>\n",
       "      <td>2</td>\n",
       "      <td>General Pinto 545</td>\n",
       "      <td>2019-11-09</td>\n",
       "      <td>17:45:05</td>\n",
       "      <td>6</td>\n",
       "      <td>27.0</td>\n",
       "      <td>17</td>\n",
       "      <td>green</td>\n",
       "      <td>192</td>\n",
       "      <td>2019-09-11 17:45:05</td>\n",
       "      <td>Entrada</td>\n",
       "      <td>2</td>\n",
       "    </tr>\n",
       "    <tr>\n",
       "      <td>...</td>\n",
       "      <td>...</td>\n",
       "      <td>...</td>\n",
       "      <td>...</td>\n",
       "      <td>...</td>\n",
       "      <td>...</td>\n",
       "      <td>...</td>\n",
       "      <td>...</td>\n",
       "      <td>...</td>\n",
       "      <td>...</td>\n",
       "      <td>...</td>\n",
       "      <td>...</td>\n",
       "      <td>...</td>\n",
       "    </tr>\n",
       "    <tr>\n",
       "      <td>281792</td>\n",
       "      <td>99</td>\n",
       "      <td>Av. España 970</td>\n",
       "      <td>2019-11-12</td>\n",
       "      <td>12:14:21</td>\n",
       "      <td>4</td>\n",
       "      <td>NaN</td>\n",
       "      <td>7</td>\n",
       "      <td>green</td>\n",
       "      <td>30</td>\n",
       "      <td>2019-12-11 12:14:21</td>\n",
       "      <td>Salida</td>\n",
       "      <td>2</td>\n",
       "    </tr>\n",
       "    <tr>\n",
       "      <td>281793</td>\n",
       "      <td>99</td>\n",
       "      <td>Av. España 970</td>\n",
       "      <td>2019-11-12</td>\n",
       "      <td>12:20:21</td>\n",
       "      <td>3</td>\n",
       "      <td>NaN</td>\n",
       "      <td>7</td>\n",
       "      <td>green</td>\n",
       "      <td>33</td>\n",
       "      <td>2019-12-11 12:20:21</td>\n",
       "      <td>Salida</td>\n",
       "      <td>2</td>\n",
       "    </tr>\n",
       "    <tr>\n",
       "      <td>281794</td>\n",
       "      <td>99</td>\n",
       "      <td>Av. España 970</td>\n",
       "      <td>2019-11-12</td>\n",
       "      <td>12:30:06</td>\n",
       "      <td>4</td>\n",
       "      <td>NaN</td>\n",
       "      <td>7</td>\n",
       "      <td>green</td>\n",
       "      <td>36</td>\n",
       "      <td>2019-12-11 12:30:06</td>\n",
       "      <td>Entrada</td>\n",
       "      <td>2</td>\n",
       "    </tr>\n",
       "    <tr>\n",
       "      <td>281795</td>\n",
       "      <td>99</td>\n",
       "      <td>Av. España 970</td>\n",
       "      <td>2019-11-12</td>\n",
       "      <td>12:40:22</td>\n",
       "      <td>3</td>\n",
       "      <td>NaN</td>\n",
       "      <td>7</td>\n",
       "      <td>green</td>\n",
       "      <td>39</td>\n",
       "      <td>2019-12-11 12:40:22</td>\n",
       "      <td>Salida</td>\n",
       "      <td>2</td>\n",
       "    </tr>\n",
       "    <tr>\n",
       "      <td>281796</td>\n",
       "      <td>99</td>\n",
       "      <td>Av. España 970</td>\n",
       "      <td>2019-11-12</td>\n",
       "      <td>12:44:11</td>\n",
       "      <td>2</td>\n",
       "      <td>NaN</td>\n",
       "      <td>7</td>\n",
       "      <td>green</td>\n",
       "      <td>40</td>\n",
       "      <td>2019-12-11 12:44:11</td>\n",
       "      <td>Salida</td>\n",
       "      <td>2</td>\n",
       "    </tr>\n",
       "  </tbody>\n",
       "</table>\n",
       "<p>281797 rows × 12 columns</p>\n",
       "</div>"
      ],
      "text/plain": [
       "        id_cuadra          direccion       fecha    tiempo  ocupacion  \\\n",
       "0               2  General Pinto 545  2019-11-09  17:15:31          6   \n",
       "1               2  General Pinto 545  2019-11-09  17:20:25          7   \n",
       "2               2  General Pinto 545  2019-11-09  17:34:54          6   \n",
       "3               2  General Pinto 545  2019-11-09  17:40:09          5   \n",
       "4               2  General Pinto 545  2019-11-09  17:45:05          6   \n",
       "...           ...                ...         ...       ...        ...   \n",
       "281792         99     Av. España 970  2019-11-12  12:14:21          4   \n",
       "281793         99     Av. España 970  2019-11-12  12:20:21          3   \n",
       "281794         99     Av. España 970  2019-11-12  12:30:06          4   \n",
       "281795         99     Av. España 970  2019-11-12  12:40:22          3   \n",
       "281796         99     Av. España 970  2019-11-12  12:44:11          2   \n",
       "\n",
       "        lugares_cuadra  ocupacion_max dispon_parq  altas_bajas(dia)  \\\n",
       "0                 27.0             17       green               184   \n",
       "1                 27.0             17       green               184   \n",
       "2                 27.0             17       green               190   \n",
       "3                 27.0             17       green               191   \n",
       "4                 27.0             17       green               192   \n",
       "...                ...            ...         ...               ...   \n",
       "281792             NaN              7       green                30   \n",
       "281793             NaN              7       green                33   \n",
       "281794             NaN              7       green                36   \n",
       "281795             NaN              7       green                39   \n",
       "281796             NaN              7       green                40   \n",
       "\n",
       "              fecha_tiempo operacion  dia de semana  \n",
       "0      2019-09-11 17:15:31       NaN              2  \n",
       "1      2019-09-11 17:20:25   Entrada              2  \n",
       "2      2019-09-11 17:34:54    Salida              2  \n",
       "3      2019-09-11 17:40:09    Salida              2  \n",
       "4      2019-09-11 17:45:05   Entrada              2  \n",
       "...                    ...       ...            ...  \n",
       "281792 2019-12-11 12:14:21    Salida              2  \n",
       "281793 2019-12-11 12:20:21    Salida              2  \n",
       "281794 2019-12-11 12:30:06   Entrada              2  \n",
       "281795 2019-12-11 12:40:22    Salida              2  \n",
       "281796 2019-12-11 12:44:11    Salida              2  \n",
       "\n",
       "[281797 rows x 12 columns]"
      ]
     },
     "execution_count": 8,
     "metadata": {},
     "output_type": "execute_result"
    }
   ],
   "source": [
    "data['dia de semana'] = data['fecha_tiempo'].apply(lambda x: pd.Timestamp(x).weekday())\n",
    "data['tiempo'] = data['tiempo'].apply(lambda x: pd.Timestamp(x).time())\n",
    "data['fecha'] = data['fecha'].apply(lambda x: pd.Timestamp(x).date())"
   ]
  },
  {
   "cell_type": "code",
   "execution_count": 9,
   "metadata": {
    "ExecuteTime": {
     "end_time": "2020-01-05T20:53:14.845591Z",
     "start_time": "2020-01-05T20:53:14.734829Z"
    }
   },
   "outputs": [],
   "source": [
    "#Me quedo con los que estan entre las 8 y las 21hs\n",
    "data = data.loc[(data.tiempo > datetime.time(8)) & (data.tiempo < datetime.time(21))].reset_index(drop=True)"
   ]
  },
  {
   "cell_type": "code",
   "execution_count": 10,
   "metadata": {
    "ExecuteTime": {
     "end_time": "2020-01-05T20:53:14.869527Z",
     "start_time": "2020-01-05T20:53:14.846588Z"
    }
   },
   "outputs": [
    {
     "data": {
      "text/html": [
       "<div>\n",
       "<style scoped>\n",
       "    .dataframe tbody tr th:only-of-type {\n",
       "        vertical-align: middle;\n",
       "    }\n",
       "\n",
       "    .dataframe tbody tr th {\n",
       "        vertical-align: top;\n",
       "    }\n",
       "\n",
       "    .dataframe thead th {\n",
       "        text-align: right;\n",
       "    }\n",
       "</style>\n",
       "<table border=\"1\" class=\"dataframe\">\n",
       "  <thead>\n",
       "    <tr style=\"text-align: right;\">\n",
       "      <th></th>\n",
       "      <th>id_cuadra</th>\n",
       "      <th>direccion</th>\n",
       "      <th>fecha</th>\n",
       "      <th>tiempo</th>\n",
       "      <th>ocupacion</th>\n",
       "      <th>lugares_cuadra</th>\n",
       "      <th>ocupacion_max</th>\n",
       "      <th>dispon_parq</th>\n",
       "      <th>altas_bajas(dia)</th>\n",
       "      <th>fecha_tiempo</th>\n",
       "      <th>operacion</th>\n",
       "      <th>dia de semana</th>\n",
       "    </tr>\n",
       "  </thead>\n",
       "  <tbody>\n",
       "    <tr>\n",
       "      <td>0</td>\n",
       "      <td>2</td>\n",
       "      <td>General Pinto 545</td>\n",
       "      <td>2019-11-09</td>\n",
       "      <td>17:15:31</td>\n",
       "      <td>6</td>\n",
       "      <td>27.0</td>\n",
       "      <td>17</td>\n",
       "      <td>green</td>\n",
       "      <td>184</td>\n",
       "      <td>2019-09-11 17:15:31</td>\n",
       "      <td>NaN</td>\n",
       "      <td>2</td>\n",
       "    </tr>\n",
       "    <tr>\n",
       "      <td>1</td>\n",
       "      <td>2</td>\n",
       "      <td>General Pinto 545</td>\n",
       "      <td>2019-11-09</td>\n",
       "      <td>17:20:25</td>\n",
       "      <td>7</td>\n",
       "      <td>27.0</td>\n",
       "      <td>17</td>\n",
       "      <td>green</td>\n",
       "      <td>184</td>\n",
       "      <td>2019-09-11 17:20:25</td>\n",
       "      <td>Entrada</td>\n",
       "      <td>2</td>\n",
       "    </tr>\n",
       "    <tr>\n",
       "      <td>2</td>\n",
       "      <td>2</td>\n",
       "      <td>General Pinto 545</td>\n",
       "      <td>2019-11-09</td>\n",
       "      <td>17:34:54</td>\n",
       "      <td>6</td>\n",
       "      <td>27.0</td>\n",
       "      <td>17</td>\n",
       "      <td>green</td>\n",
       "      <td>190</td>\n",
       "      <td>2019-09-11 17:34:54</td>\n",
       "      <td>Salida</td>\n",
       "      <td>2</td>\n",
       "    </tr>\n",
       "    <tr>\n",
       "      <td>3</td>\n",
       "      <td>2</td>\n",
       "      <td>General Pinto 545</td>\n",
       "      <td>2019-11-09</td>\n",
       "      <td>17:40:09</td>\n",
       "      <td>5</td>\n",
       "      <td>27.0</td>\n",
       "      <td>17</td>\n",
       "      <td>green</td>\n",
       "      <td>191</td>\n",
       "      <td>2019-09-11 17:40:09</td>\n",
       "      <td>Salida</td>\n",
       "      <td>2</td>\n",
       "    </tr>\n",
       "    <tr>\n",
       "      <td>4</td>\n",
       "      <td>2</td>\n",
       "      <td>General Pinto 545</td>\n",
       "      <td>2019-11-09</td>\n",
       "      <td>17:45:05</td>\n",
       "      <td>6</td>\n",
       "      <td>27.0</td>\n",
       "      <td>17</td>\n",
       "      <td>green</td>\n",
       "      <td>192</td>\n",
       "      <td>2019-09-11 17:45:05</td>\n",
       "      <td>Entrada</td>\n",
       "      <td>2</td>\n",
       "    </tr>\n",
       "    <tr>\n",
       "      <td>...</td>\n",
       "      <td>...</td>\n",
       "      <td>...</td>\n",
       "      <td>...</td>\n",
       "      <td>...</td>\n",
       "      <td>...</td>\n",
       "      <td>...</td>\n",
       "      <td>...</td>\n",
       "      <td>...</td>\n",
       "      <td>...</td>\n",
       "      <td>...</td>\n",
       "      <td>...</td>\n",
       "      <td>...</td>\n",
       "    </tr>\n",
       "    <tr>\n",
       "      <td>275014</td>\n",
       "      <td>99</td>\n",
       "      <td>Av. España 970</td>\n",
       "      <td>2019-11-12</td>\n",
       "      <td>12:14:21</td>\n",
       "      <td>4</td>\n",
       "      <td>NaN</td>\n",
       "      <td>7</td>\n",
       "      <td>green</td>\n",
       "      <td>30</td>\n",
       "      <td>2019-12-11 12:14:21</td>\n",
       "      <td>Salida</td>\n",
       "      <td>2</td>\n",
       "    </tr>\n",
       "    <tr>\n",
       "      <td>275015</td>\n",
       "      <td>99</td>\n",
       "      <td>Av. España 970</td>\n",
       "      <td>2019-11-12</td>\n",
       "      <td>12:20:21</td>\n",
       "      <td>3</td>\n",
       "      <td>NaN</td>\n",
       "      <td>7</td>\n",
       "      <td>green</td>\n",
       "      <td>33</td>\n",
       "      <td>2019-12-11 12:20:21</td>\n",
       "      <td>Salida</td>\n",
       "      <td>2</td>\n",
       "    </tr>\n",
       "    <tr>\n",
       "      <td>275016</td>\n",
       "      <td>99</td>\n",
       "      <td>Av. España 970</td>\n",
       "      <td>2019-11-12</td>\n",
       "      <td>12:30:06</td>\n",
       "      <td>4</td>\n",
       "      <td>NaN</td>\n",
       "      <td>7</td>\n",
       "      <td>green</td>\n",
       "      <td>36</td>\n",
       "      <td>2019-12-11 12:30:06</td>\n",
       "      <td>Entrada</td>\n",
       "      <td>2</td>\n",
       "    </tr>\n",
       "    <tr>\n",
       "      <td>275017</td>\n",
       "      <td>99</td>\n",
       "      <td>Av. España 970</td>\n",
       "      <td>2019-11-12</td>\n",
       "      <td>12:40:22</td>\n",
       "      <td>3</td>\n",
       "      <td>NaN</td>\n",
       "      <td>7</td>\n",
       "      <td>green</td>\n",
       "      <td>39</td>\n",
       "      <td>2019-12-11 12:40:22</td>\n",
       "      <td>Salida</td>\n",
       "      <td>2</td>\n",
       "    </tr>\n",
       "    <tr>\n",
       "      <td>275018</td>\n",
       "      <td>99</td>\n",
       "      <td>Av. España 970</td>\n",
       "      <td>2019-11-12</td>\n",
       "      <td>12:44:11</td>\n",
       "      <td>2</td>\n",
       "      <td>NaN</td>\n",
       "      <td>7</td>\n",
       "      <td>green</td>\n",
       "      <td>40</td>\n",
       "      <td>2019-12-11 12:44:11</td>\n",
       "      <td>Salida</td>\n",
       "      <td>2</td>\n",
       "    </tr>\n",
       "  </tbody>\n",
       "</table>\n",
       "<p>275019 rows × 12 columns</p>\n",
       "</div>"
      ],
      "text/plain": [
       "        id_cuadra          direccion       fecha    tiempo  ocupacion  \\\n",
       "0               2  General Pinto 545  2019-11-09  17:15:31          6   \n",
       "1               2  General Pinto 545  2019-11-09  17:20:25          7   \n",
       "2               2  General Pinto 545  2019-11-09  17:34:54          6   \n",
       "3               2  General Pinto 545  2019-11-09  17:40:09          5   \n",
       "4               2  General Pinto 545  2019-11-09  17:45:05          6   \n",
       "...           ...                ...         ...       ...        ...   \n",
       "275014         99     Av. España 970  2019-11-12  12:14:21          4   \n",
       "275015         99     Av. España 970  2019-11-12  12:20:21          3   \n",
       "275016         99     Av. España 970  2019-11-12  12:30:06          4   \n",
       "275017         99     Av. España 970  2019-11-12  12:40:22          3   \n",
       "275018         99     Av. España 970  2019-11-12  12:44:11          2   \n",
       "\n",
       "        lugares_cuadra  ocupacion_max dispon_parq  altas_bajas(dia)  \\\n",
       "0                 27.0             17       green               184   \n",
       "1                 27.0             17       green               184   \n",
       "2                 27.0             17       green               190   \n",
       "3                 27.0             17       green               191   \n",
       "4                 27.0             17       green               192   \n",
       "...                ...            ...         ...               ...   \n",
       "275014             NaN              7       green                30   \n",
       "275015             NaN              7       green                33   \n",
       "275016             NaN              7       green                36   \n",
       "275017             NaN              7       green                39   \n",
       "275018             NaN              7       green                40   \n",
       "\n",
       "              fecha_tiempo operacion  dia de semana  \n",
       "0      2019-09-11 17:15:31       NaN              2  \n",
       "1      2019-09-11 17:20:25   Entrada              2  \n",
       "2      2019-09-11 17:34:54    Salida              2  \n",
       "3      2019-09-11 17:40:09    Salida              2  \n",
       "4      2019-09-11 17:45:05   Entrada              2  \n",
       "...                    ...       ...            ...  \n",
       "275014 2019-12-11 12:14:21    Salida              2  \n",
       "275015 2019-12-11 12:20:21    Salida              2  \n",
       "275016 2019-12-11 12:30:06   Entrada              2  \n",
       "275017 2019-12-11 12:40:22    Salida              2  \n",
       "275018 2019-12-11 12:44:11    Salida              2  \n",
       "\n",
       "[275019 rows x 12 columns]"
      ]
     },
     "execution_count": 10,
     "metadata": {},
     "output_type": "execute_result"
    }
   ],
   "source": [
    "data"
   ]
  },
  {
   "cell_type": "code",
   "execution_count": null,
   "metadata": {
    "ExecuteTime": {
     "start_time": "2020-01-05T20:52:37.942Z"
    }
   },
   "outputs": [],
   "source": [
    "def merge_data_weather(df):\n",
    "    global weather\n",
    "    #print(df)\n",
    "    date = df.fecha\n",
    "    time = df.tiempo.hour\n",
    "    weather_row = weather.loc[weather.date == date, ['FeelsLikeC', 'precipMM', 'windspeedKmph', 'time']]\n",
    "    for hour in weather_row.time.values:\n",
    "        if time < hour:\n",
    "            weather_row = weather.loc[weather.time == (hour - 3)]\n",
    "            found = True\n",
    "    if not found:\n",
    "        weather_row = weather.loc[weather.time == 21]\n",
    "    return weather_row\n",
    "    \n",
    "data[['FeelsLikeC', 'precipMM', 'windspeedKmph', 'time']] = data[['fecha', 'tiempo']].apply(merge_data_weather, axis=1)\n"
   ]
  },
  {
   "cell_type": "code",
   "execution_count": null,
   "metadata": {
    "ExecuteTime": {
     "start_time": "2020-01-05T21:01:59.223Z"
    }
   },
   "outputs": [],
   "source": [
    "max_street_num = data.loc[:,'id_cuadra'].max()\n",
    "print('Max street id: ', max_street_num)"
   ]
  },
  {
   "cell_type": "code",
   "execution_count": null,
   "metadata": {
    "ExecuteTime": {
     "start_time": "2020-01-05T21:05:09.904Z"
    }
   },
   "outputs": [],
   "source": [
    "'''\n",
    "La idea de la red seria que de input tenga fecha_tiempo (o por ahi mejor, solo dia de la semana), \n",
    "la ocupacion de esa fecha_tiempo, el clima.\n",
    "Como output deberia tener la ocupacion de ese momento.\n",
    "\n",
    "Aparte a todo eso se deberia ver la ocupacion actual y la ocupacion maxima para saber si hay lugar libre.\n",
    "'''\n",
    "\n",
    "def to_seconds(time):\n",
    "    '''transform datetime.time to seconds'''\n",
    "    return time.hour * 60 * 60 + time.minute * 60 + time.second\n",
    "\n",
    "def normalize_time(time):\n",
    "    '''normalize time (in seconds) to values bertween 0 and 1'''\n",
    "    max_time = 23 * 60 * 60 + 59 * 60 + 59\n",
    "    return time / max_time\n",
    "\n",
    "def modify_operation(operation):\n",
    "    '''if operacion == Entrada sets value to 1, == NaN sets to 0 and == Salida sets to -1'''\n",
    "    if operation == 'Entrada':\n",
    "        return 1\n",
    "    if operation == 'Salida':\n",
    "        return -1\n",
    "    return 0\n",
    "\n",
    "def normalize_ocupation(row):\n",
    "    '''normalize ocupation to values between 0 and 1, using the lugares_cuadra value'''\n",
    "    global max_ocup\n",
    "    return (row['ocupacion'] / max_ocup)\n",
    "\n",
    "def get_season(fecha):\n",
    "    fecha = pd.to_datetime(fecha, dayfirst=True)\n",
    "    d = fecha.day\n",
    "    m = fecha.month * 100\n",
    "    md = m + d\n",
    "    if ((md >= 921) and (md <= 1220)):\n",
    "        season = 0  # spring\n",
    "    elif ((md >= 1221) and (md <= 320)):\n",
    "        season = 1  # summer\n",
    "    elif ((md >= 321) and (md <= 620)):\n",
    "        season = 2  # fall\n",
    "    elif ((md >= 621) and (md <= 920)):\n",
    "        season = 3  # winter\n",
    "    return season\n",
    "\n",
    "data_week = data.loc[:, ['id_cuadra','dia de semana', 'tiempo', 'ocupacion','operacion','fecha', 'FeelsLikeC', 'precipMM', 'windspeedKmph', 'time']]\n",
    "data_week['tiempo'] = data_week['tiempo'].apply(to_seconds)\n",
    "data_week['operacion'] = data_week['operacion'].apply(modify_operation)\n",
    "data_week['estacion'] = data_week['fecha'].apply(get_season)\n",
    "\n",
    "max_ocup = data['lugares_cuadra'].max()\n",
    "data_week['ocupacion'] = data_week.apply(normalize_ocupation, axis=1)\n",
    "data_week = data_week.loc[:, dateweek_columns]"
   ]
  },
  {
   "cell_type": "code",
   "execution_count": null,
   "metadata": {
    "ExecuteTime": {
     "start_time": "2020-01-05T21:05:10.309Z"
    }
   },
   "outputs": [],
   "source": [
    "print('max_ocup: ', max_ocup)"
   ]
  },
  {
   "cell_type": "code",
   "execution_count": null,
   "metadata": {
    "ExecuteTime": {
     "start_time": "2020-01-05T21:05:13.237Z"
    }
   },
   "outputs": [],
   "source": [
    "data_week"
   ]
  },
  {
   "cell_type": "code",
   "execution_count": null,
   "metadata": {
    "ExecuteTime": {
     "start_time": "2020-01-05T21:05:16.829Z"
    }
   },
   "outputs": [],
   "source": [
    "#To obtain the start and finish of each day, usefull to normalize data times\n",
    "\n",
    "indexes = [0]\n",
    "\n",
    "total_len = 1\n",
    "\n",
    "x = data_week.reset_index()\n",
    "exit = False\n",
    "while (total_len > 0) and not exit:\n",
    "    total_len = len(x.loc[x.loc[indexes[-1]:, 'dia de semana'].drop_duplicates().index, 'index'])\n",
    "    try:\n",
    "        indexes.append(x.loc[x.loc[indexes[-1]:, 'dia de semana'].drop_duplicates().index, 'index'].iloc[1])\n",
    "    except:\n",
    "        exit = True\n",
    "        print('Work complete.')"
   ]
  },
  {
   "cell_type": "code",
   "execution_count": null,
   "metadata": {
    "ExecuteTime": {
     "start_time": "2020-01-05T21:05:27.214Z"
    }
   },
   "outputs": [],
   "source": [
    "#Suponiendo que me llega solo un df conteniendo un solo dia (y esto lo hago para todos los dias y para cada calle)\n",
    "def normalize_data_period(data, period=5):\n",
    "    '''\n",
    "        normalize data in periods for a day\n",
    "    '''\n",
    "    seconds = period * 60\n",
    "    out = pd.DataFrame(columns=dateweek_columns)\n",
    "    out = out.append(data.iloc[0])\n",
    "    dist_to_period = out.iloc[-1].tiempo % seconds\n",
    "    if (dist_to_period) != 0:\n",
    "        out.iloc[-1].tiempo = out.iloc[-1].tiempo - dist_to_period\n",
    "        \n",
    "    for i in range(math.ceil((data.iloc[-1].tiempo - data.iloc[0].tiempo) / seconds)):\n",
    "        next_period = data.loc[data.tiempo < (out.iloc[-1].tiempo+seconds)]\n",
    "        if (len(next_period) == 0):\n",
    "            out = out.append(out.iloc[-1])\n",
    "            out.iloc[-1].tiempo = out.iloc[-1] + seconds\n",
    "        else:\n",
    "            out = out.append(next_period.iloc[-1])\n",
    "            out.iloc[-1].tiempo = out.iloc[-2].tiempo + seconds\n",
    "        if ( out.iloc[-2].ocupacion == out.iloc[-1].ocupacion):\n",
    "            out.iloc[-1].operacion = 0\n",
    "    return out.reset_index(drop=True)"
   ]
  },
  {
   "cell_type": "code",
   "execution_count": null,
   "metadata": {
    "ExecuteTime": {
     "start_time": "2020-01-05T21:05:29.476Z"
    }
   },
   "outputs": [],
   "source": [
    "#Normalizes all the data times. Divide the data into x minutes intervals\n",
    "normalized_data = pd.DataFrame(columns=dateweek_columns)\n",
    "for i in range(len(indexes)-1):\n",
    "    clear_output()\n",
    "    print('Iteracion {} de {}'.format(i, len(indexes)-2))\n",
    "    normalized_data = normalized_data.append(normalize_data_period(data_week[indexes[i]:indexes[i+1]].copy(), period=period) )\n",
    "normalized_data = normalized_data.append(normalize_data_period(data_week[indexes[-1]:len(data_week)].copy(), period=period) )"
   ]
  },
  {
   "cell_type": "code",
   "execution_count": null,
   "metadata": {
    "ExecuteTime": {
     "start_time": "2020-01-05T21:05:38.942Z"
    }
   },
   "outputs": [],
   "source": [
    "normalized_data"
   ]
  },
  {
   "cell_type": "code",
   "execution_count": null,
   "metadata": {
    "ExecuteTime": {
     "start_time": "2020-01-05T21:05:39.177Z"
    }
   },
   "outputs": [],
   "source": [
    "#Normalize the tiempo column to values between 0 and 1\n",
    "normalized_data['tiempo'] = normalized_data['tiempo'].apply(normalize_time)"
   ]
  },
  {
   "cell_type": "code",
   "execution_count": null,
   "metadata": {
    "ExecuteTime": {
     "start_time": "2020-01-05T21:05:46.554Z"
    }
   },
   "outputs": [],
   "source": [
    "def separate_data_per_street(data, street):\n",
    "    '''\n",
    "    Divide the df that contains all the streets into a list.\n",
    "    Which position contains a data of a designed street\n",
    "    '''\n",
    "    return data.loc[data.id_cuadra == street]\n",
    "\n",
    "data_separate = []\n",
    "for i in (normalized_data['id_cuadra'].drop_duplicates()):\n",
    "    data_separate.append(separate_data_per_street(normalized_data, i))"
   ]
  },
  {
   "cell_type": "code",
   "execution_count": null,
   "metadata": {
    "ExecuteTime": {
     "start_time": "2020-01-05T21:05:46.889Z"
    }
   },
   "outputs": [],
   "source": [
    "data_separate"
   ]
  },
  {
   "cell_type": "code",
   "execution_count": null,
   "metadata": {
    "ExecuteTime": {
     "end_time": "2020-01-05T19:42:37.253646Z",
     "start_time": "2020-01-05T18:33:05.454870Z"
    }
   },
   "outputs": [],
   "source": [
    "#este es el nuevo\n",
    "def prepare_train_data(data, street, train_size=3, tolerance=0, data_columns=['tiempo','ocupacion','operacion'], control_target=False):\n",
    "    '''\n",
    "    Puts train_size values in a row with \n",
    "    '''   \n",
    "    train_data = []\n",
    "    train_street = []\n",
    "    train_weekday = []\n",
    "    train_season = []\n",
    "    targets = []\n",
    "\n",
    "    #We dont have any value in sunday\n",
    "    for weekday in range(0, 6):\n",
    "        data_weekday = data.loc[data['dia de semana'] == weekday]\n",
    "        \n",
    "        for s in range(0, 4):\n",
    "            data_season = data_weekday.loc[data_weekday['estacion'] == s]\n",
    "\n",
    "            for i in range(len(data_season)-train_size-1):\n",
    "                data_to_add = data_season[i:i+train_size].loc[:, data_columns]\n",
    "                \n",
    "                if len(data_to_add['ocupacion'].drop_duplicates()) >= tolerance:\n",
    "                    \n",
    "                    if control_target:\n",
    "                        if (data_to_add['ocupacion'].iloc[train_size-1]) != (data_season.iloc[i+train_size+1]['ocupacion']):\n",
    "                            train_data.append(np.array(data_to_add.values)) \n",
    "                            train_street.append(street)\n",
    "                            train_weekday.append(weekday)\n",
    "                            train_season.append(s)\n",
    "                            targets.append(data_season.iloc[i+train_size+1]['ocupacion'])               \n",
    "                    else:\n",
    "                        train_data.append(np.array(data_to_add.values)) \n",
    "                        train_street.append(street)\n",
    "                        train_weekday.append(weekday)\n",
    "                        train_season.append(s)\n",
    "                        targets.append(data_season.iloc[i+train_size+1]['ocupacion'])\n",
    "                        \n",
    "        #TODO: delete train_time\n",
    "        #train_time.append(np.array(data_weekday[train_size:].loc[:,'tiempo'].values))\n",
    "\n",
    "    #return np.array(train_data), np.array(train_street), np.array(train_weekday), np.array(train_time), np.array(targets)\n",
    "    return np.array(train_data), np.array(train_street), np.array(train_weekday), np.array(train_season), np.array(targets)\n",
    "    \n",
    "        \n",
    "train_data = []\n",
    "train_street = []\n",
    "train_weekday = []\n",
    "train_season = []\n",
    "#train_time = []\n",
    "targets = []\n",
    "\n",
    "for street in range(len(normalized_data['id_cuadra'].drop_duplicates())):\n",
    "    clear_output()\n",
    "    print('Calle num: ', street)\n",
    "    #p_train_data, p_train_street, p_train_weekday, p_train_time, p_targets = prepare_train_data(data_separate[street], street, train_size=train_size, tolerance=tolerance, operation=operation, control_target=control_target)\n",
    "    p_train_data, p_train_street, p_train_weekday, p_train_season, p_targets = prepare_train_data(data_separate[street], street, train_size=train_size, tolerance=tolerance, data_columns=data_columns, control_target=control_target)\n",
    "    train_data.append(p_train_data)\n",
    "    train_street.append(p_train_street)\n",
    "    train_weekday.append(p_train_weekday)\n",
    "    train_season.append(p_train_season)\n",
    "    #train_time.append(p_train_time)\n",
    "    targets.append(p_targets)"
   ]
  },
  {
   "cell_type": "code",
   "execution_count": null,
   "metadata": {
    "ExecuteTime": {
     "end_time": "2020-01-05T19:42:37.270687Z",
     "start_time": "2020-01-05T19:42:37.253646Z"
    }
   },
   "outputs": [],
   "source": [
    "'''# ESTE ANDA\n",
    "def prepare_train_data(data, street, train_size=3):\n",
    "    \n",
    "    #Puts train_size values in a row with \n",
    "      \n",
    "    train_data = []\n",
    "    train_street = []\n",
    "    train_weekday = []\n",
    "    train_time = []\n",
    "    targets = []\n",
    "\n",
    "    #We dont have any value in sunday\n",
    "    for weekday in range(0, 6):\n",
    "        data_weekday = data.loc[data['dia de semana'] == weekday]\n",
    "\n",
    "        for i in range(len(data_weekday)-train_size):\n",
    "            train_data.append(np.array(data_weekday[i:i+train_size].loc[:,['tiempo','ocupacion','operacion']].values)) \n",
    "            train_street.append(street)\n",
    "            train_weekday.append(weekday)\n",
    "\n",
    "        train_time.append(np.array(data_weekday[train_size:].loc[:,'tiempo'].values))\n",
    "        targets.append(np.array(data_weekday[train_size:].loc[:,'ocupacion'].values))               \n",
    "\n",
    "    return np.array(train_data), np.array(train_street), np.array(train_weekday), np.array(train_time), np.array(targets)\n",
    "    \n",
    "        \n",
    "train_data = []\n",
    "train_street = []\n",
    "train_weekday = []\n",
    "train_time = []\n",
    "targets = []\n",
    "\n",
    "for street in range(len(normalized_data['id_cuadra'].drop_duplicates())):\n",
    "    print('Calle num: ', street)\n",
    "    p_train_data, p_train_street, p_train_weekday, p_train_time, p_targets = prepare_train_data(data_separate[street], street, train_size=train_size)\n",
    "    train_data.append(p_train_data)\n",
    "    train_street.append(p_train_street)\n",
    "    train_weekday.append(p_train_weekday)\n",
    "    train_time.append(p_train_time)\n",
    "    targets.append(p_targets)'''"
   ]
  },
  {
   "cell_type": "code",
   "execution_count": null,
   "metadata": {
    "ExecuteTime": {
     "end_time": "2020-01-05T19:42:37.285647Z",
     "start_time": "2020-01-05T19:42:37.273680Z"
    }
   },
   "outputs": [],
   "source": [
    "'''train_street'''"
   ]
  },
  {
   "cell_type": "code",
   "execution_count": null,
   "metadata": {
    "ExecuteTime": {
     "end_time": "2020-01-05T19:42:37.297617Z",
     "start_time": "2020-01-05T19:42:37.289643Z"
    }
   },
   "outputs": [],
   "source": [
    "'''train_data'''"
   ]
  },
  {
   "cell_type": "code",
   "execution_count": null,
   "metadata": {
    "ExecuteTime": {
     "end_time": "2020-01-05T19:42:37.318377Z",
     "start_time": "2020-01-05T19:42:37.302718Z"
    }
   },
   "outputs": [],
   "source": [
    "'''targets.shape'''"
   ]
  },
  {
   "cell_type": "code",
   "execution_count": null,
   "metadata": {
    "ExecuteTime": {
     "end_time": "2020-01-05T19:42:37.326554Z",
     "start_time": "2020-01-05T19:42:37.322531Z"
    }
   },
   "outputs": [],
   "source": [
    "#t_train_weekday.shape"
   ]
  },
  {
   "cell_type": "code",
   "execution_count": null,
   "metadata": {
    "ExecuteTime": {
     "end_time": "2020-01-05T19:42:37.334498Z",
     "start_time": "2020-01-05T19:42:37.328515Z"
    }
   },
   "outputs": [],
   "source": [
    "t_train_street = train_street[0]\n",
    "t_train_weekday = train_weekday[0]\n",
    "t_train_data = train_data[0]\n",
    "t_train_season = train_season[0]\n",
    "t_targets = targets[0]"
   ]
  },
  {
   "cell_type": "code",
   "execution_count": null,
   "metadata": {
    "ExecuteTime": {
     "end_time": "2020-01-05T19:42:37.342511Z",
     "start_time": "2020-01-05T19:42:37.337491Z"
    }
   },
   "outputs": [],
   "source": [
    "'''t_train_street = train_street\n",
    "t_train_weekday = train_weekday\n",
    "t_train_data = train_data\n",
    "t_train_season = train_season\n",
    "t_targets = targets'''"
   ]
  },
  {
   "cell_type": "code",
   "execution_count": null,
   "metadata": {
    "ExecuteTime": {
     "end_time": "2020-01-05T19:43:47.883388Z",
     "start_time": "2020-01-05T19:42:37.344472Z"
    }
   },
   "outputs": [],
   "source": [
    "for i in range(len(train_street) - 1):\n",
    "    t_train_street = np.concatenate([t_train_street, train_street[i+1]])\n",
    "    t_train_weekday = np.concatenate([t_train_weekday, train_weekday[i+1]])\n",
    "    t_train_season = np.concatenate([t_train_season, train_season[i+1]])\n",
    "    t_targets = np.concatenate([t_targets, targets[i+1]])\n",
    "\n",
    "empty_streets = []\n",
    "#try:\n",
    "for i in range(len(train_data) - 1):\n",
    "    clear_output()\n",
    "    print('Iteration: {} of {}'.format(i+1, len(train_data) - 1))\n",
    "    if len(train_data[i+1]) > 0:\n",
    "        t_train_data = np.concatenate([t_train_data, train_data[i+1]])\n",
    "    else:\n",
    "        empty_streets.append(i+1)\n",
    "#except:\n",
    "#    print('ValueError: all the input arrays must have same number of dimensions in data')\n",
    "print(empty_streets)"
   ]
  },
  {
   "cell_type": "code",
   "execution_count": null,
   "metadata": {
    "ExecuteTime": {
     "end_time": "2020-01-05T19:43:57.009142Z",
     "start_time": "2020-01-05T19:43:47.888374Z"
    }
   },
   "outputs": [],
   "source": [
    "to_shuffle = list(zip(t_train_street, t_train_weekday, t_train_data, t_train_season, t_targets))\n",
    "shuffle(to_shuffle)\n",
    "s_train_street, s_train_weekday, s_train_data, s_train_season, s_targets = zip(*to_shuffle)\n",
    "\n",
    "s_targets = np.array(s_targets)"
   ]
  },
  {
   "cell_type": "code",
   "execution_count": null,
   "metadata": {
    "ExecuteTime": {
     "end_time": "2020-01-05T19:43:57.016683Z",
     "start_time": "2020-01-05T19:43:57.010700Z"
    }
   },
   "outputs": [],
   "source": [
    "'''x = tf.random.shuffle(t_train_street, seed=5)\n",
    "y = tf.random.shuffle(t_train_weekday, seed=5)\n",
    "z = tf.random.shuffle(t_targets, seed=5)\n",
    "t = tf.random.shuffle(t_train_data, seed=5)'''"
   ]
  },
  {
   "cell_type": "code",
   "execution_count": null,
   "metadata": {
    "ExecuteTime": {
     "end_time": "2020-01-05T19:43:57.025658Z",
     "start_time": "2020-01-05T19:43:57.019675Z"
    }
   },
   "outputs": [],
   "source": [
    "'''z'''"
   ]
  },
  {
   "cell_type": "code",
   "execution_count": null,
   "metadata": {
    "ExecuteTime": {
     "end_time": "2020-01-05T19:43:57.033637Z",
     "start_time": "2020-01-05T19:43:57.027653Z"
    }
   },
   "outputs": [],
   "source": [
    "(t_train_data.shape)"
   ]
  },
  {
   "cell_type": "code",
   "execution_count": null,
   "metadata": {
    "ExecuteTime": {
     "start_time": "2020-01-05T15:29:21.208Z"
    }
   },
   "outputs": [],
   "source": [
    "t_train_street = tf.convert_to_tensor(s_train_street, np.float64)\n",
    "t_train_weekday = tf.convert_to_tensor(s_train_weekday, np.float64)\n",
    "t_train_data = tf.convert_to_tensor(s_train_data, np.float64)\n",
    "t_train_season = tf.convert_to_tensor(s_train_season, np.float64)\n",
    "t_targets = tf.convert_to_tensor(s_targets, np.float64)"
   ]
  },
  {
   "cell_type": "code",
   "execution_count": null,
   "metadata": {
    "ExecuteTime": {
     "start_time": "2020-01-05T15:29:21.210Z"
    }
   },
   "outputs": [],
   "source": [
    "'''#Aplano todo y lo dejo para que entre a la red (elimino la division entre calles)\n",
    "train_street = [y for x in train_street for y in x]\n",
    "train_weekday = [y for x in train_weekday for y in x]\n",
    "train_data = [y for x in train_data for y in x]\n",
    "train_time = [y for x in train_time for y in x]\n",
    "train_time = [y for x in train_time for y in x]\n",
    "targets = [y for x in targets for y in x]\n",
    "targets = [y for x in targets for y in x]\n",
    "'''\n",
    "\n",
    "#VER COMO HACER QUE ESTO FUNCIONE\n",
    "'''\n",
    "to_shuffle = list(zip(train_street, train_weekday, train_data, train_time, targets))\n",
    "shuffle(to_shuffle)\n",
    "s_train_street, s_train_weekday, s_train_data, s_train_time, s_targets = zip(*to_shuffle)\n",
    "\n",
    "s_targets = np.array(s_targets)'''"
   ]
  },
  {
   "cell_type": "code",
   "execution_count": null,
   "metadata": {
    "ExecuteTime": {
     "start_time": "2020-01-05T15:29:21.212Z"
    }
   },
   "outputs": [],
   "source": [
    "'''t_train_data'''"
   ]
  },
  {
   "cell_type": "code",
   "execution_count": null,
   "metadata": {
    "ExecuteTime": {
     "start_time": "2020-01-05T15:29:21.214Z"
    }
   },
   "outputs": [],
   "source": [
    "'''(t_targets)'''"
   ]
  },
  {
   "cell_type": "code",
   "execution_count": null,
   "metadata": {
    "ExecuteTime": {
     "start_time": "2020-01-05T15:29:21.217Z"
    }
   },
   "outputs": [],
   "source": [
    "'''(s_train_weekday[0])'''"
   ]
  },
  {
   "cell_type": "code",
   "execution_count": null,
   "metadata": {
    "ExecuteTime": {
     "start_time": "2020-01-05T15:29:21.219Z"
    }
   },
   "outputs": [],
   "source": [
    "'''(s_train_data)'''"
   ]
  },
  {
   "cell_type": "code",
   "execution_count": null,
   "metadata": {
    "ExecuteTime": {
     "start_time": "2020-01-05T15:29:21.221Z"
    }
   },
   "outputs": [],
   "source": [
    "'''(s_train_time[0])'''"
   ]
  },
  {
   "cell_type": "code",
   "execution_count": null,
   "metadata": {
    "ExecuteTime": {
     "start_time": "2020-01-05T15:29:21.225Z"
    }
   },
   "outputs": [],
   "source": [
    "'''(s_targets[0])'''"
   ]
  },
  {
   "cell_type": "code",
   "execution_count": null,
   "metadata": {
    "ExecuteTime": {
     "start_time": "2020-01-05T15:29:21.229Z"
    }
   },
   "outputs": [],
   "source": [
    "street = 65\n",
    "weekday = 3\n",
    "\n",
    "\n",
    "plot_data = normalized_data.loc[(normalized_data.id_cuadra == street) & (normalized_data['dia de semana'] == weekday), ['tiempo', 'ocupacion']]\n",
    "plot_data = plot_data.groupby(by='tiempo').mean().reset_index()\n",
    "\n",
    "def denormalize_time(time):\n",
    "    max_time = 23 * 60 * 60 + 59 * 60 + 59\n",
    "    return pd.Timestamp(time * max_time, unit='s').time()\n",
    "\n",
    "def denormalize_ocupation(ocupation):\n",
    "    global max_ocup\n",
    "    return ocupation * max_ocup\n",
    "\n",
    "def clean_predictions(ocupation):\n",
    "    if ocupation <= 0:\n",
    "        return 0\n",
    "    return round(ocupation)\n",
    "\n",
    "\n",
    "plot_data['tiempo'] = plot_data['tiempo'].apply(denormalize_time)\n",
    "plot_data['ocupacion'] = plot_data['ocupacion'].apply(denormalize_ocupation)\n",
    "\n",
    "#Set the label titles\n",
    "plt.xlabel('Time')\n",
    "plt.ylabel('Parked cars')\n",
    "plt.title('Average parked cars in street nº{} in day {}.'.format(street, weekday))\n",
    "\n",
    "#Set the plot data for each graph (ax1,ax2,ax3)\n",
    "plt.plot(plot_data['tiempo'], plot_data['ocupacion'])\n",
    "\n",
    "plt.rcParams['figure.figsize'] = (15,8)\n",
    "plt.grid()\n",
    "#plt.xticks(normalized_data['fecha_hora'], time)\n",
    "plt.show()"
   ]
  },
  {
   "cell_type": "code",
   "execution_count": null,
   "metadata": {
    "ExecuteTime": {
     "start_time": "2020-01-05T15:29:21.233Z"
    }
   },
   "outputs": [],
   "source": [
    "plot_data"
   ]
  },
  {
   "cell_type": "code",
   "execution_count": null,
   "metadata": {
    "ExecuteTime": {
     "start_time": "2020-01-05T15:29:21.235Z"
    }
   },
   "outputs": [],
   "source": [
    "#Para la calle\n",
    "input_street = Input(shape=(1), name='input_street')\n",
    "#emb_street = Embedding(input_length=1, input_dim=max_street_num+1, output_dim=32)(input_street)\n",
    "emb_street = Embedding(input_length=1, input_dim=max_street_num+1, output_dim=16)(input_street)\n",
    "flat_street = Flatten()(input_street)\n",
    "#d_street = Dense(16, activation='relu')(flat_street)\n",
    "\n",
    "#Para el dia de la semana\n",
    "input_weekday = Input(shape=(1), name='input_weekday')\n",
    "#emb_weekday = Embedding(input_length=1, input_dim=7, output_dim=16)(input_weekday)\n",
    "emb_weekday = Embedding(input_length=1, input_dim=6, output_dim=8)(input_weekday)\n",
    "flat_weekday = Flatten()(emb_weekday)\n",
    "#d_weekday = Dense(8, activation='relu')(flat_weekday)\n",
    "\n",
    "#Para el tiempo y la ocupacion y la operacion\n",
    "input_data = Input(shape=(train_size, features), name='input_data')\n",
    "#lstm = LSTM(16, return_sequences=False, recurrent_dropout=0.25)(input_data)\n",
    "#lstm_layer = LSTM(8, return_sequences=True, recurrent_dropout=0.25)(input_data)\n",
    "lstm = LSTM(8, return_sequences=False, recurrent_dropout=0.25)(input_data)\n",
    "\n",
    "#Para la estacion del año\n",
    "input_season = Input(shape=(1), name='input_season')\n",
    "emb_season = Embedding(input_length=1, input_dim=4, output_dim=4)(input_season)\n",
    "flat_season = Flatten()(emb_season)\n",
    "#d_season = Dense(8, activation='relu')(flat_season)\n",
    "\n",
    "\n",
    "#Para el tiempo a predecir \n",
    "#No agrega valor, hace mas chota a la red. En vez de esto voy a arreglar el tiempo en los datos\n",
    "#y hacer que sea cada cierta cantidad de minutos siempre.\n",
    "#input_time = Input(shape=(1), name='input_time')\n",
    "\n",
    "concat = Concatenate(axis=-1)\n",
    "input_merge = concat([flat_weekday, flat_street])\n",
    "input_merge = concat([input_merge, lstm])\n",
    "input_merge = concat([input_merge, flat_season])\n",
    "#input_merge = concat([input_merge, input_time])\n",
    "\n",
    "d = Dense(32, activation='relu')(input_merge)\n",
    "d = Dropout(0.25)(d)\n",
    "d = Dense(64, activation='relu')(d)\n",
    "#d = Dense(128, activation='relu')(d)\n",
    "#d = Dropout(0.5)(d)\n",
    "#d = Dense(128, activation='relu')(d)\n",
    "#d = Dense(128, activation='relu')(d)\n",
    "#d = Dense(128, activation='relu')(d)\n",
    "#d = Dropout(0.5)(d)\n",
    "#d = Dense(32, activation='relu')(d)\n",
    "#d = Dropout(0.25)(d)\n",
    "out = Dense(1, activation='linear')(d)\n",
    "\n",
    "model = Model(inputs=[input_weekday, input_street, input_season, input_data], outputs=out)\n",
    "model.summary()\n",
    "model.compile(loss='MSE', optimizer='adam', metrics=['MAE'])"
   ]
  },
  {
   "cell_type": "code",
   "execution_count": null,
   "metadata": {
    "ExecuteTime": {
     "start_time": "2020-01-05T15:29:21.238Z"
    }
   },
   "outputs": [],
   "source": [
    "#h = model.fit([s_train_weekday, s_train_street, s_train_data], s_targets, epochs=5, batch_size=64, validation_split=0.1)\n",
    "red_lr = ReduceLROnPlateau(monitor='val_loss', factor=0.2, patience=2, min_lr=0.00000001)\n",
    "\n",
    "#h = model.fit([t_train_weekday, t_train_street, t_train_data], t_targets, epochs=20, batch_size=32, validation_split=0.2, callbacks=[red_lr])\n",
    "#h = model.fit([t_train_weekday, t_train_street, t_train_season, t_train_data], den_targets, epochs=20, batch_size=512, validation_split=0.2, callbacks=[red_lr])\n",
    "h = model.fit([t_train_weekday, t_train_street, t_train_season, t_train_data], t_targets, epochs=50, batch_size=64, validation_split=0.1, callbacks=[red_lr])"
   ]
  },
  {
   "cell_type": "code",
   "execution_count": null,
   "metadata": {
    "ExecuteTime": {
     "start_time": "2020-01-05T15:29:21.240Z"
    }
   },
   "outputs": [],
   "source": [
    "%matplotlib inline\n",
    "import pickle\n",
    "import numpy as np\n",
    "from matplotlib import pyplot as plt\n",
    "\n",
    "plt.plot(h.history['MAE'])\n",
    "plt.plot(h.history['val_MAE'])\n",
    "plt.title('model MAE')\n",
    "plt.ylabel('accuracy')\n",
    "plt.xlabel('epoch')\n",
    "plt.legend(['train', 'test'], loc='upper left')\n",
    "plt.show()\n",
    "# summarize history for loss\n",
    "plt.plot(h.history['loss'])\n",
    "plt.plot(h.history['val_loss'])\n",
    "plt.title('model loss')\n",
    "plt.ylabel('loss')\n",
    "plt.xlabel('epoch')\n",
    "plt.legend(['train', 'test'], loc='upper left')\n",
    "plt.show()"
   ]
  },
  {
   "cell_type": "code",
   "execution_count": null,
   "metadata": {
    "ExecuteTime": {
     "start_time": "2020-01-05T15:29:21.242Z"
    }
   },
   "outputs": [],
   "source": [
    "pd.DataFrame(h.history['loss']).apply(denormalize_ocupation)"
   ]
  },
  {
   "cell_type": "code",
   "execution_count": null,
   "metadata": {
    "ExecuteTime": {
     "start_time": "2020-01-05T15:29:21.244Z"
    }
   },
   "outputs": [],
   "source": [
    "index = 2\n",
    "\n",
    "true_data = data_week[indexes[index]:indexes[index+1]].copy().reset_index(drop=True)\n",
    "true_data['tiempo'].apply(normalize_time).apply(denormalize_time).drop_duplicates()"
   ]
  },
  {
   "cell_type": "code",
   "execution_count": null,
   "metadata": {
    "ExecuteTime": {
     "start_time": "2020-01-05T15:29:21.246Z"
    }
   },
   "outputs": [],
   "source": [
    "start_index = 80\n",
    "finish_index = 108"
   ]
  },
  {
   "cell_type": "code",
   "execution_count": null,
   "metadata": {
    "ExecuteTime": {
     "start_time": "2020-01-05T15:29:21.249Z"
    }
   },
   "outputs": [],
   "source": [
    "start_time = true_data['tiempo'].iloc[start_index]\n",
    "finish_time = true_data['tiempo'].iloc[finish_index]\n",
    "predictions_needed = int((finish_time - start_time) / (period * 60))\n",
    "\n",
    "plot_true_data = true_data.copy()\n",
    "\n",
    "weekday = plot_true_data['dia de semana'][0]\n",
    "\n",
    "def denormalize_time_to_date(time):\n",
    "    return pd.Timestamp(time, unit='s').time()\n",
    "\n",
    "\n",
    "#print(start_index, finish_index)\n",
    "\n",
    "plot_true_data['tiempo'] = plot_true_data['tiempo'].apply(normalize_time)\n",
    "\n",
    "def init_test(data, data_columns=['tiempo','ocupacion','operacion']):\n",
    "    global train_size, features\n",
    "    #print(data)\n",
    "    street = data['id_cuadra'].iloc[0]\n",
    "    weekday = data['dia de semana'].iloc[0]\n",
    "    season = data['estacion'].iloc[0]\n",
    "    d = data[data_columns]\n",
    "    street = np.array(street).reshape(1,1)\n",
    "    weekday = np.array(street).reshape(1,1)\n",
    "    season = np.array(season).reshape(1,1)\n",
    "    d = np.array(d).reshape(1,train_size,features)\n",
    "    return street, weekday, season, d\n",
    "\n",
    "def prepare_test_data(data, predicted_data, predicted_time, predicted_operation=None, data_columns=['tiempo','ocupacion','operacion']):\n",
    "    #last = data[0]\n",
    "    if 'operacion' in data_columns:\n",
    "         \n",
    "        #out = np.concatenate([data[0], np.array([predicted_time, predicted_data, predicted_operation]).reshape(1,features)])\n",
    "        out = np.concatenate([data[0], np.array([predicted_data, predicted_operation]).reshape(1,features)])\n",
    "        out = out[1:out.shape[0]].reshape(1, train_size, features)\n",
    "        #last[-1]\n",
    "        #print('TODO')\n",
    "    else:\n",
    "        #print(data[0])\n",
    "        #print(np.array([predicted_time,predicted_data]))\n",
    "        \n",
    "        #print(np.concatenate([data[0], np.array([predicted_time,predicted_data]).reshape(1,features)]))\n",
    "        \n",
    "        out = np.concatenate([data[0], np.array([predicted_time,predicted_data]).reshape(1,features)])\n",
    "        out = out[1:out.shape[0]].reshape(1, train_size, features)\n",
    "        #print(out)\n",
    "        #print(out.shape[1])\n",
    "    return out\n",
    "    \n",
    "def get_predicted_operation(data, predicted_data):\n",
    "    #print(clean_predictions(denormalize_ocupation(data[0][-1][1])), clean_predictions(denormalize_ocupation(predicted_data)))\n",
    "    \n",
    "    predicted_operation = 1\n",
    "    if clean_predictions(denormalize_ocupation(data[0][-1][1])) == clean_predictions(denormalize_ocupation(predicted_data)):\n",
    "        predicted_operation = 0\n",
    "    elif clean_predictions(denormalize_ocupation(data[0][-1][1])) > clean_predictions(denormalize_ocupation(predicted_data)):\n",
    "        predicted_operation = -1\n",
    "    return predicted_operation\n",
    "\n",
    "#print(plot_true_data)\n",
    "\n",
    "test_street, test_weekday, test_season, test_data = init_test(plot_true_data[start_index-train_size+1:start_index+1], data_columns=data_columns)\n",
    "\n",
    "plot_predicted_data = pd.DataFrame(columns=data_columns)\n",
    "\n",
    "last_data_time = plot_true_data.iloc[start_index].tiempo#test_data[0][test_data.shape[1]-1][0]\n",
    "\n",
    "#print(test_data[0])\n",
    "\n",
    "plot_predicted_data = plot_predicted_data.append({'ocupacion':test_data[0][test_data.shape[1]-1][0], 'tiempo':last_data_time}, ignore_index=True)\n",
    "#plot_predicted_data = plot_predicted_data.append({'ocupacion':denormalize_ocupation(test_data[0][test_data.shape[1]-1][1]), 'tiempo':last_data_time}, ignore_index=True)\n",
    "\n",
    "#print(last_data_time)\n",
    "\n",
    "\n",
    "t_test_street = tf.convert_to_tensor(test_street, np.float64)\n",
    "t_test_weekday = tf.convert_to_tensor(test_weekday, np.float64)\n",
    "t_test_season = tf.convert_to_tensor(test_season, np.float64)\n",
    "#print(to_seconds(denormalize_time(last_data_time)))\n",
    "for i in range(predictions_needed):\n",
    "    print('Iteration: {} of {}'.format(i, (predictions_needed)))\n",
    "          \n",
    "    #print(test_data)\n",
    "    \n",
    "\n",
    "    t_test_data = tf.convert_to_tensor(test_data, np.float64)\n",
    "\n",
    "    \n",
    "    pred_value = model.predict([t_test_street, t_test_weekday, t_test_season, t_test_data])[0][0]\n",
    "    pred_time = last_data_time + normalize_time(period * 60)\n",
    "    pred_operation = get_predicted_operation(test_data, pred_value)\n",
    "    \n",
    "    #if i == 1 or i == 2 or i == 3:\n",
    "    #    print(pred_value)\n",
    "    if 'operacion' in data_columns:\n",
    "        plot_predicted_data = plot_predicted_data.append({'ocupacion': pred_value, 'tiempo': pred_time, 'operacion': pred_operation}, ignore_index=True)\n",
    "        test_data = prepare_test_data(test_data, predicted_data=pred_value, predicted_time=pred_time, predicted_operation=pred_operation, data_columns=data_columns)\n",
    "\n",
    "    else:\n",
    "        plot_predicted_data = plot_predicted_data.append({'ocupacion': pred_value, 'tiempo': pred_time}, ignore_index=True)\n",
    "        test_data = prepare_test_data(test_data, predicted_data=pred_value, predicted_time=pred_time, data_columns=data_columns)\n",
    "\n",
    "    last_data_time = pred_time\n",
    "\n",
    "\n",
    "plot_true_data['tiempo'] = plot_true_data['tiempo'].apply(denormalize_time)\n",
    "plot_true_data['ocupacion'] = plot_true_data['ocupacion'].apply(denormalize_ocupation)\n",
    "plot_predicted_data['tiempo'] = plot_predicted_data['tiempo'].apply(denormalize_time)\n",
    "plot_predicted_data['ocupacion'] = plot_predicted_data['ocupacion'].apply(denormalize_ocupation)\n",
    "plot_predicted_data['ocupacion'] = plot_predicted_data['ocupacion'].apply(clean_predictions)\n",
    "\n",
    "\n",
    "#Set the label titles\n",
    "plt.xlabel('Time')\n",
    "plt.ylabel('Parked cars')\n",
    "plt.title('Average parked cars in street nº{} on {}.'.format(test_street[0][0], weekday))\n",
    "\n",
    "#Set the plot data for each graph (ax1,ax2,ax3)\n",
    "plt.plot(plot_true_data['tiempo'], plot_true_data['ocupacion'], c='b')\n",
    "plt.plot(plot_predicted_data['tiempo'], plot_predicted_data['ocupacion'], c='r')\n",
    "\n",
    "clear_output()\n",
    "\n",
    "plt.rcParams['figure.figsize'] = (15,8)\n",
    "plt.grid()\n",
    "plt.legend(['True values','Predicted values'])\n",
    "#plt.xticks(normalized_data['fecha_hora'], time)\n",
    "plt.show()"
   ]
  },
  {
   "cell_type": "code",
   "execution_count": null,
   "metadata": {
    "ExecuteTime": {
     "start_time": "2020-01-05T15:29:21.252Z"
    }
   },
   "outputs": [],
   "source": [
    "plot_predicted_data[0:100]"
   ]
  },
  {
   "cell_type": "code",
   "execution_count": null,
   "metadata": {
    "ExecuteTime": {
     "start_time": "2020-01-05T15:29:21.254Z"
    }
   },
   "outputs": [],
   "source": [
    "i = 2\n",
    "\n",
    "a = np.array(t_train_weekday[i])\n",
    "a = np.reshape(a, (1,1))\n",
    "\n",
    "b = np.array(t_train_street[i])\n",
    "b = np.reshape(b, (1,1))\n",
    "\n",
    "c = np.array(t_train_season[i])\n",
    "c = np.reshape(c, (1,1))\n",
    "#c = np.array(train_time[0][0])\n",
    "#c = np.reshape(c, (1,1))\n",
    "\n",
    "d = np.array(t_train_data[i])\n",
    "d = np.reshape(d, (1,train_size,features))\n",
    "d = tf.convert_to_tensor(d, np.float64)\n",
    "\n",
    "not_normalized_data = []\n",
    "\n",
    "for i in range(train_size):\n",
    "    not_normalized_data.append(float(d[0][i][0]) * max_ocup)\n",
    "    \n",
    "    \n",
    "print('Weekday: ', a[0])\n",
    "print('Street:  ', b[0])\n",
    "print('Season:    ', c[0])\n",
    "print('Data:    ', d[0])\n",
    "print('Not normalized data: ', not_normalized_data)\n",
    "print('Targets: ', t_targets[i])\n",
    "print('Targets: ', t_targets[i] * max_ocup)"
   ]
  },
  {
   "cell_type": "code",
   "execution_count": null,
   "metadata": {
    "ExecuteTime": {
     "start_time": "2020-01-05T15:29:21.256Z"
    }
   },
   "outputs": [],
   "source": [
    "print('Valor predicho: ', model.predict([a, b, c, d])[0][0])\n",
    "print('Valor predicho (si normalizar es necesario): ', model.predict([a, b, c, d])[0][0] * max_ocup)\n",
    "\n",
    "import math #funcion techo\n",
    "#print('Valor predicho techo: ', math.ceil(model.predict([a, b, d])[0][0]))\n",
    "\n",
    "print('Valor real:     ', t_targets[i] * max_ocup)"
   ]
  },
  {
   "cell_type": "code",
   "execution_count": null,
   "metadata": {
    "ExecuteTime": {
     "start_time": "2020-01-05T15:29:21.258Z"
    }
   },
   "outputs": [],
   "source": [
    "'''index = 1\n",
    "\n",
    "\n",
    "plot_true_data = data_week[indexes[index]:indexes[index+1]].copy().reset_index(drop=True)\n",
    "\n",
    "weekday = plot_true_data['dia de semana'][0]\n",
    "def denormalize_time_to_date(time):\n",
    "    return pd.Timestamp(time, unit='s').time()\n",
    "\n",
    "quarter = int(len(plot_true_data) * 1/4)\n",
    "three_quarter = int(quarter * 3)\n",
    "\n",
    "#three_quarter_time = plot_true_data.iloc[three_quarter]['tiempo']\n",
    "\n",
    "plot_true_data['tiempo'] = plot_true_data['tiempo'].apply(normalize_time)\n",
    "\n",
    "def init_test(data, data_columns=['tiempo','ocupacion','operacion']):\n",
    "    global train_size, features\n",
    "    street = data['id_cuadra'].iloc[0]\n",
    "    weekday = data['dia de semana'].iloc[0]\n",
    "    season = data['estacion'].iloc[0]\n",
    "    d = data[data_columns]\n",
    "    street = np.array(street).reshape(1,1)\n",
    "    weekday = np.array(street).reshape(1,1)\n",
    "    season = np.array(season).reshape(1,1)\n",
    "    d = np.array(d).reshape(1,train_size,features)\n",
    "    return street, weekday, season, d\n",
    "\n",
    "def prepare_test_data(data, predicted_data, predicted_time, data_columns=['tiempo','ocupacion','operacion']):\n",
    "    last = data[0]\n",
    "    if 'operacion' in data_columns:\n",
    "        last[-1]\n",
    "        print('TODO')\n",
    "    else:\n",
    "        #print(data[0])\n",
    "        #print(np.array([predicted_time,predicted_data]))\n",
    "        \n",
    "        #print(np.concatenate([data[0], np.array([predicted_time,predicted_data]).reshape(1,features)]))\n",
    "        \n",
    "        out = np.concatenate([data[0], np.array([predicted_time,predicted_data]).reshape(1,features)])\n",
    "        out = out[1:out.shape[0]].reshape(1, train_size, features)\n",
    "        #print(out)\n",
    "        #print(out.shape[1])\n",
    "    return out\n",
    "    \n",
    "#print(plot_true_data)\n",
    "\n",
    "test_street, test_weekday, test_season, test_data = init_test(plot_true_data[-train_size-1-quarter:-1-quarter], data_columns=data_columns)\n",
    "\n",
    "plot_predicted_data = pd.DataFrame(columns=data_columns)\n",
    "\n",
    "last_data_time = test_data[0][test_data.shape[1]-1][0]\n",
    "\n",
    "plot_predicted_data = plot_predicted_data.append({'ocupacion':test_data[0][test_data.shape[1]-1][1], 'tiempo':last_data_time}, ignore_index=True)\n",
    "#plot_predicted_data = plot_predicted_data.append({'ocupacion':denormalize_ocupation(test_data[0][test_data.shape[1]-1][1]), 'tiempo':last_data_time}, ignore_index=True)\n",
    "\n",
    "print(test_data)\n",
    "\n",
    "for i in range(len(plot_true_data)-quarter):\n",
    "    print('Iteration: {} of {}'.format(i, len(plot_true_data)-quarter-1))\n",
    "\n",
    "    pred_value = model.predict([test_street, test_weekday, test_season, test_data])[0][0]\n",
    "    pred_time = last_data_time + normalize_time(period * 60)\n",
    "    \n",
    "    #if i == 1 or i == 2 or i == 3:\n",
    "    #    print(pred_value)\n",
    "    \n",
    "    plot_predicted_data = plot_predicted_data.append({'ocupacion': pred_value, 'tiempo': pred_time}, ignore_index=True)\n",
    "    last_data_time = pred_time\n",
    "    test_data = prepare_test_data(test_data, predicted_data=pred_value, predicted_time=pred_time, data_columns=data_columns)\n",
    "\n",
    "\n",
    "plot_true_data['tiempo'] = plot_true_data['tiempo'].apply(denormalize_time)\n",
    "plot_true_data['ocupacion'] = plot_true_data['ocupacion'].apply(denormalize_ocupation)\n",
    "plot_predicted_data['tiempo'] = plot_predicted_data['tiempo'].apply(denormalize_time)\n",
    "plot_predicted_data['ocupacion'] = plot_predicted_data['ocupacion'].apply(denormalize_ocupation)\n",
    "plot_predicted_data['ocupacion'] = plot_predicted_data['ocupacion'].apply(clean_predictions)\n",
    "\n",
    "\n",
    "#Set the label titles\n",
    "plt.xlabel('Time')\n",
    "plt.ylabel('Parked cars')\n",
    "plt.title('Average parked cars in street nº{} on {}.'.format(test_street[0][0], weekday))\n",
    "\n",
    "#Set the plot data for each graph (ax1,ax2,ax3)\n",
    "plt.plot(plot_true_data['tiempo'], plot_true_data['ocupacion'], c='b')\n",
    "plt.plot(plot_predicted_data['tiempo'], plot_predicted_data['ocupacion'], c='r')\n",
    "\n",
    "clear_output()\n",
    "\n",
    "plt.rcParams['figure.figsize'] = (15,8)\n",
    "plt.grid()\n",
    "plt.legend(['True values','Predicted values'])\n",
    "#plt.xticks(normalized_data['fecha_hora'], time)\n",
    "plt.show()'''"
   ]
  },
  {
   "cell_type": "markdown",
   "metadata": {},
   "source": [
    "### Para el siguiente valor (y simular calcular valores seguidos)"
   ]
  },
  {
   "cell_type": "markdown",
   "metadata": {},
   "source": [
    "### En este intento voy a utilizar como dato de tiempo el dia con num y la hora"
   ]
  },
  {
   "cell_type": "markdown",
   "metadata": {},
   "source": [
    "### Otra red!"
   ]
  },
  {
   "cell_type": "markdown",
   "metadata": {},
   "source": [
    "### Ideas de redes:\n",
    "### Cosas que deberian ir si o si de entrada: Dia de la semana, mes (cuando tenga mas datos), tiempo\n",
    "### Utilizar los valores de Entrada/Salida y que prediga capacidad \n",
    "### Utilizar valores de capacidad y que prediga capacidad"
   ]
  }
 ],
 "metadata": {
  "kernelspec": {
   "display_name": "Python 3",
   "language": "python",
   "name": "python3"
  },
  "language_info": {
   "codemirror_mode": {
    "name": "ipython",
    "version": 3
   },
   "file_extension": ".py",
   "mimetype": "text/x-python",
   "name": "python",
   "nbconvert_exporter": "python",
   "pygments_lexer": "ipython3",
   "version": "3.7.3"
  }
 },
 "nbformat": 4,
 "nbformat_minor": 2
}
