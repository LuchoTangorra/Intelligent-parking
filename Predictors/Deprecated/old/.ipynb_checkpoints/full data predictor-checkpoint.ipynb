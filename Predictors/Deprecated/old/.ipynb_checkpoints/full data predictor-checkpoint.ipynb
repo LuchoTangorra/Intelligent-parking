{
 "cells": [
  {
   "cell_type": "code",
   "execution_count": null,
   "metadata": {
    "ExecuteTime": {
     "end_time": "2020-03-03T17:30:06.596127Z",
     "start_time": "2020-03-03T17:30:00.270164Z"
    }
   },
   "outputs": [],
   "source": [
    "import pandas as pd\n",
    "import numpy as np\n",
    "import math\n",
    "import matplotlib.pyplot as plt\n",
    "from IPython.display import display, HTML, clear_output\n",
    "import tensorflow as tf\n",
    "from tensorflow.keras.layers import Input, Dense, Dropout, Embedding, Concatenate, Flatten, BatchNormalization\n",
    "from tensorflow.keras.models import Model\n",
    "from tensorflow.keras.callbacks import ReduceLROnPlateau\n",
    "\n",
    "from random import shuffle\n",
    "import datetime"
   ]
  },
  {
   "cell_type": "code",
   "execution_count": 2,
   "metadata": {
    "ExecuteTime": {
     "end_time": "2020-03-03T17:30:06.604106Z",
     "start_time": "2020-03-03T17:30:06.598124Z"
    }
   },
   "outputs": [],
   "source": [
    "r'''\n",
    "full_sumo_data: all sumo data with ocupation (requested in sumo office)\n",
    "\n",
    "full_sumo_data_past_10: all sumo data with ocupation and 10 minutes past ocupation (requested in sumo office)\n",
    "\n",
    "'''\n",
    "\n",
    "full_sumo_data_path = r'C:\\Users\\ing_l\\Tesis grado\\Data\\SUMO\\full_SUMO_data_ocupation.csv'\n",
    "full_sumo_data_past_10_path = r'C:\\Users\\ing_l\\Tesis grado\\Data\\SUMO\\full_SUMO_data_past_10_ocupation.csv'\n",
    "full_sumo_data_past_30_path = r'C:\\Users\\ing_l\\Tesis grado\\Data\\SUMO\\full_SUMO_data_past_30_ocupation.csv'"
   ]
  },
  {
   "cell_type": "code",
   "execution_count": 3,
   "metadata": {
    "ExecuteTime": {
     "end_time": "2020-03-03T17:30:09.541032Z",
     "start_time": "2020-03-03T17:30:06.607100Z"
    }
   },
   "outputs": [],
   "source": [
    "data = pd.read_csv(full_sumo_data_path)\n",
    "data.drop('Unnamed: 0', axis=1, inplace=True)"
   ]
  },
  {
   "cell_type": "code",
   "execution_count": 4,
   "metadata": {
    "ExecuteTime": {
     "end_time": "2020-03-03T17:30:10.071332Z",
     "start_time": "2020-03-03T17:30:09.541032Z"
    }
   },
   "outputs": [],
   "source": [
    "#Delete oficina SUMO and Tribunal de Faltas\n",
    "data = data.loc[data.parquimetro != 37]\n",
    "data = data.loc[data.parquimetro != 190]"
   ]
  },
  {
   "cell_type": "code",
   "execution_count": 5,
   "metadata": {
    "ExecuteTime": {
     "end_time": "2020-03-03T17:34:30.482398Z",
     "start_time": "2020-03-03T17:30:10.071332Z"
    }
   },
   "outputs": [],
   "source": [
    "data['fecha_emision'] = data['fecha_emision'].apply(lambda x: pd.to_datetime(x, dayfirst=True).date())"
   ]
  },
  {
   "cell_type": "code",
   "execution_count": 6,
   "metadata": {
    "ExecuteTime": {
     "end_time": "2020-03-03T17:44:56.688158Z",
     "start_time": "2020-03-03T17:34:30.482398Z"
    }
   },
   "outputs": [],
   "source": [
    "data['tiempo_emision'] = data['tiempo_emision'].apply(lambda x: pd.to_datetime(x, dayfirst=True).time())"
   ]
  },
  {
   "cell_type": "code",
   "execution_count": 7,
   "metadata": {
    "ExecuteTime": {
     "end_time": "2020-03-03T17:44:56.907410Z",
     "start_time": "2020-03-03T17:44:56.688158Z"
    }
   },
   "outputs": [],
   "source": [
    "d = data.copy()"
   ]
  },
  {
   "cell_type": "code",
   "execution_count": 8,
   "metadata": {
    "ExecuteTime": {
     "end_time": "2020-03-03T17:44:56.944020Z",
     "start_time": "2020-03-03T17:44:56.909404Z"
    }
   },
   "outputs": [
    {
     "data": {
      "text/html": [
       "<div>\n",
       "<style scoped>\n",
       "    .dataframe tbody tr th:only-of-type {\n",
       "        vertical-align: middle;\n",
       "    }\n",
       "\n",
       "    .dataframe tbody tr th {\n",
       "        vertical-align: top;\n",
       "    }\n",
       "\n",
       "    .dataframe thead th {\n",
       "        text-align: right;\n",
       "    }\n",
       "</style>\n",
       "<table border=\"1\" class=\"dataframe\">\n",
       "  <thead>\n",
       "    <tr style=\"text-align: right;\">\n",
       "      <th></th>\n",
       "      <th>parquimetro</th>\n",
       "      <th>fecha_emision</th>\n",
       "      <th>tiempo_emision</th>\n",
       "      <th>operacion</th>\n",
       "      <th>tiempo_estacionado</th>\n",
       "      <th>direccion</th>\n",
       "      <th>latitud</th>\n",
       "      <th>longitud</th>\n",
       "      <th>ocupacion</th>\n",
       "    </tr>\n",
       "  </thead>\n",
       "  <tbody>\n",
       "    <tr>\n",
       "      <td>0</td>\n",
       "      <td>16</td>\n",
       "      <td>2019-01-01</td>\n",
       "      <td>10:55:00</td>\n",
       "      <td>0</td>\n",
       "      <td>10:00</td>\n",
       "      <td>Belgrano 660</td>\n",
       "      <td>-37.328838</td>\n",
       "      <td>-59.134455</td>\n",
       "      <td>0</td>\n",
       "    </tr>\n",
       "    <tr>\n",
       "      <td>1</td>\n",
       "      <td>60</td>\n",
       "      <td>2019-01-01</td>\n",
       "      <td>16:25:00</td>\n",
       "      <td>1</td>\n",
       "      <td>0:00</td>\n",
       "      <td>Chacabuco 357</td>\n",
       "      <td>-37.328143</td>\n",
       "      <td>-59.136740</td>\n",
       "      <td>1</td>\n",
       "    </tr>\n",
       "    <tr>\n",
       "      <td>2</td>\n",
       "      <td>60</td>\n",
       "      <td>2019-01-01</td>\n",
       "      <td>16:25:00</td>\n",
       "      <td>0</td>\n",
       "      <td>0:00</td>\n",
       "      <td>Chacabuco 357</td>\n",
       "      <td>-37.328143</td>\n",
       "      <td>-59.136740</td>\n",
       "      <td>0</td>\n",
       "    </tr>\n",
       "    <tr>\n",
       "      <td>3</td>\n",
       "      <td>60</td>\n",
       "      <td>2019-01-01</td>\n",
       "      <td>16:25:00</td>\n",
       "      <td>1</td>\n",
       "      <td>0:00</td>\n",
       "      <td>Chacabuco 357</td>\n",
       "      <td>-37.328143</td>\n",
       "      <td>-59.136740</td>\n",
       "      <td>1</td>\n",
       "    </tr>\n",
       "    <tr>\n",
       "      <td>4</td>\n",
       "      <td>60</td>\n",
       "      <td>2019-01-01</td>\n",
       "      <td>17:11:00</td>\n",
       "      <td>0</td>\n",
       "      <td>0:46</td>\n",
       "      <td>Chacabuco 357</td>\n",
       "      <td>-37.328143</td>\n",
       "      <td>-59.136740</td>\n",
       "      <td>0</td>\n",
       "    </tr>\n",
       "    <tr>\n",
       "      <td>...</td>\n",
       "      <td>...</td>\n",
       "      <td>...</td>\n",
       "      <td>...</td>\n",
       "      <td>...</td>\n",
       "      <td>...</td>\n",
       "      <td>...</td>\n",
       "      <td>...</td>\n",
       "      <td>...</td>\n",
       "      <td>...</td>\n",
       "    </tr>\n",
       "    <tr>\n",
       "      <td>2957537</td>\n",
       "      <td>61</td>\n",
       "      <td>2019-12-31</td>\n",
       "      <td>13:20:00</td>\n",
       "      <td>0</td>\n",
       "      <td>0:38</td>\n",
       "      <td>Yrigoyen 847</td>\n",
       "      <td>-37.323967</td>\n",
       "      <td>-59.139628</td>\n",
       "      <td>1</td>\n",
       "    </tr>\n",
       "    <tr>\n",
       "      <td>2957538</td>\n",
       "      <td>61</td>\n",
       "      <td>2019-12-31</td>\n",
       "      <td>13:28:00</td>\n",
       "      <td>0</td>\n",
       "      <td>2:22</td>\n",
       "      <td>Yrigoyen 847</td>\n",
       "      <td>-37.323967</td>\n",
       "      <td>-59.139628</td>\n",
       "      <td>0</td>\n",
       "    </tr>\n",
       "    <tr>\n",
       "      <td>2957539</td>\n",
       "      <td>61</td>\n",
       "      <td>2019-12-31</td>\n",
       "      <td>13:28:00</td>\n",
       "      <td>1</td>\n",
       "      <td>2:22</td>\n",
       "      <td>Yrigoyen 847</td>\n",
       "      <td>-37.323967</td>\n",
       "      <td>-59.139628</td>\n",
       "      <td>1</td>\n",
       "    </tr>\n",
       "    <tr>\n",
       "      <td>2957540</td>\n",
       "      <td>61</td>\n",
       "      <td>2019-12-31</td>\n",
       "      <td>13:28:00</td>\n",
       "      <td>0</td>\n",
       "      <td>2:22</td>\n",
       "      <td>Yrigoyen 847</td>\n",
       "      <td>-37.323967</td>\n",
       "      <td>-59.139628</td>\n",
       "      <td>0</td>\n",
       "    </tr>\n",
       "    <tr>\n",
       "      <td>2957541</td>\n",
       "      <td>61</td>\n",
       "      <td>2019-12-31</td>\n",
       "      <td>13:35:00</td>\n",
       "      <td>0</td>\n",
       "      <td>1:39</td>\n",
       "      <td>Yrigoyen 847</td>\n",
       "      <td>-37.323967</td>\n",
       "      <td>-59.139628</td>\n",
       "      <td>0</td>\n",
       "    </tr>\n",
       "  </tbody>\n",
       "</table>\n",
       "<p>2951877 rows × 9 columns</p>\n",
       "</div>"
      ],
      "text/plain": [
       "         parquimetro fecha_emision tiempo_emision  operacion  \\\n",
       "0                 16    2019-01-01       10:55:00          0   \n",
       "1                 60    2019-01-01       16:25:00          1   \n",
       "2                 60    2019-01-01       16:25:00          0   \n",
       "3                 60    2019-01-01       16:25:00          1   \n",
       "4                 60    2019-01-01       17:11:00          0   \n",
       "...              ...           ...            ...        ...   \n",
       "2957537           61    2019-12-31       13:20:00          0   \n",
       "2957538           61    2019-12-31       13:28:00          0   \n",
       "2957539           61    2019-12-31       13:28:00          1   \n",
       "2957540           61    2019-12-31       13:28:00          0   \n",
       "2957541           61    2019-12-31       13:35:00          0   \n",
       "\n",
       "        tiempo_estacionado      direccion    latitud   longitud  ocupacion  \n",
       "0                    10:00   Belgrano 660 -37.328838 -59.134455          0  \n",
       "1                     0:00  Chacabuco 357 -37.328143 -59.136740          1  \n",
       "2                     0:00  Chacabuco 357 -37.328143 -59.136740          0  \n",
       "3                     0:00  Chacabuco 357 -37.328143 -59.136740          1  \n",
       "4                     0:46  Chacabuco 357 -37.328143 -59.136740          0  \n",
       "...                    ...            ...        ...        ...        ...  \n",
       "2957537               0:38   Yrigoyen 847 -37.323967 -59.139628          1  \n",
       "2957538               2:22   Yrigoyen 847 -37.323967 -59.139628          0  \n",
       "2957539               2:22   Yrigoyen 847 -37.323967 -59.139628          1  \n",
       "2957540               2:22   Yrigoyen 847 -37.323967 -59.139628          0  \n",
       "2957541               1:39   Yrigoyen 847 -37.323967 -59.139628          0  \n",
       "\n",
       "[2951877 rows x 9 columns]"
      ]
     },
     "execution_count": 8,
     "metadata": {},
     "output_type": "execute_result"
    }
   ],
   "source": [
    "d"
   ]
  },
  {
   "cell_type": "code",
   "execution_count": 9,
   "metadata": {
    "ExecuteTime": {
     "end_time": "2020-03-03T17:44:56.959641Z",
     "start_time": "2020-03-03T17:44:56.944020Z"
    }
   },
   "outputs": [],
   "source": [
    "def normalize_time(time):\n",
    "    '''\n",
    "    normalize time (datetime.time to values bertween 0 and 1\n",
    "    '''\n",
    "    max_time = 24 * 60 * 60 + 60 * 60 + 60\n",
    "    return (time.hour * 60 * 60 + time.minute * 60 + time.second) / max_time\n",
    "\n",
    "def get_season(fecha):\n",
    "    '''\n",
    "    obtain the season of each row\n",
    "    '''\n",
    "    fecha = pd.to_datetime(fecha, dayfirst=True)\n",
    "    d = fecha.day\n",
    "    m = fecha.month * 100\n",
    "    md = m + d\n",
    "    if ((md >= 921) and (md <= 1220)):\n",
    "        season = 0  # spring\n",
    "    elif ((md >= 1221) and (md <= 320)):\n",
    "        season = 1  # summer\n",
    "    elif ((md >= 321) and (md <= 620)):\n",
    "        season = 2  # fall\n",
    "    elif ((md >= 621) and (md <= 920)):\n",
    "        season = 3  # winter\n",
    "    return season"
   ]
  },
  {
   "cell_type": "code",
   "execution_count": 10,
   "metadata": {
    "ExecuteTime": {
     "end_time": "2020-03-03T17:44:58.692642Z",
     "start_time": "2020-03-03T17:44:56.959641Z"
    }
   },
   "outputs": [],
   "source": [
    "#Normalize time to values between 0 and 1\n",
    "d['tiempo_emision'] = d['tiempo_emision'].apply(normalize_time)"
   ]
  },
  {
   "cell_type": "code",
   "execution_count": 11,
   "metadata": {
    "ExecuteTime": {
     "end_time": "2020-03-03T17:45:06.447849Z",
     "start_time": "2020-03-03T17:44:58.693639Z"
    }
   },
   "outputs": [],
   "source": [
    "#Add weekday\n",
    "d['dia_de_la_semana'] = d['fecha_emision'].apply(lambda x: pd.Timestamp(x).weekday())"
   ]
  },
  {
   "cell_type": "code",
   "execution_count": 12,
   "metadata": {
    "ExecuteTime": {
     "end_time": "2020-03-03T17:45:07.531572Z",
     "start_time": "2020-03-03T17:45:06.447849Z"
    }
   },
   "outputs": [],
   "source": [
    "#Add month\n",
    "d['mes'] = d['fecha_emision'].apply(lambda x: x.month)"
   ]
  },
  {
   "cell_type": "code",
   "execution_count": 13,
   "metadata": {
    "ExecuteTime": {
     "end_time": "2020-03-03T17:45:07.787779Z",
     "start_time": "2020-03-03T17:45:07.532570Z"
    }
   },
   "outputs": [],
   "source": [
    "d = d[['parquimetro', 'fecha_emision', 'dia_de_la_semana', 'mes', 'tiempo_emision', 'operacion', 'ocupacion']]"
   ]
  },
  {
   "cell_type": "code",
   "execution_count": 14,
   "metadata": {
    "ExecuteTime": {
     "end_time": "2020-03-03T17:45:07.810525Z",
     "start_time": "2020-03-03T17:45:07.788776Z"
    }
   },
   "outputs": [
    {
     "data": {
      "text/html": [
       "<div>\n",
       "<style scoped>\n",
       "    .dataframe tbody tr th:only-of-type {\n",
       "        vertical-align: middle;\n",
       "    }\n",
       "\n",
       "    .dataframe tbody tr th {\n",
       "        vertical-align: top;\n",
       "    }\n",
       "\n",
       "    .dataframe thead th {\n",
       "        text-align: right;\n",
       "    }\n",
       "</style>\n",
       "<table border=\"1\" class=\"dataframe\">\n",
       "  <thead>\n",
       "    <tr style=\"text-align: right;\">\n",
       "      <th></th>\n",
       "      <th>parquimetro</th>\n",
       "      <th>fecha_emision</th>\n",
       "      <th>dia_de_la_semana</th>\n",
       "      <th>mes</th>\n",
       "      <th>tiempo_emision</th>\n",
       "      <th>operacion</th>\n",
       "      <th>ocupacion</th>\n",
       "    </tr>\n",
       "  </thead>\n",
       "  <tbody>\n",
       "    <tr>\n",
       "      <td>0</td>\n",
       "      <td>16</td>\n",
       "      <td>2019-01-01</td>\n",
       "      <td>1</td>\n",
       "      <td>1</td>\n",
       "      <td>0.436376</td>\n",
       "      <td>0</td>\n",
       "      <td>0</td>\n",
       "    </tr>\n",
       "    <tr>\n",
       "      <td>1</td>\n",
       "      <td>60</td>\n",
       "      <td>2019-01-01</td>\n",
       "      <td>1</td>\n",
       "      <td>1</td>\n",
       "      <td>0.656229</td>\n",
       "      <td>1</td>\n",
       "      <td>1</td>\n",
       "    </tr>\n",
       "    <tr>\n",
       "      <td>2</td>\n",
       "      <td>60</td>\n",
       "      <td>2019-01-01</td>\n",
       "      <td>1</td>\n",
       "      <td>1</td>\n",
       "      <td>0.656229</td>\n",
       "      <td>0</td>\n",
       "      <td>0</td>\n",
       "    </tr>\n",
       "    <tr>\n",
       "      <td>3</td>\n",
       "      <td>60</td>\n",
       "      <td>2019-01-01</td>\n",
       "      <td>1</td>\n",
       "      <td>1</td>\n",
       "      <td>0.656229</td>\n",
       "      <td>1</td>\n",
       "      <td>1</td>\n",
       "    </tr>\n",
       "    <tr>\n",
       "      <td>4</td>\n",
       "      <td>60</td>\n",
       "      <td>2019-01-01</td>\n",
       "      <td>1</td>\n",
       "      <td>1</td>\n",
       "      <td>0.686875</td>\n",
       "      <td>0</td>\n",
       "      <td>0</td>\n",
       "    </tr>\n",
       "    <tr>\n",
       "      <td>...</td>\n",
       "      <td>...</td>\n",
       "      <td>...</td>\n",
       "      <td>...</td>\n",
       "      <td>...</td>\n",
       "      <td>...</td>\n",
       "      <td>...</td>\n",
       "      <td>...</td>\n",
       "    </tr>\n",
       "    <tr>\n",
       "      <td>2957537</td>\n",
       "      <td>61</td>\n",
       "      <td>2019-12-31</td>\n",
       "      <td>1</td>\n",
       "      <td>12</td>\n",
       "      <td>0.532978</td>\n",
       "      <td>0</td>\n",
       "      <td>1</td>\n",
       "    </tr>\n",
       "    <tr>\n",
       "      <td>2957538</td>\n",
       "      <td>61</td>\n",
       "      <td>2019-12-31</td>\n",
       "      <td>1</td>\n",
       "      <td>12</td>\n",
       "      <td>0.538308</td>\n",
       "      <td>0</td>\n",
       "      <td>0</td>\n",
       "    </tr>\n",
       "    <tr>\n",
       "      <td>2957539</td>\n",
       "      <td>61</td>\n",
       "      <td>2019-12-31</td>\n",
       "      <td>1</td>\n",
       "      <td>12</td>\n",
       "      <td>0.538308</td>\n",
       "      <td>1</td>\n",
       "      <td>1</td>\n",
       "    </tr>\n",
       "    <tr>\n",
       "      <td>2957540</td>\n",
       "      <td>61</td>\n",
       "      <td>2019-12-31</td>\n",
       "      <td>1</td>\n",
       "      <td>12</td>\n",
       "      <td>0.538308</td>\n",
       "      <td>0</td>\n",
       "      <td>0</td>\n",
       "    </tr>\n",
       "    <tr>\n",
       "      <td>2957541</td>\n",
       "      <td>61</td>\n",
       "      <td>2019-12-31</td>\n",
       "      <td>1</td>\n",
       "      <td>12</td>\n",
       "      <td>0.542971</td>\n",
       "      <td>0</td>\n",
       "      <td>0</td>\n",
       "    </tr>\n",
       "  </tbody>\n",
       "</table>\n",
       "<p>2951877 rows × 7 columns</p>\n",
       "</div>"
      ],
      "text/plain": [
       "         parquimetro fecha_emision  dia_de_la_semana  mes  tiempo_emision  \\\n",
       "0                 16    2019-01-01                 1    1        0.436376   \n",
       "1                 60    2019-01-01                 1    1        0.656229   \n",
       "2                 60    2019-01-01                 1    1        0.656229   \n",
       "3                 60    2019-01-01                 1    1        0.656229   \n",
       "4                 60    2019-01-01                 1    1        0.686875   \n",
       "...              ...           ...               ...  ...             ...   \n",
       "2957537           61    2019-12-31                 1   12        0.532978   \n",
       "2957538           61    2019-12-31                 1   12        0.538308   \n",
       "2957539           61    2019-12-31                 1   12        0.538308   \n",
       "2957540           61    2019-12-31                 1   12        0.538308   \n",
       "2957541           61    2019-12-31                 1   12        0.542971   \n",
       "\n",
       "         operacion  ocupacion  \n",
       "0                0          0  \n",
       "1                1          1  \n",
       "2                0          0  \n",
       "3                1          1  \n",
       "4                0          0  \n",
       "...            ...        ...  \n",
       "2957537          0          1  \n",
       "2957538          0          0  \n",
       "2957539          1          1  \n",
       "2957540          0          0  \n",
       "2957541          0          0  \n",
       "\n",
       "[2951877 rows x 7 columns]"
      ]
     },
     "execution_count": 14,
     "metadata": {},
     "output_type": "execute_result"
    }
   ],
   "source": [
    "d"
   ]
  },
  {
   "cell_type": "code",
   "execution_count": 15,
   "metadata": {
    "ExecuteTime": {
     "end_time": "2020-03-03T17:45:07.826148Z",
     "start_time": "2020-03-03T17:45:07.810525Z"
    }
   },
   "outputs": [],
   "source": [
    "max_street_num = d['parquimetro'].max()"
   ]
  },
  {
   "cell_type": "code",
   "execution_count": 16,
   "metadata": {
    "ExecuteTime": {
     "end_time": "2020-03-03T17:45:07.841768Z",
     "start_time": "2020-03-03T17:45:07.826148Z"
    }
   },
   "outputs": [
    {
     "name": "stdout",
     "output_type": "stream",
     "text": [
      "max_street_num: 96\n"
     ]
    }
   ],
   "source": [
    "print('max_street_num:', max_street_num)"
   ]
  },
  {
   "cell_type": "code",
   "execution_count": 17,
   "metadata": {
    "ExecuteTime": {
     "end_time": "2020-03-03T17:45:07.857390Z",
     "start_time": "2020-03-03T17:45:07.841768Z"
    }
   },
   "outputs": [],
   "source": [
    "def add_past_ocupation(data, t=10):\n",
    "    '''\n",
    "    Adds past ocupation to the original df. Past ocupation is the\n",
    "    ocupation time minuts before the current row time.\n",
    "    '''\n",
    "    \n",
    "    \n",
    "    df = data.copy()\n",
    "\n",
    "    \n",
    "    df['ocupacion_pasada'] = 0\n",
    "    df['diferencia_ocupacion_pasada'] = 0\n",
    "    \n",
    "    out = pd.DataFrame(columns=df.columns)\n",
    "\n",
    "    \n",
    "    max_time = 24 * 60 * 60 + 60 * 60 + 60\n",
    "    t = (t * 60) / max_time\n",
    "    \n",
    "    for street in df['parquimetro'].drop_duplicates().sort_values():\n",
    "        clear_output()\n",
    "        print('Street:', street)\n",
    "        d_street = df.loc[df['parquimetro'] == street]\n",
    "        \n",
    "        for date in d_street['fecha_emision'].drop_duplicates().sort_values():\n",
    "            d_date = d_street.loc[d_street['fecha_emision'] == date].reset_index(drop=True)\n",
    "            \n",
    "            def add_past_ocupation_row(row):\n",
    "                nonlocal d_date, t\n",
    "                past_time = row['tiempo_emision'] - t\n",
    "\n",
    "                past_data = d_date[d_date['tiempo_emision'] <= past_time]\n",
    "                if len(past_data) > 0:\n",
    "                    past_time_row_ix = past_data.tiempo_emision.idxmax()\n",
    "                    row['ocupacion_pasada'] = d_date.iloc[past_time_row_ix]['ocupacion']\n",
    "                    row['diferencia_ocupacion_pasada'] = row['ocupacion'] - d_date.iloc[past_time_row_ix]['ocupacion']\n",
    "                else:\n",
    "                    row['diferencia_ocupacion_pasada'] = 0\n",
    "                    row['ocupacion_pasada'] = row['ocupacion']\n",
    "                return row\n",
    "            \n",
    "            data_to_add = d_date.apply(add_past_ocupation_row, axis=1)\n",
    "        \n",
    "            out = out.append(data_to_add)\n",
    "                \n",
    "            '''for ix in d_date.index:\n",
    "                row_to_add = d_date.iloc[ix]\n",
    "                past_time = row_to_add['tiempo_emision'] - t\n",
    "                \n",
    "                past_data = d_date[d_date['tiempo_emision'] <= past_time]\n",
    "                if len(past_data) > 0:\n",
    "                    past_time_row_ix = past_data.tiempo_emision.idxmax()\n",
    "                    row_to_add['ocupacion_pasada'] = d_date.iloc[past_time_row_ix]['ocupacion']\n",
    "                else:\n",
    "                    row_to_add['ocupacion_pasada'] = row_to_add['ocupacion']\n",
    "                \n",
    "                out = out.append(row_to_add)\n",
    "            '''    \n",
    "    return out"
   ]
  },
  {
   "cell_type": "code",
   "execution_count": 18,
   "metadata": {
    "ExecuteTime": {
     "end_time": "2020-03-03T17:45:07.873050Z",
     "start_time": "2020-03-03T17:45:07.857390Z"
    },
    "scrolled": true
   },
   "outputs": [],
   "source": [
    "#new_data = add_past_ocupation(d, t=10)\n",
    "\n",
    "#new_data.reset_index(drop=True).to_csv(full_sumo_data_past_10_path)"
   ]
  },
  {
   "cell_type": "code",
   "execution_count": 19,
   "metadata": {
    "ExecuteTime": {
     "end_time": "2020-03-03T17:45:10.186362Z",
     "start_time": "2020-03-03T17:45:07.873050Z"
    }
   },
   "outputs": [
    {
     "data": {
      "text/html": [
       "<div>\n",
       "<style scoped>\n",
       "    .dataframe tbody tr th:only-of-type {\n",
       "        vertical-align: middle;\n",
       "    }\n",
       "\n",
       "    .dataframe tbody tr th {\n",
       "        vertical-align: top;\n",
       "    }\n",
       "\n",
       "    .dataframe thead th {\n",
       "        text-align: right;\n",
       "    }\n",
       "</style>\n",
       "<table border=\"1\" class=\"dataframe\">\n",
       "  <thead>\n",
       "    <tr style=\"text-align: right;\">\n",
       "      <th></th>\n",
       "      <th>Unnamed: 0</th>\n",
       "      <th>parquimetro</th>\n",
       "      <th>fecha_emision</th>\n",
       "      <th>dia_de_la_semana</th>\n",
       "      <th>mes</th>\n",
       "      <th>tiempo_emision</th>\n",
       "      <th>operacion</th>\n",
       "      <th>ocupacion</th>\n",
       "      <th>ocupacion_pasada</th>\n",
       "      <th>diferencia_ocupacion_pasada</th>\n",
       "    </tr>\n",
       "  </thead>\n",
       "  <tbody>\n",
       "    <tr>\n",
       "      <td>0</td>\n",
       "      <td>0</td>\n",
       "      <td>0</td>\n",
       "      <td>2019-01-02</td>\n",
       "      <td>2</td>\n",
       "      <td>1</td>\n",
       "      <td>0.383078</td>\n",
       "      <td>1</td>\n",
       "      <td>1</td>\n",
       "      <td>1</td>\n",
       "      <td>0</td>\n",
       "    </tr>\n",
       "    <tr>\n",
       "      <td>1</td>\n",
       "      <td>1</td>\n",
       "      <td>0</td>\n",
       "      <td>2019-01-02</td>\n",
       "      <td>2</td>\n",
       "      <td>1</td>\n",
       "      <td>0.385743</td>\n",
       "      <td>1</td>\n",
       "      <td>2</td>\n",
       "      <td>2</td>\n",
       "      <td>0</td>\n",
       "    </tr>\n",
       "    <tr>\n",
       "      <td>2</td>\n",
       "      <td>2</td>\n",
       "      <td>0</td>\n",
       "      <td>2019-01-02</td>\n",
       "      <td>2</td>\n",
       "      <td>1</td>\n",
       "      <td>0.387075</td>\n",
       "      <td>1</td>\n",
       "      <td>3</td>\n",
       "      <td>3</td>\n",
       "      <td>0</td>\n",
       "    </tr>\n",
       "    <tr>\n",
       "      <td>3</td>\n",
       "      <td>3</td>\n",
       "      <td>0</td>\n",
       "      <td>2019-01-02</td>\n",
       "      <td>2</td>\n",
       "      <td>1</td>\n",
       "      <td>0.389740</td>\n",
       "      <td>0</td>\n",
       "      <td>2</td>\n",
       "      <td>1</td>\n",
       "      <td>1</td>\n",
       "    </tr>\n",
       "    <tr>\n",
       "      <td>4</td>\n",
       "      <td>4</td>\n",
       "      <td>0</td>\n",
       "      <td>2019-01-02</td>\n",
       "      <td>2</td>\n",
       "      <td>1</td>\n",
       "      <td>0.389740</td>\n",
       "      <td>0</td>\n",
       "      <td>1</td>\n",
       "      <td>1</td>\n",
       "      <td>0</td>\n",
       "    </tr>\n",
       "    <tr>\n",
       "      <td>...</td>\n",
       "      <td>...</td>\n",
       "      <td>...</td>\n",
       "      <td>...</td>\n",
       "      <td>...</td>\n",
       "      <td>...</td>\n",
       "      <td>...</td>\n",
       "      <td>...</td>\n",
       "      <td>...</td>\n",
       "      <td>...</td>\n",
       "      <td>...</td>\n",
       "    </tr>\n",
       "    <tr>\n",
       "      <td>2951872</td>\n",
       "      <td>2951872</td>\n",
       "      <td>96</td>\n",
       "      <td>2019-12-30</td>\n",
       "      <td>0</td>\n",
       "      <td>12</td>\n",
       "      <td>0.680213</td>\n",
       "      <td>0</td>\n",
       "      <td>0</td>\n",
       "      <td>0</td>\n",
       "      <td>0</td>\n",
       "    </tr>\n",
       "    <tr>\n",
       "      <td>2951873</td>\n",
       "      <td>2951873</td>\n",
       "      <td>96</td>\n",
       "      <td>2019-12-30</td>\n",
       "      <td>0</td>\n",
       "      <td>12</td>\n",
       "      <td>0.714191</td>\n",
       "      <td>1</td>\n",
       "      <td>1</td>\n",
       "      <td>0</td>\n",
       "      <td>1</td>\n",
       "    </tr>\n",
       "    <tr>\n",
       "      <td>2951874</td>\n",
       "      <td>2951874</td>\n",
       "      <td>96</td>\n",
       "      <td>2019-12-30</td>\n",
       "      <td>0</td>\n",
       "      <td>12</td>\n",
       "      <td>0.720187</td>\n",
       "      <td>0</td>\n",
       "      <td>0</td>\n",
       "      <td>0</td>\n",
       "      <td>0</td>\n",
       "    </tr>\n",
       "    <tr>\n",
       "      <td>2951875</td>\n",
       "      <td>2951875</td>\n",
       "      <td>96</td>\n",
       "      <td>2019-12-30</td>\n",
       "      <td>0</td>\n",
       "      <td>12</td>\n",
       "      <td>0.771486</td>\n",
       "      <td>1</td>\n",
       "      <td>1</td>\n",
       "      <td>0</td>\n",
       "      <td>1</td>\n",
       "    </tr>\n",
       "    <tr>\n",
       "      <td>2951876</td>\n",
       "      <td>2951876</td>\n",
       "      <td>96</td>\n",
       "      <td>2019-12-30</td>\n",
       "      <td>0</td>\n",
       "      <td>12</td>\n",
       "      <td>0.841439</td>\n",
       "      <td>0</td>\n",
       "      <td>0</td>\n",
       "      <td>1</td>\n",
       "      <td>-1</td>\n",
       "    </tr>\n",
       "  </tbody>\n",
       "</table>\n",
       "<p>2951877 rows × 10 columns</p>\n",
       "</div>"
      ],
      "text/plain": [
       "         Unnamed: 0  parquimetro fecha_emision  dia_de_la_semana  mes  \\\n",
       "0                 0            0    2019-01-02                 2    1   \n",
       "1                 1            0    2019-01-02                 2    1   \n",
       "2                 2            0    2019-01-02                 2    1   \n",
       "3                 3            0    2019-01-02                 2    1   \n",
       "4                 4            0    2019-01-02                 2    1   \n",
       "...             ...          ...           ...               ...  ...   \n",
       "2951872     2951872           96    2019-12-30                 0   12   \n",
       "2951873     2951873           96    2019-12-30                 0   12   \n",
       "2951874     2951874           96    2019-12-30                 0   12   \n",
       "2951875     2951875           96    2019-12-30                 0   12   \n",
       "2951876     2951876           96    2019-12-30                 0   12   \n",
       "\n",
       "         tiempo_emision  operacion  ocupacion  ocupacion_pasada  \\\n",
       "0              0.383078          1          1                 1   \n",
       "1              0.385743          1          2                 2   \n",
       "2              0.387075          1          3                 3   \n",
       "3              0.389740          0          2                 1   \n",
       "4              0.389740          0          1                 1   \n",
       "...                 ...        ...        ...               ...   \n",
       "2951872        0.680213          0          0                 0   \n",
       "2951873        0.714191          1          1                 0   \n",
       "2951874        0.720187          0          0                 0   \n",
       "2951875        0.771486          1          1                 0   \n",
       "2951876        0.841439          0          0                 1   \n",
       "\n",
       "         diferencia_ocupacion_pasada  \n",
       "0                                  0  \n",
       "1                                  0  \n",
       "2                                  0  \n",
       "3                                  1  \n",
       "4                                  0  \n",
       "...                              ...  \n",
       "2951872                            0  \n",
       "2951873                            1  \n",
       "2951874                            0  \n",
       "2951875                            1  \n",
       "2951876                           -1  \n",
       "\n",
       "[2951877 rows x 10 columns]"
      ]
     },
     "execution_count": 19,
     "metadata": {},
     "output_type": "execute_result"
    }
   ],
   "source": [
    "d = pd.read_csv(full_sumo_data_past_10_path)\n",
    "d"
   ]
  },
  {
   "cell_type": "code",
   "execution_count": 20,
   "metadata": {
    "ExecuteTime": {
     "end_time": "2020-03-03T17:47:03.369311Z",
     "start_time": "2020-03-03T17:45:10.187819Z"
    }
   },
   "outputs": [
    {
     "name": "stdout",
     "output_type": "stream",
     "text": [
      "Calle num:  96\n"
     ]
    }
   ],
   "source": [
    "def prepare_train_data(data, validation_split=0.2):\n",
    "    '''\n",
    "    Prepare train data\n",
    "    \n",
    "    Parameter:\n",
    "        data: (DataFrame) data from one street.\n",
    "        validation_split: (float) quantity of the data that will be used for validation.\n",
    "    Out:\n",
    "        train_time, train_street, train_weekday, train_month, targets: (ndarray) numpy arrays\n",
    "            that contains time, street, weekday, month and target ocupation, respectively.\n",
    "    '''   \n",
    "    train_time = []\n",
    "    train_street = []\n",
    "    train_weekday = []\n",
    "    train_month = []\n",
    "    train_last_past_ocup = []\n",
    "    train_past_ocup = []\n",
    "    train_dif_past_ocup = []\n",
    "    train_targets = []\n",
    "    \n",
    "    for date in data['fecha_emision'].drop_duplicates():\n",
    "        d = data.loc[data['fecha_emision'] == date].copy()\n",
    "        \n",
    "        train_time.append(d['tiempo_emision'].values[1:])\n",
    "        train_street.append(d['parquimetro'].values[1:])\n",
    "        train_weekday.append(d['dia_de_la_semana'].values[1:])\n",
    "        train_month.append(d['mes'].values[1:])\n",
    "        train_last_past_ocup.append(d['ocupacion'].values[0:-1])\n",
    "        train_dif_past_ocup.append(d['diferencia_ocupacion_pasada'].values[1:])\n",
    "        train_past_ocup.append(d['ocupacion_pasada'].values[1:])\n",
    "        train_targets.append(d['ocupacion'].values[1:])\n",
    "    \n",
    "    train_time = [y for x in train_time for y in x]\n",
    "    train_street = [y for x in train_street for y in x]\n",
    "    train_weekday = [y for x in train_weekday for y in x]\n",
    "    train_month = [y for x in train_month for y in x]\n",
    "    train_dif_past_ocup = [y for x in train_dif_past_ocup for y in x]\n",
    "    train_last_past_ocup = [y for x in train_last_past_ocup for y in x]\n",
    "    train_past_ocup = [y for x in train_past_ocup for y in x]\n",
    "    train_targets = [y for x in train_targets for y in x]\n",
    "    \n",
    "    percentile = int(len(train_time)-len(train_time)*validation_split)\n",
    "    t_time = train_time[:percentile]\n",
    "    t_s = train_street[:percentile]\n",
    "    t_w = train_weekday[:percentile]\n",
    "    t_m = train_month[:percentile]\n",
    "    t_dif_p_ocup = train_dif_past_ocup[:percentile]\n",
    "    t_last_p_ocup = train_last_past_ocup[:percentile]\n",
    "    t_p_ocup = train_past_ocup[:percentile]\n",
    "    t_targ = train_targets[:percentile]\n",
    "    \n",
    "    v_time = train_time[percentile:]\n",
    "    v_s = train_street[percentile:]\n",
    "    v_w = train_weekday[percentile:]\n",
    "    v_m = train_month[percentile:]\n",
    "    v_dif_p_ocup = train_dif_past_ocup[percentile:]\n",
    "    v_last_p_ocup = train_last_past_ocup[percentile:]\n",
    "    v_p_ocup = train_past_ocup[percentile:]\n",
    "    v_targ = train_targets[percentile:]\n",
    "    \n",
    "    return t_time, t_s, t_w, t_m, t_dif_p_ocup, t_last_p_ocup, t_p_ocup, t_targ, v_time, v_s, v_w, v_m, v_dif_p_ocup, v_last_p_ocup, v_p_ocup, v_targ \n",
    "\n",
    "train_time = []\n",
    "train_street = []\n",
    "train_weekday = []\n",
    "train_month = []\n",
    "train_dif_past_ocup = []\n",
    "train_last_past_ocup = []\n",
    "train_past_ocup = []\n",
    "train_targets = []\n",
    "val_time = []\n",
    "val_street = []\n",
    "val_weekday = []\n",
    "val_month = []\n",
    "val_dif_past_ocup = []\n",
    "val_last_past_ocup = []\n",
    "val_past_ocup = []\n",
    "val_targets = []\n",
    "\n",
    "for street in d['parquimetro'].drop_duplicates().sort_values():\n",
    "    clear_output()\n",
    "    print('Calle num: ', street)\n",
    "    t_time, t_s, t_w, t_m, t_dif_p_ocup, t_last_p_ocup, t_p_ocup, t_targ, v_time, v_s, v_w, v_m, v_dif_p_ocup, v_last_p_ocup, v_p_ocup, v_targ  = prepare_train_data(d.loc[d.parquimetro == street], validation_split=0.2)\n",
    "    train_time.append(t_time)\n",
    "    train_street.append(t_s)\n",
    "    train_weekday.append(t_w)\n",
    "    train_month.append(t_m)\n",
    "    train_dif_past_ocup.append(t_dif_p_ocup)\n",
    "    train_last_past_ocup.append(t_last_p_ocup)\n",
    "    train_past_ocup.append(t_p_ocup)\n",
    "    train_targets.append(t_targ)\n",
    "    \n",
    "    val_time.append(v_time)\n",
    "    val_street.append(v_s)\n",
    "    val_weekday.append(v_w)\n",
    "    val_month.append(v_m)\n",
    "    val_dif_past_ocup.append(v_dif_p_ocup)\n",
    "    val_last_past_ocup.append(v_last_p_ocup)\n",
    "    val_past_ocup.append(v_p_ocup)\n",
    "    val_targets.append(v_targ)"
   ]
  },
  {
   "cell_type": "code",
   "execution_count": 21,
   "metadata": {
    "ExecuteTime": {
     "end_time": "2020-03-03T17:47:05.020699Z",
     "start_time": "2020-03-03T17:47:03.369311Z"
    }
   },
   "outputs": [],
   "source": [
    "train_time = [y for x in train_time for y in x]\n",
    "train_street = [y for x in train_street for y in x]\n",
    "train_weekday = [y for x in train_weekday for y in x]\n",
    "train_month = [y for x in train_month for y in x]\n",
    "train_past_ocup = [y for x in train_past_ocup for y in x]\n",
    "train_last_past_ocup = [y for x in train_last_past_ocup for y in x]\n",
    "train_dif_past_ocup = [y for x in train_dif_past_ocup for y in x]\n",
    "train_targets = [y for x in train_targets for y in x]\n",
    "\n",
    "\n",
    "val_time = [y for x in val_time for y in x]\n",
    "val_street = [y for x in val_street for y in x]\n",
    "val_weekday = [y for x in val_weekday for y in x]\n",
    "val_month = [y for x in val_month for y in x]\n",
    "val_past_ocup = [y for x in val_past_ocup for y in x]\n",
    "val_last_past_ocup = [y for x in val_last_past_ocup for y in x]\n",
    "val_dif_past_ocup = [y for x in val_dif_past_ocup for y in x]\n",
    "val_targets = [y for x in val_targets for y in x]"
   ]
  },
  {
   "cell_type": "code",
   "execution_count": 22,
   "metadata": {
    "ExecuteTime": {
     "end_time": "2020-03-03T17:47:15.993053Z",
     "start_time": "2020-03-03T17:47:05.021700Z"
    }
   },
   "outputs": [],
   "source": [
    "to_shuffle = list(zip(train_time, train_street, train_weekday, train_month, train_dif_past_ocup, train_past_ocup, train_last_past_ocup, train_targets))\n",
    "shuffle(to_shuffle)\n",
    "train_time, train_street, train_weekday, train_month, train_dif_past_ocup, train_past_ocup, train_last_past_ocup, train_targets = zip(*to_shuffle)"
   ]
  },
  {
   "cell_type": "code",
   "execution_count": 23,
   "metadata": {
    "ExecuteTime": {
     "end_time": "2020-03-03T17:47:19.552992Z",
     "start_time": "2020-03-03T17:47:15.993053Z"
    }
   },
   "outputs": [],
   "source": [
    "to_shuffle = list(zip(val_time, val_street, val_weekday, val_month, val_dif_past_ocup, val_past_ocup, val_last_past_ocup, val_targets))\n",
    "shuffle(to_shuffle)\n",
    "val_time, val_street, val_weekday, val_month, val_dif_past_ocup, val_past_ocup, val_last_past_ocup, val_targets = zip(*to_shuffle)"
   ]
  },
  {
   "cell_type": "code",
   "execution_count": 24,
   "metadata": {
    "ExecuteTime": {
     "end_time": "2020-03-03T17:47:35.742281Z",
     "start_time": "2020-03-03T17:47:19.554799Z"
    }
   },
   "outputs": [],
   "source": [
    "train_time = tf.convert_to_tensor(train_time, np.float64)\n",
    "train_street = tf.convert_to_tensor(train_street, np.float64)\n",
    "train_weekday = tf.convert_to_tensor(train_weekday, np.float64)\n",
    "train_month = tf.convert_to_tensor(train_month, np.float64)\n",
    "train_dif_past_ocup = tf.convert_to_tensor(train_dif_past_ocup, np.float64)\n",
    "train_past_ocup = tf.convert_to_tensor(train_past_ocup, np.float64)\n",
    "train_last_past_ocup = tf.convert_to_tensor(train_last_past_ocup, np.float64)\n",
    "train_targets = tf.convert_to_tensor(train_targets, np.float64)"
   ]
  },
  {
   "cell_type": "code",
   "execution_count": 25,
   "metadata": {
    "ExecuteTime": {
     "end_time": "2020-03-03T17:47:38.927889Z",
     "start_time": "2020-03-03T17:47:35.742281Z"
    }
   },
   "outputs": [],
   "source": [
    "val_time = tf.convert_to_tensor(val_time, np.float64)\n",
    "val_street = tf.convert_to_tensor(val_street, np.float64)\n",
    "val_weekday = tf.convert_to_tensor(val_weekday, np.float64)\n",
    "val_month = tf.convert_to_tensor(val_month, np.float64)\n",
    "val_dif_past_ocup = tf.convert_to_tensor(val_dif_past_ocup, np.float64)\n",
    "val_past_ocup = tf.convert_to_tensor(val_past_ocup, np.float64)\n",
    "val_last_past_ocup = tf.convert_to_tensor(val_last_past_ocup, np.float64)\n",
    "val_targets = tf.convert_to_tensor(val_targets, np.float64)"
   ]
  },
  {
   "cell_type": "code",
   "execution_count": 26,
   "metadata": {
    "ExecuteTime": {
     "end_time": "2020-03-03T17:47:39.261491Z",
     "start_time": "2020-03-03T17:47:38.927889Z"
    }
   },
   "outputs": [
    {
     "name": "stdout",
     "output_type": "stream",
     "text": [
      "Model: \"model\"\n",
      "__________________________________________________________________________________________________\n",
      "Layer (type)                    Output Shape         Param #     Connected to                     \n",
      "==================================================================================================\n",
      "input_street (InputLayer)       [(None, 1)]          0                                            \n",
      "__________________________________________________________________________________________________\n",
      "embedding (Embedding)           (None, 1, 80)        7760        input_street[0][0]               \n",
      "__________________________________________________________________________________________________\n",
      "input_weekday (InputLayer)      [(None, 1)]          0                                            \n",
      "__________________________________________________________________________________________________\n",
      "input_time (InputLayer)         [(None, 1)]          0                                            \n",
      "__________________________________________________________________________________________________\n",
      "flatten (Flatten)               (None, 80)           0           embedding[0][0]                  \n",
      "__________________________________________________________________________________________________\n",
      "embedding_1 (Embedding)         (None, 1, 50)        350         input_weekday[0][0]              \n",
      "__________________________________________________________________________________________________\n",
      "input_month (InputLayer)        [(None, 1)]          0                                            \n",
      "__________________________________________________________________________________________________\n",
      "concatenate (Concatenate)       multiple             0           input_time[0][0]                 \n",
      "                                                                 flatten[0][0]                    \n",
      "                                                                 concatenate[0][0]                \n",
      "                                                                 flatten_1[0][0]                  \n",
      "                                                                 concatenate[1][0]                \n",
      "                                                                 flatten_2[0][0]                  \n",
      "                                                                 concatenate[2][0]                \n",
      "                                                                 input_last_past_ocupation[0][0]  \n",
      "__________________________________________________________________________________________________\n",
      "flatten_1 (Flatten)             (None, 50)           0           embedding_1[0][0]                \n",
      "__________________________________________________________________________________________________\n",
      "embedding_2 (Embedding)         (None, 1, 40)        520         input_month[0][0]                \n",
      "__________________________________________________________________________________________________\n",
      "flatten_2 (Flatten)             (None, 40)           0           embedding_2[0][0]                \n",
      "__________________________________________________________________________________________________\n",
      "input_last_past_ocupation (Inpu [(None, 1)]          0                                            \n",
      "__________________________________________________________________________________________________\n",
      "batch_normalization (BatchNorma (None, 172)          688         concatenate[3][0]                \n",
      "__________________________________________________________________________________________________\n",
      "dense (Dense)                   (None, 128)          22144       batch_normalization[0][0]        \n",
      "__________________________________________________________________________________________________\n",
      "batch_normalization_1 (BatchNor (None, 128)          512         dense[0][0]                      \n",
      "__________________________________________________________________________________________________\n",
      "dropout (Dropout)               (None, 128)          0           batch_normalization_1[0][0]      \n",
      "__________________________________________________________________________________________________\n",
      "dense_1 (Dense)                 (None, 256)          33024       dropout[0][0]                    \n",
      "__________________________________________________________________________________________________\n",
      "dense_2 (Dense)                 (None, 512)          131584      dense_1[0][0]                    \n",
      "__________________________________________________________________________________________________\n",
      "dense_3 (Dense)                 (None, 1)            513         dense_2[0][0]                    \n",
      "==================================================================================================\n",
      "Total params: 197,095\n",
      "Trainable params: 196,495\n",
      "Non-trainable params: 600\n",
      "__________________________________________________________________________________________________\n"
     ]
    }
   ],
   "source": [
    "#Time \n",
    "input_time = Input(shape=(1), name='input_time')\n",
    "#dense_time = Dense(128, activation='relu')(input_time)\n",
    "\n",
    "#Street\n",
    "input_street = Input(shape=(1), name='input_street')\n",
    "emb_street = Embedding(input_length=1, input_dim=max_street_num+1, output_dim=80)(input_street)\n",
    "flat_street = Flatten()(emb_street)\n",
    "\n",
    "#Weekday\n",
    "input_weekday = Input(shape=(1), name='input_weekday')\n",
    "emb_weekday = Embedding(input_length=1, input_dim=7, output_dim=50)(input_weekday)\n",
    "flat_weekday = Flatten()(emb_weekday)\n",
    "\n",
    "#Month\n",
    "input_month = Input(shape=(1), name='input_month')\n",
    "emb_month = Embedding(input_length=1, input_dim=13, output_dim=40)(input_month)\n",
    "flat_month = Flatten()(emb_month)\n",
    "\n",
    "#Past ocupation\n",
    "input_past_ocupation = Input(shape=(1), name='input_past_ocupation')\n",
    "\n",
    "#Last past ocupation\n",
    "input_last_past_ocupation = Input(shape=(1), name='input_last_past_ocupation')\n",
    "\n",
    "\n",
    "concat = Concatenate(axis=-1)\n",
    "input_merge = concat([input_time, flat_street])\n",
    "input_merge = concat([input_merge, flat_weekday])\n",
    "input_merge = concat([input_merge, flat_month])\n",
    "input_merge = concat([input_merge, input_last_past_ocupation])\n",
    "\n",
    "d = BatchNormalization()(input_merge)\n",
    "#d = Dropout(0.25)(d)\n",
    "d = Dense(128, activation='relu')(d)\n",
    "d = BatchNormalization()(d)\n",
    "d = Dropout(0.25)(d)\n",
    "d = Dense(256, activation='relu')(d)\n",
    "#d = Dropout(0.25)(d)\n",
    "d = Dense(512, activation='relu')(d)\n",
    "#d = Dropout(0.25)(d)\n",
    "#d = Dense(128, activation='relu')(d)\n",
    "#d = Dropout(0.5)(d)\n",
    "#d = Dense(128, activation='relu')(d)\n",
    "out = Dense(1, activation='linear')(d)\n",
    "\n",
    "model = Model(inputs=[input_time, input_street, input_weekday, input_last_past_ocupation, input_month], outputs=out)\n",
    "#model = Model(inputs=[input_time, input_street, input_weekday, input_month], outputs=out)\n",
    "model.summary()\n",
    "model.compile(loss='MSE', optimizer='adam', metrics=['MAE'])"
   ]
  },
  {
   "cell_type": "code",
   "execution_count": 27,
   "metadata": {
    "ExecuteTime": {
     "end_time": "2020-03-03T18:32:50.694287Z",
     "start_time": "2020-03-03T17:47:39.263450Z"
    }
   },
   "outputs": [
    {
     "name": "stdout",
     "output_type": "stream",
     "text": [
      "Train on 2337946 samples, validate on 584541 samples\n",
      "Epoch 1/10\n",
      "2337946/2337946 [==============================] - 282s 121us/sample - loss: 2.2478 - MAE: 1.1744 - val_loss: 1.6156 - val_MAE: 1.0568\n",
      "Epoch 2/10\n",
      "2337946/2337946 [==============================] - 275s 118us/sample - loss: 1.8699 - MAE: 1.0969 - val_loss: 1.8108 - val_MAE: 1.0918\n",
      "Epoch 3/10\n",
      "2337946/2337946 [==============================] - 272s 116us/sample - loss: 1.8138 - MAE: 1.0847 - val_loss: 2.4407 - val_MAE: 1.1975\n",
      "Epoch 4/10\n",
      "2337946/2337946 [==============================] - 268s 115us/sample - loss: 1.7829 - MAE: 1.0784 - val_loss: 1.9987 - val_MAE: 1.1075\n",
      "Epoch 5/10\n",
      "2337946/2337946 [==============================] - 270s 116us/sample - loss: 1.7688 - MAE: 1.0750 - val_loss: 2.1559 - val_MAE: 1.1420\n",
      "Epoch 6/10\n",
      "2337946/2337946 [==============================] - 269s 115us/sample - loss: 1.6815 - MAE: 1.0560 - val_loss: 2.1345 - val_MAE: 1.1225\n",
      "Epoch 7/10\n",
      "2337946/2337946 [==============================] - 268s 114us/sample - loss: 1.6792 - MAE: 1.0551 - val_loss: 2.2012 - val_MAE: 1.1336\n",
      "Epoch 8/10\n",
      "2337946/2337946 [==============================] - 269s 115us/sample - loss: 1.6646 - MAE: 1.0518 - val_loss: 2.4277 - val_MAE: 1.1747\n",
      "Epoch 9/10\n",
      "2337946/2337946 [==============================] - 270s 115us/sample - loss: 1.6644 - MAE: 1.0517 - val_loss: 2.1043 - val_MAE: 1.1173\n",
      "Epoch 10/10\n",
      "2337946/2337946 [==============================] - 269s 115us/sample - loss: 1.6440 - MAE: 1.0474 - val_loss: 2.2263 - val_MAE: 1.1387\n"
     ]
    }
   ],
   "source": [
    "red_lr = ReduceLROnPlateau(monitor='val_loss', factor=0.2, patience=4, min_lr=0.00000001)\n",
    "\n",
    "#h = model.fit([train_time, train_street, train_weekday, train_month], train_targets, epochs=5, batch_size=32, validation_data=([val_time, val_street, val_weekday, val_month], val_targets))#, callbacks=[red_lr])\n",
    "# 24.68 vs 26.05\n",
    "#h = model.fit([train_time, train_street, train_weekday, train_past_ocup, train_month], train_targets, epochs=10, batch_size=128, validation_data=([val_time, val_street, val_weekday, val_past_ocup, val_month], val_targets), callbacks=[red_lr])\n",
    "#arriba 5.7 abajo 11.7\n",
    "#h = model.fit([train_time, train_street, train_weekday, train_month], train_targets, epochs=30, batch_size=64, validation_data=([val_time, val_street, val_weekday, val_month], val_targets), callbacks=[red_lr])\n",
    "\n",
    "\n",
    "#Now im trying with dif ocupation // 3.0775 \n",
    "#h = model.fit([train_time, train_street, train_weekday, train_past_ocup, train_month], train_dif_past_ocup, epochs=10, batch_size=256, validation_data=([val_time, val_street, val_weekday, val_past_ocup, val_month], val_dif_past_ocup), callbacks=[red_lr])\n",
    "\n",
    "# train: 1.7 // test: 3.0\n",
    "h = model.fit([train_time, train_street, train_weekday, train_last_past_ocup, train_month], train_targets, epochs=10, batch_size=32, validation_data=([val_time, val_street, val_weekday, val_last_past_ocup, val_month], val_targets), callbacks=[red_lr])"
   ]
  },
  {
   "cell_type": "code",
   "execution_count": 28,
   "metadata": {
    "ExecuteTime": {
     "end_time": "2020-03-03T18:32:51.028390Z",
     "start_time": "2020-03-03T18:32:50.695246Z"
    }
   },
   "outputs": [
    {
     "data": {
      "image/png": "[encoded data removed]",
      "text/plain": [
       "<Figure size 432x288 with 1 Axes>"
      ]
     },
     "metadata": {
      "needs_background": "light"
     },
     "output_type": "display_data"
    },
    {
     "data": {
      "image/png": "[encoded data removed]",
      "text/plain": [
       "<Figure size 432x288 with 1 Axes>"
      ]
     },
     "metadata": {
      "needs_background": "light"
     },
     "output_type": "display_data"
    }
   ],
   "source": [
    "%matplotlib inline\n",
    "import pickle\n",
    "import numpy as np\n",
    "from matplotlib import pyplot as plt\n",
    "\n",
    "plt.plot(h.history['MAE'])\n",
    "plt.plot(h.history['val_MAE'])\n",
    "plt.title('model MAE')\n",
    "plt.ylabel('accuracy')\n",
    "plt.xlabel('epoch')\n",
    "plt.legend(['train', 'test'], loc='upper left')\n",
    "plt.show()\n",
    "# summarize history for loss\n",
    "plt.plot(h.history['loss'])\n",
    "plt.plot(h.history['val_loss'])\n",
    "plt.title('model loss')\n",
    "plt.ylabel('loss')\n",
    "plt.xlabel('epoch')\n",
    "plt.legend(['train', 'test'], loc='upper left')\n",
    "plt.show()"
   ]
  },
  {
   "cell_type": "code",
   "execution_count": 29,
   "metadata": {
    "ExecuteTime": {
     "end_time": "2020-03-03T18:32:51.047133Z",
     "start_time": "2020-03-03T18:32:51.029352Z"
    }
   },
   "outputs": [],
   "source": [
    "def denormalize_time(time):\n",
    "    '''\n",
    "    denormalize time (datetime.time to values bertween 0 and 1\n",
    "    '''\n",
    "    max_time = 24 * 60 * 60 + 60 * 60 + 60\n",
    "    return pd.Timestamp(time * max_time, unit='s').time()"
   ]
  },
  {
   "cell_type": "code",
   "execution_count": 30,
   "metadata": {
    "ExecuteTime": {
     "end_time": "2020-03-03T18:32:51.062706Z",
     "start_time": "2020-03-03T18:32:51.047133Z"
    }
   },
   "outputs": [
    {
     "name": "stdout",
     "output_type": "stream",
     "text": [
      "Time:       17:56:00\n",
      "Street:     18.0\n",
      "Weekday:    2.0\n",
      "Past ocup:  9.0\n",
      "Last past ocup:  8.0\n",
      "Month:      12.0\n",
      "\n",
      "Targets:        7.0\n",
      "Dif past ocup:  -2.0\n"
     ]
    }
   ],
   "source": [
    "i = 0\n",
    "\n",
    "a = tf.reshape(val_time[i], (1,1))\n",
    "\n",
    "b = tf.reshape(val_street[i], (1,1))\n",
    "\n",
    "c = tf.reshape(val_weekday[i], (1,1))\n",
    "\n",
    "d = tf.reshape(val_past_ocup[i], (1,1))\n",
    "\n",
    "e = tf.reshape(val_last_past_ocup[i], (1,1))\n",
    "\n",
    "f = tf.reshape(val_month[i], (1,1))\n",
    "\n",
    "    \n",
    "print('Time:      ', denormalize_time(a.numpy()[0][0]))\n",
    "print('Street:    ', b.numpy()[0][0])\n",
    "print('Weekday:   ', c.numpy()[0][0])\n",
    "print('Past ocup: ', d.numpy()[0][0])\n",
    "print('Last past ocup: ', e.numpy()[0][0])\n",
    "print('Month:     ', f.numpy()[0][0])\n",
    "print('')\n",
    "print('Targets:       ', val_targets[i].numpy())\n",
    "print('Dif past ocup: ', val_dif_past_ocup[i].numpy())"
   ]
  },
  {
   "cell_type": "code",
   "execution_count": 31,
   "metadata": {
    "ExecuteTime": {
     "end_time": "2020-03-03T18:32:51.261227Z",
     "start_time": "2020-03-03T18:32:51.064685Z"
    }
   },
   "outputs": [
    {
     "name": "stdout",
     "output_type": "stream",
     "text": [
      "Valor predicho:    7.990077\n",
      "Ocup real:         7.0\n"
     ]
    }
   ],
   "source": [
    "print('Valor predicho:   ', model.predict([a, b, c, e, f])[0][0])\n",
    "\n",
    "print('Ocup real:        ', val_targets[i].numpy())\n",
    "#print('Dif past ocup:    ', val_dif_past_ocup[i].numpy())"
   ]
  },
  {
   "cell_type": "markdown",
   "metadata": {},
   "source": [
    "# Otra red neuronal, donde en vez de ser una regresion que sea un clasificador de 0 y 1 (entrada o salida)"
   ]
  },
  {
   "cell_type": "code",
   "execution_count": 32,
   "metadata": {
    "ExecuteTime": {
     "end_time": "2020-03-03T18:32:53.579561Z",
     "start_time": "2020-03-03T18:32:51.262268Z"
    }
   },
   "outputs": [
    {
     "data": {
      "text/html": [
       "<div>\n",
       "<style scoped>\n",
       "    .dataframe tbody tr th:only-of-type {\n",
       "        vertical-align: middle;\n",
       "    }\n",
       "\n",
       "    .dataframe tbody tr th {\n",
       "        vertical-align: top;\n",
       "    }\n",
       "\n",
       "    .dataframe thead th {\n",
       "        text-align: right;\n",
       "    }\n",
       "</style>\n",
       "<table border=\"1\" class=\"dataframe\">\n",
       "  <thead>\n",
       "    <tr style=\"text-align: right;\">\n",
       "      <th></th>\n",
       "      <th>Unnamed: 0</th>\n",
       "      <th>parquimetro</th>\n",
       "      <th>fecha_emision</th>\n",
       "      <th>dia_de_la_semana</th>\n",
       "      <th>mes</th>\n",
       "      <th>tiempo_emision</th>\n",
       "      <th>operacion</th>\n",
       "      <th>ocupacion</th>\n",
       "      <th>ocupacion_pasada</th>\n",
       "      <th>diferencia_ocupacion_pasada</th>\n",
       "    </tr>\n",
       "  </thead>\n",
       "  <tbody>\n",
       "    <tr>\n",
       "      <td>0</td>\n",
       "      <td>0</td>\n",
       "      <td>0</td>\n",
       "      <td>2019-01-02</td>\n",
       "      <td>2</td>\n",
       "      <td>1</td>\n",
       "      <td>0.383078</td>\n",
       "      <td>1</td>\n",
       "      <td>1</td>\n",
       "      <td>1</td>\n",
       "      <td>0</td>\n",
       "    </tr>\n",
       "    <tr>\n",
       "      <td>1</td>\n",
       "      <td>1</td>\n",
       "      <td>0</td>\n",
       "      <td>2019-01-02</td>\n",
       "      <td>2</td>\n",
       "      <td>1</td>\n",
       "      <td>0.385743</td>\n",
       "      <td>1</td>\n",
       "      <td>2</td>\n",
       "      <td>2</td>\n",
       "      <td>0</td>\n",
       "    </tr>\n",
       "    <tr>\n",
       "      <td>2</td>\n",
       "      <td>2</td>\n",
       "      <td>0</td>\n",
       "      <td>2019-01-02</td>\n",
       "      <td>2</td>\n",
       "      <td>1</td>\n",
       "      <td>0.387075</td>\n",
       "      <td>1</td>\n",
       "      <td>3</td>\n",
       "      <td>3</td>\n",
       "      <td>0</td>\n",
       "    </tr>\n",
       "    <tr>\n",
       "      <td>3</td>\n",
       "      <td>3</td>\n",
       "      <td>0</td>\n",
       "      <td>2019-01-02</td>\n",
       "      <td>2</td>\n",
       "      <td>1</td>\n",
       "      <td>0.389740</td>\n",
       "      <td>0</td>\n",
       "      <td>2</td>\n",
       "      <td>1</td>\n",
       "      <td>1</td>\n",
       "    </tr>\n",
       "    <tr>\n",
       "      <td>4</td>\n",
       "      <td>4</td>\n",
       "      <td>0</td>\n",
       "      <td>2019-01-02</td>\n",
       "      <td>2</td>\n",
       "      <td>1</td>\n",
       "      <td>0.389740</td>\n",
       "      <td>0</td>\n",
       "      <td>1</td>\n",
       "      <td>1</td>\n",
       "      <td>0</td>\n",
       "    </tr>\n",
       "    <tr>\n",
       "      <td>...</td>\n",
       "      <td>...</td>\n",
       "      <td>...</td>\n",
       "      <td>...</td>\n",
       "      <td>...</td>\n",
       "      <td>...</td>\n",
       "      <td>...</td>\n",
       "      <td>...</td>\n",
       "      <td>...</td>\n",
       "      <td>...</td>\n",
       "      <td>...</td>\n",
       "    </tr>\n",
       "    <tr>\n",
       "      <td>2951872</td>\n",
       "      <td>2951872</td>\n",
       "      <td>96</td>\n",
       "      <td>2019-12-30</td>\n",
       "      <td>0</td>\n",
       "      <td>12</td>\n",
       "      <td>0.680213</td>\n",
       "      <td>0</td>\n",
       "      <td>0</td>\n",
       "      <td>0</td>\n",
       "      <td>0</td>\n",
       "    </tr>\n",
       "    <tr>\n",
       "      <td>2951873</td>\n",
       "      <td>2951873</td>\n",
       "      <td>96</td>\n",
       "      <td>2019-12-30</td>\n",
       "      <td>0</td>\n",
       "      <td>12</td>\n",
       "      <td>0.714191</td>\n",
       "      <td>1</td>\n",
       "      <td>1</td>\n",
       "      <td>0</td>\n",
       "      <td>1</td>\n",
       "    </tr>\n",
       "    <tr>\n",
       "      <td>2951874</td>\n",
       "      <td>2951874</td>\n",
       "      <td>96</td>\n",
       "      <td>2019-12-30</td>\n",
       "      <td>0</td>\n",
       "      <td>12</td>\n",
       "      <td>0.720187</td>\n",
       "      <td>0</td>\n",
       "      <td>0</td>\n",
       "      <td>0</td>\n",
       "      <td>0</td>\n",
       "    </tr>\n",
       "    <tr>\n",
       "      <td>2951875</td>\n",
       "      <td>2951875</td>\n",
       "      <td>96</td>\n",
       "      <td>2019-12-30</td>\n",
       "      <td>0</td>\n",
       "      <td>12</td>\n",
       "      <td>0.771486</td>\n",
       "      <td>1</td>\n",
       "      <td>1</td>\n",
       "      <td>0</td>\n",
       "      <td>1</td>\n",
       "    </tr>\n",
       "    <tr>\n",
       "      <td>2951876</td>\n",
       "      <td>2951876</td>\n",
       "      <td>96</td>\n",
       "      <td>2019-12-30</td>\n",
       "      <td>0</td>\n",
       "      <td>12</td>\n",
       "      <td>0.841439</td>\n",
       "      <td>0</td>\n",
       "      <td>0</td>\n",
       "      <td>1</td>\n",
       "      <td>-1</td>\n",
       "    </tr>\n",
       "  </tbody>\n",
       "</table>\n",
       "<p>2951877 rows × 10 columns</p>\n",
       "</div>"
      ],
      "text/plain": [
       "         Unnamed: 0  parquimetro fecha_emision  dia_de_la_semana  mes  \\\n",
       "0                 0            0    2019-01-02                 2    1   \n",
       "1                 1            0    2019-01-02                 2    1   \n",
       "2                 2            0    2019-01-02                 2    1   \n",
       "3                 3            0    2019-01-02                 2    1   \n",
       "4                 4            0    2019-01-02                 2    1   \n",
       "...             ...          ...           ...               ...  ...   \n",
       "2951872     2951872           96    2019-12-30                 0   12   \n",
       "2951873     2951873           96    2019-12-30                 0   12   \n",
       "2951874     2951874           96    2019-12-30                 0   12   \n",
       "2951875     2951875           96    2019-12-30                 0   12   \n",
       "2951876     2951876           96    2019-12-30                 0   12   \n",
       "\n",
       "         tiempo_emision  operacion  ocupacion  ocupacion_pasada  \\\n",
       "0              0.383078          1          1                 1   \n",
       "1              0.385743          1          2                 2   \n",
       "2              0.387075          1          3                 3   \n",
       "3              0.389740          0          2                 1   \n",
       "4              0.389740          0          1                 1   \n",
       "...                 ...        ...        ...               ...   \n",
       "2951872        0.680213          0          0                 0   \n",
       "2951873        0.714191          1          1                 0   \n",
       "2951874        0.720187          0          0                 0   \n",
       "2951875        0.771486          1          1                 0   \n",
       "2951876        0.841439          0          0                 1   \n",
       "\n",
       "         diferencia_ocupacion_pasada  \n",
       "0                                  0  \n",
       "1                                  0  \n",
       "2                                  0  \n",
       "3                                  1  \n",
       "4                                  0  \n",
       "...                              ...  \n",
       "2951872                            0  \n",
       "2951873                            1  \n",
       "2951874                            0  \n",
       "2951875                            1  \n",
       "2951876                           -1  \n",
       "\n",
       "[2951877 rows x 10 columns]"
      ]
     },
     "execution_count": 32,
     "metadata": {},
     "output_type": "execute_result"
    }
   ],
   "source": [
    "d = pd.read_csv(full_sumo_data_past_10_path)\n",
    "d"
   ]
  },
  {
   "cell_type": "code",
   "execution_count": 33,
   "metadata": {
    "ExecuteTime": {
     "end_time": "2020-03-03T18:34:45.375526Z",
     "start_time": "2020-03-03T18:32:53.579561Z"
    }
   },
   "outputs": [
    {
     "name": "stdout",
     "output_type": "stream",
     "text": [
      "Calle num:  96\n"
     ]
    }
   ],
   "source": [
    "def prepare_train_data(data, validation_split=0.2):\n",
    "    '''\n",
    "    Prepare train data\n",
    "    \n",
    "    Parameter:\n",
    "        data: (DataFrame) data from one street.\n",
    "        validation_split: (float) quantity of the data that will be used for validation.\n",
    "    Out:\n",
    "        train_time, train_street, train_weekday, train_month, targets: (ndarray) numpy arrays\n",
    "            that contains time, street, weekday, month and target ocupation, respectively.\n",
    "    '''   \n",
    "    train_time = []\n",
    "    train_street = []\n",
    "    train_weekday = []\n",
    "    train_month = []\n",
    "    train_last_past_ocup = []\n",
    "    train_targets = []\n",
    "    \n",
    "    for date in data['fecha_emision'].drop_duplicates():\n",
    "        d = data.loc[data['fecha_emision'] == date].copy()\n",
    "        \n",
    "        train_time.append(d['tiempo_emision'].values[:-1])\n",
    "        train_street.append(d['parquimetro'].values[:-1])\n",
    "        train_weekday.append(d['dia_de_la_semana'].values[:-1])\n",
    "        train_month.append(d['mes'].values[:-1])\n",
    "        train_last_past_ocup.append(d['ocupacion'].values[:-1])\n",
    "        train_targets.append(d['operacion'].values[1:])\n",
    "    \n",
    "    train_time = [y for x in train_time for y in x]\n",
    "    train_street = [y for x in train_street for y in x]\n",
    "    train_weekday = [y for x in train_weekday for y in x]\n",
    "    train_month = [y for x in train_month for y in x]\n",
    "    train_last_past_ocup = [y for x in train_last_past_ocup for y in x]\n",
    "    train_targets = [y for x in train_targets for y in x]\n",
    "    \n",
    "    percentile = int(len(train_time)-len(train_time)*validation_split)\n",
    "    t_time = train_time[:percentile]\n",
    "    t_s = train_street[:percentile]\n",
    "    t_w = train_weekday[:percentile]\n",
    "    t_m = train_month[:percentile]\n",
    "    t_last_p_ocup = train_last_past_ocup[:percentile]\n",
    "    t_targ = train_targets[:percentile]\n",
    "    \n",
    "    v_time = train_time[percentile:]\n",
    "    v_s = train_street[percentile:]\n",
    "    v_w = train_weekday[percentile:]\n",
    "    v_m = train_month[percentile:]\n",
    "    v_last_p_ocup = train_last_past_ocup[percentile:]\n",
    "    v_targ = train_targets[percentile:]\n",
    "    \n",
    "    return t_time, t_s, t_w, t_m, t_last_p_ocup, t_targ, v_time, v_s, v_w, v_m, v_last_p_ocup, v_targ \n",
    "\n",
    "train_time = []\n",
    "train_street = []\n",
    "train_weekday = []\n",
    "train_month = []\n",
    "train_last_past_ocup = []\n",
    "train_targets = []\n",
    "val_time = []\n",
    "val_street = []\n",
    "val_weekday = []\n",
    "val_month = []\n",
    "val_last_past_ocup = []\n",
    "val_targets = []\n",
    "\n",
    "for street in d['parquimetro'].drop_duplicates().sort_values():\n",
    "    clear_output()\n",
    "    print('Calle num: ', street)\n",
    "    t_time, t_s, t_w, t_m, t_last_p_ocup, t_targ, v_time, v_s, v_w, v_m, v_last_p_ocup, v_targ  = prepare_train_data(d.loc[d.parquimetro == street], validation_split=0.2)\n",
    "    train_time.append(t_time)\n",
    "    train_street.append(t_s)\n",
    "    train_weekday.append(t_w)\n",
    "    train_month.append(t_m)\n",
    "    train_last_past_ocup.append(t_last_p_ocup)\n",
    "    train_targets.append(t_targ)\n",
    "    \n",
    "    val_time.append(v_time)\n",
    "    val_street.append(v_s)\n",
    "    val_weekday.append(v_w)\n",
    "    val_month.append(v_m)\n",
    "    val_last_past_ocup.append(v_last_p_ocup)\n",
    "    val_targets.append(v_targ)"
   ]
  },
  {
   "cell_type": "code",
   "execution_count": 34,
   "metadata": {
    "ExecuteTime": {
     "end_time": "2020-03-03T18:34:46.603885Z",
     "start_time": "2020-03-03T18:34:45.375526Z"
    }
   },
   "outputs": [],
   "source": [
    "train_time = [y for x in train_time for y in x]\n",
    "train_street = [y for x in train_street for y in x]\n",
    "train_weekday = [y for x in train_weekday for y in x]\n",
    "train_month = [y for x in train_month for y in x]\n",
    "train_last_past_ocup = [y for x in train_last_past_ocup for y in x]\n",
    "train_targets = [y for x in train_targets for y in x]\n",
    "\n",
    "\n",
    "val_time = [y for x in val_time for y in x]\n",
    "val_street = [y for x in val_street for y in x]\n",
    "val_weekday = [y for x in val_weekday for y in x]\n",
    "val_month = [y for x in val_month for y in x]\n",
    "val_last_past_ocup = [y for x in val_last_past_ocup for y in x]\n",
    "val_targets = [y for x in val_targets for y in x]"
   ]
  },
  {
   "cell_type": "code",
   "execution_count": 35,
   "metadata": {
    "ExecuteTime": {
     "end_time": "2020-03-03T18:34:56.980954Z",
     "start_time": "2020-03-03T18:34:46.604847Z"
    }
   },
   "outputs": [],
   "source": [
    "to_shuffle = list(zip(train_time, train_street, train_weekday, train_month, train_last_past_ocup, train_targets))\n",
    "shuffle(to_shuffle)\n",
    "train_time, train_street, train_weekday, train_month, train_last_past_ocup, train_targets = zip(*to_shuffle)"
   ]
  },
  {
   "cell_type": "code",
   "execution_count": 36,
   "metadata": {
    "ExecuteTime": {
     "end_time": "2020-03-03T18:35:00.218729Z",
     "start_time": "2020-03-03T18:34:56.980954Z"
    }
   },
   "outputs": [],
   "source": [
    "to_shuffle = list(zip(val_time, val_street, val_weekday, val_month, val_last_past_ocup, val_targets))\n",
    "shuffle(to_shuffle)\n",
    "val_time, val_street, val_weekday, val_month, val_last_past_ocup, val_targets = zip(*to_shuffle)"
   ]
  },
  {
   "cell_type": "code",
   "execution_count": 37,
   "metadata": {
    "ExecuteTime": {
     "end_time": "2020-03-03T18:35:12.415769Z",
     "start_time": "2020-03-03T18:35:00.218729Z"
    }
   },
   "outputs": [],
   "source": [
    "train_time = tf.convert_to_tensor(train_time, np.float64)\n",
    "train_street = tf.convert_to_tensor(train_street, np.float64)\n",
    "train_weekday = tf.convert_to_tensor(train_weekday, np.float64)\n",
    "train_month = tf.convert_to_tensor(train_month, np.float64)\n",
    "train_last_past_ocup = tf.convert_to_tensor(train_last_past_ocup, np.float64)\n",
    "train_targets = tf.convert_to_tensor(train_targets, np.float64)"
   ]
  },
  {
   "cell_type": "code",
   "execution_count": 38,
   "metadata": {
    "ExecuteTime": {
     "end_time": "2020-03-03T18:35:14.679174Z",
     "start_time": "2020-03-03T18:35:12.415769Z"
    }
   },
   "outputs": [],
   "source": [
    "val_time = tf.convert_to_tensor(val_time, np.float64)\n",
    "val_street = tf.convert_to_tensor(val_street, np.float64)\n",
    "val_weekday = tf.convert_to_tensor(val_weekday, np.float64)\n",
    "val_month = tf.convert_to_tensor(val_month, np.float64)\n",
    "val_last_past_ocup = tf.convert_to_tensor(val_last_past_ocup, np.float64)\n",
    "val_targets = tf.convert_to_tensor(val_targets, np.float64)"
   ]
  },
  {
   "cell_type": "code",
   "execution_count": 39,
   "metadata": {
    "ExecuteTime": {
     "end_time": "2020-03-03T18:35:14.911016Z",
     "start_time": "2020-03-03T18:35:14.679174Z"
    }
   },
   "outputs": [
    {
     "name": "stdout",
     "output_type": "stream",
     "text": [
      "Model: \"model_1\"\n",
      "__________________________________________________________________________________________________\n",
      "Layer (type)                    Output Shape         Param #     Connected to                     \n",
      "==================================================================================================\n",
      "input_street (InputLayer)       [(None, 1)]          0                                            \n",
      "__________________________________________________________________________________________________\n",
      "embedding_3 (Embedding)         (None, 1, 80)        7760        input_street[0][0]               \n",
      "__________________________________________________________________________________________________\n",
      "input_weekday (InputLayer)      [(None, 1)]          0                                            \n",
      "__________________________________________________________________________________________________\n",
      "input_time (InputLayer)         [(None, 1)]          0                                            \n",
      "__________________________________________________________________________________________________\n",
      "flatten_3 (Flatten)             (None, 80)           0           embedding_3[0][0]                \n",
      "__________________________________________________________________________________________________\n",
      "embedding_4 (Embedding)         (None, 1, 50)        350         input_weekday[0][0]              \n",
      "__________________________________________________________________________________________________\n",
      "input_month (InputLayer)        [(None, 1)]          0                                            \n",
      "__________________________________________________________________________________________________\n",
      "concatenate_1 (Concatenate)     multiple             0           input_time[0][0]                 \n",
      "                                                                 flatten_3[0][0]                  \n",
      "                                                                 concatenate_1[0][0]              \n",
      "                                                                 flatten_4[0][0]                  \n",
      "                                                                 concatenate_1[1][0]              \n",
      "                                                                 flatten_5[0][0]                  \n",
      "                                                                 concatenate_1[2][0]              \n",
      "                                                                 input_last_past_ocupation[0][0]  \n",
      "__________________________________________________________________________________________________\n",
      "flatten_4 (Flatten)             (None, 50)           0           embedding_4[0][0]                \n",
      "__________________________________________________________________________________________________\n",
      "embedding_5 (Embedding)         (None, 1, 40)        520         input_month[0][0]                \n",
      "__________________________________________________________________________________________________\n",
      "flatten_5 (Flatten)             (None, 40)           0           embedding_5[0][0]                \n",
      "__________________________________________________________________________________________________\n",
      "input_last_past_ocupation (Inpu [(None, 1)]          0                                            \n",
      "__________________________________________________________________________________________________\n",
      "batch_normalization_2 (BatchNor (None, 172)          688         concatenate_1[3][0]              \n",
      "__________________________________________________________________________________________________\n",
      "dense_4 (Dense)                 (None, 128)          22144       batch_normalization_2[0][0]      \n",
      "__________________________________________________________________________________________________\n",
      "batch_normalization_3 (BatchNor (None, 128)          512         dense_4[0][0]                    \n",
      "__________________________________________________________________________________________________\n",
      "dense_5 (Dense)                 (None, 1)            129         batch_normalization_3[0][0]      \n",
      "==================================================================================================\n",
      "Total params: 32,103\n",
      "Trainable params: 31,503\n",
      "Non-trainable params: 600\n",
      "__________________________________________________________________________________________________\n"
     ]
    }
   ],
   "source": [
    "#Time \n",
    "input_time = Input(shape=(1), name='input_time')\n",
    "#dense_time = Dense(128, activation='relu')(input_time)\n",
    "\n",
    "#Street\n",
    "input_street = Input(shape=(1), name='input_street')\n",
    "emb_street = Embedding(input_length=1, input_dim=max_street_num+1, output_dim=80)(input_street)\n",
    "flat_street = Flatten()(emb_street)\n",
    "\n",
    "#Weekday\n",
    "input_weekday = Input(shape=(1), name='input_weekday')\n",
    "emb_weekday = Embedding(input_length=1, input_dim=7, output_dim=50)(input_weekday)\n",
    "flat_weekday = Flatten()(emb_weekday)\n",
    "\n",
    "#Month\n",
    "input_month = Input(shape=(1), name='input_month')\n",
    "emb_month = Embedding(input_length=1, input_dim=13, output_dim=40)(input_month)\n",
    "flat_month = Flatten()(emb_month)\n",
    "\n",
    "#Past ocupation\n",
    "input_past_ocupation = Input(shape=(1), name='input_past_ocupation')\n",
    "\n",
    "#Last past ocupation\n",
    "input_last_past_ocupation = Input(shape=(1), name='input_last_past_ocupation')\n",
    "\n",
    "\n",
    "concat = Concatenate(axis=-1)\n",
    "input_merge = concat([input_time, flat_street])\n",
    "input_merge = concat([input_merge, flat_weekday])\n",
    "input_merge = concat([input_merge, flat_month])\n",
    "input_merge = concat([input_merge, input_last_past_ocupation])\n",
    "\n",
    "d = BatchNormalization()(input_merge)\n",
    "#d = Dropout(0.25)(d)\n",
    "d = Dense(128, activation='relu')(d)\n",
    "d = BatchNormalization()(d)\n",
    "#d = Dropout(0.25)(d)\n",
    "#d = Dense(256, activation='relu')(d)\n",
    "#d = Dropout(0.25)(d)\n",
    "#d = Dense(512, activation='relu')(d)\n",
    "#d = Dropout(0.25)(d)\n",
    "#d = Dense(128, activation='relu')(d)\n",
    "#d = Dropout(0.5)(d)\n",
    "#d = Dense(128, activation='relu')(d)\n",
    "out = Dense(1, activation='sigmoid')(d)\n",
    "\n",
    "model = Model(inputs=[input_time, input_street, input_weekday, input_last_past_ocupation, input_month], outputs=out)\n",
    "#model = Model(inputs=[input_time, input_street, input_weekday, input_month], outputs=out)\n",
    "model.summary()\n",
    "model.compile(loss='MSE', optimizer='adam', metrics=['MAE'])"
   ]
  },
  {
   "cell_type": "code",
   "execution_count": 40,
   "metadata": {
    "ExecuteTime": {
     "end_time": "2020-03-03T19:03:33.555101Z",
     "start_time": "2020-03-03T18:35:14.913002Z"
    }
   },
   "outputs": [
    {
     "name": "stdout",
     "output_type": "stream",
     "text": [
      "Train on 2337946 samples, validate on 584541 samples\n",
      "Epoch 1/10\n",
      "2337946/2337946 [==============================] - 171s 73us/sample - loss: 0.2407 - MAE: 0.4801 - val_loss: 0.2354 - val_MAE: 0.4745\n",
      "Epoch 2/10\n",
      "2337946/2337946 [==============================] - 170s 73us/sample - loss: 0.2383 - MAE: 0.4762 - val_loss: 0.2367 - val_MAE: 0.4756\n",
      "Epoch 3/10\n",
      "2337946/2337946 [==============================] - 169s 72us/sample - loss: 0.2381 - MAE: 0.4758 - val_loss: 0.2355 - val_MAE: 0.4726\n",
      "Epoch 4/10\n",
      "2337946/2337946 [==============================] - 169s 72us/sample - loss: 0.2379 - MAE: 0.4754 - val_loss: 0.2348 - val_MAE: 0.4716\n",
      "Epoch 5/10\n",
      "2337946/2337946 [==============================] - 170s 73us/sample - loss: 0.2377 - MAE: 0.4751 - val_loss: 0.2350 - val_MAE: 0.4708\n",
      "Epoch 6/10\n",
      "2337946/2337946 [==============================] - 170s 73us/sample - loss: 0.2377 - MAE: 0.4750 - val_loss: 0.2349 - val_MAE: 0.4708\n",
      "Epoch 7/10\n",
      "2337946/2337946 [==============================] - 170s 73us/sample - loss: 0.2376 - MAE: 0.4748 - val_loss: 0.2345 - val_MAE: 0.4693\n",
      "Epoch 8/10\n",
      "2337946/2337946 [==============================] - 169s 72us/sample - loss: 0.2375 - MAE: 0.4746 - val_loss: 0.2349 - val_MAE: 0.4718\n",
      "Epoch 9/10\n",
      "2337946/2337946 [==============================] - 170s 73us/sample - loss: 0.2375 - MAE: 0.4746 - val_loss: 0.2350 - val_MAE: 0.4726\n",
      "Epoch 10/10\n",
      "2337946/2337946 [==============================] - 170s 73us/sample - loss: 0.2375 - MAE: 0.4746 - val_loss: 0.2354 - val_MAE: 0.4713\n"
     ]
    }
   ],
   "source": [
    "red_lr = ReduceLROnPlateau(monitor='val_loss', factor=0.2, patience=4, min_lr=0.00000001)\n",
    "\n",
    "h = model.fit([train_time, train_street, train_weekday, train_last_past_ocup, train_month], train_targets, epochs=10, batch_size=32, validation_data=([val_time, val_street, val_weekday, val_last_past_ocup, val_month], val_targets), callbacks=[red_lr])"
   ]
  },
  {
   "cell_type": "code",
   "execution_count": 41,
   "metadata": {
    "ExecuteTime": {
     "end_time": "2020-03-03T19:03:33.869263Z",
     "start_time": "2020-03-03T19:03:33.557097Z"
    }
   },
   "outputs": [
    {
     "data": {
      "image/png": "[encoded data removed]",
      "text/plain": [
       "<Figure size 432x288 with 1 Axes>"
      ]
     },
     "metadata": {
      "needs_background": "light"
     },
     "output_type": "display_data"
    },
    {
     "data": {
      "image/png": "[encoded data removed]",
      "text/plain": [
       "<Figure size 432x288 with 1 Axes>"
      ]
     },
     "metadata": {
      "needs_background": "light"
     },
     "output_type": "display_data"
    }
   ],
   "source": [
    "%matplotlib inline\n",
    "import pickle\n",
    "import numpy as np\n",
    "from matplotlib import pyplot as plt\n",
    "\n",
    "plt.plot(h.history['MAE'])\n",
    "plt.plot(h.history['val_MAE'])\n",
    "plt.title('model MAE')\n",
    "plt.ylabel('accuracy')\n",
    "plt.xlabel('epoch')\n",
    "plt.legend(['train', 'test'], loc='upper left')\n",
    "plt.show()\n",
    "# summarize history for loss\n",
    "plt.plot(h.history['loss'])\n",
    "plt.plot(h.history['val_loss'])\n",
    "plt.title('model loss')\n",
    "plt.ylabel('loss')\n",
    "plt.xlabel('epoch')\n",
    "plt.legend(['train', 'test'], loc='upper left')\n",
    "plt.show()"
   ]
  },
  {
   "cell_type": "code",
   "execution_count": 42,
   "metadata": {
    "ExecuteTime": {
     "end_time": "2020-03-03T19:03:33.887221Z",
     "start_time": "2020-03-03T19:03:33.871503Z"
    }
   },
   "outputs": [],
   "source": [
    "def denormalize_time(time):\n",
    "    '''\n",
    "    denormalize time (datetime.time to values bertween 0 and 1\n",
    "    '''\n",
    "    max_time = 24 * 60 * 60 + 60 * 60 + 60\n",
    "    return pd.Timestamp(time * max_time, unit='s').time()"
   ]
  },
  {
   "cell_type": "code",
   "execution_count": 43,
   "metadata": {
    "ExecuteTime": {
     "end_time": "2020-03-03T19:03:33.902845Z",
     "start_time": "2020-03-03T19:03:33.887221Z"
    }
   },
   "outputs": [
    {
     "name": "stdout",
     "output_type": "stream",
     "text": [
      "Time:       10:08:00\n",
      "Street:     53.0\n",
      "Weekday:    1.0\n",
      "Past ocup:  9.0\n",
      "Last past ocup:  5.0\n",
      "Month:      11.0\n",
      "\n",
      "Targets:        1.0\n",
      "Dif past ocup:  -2.0\n"
     ]
    }
   ],
   "source": [
    "i = 0\n",
    "\n",
    "a = tf.reshape(val_time[i], (1,1))\n",
    "\n",
    "b = tf.reshape(val_street[i], (1,1))\n",
    "\n",
    "c = tf.reshape(val_weekday[i], (1,1))\n",
    "\n",
    "d = tf.reshape(val_past_ocup[i], (1,1))\n",
    "\n",
    "e = tf.reshape(val_last_past_ocup[i], (1,1))\n",
    "\n",
    "f = tf.reshape(val_month[i], (1,1))\n",
    "\n",
    "    \n",
    "print('Time:      ', denormalize_time(a.numpy()[0][0]))\n",
    "print('Street:    ', b.numpy()[0][0])\n",
    "print('Weekday:   ', c.numpy()[0][0])\n",
    "print('Past ocup: ', d.numpy()[0][0])\n",
    "print('Last past ocup: ', e.numpy()[0][0])\n",
    "print('Month:     ', f.numpy()[0][0])\n",
    "print('')\n",
    "print('Targets:       ', val_targets[i].numpy())\n",
    "print('Dif past ocup: ', val_dif_past_ocup[i].numpy())"
   ]
  },
  {
   "cell_type": "code",
   "execution_count": 44,
   "metadata": {
    "ExecuteTime": {
     "end_time": "2020-03-03T19:03:34.077866Z",
     "start_time": "2020-03-03T19:03:33.903877Z"
    }
   },
   "outputs": [
    {
     "name": "stdout",
     "output_type": "stream",
     "text": [
      "Operacion predicha:    0.6268184\n",
      "Operacion real:         1.0\n"
     ]
    }
   ],
   "source": [
    "print('Operacion predicha:   ', model.predict([a, b, c, e, f])[0][0])\n",
    "\n",
    "print('Operacion real:        ', val_targets[i].numpy())\n",
    "#print('Dif past ocup:    ', val_dif_past_ocup[i].numpy())"
   ]
  },
  {
   "cell_type": "markdown",
   "metadata": {},
   "source": [
    "# Haciendolo un clasificador"
   ]
  },
  {
   "cell_type": "code",
   "execution_count": 45,
   "metadata": {
    "ExecuteTime": {
     "end_time": "2020-03-03T19:03:34.239184Z",
     "start_time": "2020-03-03T19:03:34.078665Z"
    }
   },
   "outputs": [
    {
     "name": "stderr",
     "output_type": "stream",
     "text": [
      "Using TensorFlow backend.\n"
     ]
    }
   ],
   "source": [
    "from keras.utils import to_categorical\n",
    "\n",
    "\n",
    "new_train_targets = to_categorical(train_targets)\n",
    "new_val_targets = to_categorical(val_targets)"
   ]
  },
  {
   "cell_type": "code",
   "execution_count": 46,
   "metadata": {
    "ExecuteTime": {
     "end_time": "2020-03-03T19:03:34.486948Z",
     "start_time": "2020-03-03T19:03:34.240180Z"
    }
   },
   "outputs": [
    {
     "name": "stdout",
     "output_type": "stream",
     "text": [
      "Model: \"model_2\"\n",
      "__________________________________________________________________________________________________\n",
      "Layer (type)                    Output Shape         Param #     Connected to                     \n",
      "==================================================================================================\n",
      "input_street (InputLayer)       [(None, 1)]          0                                            \n",
      "__________________________________________________________________________________________________\n",
      "embedding_6 (Embedding)         (None, 1, 80)        7760        input_street[0][0]               \n",
      "__________________________________________________________________________________________________\n",
      "input_weekday (InputLayer)      [(None, 1)]          0                                            \n",
      "__________________________________________________________________________________________________\n",
      "input_time (InputLayer)         [(None, 1)]          0                                            \n",
      "__________________________________________________________________________________________________\n",
      "flatten_6 (Flatten)             (None, 80)           0           embedding_6[0][0]                \n",
      "__________________________________________________________________________________________________\n",
      "embedding_7 (Embedding)         (None, 1, 50)        350         input_weekday[0][0]              \n",
      "__________________________________________________________________________________________________\n",
      "input_month (InputLayer)        [(None, 1)]          0                                            \n",
      "__________________________________________________________________________________________________\n",
      "concatenate_2 (Concatenate)     multiple             0           input_time[0][0]                 \n",
      "                                                                 flatten_6[0][0]                  \n",
      "                                                                 concatenate_2[0][0]              \n",
      "                                                                 flatten_7[0][0]                  \n",
      "                                                                 concatenate_2[1][0]              \n",
      "                                                                 flatten_8[0][0]                  \n",
      "                                                                 concatenate_2[2][0]              \n",
      "                                                                 input_last_past_ocupation[0][0]  \n",
      "__________________________________________________________________________________________________\n",
      "flatten_7 (Flatten)             (None, 50)           0           embedding_7[0][0]                \n",
      "__________________________________________________________________________________________________\n",
      "embedding_8 (Embedding)         (None, 1, 40)        520         input_month[0][0]                \n",
      "__________________________________________________________________________________________________\n",
      "flatten_8 (Flatten)             (None, 40)           0           embedding_8[0][0]                \n",
      "__________________________________________________________________________________________________\n",
      "input_last_past_ocupation (Inpu [(None, 1)]          0                                            \n",
      "__________________________________________________________________________________________________\n",
      "batch_normalization_4 (BatchNor (None, 172)          688         concatenate_2[3][0]              \n",
      "__________________________________________________________________________________________________\n",
      "dense_6 (Dense)                 (None, 128)          22144       batch_normalization_4[0][0]      \n",
      "__________________________________________________________________________________________________\n",
      "batch_normalization_5 (BatchNor (None, 128)          512         dense_6[0][0]                    \n",
      "__________________________________________________________________________________________________\n",
      "dense_7 (Dense)                 (None, 2)            258         batch_normalization_5[0][0]      \n",
      "==================================================================================================\n",
      "Total params: 32,232\n",
      "Trainable params: 31,632\n",
      "Non-trainable params: 600\n",
      "__________________________________________________________________________________________________\n"
     ]
    }
   ],
   "source": [
    "#Time \n",
    "input_time = Input(shape=(1), name='input_time')\n",
    "#dense_time = Dense(128, activation='relu')(input_time)\n",
    "\n",
    "#Street\n",
    "input_street = Input(shape=(1), name='input_street')\n",
    "emb_street = Embedding(input_length=1, input_dim=max_street_num+1, output_dim=80)(input_street)\n",
    "flat_street = Flatten()(emb_street)\n",
    "\n",
    "#Weekday\n",
    "input_weekday = Input(shape=(1), name='input_weekday')\n",
    "emb_weekday = Embedding(input_length=1, input_dim=7, output_dim=50)(input_weekday)\n",
    "flat_weekday = Flatten()(emb_weekday)\n",
    "\n",
    "#Month\n",
    "input_month = Input(shape=(1), name='input_month')\n",
    "emb_month = Embedding(input_length=1, input_dim=13, output_dim=40)(input_month)\n",
    "flat_month = Flatten()(emb_month)\n",
    "\n",
    "#Past ocupation\n",
    "input_past_ocupation = Input(shape=(1), name='input_past_ocupation')\n",
    "\n",
    "#Last past ocupation\n",
    "input_last_past_ocupation = Input(shape=(1), name='input_last_past_ocupation')\n",
    "\n",
    "\n",
    "concat = Concatenate(axis=-1)\n",
    "input_merge = concat([input_time, flat_street])\n",
    "input_merge = concat([input_merge, flat_weekday])\n",
    "input_merge = concat([input_merge, flat_month])\n",
    "input_merge = concat([input_merge, input_last_past_ocupation])\n",
    "\n",
    "d = BatchNormalization()(input_merge)\n",
    "#d = Dropout(0.25)(d)\n",
    "d = Dense(128, activation='relu')(d)\n",
    "d = BatchNormalization()(d)\n",
    "#d = Dropout(0.25)(d)\n",
    "#d = Dense(256, activation='relu')(d)\n",
    "#d = Dropout(0.25)(d)\n",
    "#d = Dense(512, activation='relu')(d)\n",
    "#d = Dropout(0.25)(d)\n",
    "#d = Dense(128, activation='relu')(d)\n",
    "#d = Dropout(0.5)(d)\n",
    "#d = Dense(128, activation='relu')(d)\n",
    "out = Dense(2, activation='softmax')(d)\n",
    "\n",
    "model = Model(inputs=[input_time, input_street, input_weekday, input_last_past_ocupation, input_month], outputs=out)\n",
    "#model = Model(inputs=[input_time, input_street, input_weekday, input_month], outputs=out)\n",
    "model.summary()\n",
    "model.compile(loss='binary_crossentropy', optimizer='adam', metrics=['accuracy'])"
   ]
  },
  {
   "cell_type": "code",
   "execution_count": 47,
   "metadata": {
    "ExecuteTime": {
     "end_time": "2020-03-03T19:13:46.902321Z",
     "start_time": "2020-03-03T19:03:34.488908Z"
    }
   },
   "outputs": [
    {
     "name": "stdout",
     "output_type": "stream",
     "text": [
      "Train on 2337946 samples, validate on 584541 samples\n",
      "Epoch 1/10\n",
      "2337946/2337946 [==============================] - 63s 27us/sample - loss: 0.6729 - accuracy: 0.5711 - val_loss: 0.6614 - val_accuracy: 0.5868\n",
      "Epoch 2/10\n",
      "2337946/2337946 [==============================] - 61s 26us/sample - loss: 0.6639 - accuracy: 0.5849 - val_loss: 0.6632 - val_accuracy: 0.5855\n",
      "Epoch 3/10\n",
      "2337946/2337946 [==============================] - 61s 26us/sample - loss: 0.6626 - accuracy: 0.5868 - val_loss: 0.6595 - val_accuracy: 0.5901\n",
      "Epoch 4/10\n",
      "2337946/2337946 [==============================] - 60s 26us/sample - loss: 0.6618 - accuracy: 0.5883 - val_loss: 0.6592 - val_accuracy: 0.5911\n",
      "Epoch 5/10\n",
      "2337946/2337946 [==============================] - 60s 26us/sample - loss: 0.6615 - accuracy: 0.5883 - val_loss: 0.6591 - val_accuracy: 0.5904\n",
      "Epoch 6/10\n",
      "2337946/2337946 [==============================] - 61s 26us/sample - loss: 0.6612 - accuracy: 0.5888 - val_loss: 0.6592 - val_accuracy: 0.5902\n",
      "Epoch 7/10\n",
      "2337946/2337946 [==============================] - 61s 26us/sample - loss: 0.6612 - accuracy: 0.5890 - val_loss: 0.6595 - val_accuracy: 0.5914\n",
      "Epoch 8/10\n",
      "2337946/2337946 [==============================] - 61s 26us/sample - loss: 0.6610 - accuracy: 0.5891 - val_loss: 0.6594 - val_accuracy: 0.5904\n",
      "Epoch 9/10\n",
      "2337946/2337946 [==============================] - 61s 26us/sample - loss: 0.6609 - accuracy: 0.5894 - val_loss: 0.6592 - val_accuracy: 0.5902\n",
      "Epoch 10/10\n",
      "2337946/2337946 [==============================] - 62s 27us/sample - loss: 0.6600 - accuracy: 0.5907 - val_loss: 0.6588 - val_accuracy: 0.5911\n"
     ]
    }
   ],
   "source": [
    "red_lr = ReduceLROnPlateau(monitor='val_loss', factor=0.2, patience=4, min_lr=0.00000001)\n",
    "\n",
    "h = model.fit([train_time, train_street, train_weekday, train_last_past_ocup, train_month], new_train_targets, epochs=10, batch_size=128, validation_data=([val_time, val_street, val_weekday, val_last_past_ocup, val_month], new_val_targets), callbacks=[red_lr])"
   ]
  },
  {
   "cell_type": "code",
   "execution_count": 48,
   "metadata": {
    "ExecuteTime": {
     "end_time": "2020-03-03T19:13:47.231408Z",
     "start_time": "2020-03-03T19:13:46.904283Z"
    }
   },
   "outputs": [
    {
     "data": {
      "image/png": "[encoded data removed]",
      "text/plain": [
       "<Figure size 432x288 with 1 Axes>"
      ]
     },
     "metadata": {
      "needs_background": "light"
     },
     "output_type": "display_data"
    },
    {
     "data": {
      "image/png": "[encoded data removed]",
      "text/plain": [
       "<Figure size 432x288 with 1 Axes>"
      ]
     },
     "metadata": {
      "needs_background": "light"
     },
     "output_type": "display_data"
    }
   ],
   "source": [
    "%matplotlib inline\n",
    "import pickle\n",
    "import numpy as np\n",
    "from matplotlib import pyplot as plt\n",
    "\n",
    "plt.plot(h.history['accuracy'])\n",
    "plt.plot(h.history['val_accuracy'])\n",
    "plt.title('model accuracy')\n",
    "plt.ylabel('accuracy')\n",
    "plt.xlabel('epoch')\n",
    "plt.legend(['train', 'test'], loc='upper left')\n",
    "plt.show()\n",
    "# summarize history for loss\n",
    "plt.plot(h.history['loss'])\n",
    "plt.plot(h.history['val_loss'])\n",
    "plt.title('model loss')\n",
    "plt.ylabel('loss')\n",
    "plt.xlabel('epoch')\n",
    "plt.legend(['train', 'test'], loc='upper left')\n",
    "plt.show()"
   ]
  },
  {
   "cell_type": "markdown",
   "metadata": {},
   "source": [
    "# Hacer 1/x siendo x el valor de la ocupacion asi restrinjo los valores entre 0 y 1 y los normalizo"
   ]
  },
  {
   "cell_type": "code",
   "execution_count": null,
   "metadata": {},
   "outputs": [],
   "source": []
  }
 ],
 "metadata": {
  "kernelspec": {
   "display_name": "Python 3",
   "language": "python",
   "name": "python3"
  },
  "language_info": {
   "codemirror_mode": {
    "name": "ipython",
    "version": 3
   },
   "file_extension": ".py",
   "mimetype": "text/x-python",
   "name": "python",
   "nbconvert_exporter": "python",
   "pygments_lexer": "ipython3",
   "version": "3.7.3"
  }
 },
 "nbformat": 4,
 "nbformat_minor": 2
}
