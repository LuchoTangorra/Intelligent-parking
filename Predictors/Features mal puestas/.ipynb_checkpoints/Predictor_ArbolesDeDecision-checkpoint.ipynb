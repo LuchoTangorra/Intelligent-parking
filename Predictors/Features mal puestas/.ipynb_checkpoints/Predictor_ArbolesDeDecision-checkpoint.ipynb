{
 "cells": [
  {
   "cell_type": "code",
   "execution_count": 1,
   "metadata": {
    "ExecuteTime": {
     "end_time": "2020-03-25T14:15:40.962385Z",
     "start_time": "2020-03-25T14:15:37.502382Z"
    }
   },
   "outputs": [],
   "source": [
    "import pandas as pd\n",
    "import numpy as np\n",
    "import matplotlib.pyplot as plt\n",
    "import matplotlib.patches as mpatches\n",
    "from datetime import datetime \n",
    "from IPython.display import display, HTML, clear_output, Image\n",
    "import gc\n",
    "from sklearn.utils import resample\n",
    "from sklearn.model_selection import train_test_split\n",
    "from sklearn.metrics import confusion_matrix\n",
    "from sklearn.tree import DecisionTreeClassifier, plot_tree, export_graphviz\n",
    "import pydotplus"
   ]
  },
  {
   "cell_type": "code",
   "execution_count": 2,
   "metadata": {
    "ExecuteTime": {
     "end_time": "2020-03-25T14:15:40.968321Z",
     "start_time": "2020-03-25T14:15:40.964332Z"
    }
   },
   "outputs": [],
   "source": [
    "r'''\n",
    "dataset2019: all sumo data with ocupation (requested in sumo office)\n",
    "'''\n",
    "\n",
    "dataset2019_path = r'C:\\Users\\ing_l\\Tesis grado\\Data\\dataset_2019.csv'"
   ]
  },
  {
   "cell_type": "code",
   "execution_count": 3,
   "metadata": {
    "ExecuteTime": {
     "end_time": "2020-03-25T14:15:43.689673Z",
     "start_time": "2020-03-25T14:15:40.971313Z"
    }
   },
   "outputs": [],
   "source": [
    "dataset2019 = pd.read_csv(dataset2019_path)[['id_cuadra', 'direccion', 'fecha', 'tiempo', 'operacion', 'ocupacion', 'latitud', 'longitud']]\n",
    "dataset2019['dia de la semana'] = -1\n",
    "dataset2019.columns.names = ['dataset2019']"
   ]
  },
  {
   "cell_type": "code",
   "execution_count": 4,
   "metadata": {
    "ExecuteTime": {
     "end_time": "2020-03-25T14:40:37.269487Z",
     "start_time": "2020-03-25T14:15:43.689673Z"
    }
   },
   "outputs": [],
   "source": [
    "def correct_type(row):\n",
    "    '''\n",
    "    Corrects the dtype of fecha, tiempo and ocupación on the df\n",
    "    '''\n",
    "    row['fecha'] = pd.to_datetime(row['fecha'], dayfirst=True).date()\n",
    "    row['tiempo'] = pd.to_datetime(row['tiempo']).time()\n",
    "    row['ocupacion'] = int(row['ocupacion'])\n",
    "    row['dia de la semana'] = row['fecha'].weekday()\n",
    "    return row\n",
    "\n",
    "print('Working on dataset2019...')\n",
    "dataset2019 = dataset2019.apply(correct_type, axis=1).sort_values(by=['fecha', 'tiempo'])\n",
    "clear_output()"
   ]
  },
  {
   "cell_type": "code",
   "execution_count": 5,
   "metadata": {
    "ExecuteTime": {
     "end_time": "2020-03-25T14:40:38.762976Z",
     "start_time": "2020-03-25T14:40:37.269487Z"
    }
   },
   "outputs": [
    {
     "data": {
      "image/png": "[encoded data removed]",
      "text/plain": [
       "<Figure size 432x288 with 1 Axes>"
      ]
     },
     "metadata": {
      "needs_background": "light"
     },
     "output_type": "display_data"
    }
   ],
   "source": [
    "dataset2019['porcentaje ocupacion'] = 0\n",
    "max_without_outliers = dataset2019.boxplot(column='ocupacion', return_type='dict')['whiskers'][1].get_ydata()[1]\n",
    "\n",
    "grade_1 = dataset2019['ocupacion'] <= (max_without_outliers * 1/4)\n",
    "grade_2 = (~grade_1) & (dataset2019['ocupacion'] <= (max_without_outliers * 2/4))\n",
    "grade_3 = (~grade_1) & (~grade_2) & (dataset2019['ocupacion'] <= (max_without_outliers * 3/4))\n",
    "grade_4 = (~grade_1) & (~grade_2) & (~grade_3) & (dataset2019['ocupacion'] <= (max_without_outliers))\n",
    "grade_5 = (~grade_1) & (~grade_2) & (~grade_3) & (~grade_4)\n",
    "\n",
    "dataset2019.loc[grade_1, 'porcentaje ocupacion'] = 0\n",
    "dataset2019.loc[grade_2, 'porcentaje ocupacion'] = 1\n",
    "dataset2019.loc[grade_3, 'porcentaje ocupacion'] = 2\n",
    "dataset2019.loc[grade_4, 'porcentaje ocupacion'] = 3\n",
    "dataset2019.loc[grade_5, 'porcentaje ocupacion'] = 4"
   ]
  },
  {
   "cell_type": "code",
   "execution_count": 6,
   "metadata": {
    "ExecuteTime": {
     "end_time": "2020-03-25T14:40:42.706935Z",
     "start_time": "2020-03-25T14:40:38.763960Z"
    }
   },
   "outputs": [],
   "source": [
    "dataset2019['mes'] = dataset2019['fecha'].apply(lambda x: x.month)\n",
    "dataset2019['hora'] = dataset2019['tiempo'].apply(lambda x: x.hour)\n",
    "dataset2019['timestamp'] = dataset2019['tiempo'].apply(lambda x: x.hour * 24 * 60 * 60+ x.minute * 60 + x.second)"
   ]
  },
  {
   "cell_type": "code",
   "execution_count": 7,
   "metadata": {
    "ExecuteTime": {
     "end_time": "2020-03-25T14:40:42.735275Z",
     "start_time": "2020-03-25T14:40:42.706935Z"
    }
   },
   "outputs": [
    {
     "data": {
      "text/html": [
       "<div>\n",
       "<style scoped>\n",
       "    .dataframe tbody tr th:only-of-type {\n",
       "        vertical-align: middle;\n",
       "    }\n",
       "\n",
       "    .dataframe tbody tr th {\n",
       "        vertical-align: top;\n",
       "    }\n",
       "\n",
       "    .dataframe thead th {\n",
       "        text-align: right;\n",
       "    }\n",
       "</style>\n",
       "<table border=\"1\" class=\"dataframe\">\n",
       "  <thead>\n",
       "    <tr style=\"text-align: right;\">\n",
       "      <th>dataset2019</th>\n",
       "      <th>id_cuadra</th>\n",
       "      <th>direccion</th>\n",
       "      <th>fecha</th>\n",
       "      <th>tiempo</th>\n",
       "      <th>operacion</th>\n",
       "      <th>ocupacion</th>\n",
       "      <th>latitud</th>\n",
       "      <th>longitud</th>\n",
       "      <th>dia de la semana</th>\n",
       "      <th>porcentaje ocupacion</th>\n",
       "      <th>mes</th>\n",
       "      <th>hora</th>\n",
       "      <th>timestamp</th>\n",
       "    </tr>\n",
       "  </thead>\n",
       "  <tbody>\n",
       "    <tr>\n",
       "      <td>0</td>\n",
       "      <td>16</td>\n",
       "      <td>Belgrano 660</td>\n",
       "      <td>2019-01-01</td>\n",
       "      <td>10:55:00</td>\n",
       "      <td>0</td>\n",
       "      <td>0</td>\n",
       "      <td>-37.328838</td>\n",
       "      <td>-59.134455</td>\n",
       "      <td>1</td>\n",
       "      <td>0</td>\n",
       "      <td>1</td>\n",
       "      <td>10</td>\n",
       "      <td>1062000</td>\n",
       "    </tr>\n",
       "    <tr>\n",
       "      <td>7</td>\n",
       "      <td>1</td>\n",
       "      <td>General Pinto 545</td>\n",
       "      <td>2019-01-01</td>\n",
       "      <td>15:12:00</td>\n",
       "      <td>1</td>\n",
       "      <td>1</td>\n",
       "      <td>-37.327782</td>\n",
       "      <td>-59.136657</td>\n",
       "      <td>1</td>\n",
       "      <td>0</td>\n",
       "      <td>1</td>\n",
       "      <td>15</td>\n",
       "      <td>1339200</td>\n",
       "    </tr>\n",
       "    <tr>\n",
       "      <td>9</td>\n",
       "      <td>65</td>\n",
       "      <td>Rodriguez 348</td>\n",
       "      <td>2019-01-01</td>\n",
       "      <td>15:13:00</td>\n",
       "      <td>1</td>\n",
       "      <td>1</td>\n",
       "      <td>-37.329387</td>\n",
       "      <td>-59.134833</td>\n",
       "      <td>1</td>\n",
       "      <td>0</td>\n",
       "      <td>1</td>\n",
       "      <td>15</td>\n",
       "      <td>1342800</td>\n",
       "    </tr>\n",
       "    <tr>\n",
       "      <td>8</td>\n",
       "      <td>1</td>\n",
       "      <td>General Pinto 545</td>\n",
       "      <td>2019-01-01</td>\n",
       "      <td>15:15:00</td>\n",
       "      <td>0</td>\n",
       "      <td>0</td>\n",
       "      <td>-37.327782</td>\n",
       "      <td>-59.136657</td>\n",
       "      <td>1</td>\n",
       "      <td>0</td>\n",
       "      <td>1</td>\n",
       "      <td>15</td>\n",
       "      <td>1350000</td>\n",
       "    </tr>\n",
       "    <tr>\n",
       "      <td>10</td>\n",
       "      <td>65</td>\n",
       "      <td>Rodriguez 348</td>\n",
       "      <td>2019-01-01</td>\n",
       "      <td>16:22:00</td>\n",
       "      <td>0</td>\n",
       "      <td>0</td>\n",
       "      <td>-37.329387</td>\n",
       "      <td>-59.134833</td>\n",
       "      <td>1</td>\n",
       "      <td>0</td>\n",
       "      <td>1</td>\n",
       "      <td>16</td>\n",
       "      <td>1461600</td>\n",
       "    </tr>\n",
       "    <tr>\n",
       "      <td>...</td>\n",
       "      <td>...</td>\n",
       "      <td>...</td>\n",
       "      <td>...</td>\n",
       "      <td>...</td>\n",
       "      <td>...</td>\n",
       "      <td>...</td>\n",
       "      <td>...</td>\n",
       "      <td>...</td>\n",
       "      <td>...</td>\n",
       "      <td>...</td>\n",
       "      <td>...</td>\n",
       "      <td>...</td>\n",
       "      <td>...</td>\n",
       "    </tr>\n",
       "    <tr>\n",
       "      <td>2957257</td>\n",
       "      <td>18</td>\n",
       "      <td>Sarmiento 543</td>\n",
       "      <td>2019-12-31</td>\n",
       "      <td>19:45:00</td>\n",
       "      <td>1</td>\n",
       "      <td>4</td>\n",
       "      <td>-0.000000</td>\n",
       "      <td>-0.000000</td>\n",
       "      <td>1</td>\n",
       "      <td>0</td>\n",
       "      <td>12</td>\n",
       "      <td>19</td>\n",
       "      <td>1803600</td>\n",
       "    </tr>\n",
       "    <tr>\n",
       "      <td>2957258</td>\n",
       "      <td>18</td>\n",
       "      <td>Sarmiento 543</td>\n",
       "      <td>2019-12-31</td>\n",
       "      <td>19:46:00</td>\n",
       "      <td>0</td>\n",
       "      <td>3</td>\n",
       "      <td>-0.000000</td>\n",
       "      <td>-0.000000</td>\n",
       "      <td>1</td>\n",
       "      <td>0</td>\n",
       "      <td>12</td>\n",
       "      <td>19</td>\n",
       "      <td>1807200</td>\n",
       "    </tr>\n",
       "    <tr>\n",
       "      <td>2956381</td>\n",
       "      <td>24</td>\n",
       "      <td>Belgrano 364</td>\n",
       "      <td>2019-12-31</td>\n",
       "      <td>19:53:00</td>\n",
       "      <td>1</td>\n",
       "      <td>1</td>\n",
       "      <td>-37.330077</td>\n",
       "      <td>-59.138438</td>\n",
       "      <td>1</td>\n",
       "      <td>0</td>\n",
       "      <td>12</td>\n",
       "      <td>19</td>\n",
       "      <td>1832400</td>\n",
       "    </tr>\n",
       "    <tr>\n",
       "      <td>2956511</td>\n",
       "      <td>60</td>\n",
       "      <td>Chacabuco 357</td>\n",
       "      <td>2019-12-31</td>\n",
       "      <td>20:08:00</td>\n",
       "      <td>0</td>\n",
       "      <td>0</td>\n",
       "      <td>-37.330203</td>\n",
       "      <td>-59.137003</td>\n",
       "      <td>1</td>\n",
       "      <td>0</td>\n",
       "      <td>12</td>\n",
       "      <td>20</td>\n",
       "      <td>1756800</td>\n",
       "    </tr>\n",
       "    <tr>\n",
       "      <td>2956907</td>\n",
       "      <td>42</td>\n",
       "      <td>Mitre 948</td>\n",
       "      <td>2019-12-31</td>\n",
       "      <td>21:55:00</td>\n",
       "      <td>0</td>\n",
       "      <td>0</td>\n",
       "      <td>-37.322147</td>\n",
       "      <td>-59.132182</td>\n",
       "      <td>1</td>\n",
       "      <td>0</td>\n",
       "      <td>12</td>\n",
       "      <td>21</td>\n",
       "      <td>2012400</td>\n",
       "    </tr>\n",
       "  </tbody>\n",
       "</table>\n",
       "<p>2957542 rows × 13 columns</p>\n",
       "</div>"
      ],
      "text/plain": [
       "dataset2019  id_cuadra          direccion       fecha    tiempo  operacion  \\\n",
       "0                   16       Belgrano 660  2019-01-01  10:55:00          0   \n",
       "7                    1  General Pinto 545  2019-01-01  15:12:00          1   \n",
       "9                   65      Rodriguez 348  2019-01-01  15:13:00          1   \n",
       "8                    1  General Pinto 545  2019-01-01  15:15:00          0   \n",
       "10                  65      Rodriguez 348  2019-01-01  16:22:00          0   \n",
       "...                ...                ...         ...       ...        ...   \n",
       "2957257             18      Sarmiento 543  2019-12-31  19:45:00          1   \n",
       "2957258             18      Sarmiento 543  2019-12-31  19:46:00          0   \n",
       "2956381             24       Belgrano 364  2019-12-31  19:53:00          1   \n",
       "2956511             60      Chacabuco 357  2019-12-31  20:08:00          0   \n",
       "2956907             42          Mitre 948  2019-12-31  21:55:00          0   \n",
       "\n",
       "dataset2019  ocupacion    latitud   longitud  dia de la semana  \\\n",
       "0                    0 -37.328838 -59.134455                 1   \n",
       "7                    1 -37.327782 -59.136657                 1   \n",
       "9                    1 -37.329387 -59.134833                 1   \n",
       "8                    0 -37.327782 -59.136657                 1   \n",
       "10                   0 -37.329387 -59.134833                 1   \n",
       "...                ...        ...        ...               ...   \n",
       "2957257              4  -0.000000  -0.000000                 1   \n",
       "2957258              3  -0.000000  -0.000000                 1   \n",
       "2956381              1 -37.330077 -59.138438                 1   \n",
       "2956511              0 -37.330203 -59.137003                 1   \n",
       "2956907              0 -37.322147 -59.132182                 1   \n",
       "\n",
       "dataset2019  porcentaje ocupacion  mes  hora  timestamp  \n",
       "0                               0    1    10    1062000  \n",
       "7                               0    1    15    1339200  \n",
       "9                               0    1    15    1342800  \n",
       "8                               0    1    15    1350000  \n",
       "10                              0    1    16    1461600  \n",
       "...                           ...  ...   ...        ...  \n",
       "2957257                         0   12    19    1803600  \n",
       "2957258                         0   12    19    1807200  \n",
       "2956381                         0   12    19    1832400  \n",
       "2956511                         0   12    20    1756800  \n",
       "2956907                         0   12    21    2012400  \n",
       "\n",
       "[2957542 rows x 13 columns]"
      ]
     },
     "execution_count": 7,
     "metadata": {},
     "output_type": "execute_result"
    }
   ],
   "source": [
    "dataset2019"
   ]
  },
  {
   "cell_type": "code",
   "execution_count": 8,
   "metadata": {
    "ExecuteTime": {
     "end_time": "2020-03-25T02:34:56.361193Z",
     "start_time": "2020-03-25T02:34:54.773124Z"
    }
   },
   "outputs": [
    {
     "name": "stdout",
     "output_type": "stream",
     "text": [
      "Clases balanceadas.\n"
     ]
    },
    {
     "data": {
      "text/html": [
       "<div>\n",
       "<style scoped>\n",
       "    .dataframe tbody tr th:only-of-type {\n",
       "        vertical-align: middle;\n",
       "    }\n",
       "\n",
       "    .dataframe tbody tr th {\n",
       "        vertical-align: top;\n",
       "    }\n",
       "\n",
       "    .dataframe thead th {\n",
       "        text-align: right;\n",
       "    }\n",
       "</style>\n",
       "<table border=\"1\" class=\"dataframe\">\n",
       "  <thead>\n",
       "    <tr style=\"text-align: right;\">\n",
       "      <th>dataset2019</th>\n",
       "      <th>Cantidad datos</th>\n",
       "    </tr>\n",
       "    <tr>\n",
       "      <th>operacion</th>\n",
       "      <th></th>\n",
       "    </tr>\n",
       "  </thead>\n",
       "  <tbody>\n",
       "    <tr>\n",
       "      <td>0</td>\n",
       "      <td>1477989</td>\n",
       "    </tr>\n",
       "    <tr>\n",
       "      <td>1</td>\n",
       "      <td>1479553</td>\n",
       "    </tr>\n",
       "  </tbody>\n",
       "</table>\n",
       "</div>"
      ],
      "text/plain": [
       "dataset2019  Cantidad datos\n",
       "operacion                  \n",
       "0                   1477989\n",
       "1                   1479553"
      ]
     },
     "metadata": {},
     "output_type": "display_data"
    }
   ],
   "source": [
    "def print_balanced_classes(df):\n",
    "    d = df.copy()\n",
    "    d = d.groupby(by='operacion').count()[['id_cuadra']]\n",
    "    d.rename(columns={'id_cuadra': 'Cantidad datos'}, inplace=True)\n",
    "    if pow(pow(d.iloc[0].values - d.iloc[1].values, 2), 0.5) > (len(df) * 0.4):\n",
    "        print('Clases no balanceadas.')\n",
    "    else:\n",
    "        print('Clases balanceadas.')\n",
    "    display(d)\n",
    "    \n",
    "print_balanced_classes(dataset2019)"
   ]
  },
  {
   "cell_type": "markdown",
   "metadata": {},
   "source": [
    "## Con todos los datos juntos"
   ]
  },
  {
   "cell_type": "code",
   "execution_count": 9,
   "metadata": {
    "ExecuteTime": {
     "end_time": "2020-03-25T02:34:56.575616Z",
     "start_time": "2020-03-25T02:34:56.363186Z"
    }
   },
   "outputs": [],
   "source": [
    "data = dataset2019.copy()"
   ]
  },
  {
   "cell_type": "code",
   "execution_count": 40,
   "metadata": {
    "ExecuteTime": {
     "end_time": "2020-03-25T02:52:54.456280Z",
     "start_time": "2020-03-25T02:52:54.453320Z"
    }
   },
   "outputs": [],
   "source": [
    "max_depth = 20\n",
    "train_columns = ['id_cuadra', 'mes', 'dia de la semana', 'hora', 'ocupacion']"
   ]
  },
  {
   "cell_type": "code",
   "execution_count": 41,
   "metadata": {
    "ExecuteTime": {
     "end_time": "2020-03-25T02:55:27.045487Z",
     "start_time": "2020-03-25T02:52:54.646168Z"
    }
   },
   "outputs": [
    {
     "name": "stdout",
     "output_type": "stream",
     "text": [
      "8\n",
      "[[0.         0.        ]\n",
      " [0.55421011 0.55436776]\n",
      " [0.55410771 0.55460669]\n",
      " [0.55450717 0.55411755]\n",
      " [0.57061371 0.57024693]\n",
      " [0.57044078 0.57065605]\n",
      " [0.57039634 0.57079017]\n",
      " [0.57113151 0.57020297]\n",
      " [0.57067602 0.57127932]\n",
      " [0.57147398 0.57058167]\n",
      " [0.57116484 0.57126805]\n",
      " [0.57160681 0.57035963]\n",
      " [0.57186764 0.57057039]\n",
      " [0.57261972 0.56971834]\n",
      " [0.57329064 0.56910071]\n",
      " [0.57390408 0.56871525]\n",
      " [0.5745953  0.56816299]\n",
      " [0.57537152 0.5685214 ]\n",
      " [0.5762656  0.5666764 ]\n",
      " [0.57667859 0.56721401]\n",
      " [0.57841459 0.56509851]]\n"
     ]
    }
   ],
   "source": [
    "best_score = np.zeros((max_depth+1, 2))\n",
    "best_depth = 0\n",
    "best_model = 0\n",
    "\n",
    "\n",
    "for i in range(1, max_depth+1):\n",
    "    \n",
    "    x = data[train_columns].to_numpy()[:-1]\n",
    "    y = data['operacion'].to_numpy()[1:]\n",
    "\n",
    "    x_train, x_test, y_train, y_test = train_test_split(x, y, test_size=0.3, shuffle=True, stratify=y)\n",
    "\n",
    "    dt = DecisionTreeClassifier(max_depth=i)\n",
    "    dt = dt.fit(x_train, y_train)\n",
    "    \n",
    "    if dt.score(x_test, y_test) > max([x[1] for x in best_score]):\n",
    "        best_depth = i\n",
    "        best_model = dt\n",
    "        \n",
    "    best_score[i][0] = dt.score(x_train, y_train)\n",
    "    best_score[i][1] = dt.score(x_test, y_test)\n",
    "\n",
    "print(best_depth)\n",
    "print(best_score)"
   ]
  },
  {
   "cell_type": "code",
   "execution_count": 42,
   "metadata": {
    "ExecuteTime": {
     "end_time": "2020-03-25T02:55:27.052468Z",
     "start_time": "2020-03-25T02:55:27.046484Z"
    }
   },
   "outputs": [
    {
     "data": {
      "text/plain": [
       "0.5712793162793895"
      ]
     },
     "execution_count": 42,
     "metadata": {},
     "output_type": "execute_result"
    }
   ],
   "source": [
    "max([x[1] for x in best_score])"
   ]
  },
  {
   "cell_type": "code",
   "execution_count": 23,
   "metadata": {
    "ExecuteTime": {
     "end_time": "2020-03-25T02:41:33.106315Z",
     "start_time": "2020-03-25T02:41:32.958951Z"
    }
   },
   "outputs": [
    {
     "ename": "ValueError",
     "evalue": "Length of feature_names, 5 does not match number of features, 2",
     "output_type": "error",
     "traceback": [
      "\u001b[1;31m---------------------------------------------------------------------------\u001b[0m",
      "\u001b[1;31mValueError\u001b[0m                                Traceback (most recent call last)",
      "\u001b[1;32m<ipython-input-23-a46320589c09>\u001b[0m in \u001b[0;36m<module>\u001b[1;34m\u001b[0m\n\u001b[0;32m      6\u001b[0m                         \u001b[0mclass_names\u001b[0m \u001b[1;33m=\u001b[0m \u001b[1;33m[\u001b[0m\u001b[1;34m'Salida'\u001b[0m\u001b[1;33m,\u001b[0m \u001b[1;34m'Entrada'\u001b[0m\u001b[1;33m]\u001b[0m\u001b[1;33m,\u001b[0m\u001b[1;33m\u001b[0m\u001b[1;33m\u001b[0m\u001b[0m\n\u001b[0;32m      7\u001b[0m                         \u001b[0mrounded\u001b[0m \u001b[1;33m=\u001b[0m \u001b[1;32mTrue\u001b[0m\u001b[1;33m,\u001b[0m\u001b[1;33m\u001b[0m\u001b[1;33m\u001b[0m\u001b[0m\n\u001b[1;32m----> 8\u001b[1;33m                         filled= True)\n\u001b[0m\u001b[0;32m      9\u001b[0m \u001b[1;33m\u001b[0m\u001b[0m\n\u001b[0;32m     10\u001b[0m \u001b[1;31m# Draw graph\u001b[0m\u001b[1;33m\u001b[0m\u001b[1;33m\u001b[0m\u001b[1;33m\u001b[0m\u001b[0m\n",
      "\u001b[1;32m~\\Anaconda3\\lib\\site-packages\\sklearn\\tree\\export.py\u001b[0m in \u001b[0;36mexport_graphviz\u001b[1;34m(decision_tree, out_file, max_depth, feature_names, class_names, label, filled, leaves_parallel, impurity, node_ids, proportion, rotate, rounded, special_characters, precision)\u001b[0m\n\u001b[0;32m    773\u001b[0m             \u001b[0mrounded\u001b[0m\u001b[1;33m=\u001b[0m\u001b[0mrounded\u001b[0m\u001b[1;33m,\u001b[0m \u001b[0mspecial_characters\u001b[0m\u001b[1;33m=\u001b[0m\u001b[0mspecial_characters\u001b[0m\u001b[1;33m,\u001b[0m\u001b[1;33m\u001b[0m\u001b[1;33m\u001b[0m\u001b[0m\n\u001b[0;32m    774\u001b[0m             precision=precision)\n\u001b[1;32m--> 775\u001b[1;33m         \u001b[0mexporter\u001b[0m\u001b[1;33m.\u001b[0m\u001b[0mexport\u001b[0m\u001b[1;33m(\u001b[0m\u001b[0mdecision_tree\u001b[0m\u001b[1;33m)\u001b[0m\u001b[1;33m\u001b[0m\u001b[1;33m\u001b[0m\u001b[0m\n\u001b[0m\u001b[0;32m    776\u001b[0m \u001b[1;33m\u001b[0m\u001b[0m\n\u001b[0;32m    777\u001b[0m         \u001b[1;32mif\u001b[0m \u001b[0mreturn_string\u001b[0m\u001b[1;33m:\u001b[0m\u001b[1;33m\u001b[0m\u001b[1;33m\u001b[0m\u001b[0m\n",
      "\u001b[1;32m~\\Anaconda3\\lib\\site-packages\\sklearn\\tree\\export.py\u001b[0m in \u001b[0;36mexport\u001b[1;34m(self, decision_tree)\u001b[0m\n\u001b[0;32m    399\u001b[0m                                  \u001b[1;34m\"does not match number of features, %d\"\u001b[0m\u001b[1;33m\u001b[0m\u001b[1;33m\u001b[0m\u001b[0m\n\u001b[0;32m    400\u001b[0m                                  % (len(self.feature_names),\n\u001b[1;32m--> 401\u001b[1;33m                                     decision_tree.n_features_))\n\u001b[0m\u001b[0;32m    402\u001b[0m         \u001b[1;31m# each part writes to out_file\u001b[0m\u001b[1;33m\u001b[0m\u001b[1;33m\u001b[0m\u001b[1;33m\u001b[0m\u001b[0m\n\u001b[0;32m    403\u001b[0m         \u001b[0mself\u001b[0m\u001b[1;33m.\u001b[0m\u001b[0mhead\u001b[0m\u001b[1;33m(\u001b[0m\u001b[1;33m)\u001b[0m\u001b[1;33m\u001b[0m\u001b[1;33m\u001b[0m\u001b[0m\n",
      "\u001b[1;31mValueError\u001b[0m: Length of feature_names, 5 does not match number of features, 2"
     ]
    }
   ],
   "source": [
    "# Create DOT data\n",
    "dot_data = export_graphviz(best_model, \n",
    "                        out_file=None,\n",
    "                        impurity = True,\n",
    "                        feature_names = ['id_cuadra', 'mes', 'dia de la semana', 'hora', 'ocupacion'],\n",
    "                        class_names = ['Salida', 'Entrada'],\n",
    "                        rounded = True,\n",
    "                        filled= True)\n",
    "\n",
    "# Draw graph\n",
    "graph = pydotplus.graph_from_dot_data(dot_data)  \n",
    "\n",
    "# Show graph\n",
    "Image(graph.create_png())"
   ]
  },
  {
   "cell_type": "code",
   "execution_count": 43,
   "metadata": {
    "ExecuteTime": {
     "end_time": "2020-03-25T02:55:27.131692Z",
     "start_time": "2020-03-25T02:55:27.054463Z"
    }
   },
   "outputs": [
    {
     "data": {
      "text/plain": [
       "325"
      ]
     },
     "execution_count": 43,
     "metadata": {},
     "output_type": "execute_result"
    }
   ],
   "source": [
    "gc.collect()"
   ]
  },
  {
   "cell_type": "markdown",
   "metadata": {},
   "source": [
    "## Separando por calles"
   ]
  },
  {
   "cell_type": "code",
   "execution_count": 44,
   "metadata": {
    "ExecuteTime": {
     "end_time": "2020-03-25T02:55:27.468818Z",
     "start_time": "2020-03-25T02:55:27.133688Z"
    }
   },
   "outputs": [],
   "source": [
    "data = dataset2019.copy()"
   ]
  },
  {
   "cell_type": "code",
   "execution_count": 45,
   "metadata": {
    "ExecuteTime": {
     "end_time": "2020-03-25T02:55:27.473779Z",
     "start_time": "2020-03-25T02:55:27.469789Z"
    }
   },
   "outputs": [],
   "source": [
    "max_depth = 15"
   ]
  },
  {
   "cell_type": "code",
   "execution_count": 46,
   "metadata": {
    "ExecuteTime": {
     "end_time": "2020-03-25T02:56:26.504355Z",
     "start_time": "2020-03-25T02:55:27.475772Z"
    }
   },
   "outputs": [
    {
     "name": "stdout",
     "output_type": "stream",
     "text": [
      "8\n",
      "[[0.         0.        ]\n",
      " [0.56432432 0.56309223]\n",
      " [0.57208146 0.57077902]\n",
      " [0.5855197  0.58404   ]\n",
      " [0.59017886 0.5863257 ]\n",
      " [0.59462674 0.59190268]\n",
      " [0.59808573 0.59410126]\n",
      " [0.60045717 0.59435529]\n",
      " [0.60125006 0.59497731]\n",
      " [0.60280248 0.59309606]\n",
      " [0.60347774 0.59322792]\n",
      " [0.60431739 0.59261046]\n",
      " [0.60454639 0.59234711]\n",
      " [0.6040297  0.59364137]\n",
      " [0.60490555 0.59147706]\n",
      " [0.60470813 0.59161443]]\n"
     ]
    }
   ],
   "source": [
    "mid_score = np.zeros((len(dataset2019['id_cuadra'].drop_duplicates())+1, 2))\n",
    "mid_model = np.zeros(len(dataset2019['id_cuadra'].drop_duplicates())+1)\n",
    "\n",
    "best_street_scores = np.zeros((len(dataset2019['id_cuadra'].drop_duplicates())+1, 2))\n",
    "\n",
    "best_score = np.zeros((max_depth+1, 2))\n",
    "best_depth = 0\n",
    "best_model = np.array(len(dataset2019['id_cuadra'].drop_duplicates())+1)\n",
    "\n",
    "for i in range(1, max_depth+1):\n",
    "    index = 0 \n",
    "    for s in dataset2019['id_cuadra'].drop_duplicates():\n",
    "        \n",
    "        #clear_output()\n",
    "        #print('Index:', index)\n",
    "        \n",
    "        d = data.loc[data['id_cuadra'] == s]\n",
    "        \n",
    "        x = d[train_columns].to_numpy()[:-1]\n",
    "        y = d['operacion'].to_numpy()[1:]\n",
    "\n",
    "        x_train, x_test, y_train, y_test = train_test_split(x, y, test_size=0.3, shuffle=True, stratify=y)\n",
    "        \n",
    "        dt = DecisionTreeClassifier(max_depth=i)\n",
    "        dt = dt.fit(x_train, y_train)\n",
    "                     \n",
    "        mid_score[index][0] = dt.score(x_train, y_train)\n",
    "        mid_score[index][1] = dt.score(x_test, y_test)\n",
    "        \n",
    "        index+=1\n",
    "    \n",
    "    if (sum([x[1] for x in mid_score]) / len(mid_score)) > max([x[1] for x in best_score]):\n",
    "        best_depth = i\n",
    "        best_street_scores = mid_score.copy()\n",
    "        #best_model = mid_model\n",
    "        \n",
    "    best_score[i][0] = (sum([x[0] for x in mid_score]) / len(mid_score))\n",
    "    best_score[i][1] = (sum([x[1] for x in mid_score]) / len(mid_score))\n",
    "    \n",
    "    \n",
    "clear_output()\n",
    "\n",
    "print(best_depth)\n",
    "#print(best_min_samples)\n",
    "print(best_score)"
   ]
  },
  {
   "cell_type": "code",
   "execution_count": 47,
   "metadata": {
    "ExecuteTime": {
     "end_time": "2020-03-25T02:56:26.523315Z",
     "start_time": "2020-03-25T02:56:26.506349Z"
    }
   },
   "outputs": [
    {
     "name": "stdout",
     "output_type": "stream",
     "text": [
      "0.5949773136081491\n",
      "\n",
      "[[0.57114944 0.56815329]\n",
      " [0.58420554 0.57894091]\n",
      " [0.60172926 0.59718428]\n",
      " [0.58578829 0.58052795]\n",
      " [0.58005818 0.57279402]\n",
      " [0.57912997 0.56934932]\n",
      " [0.5986832  0.58568536]\n",
      " [0.57797655 0.56915614]\n",
      " [0.58979136 0.58849883]\n",
      " [0.68646865 0.68094321]\n",
      " [0.59727741 0.58931104]\n",
      " [0.57135722 0.57058504]\n",
      " [0.57173326 0.57392458]\n",
      " [0.61529791 0.60674368]\n",
      " [0.58287217 0.56950549]\n",
      " [0.60731871 0.59227356]\n",
      " [0.58057502 0.57461545]\n",
      " [0.59348793 0.59002388]\n",
      " [0.60038397 0.59345731]\n",
      " [0.5805161  0.56722271]\n",
      " [0.65468584 0.64037267]\n",
      " [0.60858077 0.59766385]\n",
      " [0.59179688 0.59275314]\n",
      " [0.59191542 0.58536585]\n",
      " [0.57274907 0.56832725]\n",
      " [0.61548607 0.60923077]\n",
      " [0.59703222 0.58663162]\n",
      " [0.57406627 0.5635696 ]\n",
      " [0.6149914  0.6076683 ]\n",
      " [0.62480173 0.61116717]\n",
      " [0.58963096 0.58450941]\n",
      " [0.58439295 0.57782031]\n",
      " [0.61086753 0.60321986]\n",
      " [0.59173815 0.57811893]\n",
      " [0.59740991 0.58281336]\n",
      " [0.61117019 0.61706556]\n",
      " [0.58684874 0.5812278 ]\n",
      " [0.57950042 0.57770089]\n",
      " [0.59796216 0.59290815]\n",
      " [0.60873448 0.60366743]\n",
      " [0.56615768 0.56068097]\n",
      " [0.57892231 0.57563885]\n",
      " [0.60139892 0.59602021]\n",
      " [0.5788444  0.56763542]\n",
      " [0.63888889 0.62398754]\n",
      " [0.59042067 0.57131304]\n",
      " [0.57907398 0.57607945]\n",
      " [0.59349231 0.59693214]\n",
      " [0.58826396 0.58708892]\n",
      " [0.63274933 0.63899371]\n",
      " [0.59520518 0.5851456 ]\n",
      " [0.59713092 0.58947636]\n",
      " [0.60579764 0.60496841]\n",
      " [0.62312412 0.61924686]\n",
      " [0.62319074 0.62753188]\n",
      " [0.60027621 0.6035304 ]\n",
      " [0.58950513 0.59013807]\n",
      " [0.59472641 0.59056425]\n",
      " [0.626      0.59939337]\n",
      " [0.59837239 0.59355023]\n",
      " [0.5756212  0.56776604]\n",
      " [0.59854239 0.60081418]\n",
      " [0.62505071 0.62494084]\n",
      " [0.59664074 0.59496012]\n",
      " [0.56917712 0.56124279]\n",
      " [0.60517782 0.58204142]\n",
      " [0.63110064 0.61523361]\n",
      " [0.60313413 0.5979177 ]\n",
      " [0.61991482 0.62052424]\n",
      " [0.56384929 0.5624073 ]\n",
      " [0.62720022 0.61726019]\n",
      " [0.63951699 0.63021265]\n",
      " [0.66071066 0.64566556]\n",
      " [0.59928841 0.58793774]\n",
      " [0.59307858 0.59242814]\n",
      " [0.61445783 0.60214808]\n",
      " [0.69223332 0.65214125]\n",
      " [0.60408163 0.58419048]\n",
      " [0.59446014 0.58820799]\n",
      " [0.59265841 0.59240672]\n",
      " [0.59558894 0.57955056]\n",
      " [0.61018281 0.59843578]\n",
      " [0.62208916 0.6184687 ]\n",
      " [0.59626819 0.59733815]\n",
      " [0.63936009 0.64478764]\n",
      " [0.66605617 0.63817664]\n",
      " [0.60302401 0.59709493]\n",
      " [0.6339058  0.62356208]\n",
      " [0.57219834 0.56265458]\n",
      " [0.63155531 0.62745612]\n",
      " [0.59262493 0.59254035]\n",
      " [0.60519662 0.6004882 ]\n",
      " [0.60549888 0.59157212]\n",
      " [0.70224525 0.72280419]\n",
      " [0.8647343  0.88888889]\n",
      " [0.68410946 0.68456376]\n",
      " [0.63027012 0.64033333]\n",
      " [0.         0.        ]]\n"
     ]
    }
   ],
   "source": [
    "print(max([x[1] for x in best_score]))\n",
    "print('')\n",
    "print(best_street_scores)"
   ]
  },
  {
   "cell_type": "code",
   "execution_count": 48,
   "metadata": {
    "ExecuteTime": {
     "end_time": "2020-03-25T02:56:26.879698Z",
     "start_time": "2020-03-25T02:56:26.525308Z"
    }
   },
   "outputs": [
    {
     "data": {
      "image/png": "[encoded data removed]",
      "text/plain": [
       "<Figure size 1080x576 with 1 Axes>"
      ]
     },
     "metadata": {
      "needs_background": "light"
     },
     "output_type": "display_data"
    }
   ],
   "source": [
    "height = [x for x in range(len(best_street_scores))]\n",
    "total_prob_plot = [x[1] for x in best_street_scores]\n",
    "plt.bar(height, total_prob_plot)\n",
    "plt.rcParams['figure.figsize'] = (15,8)\n",
    "\n",
    "plt.yticks([x for x in np.arange(0, 1, 0.1)])\n",
    "#plt.xticks(height)\n",
    "plt.ylim(0, 1)\n",
    "plt.grid(axis='y')"
   ]
  },
  {
   "cell_type": "code",
   "execution_count": null,
   "metadata": {
    "ExecuteTime": {
     "end_time": "2020-03-25T02:41:33.114295Z",
     "start_time": "2020-03-25T02:39:33.070Z"
    }
   },
   "outputs": [],
   "source": [
    "# Create DOT data\n",
    "dot_data = export_graphviz(best_model[0], \n",
    "                        out_file=None,\n",
    "                        impurity = True,\n",
    "                        feature_names = ['mes', 'dia de la semana', 'hora', 'ocupacion'],\n",
    "                        class_names = ['Salida', 'Entrada'],\n",
    "                        rounded = True,\n",
    "                        filled= True)\n",
    "\n",
    "# Draw graph\n",
    "graph = pydotplus.graph_from_dot_data(dot_data)  \n",
    "\n",
    "# Show graph\n",
    "Image(graph.create_png())"
   ]
  },
  {
   "cell_type": "code",
   "execution_count": 39,
   "metadata": {
    "ExecuteTime": {
     "end_time": "2020-03-25T02:51:27.937043Z",
     "start_time": "2020-03-25T02:51:27.889150Z"
    }
   },
   "outputs": [
    {
     "data": {
      "text/plain": [
       "9195"
      ]
     },
     "execution_count": 39,
     "metadata": {},
     "output_type": "execute_result"
    }
   ],
   "source": [
    "gc.collect()"
   ]
  },
  {
   "cell_type": "code",
   "execution_count": null,
   "metadata": {},
   "outputs": [],
   "source": []
  }
 ],
 "metadata": {
  "kernelspec": {
   "display_name": "Python 3",
   "language": "python",
   "name": "python3"
  },
  "language_info": {
   "codemirror_mode": {
    "name": "ipython",
    "version": 3
   },
   "file_extension": ".py",
   "mimetype": "text/x-python",
   "name": "python",
   "nbconvert_exporter": "python",
   "pygments_lexer": "ipython3",
   "version": "3.7.3"
  }
 },
 "nbformat": 4,
 "nbformat_minor": 2
}
