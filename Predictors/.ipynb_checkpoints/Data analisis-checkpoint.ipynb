{
 "cells": [
  {
   "cell_type": "code",
   "execution_count": 1,
   "metadata": {
    "ExecuteTime": {
     "end_time": "2020-03-27T20:15:33.036060Z",
     "start_time": "2020-03-27T20:15:31.005249Z"
    }
   },
   "outputs": [],
   "source": [
    "import pandas as pd\n",
    "import numpy as np\n",
    "#import math\n",
    "import matplotlib.pyplot as plt\n",
    "#import matplotlib.patches as mpatches\n",
    "from datetime import datetime \n",
    "from IPython.display import display, HTML, clear_output\n",
    "import gc\n",
    "import seaborn as sns\n",
    "from scipy.stats import normaltest, boxcox, probplot\n",
    "#from sklearn.model_selection import train_test_split\n",
    "#from sklearn.metrics import confusion_matrix\n",
    "#from random import shuffle\n",
    "#from sklearn.naive_bayes import GaussianNB, MultinomialNB\n",
    "#from sklearn.metrics import f1_score, balanced_accuracy_score\n",
    "from statsmodels.tsa.stattools import adfuller"
   ]
  },
  {
   "cell_type": "code",
   "execution_count": 2,
   "metadata": {
    "ExecuteTime": {
     "end_time": "2020-03-27T20:15:33.045965Z",
     "start_time": "2020-03-27T20:15:33.041976Z"
    }
   },
   "outputs": [],
   "source": [
    "dhh_max = r'C:\\Users\\ing_l\\Tesis grado\\Data\\Predictors data\\Dataset2019_half_hour_max.csv'\n",
    "dhour_max = r'C:\\Users\\ing_l\\Tesis grado\\Data\\Predictors data\\Dataset2019_hour_max.csv'\n",
    "dhh_mean = r'C:\\Users\\ing_l\\Tesis grado\\Data\\Predictors data\\Dataset2019_half_hour_mean.csv'\n",
    "dhour_mean = r'C:\\Users\\ing_l\\Tesis grado\\Data\\Predictors data\\Dataset2019_hour_mean.csv'"
   ]
  },
  {
   "cell_type": "code",
   "execution_count": 3,
   "metadata": {
    "ExecuteTime": {
     "end_time": "2020-03-27T20:16:16.423432Z",
     "start_time": "2020-03-27T20:15:33.049957Z"
    }
   },
   "outputs": [
    {
     "data": {
      "text/html": [
       "<div>\n",
       "<style scoped>\n",
       "    .dataframe tbody tr th:only-of-type {\n",
       "        vertical-align: middle;\n",
       "    }\n",
       "\n",
       "    .dataframe tbody tr th {\n",
       "        vertical-align: top;\n",
       "    }\n",
       "\n",
       "    .dataframe thead th {\n",
       "        text-align: right;\n",
       "    }\n",
       "</style>\n",
       "<table border=\"1\" class=\"dataframe\">\n",
       "  <thead>\n",
       "    <tr style=\"text-align: right;\">\n",
       "      <th></th>\n",
       "      <th>dia de la semana</th>\n",
       "      <th>fecha</th>\n",
       "      <th>id_cuadra</th>\n",
       "      <th>media hora</th>\n",
       "      <th>mes</th>\n",
       "      <th>ocupacion</th>\n",
       "      <th>ocupacion anterior</th>\n",
       "      <th>targets</th>\n",
       "    </tr>\n",
       "  </thead>\n",
       "  <tbody>\n",
       "    <tr>\n",
       "      <td>0</td>\n",
       "      <td>2</td>\n",
       "      <td>2019-01-02</td>\n",
       "      <td>0</td>\n",
       "      <td>36000</td>\n",
       "      <td>1</td>\n",
       "      <td>2</td>\n",
       "      <td>3</td>\n",
       "      <td>1</td>\n",
       "    </tr>\n",
       "    <tr>\n",
       "      <td>1</td>\n",
       "      <td>2</td>\n",
       "      <td>2019-01-02</td>\n",
       "      <td>0</td>\n",
       "      <td>37800</td>\n",
       "      <td>1</td>\n",
       "      <td>1</td>\n",
       "      <td>2</td>\n",
       "      <td>5</td>\n",
       "    </tr>\n",
       "    <tr>\n",
       "      <td>2</td>\n",
       "      <td>2</td>\n",
       "      <td>2019-01-02</td>\n",
       "      <td>0</td>\n",
       "      <td>39600</td>\n",
       "      <td>1</td>\n",
       "      <td>5</td>\n",
       "      <td>1</td>\n",
       "      <td>4</td>\n",
       "    </tr>\n",
       "    <tr>\n",
       "      <td>3</td>\n",
       "      <td>2</td>\n",
       "      <td>2019-01-02</td>\n",
       "      <td>0</td>\n",
       "      <td>41400</td>\n",
       "      <td>1</td>\n",
       "      <td>4</td>\n",
       "      <td>5</td>\n",
       "      <td>2</td>\n",
       "    </tr>\n",
       "    <tr>\n",
       "      <td>4</td>\n",
       "      <td>2</td>\n",
       "      <td>2019-01-02</td>\n",
       "      <td>0</td>\n",
       "      <td>43200</td>\n",
       "      <td>1</td>\n",
       "      <td>2</td>\n",
       "      <td>4</td>\n",
       "      <td>3</td>\n",
       "    </tr>\n",
       "    <tr>\n",
       "      <td>...</td>\n",
       "      <td>...</td>\n",
       "      <td>...</td>\n",
       "      <td>...</td>\n",
       "      <td>...</td>\n",
       "      <td>...</td>\n",
       "      <td>...</td>\n",
       "      <td>...</td>\n",
       "      <td>...</td>\n",
       "    </tr>\n",
       "    <tr>\n",
       "      <td>476452</td>\n",
       "      <td>1</td>\n",
       "      <td>2019-09-17</td>\n",
       "      <td>190</td>\n",
       "      <td>39600</td>\n",
       "      <td>9</td>\n",
       "      <td>1</td>\n",
       "      <td>1</td>\n",
       "      <td>1</td>\n",
       "    </tr>\n",
       "    <tr>\n",
       "      <td>476453</td>\n",
       "      <td>1</td>\n",
       "      <td>2019-09-17</td>\n",
       "      <td>190</td>\n",
       "      <td>41400</td>\n",
       "      <td>9</td>\n",
       "      <td>1</td>\n",
       "      <td>1</td>\n",
       "      <td>1</td>\n",
       "    </tr>\n",
       "    <tr>\n",
       "      <td>476454</td>\n",
       "      <td>1</td>\n",
       "      <td>2019-11-12</td>\n",
       "      <td>190</td>\n",
       "      <td>36000</td>\n",
       "      <td>11</td>\n",
       "      <td>0</td>\n",
       "      <td>0</td>\n",
       "      <td>1</td>\n",
       "    </tr>\n",
       "    <tr>\n",
       "      <td>476455</td>\n",
       "      <td>1</td>\n",
       "      <td>2019-11-19</td>\n",
       "      <td>190</td>\n",
       "      <td>34200</td>\n",
       "      <td>11</td>\n",
       "      <td>1</td>\n",
       "      <td>1</td>\n",
       "      <td>1</td>\n",
       "    </tr>\n",
       "    <tr>\n",
       "      <td>476456</td>\n",
       "      <td>1</td>\n",
       "      <td>2019-11-19</td>\n",
       "      <td>190</td>\n",
       "      <td>41400</td>\n",
       "      <td>11</td>\n",
       "      <td>1</td>\n",
       "      <td>1</td>\n",
       "      <td>1</td>\n",
       "    </tr>\n",
       "  </tbody>\n",
       "</table>\n",
       "<p>476457 rows × 8 columns</p>\n",
       "</div>"
      ],
      "text/plain": [
       "        dia de la semana       fecha  id_cuadra  media hora  mes  ocupacion  \\\n",
       "0                      2  2019-01-02          0       36000    1          2   \n",
       "1                      2  2019-01-02          0       37800    1          1   \n",
       "2                      2  2019-01-02          0       39600    1          5   \n",
       "3                      2  2019-01-02          0       41400    1          4   \n",
       "4                      2  2019-01-02          0       43200    1          2   \n",
       "...                  ...         ...        ...         ...  ...        ...   \n",
       "476452                 1  2019-09-17        190       39600    9          1   \n",
       "476453                 1  2019-09-17        190       41400    9          1   \n",
       "476454                 1  2019-11-12        190       36000   11          0   \n",
       "476455                 1  2019-11-19        190       34200   11          1   \n",
       "476456                 1  2019-11-19        190       41400   11          1   \n",
       "\n",
       "        ocupacion anterior  targets  \n",
       "0                        3        1  \n",
       "1                        2        5  \n",
       "2                        1        4  \n",
       "3                        5        2  \n",
       "4                        4        3  \n",
       "...                    ...      ...  \n",
       "476452                   1        1  \n",
       "476453                   1        1  \n",
       "476454                   0        1  \n",
       "476455                   1        1  \n",
       "476456                   1        1  \n",
       "\n",
       "[476457 rows x 8 columns]"
      ]
     },
     "execution_count": 3,
     "metadata": {},
     "output_type": "execute_result"
    }
   ],
   "source": [
    "data = pd.read_csv(dhh_max)\n",
    "data.drop('Unnamed: 0', axis=1, inplace=True)\n",
    "data['fecha'] = data['fecha'].apply(lambda x: pd.to_datetime(x).date())\n",
    "data"
   ]
  },
  {
   "cell_type": "markdown",
   "metadata": {},
   "source": [
    "# Análisis datos estacionarios y correlación"
   ]
  },
  {
   "cell_type": "code",
   "execution_count": 4,
   "metadata": {
    "ExecuteTime": {
     "end_time": "2020-03-27T20:16:16.777840Z",
     "start_time": "2020-03-27T20:16:16.425512Z"
    }
   },
   "outputs": [
    {
     "data": {
      "text/plain": [
       "<matplotlib.axes._subplots.AxesSubplot at 0x227813dcbe0>"
      ]
     },
     "execution_count": 4,
     "metadata": {},
     "output_type": "execute_result"
    },
    {
     "data": {
      "image/png": "[encoded data removed]",
      "text/plain": [
       "<Figure size 432x288 with 2 Axes>"
      ]
     },
     "metadata": {
      "needs_background": "light"
     },
     "output_type": "display_data"
    }
   ],
   "source": [
    "#Correlacion para dataset_hh\n",
    "sns.heatmap(data.corr())"
   ]
  },
  {
   "cell_type": "code",
   "execution_count": 6,
   "metadata": {
    "ExecuteTime": {
     "end_time": "2020-03-27T12:23:54.163849Z",
     "start_time": "2020-03-27T12:23:54.121955Z"
    }
   },
   "outputs": [
    {
     "name": "stdout",
     "output_type": "stream",
     "text": [
      "7.468272459398341 5.610265964281125 4.709942887979493\n",
      "5.6381965250105 4.569730528776953 4.190685698236125\n"
     ]
    }
   ],
   "source": [
    "#Si tienen media y varianza parecida entonces es estacinoario\n",
    "dsin_finde = data.loc[data['dia de la semana'] < 5]\n",
    "separadores = [int(len(dsin_finde)/2), int(len(dsin_finde)/3) * 2]\n",
    "var1, var2, var3 = dsin_finde[:separadores[0]]['ocupacion'], dsin_finde[separadores[0]:separadores[1]]['ocupacion'], dsin_finde[separadores[1]:]['ocupacion']\n",
    "print(var1.mean(), var2.mean(), var3.mean())\n",
    "print(var1.std(), var2.std(), var3.std())"
   ]
  },
  {
   "cell_type": "code",
   "execution_count": 7,
   "metadata": {
    "ExecuteTime": {
     "end_time": "2020-03-27T12:23:58.271424Z",
     "start_time": "2020-03-27T12:23:54.165843Z"
    }
   },
   "outputs": [
    {
     "data": {
      "text/plain": [
       "<matplotlib.axes._subplots.AxesSubplot at 0x16b3bc68ba8>"
      ]
     },
     "execution_count": 7,
     "metadata": {},
     "output_type": "execute_result"
    },
    {
     "data": {
      "image/png": "[encoded data removed]",
      "text/plain": [
       "<Figure size 432x288 with 1 Axes>"
      ]
     },
     "metadata": {
      "needs_background": "light"
     },
     "output_type": "display_data"
    }
   ],
   "source": [
    "#Esto me dice que los datos estan relacionados y que estan fuertemente correlacionados\n",
    "pd.plotting.lag_plot(data['ocupacion'])"
   ]
  },
  {
   "cell_type": "code",
   "execution_count": 8,
   "metadata": {
    "ExecuteTime": {
     "end_time": "2020-03-27T12:23:58.306665Z",
     "start_time": "2020-03-27T12:23:58.273418Z"
    }
   },
   "outputs": [
    {
     "data": {
      "text/plain": [
       "27"
      ]
     },
     "execution_count": 8,
     "metadata": {},
     "output_type": "execute_result"
    }
   ],
   "source": [
    "gc.collect()"
   ]
  },
  {
   "cell_type": "markdown",
   "metadata": {},
   "source": [
    "# Para ver si es una distribucion normal"
   ]
  },
  {
   "cell_type": "code",
   "execution_count": 32,
   "metadata": {
    "ExecuteTime": {
     "end_time": "2020-03-27T12:28:26.866932Z",
     "start_time": "2020-03-27T12:28:26.670199Z"
    }
   },
   "outputs": [
    {
     "data": {
      "text/plain": [
       "<matplotlib.axes._subplots.AxesSubplot at 0x16b3c5eb278>"
      ]
     },
     "execution_count": 32,
     "metadata": {},
     "output_type": "execute_result"
    },
    {
     "data": {
      "image/png": "[encoded data removed]",
      "text/plain": [
       "<Figure size 432x288 with 1 Axes>"
      ]
     },
     "metadata": {
      "needs_background": "light"
     },
     "output_type": "display_data"
    }
   ],
   "source": [
    "np.log(data['ocupacion']+1).hist()"
   ]
  },
  {
   "cell_type": "code",
   "execution_count": 33,
   "metadata": {
    "ExecuteTime": {
     "end_time": "2020-03-27T12:28:36.689282Z",
     "start_time": "2020-03-27T12:28:36.632435Z"
    }
   },
   "outputs": [
    {
     "data": {
      "text/plain": [
       "NormaltestResult(statistic=14187.33100914674, pvalue=0.0)"
      ]
     },
     "execution_count": 33,
     "metadata": {},
     "output_type": "execute_result"
    }
   ],
   "source": [
    "normaltest(np.log(data['ocupacion']+1))"
   ]
  },
  {
   "cell_type": "code",
   "execution_count": null,
   "metadata": {},
   "outputs": [],
   "source": []
  }
 ],
 "metadata": {
  "kernelspec": {
   "display_name": "Python 3",
   "language": "python",
   "name": "python3"
  },
  "language_info": {
   "codemirror_mode": {
    "name": "ipython",
    "version": 3
   },
   "file_extension": ".py",
   "mimetype": "text/x-python",
   "name": "python",
   "nbconvert_exporter": "python",
   "pygments_lexer": "ipython3",
   "version": "3.7.3"
  }
 },
 "nbformat": 4,
 "nbformat_minor": 2
}
