{
 "cells": [
  {
   "cell_type": "code",
   "execution_count": 1,
   "metadata": {
    "ExecuteTime": {
     "end_time": "2020-03-25T15:06:16.325599Z",
     "start_time": "2020-03-25T15:06:10.292652Z"
    }
   },
   "outputs": [
    {
     "name": "stderr",
     "output_type": "stream",
     "text": [
      "Using TensorFlow backend.\n"
     ]
    }
   ],
   "source": [
    "import pandas as pd\n",
    "import numpy as np\n",
    "import matplotlib.pyplot as plt\n",
    "import matplotlib.patches as mpatches\n",
    "from datetime import datetime \n",
    "from IPython.display import display, HTML, clear_output\n",
    "import gc\n",
    "import seaborn as sns\n",
    "from scipy.stats import normaltest, boxcox, probplot\n",
    "from sklearn.model_selection import train_test_split\n",
    "from sklearn.metrics import confusion_matrix\n",
    "from random import shuffle\n",
    "from sklearn.naive_bayes import GaussianNB, MultinomialNB\n",
    "from imblearn.metrics import geometric_mean_score\n",
    "from sklearn.metrics import f1_score, balanced_accuracy_score"
   ]
  },
  {
   "cell_type": "code",
   "execution_count": 2,
   "metadata": {
    "ExecuteTime": {
     "end_time": "2020-03-25T15:06:16.331792Z",
     "start_time": "2020-03-25T15:06:16.325599Z"
    }
   },
   "outputs": [],
   "source": [
    "r'''\n",
    "dataset2019: all sumo data with ocupation (requested in sumo office)\n",
    "'''\n",
    "\n",
    "dataset2019_path = r'C:\\Users\\ing_l\\Tesis grado\\Data\\dataset_2019.csv'"
   ]
  },
  {
   "cell_type": "code",
   "execution_count": 3,
   "metadata": {
    "ExecuteTime": {
     "end_time": "2020-03-25T15:06:19.151833Z",
     "start_time": "2020-03-25T15:06:16.333787Z"
    }
   },
   "outputs": [],
   "source": [
    "dataset2019 = pd.read_csv(dataset2019_path)[['id_cuadra', 'direccion', 'fecha', 'tiempo', 'operacion', 'ocupacion', 'latitud', 'longitud']]\n",
    "dataset2019['dia de la semana'] = -1\n",
    "dataset2019.columns.names = ['dataset2019']"
   ]
  },
  {
   "cell_type": "code",
   "execution_count": 4,
   "metadata": {
    "ExecuteTime": {
     "end_time": "2020-03-25T15:30:34.236719Z",
     "start_time": "2020-03-25T15:06:19.155844Z"
    }
   },
   "outputs": [],
   "source": [
    "def correct_type(row):\n",
    "    '''\n",
    "    Corrects the dtype of fecha, tiempo and ocupación on the df\n",
    "    '''\n",
    "    row['fecha'] = pd.to_datetime(row['fecha'], dayfirst=True).date()\n",
    "    row['tiempo'] = pd.to_datetime(row['tiempo']).time()\n",
    "    row['ocupacion'] = int(row['ocupacion'])\n",
    "    row['dia de la semana'] = row['fecha'].weekday()\n",
    "    return row\n",
    "\n",
    "print('Working on dataset2019...')\n",
    "dataset2019 = dataset2019.apply(correct_type, axis=1).sort_values(by=['fecha', 'tiempo'])\n",
    "clear_output()"
   ]
  },
  {
   "cell_type": "code",
   "execution_count": 5,
   "metadata": {
    "ExecuteTime": {
     "end_time": "2020-03-25T15:30:35.712612Z",
     "start_time": "2020-03-25T15:30:34.238774Z"
    },
    "collapsed": true
   },
   "outputs": [
    {
     "data": {
      "image/png": "[encoded data removed]",
      "text/plain": [
       "<Figure size 432x288 with 1 Axes>"
      ]
     },
     "metadata": {
      "needs_background": "light"
     },
     "output_type": "display_data"
    }
   ],
   "source": [
    "dataset2019['porcentaje ocupacion'] = 0\n",
    "max_without_outliers = dataset2019.boxplot(column='ocupacion', return_type='dict')['whiskers'][1].get_ydata()[1]\n",
    "\n",
    "grade_1 = dataset2019['ocupacion'] <= (max_without_outliers * 1/4)\n",
    "grade_2 = (~grade_1) & (dataset2019['ocupacion'] <= (max_without_outliers * 2/4))\n",
    "grade_3 = (~grade_1) & (~grade_2) & (dataset2019['ocupacion'] <= (max_without_outliers * 3/4))\n",
    "grade_4 = (~grade_1) & (~grade_2) & (~grade_3) & (dataset2019['ocupacion'] <= (max_without_outliers))\n",
    "grade_5 = (~grade_1) & (~grade_2) & (~grade_3) & (~grade_4)\n",
    "\n",
    "dataset2019.loc[grade_1, 'porcentaje ocupacion'] = 0\n",
    "dataset2019.loc[grade_2, 'porcentaje ocupacion'] = 1\n",
    "dataset2019.loc[grade_3, 'porcentaje ocupacion'] = 2\n",
    "dataset2019.loc[grade_4, 'porcentaje ocupacion'] = 3\n",
    "dataset2019.loc[grade_5, 'porcentaje ocupacion'] = 4"
   ]
  },
  {
   "cell_type": "code",
   "execution_count": 6,
   "metadata": {
    "ExecuteTime": {
     "end_time": "2020-03-25T15:30:37.777316Z",
     "start_time": "2020-03-25T15:30:35.713636Z"
    }
   },
   "outputs": [],
   "source": [
    "dataset2019['mes'] = dataset2019['fecha'].apply(lambda x: x.month)\n",
    "dataset2019['hora'] = dataset2019['tiempo'].apply(lambda x: x.hour)"
   ]
  },
  {
   "cell_type": "code",
   "execution_count": 53,
   "metadata": {
    "ExecuteTime": {
     "end_time": "2020-03-25T18:22:20.325463Z",
     "start_time": "2020-03-25T18:22:19.960440Z"
    }
   },
   "outputs": [],
   "source": [
    "dataset2019_copy = dataset2019.copy()"
   ]
  },
  {
   "cell_type": "code",
   "execution_count": 43,
   "metadata": {
    "ExecuteTime": {
     "end_time": "2020-03-25T16:39:01.366746Z",
     "start_time": "2020-03-25T16:39:01.346799Z"
    }
   },
   "outputs": [
    {
     "data": {
      "text/html": [
       "<div>\n",
       "<style scoped>\n",
       "    .dataframe tbody tr th:only-of-type {\n",
       "        vertical-align: middle;\n",
       "    }\n",
       "\n",
       "    .dataframe tbody tr th {\n",
       "        vertical-align: top;\n",
       "    }\n",
       "\n",
       "    .dataframe thead th {\n",
       "        text-align: right;\n",
       "    }\n",
       "</style>\n",
       "<table border=\"1\" class=\"dataframe\">\n",
       "  <thead>\n",
       "    <tr style=\"text-align: right;\">\n",
       "      <th>dataset2019</th>\n",
       "      <th>id_cuadra</th>\n",
       "      <th>direccion</th>\n",
       "      <th>fecha</th>\n",
       "      <th>tiempo</th>\n",
       "      <th>operacion</th>\n",
       "      <th>ocupacion</th>\n",
       "      <th>latitud</th>\n",
       "      <th>longitud</th>\n",
       "      <th>dia de la semana</th>\n",
       "      <th>porcentaje ocupacion</th>\n",
       "      <th>mes</th>\n",
       "      <th>hora</th>\n",
       "    </tr>\n",
       "  </thead>\n",
       "  <tbody>\n",
       "    <tr>\n",
       "      <td>0</td>\n",
       "      <td>16</td>\n",
       "      <td>Belgrano 660</td>\n",
       "      <td>2019-01-01</td>\n",
       "      <td>10:55:00</td>\n",
       "      <td>0</td>\n",
       "      <td>0</td>\n",
       "      <td>-37.328838</td>\n",
       "      <td>-59.134455</td>\n",
       "      <td>1</td>\n",
       "      <td>0</td>\n",
       "      <td>1</td>\n",
       "      <td>10</td>\n",
       "    </tr>\n",
       "    <tr>\n",
       "      <td>7</td>\n",
       "      <td>1</td>\n",
       "      <td>General Pinto 545</td>\n",
       "      <td>2019-01-01</td>\n",
       "      <td>15:12:00</td>\n",
       "      <td>1</td>\n",
       "      <td>1</td>\n",
       "      <td>-37.327782</td>\n",
       "      <td>-59.136657</td>\n",
       "      <td>1</td>\n",
       "      <td>0</td>\n",
       "      <td>1</td>\n",
       "      <td>15</td>\n",
       "    </tr>\n",
       "    <tr>\n",
       "      <td>9</td>\n",
       "      <td>65</td>\n",
       "      <td>Rodriguez 348</td>\n",
       "      <td>2019-01-01</td>\n",
       "      <td>15:13:00</td>\n",
       "      <td>1</td>\n",
       "      <td>1</td>\n",
       "      <td>-37.329387</td>\n",
       "      <td>-59.134833</td>\n",
       "      <td>1</td>\n",
       "      <td>0</td>\n",
       "      <td>1</td>\n",
       "      <td>15</td>\n",
       "    </tr>\n",
       "    <tr>\n",
       "      <td>8</td>\n",
       "      <td>1</td>\n",
       "      <td>General Pinto 545</td>\n",
       "      <td>2019-01-01</td>\n",
       "      <td>15:15:00</td>\n",
       "      <td>0</td>\n",
       "      <td>0</td>\n",
       "      <td>-37.327782</td>\n",
       "      <td>-59.136657</td>\n",
       "      <td>1</td>\n",
       "      <td>0</td>\n",
       "      <td>1</td>\n",
       "      <td>15</td>\n",
       "    </tr>\n",
       "    <tr>\n",
       "      <td>10</td>\n",
       "      <td>65</td>\n",
       "      <td>Rodriguez 348</td>\n",
       "      <td>2019-01-01</td>\n",
       "      <td>16:22:00</td>\n",
       "      <td>0</td>\n",
       "      <td>0</td>\n",
       "      <td>-37.329387</td>\n",
       "      <td>-59.134833</td>\n",
       "      <td>1</td>\n",
       "      <td>0</td>\n",
       "      <td>1</td>\n",
       "      <td>16</td>\n",
       "    </tr>\n",
       "    <tr>\n",
       "      <td>...</td>\n",
       "      <td>...</td>\n",
       "      <td>...</td>\n",
       "      <td>...</td>\n",
       "      <td>...</td>\n",
       "      <td>...</td>\n",
       "      <td>...</td>\n",
       "      <td>...</td>\n",
       "      <td>...</td>\n",
       "      <td>...</td>\n",
       "      <td>...</td>\n",
       "      <td>...</td>\n",
       "      <td>...</td>\n",
       "    </tr>\n",
       "    <tr>\n",
       "      <td>2957257</td>\n",
       "      <td>18</td>\n",
       "      <td>Sarmiento 543</td>\n",
       "      <td>2019-12-31</td>\n",
       "      <td>19:45:00</td>\n",
       "      <td>1</td>\n",
       "      <td>4</td>\n",
       "      <td>-0.000000</td>\n",
       "      <td>-0.000000</td>\n",
       "      <td>1</td>\n",
       "      <td>0</td>\n",
       "      <td>12</td>\n",
       "      <td>19</td>\n",
       "    </tr>\n",
       "    <tr>\n",
       "      <td>2957258</td>\n",
       "      <td>18</td>\n",
       "      <td>Sarmiento 543</td>\n",
       "      <td>2019-12-31</td>\n",
       "      <td>19:46:00</td>\n",
       "      <td>0</td>\n",
       "      <td>3</td>\n",
       "      <td>-0.000000</td>\n",
       "      <td>-0.000000</td>\n",
       "      <td>1</td>\n",
       "      <td>0</td>\n",
       "      <td>12</td>\n",
       "      <td>19</td>\n",
       "    </tr>\n",
       "    <tr>\n",
       "      <td>2956381</td>\n",
       "      <td>24</td>\n",
       "      <td>Belgrano 364</td>\n",
       "      <td>2019-12-31</td>\n",
       "      <td>19:53:00</td>\n",
       "      <td>1</td>\n",
       "      <td>1</td>\n",
       "      <td>-37.330077</td>\n",
       "      <td>-59.138438</td>\n",
       "      <td>1</td>\n",
       "      <td>0</td>\n",
       "      <td>12</td>\n",
       "      <td>19</td>\n",
       "    </tr>\n",
       "    <tr>\n",
       "      <td>2956511</td>\n",
       "      <td>60</td>\n",
       "      <td>Chacabuco 357</td>\n",
       "      <td>2019-12-31</td>\n",
       "      <td>20:08:00</td>\n",
       "      <td>0</td>\n",
       "      <td>0</td>\n",
       "      <td>-37.330203</td>\n",
       "      <td>-59.137003</td>\n",
       "      <td>1</td>\n",
       "      <td>0</td>\n",
       "      <td>12</td>\n",
       "      <td>20</td>\n",
       "    </tr>\n",
       "    <tr>\n",
       "      <td>2956907</td>\n",
       "      <td>42</td>\n",
       "      <td>Mitre 948</td>\n",
       "      <td>2019-12-31</td>\n",
       "      <td>21:55:00</td>\n",
       "      <td>0</td>\n",
       "      <td>0</td>\n",
       "      <td>-37.322147</td>\n",
       "      <td>-59.132182</td>\n",
       "      <td>1</td>\n",
       "      <td>0</td>\n",
       "      <td>12</td>\n",
       "      <td>21</td>\n",
       "    </tr>\n",
       "  </tbody>\n",
       "</table>\n",
       "<p>2957542 rows × 12 columns</p>\n",
       "</div>"
      ],
      "text/plain": [
       "dataset2019  id_cuadra          direccion       fecha    tiempo  operacion  \\\n",
       "0                   16       Belgrano 660  2019-01-01  10:55:00          0   \n",
       "7                    1  General Pinto 545  2019-01-01  15:12:00          1   \n",
       "9                   65      Rodriguez 348  2019-01-01  15:13:00          1   \n",
       "8                    1  General Pinto 545  2019-01-01  15:15:00          0   \n",
       "10                  65      Rodriguez 348  2019-01-01  16:22:00          0   \n",
       "...                ...                ...         ...       ...        ...   \n",
       "2957257             18      Sarmiento 543  2019-12-31  19:45:00          1   \n",
       "2957258             18      Sarmiento 543  2019-12-31  19:46:00          0   \n",
       "2956381             24       Belgrano 364  2019-12-31  19:53:00          1   \n",
       "2956511             60      Chacabuco 357  2019-12-31  20:08:00          0   \n",
       "2956907             42          Mitre 948  2019-12-31  21:55:00          0   \n",
       "\n",
       "dataset2019  ocupacion    latitud   longitud  dia de la semana  \\\n",
       "0                    0 -37.328838 -59.134455                 1   \n",
       "7                    1 -37.327782 -59.136657                 1   \n",
       "9                    1 -37.329387 -59.134833                 1   \n",
       "8                    0 -37.327782 -59.136657                 1   \n",
       "10                   0 -37.329387 -59.134833                 1   \n",
       "...                ...        ...        ...               ...   \n",
       "2957257              4  -0.000000  -0.000000                 1   \n",
       "2957258              3  -0.000000  -0.000000                 1   \n",
       "2956381              1 -37.330077 -59.138438                 1   \n",
       "2956511              0 -37.330203 -59.137003                 1   \n",
       "2956907              0 -37.322147 -59.132182                 1   \n",
       "\n",
       "dataset2019  porcentaje ocupacion  mes  hora  \n",
       "0                               0    1    10  \n",
       "7                               0    1    15  \n",
       "9                               0    1    15  \n",
       "8                               0    1    15  \n",
       "10                              0    1    16  \n",
       "...                           ...  ...   ...  \n",
       "2957257                         0   12    19  \n",
       "2957258                         0   12    19  \n",
       "2956381                         0   12    19  \n",
       "2956511                         0   12    20  \n",
       "2956907                         0   12    21  \n",
       "\n",
       "[2957542 rows x 12 columns]"
      ]
     },
     "execution_count": 43,
     "metadata": {},
     "output_type": "execute_result"
    }
   ],
   "source": [
    "dataset2019"
   ]
  },
  {
   "cell_type": "code",
   "execution_count": 7,
   "metadata": {
    "ExecuteTime": {
     "end_time": "2020-03-25T15:30:39.155691Z",
     "start_time": "2020-03-25T15:30:37.777316Z"
    },
    "code_folding": []
   },
   "outputs": [
    {
     "name": "stdout",
     "output_type": "stream",
     "text": [
      "Clases balanceadas.\n"
     ]
    },
    {
     "data": {
      "text/html": [
       "<div>\n",
       "<style scoped>\n",
       "    .dataframe tbody tr th:only-of-type {\n",
       "        vertical-align: middle;\n",
       "    }\n",
       "\n",
       "    .dataframe tbody tr th {\n",
       "        vertical-align: top;\n",
       "    }\n",
       "\n",
       "    .dataframe thead th {\n",
       "        text-align: right;\n",
       "    }\n",
       "</style>\n",
       "<table border=\"1\" class=\"dataframe\">\n",
       "  <thead>\n",
       "    <tr style=\"text-align: right;\">\n",
       "      <th>dataset2019</th>\n",
       "      <th>Cantidad datos</th>\n",
       "    </tr>\n",
       "    <tr>\n",
       "      <th>operacion</th>\n",
       "      <th></th>\n",
       "    </tr>\n",
       "  </thead>\n",
       "  <tbody>\n",
       "    <tr>\n",
       "      <td>0</td>\n",
       "      <td>1477989</td>\n",
       "    </tr>\n",
       "    <tr>\n",
       "      <td>1</td>\n",
       "      <td>1479553</td>\n",
       "    </tr>\n",
       "  </tbody>\n",
       "</table>\n",
       "</div>"
      ],
      "text/plain": [
       "dataset2019  Cantidad datos\n",
       "operacion                  \n",
       "0                   1477989\n",
       "1                   1479553"
      ]
     },
     "metadata": {},
     "output_type": "display_data"
    }
   ],
   "source": [
    "def print_balanced_classes(df):\n",
    "    d = df.copy()\n",
    "    d = d.groupby(by='operacion').count()[['id_cuadra']]\n",
    "    d.rename(columns={'id_cuadra': 'Cantidad datos'}, inplace=True)\n",
    "    if pow(pow(d.iloc[0].values - d.iloc[1].values, 2), 0.5) > (len(df) * 0.4):\n",
    "        print('Clases no balanceadas.')\n",
    "    else:\n",
    "        print('Clases balanceadas.')\n",
    "    display(d)\n",
    "    \n",
    "print_balanced_classes(dataset2019)"
   ]
  },
  {
   "cell_type": "markdown",
   "metadata": {},
   "source": [
    "## Preparando input y output"
   ]
  },
  {
   "cell_type": "code",
   "execution_count": 37,
   "metadata": {
    "ExecuteTime": {
     "end_time": "2020-03-25T16:09:14.618744Z",
     "start_time": "2020-03-25T16:09:14.614754Z"
    }
   },
   "outputs": [],
   "source": [
    "input_features = ['id_cuadra', 'mes', 'dia de la semana', 'hora', 'ocupacion', 'porcentaje ocupacion']\n",
    "output_features = ['operacion']"
   ]
  },
  {
   "cell_type": "code",
   "execution_count": 52,
   "metadata": {
    "ExecuteTime": {
     "end_time": "2020-03-25T18:22:19.957447Z",
     "start_time": "2020-03-25T17:16:19.762332Z"
    }
   },
   "outputs": [
    {
     "name": "stdout",
     "output_type": "stream",
     "text": [
      "Street: 190\n"
     ]
    },
    {
     "data": {
      "text/html": [
       "<div>\n",
       "<style scoped>\n",
       "    .dataframe tbody tr th:only-of-type {\n",
       "        vertical-align: middle;\n",
       "    }\n",
       "\n",
       "    .dataframe tbody tr th {\n",
       "        vertical-align: top;\n",
       "    }\n",
       "\n",
       "    .dataframe thead th {\n",
       "        text-align: right;\n",
       "    }\n",
       "</style>\n",
       "<table border=\"1\" class=\"dataframe\">\n",
       "  <thead>\n",
       "    <tr style=\"text-align: right;\">\n",
       "      <th>dataset2019</th>\n",
       "      <th>id_cuadra</th>\n",
       "      <th>mes</th>\n",
       "      <th>dia de la semana</th>\n",
       "      <th>hora</th>\n",
       "      <th>ocupacion</th>\n",
       "      <th>porcentaje ocupacion</th>\n",
       "    </tr>\n",
       "  </thead>\n",
       "  <tbody>\n",
       "    <tr>\n",
       "      <td>1849</td>\n",
       "      <td>0</td>\n",
       "      <td>1</td>\n",
       "      <td>2</td>\n",
       "      <td>9</td>\n",
       "      <td>1</td>\n",
       "      <td>0</td>\n",
       "    </tr>\n",
       "    <tr>\n",
       "      <td>1850</td>\n",
       "      <td>0</td>\n",
       "      <td>1</td>\n",
       "      <td>2</td>\n",
       "      <td>9</td>\n",
       "      <td>2</td>\n",
       "      <td>0</td>\n",
       "    </tr>\n",
       "    <tr>\n",
       "      <td>1851</td>\n",
       "      <td>0</td>\n",
       "      <td>1</td>\n",
       "      <td>2</td>\n",
       "      <td>9</td>\n",
       "      <td>3</td>\n",
       "      <td>0</td>\n",
       "    </tr>\n",
       "    <tr>\n",
       "      <td>1852</td>\n",
       "      <td>0</td>\n",
       "      <td>1</td>\n",
       "      <td>2</td>\n",
       "      <td>9</td>\n",
       "      <td>2</td>\n",
       "      <td>0</td>\n",
       "    </tr>\n",
       "    <tr>\n",
       "      <td>1853</td>\n",
       "      <td>0</td>\n",
       "      <td>1</td>\n",
       "      <td>2</td>\n",
       "      <td>9</td>\n",
       "      <td>1</td>\n",
       "      <td>0</td>\n",
       "    </tr>\n",
       "    <tr>\n",
       "      <td>...</td>\n",
       "      <td>...</td>\n",
       "      <td>...</td>\n",
       "      <td>...</td>\n",
       "      <td>...</td>\n",
       "      <td>...</td>\n",
       "      <td>...</td>\n",
       "    </tr>\n",
       "    <tr>\n",
       "      <td>2696276</td>\n",
       "      <td>190</td>\n",
       "      <td>11</td>\n",
       "      <td>3</td>\n",
       "      <td>10</td>\n",
       "      <td>1</td>\n",
       "      <td>0</td>\n",
       "    </tr>\n",
       "    <tr>\n",
       "      <td>2725920</td>\n",
       "      <td>190</td>\n",
       "      <td>12</td>\n",
       "      <td>0</td>\n",
       "      <td>11</td>\n",
       "      <td>1</td>\n",
       "      <td>0</td>\n",
       "    </tr>\n",
       "    <tr>\n",
       "      <td>2784938</td>\n",
       "      <td>190</td>\n",
       "      <td>12</td>\n",
       "      <td>0</td>\n",
       "      <td>8</td>\n",
       "      <td>0</td>\n",
       "      <td>0</td>\n",
       "    </tr>\n",
       "    <tr>\n",
       "      <td>2784939</td>\n",
       "      <td>190</td>\n",
       "      <td>12</td>\n",
       "      <td>0</td>\n",
       "      <td>10</td>\n",
       "      <td>1</td>\n",
       "      <td>0</td>\n",
       "    </tr>\n",
       "    <tr>\n",
       "      <td>2873218</td>\n",
       "      <td>190</td>\n",
       "      <td>12</td>\n",
       "      <td>2</td>\n",
       "      <td>11</td>\n",
       "      <td>1</td>\n",
       "      <td>0</td>\n",
       "    </tr>\n",
       "  </tbody>\n",
       "</table>\n",
       "<p>2927770 rows × 6 columns</p>\n",
       "</div>"
      ],
      "text/plain": [
       "dataset2019 id_cuadra mes dia de la semana hora ocupacion porcentaje ocupacion\n",
       "1849                0   1                2    9         1                    0\n",
       "1850                0   1                2    9         2                    0\n",
       "1851                0   1                2    9         3                    0\n",
       "1852                0   1                2    9         2                    0\n",
       "1853                0   1                2    9         1                    0\n",
       "...               ...  ..              ...  ...       ...                  ...\n",
       "2696276           190  11                3   10         1                    0\n",
       "2725920           190  12                0   11         1                    0\n",
       "2784938           190  12                0    8         0                    0\n",
       "2784939           190  12                0   10         1                    0\n",
       "2873218           190  12                2   11         1                    0\n",
       "\n",
       "[2927770 rows x 6 columns]"
      ]
     },
     "metadata": {},
     "output_type": "display_data"
    },
    {
     "data": {
      "text/html": [
       "<div>\n",
       "<style scoped>\n",
       "    .dataframe tbody tr th:only-of-type {\n",
       "        vertical-align: middle;\n",
       "    }\n",
       "\n",
       "    .dataframe tbody tr th {\n",
       "        vertical-align: top;\n",
       "    }\n",
       "\n",
       "    .dataframe thead th {\n",
       "        text-align: right;\n",
       "    }\n",
       "</style>\n",
       "<table border=\"1\" class=\"dataframe\">\n",
       "  <thead>\n",
       "    <tr style=\"text-align: right;\">\n",
       "      <th>dataset2019</th>\n",
       "      <th>operacion</th>\n",
       "    </tr>\n",
       "  </thead>\n",
       "  <tbody>\n",
       "    <tr>\n",
       "      <td>1850</td>\n",
       "      <td>1</td>\n",
       "    </tr>\n",
       "    <tr>\n",
       "      <td>1851</td>\n",
       "      <td>1</td>\n",
       "    </tr>\n",
       "    <tr>\n",
       "      <td>1852</td>\n",
       "      <td>0</td>\n",
       "    </tr>\n",
       "    <tr>\n",
       "      <td>1853</td>\n",
       "      <td>0</td>\n",
       "    </tr>\n",
       "    <tr>\n",
       "      <td>1854</td>\n",
       "      <td>1</td>\n",
       "    </tr>\n",
       "    <tr>\n",
       "      <td>...</td>\n",
       "      <td>...</td>\n",
       "    </tr>\n",
       "    <tr>\n",
       "      <td>2696277</td>\n",
       "      <td>0</td>\n",
       "    </tr>\n",
       "    <tr>\n",
       "      <td>2725921</td>\n",
       "      <td>0</td>\n",
       "    </tr>\n",
       "    <tr>\n",
       "      <td>2784939</td>\n",
       "      <td>1</td>\n",
       "    </tr>\n",
       "    <tr>\n",
       "      <td>2784940</td>\n",
       "      <td>0</td>\n",
       "    </tr>\n",
       "    <tr>\n",
       "      <td>2873219</td>\n",
       "      <td>0</td>\n",
       "    </tr>\n",
       "  </tbody>\n",
       "</table>\n",
       "<p>2927770 rows × 1 columns</p>\n",
       "</div>"
      ],
      "text/plain": [
       "dataset2019 operacion\n",
       "1850                1\n",
       "1851                1\n",
       "1852                0\n",
       "1853                0\n",
       "1854                1\n",
       "...               ...\n",
       "2696277             0\n",
       "2725921             0\n",
       "2784939             1\n",
       "2784940             0\n",
       "2873219             0\n",
       "\n",
       "[2927770 rows x 1 columns]"
      ]
     },
     "metadata": {},
     "output_type": "display_data"
    }
   ],
   "source": [
    "inputs = pd.DataFrame(columns=input_features)\n",
    "outputs = pd.DataFrame(columns=output_features)\n",
    "\n",
    "for street in dataset2019['id_cuadra'].drop_duplicates().sort_values():\n",
    "    data_street = dataset2019.loc[dataset2019['id_cuadra'] == street]\n",
    "    \n",
    "    clear_output()\n",
    "    print('Street:', street)\n",
    "    \n",
    "    for date in data_street['fecha'].drop_duplicates():\n",
    "        data = data_street.loc[data_street['fecha'] == date]\n",
    "        \n",
    "        inputs = inputs.append(data[input_features][:-1]) \n",
    "        outputs = outputs.append(data[output_features][1:]) \n",
    "\n",
    "display(inputs, outputs)"
   ]
  },
  {
   "cell_type": "code",
   "execution_count": 54,
   "metadata": {
    "ExecuteTime": {
     "end_time": "2020-03-25T18:24:32.083396Z",
     "start_time": "2020-03-25T18:24:31.948344Z"
    }
   },
   "outputs": [],
   "source": [
    "#inp = inputs.copy()\n",
    "#outp = outputs.copy()"
   ]
  },
  {
   "cell_type": "code",
   "execution_count": 59,
   "metadata": {
    "ExecuteTime": {
     "end_time": "2020-03-25T18:28:57.492132Z",
     "start_time": "2020-03-25T18:28:57.227587Z"
    }
   },
   "outputs": [],
   "source": [
    "inputs = inp.copy().reset_index(drop=True)\n",
    "outputs = outp.copy().reset_index(drop=True)"
   ]
  },
  {
   "cell_type": "code",
   "execution_count": 60,
   "metadata": {
    "ExecuteTime": {
     "end_time": "2020-03-25T18:28:58.185806Z",
     "start_time": "2020-03-25T18:28:58.165860Z"
    }
   },
   "outputs": [],
   "source": [
    "inputs['targets'] = outputs"
   ]
  },
  {
   "cell_type": "code",
   "execution_count": 61,
   "metadata": {
    "ExecuteTime": {
     "end_time": "2020-03-25T18:28:58.817955Z",
     "start_time": "2020-03-25T18:28:58.802305Z"
    }
   },
   "outputs": [
    {
     "data": {
      "text/html": [
       "<div>\n",
       "<style scoped>\n",
       "    .dataframe tbody tr th:only-of-type {\n",
       "        vertical-align: middle;\n",
       "    }\n",
       "\n",
       "    .dataframe tbody tr th {\n",
       "        vertical-align: top;\n",
       "    }\n",
       "\n",
       "    .dataframe thead th {\n",
       "        text-align: right;\n",
       "    }\n",
       "</style>\n",
       "<table border=\"1\" class=\"dataframe\">\n",
       "  <thead>\n",
       "    <tr style=\"text-align: right;\">\n",
       "      <th>dataset2019</th>\n",
       "      <th>id_cuadra</th>\n",
       "      <th>mes</th>\n",
       "      <th>dia de la semana</th>\n",
       "      <th>hora</th>\n",
       "      <th>ocupacion</th>\n",
       "      <th>porcentaje ocupacion</th>\n",
       "      <th>targets</th>\n",
       "    </tr>\n",
       "  </thead>\n",
       "  <tbody>\n",
       "    <tr>\n",
       "      <td>0</td>\n",
       "      <td>0</td>\n",
       "      <td>1</td>\n",
       "      <td>2</td>\n",
       "      <td>9</td>\n",
       "      <td>1</td>\n",
       "      <td>0</td>\n",
       "      <td>1</td>\n",
       "    </tr>\n",
       "    <tr>\n",
       "      <td>1</td>\n",
       "      <td>0</td>\n",
       "      <td>1</td>\n",
       "      <td>2</td>\n",
       "      <td>9</td>\n",
       "      <td>2</td>\n",
       "      <td>0</td>\n",
       "      <td>1</td>\n",
       "    </tr>\n",
       "    <tr>\n",
       "      <td>2</td>\n",
       "      <td>0</td>\n",
       "      <td>1</td>\n",
       "      <td>2</td>\n",
       "      <td>9</td>\n",
       "      <td>3</td>\n",
       "      <td>0</td>\n",
       "      <td>0</td>\n",
       "    </tr>\n",
       "    <tr>\n",
       "      <td>3</td>\n",
       "      <td>0</td>\n",
       "      <td>1</td>\n",
       "      <td>2</td>\n",
       "      <td>9</td>\n",
       "      <td>2</td>\n",
       "      <td>0</td>\n",
       "      <td>0</td>\n",
       "    </tr>\n",
       "    <tr>\n",
       "      <td>4</td>\n",
       "      <td>0</td>\n",
       "      <td>1</td>\n",
       "      <td>2</td>\n",
       "      <td>9</td>\n",
       "      <td>1</td>\n",
       "      <td>0</td>\n",
       "      <td>1</td>\n",
       "    </tr>\n",
       "    <tr>\n",
       "      <td>...</td>\n",
       "      <td>...</td>\n",
       "      <td>...</td>\n",
       "      <td>...</td>\n",
       "      <td>...</td>\n",
       "      <td>...</td>\n",
       "      <td>...</td>\n",
       "      <td>...</td>\n",
       "    </tr>\n",
       "    <tr>\n",
       "      <td>2927765</td>\n",
       "      <td>190</td>\n",
       "      <td>11</td>\n",
       "      <td>3</td>\n",
       "      <td>10</td>\n",
       "      <td>1</td>\n",
       "      <td>0</td>\n",
       "      <td>0</td>\n",
       "    </tr>\n",
       "    <tr>\n",
       "      <td>2927766</td>\n",
       "      <td>190</td>\n",
       "      <td>12</td>\n",
       "      <td>0</td>\n",
       "      <td>11</td>\n",
       "      <td>1</td>\n",
       "      <td>0</td>\n",
       "      <td>0</td>\n",
       "    </tr>\n",
       "    <tr>\n",
       "      <td>2927767</td>\n",
       "      <td>190</td>\n",
       "      <td>12</td>\n",
       "      <td>0</td>\n",
       "      <td>8</td>\n",
       "      <td>0</td>\n",
       "      <td>0</td>\n",
       "      <td>1</td>\n",
       "    </tr>\n",
       "    <tr>\n",
       "      <td>2927768</td>\n",
       "      <td>190</td>\n",
       "      <td>12</td>\n",
       "      <td>0</td>\n",
       "      <td>10</td>\n",
       "      <td>1</td>\n",
       "      <td>0</td>\n",
       "      <td>0</td>\n",
       "    </tr>\n",
       "    <tr>\n",
       "      <td>2927769</td>\n",
       "      <td>190</td>\n",
       "      <td>12</td>\n",
       "      <td>2</td>\n",
       "      <td>11</td>\n",
       "      <td>1</td>\n",
       "      <td>0</td>\n",
       "      <td>0</td>\n",
       "    </tr>\n",
       "  </tbody>\n",
       "</table>\n",
       "<p>2927770 rows × 7 columns</p>\n",
       "</div>"
      ],
      "text/plain": [
       "dataset2019 id_cuadra mes dia de la semana hora ocupacion  \\\n",
       "0                   0   1                2    9         1   \n",
       "1                   0   1                2    9         2   \n",
       "2                   0   1                2    9         3   \n",
       "3                   0   1                2    9         2   \n",
       "4                   0   1                2    9         1   \n",
       "...               ...  ..              ...  ...       ...   \n",
       "2927765           190  11                3   10         1   \n",
       "2927766           190  12                0   11         1   \n",
       "2927767           190  12                0    8         0   \n",
       "2927768           190  12                0   10         1   \n",
       "2927769           190  12                2   11         1   \n",
       "\n",
       "dataset2019 porcentaje ocupacion targets  \n",
       "0                              0       1  \n",
       "1                              0       1  \n",
       "2                              0       0  \n",
       "3                              0       0  \n",
       "4                              0       1  \n",
       "...                          ...     ...  \n",
       "2927765                        0       0  \n",
       "2927766                        0       0  \n",
       "2927767                        0       1  \n",
       "2927768                        0       0  \n",
       "2927769                        0       0  \n",
       "\n",
       "[2927770 rows x 7 columns]"
      ]
     },
     "execution_count": 61,
     "metadata": {},
     "output_type": "execute_result"
    }
   ],
   "source": [
    "inputs"
   ]
  },
  {
   "cell_type": "markdown",
   "metadata": {},
   "source": [
    "# Outliers!"
   ]
  },
  {
   "cell_type": "code",
   "execution_count": 22,
   "metadata": {
    "ExecuteTime": {
     "end_time": "2020-03-25T15:34:35.950259Z",
     "start_time": "2020-03-25T15:34:35.946244Z"
    }
   },
   "outputs": [],
   "source": [
    "with_outliers = False"
   ]
  },
  {
   "cell_type": "markdown",
   "metadata": {},
   "source": [
    "## Naive bayes classifier"
   ]
  },
  {
   "cell_type": "markdown",
   "metadata": {},
   "source": [
    "###  Modelo separado por calle y hora!"
   ]
  },
  {
   "cell_type": "code",
   "execution_count": 23,
   "metadata": {
    "ExecuteTime": {
     "end_time": "2020-03-25T15:38:59.479070Z",
     "start_time": "2020-03-25T15:34:37.144478Z"
    }
   },
   "outputs": [
    {
     "data": {
      "image/png": "[encoded data removed]",
      "text/plain": [
       "<Figure size 1080x576 with 1 Axes>"
      ]
     },
     "metadata": {
      "needs_background": "light"
     },
     "output_type": "display_data"
    }
   ],
   "source": [
    "total_hours_in_a_day = 24\n",
    "\n",
    "acc = np.ndarray((len(dataset2019['id_cuadra'].drop_duplicates())+1, total_hours_in_a_day))\n",
    "acc.fill(-1)\n",
    "\n",
    "full_conf_mat =  np.zeros((total_hours_in_a_day, 2, 2))\n",
    "index = 0\n",
    "\n",
    "for i in dataset2019['id_cuadra'].drop_duplicates():\n",
    "    naive_bayes_data_cuadra = dataset2019.loc[dataset2019['id_cuadra'] == i].copy()\n",
    "    index+=1\n",
    "    clear_output()\n",
    "    print('Indice:', index)\n",
    "\n",
    "    for h in range(total_hours_in_a_day):\n",
    "\n",
    "        naive_bayes_data_hora = naive_bayes_data_cuadra.loc[naive_bayes_data_cuadra['hora'] == h]\n",
    "                \n",
    "        if len(naive_bayes_data_hora) > 10: #10 datos minimo para entrenar\n",
    "            if not with_outliers:\n",
    "                max_without_outliers = naive_bayes_data_hora.boxplot(column='ocupacion', return_type='dict')['whiskers'][1].get_ydata()[1]\n",
    "                naive_bayes_data_hora = naive_bayes_data_hora.loc[naive_bayes_data_hora['ocupacion'] <= max_without_outliers]            \n",
    "            \n",
    "            data = naive_bayes_data_hora[['mes', 'dia de la semana', 'ocupacion', 'porcentaje ocupacion', 'operacion']]\n",
    "            #x = data[['mes', 'dia de la semana', 'porcentaje ocupacion']].to_numpy()[:-1]\n",
    "            x = data[['porcentaje ocupacion']].to_numpy()[:-1]\n",
    "            y = data['operacion'].to_numpy()[1:]\n",
    "\n",
    "            if (sum(y == 0) > 2) & (sum(y == 1) > 2):\n",
    "                x_train, x_test, y_train, y_test = train_test_split(x, y, test_size=0.3, shuffle=True, stratify=y)\n",
    "\n",
    "                model = MultinomialNB()\n",
    "\n",
    "                model.fit(x_train, y_train)\n",
    "\n",
    "                predicts = model.predict(x_test)\n",
    "\n",
    "                acc[index][h] = balanced_accuracy_score(y_test, predicts)\n",
    "\n",
    "                full_conf_mat[h] += confusion_matrix(y_test, predicts)\n",
    "\n",
    "clear_output()\n",
    "acc = acc[1:]"
   ]
  },
  {
   "cell_type": "code",
   "execution_count": 24,
   "metadata": {
    "ExecuteTime": {
     "end_time": "2020-03-25T15:38:59.487054Z",
     "start_time": "2020-03-25T15:38:59.481064Z"
    }
   },
   "outputs": [
    {
     "data": {
      "text/plain": [
       "array([-1. , -1. , -1. , -1. , -1. , -1. ,  0.5,  0.5,  0.5,  0.5,  0.5,\n",
       "        0.5,  0.5,  0.5,  0.5,  0.5,  0.5,  0.5,  0.5,  0.5,  0.5,  0.5,\n",
       "        0.5,  0.5])"
      ]
     },
     "execution_count": 24,
     "metadata": {},
     "output_type": "execute_result"
    }
   ],
   "source": [
    "acc[0]"
   ]
  },
  {
   "cell_type": "code",
   "execution_count": 25,
   "metadata": {
    "ExecuteTime": {
     "end_time": "2020-03-25T15:38:59.500012Z",
     "start_time": "2020-03-25T15:38:59.490039Z"
    }
   },
   "outputs": [],
   "source": [
    "acc_per_hour = np.zeros(total_hours_in_a_day)\n",
    "zeros_per_hour = np.zeros(total_hours_in_a_day)\n",
    "for i in range(total_hours_in_a_day):\n",
    "    acc_in_i = np.array([x[i] for x in acc])\n",
    "    zeros = acc_in_i[acc_in_i == 0.]\n",
    "    acc_in_i = acc_in_i[acc_in_i > 0]\n",
    "    if len(acc_in_i) > 0:\n",
    "        acc_per_hour[i] = sum(acc_in_i) / len(acc_in_i)\n",
    "    else:\n",
    "        acc_per_hour[i] = -1\n",
    "    zeros_per_hour[i] = len(zeros)"
   ]
  },
  {
   "cell_type": "markdown",
   "metadata": {},
   "source": [
    "# AHORA VER QUE HORARIOS SON LOS DE PEOR PREDICCION"
   ]
  },
  {
   "cell_type": "markdown",
   "metadata": {},
   "source": [
    "### Los zeros representan cuando el predictor erro copletamente con alguna de las salidas (ya que ambas son igual de importantes)\n",
    "#### El -1 esta para saber cuando la probabilidad de acertar es 0 (es uno por calle a lo sumo)\n",
    "#### Recordar que utilice G-Mean, por lo que los valores de la prediccion no son accuracy, sino que porcentajes de los valores verdades son verdaderos y que porcentaje de los qeu predigo falsos son falsos.\n",
    "\n",
    "## Esto pasaba en G-mean (cuando ambas salidas son igual de importantes) y en F1 (Cuando las positivas son mas importantes). Ahora que uso balanced accuracy no pasa esto "
   ]
  },
  {
   "cell_type": "code",
   "execution_count": 26,
   "metadata": {
    "ExecuteTime": {
     "end_time": "2020-03-25T15:38:59.528965Z",
     "start_time": "2020-03-25T15:38:59.504999Z"
    }
   },
   "outputs": [
    {
     "data": {
      "text/html": [
       "<div>\n",
       "<style scoped>\n",
       "    .dataframe tbody tr th:only-of-type {\n",
       "        vertical-align: middle;\n",
       "    }\n",
       "\n",
       "    .dataframe tbody tr th {\n",
       "        vertical-align: top;\n",
       "    }\n",
       "\n",
       "    .dataframe thead th {\n",
       "        text-align: right;\n",
       "    }\n",
       "</style>\n",
       "<table border=\"1\" class=\"dataframe\">\n",
       "  <thead>\n",
       "    <tr style=\"text-align: right;\">\n",
       "      <th></th>\n",
       "      <th>p</th>\n",
       "      <th>zeros</th>\n",
       "    </tr>\n",
       "  </thead>\n",
       "  <tbody>\n",
       "    <tr>\n",
       "      <td>0</td>\n",
       "      <td>0.5</td>\n",
       "      <td>0.0</td>\n",
       "    </tr>\n",
       "    <tr>\n",
       "      <td>1</td>\n",
       "      <td>0.5</td>\n",
       "      <td>0.0</td>\n",
       "    </tr>\n",
       "    <tr>\n",
       "      <td>2</td>\n",
       "      <td>0.5</td>\n",
       "      <td>0.0</td>\n",
       "    </tr>\n",
       "    <tr>\n",
       "      <td>3</td>\n",
       "      <td>0.5</td>\n",
       "      <td>0.0</td>\n",
       "    </tr>\n",
       "    <tr>\n",
       "      <td>4</td>\n",
       "      <td>0.5</td>\n",
       "      <td>0.0</td>\n",
       "    </tr>\n",
       "    <tr>\n",
       "      <td>5</td>\n",
       "      <td>0.5</td>\n",
       "      <td>0.0</td>\n",
       "    </tr>\n",
       "    <tr>\n",
       "      <td>6</td>\n",
       "      <td>0.5</td>\n",
       "      <td>0.0</td>\n",
       "    </tr>\n",
       "    <tr>\n",
       "      <td>7</td>\n",
       "      <td>0.5</td>\n",
       "      <td>0.0</td>\n",
       "    </tr>\n",
       "    <tr>\n",
       "      <td>8</td>\n",
       "      <td>0.5</td>\n",
       "      <td>0.0</td>\n",
       "    </tr>\n",
       "    <tr>\n",
       "      <td>9</td>\n",
       "      <td>0.5</td>\n",
       "      <td>0.0</td>\n",
       "    </tr>\n",
       "    <tr>\n",
       "      <td>10</td>\n",
       "      <td>0.5</td>\n",
       "      <td>0.0</td>\n",
       "    </tr>\n",
       "    <tr>\n",
       "      <td>11</td>\n",
       "      <td>0.5</td>\n",
       "      <td>0.0</td>\n",
       "    </tr>\n",
       "    <tr>\n",
       "      <td>12</td>\n",
       "      <td>0.5</td>\n",
       "      <td>0.0</td>\n",
       "    </tr>\n",
       "    <tr>\n",
       "      <td>13</td>\n",
       "      <td>0.5</td>\n",
       "      <td>0.0</td>\n",
       "    </tr>\n",
       "    <tr>\n",
       "      <td>14</td>\n",
       "      <td>0.5</td>\n",
       "      <td>0.0</td>\n",
       "    </tr>\n",
       "    <tr>\n",
       "      <td>15</td>\n",
       "      <td>0.5</td>\n",
       "      <td>0.0</td>\n",
       "    </tr>\n",
       "    <tr>\n",
       "      <td>16</td>\n",
       "      <td>0.5</td>\n",
       "      <td>0.0</td>\n",
       "    </tr>\n",
       "    <tr>\n",
       "      <td>17</td>\n",
       "      <td>0.5</td>\n",
       "      <td>0.0</td>\n",
       "    </tr>\n",
       "    <tr>\n",
       "      <td>18</td>\n",
       "      <td>0.5</td>\n",
       "      <td>0.0</td>\n",
       "    </tr>\n",
       "    <tr>\n",
       "      <td>19</td>\n",
       "      <td>0.5</td>\n",
       "      <td>0.0</td>\n",
       "    </tr>\n",
       "    <tr>\n",
       "      <td>20</td>\n",
       "      <td>0.5</td>\n",
       "      <td>0.0</td>\n",
       "    </tr>\n",
       "    <tr>\n",
       "      <td>21</td>\n",
       "      <td>0.5</td>\n",
       "      <td>0.0</td>\n",
       "    </tr>\n",
       "    <tr>\n",
       "      <td>22</td>\n",
       "      <td>0.5</td>\n",
       "      <td>0.0</td>\n",
       "    </tr>\n",
       "    <tr>\n",
       "      <td>23</td>\n",
       "      <td>0.5</td>\n",
       "      <td>0.0</td>\n",
       "    </tr>\n",
       "  </tbody>\n",
       "</table>\n",
       "</div>"
      ],
      "text/plain": [
       "      p  zeros\n",
       "0   0.5    0.0\n",
       "1   0.5    0.0\n",
       "2   0.5    0.0\n",
       "3   0.5    0.0\n",
       "4   0.5    0.0\n",
       "5   0.5    0.0\n",
       "6   0.5    0.0\n",
       "7   0.5    0.0\n",
       "8   0.5    0.0\n",
       "9   0.5    0.0\n",
       "10  0.5    0.0\n",
       "11  0.5    0.0\n",
       "12  0.5    0.0\n",
       "13  0.5    0.0\n",
       "14  0.5    0.0\n",
       "15  0.5    0.0\n",
       "16  0.5    0.0\n",
       "17  0.5    0.0\n",
       "18  0.5    0.0\n",
       "19  0.5    0.0\n",
       "20  0.5    0.0\n",
       "21  0.5    0.0\n",
       "22  0.5    0.0\n",
       "23  0.5    0.0"
      ]
     },
     "execution_count": 26,
     "metadata": {},
     "output_type": "execute_result"
    }
   ],
   "source": [
    "acc_prob = pd.DataFrame([acc_per_hour, zeros_per_hour]).T.rename(columns={0: 'p', 1:'zeros'})\n",
    "acc_prob"
   ]
  },
  {
   "cell_type": "code",
   "execution_count": 27,
   "metadata": {
    "ExecuteTime": {
     "end_time": "2020-03-25T15:38:59.540908Z",
     "start_time": "2020-03-25T15:38:59.529967Z"
    }
   },
   "outputs": [
    {
     "name": "stdout",
     "output_type": "stream",
     "text": [
      "Para la hora: 10\n",
      "\n",
      "p        0.5\n",
      "zeros    0.0\n",
      "Name: 10, dtype: float64\n",
      "[[1.1000e+01 4.5501e+04]\n",
      " [9.0000e+00 6.9984e+04]]\n",
      "\n",
      "\n",
      "Total accuracy:   0.5\n"
     ]
    }
   ],
   "source": [
    "hour = 10\n",
    "print('Para la hora:', hour)\n",
    "print('')\n",
    "print(acc_prob.iloc[hour])\n",
    "print(full_conf_mat[hour])\n",
    "print('')\n",
    "print('')\n",
    "without_none = acc_prob.loc[acc_prob['p'] > -1, 'p'].reset_index(drop=True)\n",
    "print('Total accuracy:  ', sum(without_none) / len(without_none))"
   ]
  },
  {
   "cell_type": "code",
   "execution_count": 28,
   "metadata": {
    "ExecuteTime": {
     "end_time": "2020-03-25T15:38:59.886638Z",
     "start_time": "2020-03-25T15:38:59.543895Z"
    }
   },
   "outputs": [
    {
     "data": {
      "image/png": "[encoded data removed]",
      "text/plain": [
       "<Figure size 1080x576 with 1 Axes>"
      ]
     },
     "metadata": {
      "needs_background": "light"
     },
     "output_type": "display_data"
    }
   ],
   "source": [
    "height = [x for x in range(24)]\n",
    "total_prob_plot = [y for x in acc_acc for y in x]\n",
    "plt.bar(height, acc_per_hour)\n",
    "plt.rcParams['figure.figsize'] = (15,8)\n",
    "\n",
    "plt.yticks([x for x in np.arange(0, 1, 0.1)])\n",
    "plt.xticks(height)\n",
    "plt.ylim(0, 1)\n",
    "plt.grid(axis='y')"
   ]
  },
  {
   "cell_type": "markdown",
   "metadata": {},
   "source": [
    "## Desbalance del dataset de arriba..."
   ]
  },
  {
   "cell_type": "code",
   "execution_count": 29,
   "metadata": {
    "ExecuteTime": {
     "end_time": "2020-03-25T15:39:02.140139Z",
     "start_time": "2020-03-25T15:38:59.888594Z"
    }
   },
   "outputs": [
    {
     "data": {
      "text/html": [
       "<div>\n",
       "<style scoped>\n",
       "    .dataframe tbody tr th:only-of-type {\n",
       "        vertical-align: middle;\n",
       "    }\n",
       "\n",
       "    .dataframe tbody tr th {\n",
       "        vertical-align: top;\n",
       "    }\n",
       "\n",
       "    .dataframe thead th {\n",
       "        text-align: right;\n",
       "    }\n",
       "</style>\n",
       "<table border=\"1\" class=\"dataframe\">\n",
       "  <thead>\n",
       "    <tr style=\"text-align: right;\">\n",
       "      <th></th>\n",
       "      <th>hora</th>\n",
       "      <th>entradas</th>\n",
       "      <th>salidas</th>\n",
       "      <th>dif</th>\n",
       "    </tr>\n",
       "  </thead>\n",
       "  <tbody>\n",
       "    <tr>\n",
       "      <td>0</td>\n",
       "      <td>0</td>\n",
       "      <td>94</td>\n",
       "      <td>455</td>\n",
       "      <td>-361</td>\n",
       "    </tr>\n",
       "    <tr>\n",
       "      <td>0</td>\n",
       "      <td>1</td>\n",
       "      <td>66</td>\n",
       "      <td>241</td>\n",
       "      <td>-175</td>\n",
       "    </tr>\n",
       "    <tr>\n",
       "      <td>0</td>\n",
       "      <td>2</td>\n",
       "      <td>31</td>\n",
       "      <td>98</td>\n",
       "      <td>-67</td>\n",
       "    </tr>\n",
       "    <tr>\n",
       "      <td>0</td>\n",
       "      <td>3</td>\n",
       "      <td>32</td>\n",
       "      <td>66</td>\n",
       "      <td>-34</td>\n",
       "    </tr>\n",
       "    <tr>\n",
       "      <td>0</td>\n",
       "      <td>4</td>\n",
       "      <td>40</td>\n",
       "      <td>39</td>\n",
       "      <td>1</td>\n",
       "    </tr>\n",
       "    <tr>\n",
       "      <td>0</td>\n",
       "      <td>5</td>\n",
       "      <td>94</td>\n",
       "      <td>70</td>\n",
       "      <td>24</td>\n",
       "    </tr>\n",
       "    <tr>\n",
       "      <td>0</td>\n",
       "      <td>6</td>\n",
       "      <td>246</td>\n",
       "      <td>170</td>\n",
       "      <td>76</td>\n",
       "    </tr>\n",
       "    <tr>\n",
       "      <td>0</td>\n",
       "      <td>7</td>\n",
       "      <td>3312</td>\n",
       "      <td>1049</td>\n",
       "      <td>2263</td>\n",
       "    </tr>\n",
       "    <tr>\n",
       "      <td>0</td>\n",
       "      <td>8</td>\n",
       "      <td>15138</td>\n",
       "      <td>5023</td>\n",
       "      <td>10115</td>\n",
       "    </tr>\n",
       "    <tr>\n",
       "      <td>0</td>\n",
       "      <td>9</td>\n",
       "      <td>92773</td>\n",
       "      <td>26870</td>\n",
       "      <td>65903</td>\n",
       "    </tr>\n",
       "    <tr>\n",
       "      <td>0</td>\n",
       "      <td>10</td>\n",
       "      <td>236151</td>\n",
       "      <td>152819</td>\n",
       "      <td>83332</td>\n",
       "    </tr>\n",
       "    <tr>\n",
       "      <td>0</td>\n",
       "      <td>11</td>\n",
       "      <td>208900</td>\n",
       "      <td>218938</td>\n",
       "      <td>-10038</td>\n",
       "    </tr>\n",
       "    <tr>\n",
       "      <td>0</td>\n",
       "      <td>12</td>\n",
       "      <td>166024</td>\n",
       "      <td>210347</td>\n",
       "      <td>-44323</td>\n",
       "    </tr>\n",
       "    <tr>\n",
       "      <td>0</td>\n",
       "      <td>13</td>\n",
       "      <td>129965</td>\n",
       "      <td>152174</td>\n",
       "      <td>-22209</td>\n",
       "    </tr>\n",
       "    <tr>\n",
       "      <td>0</td>\n",
       "      <td>14</td>\n",
       "      <td>101494</td>\n",
       "      <td>115689</td>\n",
       "      <td>-14195</td>\n",
       "    </tr>\n",
       "    <tr>\n",
       "      <td>0</td>\n",
       "      <td>15</td>\n",
       "      <td>70474</td>\n",
       "      <td>84627</td>\n",
       "      <td>-14153</td>\n",
       "    </tr>\n",
       "    <tr>\n",
       "      <td>0</td>\n",
       "      <td>16</td>\n",
       "      <td>104092</td>\n",
       "      <td>84944</td>\n",
       "      <td>19148</td>\n",
       "    </tr>\n",
       "    <tr>\n",
       "      <td>0</td>\n",
       "      <td>17</td>\n",
       "      <td>134730</td>\n",
       "      <td>119305</td>\n",
       "      <td>15425</td>\n",
       "    </tr>\n",
       "    <tr>\n",
       "      <td>0</td>\n",
       "      <td>18</td>\n",
       "      <td>132994</td>\n",
       "      <td>119944</td>\n",
       "      <td>13050</td>\n",
       "    </tr>\n",
       "    <tr>\n",
       "      <td>0</td>\n",
       "      <td>19</td>\n",
       "      <td>77106</td>\n",
       "      <td>113625</td>\n",
       "      <td>-36519</td>\n",
       "    </tr>\n",
       "    <tr>\n",
       "      <td>0</td>\n",
       "      <td>20</td>\n",
       "      <td>4567</td>\n",
       "      <td>56495</td>\n",
       "      <td>-51928</td>\n",
       "    </tr>\n",
       "    <tr>\n",
       "      <td>0</td>\n",
       "      <td>21</td>\n",
       "      <td>847</td>\n",
       "      <td>11608</td>\n",
       "      <td>-10761</td>\n",
       "    </tr>\n",
       "    <tr>\n",
       "      <td>0</td>\n",
       "      <td>22</td>\n",
       "      <td>273</td>\n",
       "      <td>2577</td>\n",
       "      <td>-2304</td>\n",
       "    </tr>\n",
       "    <tr>\n",
       "      <td>0</td>\n",
       "      <td>23</td>\n",
       "      <td>110</td>\n",
       "      <td>816</td>\n",
       "      <td>-706</td>\n",
       "    </tr>\n",
       "  </tbody>\n",
       "</table>\n",
       "</div>"
      ],
      "text/plain": [
       "  hora entradas salidas     dif\n",
       "0    0       94     455    -361\n",
       "0    1       66     241    -175\n",
       "0    2       31      98     -67\n",
       "0    3       32      66     -34\n",
       "0    4       40      39       1\n",
       "0    5       94      70      24\n",
       "0    6      246     170      76\n",
       "0    7     3312    1049    2263\n",
       "0    8    15138    5023   10115\n",
       "0    9    92773   26870   65903\n",
       "0   10   236151  152819   83332\n",
       "0   11   208900  218938  -10038\n",
       "0   12   166024  210347  -44323\n",
       "0   13   129965  152174  -22209\n",
       "0   14   101494  115689  -14195\n",
       "0   15    70474   84627  -14153\n",
       "0   16   104092   84944   19148\n",
       "0   17   134730  119305   15425\n",
       "0   18   132994  119944   13050\n",
       "0   19    77106  113625  -36519\n",
       "0   20     4567   56495  -51928\n",
       "0   21      847   11608  -10761\n",
       "0   22      273    2577   -2304\n",
       "0   23      110     816    -706"
      ]
     },
     "execution_count": 29,
     "metadata": {},
     "output_type": "execute_result"
    }
   ],
   "source": [
    "balanced_classes_per_hour = pd.DataFrame(columns=['hora','entradas','salidas','dif'])\n",
    "for i in dataset2019['hora'].drop_duplicates():\n",
    "    d = dataset2019.loc[dataset2019['hora'] == i]\n",
    "    salidas = d.loc[d['operacion'] == 0].count()\n",
    "    entradas = d.loc[d['operacion'] == 1].count()\n",
    "    balanced_classes_per_hour = balanced_classes_per_hour.append(pd.DataFrame([[i, entradas['operacion'], salidas['operacion'], (entradas['operacion']-salidas['operacion'])]], columns=['hora', 'entradas', 'salidas', 'dif']))\n",
    "\n",
    "balanced_classes_per_hour.sort_values(by='hora')"
   ]
  },
  {
   "cell_type": "markdown",
   "metadata": {},
   "source": [
    "# Modelo separado por calle!"
   ]
  },
  {
   "cell_type": "code",
   "execution_count": 30,
   "metadata": {
    "ExecuteTime": {
     "end_time": "2020-03-25T15:39:33.033789Z",
     "start_time": "2020-03-25T15:39:02.143037Z"
    }
   },
   "outputs": [
    {
     "data": {
      "image/png": "[encoded data removed]",
      "text/plain": [
       "<Figure size 1080x576 with 1 Axes>"
      ]
     },
     "metadata": {
      "needs_background": "light"
     },
     "output_type": "display_data"
    }
   ],
   "source": [
    "total_correct_pred = 0\n",
    "full_data_len = 0\n",
    "full_conf_mat =  np.zeros((1, 2, 2))\n",
    "index = 0\n",
    "\n",
    "for i in dataset2019['id_cuadra'].drop_duplicates():\n",
    "    \n",
    "    naive_bayes_data_cuadra = dataset2019.loc[dataset2019['id_cuadra'] == i].copy()\n",
    "    clear_output()\n",
    "\n",
    "    index+=1\n",
    "    display('Indice:', index)\n",
    "                \n",
    "    if len(naive_bayes_data_cuadra) > 10: #10 datos minimo para entrenar\n",
    "        if not with_outliers:\n",
    "            max_without_outliers = naive_bayes_data_cuadra.boxplot(column='ocupacion', return_type='dict')['whiskers'][1].get_ydata()[1]\n",
    "            naive_bayes_data_cuadra = naive_bayes_data_cuadra.loc[naive_bayes_data_cuadra['ocupacion'] <= max_without_outliers]\n",
    "\n",
    "        data = naive_bayes_data_cuadra[['mes', 'dia de la semana', 'ocupacion', 'operacion', 'porcentaje ocupacion']]\n",
    "        #x = data[['mes', 'dia de la semana', 'porcentaje ocupacion']].to_numpy()[:-1]\n",
    "        x = data[['porcentaje ocupacion']].to_numpy()[:-1]\n",
    "        y = data['operacion'].to_numpy()[1:]\n",
    "\n",
    "        if (sum(y == 0) > 2) & (sum(y == 1) > 2):\n",
    "\n",
    "            x_train, x_test, y_train, y_test = train_test_split(x, y, test_size=0.3, shuffle=True, stratify=y)\n",
    "\n",
    "            model = MultinomialNB()\n",
    "\n",
    "            model.fit(x_train, y_train)\n",
    "\n",
    "            predicts = model.predict(x_test)\n",
    "\n",
    "            correct_values = predicts == y_test\n",
    "            correct_values = sum(correct_values)\n",
    "\n",
    "            full_data_len += len(predicts)\n",
    "\n",
    "            total_correct_pred += correct_values\n",
    "\n",
    "            full_conf_mat += confusion_matrix(y_test, predicts)\n",
    "\n",
    "clear_output()"
   ]
  },
  {
   "cell_type": "code",
   "execution_count": 31,
   "metadata": {
    "ExecuteTime": {
     "end_time": "2020-03-25T15:39:33.039776Z",
     "start_time": "2020-03-25T15:39:33.035787Z"
    }
   },
   "outputs": [],
   "source": [
    "total_prob = (total_correct_pred / full_data_len)\n",
    "full_conf_mat = (full_conf_mat)"
   ]
  },
  {
   "cell_type": "code",
   "execution_count": 32,
   "metadata": {
    "ExecuteTime": {
     "end_time": "2020-03-25T15:39:33.048752Z",
     "start_time": "2020-03-25T15:39:33.041771Z"
    }
   },
   "outputs": [
    {
     "name": "stdout",
     "output_type": "stream",
     "text": [
      "Accuracy:         0.5105624898908554\n",
      "Confusion matrix:\n",
      "[[[288786. 151082.]\n",
      "  [278604. 159446.]]]\n",
      "\n",
      "Len(data): 877918\n"
     ]
    }
   ],
   "source": [
    "print('Accuracy:        ', total_prob)\n",
    "print('Confusion matrix:')\n",
    "print(full_conf_mat)\n",
    "print('')\n",
    "print('Len(data):', full_data_len)"
   ]
  },
  {
   "cell_type": "markdown",
   "metadata": {},
   "source": [
    "## Modelo sin separar!"
   ]
  },
  {
   "cell_type": "code",
   "execution_count": 33,
   "metadata": {
    "ExecuteTime": {
     "end_time": "2020-03-25T15:39:57.836196Z",
     "start_time": "2020-03-25T15:39:33.051745Z"
    }
   },
   "outputs": [
    {
     "data": {
      "image/png": "[encoded data removed]",
      "text/plain": [
       "<Figure size 1080x576 with 1 Axes>"
      ]
     },
     "metadata": {
      "needs_background": "light"
     },
     "output_type": "display_data"
    }
   ],
   "source": [
    "total_correct_pred = 0\n",
    "full_data_len = 0\n",
    "full_conf_mat =  0\n",
    "index = 0\n",
    "\n",
    "naive_bayes_data = dataset2019.copy()\n",
    "if not with_outliers:\n",
    "\n",
    "    max_without_outliers = naive_bayes_data.boxplot(column='ocupacion', return_type='dict')['whiskers'][1].get_ydata()[1]\n",
    "    naive_bayes_data = naive_bayes_data.loc[naive_bayes_data['ocupacion'] <= max_without_outliers]\n",
    "\n",
    "data = naive_bayes_data[['mes', 'dia de la semana', 'ocupacion', 'porcentaje ocupacion', 'operacion']]\n",
    "#x = data[['mes', 'dia de la semana', 'porcentaje ocupacion']].to_numpy()[:-1]\n",
    "x = data[['porcentaje ocupacion']].to_numpy()[:-1]\n",
    "y = data['operacion'].to_numpy()[1:]\n",
    "\n",
    "if (sum(y == 0) > 2) & (sum(y == 1) > 2):\n",
    "\n",
    "    x_train, x_test, y_train, y_test = train_test_split(x, y, test_size=0.3, shuffle=True, stratify=y)\n",
    "\n",
    "    model = MultinomialNB()\n",
    "\n",
    "    model.fit(x_train, y_train)\n",
    "\n",
    "    predicts = model.predict(x_test)\n",
    "\n",
    "    correct_values = predicts == y_test\n",
    "    correct_values = sum(correct_values)\n",
    "\n",
    "    full_data_len = len(predicts)\n",
    "\n",
    "    total_correct_pred = correct_values\n",
    "\n",
    "    full_conf_mat = confusion_matrix(y_test, predicts)\n",
    "\n",
    "clear_output()"
   ]
  },
  {
   "cell_type": "code",
   "execution_count": 34,
   "metadata": {
    "ExecuteTime": {
     "end_time": "2020-03-25T15:39:57.842216Z",
     "start_time": "2020-03-25T15:39:57.838191Z"
    }
   },
   "outputs": [],
   "source": [
    "total_prob = (total_correct_pred / full_data_len)\n",
    "full_conf_mat = (full_conf_mat)"
   ]
  },
  {
   "cell_type": "code",
   "execution_count": 35,
   "metadata": {
    "ExecuteTime": {
     "end_time": "2020-03-25T15:39:57.851156Z",
     "start_time": "2020-03-25T15:39:57.844175Z"
    }
   },
   "outputs": [
    {
     "name": "stdout",
     "output_type": "stream",
     "text": [
      "Accuracy:         0.5011549684370041\n",
      "Confusion matrix:\n",
      "[[435214      0]\n",
      " [433208      0]]\n",
      "\n",
      "Len(data): 868422\n"
     ]
    }
   ],
   "source": [
    "print('Accuracy:        ', total_prob)\n",
    "print('Confusion matrix:')\n",
    "print(full_conf_mat)\n",
    "print('')\n",
    "print('Len(data):', full_data_len)"
   ]
  },
  {
   "cell_type": "markdown",
   "metadata": {},
   "source": [
    "."
   ]
  },
  {
   "cell_type": "markdown",
   "metadata": {},
   "source": [
    "."
   ]
  },
  {
   "cell_type": "markdown",
   "metadata": {},
   "source": [
    "# Por que sabemos que no posee distribucion gaussiana y analisis de distribucion de los datos"
   ]
  },
  {
   "cell_type": "code",
   "execution_count": 50,
   "metadata": {
    "ExecuteTime": {
     "end_time": "2020-03-24T14:48:11.832900Z",
     "start_time": "2020-03-24T14:48:11.503783Z"
    }
   },
   "outputs": [],
   "source": [
    "naive_bayes_data = dataset2019.loc[dataset2019['direccion'] == 'Sarmiento 755'].reset_index(drop=True)"
   ]
  },
  {
   "cell_type": "code",
   "execution_count": 51,
   "metadata": {
    "ExecuteTime": {
     "end_time": "2020-03-24T14:48:11.988486Z",
     "start_time": "2020-03-24T14:48:11.833898Z"
    }
   },
   "outputs": [
    {
     "data": {
      "text/plain": [
       "dict_keys(['whiskers', 'caps', 'boxes', 'medians', 'fliers', 'means'])"
      ]
     },
     "execution_count": 51,
     "metadata": {},
     "output_type": "execute_result"
    },
    {
     "data": {
      "image/png": "[encoded data removed]",
      "text/plain": [
       "<Figure size 1080x576 with 1 Axes>"
      ]
     },
     "metadata": {
      "needs_background": "light"
     },
     "output_type": "display_data"
    }
   ],
   "source": [
    "bp = plt.boxplot(naive_bayes_data['ocupacion'])\n",
    "bp.keys()"
   ]
  },
  {
   "cell_type": "code",
   "execution_count": 52,
   "metadata": {
    "ExecuteTime": {
     "end_time": "2020-03-24T14:48:11.995467Z",
     "start_time": "2020-03-24T14:48:11.990480Z"
    }
   },
   "outputs": [
    {
     "data": {
      "text/plain": [
       "34.0"
      ]
     },
     "execution_count": 52,
     "metadata": {},
     "output_type": "execute_result"
    }
   ],
   "source": [
    "max_without_outliers = bp['whiskers'][1].get_ydata()[1]\n",
    "max_without_outliers"
   ]
  },
  {
   "cell_type": "code",
   "execution_count": 53,
   "metadata": {
    "ExecuteTime": {
     "end_time": "2020-03-24T14:48:12.028380Z",
     "start_time": "2020-03-24T14:48:11.997461Z"
    }
   },
   "outputs": [
    {
     "data": {
      "text/html": [
       "<div>\n",
       "<style scoped>\n",
       "    .dataframe tbody tr th:only-of-type {\n",
       "        vertical-align: middle;\n",
       "    }\n",
       "\n",
       "    .dataframe tbody tr th {\n",
       "        vertical-align: top;\n",
       "    }\n",
       "\n",
       "    .dataframe thead th {\n",
       "        text-align: right;\n",
       "    }\n",
       "</style>\n",
       "<table border=\"1\" class=\"dataframe\">\n",
       "  <thead>\n",
       "    <tr style=\"text-align: right;\">\n",
       "      <th>dataset2019</th>\n",
       "      <th>id_cuadra</th>\n",
       "      <th>direccion</th>\n",
       "      <th>fecha</th>\n",
       "      <th>tiempo</th>\n",
       "      <th>operacion</th>\n",
       "      <th>ocupacion</th>\n",
       "      <th>latitud</th>\n",
       "      <th>longitud</th>\n",
       "      <th>dia de la semana</th>\n",
       "      <th>porcentaje ocupacion</th>\n",
       "      <th>mes</th>\n",
       "      <th>hora</th>\n",
       "    </tr>\n",
       "  </thead>\n",
       "  <tbody>\n",
       "    <tr>\n",
       "      <td>0</td>\n",
       "      <td>32</td>\n",
       "      <td>Sarmiento 755</td>\n",
       "      <td>2019-01-02</td>\n",
       "      <td>05:58:00</td>\n",
       "      <td>1</td>\n",
       "      <td>1</td>\n",
       "      <td>-37.323840</td>\n",
       "      <td>-59.134883</td>\n",
       "      <td>2</td>\n",
       "      <td>0</td>\n",
       "      <td>1</td>\n",
       "      <td>5</td>\n",
       "    </tr>\n",
       "    <tr>\n",
       "      <td>1</td>\n",
       "      <td>32</td>\n",
       "      <td>Sarmiento 755</td>\n",
       "      <td>2019-01-02</td>\n",
       "      <td>07:34:00</td>\n",
       "      <td>1</td>\n",
       "      <td>2</td>\n",
       "      <td>-37.323405</td>\n",
       "      <td>-59.135455</td>\n",
       "      <td>2</td>\n",
       "      <td>0</td>\n",
       "      <td>1</td>\n",
       "      <td>7</td>\n",
       "    </tr>\n",
       "    <tr>\n",
       "      <td>2</td>\n",
       "      <td>32</td>\n",
       "      <td>Sarmiento 755</td>\n",
       "      <td>2019-01-02</td>\n",
       "      <td>07:49:00</td>\n",
       "      <td>1</td>\n",
       "      <td>3</td>\n",
       "      <td>-37.323405</td>\n",
       "      <td>-59.135455</td>\n",
       "      <td>2</td>\n",
       "      <td>0</td>\n",
       "      <td>1</td>\n",
       "      <td>7</td>\n",
       "    </tr>\n",
       "    <tr>\n",
       "      <td>3</td>\n",
       "      <td>32</td>\n",
       "      <td>Sarmiento 755</td>\n",
       "      <td>2019-01-02</td>\n",
       "      <td>08:20:00</td>\n",
       "      <td>1</td>\n",
       "      <td>4</td>\n",
       "      <td>-37.323405</td>\n",
       "      <td>-59.135455</td>\n",
       "      <td>2</td>\n",
       "      <td>0</td>\n",
       "      <td>1</td>\n",
       "      <td>8</td>\n",
       "    </tr>\n",
       "    <tr>\n",
       "      <td>4</td>\n",
       "      <td>32</td>\n",
       "      <td>Sarmiento 755</td>\n",
       "      <td>2019-01-02</td>\n",
       "      <td>09:08:00</td>\n",
       "      <td>1</td>\n",
       "      <td>5</td>\n",
       "      <td>-37.323405</td>\n",
       "      <td>-59.135455</td>\n",
       "      <td>2</td>\n",
       "      <td>0</td>\n",
       "      <td>1</td>\n",
       "      <td>9</td>\n",
       "    </tr>\n",
       "    <tr>\n",
       "      <td>...</td>\n",
       "      <td>...</td>\n",
       "      <td>...</td>\n",
       "      <td>...</td>\n",
       "      <td>...</td>\n",
       "      <td>...</td>\n",
       "      <td>...</td>\n",
       "      <td>...</td>\n",
       "      <td>...</td>\n",
       "      <td>...</td>\n",
       "      <td>...</td>\n",
       "      <td>...</td>\n",
       "      <td>...</td>\n",
       "    </tr>\n",
       "    <tr>\n",
       "      <td>59089</td>\n",
       "      <td>32</td>\n",
       "      <td>Sarmiento 755</td>\n",
       "      <td>2019-12-31</td>\n",
       "      <td>14:35:00</td>\n",
       "      <td>1</td>\n",
       "      <td>8</td>\n",
       "      <td>-37.324370</td>\n",
       "      <td>-59.135207</td>\n",
       "      <td>1</td>\n",
       "      <td>1</td>\n",
       "      <td>12</td>\n",
       "      <td>14</td>\n",
       "    </tr>\n",
       "    <tr>\n",
       "      <td>59090</td>\n",
       "      <td>32</td>\n",
       "      <td>Sarmiento 755</td>\n",
       "      <td>2019-12-31</td>\n",
       "      <td>16:14:00</td>\n",
       "      <td>0</td>\n",
       "      <td>7</td>\n",
       "      <td>-37.324370</td>\n",
       "      <td>-59.135207</td>\n",
       "      <td>1</td>\n",
       "      <td>1</td>\n",
       "      <td>12</td>\n",
       "      <td>16</td>\n",
       "    </tr>\n",
       "    <tr>\n",
       "      <td>59091</td>\n",
       "      <td>32</td>\n",
       "      <td>Sarmiento 755</td>\n",
       "      <td>2019-12-31</td>\n",
       "      <td>16:34:00</td>\n",
       "      <td>0</td>\n",
       "      <td>6</td>\n",
       "      <td>-37.324370</td>\n",
       "      <td>-59.135207</td>\n",
       "      <td>1</td>\n",
       "      <td>1</td>\n",
       "      <td>12</td>\n",
       "      <td>16</td>\n",
       "    </tr>\n",
       "    <tr>\n",
       "      <td>59092</td>\n",
       "      <td>32</td>\n",
       "      <td>Sarmiento 755</td>\n",
       "      <td>2019-12-31</td>\n",
       "      <td>18:18:00</td>\n",
       "      <td>1</td>\n",
       "      <td>7</td>\n",
       "      <td>-37.324370</td>\n",
       "      <td>-59.135207</td>\n",
       "      <td>1</td>\n",
       "      <td>1</td>\n",
       "      <td>12</td>\n",
       "      <td>18</td>\n",
       "    </tr>\n",
       "    <tr>\n",
       "      <td>59093</td>\n",
       "      <td>32</td>\n",
       "      <td>Sarmiento 755</td>\n",
       "      <td>2019-12-31</td>\n",
       "      <td>19:00:00</td>\n",
       "      <td>0</td>\n",
       "      <td>6</td>\n",
       "      <td>-37.324370</td>\n",
       "      <td>-59.135207</td>\n",
       "      <td>1</td>\n",
       "      <td>1</td>\n",
       "      <td>12</td>\n",
       "      <td>19</td>\n",
       "    </tr>\n",
       "  </tbody>\n",
       "</table>\n",
       "<p>58320 rows × 12 columns</p>\n",
       "</div>"
      ],
      "text/plain": [
       "dataset2019  id_cuadra      direccion       fecha    tiempo  operacion  \\\n",
       "0                   32  Sarmiento 755  2019-01-02  05:58:00          1   \n",
       "1                   32  Sarmiento 755  2019-01-02  07:34:00          1   \n",
       "2                   32  Sarmiento 755  2019-01-02  07:49:00          1   \n",
       "3                   32  Sarmiento 755  2019-01-02  08:20:00          1   \n",
       "4                   32  Sarmiento 755  2019-01-02  09:08:00          1   \n",
       "...                ...            ...         ...       ...        ...   \n",
       "59089               32  Sarmiento 755  2019-12-31  14:35:00          1   \n",
       "59090               32  Sarmiento 755  2019-12-31  16:14:00          0   \n",
       "59091               32  Sarmiento 755  2019-12-31  16:34:00          0   \n",
       "59092               32  Sarmiento 755  2019-12-31  18:18:00          1   \n",
       "59093               32  Sarmiento 755  2019-12-31  19:00:00          0   \n",
       "\n",
       "dataset2019  ocupacion    latitud   longitud  dia de la semana  \\\n",
       "0                    1 -37.323840 -59.134883                 2   \n",
       "1                    2 -37.323405 -59.135455                 2   \n",
       "2                    3 -37.323405 -59.135455                 2   \n",
       "3                    4 -37.323405 -59.135455                 2   \n",
       "4                    5 -37.323405 -59.135455                 2   \n",
       "...                ...        ...        ...               ...   \n",
       "59089                8 -37.324370 -59.135207                 1   \n",
       "59090                7 -37.324370 -59.135207                 1   \n",
       "59091                6 -37.324370 -59.135207                 1   \n",
       "59092                7 -37.324370 -59.135207                 1   \n",
       "59093                6 -37.324370 -59.135207                 1   \n",
       "\n",
       "dataset2019  porcentaje ocupacion  mes  hora  \n",
       "0                               0    1     5  \n",
       "1                               0    1     7  \n",
       "2                               0    1     7  \n",
       "3                               0    1     8  \n",
       "4                               0    1     9  \n",
       "...                           ...  ...   ...  \n",
       "59089                           1   12    14  \n",
       "59090                           1   12    16  \n",
       "59091                           1   12    16  \n",
       "59092                           1   12    18  \n",
       "59093                           1   12    19  \n",
       "\n",
       "[58320 rows x 12 columns]"
      ]
     },
     "execution_count": 53,
     "metadata": {},
     "output_type": "execute_result"
    }
   ],
   "source": [
    "naive_bayes_data_without_outliers = naive_bayes_data.loc[naive_bayes_data['ocupacion'] <= max_without_outliers]\n",
    "naive_bayes_data_without_outliers"
   ]
  },
  {
   "cell_type": "code",
   "execution_count": 54,
   "metadata": {
    "ExecuteTime": {
     "end_time": "2020-03-24T14:48:12.347525Z",
     "start_time": "2020-03-24T14:48:12.030373Z"
    }
   },
   "outputs": [
    {
     "data": {
      "text/plain": [
       "16.880393948624224"
      ]
     },
     "metadata": {},
     "output_type": "display_data"
    },
    {
     "data": {
      "text/plain": [
       "7.379050440250609"
      ]
     },
     "metadata": {},
     "output_type": "display_data"
    },
    {
     "data": {
      "text/plain": [
       "<matplotlib.axes._subplots.AxesSubplot at 0x18e712df710>"
      ]
     },
     "execution_count": 54,
     "metadata": {},
     "output_type": "execute_result"
    },
    {
     "data": {
      "image/png": "[encoded data removed]",
      "text/plain": [
       "<Figure size 1080x576 with 1 Axes>"
      ]
     },
     "metadata": {
      "needs_background": "light"
     },
     "output_type": "display_data"
    }
   ],
   "source": [
    "#Distribucion con valores atípicos\n",
    "\n",
    "display(naive_bayes_data['ocupacion'].mean())\n",
    "display(naive_bayes_data['ocupacion'].std())\n",
    "sns.distplot(naive_bayes_data['ocupacion'])"
   ]
  },
  {
   "cell_type": "code",
   "execution_count": 55,
   "metadata": {
    "ExecuteTime": {
     "end_time": "2020-03-24T14:48:12.630768Z",
     "start_time": "2020-03-24T14:48:12.349521Z"
    }
   },
   "outputs": [
    {
     "data": {
      "text/plain": [
       "16.588734567901234"
      ]
     },
     "metadata": {},
     "output_type": "display_data"
    },
    {
     "data": {
      "text/plain": [
       "6.964715236899148"
      ]
     },
     "metadata": {},
     "output_type": "display_data"
    },
    {
     "data": {
      "text/plain": [
       "<matplotlib.axes._subplots.AxesSubplot at 0x18e4e859160>"
      ]
     },
     "execution_count": 55,
     "metadata": {},
     "output_type": "execute_result"
    },
    {
     "data": {
      "image/png": "[encoded data removed]",
      "text/plain": [
       "<Figure size 1080x576 with 1 Axes>"
      ]
     },
     "metadata": {
      "needs_background": "light"
     },
     "output_type": "display_data"
    }
   ],
   "source": [
    "#Distribucion sin valores atípicos\n",
    "display(naive_bayes_data_without_outliers['ocupacion'].mean())\n",
    "display(naive_bayes_data_without_outliers['ocupacion'].std())\n",
    "sns.distplot(naive_bayes_data_without_outliers['ocupacion'], bins=35)"
   ]
  },
  {
   "cell_type": "code",
   "execution_count": 56,
   "metadata": {
    "ExecuteTime": {
     "end_time": "2020-03-24T14:48:12.650714Z",
     "start_time": "2020-03-24T14:48:12.631765Z"
    }
   },
   "outputs": [
    {
     "data": {
      "text/html": [
       "<div>\n",
       "<style scoped>\n",
       "    .dataframe tbody tr th:only-of-type {\n",
       "        vertical-align: middle;\n",
       "    }\n",
       "\n",
       "    .dataframe tbody tr th {\n",
       "        vertical-align: top;\n",
       "    }\n",
       "\n",
       "    .dataframe thead th {\n",
       "        text-align: right;\n",
       "    }\n",
       "</style>\n",
       "<table border=\"1\" class=\"dataframe\">\n",
       "  <thead>\n",
       "    <tr style=\"text-align: right;\">\n",
       "      <th>dataset2019</th>\n",
       "      <th>id_cuadra</th>\n",
       "      <th>direccion</th>\n",
       "      <th>fecha</th>\n",
       "      <th>tiempo</th>\n",
       "      <th>operacion</th>\n",
       "      <th>ocupacion</th>\n",
       "      <th>latitud</th>\n",
       "      <th>longitud</th>\n",
       "      <th>dia de la semana</th>\n",
       "      <th>porcentaje ocupacion</th>\n",
       "      <th>mes</th>\n",
       "      <th>hora</th>\n",
       "    </tr>\n",
       "  </thead>\n",
       "  <tbody>\n",
       "    <tr>\n",
       "      <td>0</td>\n",
       "      <td>32</td>\n",
       "      <td>Sarmiento 755</td>\n",
       "      <td>2019-01-02</td>\n",
       "      <td>05:58:00</td>\n",
       "      <td>1</td>\n",
       "      <td>1</td>\n",
       "      <td>-37.323840</td>\n",
       "      <td>-59.134883</td>\n",
       "      <td>2</td>\n",
       "      <td>0</td>\n",
       "      <td>1</td>\n",
       "      <td>5</td>\n",
       "    </tr>\n",
       "    <tr>\n",
       "      <td>1</td>\n",
       "      <td>32</td>\n",
       "      <td>Sarmiento 755</td>\n",
       "      <td>2019-01-02</td>\n",
       "      <td>07:34:00</td>\n",
       "      <td>1</td>\n",
       "      <td>2</td>\n",
       "      <td>-37.323405</td>\n",
       "      <td>-59.135455</td>\n",
       "      <td>2</td>\n",
       "      <td>0</td>\n",
       "      <td>1</td>\n",
       "      <td>7</td>\n",
       "    </tr>\n",
       "    <tr>\n",
       "      <td>2</td>\n",
       "      <td>32</td>\n",
       "      <td>Sarmiento 755</td>\n",
       "      <td>2019-01-02</td>\n",
       "      <td>07:49:00</td>\n",
       "      <td>1</td>\n",
       "      <td>3</td>\n",
       "      <td>-37.323405</td>\n",
       "      <td>-59.135455</td>\n",
       "      <td>2</td>\n",
       "      <td>0</td>\n",
       "      <td>1</td>\n",
       "      <td>7</td>\n",
       "    </tr>\n",
       "    <tr>\n",
       "      <td>3</td>\n",
       "      <td>32</td>\n",
       "      <td>Sarmiento 755</td>\n",
       "      <td>2019-01-02</td>\n",
       "      <td>08:20:00</td>\n",
       "      <td>1</td>\n",
       "      <td>4</td>\n",
       "      <td>-37.323405</td>\n",
       "      <td>-59.135455</td>\n",
       "      <td>2</td>\n",
       "      <td>0</td>\n",
       "      <td>1</td>\n",
       "      <td>8</td>\n",
       "    </tr>\n",
       "    <tr>\n",
       "      <td>4</td>\n",
       "      <td>32</td>\n",
       "      <td>Sarmiento 755</td>\n",
       "      <td>2019-01-02</td>\n",
       "      <td>09:08:00</td>\n",
       "      <td>1</td>\n",
       "      <td>5</td>\n",
       "      <td>-37.323405</td>\n",
       "      <td>-59.135455</td>\n",
       "      <td>2</td>\n",
       "      <td>0</td>\n",
       "      <td>1</td>\n",
       "      <td>9</td>\n",
       "    </tr>\n",
       "    <tr>\n",
       "      <td>...</td>\n",
       "      <td>...</td>\n",
       "      <td>...</td>\n",
       "      <td>...</td>\n",
       "      <td>...</td>\n",
       "      <td>...</td>\n",
       "      <td>...</td>\n",
       "      <td>...</td>\n",
       "      <td>...</td>\n",
       "      <td>...</td>\n",
       "      <td>...</td>\n",
       "      <td>...</td>\n",
       "      <td>...</td>\n",
       "    </tr>\n",
       "    <tr>\n",
       "      <td>59089</td>\n",
       "      <td>32</td>\n",
       "      <td>Sarmiento 755</td>\n",
       "      <td>2019-12-31</td>\n",
       "      <td>14:35:00</td>\n",
       "      <td>1</td>\n",
       "      <td>8</td>\n",
       "      <td>-37.324370</td>\n",
       "      <td>-59.135207</td>\n",
       "      <td>1</td>\n",
       "      <td>1</td>\n",
       "      <td>12</td>\n",
       "      <td>14</td>\n",
       "    </tr>\n",
       "    <tr>\n",
       "      <td>59090</td>\n",
       "      <td>32</td>\n",
       "      <td>Sarmiento 755</td>\n",
       "      <td>2019-12-31</td>\n",
       "      <td>16:14:00</td>\n",
       "      <td>0</td>\n",
       "      <td>7</td>\n",
       "      <td>-37.324370</td>\n",
       "      <td>-59.135207</td>\n",
       "      <td>1</td>\n",
       "      <td>1</td>\n",
       "      <td>12</td>\n",
       "      <td>16</td>\n",
       "    </tr>\n",
       "    <tr>\n",
       "      <td>59091</td>\n",
       "      <td>32</td>\n",
       "      <td>Sarmiento 755</td>\n",
       "      <td>2019-12-31</td>\n",
       "      <td>16:34:00</td>\n",
       "      <td>0</td>\n",
       "      <td>6</td>\n",
       "      <td>-37.324370</td>\n",
       "      <td>-59.135207</td>\n",
       "      <td>1</td>\n",
       "      <td>1</td>\n",
       "      <td>12</td>\n",
       "      <td>16</td>\n",
       "    </tr>\n",
       "    <tr>\n",
       "      <td>59092</td>\n",
       "      <td>32</td>\n",
       "      <td>Sarmiento 755</td>\n",
       "      <td>2019-12-31</td>\n",
       "      <td>18:18:00</td>\n",
       "      <td>1</td>\n",
       "      <td>7</td>\n",
       "      <td>-37.324370</td>\n",
       "      <td>-59.135207</td>\n",
       "      <td>1</td>\n",
       "      <td>1</td>\n",
       "      <td>12</td>\n",
       "      <td>18</td>\n",
       "    </tr>\n",
       "    <tr>\n",
       "      <td>59093</td>\n",
       "      <td>32</td>\n",
       "      <td>Sarmiento 755</td>\n",
       "      <td>2019-12-31</td>\n",
       "      <td>19:00:00</td>\n",
       "      <td>0</td>\n",
       "      <td>6</td>\n",
       "      <td>-37.324370</td>\n",
       "      <td>-59.135207</td>\n",
       "      <td>1</td>\n",
       "      <td>1</td>\n",
       "      <td>12</td>\n",
       "      <td>19</td>\n",
       "    </tr>\n",
       "  </tbody>\n",
       "</table>\n",
       "<p>58320 rows × 12 columns</p>\n",
       "</div>"
      ],
      "text/plain": [
       "dataset2019  id_cuadra      direccion       fecha    tiempo  operacion  \\\n",
       "0                   32  Sarmiento 755  2019-01-02  05:58:00          1   \n",
       "1                   32  Sarmiento 755  2019-01-02  07:34:00          1   \n",
       "2                   32  Sarmiento 755  2019-01-02  07:49:00          1   \n",
       "3                   32  Sarmiento 755  2019-01-02  08:20:00          1   \n",
       "4                   32  Sarmiento 755  2019-01-02  09:08:00          1   \n",
       "...                ...            ...         ...       ...        ...   \n",
       "59089               32  Sarmiento 755  2019-12-31  14:35:00          1   \n",
       "59090               32  Sarmiento 755  2019-12-31  16:14:00          0   \n",
       "59091               32  Sarmiento 755  2019-12-31  16:34:00          0   \n",
       "59092               32  Sarmiento 755  2019-12-31  18:18:00          1   \n",
       "59093               32  Sarmiento 755  2019-12-31  19:00:00          0   \n",
       "\n",
       "dataset2019  ocupacion    latitud   longitud  dia de la semana  \\\n",
       "0                    1 -37.323840 -59.134883                 2   \n",
       "1                    2 -37.323405 -59.135455                 2   \n",
       "2                    3 -37.323405 -59.135455                 2   \n",
       "3                    4 -37.323405 -59.135455                 2   \n",
       "4                    5 -37.323405 -59.135455                 2   \n",
       "...                ...        ...        ...               ...   \n",
       "59089                8 -37.324370 -59.135207                 1   \n",
       "59090                7 -37.324370 -59.135207                 1   \n",
       "59091                6 -37.324370 -59.135207                 1   \n",
       "59092                7 -37.324370 -59.135207                 1   \n",
       "59093                6 -37.324370 -59.135207                 1   \n",
       "\n",
       "dataset2019  porcentaje ocupacion  mes  hora  \n",
       "0                               0    1     5  \n",
       "1                               0    1     7  \n",
       "2                               0    1     7  \n",
       "3                               0    1     8  \n",
       "4                               0    1     9  \n",
       "...                           ...  ...   ...  \n",
       "59089                           1   12    14  \n",
       "59090                           1   12    16  \n",
       "59091                           1   12    16  \n",
       "59092                           1   12    18  \n",
       "59093                           1   12    19  \n",
       "\n",
       "[58320 rows x 12 columns]"
      ]
     },
     "execution_count": 56,
     "metadata": {},
     "output_type": "execute_result"
    }
   ],
   "source": [
    "naive_bayes_data_without_outliers"
   ]
  },
  {
   "cell_type": "code",
   "execution_count": 57,
   "metadata": {
    "ExecuteTime": {
     "end_time": "2020-03-24T14:48:12.684624Z",
     "start_time": "2020-03-24T14:48:12.652710Z"
    }
   },
   "outputs": [
    {
     "name": "stdout",
     "output_type": "stream",
     "text": [
      "[50066.65829083 32770.97620923  7362.36859381   313.99544927] [0.00000000e+00 0.00000000e+00 0.00000000e+00 6.55774491e-69]\n"
     ]
    }
   ],
   "source": [
    "#Si p es relativamente alto (> 0.5) estamos frente a una distribucion normal\n",
    "k2, p = normaltest(naive_bayes_data_without_outliers[['mes', 'dia de la semana', 'hora', 'ocupacion']])\n",
    "print(k2, p)"
   ]
  },
  {
   "cell_type": "code",
   "execution_count": 58,
   "metadata": {
    "ExecuteTime": {
     "end_time": "2020-03-24T14:48:13.174326Z",
     "start_time": "2020-03-24T14:48:12.685622Z"
    }
   },
   "outputs": [
    {
     "data": {
      "text/plain": [
       "((array([-4.22616911, -4.02203067, -3.91079749, ...,  3.91079749,\n",
       "          4.02203067,  4.22616911]),\n",
       "  array([ 0,  0,  0, ..., 34, 34, 34], dtype=int64)),\n",
       " (6.944874792931145, 16.58873456790123, 0.997088103798906))"
      ]
     },
     "execution_count": 58,
     "metadata": {},
     "output_type": "execute_result"
    },
    {
     "data": {
      "image/png": "[encoded data removed]",
      "text/plain": [
       "<Figure size 1080x576 with 1 Axes>"
      ]
     },
     "metadata": {
      "needs_background": "light"
     },
     "output_type": "display_data"
    }
   ],
   "source": [
    "fig = plt.figure()\n",
    "ax1 = fig.add_subplot(111)\n",
    "probplot(naive_bayes_data_without_outliers['ocupacion'], plot=ax1)"
   ]
  },
  {
   "cell_type": "code",
   "execution_count": 59,
   "metadata": {
    "ExecuteTime": {
     "end_time": "2020-03-24T14:48:13.238143Z",
     "start_time": "2020-03-24T14:48:13.177307Z"
    }
   },
   "outputs": [
    {
     "data": {
      "text/plain": [
       "(array([0.97239762, 1.9084234 , 2.82158493, ..., 5.47440083, 6.33814403,\n",
       "        5.47440083]), 0.9272731011403226)"
      ]
     },
     "execution_count": 59,
     "metadata": {},
     "output_type": "execute_result"
    }
   ],
   "source": [
    "normalized_naive_bayes_data = naive_bayes_data_without_outliers['ocupacion'] + 1\n",
    "normalized_naive_bayes_data = boxcox(normalized_naive_bayes_data)\n",
    "normalized_naive_bayes_data"
   ]
  },
  {
   "cell_type": "code",
   "execution_count": 60,
   "metadata": {
    "ExecuteTime": {
     "end_time": "2020-03-24T14:48:13.252106Z",
     "start_time": "2020-03-24T14:48:13.240138Z"
    }
   },
   "outputs": [
    {
     "name": "stdout",
     "output_type": "stream",
     "text": [
      "274.29503432192945 2.738987752306982e-60\n"
     ]
    }
   ],
   "source": [
    "k2, p = normaltest(normalized_naive_bayes_data[0])\n",
    "print(k2, p)"
   ]
  },
  {
   "cell_type": "code",
   "execution_count": 61,
   "metadata": {
    "ExecuteTime": {
     "end_time": "2020-03-24T14:48:13.736170Z",
     "start_time": "2020-03-24T14:48:13.254101Z"
    }
   },
   "outputs": [
    {
     "data": {
      "text/plain": [
       "((array([-4.22616911, -4.02203067, -3.91079749, ...,  3.91079749,\n",
       "          4.02203067,  4.22616911]),\n",
       "  array([ 0.        ,  0.        ,  0.        , ..., 28.06663902,\n",
       "         28.06663902, 28.06663902])),\n",
       " (5.677858749397844, 14.229333002332737, 0.9970493266902529))"
      ]
     },
     "execution_count": 61,
     "metadata": {},
     "output_type": "execute_result"
    },
    {
     "data": {
      "image/png": "[encoded data removed]",
      "text/plain": [
       "<Figure size 1080x576 with 1 Axes>"
      ]
     },
     "metadata": {
      "needs_background": "light"
     },
     "output_type": "display_data"
    }
   ],
   "source": [
    "fig = plt.figure()\n",
    "ax2 = fig.add_subplot(121)\n",
    "probplot(normalized_naive_bayes_data[0], plot=ax2)"
   ]
  },
  {
   "cell_type": "code",
   "execution_count": 62,
   "metadata": {
    "ExecuteTime": {
     "end_time": "2020-03-24T14:48:13.986344Z",
     "start_time": "2020-03-24T14:48:13.738165Z"
    }
   },
   "outputs": [
    {
     "data": {
      "text/plain": [
       "<matplotlib.axes._subplots.AxesSubplot at 0x18e6815d518>"
      ]
     },
     "execution_count": 62,
     "metadata": {},
     "output_type": "execute_result"
    },
    {
     "data": {
      "image/png": "[encoded data removed]",
      "text/plain": [
       "<Figure size 1080x576 with 1 Axes>"
      ]
     },
     "metadata": {
      "needs_background": "light"
     },
     "output_type": "display_data"
    }
   ],
   "source": [
    "sns.distplot(normalized_naive_bayes_data[0], bins = 34)"
   ]
  },
  {
   "cell_type": "code",
   "execution_count": 63,
   "metadata": {
    "ExecuteTime": {
     "end_time": "2020-03-24T14:48:14.098019Z",
     "start_time": "2020-03-24T14:48:13.988314Z"
    }
   },
   "outputs": [
    {
     "data": {
      "text/plain": [
       "9859"
      ]
     },
     "execution_count": 63,
     "metadata": {},
     "output_type": "execute_result"
    }
   ],
   "source": [
    "gc.collect()"
   ]
  },
  {
   "cell_type": "code",
   "execution_count": null,
   "metadata": {},
   "outputs": [],
   "source": []
  }
 ],
 "metadata": {
  "kernelspec": {
   "display_name": "Python 3",
   "language": "python",
   "name": "python3"
  },
  "language_info": {
   "codemirror_mode": {
    "name": "ipython",
    "version": 3
   },
   "file_extension": ".py",
   "mimetype": "text/x-python",
   "name": "python",
   "nbconvert_exporter": "python",
   "pygments_lexer": "ipython3",
   "version": "3.7.3"
  }
 },
 "nbformat": 4,
 "nbformat_minor": 2
}
