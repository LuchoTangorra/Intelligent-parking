{
 "cells": [
  {
   "cell_type": "code",
   "execution_count": 4,
   "metadata": {
    "ExecuteTime": {
     "end_time": "2019-10-31T15:15:21.005951Z",
     "start_time": "2019-10-31T15:15:21.000999Z"
    }
   },
   "outputs": [],
   "source": [
    "import pandas as pd\n",
    "import numpy as np\n",
    "import matplotlib.pyplot as plt\n",
    "from IPython.display import display, HTML"
   ]
  },
  {
   "cell_type": "code",
   "execution_count": 12,
   "metadata": {
    "ExecuteTime": {
     "end_time": "2019-10-31T15:19:00.250082Z",
     "start_time": "2019-10-31T15:19:00.246091Z"
    }
   },
   "outputs": [],
   "source": [
    "pd.set_option('display.max_rows', 100)"
   ]
  },
  {
   "cell_type": "code",
   "execution_count": 13,
   "metadata": {
    "ExecuteTime": {
     "end_time": "2019-10-31T15:19:00.450747Z",
     "start_time": "2019-10-31T15:19:00.444800Z"
    }
   },
   "outputs": [
    {
     "data": {
      "text/html": [
       "<style>\n",
       ".output {\n",
       "    flex-direction: row;\n",
       "}\n",
       "</style>"
      ],
      "text/plain": [
       "<IPython.core.display.HTML object>"
      ]
     },
     "execution_count": 13,
     "metadata": {},
     "output_type": "execute_result"
    }
   ],
   "source": [
    "#Just to have each print in the same row\n",
    "CSS = \"\"\"\n",
    ".output {\n",
    "    flex-direction: row;\n",
    "}\n",
    "\"\"\"\n",
    "\n",
    "HTML('<style>{}</style>'.format(CSS))"
   ]
  },
  {
   "cell_type": "code",
   "execution_count": 14,
   "metadata": {
    "ExecuteTime": {
     "end_time": "2019-10-31T15:19:00.738010Z",
     "start_time": "2019-10-31T15:19:00.735018Z"
    }
   },
   "outputs": [],
   "source": [
    "r'''   \n",
    "data_w_operacion: (DataFrame) data with their corresponding operacion (Entrada/Salida).\n",
    "    path: C:\\Users\\ing_l\\Tesis grado\\Data\\SUMO_data_w_operacion.csv\n",
    "\n",
    "'''\n",
    "\n",
    "data_path = r'C:\\Users\\ing_l\\Tesis grado\\Data\\SUMO_data_w_operacion.csv'"
   ]
  },
  {
   "cell_type": "code",
   "execution_count": 15,
   "metadata": {
    "ExecuteTime": {
     "end_time": "2019-10-31T15:19:01.473928Z",
     "start_time": "2019-10-31T15:19:01.233396Z"
    }
   },
   "outputs": [],
   "source": [
    "data = pd.read_csv(data_path)"
   ]
  },
  {
   "cell_type": "code",
   "execution_count": 16,
   "metadata": {
    "ExecuteTime": {
     "end_time": "2019-10-31T15:19:01.926469Z",
     "start_time": "2019-10-31T15:19:01.900501Z"
    }
   },
   "outputs": [
    {
     "data": {
      "text/html": [
       "<div>\n",
       "<style scoped>\n",
       "    .dataframe tbody tr th:only-of-type {\n",
       "        vertical-align: middle;\n",
       "    }\n",
       "\n",
       "    .dataframe tbody tr th {\n",
       "        vertical-align: top;\n",
       "    }\n",
       "\n",
       "    .dataframe thead th {\n",
       "        text-align: right;\n",
       "    }\n",
       "</style>\n",
       "<table border=\"1\" class=\"dataframe\">\n",
       "  <thead>\n",
       "    <tr style=\"text-align: right;\">\n",
       "      <th></th>\n",
       "      <th>id_cuadra</th>\n",
       "      <th>direccion</th>\n",
       "      <th>fecha</th>\n",
       "      <th>tiempo</th>\n",
       "      <th>ocupacion</th>\n",
       "      <th>lugares_cuadra</th>\n",
       "      <th>ocupacion_max</th>\n",
       "      <th>dispon_parq</th>\n",
       "      <th>altas_bajas(dia)</th>\n",
       "      <th>fecha_tiempo</th>\n",
       "      <th>operacion</th>\n",
       "    </tr>\n",
       "  </thead>\n",
       "  <tbody>\n",
       "    <tr>\n",
       "      <td>0</td>\n",
       "      <td>2</td>\n",
       "      <td>General Pinto 545</td>\n",
       "      <td>11-09-19</td>\n",
       "      <td>17:15:31</td>\n",
       "      <td>6</td>\n",
       "      <td>27.0</td>\n",
       "      <td>17</td>\n",
       "      <td>green</td>\n",
       "      <td>184</td>\n",
       "      <td>2019-09-11 17:15:31</td>\n",
       "      <td>NaN</td>\n",
       "    </tr>\n",
       "    <tr>\n",
       "      <td>1</td>\n",
       "      <td>2</td>\n",
       "      <td>General Pinto 545</td>\n",
       "      <td>11-09-19</td>\n",
       "      <td>17:20:25</td>\n",
       "      <td>7</td>\n",
       "      <td>27.0</td>\n",
       "      <td>17</td>\n",
       "      <td>green</td>\n",
       "      <td>184</td>\n",
       "      <td>2019-09-11 17:20:25</td>\n",
       "      <td>Entrada</td>\n",
       "    </tr>\n",
       "    <tr>\n",
       "      <td>2</td>\n",
       "      <td>2</td>\n",
       "      <td>General Pinto 545</td>\n",
       "      <td>11-09-19</td>\n",
       "      <td>17:34:54</td>\n",
       "      <td>6</td>\n",
       "      <td>27.0</td>\n",
       "      <td>17</td>\n",
       "      <td>green</td>\n",
       "      <td>190</td>\n",
       "      <td>2019-09-11 17:34:54</td>\n",
       "      <td>Salida</td>\n",
       "    </tr>\n",
       "    <tr>\n",
       "      <td>3</td>\n",
       "      <td>2</td>\n",
       "      <td>General Pinto 545</td>\n",
       "      <td>11-09-19</td>\n",
       "      <td>17:40:09</td>\n",
       "      <td>5</td>\n",
       "      <td>27.0</td>\n",
       "      <td>17</td>\n",
       "      <td>green</td>\n",
       "      <td>191</td>\n",
       "      <td>2019-09-11 17:40:09</td>\n",
       "      <td>Salida</td>\n",
       "    </tr>\n",
       "    <tr>\n",
       "      <td>4</td>\n",
       "      <td>2</td>\n",
       "      <td>General Pinto 545</td>\n",
       "      <td>11-09-19</td>\n",
       "      <td>17:45:05</td>\n",
       "      <td>6</td>\n",
       "      <td>27.0</td>\n",
       "      <td>17</td>\n",
       "      <td>green</td>\n",
       "      <td>192</td>\n",
       "      <td>2019-09-11 17:45:05</td>\n",
       "      <td>Entrada</td>\n",
       "    </tr>\n",
       "    <tr>\n",
       "      <td>...</td>\n",
       "      <td>...</td>\n",
       "      <td>...</td>\n",
       "      <td>...</td>\n",
       "      <td>...</td>\n",
       "      <td>...</td>\n",
       "      <td>...</td>\n",
       "      <td>...</td>\n",
       "      <td>...</td>\n",
       "      <td>...</td>\n",
       "      <td>...</td>\n",
       "      <td>...</td>\n",
       "    </tr>\n",
       "    <tr>\n",
       "      <td>149903</td>\n",
       "      <td>99</td>\n",
       "      <td>Av. España 970</td>\n",
       "      <td>15-10-19</td>\n",
       "      <td>12:09:01</td>\n",
       "      <td>3</td>\n",
       "      <td>NaN</td>\n",
       "      <td>7</td>\n",
       "      <td>green</td>\n",
       "      <td>40</td>\n",
       "      <td>2019-10-15 12:11:08</td>\n",
       "      <td>Salida</td>\n",
       "    </tr>\n",
       "    <tr>\n",
       "      <td>149904</td>\n",
       "      <td>99</td>\n",
       "      <td>Av. España 970</td>\n",
       "      <td>15-10-19</td>\n",
       "      <td>12:14:08</td>\n",
       "      <td>2</td>\n",
       "      <td>NaN</td>\n",
       "      <td>7</td>\n",
       "      <td>green</td>\n",
       "      <td>42</td>\n",
       "      <td>2019-10-15 12:14:08</td>\n",
       "      <td>Salida</td>\n",
       "    </tr>\n",
       "    <tr>\n",
       "      <td>149905</td>\n",
       "      <td>99</td>\n",
       "      <td>Av. España 970</td>\n",
       "      <td>15-10-19</td>\n",
       "      <td>12:22:40</td>\n",
       "      <td>3</td>\n",
       "      <td>NaN</td>\n",
       "      <td>7</td>\n",
       "      <td>green</td>\n",
       "      <td>43</td>\n",
       "      <td>2019-10-15 12:22:40</td>\n",
       "      <td>Entrada</td>\n",
       "    </tr>\n",
       "    <tr>\n",
       "      <td>149906</td>\n",
       "      <td>99</td>\n",
       "      <td>Av. España 970</td>\n",
       "      <td>15-10-19</td>\n",
       "      <td>12:35:01</td>\n",
       "      <td>2</td>\n",
       "      <td>NaN</td>\n",
       "      <td>7</td>\n",
       "      <td>green</td>\n",
       "      <td>45</td>\n",
       "      <td>2019-10-15 12:35:01</td>\n",
       "      <td>Salida</td>\n",
       "    </tr>\n",
       "    <tr>\n",
       "      <td>149907</td>\n",
       "      <td>99</td>\n",
       "      <td>Av. España 970</td>\n",
       "      <td>15-10-19</td>\n",
       "      <td>12:43:42</td>\n",
       "      <td>3</td>\n",
       "      <td>NaN</td>\n",
       "      <td>7</td>\n",
       "      <td>green</td>\n",
       "      <td>46</td>\n",
       "      <td>2019-10-15 12:43:42</td>\n",
       "      <td>Entrada</td>\n",
       "    </tr>\n",
       "  </tbody>\n",
       "</table>\n",
       "<p>149908 rows × 11 columns</p>\n",
       "</div>"
      ],
      "text/plain": [
       "        id_cuadra          direccion     fecha    tiempo  ocupacion  \\\n",
       "0               2  General Pinto 545  11-09-19  17:15:31          6   \n",
       "1               2  General Pinto 545  11-09-19  17:20:25          7   \n",
       "2               2  General Pinto 545  11-09-19  17:34:54          6   \n",
       "3               2  General Pinto 545  11-09-19  17:40:09          5   \n",
       "4               2  General Pinto 545  11-09-19  17:45:05          6   \n",
       "...           ...                ...       ...       ...        ...   \n",
       "149903         99     Av. España 970  15-10-19  12:09:01          3   \n",
       "149904         99     Av. España 970  15-10-19  12:14:08          2   \n",
       "149905         99     Av. España 970  15-10-19  12:22:40          3   \n",
       "149906         99     Av. España 970  15-10-19  12:35:01          2   \n",
       "149907         99     Av. España 970  15-10-19  12:43:42          3   \n",
       "\n",
       "        lugares_cuadra  ocupacion_max dispon_parq  altas_bajas(dia)  \\\n",
       "0                 27.0             17       green               184   \n",
       "1                 27.0             17       green               184   \n",
       "2                 27.0             17       green               190   \n",
       "3                 27.0             17       green               191   \n",
       "4                 27.0             17       green               192   \n",
       "...                ...            ...         ...               ...   \n",
       "149903             NaN              7       green                40   \n",
       "149904             NaN              7       green                42   \n",
       "149905             NaN              7       green                43   \n",
       "149906             NaN              7       green                45   \n",
       "149907             NaN              7       green                46   \n",
       "\n",
       "               fecha_tiempo operacion  \n",
       "0       2019-09-11 17:15:31       NaN  \n",
       "1       2019-09-11 17:20:25   Entrada  \n",
       "2       2019-09-11 17:34:54    Salida  \n",
       "3       2019-09-11 17:40:09    Salida  \n",
       "4       2019-09-11 17:45:05   Entrada  \n",
       "...                     ...       ...  \n",
       "149903  2019-10-15 12:11:08    Salida  \n",
       "149904  2019-10-15 12:14:08    Salida  \n",
       "149905  2019-10-15 12:22:40   Entrada  \n",
       "149906  2019-10-15 12:35:01    Salida  \n",
       "149907  2019-10-15 12:43:42   Entrada  \n",
       "\n",
       "[149908 rows x 11 columns]"
      ]
     },
     "execution_count": 16,
     "metadata": {},
     "output_type": "execute_result"
    }
   ],
   "source": [
    "data"
   ]
  },
  {
   "cell_type": "code",
   "execution_count": null,
   "metadata": {},
   "outputs": [],
   "source": []
  }
 ],
 "metadata": {
  "kernelspec": {
   "display_name": "Python 3",
   "language": "python",
   "name": "python3"
  },
  "language_info": {
   "codemirror_mode": {
    "name": "ipython",
    "version": 3
   },
   "file_extension": ".py",
   "mimetype": "text/x-python",
   "name": "python",
   "nbconvert_exporter": "python",
   "pygments_lexer": "ipython3",
   "version": "3.7.3"
  }
 },
 "nbformat": 4,
 "nbformat_minor": 2
}
