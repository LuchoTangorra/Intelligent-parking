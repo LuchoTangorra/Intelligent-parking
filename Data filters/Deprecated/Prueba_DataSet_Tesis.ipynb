{
 "cells": [
  {
   "cell_type": "markdown",
   "metadata": {},
   "source": [
    "# Filtrado de datos"
   ]
  },
  {
   "cell_type": "markdown",
   "metadata": {},
   "source": [
    "## Leo el archivo csv de la computadora."
   ]
  },
  {
   "cell_type": "code",
   "execution_count": 1,
   "metadata": {
    "scrolled": false
   },
   "outputs": [],
   "source": [
    "import pandas as p\n",
    "import datetime as dt\n",
    "#Con la siguiente linea consigo poner todos los datos en data, la cual pasa a ser un dataframe, que es en lo que se basa pandas.\n",
    "data = p.read_csv(r\"C:\\Users\\ing_l\\Desktop\\Facultad\\Tesis\\Data\\Data 1\\BD_Parking.csv\", delimiter=',')"
   ]
  },
  {
   "cell_type": "code",
   "execution_count": 2,
   "metadata": {
    "scrolled": true
   },
   "outputs": [
    {
     "name": "stdout",
     "output_type": "stream",
     "text": [
      "        id_cuadra operacion  patente   tarjeta       fecha      hora\n",
      "0              82   Entrada   BVQ775  10037637  2018-01-01  07:11:00\n",
      "1              40   Entrada   DCN224  10059452  2018-01-01  11:26:00\n",
      "2              61   Entrada   ATE568  10032179  2018-01-01  13:09:00\n",
      "3              34   Entrada   LPV400  10026609  2018-01-01  16:53:00\n",
      "4              66   Entrada   FMR105  10073847  2018-01-01  17:25:00\n",
      "5              16   Entrada   FCR161  10012270  2018-01-01  18:11:00\n",
      "6              34   Entrada   GJQ120  10124912  2018-01-01  18:38:00\n",
      "7              12   Entrada   FKE897  10161964  2018-01-01  19:47:00\n",
      "8              47   Entrada   FCE602  10136782  2018-01-01  21:05:00\n",
      "9              47   Entrada   FCE602  10136782  2018-01-01  21:06:00\n",
      "10              3   Entrada   EMO149  10005465  2018-01-01  22:31:00\n",
      "11             22   Entrada   GZA980  10122196  2018-01-02  02:16:00\n",
      "12             59   Entrada  AB513HD  10001621  2018-01-02  07:21:00\n",
      "13              4   Entrada   HAZ118  10006499  2018-01-02  07:46:00\n",
      "14              2   Entrada   JYO177  10081437  2018-01-02  07:49:00\n",
      "15             78   Entrada   FBG908  10016301  2018-01-02  08:03:00\n",
      "16              2   Entrada   NBW636  10000979  2018-01-02  08:18:00\n",
      "17             56   Entrada   LKV729  10014618  2018-01-02  08:22:00\n",
      "18             56   Entrada   CLN305  10160667  2018-01-02  08:23:00\n",
      "19              2   Entrada   ASU197  10148652  2018-01-02  08:27:00\n",
      "20             12   Entrada   PCY576  10000691  2018-01-02  08:30:00\n",
      "21              2   Entrada   DIN108  10084798  2018-01-02  08:31:00\n",
      "22              5   Entrada   DFD994  10148221  2018-01-02  08:35:00\n",
      "23             90   Entrada   CVN309  10149433  2018-01-02  08:39:00\n",
      "24             80   Entrada   KWA191  10021056  2018-01-02  08:41:00\n",
      "25             17   Entrada   EHV196  10002124  2018-01-02  08:43:00\n",
      "26              4   Entrada   GNS025  10152162  2018-01-02  08:44:00\n",
      "27             72   Entrada   GRF401  10003540  2018-01-02  08:46:00\n",
      "28              8   Entrada   UEG530  10161506  2018-01-02  08:46:00\n",
      "29             39   Entrada  AA319KC  10002830  2018-01-02  08:46:00\n",
      "...           ...       ...      ...       ...         ...       ...\n",
      "704721         79    Salida   HLI802  10009395  2018-06-14  10:19:00\n",
      "704722          2    Salida   NAF239  10016437  2018-06-14  10:31:00\n",
      "704723         34    Salida  AC105RR  10099351  2018-06-14  10:19:00\n",
      "704724         39    Salida   GCK008  10177931  2018-06-14  10:32:00\n",
      "704725         64    Salida  AB648HX  10008285  2018-06-14  10:27:00\n",
      "704726         51    Salida   EFJ779  10123121  2018-06-14  10:30:00\n",
      "704727         53    Salida   AMM354  10067952  2018-06-14  10:18:00\n",
      "704728         83    Salida   OXF340  10001810  2018-06-14  10:26:00\n",
      "704729         76    Salida   OKG182  10002212  2018-06-14  10:23:00\n",
      "704730         49    Salida   IJW262  10015795  2018-06-14  10:25:00\n",
      "704731         12    Salida   AGN566  10075398  2018-06-14  10:26:00\n",
      "704732         46    Salida   LLV360  10013730  2018-06-14  10:26:00\n",
      "704733         20    Salida   LDW985  10041926  2018-06-14  10:29:00\n",
      "704734         91    Salida   RUF099  10002931  2018-06-14  10:32:00\n",
      "704735         22    Salida   SJC742  10014043  2018-06-14  10:29:00\n",
      "704736         15    Salida  AB171XI  10008940  2018-06-14  10:28:00\n",
      "704737         65    Salida   LKI711  10178675  2018-06-14  10:25:00\n",
      "704738         19    Salida   LFZ939  10013897  2018-06-14  10:28:00\n",
      "704739         50    Salida   KTI632  10057068  2018-06-14  10:21:00\n",
      "704740          6    Salida   NMF039  10160414  2018-06-14  10:28:00\n",
      "704741         38    Salida   JDJ567  10009559  2018-06-14  10:26:00\n",
      "704742         25    Salida   BJG868  10112592  2018-06-14  10:28:00\n",
      "704743         35    Salida   LSO663  10171511  2018-06-14  10:29:00\n",
      "704744         32    Salida  AB281DY  10123986  2018-06-14  10:28:00\n",
      "704745         62    Salida   AYM689  10004711  2018-06-14  10:27:00\n",
      "704746         16    Salida   IXD347  10076465  2018-06-14  10:29:00\n",
      "704747         58    Salida   NJZ622  10168488  2018-06-14  10:31:00\n",
      "704748         19    Salida   MAD812  10003720  2018-06-14  10:33:00\n",
      "704749         21    Salida   FAI128  10176408  2018-06-14  10:30:00\n",
      "704750         10    Salida  AB542EA  10001154  2018-06-14  10:30:00\n",
      "\n",
      "[704751 rows x 6 columns]\n"
     ]
    }
   ],
   "source": [
    "print(data)"
   ]
  },
  {
   "cell_type": "markdown",
   "metadata": {},
   "source": [
    "## Agarro solo las columnas de id_cuadra, fecha y hora.\n",
    "\n",
    "## Y solamente me quedo con las operaciones que son de entrada (para no tener duplicidad de datos)"
   ]
  },
  {
   "cell_type": "code",
   "execution_count": 3,
   "metadata": {
    "scrolled": false
   },
   "outputs": [
    {
     "name": "stdout",
     "output_type": "stream",
     "text": [
      "        id_cuadra       fecha      hora\n",
      "0              82  2018-01-01  07:11:00\n",
      "1              40  2018-01-01  11:26:00\n",
      "2              61  2018-01-01  13:09:00\n",
      "3              34  2018-01-01  16:53:00\n",
      "4              66  2018-01-01  17:25:00\n",
      "5              16  2018-01-01  18:11:00\n",
      "6              34  2018-01-01  18:38:00\n",
      "7              12  2018-01-01  19:47:00\n",
      "8              47  2018-01-01  21:05:00\n",
      "9              47  2018-01-01  21:06:00\n",
      "10              3  2018-01-01  22:31:00\n",
      "11             22  2018-01-02  02:16:00\n",
      "12             59  2018-01-02  07:21:00\n",
      "13              4  2018-01-02  07:46:00\n",
      "14              2  2018-01-02  07:49:00\n",
      "15             78  2018-01-02  08:03:00\n",
      "16              2  2018-01-02  08:18:00\n",
      "17             56  2018-01-02  08:22:00\n",
      "18             56  2018-01-02  08:23:00\n",
      "19              2  2018-01-02  08:27:00\n",
      "20             12  2018-01-02  08:30:00\n",
      "21              2  2018-01-02  08:31:00\n",
      "22              5  2018-01-02  08:35:00\n",
      "23             90  2018-01-02  08:39:00\n",
      "24             80  2018-01-02  08:41:00\n",
      "25             17  2018-01-02  08:43:00\n",
      "26              4  2018-01-02  08:44:00\n",
      "27             72  2018-01-02  08:46:00\n",
      "28              8  2018-01-02  08:46:00\n",
      "29             39  2018-01-02  08:46:00\n",
      "...           ...         ...       ...\n",
      "351434         79  2018-06-14  10:15:00\n",
      "351435          2  2018-06-14  10:17:00\n",
      "351436         34  2018-06-14  10:17:00\n",
      "351437         39  2018-06-14  10:16:00\n",
      "351438         64  2018-06-14  10:18:00\n",
      "351439         51  2018-06-14  10:18:00\n",
      "351440         53  2018-06-14  10:18:00\n",
      "351441         83  2018-06-14  10:18:00\n",
      "351442         76  2018-06-14  10:18:00\n",
      "351443         49  2018-06-14  10:18:00\n",
      "351444         12  2018-06-14  10:20:00\n",
      "351445         46  2018-06-14  10:20:00\n",
      "351446         20  2018-06-14  10:20:00\n",
      "351447         91  2018-06-14  10:20:00\n",
      "351448         22  2018-06-14  10:20:00\n",
      "351449         15  2018-06-14  10:20:00\n",
      "351450         65  2018-06-14  10:20:00\n",
      "351451         19  2018-06-14  10:21:00\n",
      "351452         50  2018-06-14  10:21:00\n",
      "351453          6  2018-06-14  10:21:00\n",
      "351454         38  2018-06-14  10:21:00\n",
      "351455         25  2018-06-14  10:22:00\n",
      "351456         35  2018-06-14  10:23:00\n",
      "351457         32  2018-06-14  10:23:00\n",
      "351458         62  2018-06-14  10:27:00\n",
      "351459         16  2018-06-14  10:29:00\n",
      "351460         58  2018-06-14  10:30:00\n",
      "351461         19  2018-06-14  10:29:00\n",
      "351462         21  2018-06-14  10:30:00\n",
      "351463         10  2018-06-14  10:30:00\n",
      "\n",
      "[351464 rows x 3 columns]\n"
     ]
    }
   ],
   "source": [
    "#Agrupo los elementos por id_cuadra y fecha, para luego ver un promedio de los usuarios que se estacionan en cada cuadra por cada dia de la semana\n",
    "\n",
    "#processedData = data.groupby([\"id_cuadra\",\"fecha\"]).size().to_frame('Cantidad estacionados').reset_index()\n",
    "reducedData = data.loc[data.operacion == 'Entrada', ['id_cuadra','fecha','hora']]\n",
    "print(reducedData)"
   ]
  },
  {
   "cell_type": "code",
   "execution_count": 4,
   "metadata": {},
   "outputs": [
    {
     "name": "stdout",
     "output_type": "stream",
     "text": [
      "0         07:11:00\n",
      "1         11:26:00\n",
      "2         13:09:00\n",
      "3         16:53:00\n",
      "4         17:25:00\n",
      "5         18:11:00\n",
      "6         18:38:00\n",
      "7         19:47:00\n",
      "8         21:05:00\n",
      "9         21:06:00\n",
      "10        22:31:00\n",
      "11        02:16:00\n",
      "12        07:21:00\n",
      "13        07:46:00\n",
      "14        07:49:00\n",
      "15        08:03:00\n",
      "16        08:18:00\n",
      "17        08:22:00\n",
      "18        08:23:00\n",
      "19        08:27:00\n",
      "20        08:30:00\n",
      "21        08:31:00\n",
      "22        08:35:00\n",
      "23        08:39:00\n",
      "24        08:41:00\n",
      "25        08:43:00\n",
      "26        08:44:00\n",
      "27        08:46:00\n",
      "28        08:46:00\n",
      "29        08:46:00\n",
      "            ...   \n",
      "351434    10:15:00\n",
      "351435    10:17:00\n",
      "351436    10:17:00\n",
      "351437    10:16:00\n",
      "351438    10:18:00\n",
      "351439    10:18:00\n",
      "351440    10:18:00\n",
      "351441    10:18:00\n",
      "351442    10:18:00\n",
      "351443    10:18:00\n",
      "351444    10:20:00\n",
      "351445    10:20:00\n",
      "351446    10:20:00\n",
      "351447    10:20:00\n",
      "351448    10:20:00\n",
      "351449    10:20:00\n",
      "351450    10:20:00\n",
      "351451    10:21:00\n",
      "351452    10:21:00\n",
      "351453    10:21:00\n",
      "351454    10:21:00\n",
      "351455    10:22:00\n",
      "351456    10:23:00\n",
      "351457    10:23:00\n",
      "351458    10:27:00\n",
      "351459    10:29:00\n",
      "351460    10:30:00\n",
      "351461    10:29:00\n",
      "351462    10:30:00\n",
      "351463    10:30:00\n",
      "Name: hora, Length: 351464, dtype: object\n"
     ]
    }
   ],
   "source": [
    "print(reducedData.hora)"
   ]
  },
  {
   "cell_type": "markdown",
   "metadata": {},
   "source": [
    "## to_datetime transforma un string a un tipo datetime, para asi despues poder agarrar la hora"
   ]
  },
  {
   "cell_type": "code",
   "execution_count": 5,
   "metadata": {
    "scrolled": true
   },
   "outputs": [],
   "source": [
    "#Para que no tire error de copia\n",
    "p.options.mode.chained_assignment = None  # default='warn'\n",
    "\n",
    "reducedData.hora = p.to_datetime(reducedData.hora)"
   ]
  },
  {
   "cell_type": "code",
   "execution_count": 6,
   "metadata": {},
   "outputs": [],
   "source": [
    "reducedData.hora = reducedData.hora.dt.hour"
   ]
  },
  {
   "cell_type": "code",
   "execution_count": 7,
   "metadata": {},
   "outputs": [
    {
     "name": "stdout",
     "output_type": "stream",
     "text": [
      "        id_cuadra       fecha  hora\n",
      "0              82  2018-01-01     7\n",
      "1              40  2018-01-01    11\n",
      "2              61  2018-01-01    13\n",
      "3              34  2018-01-01    16\n",
      "4              66  2018-01-01    17\n",
      "5              16  2018-01-01    18\n",
      "6              34  2018-01-01    18\n",
      "7              12  2018-01-01    19\n",
      "8              47  2018-01-01    21\n",
      "9              47  2018-01-01    21\n",
      "10              3  2018-01-01    22\n",
      "11             22  2018-01-02     2\n",
      "12             59  2018-01-02     7\n",
      "13              4  2018-01-02     7\n",
      "14              2  2018-01-02     7\n",
      "15             78  2018-01-02     8\n",
      "16              2  2018-01-02     8\n",
      "17             56  2018-01-02     8\n",
      "18             56  2018-01-02     8\n",
      "19              2  2018-01-02     8\n",
      "20             12  2018-01-02     8\n",
      "21              2  2018-01-02     8\n",
      "22              5  2018-01-02     8\n",
      "23             90  2018-01-02     8\n",
      "24             80  2018-01-02     8\n",
      "25             17  2018-01-02     8\n",
      "26              4  2018-01-02     8\n",
      "27             72  2018-01-02     8\n",
      "28              8  2018-01-02     8\n",
      "29             39  2018-01-02     8\n",
      "...           ...         ...   ...\n",
      "351434         79  2018-06-14    10\n",
      "351435          2  2018-06-14    10\n",
      "351436         34  2018-06-14    10\n",
      "351437         39  2018-06-14    10\n",
      "351438         64  2018-06-14    10\n",
      "351439         51  2018-06-14    10\n",
      "351440         53  2018-06-14    10\n",
      "351441         83  2018-06-14    10\n",
      "351442         76  2018-06-14    10\n",
      "351443         49  2018-06-14    10\n",
      "351444         12  2018-06-14    10\n",
      "351445         46  2018-06-14    10\n",
      "351446         20  2018-06-14    10\n",
      "351447         91  2018-06-14    10\n",
      "351448         22  2018-06-14    10\n",
      "351449         15  2018-06-14    10\n",
      "351450         65  2018-06-14    10\n",
      "351451         19  2018-06-14    10\n",
      "351452         50  2018-06-14    10\n",
      "351453          6  2018-06-14    10\n",
      "351454         38  2018-06-14    10\n",
      "351455         25  2018-06-14    10\n",
      "351456         35  2018-06-14    10\n",
      "351457         32  2018-06-14    10\n",
      "351458         62  2018-06-14    10\n",
      "351459         16  2018-06-14    10\n",
      "351460         58  2018-06-14    10\n",
      "351461         19  2018-06-14    10\n",
      "351462         21  2018-06-14    10\n",
      "351463         10  2018-06-14    10\n",
      "\n",
      "[351464 rows x 3 columns]\n"
     ]
    }
   ],
   "source": [
    "print(reducedData)"
   ]
  },
  {
   "cell_type": "markdown",
   "metadata": {},
   "source": [
    "## Se crea la columna Dia con los valores que correspondan segun la fecha y ordeno por id_cuadra y dia"
   ]
  },
  {
   "cell_type": "code",
   "execution_count": 8,
   "metadata": {},
   "outputs": [],
   "source": [
    "import calendar\n",
    "from datetime import datetime\n",
    "\n",
    "#Creo una nueva columna llamada Dia (solo para fines sort) y le asigno los valores segun el dia que corresponda (de 0, como lunes, a 6 como domingo)\n",
    "reducedData['dia'] = reducedData['fecha'].apply(lambda x: datetime.strptime(x, '%Y-%m-%d').weekday()) # get the weekday index, between 0 and 6\n",
    "\n",
    "#Cambio los valores de la columna dia creada por Strings que digan el dia\n",
    "reducedData['dia'] = reducedData['dia'].apply(lambda x: calendar.day_name[x])"
   ]
  },
  {
   "cell_type": "code",
   "execution_count": 9,
   "metadata": {},
   "outputs": [
    {
     "name": "stdout",
     "output_type": "stream",
     "text": [
      "        id_cuadra       fecha  hora       dia\n",
      "0              82  2018-01-01     7    Monday\n",
      "1              40  2018-01-01    11    Monday\n",
      "2              61  2018-01-01    13    Monday\n",
      "3              34  2018-01-01    16    Monday\n",
      "4              66  2018-01-01    17    Monday\n",
      "5              16  2018-01-01    18    Monday\n",
      "6              34  2018-01-01    18    Monday\n",
      "7              12  2018-01-01    19    Monday\n",
      "8              47  2018-01-01    21    Monday\n",
      "9              47  2018-01-01    21    Monday\n",
      "10              3  2018-01-01    22    Monday\n",
      "11             22  2018-01-02     2   Tuesday\n",
      "12             59  2018-01-02     7   Tuesday\n",
      "13              4  2018-01-02     7   Tuesday\n",
      "14              2  2018-01-02     7   Tuesday\n",
      "15             78  2018-01-02     8   Tuesday\n",
      "16              2  2018-01-02     8   Tuesday\n",
      "17             56  2018-01-02     8   Tuesday\n",
      "18             56  2018-01-02     8   Tuesday\n",
      "19              2  2018-01-02     8   Tuesday\n",
      "20             12  2018-01-02     8   Tuesday\n",
      "21              2  2018-01-02     8   Tuesday\n",
      "22              5  2018-01-02     8   Tuesday\n",
      "23             90  2018-01-02     8   Tuesday\n",
      "24             80  2018-01-02     8   Tuesday\n",
      "25             17  2018-01-02     8   Tuesday\n",
      "26              4  2018-01-02     8   Tuesday\n",
      "27             72  2018-01-02     8   Tuesday\n",
      "28              8  2018-01-02     8   Tuesday\n",
      "29             39  2018-01-02     8   Tuesday\n",
      "...           ...         ...   ...       ...\n",
      "351434         79  2018-06-14    10  Thursday\n",
      "351435          2  2018-06-14    10  Thursday\n",
      "351436         34  2018-06-14    10  Thursday\n",
      "351437         39  2018-06-14    10  Thursday\n",
      "351438         64  2018-06-14    10  Thursday\n",
      "351439         51  2018-06-14    10  Thursday\n",
      "351440         53  2018-06-14    10  Thursday\n",
      "351441         83  2018-06-14    10  Thursday\n",
      "351442         76  2018-06-14    10  Thursday\n",
      "351443         49  2018-06-14    10  Thursday\n",
      "351444         12  2018-06-14    10  Thursday\n",
      "351445         46  2018-06-14    10  Thursday\n",
      "351446         20  2018-06-14    10  Thursday\n",
      "351447         91  2018-06-14    10  Thursday\n",
      "351448         22  2018-06-14    10  Thursday\n",
      "351449         15  2018-06-14    10  Thursday\n",
      "351450         65  2018-06-14    10  Thursday\n",
      "351451         19  2018-06-14    10  Thursday\n",
      "351452         50  2018-06-14    10  Thursday\n",
      "351453          6  2018-06-14    10  Thursday\n",
      "351454         38  2018-06-14    10  Thursday\n",
      "351455         25  2018-06-14    10  Thursday\n",
      "351456         35  2018-06-14    10  Thursday\n",
      "351457         32  2018-06-14    10  Thursday\n",
      "351458         62  2018-06-14    10  Thursday\n",
      "351459         16  2018-06-14    10  Thursday\n",
      "351460         58  2018-06-14    10  Thursday\n",
      "351461         19  2018-06-14    10  Thursday\n",
      "351462         21  2018-06-14    10  Thursday\n",
      "351463         10  2018-06-14    10  Thursday\n",
      "\n",
      "[351464 rows x 4 columns]\n"
     ]
    }
   ],
   "source": [
    "print(reducedData)"
   ]
  },
  {
   "cell_type": "code",
   "execution_count": 10,
   "metadata": {},
   "outputs": [],
   "source": [
    "reducedData = reducedData.sort_values(by=['id_cuadra','dia'])"
   ]
  },
  {
   "cell_type": "markdown",
   "metadata": {},
   "source": [
    "## Elimino los domingos, ya que el estacionamiento es libre"
   ]
  },
  {
   "cell_type": "code",
   "execution_count": 11,
   "metadata": {},
   "outputs": [],
   "source": [
    "reducedData = reducedData.loc[reducedData.dia != 'Sunday']"
   ]
  },
  {
   "cell_type": "code",
   "execution_count": 12,
   "metadata": {},
   "outputs": [
    {
     "name": "stdout",
     "output_type": "stream",
     "text": [
      "        id_cuadra       fecha  hora        dia\n",
      "254494          1  2018-05-02    17  Wednesday\n",
      "254502          1  2018-05-02    17  Wednesday\n",
      "8827            2  2018-01-05     9     Friday\n",
      "8860            2  2018-01-05     9     Friday\n",
      "9097            2  2018-01-05    10     Friday\n",
      "9117            2  2018-01-05    10     Friday\n",
      "9215            2  2018-01-05    10     Friday\n",
      "9378            2  2018-01-05    10     Friday\n",
      "9490            2  2018-01-05    10     Friday\n",
      "9578            2  2018-01-05    11     Friday\n",
      "9609            2  2018-01-05    11     Friday\n",
      "9654            2  2018-01-05    11     Friday\n",
      "9708            2  2018-01-05    11     Friday\n",
      "9838            2  2018-01-05    11     Friday\n",
      "9907            2  2018-01-05    11     Friday\n",
      "9932            2  2018-01-05    11     Friday\n",
      "9941            2  2018-01-05    11     Friday\n",
      "10021           2  2018-01-05    12     Friday\n",
      "10050           2  2018-01-05    12     Friday\n",
      "10084           2  2018-01-05    12     Friday\n",
      "10110           2  2018-01-05    12     Friday\n",
      "10117           2  2018-01-05    12     Friday\n",
      "10251           2  2018-01-05    12     Friday\n",
      "10391           2  2018-01-05    13     Friday\n",
      "10488           2  2018-01-05    13     Friday\n",
      "10521           2  2018-01-05    13     Friday\n",
      "10568           2  2018-01-05    13     Friday\n",
      "10589           2  2018-01-05    13     Friday\n",
      "10727           2  2018-01-05    14     Friday\n",
      "10732           2  2018-01-05    14     Friday\n",
      "...           ...         ...   ...        ...\n",
      "347628         91  2018-06-13    10  Wednesday\n",
      "347688         91  2018-06-13    10  Wednesday\n",
      "347777         91  2018-06-13    10  Wednesday\n",
      "347884         91  2018-06-13    11  Wednesday\n",
      "348091         91  2018-06-13    11  Wednesday\n",
      "348441         91  2018-06-13    12  Wednesday\n",
      "348785         91  2018-06-13    12  Wednesday\n",
      "348872         91  2018-06-13    12  Wednesday\n",
      "349217         91  2018-06-13    13  Wednesday\n",
      "349719         91  2018-06-13    15  Wednesday\n",
      "350066         91  2018-06-13    16  Wednesday\n",
      "350283         91  2018-06-13    16  Wednesday\n",
      "350403         91  2018-06-13    17  Wednesday\n",
      "350469         91  2018-06-13    17  Wednesday\n",
      "350491         91  2018-06-13    17  Wednesday\n",
      "350597         91  2018-06-13    17  Wednesday\n",
      "350731         91  2018-06-13    18  Wednesday\n",
      "350935         91  2018-06-13    18  Wednesday\n",
      "350989         91  2018-06-13    18  Wednesday\n",
      "301965         92  2018-05-28     8     Monday\n",
      "302215         92  2018-05-28    10     Monday\n",
      "302398         92  2018-05-28    11     Monday\n",
      "341287         92  2018-06-11    10     Monday\n",
      "341312         92  2018-06-11    10     Monday\n",
      "311543         92  2018-05-31    12   Thursday\n",
      "303341         92  2018-05-29     8    Tuesday\n",
      "322427         92  2018-06-05     9    Tuesday\n",
      "346130         92  2018-06-12    12    Tuesday\n",
      "346182         92  2018-06-12    13    Tuesday\n",
      "326482         92  2018-06-06     9  Wednesday\n",
      "\n",
      "[351155 rows x 4 columns]\n"
     ]
    }
   ],
   "source": [
    "print(reducedData)"
   ]
  },
  {
   "cell_type": "markdown",
   "metadata": {},
   "source": [
    "## Calculo la cantidad de autos que hay por cuadra en un dia para mantenerlo en la variable week_data (los datos por dia de semana, sin importar la hora)\n",
    "\n",
    "## Tambien calculo el promedio para cada dia y su error"
   ]
  },
  {
   "cell_type": "code",
   "execution_count": 13,
   "metadata": {
    "scrolled": true
   },
   "outputs": [
    {
     "name": "stdout",
     "output_type": "stream",
     "text": [
      "id_cuadra  fecha       dia      \n",
      "1          2018-05-02  Wednesday     2\n",
      "2          2018-01-02  Tuesday      74\n",
      "           2018-01-03  Wednesday    55\n",
      "           2018-01-04  Thursday     59\n",
      "           2018-01-05  Friday       52\n",
      "           2018-01-06  Saturday     18\n",
      "           2018-01-08  Monday       43\n",
      "           2018-01-09  Tuesday      42\n",
      "           2018-01-10  Wednesday    40\n",
      "           2018-01-11  Thursday     54\n",
      "           2018-01-12  Friday       50\n",
      "           2018-01-13  Saturday     12\n",
      "           2018-01-15  Monday       60\n",
      "           2018-01-16  Tuesday      48\n",
      "           2018-01-17  Wednesday    31\n",
      "           2018-01-18  Thursday     35\n",
      "           2018-01-19  Friday       48\n",
      "           2018-01-20  Saturday     10\n",
      "           2018-01-22  Monday       47\n",
      "           2018-01-23  Tuesday      48\n",
      "           2018-01-24  Wednesday    53\n",
      "           2018-01-25  Thursday     36\n",
      "           2018-01-26  Friday       70\n",
      "           2018-01-27  Saturday     16\n",
      "           2018-01-29  Monday       48\n",
      "           2018-01-30  Tuesday      50\n",
      "           2018-01-31  Wednesday    31\n",
      "           2018-02-01  Thursday     49\n",
      "           2018-02-02  Friday       69\n",
      "           2018-02-03  Saturday     20\n",
      "                                    ..\n",
      "91         2018-05-19  Saturday      2\n",
      "           2018-05-21  Monday       17\n",
      "           2018-05-22  Tuesday      10\n",
      "           2018-05-23  Wednesday    15\n",
      "           2018-05-24  Thursday     25\n",
      "           2018-05-25  Friday        2\n",
      "           2018-05-26  Saturday      5\n",
      "           2018-05-28  Monday        4\n",
      "           2018-05-29  Tuesday       6\n",
      "           2018-05-30  Wednesday    16\n",
      "           2018-05-31  Thursday     17\n",
      "           2018-06-01  Friday       16\n",
      "           2018-06-02  Saturday      6\n",
      "           2018-06-04  Monday       34\n",
      "           2018-06-05  Tuesday      27\n",
      "           2018-06-06  Wednesday    24\n",
      "           2018-06-07  Thursday     17\n",
      "           2018-06-08  Friday       14\n",
      "           2018-06-09  Saturday     13\n",
      "           2018-06-11  Monday       37\n",
      "           2018-06-12  Tuesday       7\n",
      "           2018-06-13  Wednesday    23\n",
      "           2018-06-14  Thursday      1\n",
      "92         2018-05-28  Monday        3\n",
      "           2018-05-29  Tuesday       1\n",
      "           2018-05-31  Thursday      1\n",
      "           2018-06-05  Tuesday       1\n",
      "           2018-06-06  Wednesday     1\n",
      "           2018-06-11  Monday        2\n",
      "           2018-06-12  Tuesday       2\n",
      "Length: 11628, dtype: int64\n"
     ]
    }
   ],
   "source": [
    "week_data = reducedData.groupby(['id_cuadra','fecha','dia']).size()\n",
    "\n",
    "print(week_data)"
   ]
  },
  {
   "cell_type": "code",
   "execution_count": 14,
   "metadata": {},
   "outputs": [
    {
     "name": "stdout",
     "output_type": "stream",
     "text": [
      "id_cuadra  dia      \n",
      "1          Wednesday     2.000000\n",
      "2          Friday       55.739130\n",
      "           Monday       53.409091\n",
      "           Saturday     19.956522\n",
      "           Thursday     52.291667\n",
      "           Tuesday      54.173913\n",
      "           Wednesday    53.958333\n",
      "3          Friday       27.250000\n",
      "           Monday       28.300000\n",
      "           Saturday      8.333333\n",
      "           Thursday     27.954545\n",
      "           Tuesday      26.750000\n",
      "           Wednesday    30.869565\n",
      "4          Friday       65.681818\n",
      "           Monday       62.636364\n",
      "           Saturday     17.863636\n",
      "           Thursday     64.173913\n",
      "           Tuesday      56.347826\n",
      "           Wednesday    67.041667\n",
      "5          Friday       63.956522\n",
      "           Monday       63.826087\n",
      "           Saturday     19.608696\n",
      "           Thursday     66.708333\n",
      "           Tuesday      62.291667\n",
      "           Wednesday    72.625000\n",
      "6          Friday       70.100000\n",
      "           Monday       67.809524\n",
      "           Saturday     21.590909\n",
      "           Thursday     64.695652\n",
      "           Tuesday      54.130435\n",
      "                          ...    \n",
      "87         Tuesday       7.900000\n",
      "           Wednesday     8.409091\n",
      "88         Friday       11.900000\n",
      "           Monday       11.850000\n",
      "           Saturday      3.954545\n",
      "           Thursday     10.826087\n",
      "           Tuesday       9.190476\n",
      "           Wednesday    12.608696\n",
      "89         Friday       25.666667\n",
      "           Monday       31.150000\n",
      "           Saturday      4.952381\n",
      "           Thursday     28.956522\n",
      "           Tuesday      30.409091\n",
      "           Wednesday    31.043478\n",
      "90         Friday       12.904762\n",
      "           Monday       12.904762\n",
      "           Saturday      2.954545\n",
      "           Thursday     12.833333\n",
      "           Tuesday      13.666667\n",
      "           Wednesday    13.666667\n",
      "91         Friday       11.952381\n",
      "           Monday       14.772727\n",
      "           Saturday      3.863636\n",
      "           Thursday     13.695652\n",
      "           Tuesday      12.608696\n",
      "           Wednesday    14.782609\n",
      "92         Monday        2.500000\n",
      "           Thursday      1.000000\n",
      "           Tuesday       1.333333\n",
      "           Wednesday     1.000000\n",
      "Length: 539, dtype: float64\n",
      "id_cuadra  dia      \n",
      "1          Wednesday          NaN\n",
      "2          Friday       21.041555\n",
      "           Monday       26.030493\n",
      "           Saturday      7.276852\n",
      "           Thursday     21.521434\n",
      "           Tuesday      23.509480\n",
      "           Wednesday    16.630196\n",
      "3          Friday       12.430332\n",
      "           Monday       13.506723\n",
      "           Saturday      3.692334\n",
      "           Thursday     13.618885\n",
      "           Tuesday      12.838573\n",
      "           Wednesday    12.552813\n",
      "4          Friday       20.268170\n",
      "           Monday       29.833738\n",
      "           Saturday      7.630112\n",
      "           Thursday     22.153703\n",
      "           Tuesday      24.933746\n",
      "           Wednesday    16.214538\n",
      "5          Friday       27.849397\n",
      "           Monday       32.264042\n",
      "           Saturday      5.750408\n",
      "           Thursday     27.283502\n",
      "           Tuesday      27.301026\n",
      "           Wednesday    19.934267\n",
      "6          Friday       21.435092\n",
      "           Monday       27.299485\n",
      "           Saturday      8.307536\n",
      "           Thursday     23.322706\n",
      "           Tuesday      31.796661\n",
      "                          ...    \n",
      "87         Tuesday       3.796120\n",
      "           Wednesday     4.078505\n",
      "88         Friday        5.056523\n",
      "           Monday        3.815136\n",
      "           Saturday      2.359929\n",
      "           Thursday      4.802009\n",
      "           Tuesday       3.156249\n",
      "           Wednesday     4.570052\n",
      "89         Friday        8.974037\n",
      "           Monday       11.291706\n",
      "           Saturday      2.355338\n",
      "           Thursday     10.235758\n",
      "           Tuesday       9.520200\n",
      "           Wednesday     7.157185\n",
      "90         Friday        5.028964\n",
      "           Monday        4.288412\n",
      "           Saturday      1.557693\n",
      "           Thursday      5.529892\n",
      "           Tuesday       4.575296\n",
      "           Wednesday     4.468894\n",
      "91         Friday        4.128876\n",
      "           Monday        9.102233\n",
      "           Saturday      2.782521\n",
      "           Thursday      6.226299\n",
      "           Tuesday       5.890973\n",
      "           Wednesday     5.273920\n",
      "92         Monday        0.707107\n",
      "           Thursday           NaN\n",
      "           Tuesday       0.577350\n",
      "           Wednesday          NaN\n",
      "Length: 539, dtype: float64\n"
     ]
    }
   ],
   "source": [
    "week_data_mean = week_data.groupby(['id_cuadra', 'dia']).mean()\n",
    "week_data_std = week_data.groupby(['id_cuadra', 'dia']).std()\n",
    "\n",
    "print(week_data_mean)\n",
    "print(week_data_std)"
   ]
  },
  {
   "cell_type": "code",
   "execution_count": 15,
   "metadata": {},
   "outputs": [],
   "source": [
    "week_data_mean = week_data_mean.to_frame().reset_index()\n",
    "week_data_std = week_data_std.to_frame().reset_index()\n"
   ]
  },
  {
   "cell_type": "code",
   "execution_count": 16,
   "metadata": {},
   "outputs": [
    {
     "name": "stdout",
     "output_type": "stream",
     "text": [
      "['id_cuadra' 'dia' 0]\n"
     ]
    }
   ],
   "source": [
    "print(week_data_mean.columns.values)"
   ]
  },
  {
   "cell_type": "code",
   "execution_count": 17,
   "metadata": {},
   "outputs": [],
   "source": [
    "week_data_mean = week_data_mean.rename(columns = {0: 'Promedio cantidad estacionados'})\n",
    "week_data_std = week_data_std.rename(columns = {0: 'Desvio cantidad estacionados'})"
   ]
  },
  {
   "cell_type": "code",
   "execution_count": 18,
   "metadata": {},
   "outputs": [
    {
     "name": "stdout",
     "output_type": "stream",
     "text": [
      "     id_cuadra        dia  Promedio cantidad estacionados\n",
      "0            1  Wednesday                        2.000000\n",
      "1            2     Friday                       55.739130\n",
      "2            2     Monday                       53.409091\n",
      "3            2   Saturday                       19.956522\n",
      "4            2   Thursday                       52.291667\n",
      "5            2    Tuesday                       54.173913\n",
      "6            2  Wednesday                       53.958333\n",
      "7            3     Friday                       27.250000\n",
      "8            3     Monday                       28.300000\n",
      "9            3   Saturday                        8.333333\n",
      "10           3   Thursday                       27.954545\n",
      "11           3    Tuesday                       26.750000\n",
      "12           3  Wednesday                       30.869565\n",
      "13           4     Friday                       65.681818\n",
      "14           4     Monday                       62.636364\n",
      "15           4   Saturday                       17.863636\n",
      "16           4   Thursday                       64.173913\n",
      "17           4    Tuesday                       56.347826\n",
      "18           4  Wednesday                       67.041667\n",
      "19           5     Friday                       63.956522\n",
      "20           5     Monday                       63.826087\n",
      "21           5   Saturday                       19.608696\n",
      "22           5   Thursday                       66.708333\n",
      "23           5    Tuesday                       62.291667\n",
      "24           5  Wednesday                       72.625000\n",
      "25           6     Friday                       70.100000\n",
      "26           6     Monday                       67.809524\n",
      "27           6   Saturday                       21.590909\n",
      "28           6   Thursday                       64.695652\n",
      "29           6    Tuesday                       54.130435\n",
      "..         ...        ...                             ...\n",
      "509         87    Tuesday                        7.900000\n",
      "510         87  Wednesday                        8.409091\n",
      "511         88     Friday                       11.900000\n",
      "512         88     Monday                       11.850000\n",
      "513         88   Saturday                        3.954545\n",
      "514         88   Thursday                       10.826087\n",
      "515         88    Tuesday                        9.190476\n",
      "516         88  Wednesday                       12.608696\n",
      "517         89     Friday                       25.666667\n",
      "518         89     Monday                       31.150000\n",
      "519         89   Saturday                        4.952381\n",
      "520         89   Thursday                       28.956522\n",
      "521         89    Tuesday                       30.409091\n",
      "522         89  Wednesday                       31.043478\n",
      "523         90     Friday                       12.904762\n",
      "524         90     Monday                       12.904762\n",
      "525         90   Saturday                        2.954545\n",
      "526         90   Thursday                       12.833333\n",
      "527         90    Tuesday                       13.666667\n",
      "528         90  Wednesday                       13.666667\n",
      "529         91     Friday                       11.952381\n",
      "530         91     Monday                       14.772727\n",
      "531         91   Saturday                        3.863636\n",
      "532         91   Thursday                       13.695652\n",
      "533         91    Tuesday                       12.608696\n",
      "534         91  Wednesday                       14.782609\n",
      "535         92     Monday                        2.500000\n",
      "536         92   Thursday                        1.000000\n",
      "537         92    Tuesday                        1.333333\n",
      "538         92  Wednesday                        1.000000\n",
      "\n",
      "[539 rows x 3 columns]\n",
      "     id_cuadra        dia  Desvio cantidad estacionados\n",
      "0            1  Wednesday                           NaN\n",
      "1            2     Friday                     21.041555\n",
      "2            2     Monday                     26.030493\n",
      "3            2   Saturday                      7.276852\n",
      "4            2   Thursday                     21.521434\n",
      "5            2    Tuesday                     23.509480\n",
      "6            2  Wednesday                     16.630196\n",
      "7            3     Friday                     12.430332\n",
      "8            3     Monday                     13.506723\n",
      "9            3   Saturday                      3.692334\n",
      "10           3   Thursday                     13.618885\n",
      "11           3    Tuesday                     12.838573\n",
      "12           3  Wednesday                     12.552813\n",
      "13           4     Friday                     20.268170\n",
      "14           4     Monday                     29.833738\n",
      "15           4   Saturday                      7.630112\n",
      "16           4   Thursday                     22.153703\n",
      "17           4    Tuesday                     24.933746\n",
      "18           4  Wednesday                     16.214538\n",
      "19           5     Friday                     27.849397\n",
      "20           5     Monday                     32.264042\n",
      "21           5   Saturday                      5.750408\n",
      "22           5   Thursday                     27.283502\n",
      "23           5    Tuesday                     27.301026\n",
      "24           5  Wednesday                     19.934267\n",
      "25           6     Friday                     21.435092\n",
      "26           6     Monday                     27.299485\n",
      "27           6   Saturday                      8.307536\n",
      "28           6   Thursday                     23.322706\n",
      "29           6    Tuesday                     31.796661\n",
      "..         ...        ...                           ...\n",
      "509         87    Tuesday                      3.796120\n",
      "510         87  Wednesday                      4.078505\n",
      "511         88     Friday                      5.056523\n",
      "512         88     Monday                      3.815136\n",
      "513         88   Saturday                      2.359929\n",
      "514         88   Thursday                      4.802009\n",
      "515         88    Tuesday                      3.156249\n",
      "516         88  Wednesday                      4.570052\n",
      "517         89     Friday                      8.974037\n",
      "518         89     Monday                     11.291706\n",
      "519         89   Saturday                      2.355338\n",
      "520         89   Thursday                     10.235758\n",
      "521         89    Tuesday                      9.520200\n",
      "522         89  Wednesday                      7.157185\n",
      "523         90     Friday                      5.028964\n",
      "524         90     Monday                      4.288412\n",
      "525         90   Saturday                      1.557693\n",
      "526         90   Thursday                      5.529892\n",
      "527         90    Tuesday                      4.575296\n",
      "528         90  Wednesday                      4.468894\n",
      "529         91     Friday                      4.128876\n",
      "530         91     Monday                      9.102233\n",
      "531         91   Saturday                      2.782521\n",
      "532         91   Thursday                      6.226299\n",
      "533         91    Tuesday                      5.890973\n",
      "534         91  Wednesday                      5.273920\n",
      "535         92     Monday                      0.707107\n",
      "536         92   Thursday                           NaN\n",
      "537         92    Tuesday                      0.577350\n",
      "538         92  Wednesday                           NaN\n",
      "\n",
      "[539 rows x 3 columns]\n"
     ]
    }
   ],
   "source": [
    "print(week_data_mean)\n",
    "print(week_data_std)"
   ]
  },
  {
   "cell_type": "code",
   "execution_count": 19,
   "metadata": {},
   "outputs": [],
   "source": [
    "hour_data = reducedData"
   ]
  },
  {
   "cell_type": "markdown",
   "metadata": {},
   "source": [
    "# Elijo la cuadra sobre la que quiero ver los datos\n",
    "\n",
    "## Y agarro solo los datos promedio y error de la cuadra elegida."
   ]
  },
  {
   "cell_type": "code",
   "execution_count": 20,
   "metadata": {},
   "outputs": [
    {
     "name": "stdout",
     "output_type": "stream",
     "text": [
      "          dia  Promedio cantidad estacionados\n",
      "49     Friday                       46.826087\n",
      "50     Monday                       51.142857\n",
      "51   Saturday                       16.913043\n",
      "52   Thursday                       49.083333\n",
      "53    Tuesday                       49.130435\n",
      "54  Wednesday                       49.583333\n",
      "          dia  Desvio cantidad estacionados\n",
      "49     Friday                     18.512041\n",
      "50     Monday                     17.536493\n",
      "51   Saturday                      5.035447\n",
      "52   Thursday                     20.333987\n",
      "53    Tuesday                     19.749118\n",
      "54  Wednesday                     19.768039\n"
     ]
    }
   ],
   "source": [
    "from pandas.api.types import CategoricalDtype\n",
    "\n",
    "#DEBERIA ORDENAR POR DIA DE LA SEMANA, PERO NO PUDE\n",
    "\n",
    "#Se filtran solo los elementos de la cuadra elegida y se agrupan por dia de la semana\n",
    "#En caso de que se desee modificar la cuadra sobre la que se ve el grafico, modificar el valor de \"Cuadra\"\n",
    "\n",
    "cuadra = 10\n",
    "\n",
    "select_by_cuadra_mean = week_data_mean.loc[week_data_mean.id_cuadra == cuadra, ['dia', 'Promedio cantidad estacionados']]\n",
    "select_by_cuadra_std = week_data_std.loc[week_data_std.id_cuadra == cuadra, ['dia', 'Desvio cantidad estacionados']]\n",
    "print(select_by_cuadra_mean)\n",
    "print(select_by_cuadra_std)"
   ]
  },
  {
   "cell_type": "markdown",
   "metadata": {},
   "source": [
    "# Ahora voy para filtrar los datos por cada hora de cada dia.\n",
    "\n",
    "## Ya habiendo filtrado por cuadra, agarro la cantidad de estacionados que hay por cada hora en un dia.\n",
    "\n",
    "## Y saco el promedio de la cantidad de estacionados que hay por hora por dia de la semana (lun, mar...)"
   ]
  },
  {
   "cell_type": "code",
   "execution_count": 21,
   "metadata": {
    "scrolled": false
   },
   "outputs": [
    {
     "name": "stdout",
     "output_type": "stream",
     "text": [
      "fecha       hora  dia      \n",
      "2018-01-02  9     Tuesday       2\n",
      "            10    Tuesday       9\n",
      "            11    Tuesday      11\n",
      "            12    Tuesday       4\n",
      "            13    Tuesday       4\n",
      "            14    Tuesday       6\n",
      "            15    Tuesday       4\n",
      "            16    Tuesday       4\n",
      "            17    Tuesday      11\n",
      "            18    Tuesday       4\n",
      "            19    Tuesday       8\n",
      "2018-01-03  9     Wednesday     5\n",
      "            10    Wednesday    13\n",
      "            11    Wednesday     8\n",
      "            12    Wednesday     4\n",
      "            13    Wednesday     5\n",
      "            14    Wednesday     5\n",
      "            15    Wednesday     1\n",
      "            16    Wednesday     5\n",
      "            17    Wednesday     9\n",
      "            18    Wednesday     9\n",
      "            19    Wednesday     6\n",
      "            20    Wednesday     2\n",
      "2018-01-04  9     Thursday      6\n",
      "            10    Thursday     12\n",
      "            11    Thursday     12\n",
      "            12    Thursday     10\n",
      "            13    Thursday      7\n",
      "            14    Thursday      1\n",
      "            15    Thursday      4\n",
      "                               ..\n",
      "2018-06-11  11    Monday        5\n",
      "            12    Monday        9\n",
      "            13    Monday        7\n",
      "            14    Monday        8\n",
      "            15    Monday        5\n",
      "            16    Monday        4\n",
      "            17    Monday        5\n",
      "            18    Monday        1\n",
      "            19    Monday        5\n",
      "2018-06-12  10    Tuesday       5\n",
      "            13    Tuesday       2\n",
      "            14    Tuesday       2\n",
      "            15    Tuesday       3\n",
      "            16    Tuesday       1\n",
      "            17    Tuesday       4\n",
      "            18    Tuesday       4\n",
      "            19    Tuesday       2\n",
      "2018-06-13  9     Wednesday     3\n",
      "            10    Wednesday    14\n",
      "            11    Wednesday    11\n",
      "            12    Wednesday     3\n",
      "            13    Wednesday     9\n",
      "            14    Wednesday     4\n",
      "            15    Wednesday     1\n",
      "            16    Wednesday     7\n",
      "            17    Wednesday     9\n",
      "            18    Wednesday     6\n",
      "            19    Wednesday     7\n",
      "2018-06-14  9     Thursday      3\n",
      "            10    Thursday      2\n",
      "Length: 1335, dtype: int64\n"
     ]
    }
   ],
   "source": [
    "day_data = reducedData.loc[reducedData.id_cuadra == cuadra]\n",
    "day_data = day_data.groupby(['fecha', 'hora','dia']).size()\n",
    "\n",
    "\n",
    "print(day_data)"
   ]
  },
  {
   "cell_type": "code",
   "execution_count": 22,
   "metadata": {
    "scrolled": true
   },
   "outputs": [
    {
     "name": "stdout",
     "output_type": "stream",
     "text": [
      "hora  dia      \n",
      "1     Tuesday      1.000000\n",
      "7     Thursday     1.000000\n",
      "      Tuesday      1.000000\n",
      "      Wednesday    1.000000\n",
      "8     Friday       1.000000\n",
      "      Monday       1.285714\n",
      "      Saturday     1.142857\n",
      "      Thursday     1.428571\n",
      "      Tuesday      1.200000\n",
      "      Wednesday    1.250000\n",
      "9     Friday       3.105263\n",
      "      Monday       3.789474\n",
      "      Saturday     2.100000\n",
      "      Thursday     2.869565\n",
      "      Tuesday      2.450000\n",
      "      Wednesday    3.681818\n",
      "10    Friday       7.181818\n",
      "      Monday       7.380952\n",
      "      Saturday     5.260870\n",
      "      Thursday     7.869565\n",
      "      Tuesday      8.428571\n",
      "      Wednesday    7.954545\n",
      "11    Friday       6.428571\n",
      "      Monday       5.842105\n",
      "      Saturday     4.782609\n",
      "      Thursday     6.090909\n",
      "      Tuesday      7.000000\n",
      "      Wednesday    6.952381\n",
      "12    Friday       4.952381\n",
      "      Monday       5.650000\n",
      "                     ...   \n",
      "16    Tuesday      4.428571\n",
      "      Wednesday    4.095238\n",
      "17    Friday       4.428571\n",
      "      Monday       5.100000\n",
      "      Saturday     1.333333\n",
      "      Thursday     6.090909\n",
      "      Tuesday      5.380952\n",
      "      Wednesday    5.818182\n",
      "18    Friday       4.727273\n",
      "      Monday       4.550000\n",
      "      Saturday     1.333333\n",
      "      Thursday     4.913043\n",
      "      Tuesday      4.571429\n",
      "      Wednesday    4.850000\n",
      "19    Friday       3.700000\n",
      "      Monday       4.500000\n",
      "      Saturday     1.000000\n",
      "      Thursday     3.904762\n",
      "      Tuesday      3.250000\n",
      "      Wednesday    3.904762\n",
      "20    Friday       1.000000\n",
      "      Monday       1.666667\n",
      "      Saturday     1.000000\n",
      "      Thursday     1.000000\n",
      "      Tuesday      1.444444\n",
      "      Wednesday    1.714286\n",
      "21    Friday       1.333333\n",
      "      Thursday     1.000000\n",
      "      Wednesday    1.000000\n",
      "23    Thursday     3.000000\n",
      "Length: 86, dtype: float64\n"
     ]
    }
   ],
   "source": [
    "day_data = day_data.groupby(['hora','dia']).mean()\n",
    "print(day_data)"
   ]
  },
  {
   "cell_type": "code",
   "execution_count": 23,
   "metadata": {},
   "outputs": [
    {
     "name": "stdout",
     "output_type": "stream",
     "text": [
      "['hora' 'dia' 0]\n"
     ]
    }
   ],
   "source": [
    "day_data = day_data.to_frame().reset_index()\n",
    "\n",
    "print(day_data.columns.values)"
   ]
  },
  {
   "cell_type": "code",
   "execution_count": 24,
   "metadata": {},
   "outputs": [
    {
     "name": "stdout",
     "output_type": "stream",
     "text": [
      "['hora' 'dia' 'Promedio cantidad estacionados']\n"
     ]
    }
   ],
   "source": [
    "day_data = day_data.rename(columns = {0: 'Promedio cantidad estacionados'})\n",
    "\n",
    "print(day_data.columns.values)"
   ]
  },
  {
   "cell_type": "markdown",
   "metadata": {},
   "source": [
    "## Creo nuevas variables para cada dia de la semana"
   ]
  },
  {
   "cell_type": "code",
   "execution_count": 25,
   "metadata": {},
   "outputs": [],
   "source": [
    "mon_data = day_data.loc[day_data.dia == 'Monday']\n",
    "tue_data = day_data.loc[day_data.dia == 'Tuesday']\n",
    "wed_data = day_data.loc[day_data.dia == 'Wednesday']\n",
    "thur_data = day_data.loc[day_data.dia == 'Thursday']\n",
    "fri_data = day_data.loc[day_data.dia == 'Friday']\n",
    "sat_data = day_data.loc[day_data.dia == 'Saturday']\n",
    "#sun_data = day_data.loc[day_data.dia == 'Sunday']"
   ]
  },
  {
   "cell_type": "code",
   "execution_count": 26,
   "metadata": {
    "scrolled": true
   },
   "outputs": [
    {
     "name": "stdout",
     "output_type": "stream",
     "text": [
      "    hora     dia  Promedio cantidad estacionados\n",
      "5      8  Monday                        1.285714\n",
      "11     9  Monday                        3.789474\n",
      "17    10  Monday                        7.380952\n",
      "23    11  Monday                        5.842105\n",
      "29    12  Monday                        5.650000\n",
      "35    13  Monday                        4.736842\n",
      "41    14  Monday                        4.631579\n",
      "47    15  Monday                        2.944444\n",
      "53    16  Monday                        4.736842\n",
      "59    17  Monday                        5.100000\n",
      "65    18  Monday                        4.550000\n",
      "71    19  Monday                        4.500000\n",
      "77    20  Monday                        1.666667\n"
     ]
    }
   ],
   "source": [
    "print (mon_data)"
   ]
  },
  {
   "cell_type": "markdown",
   "metadata": {},
   "source": [
    "## Plot del grafico de barras (con error en rojo) de la cantidad de estacionados por dia de la semana en la cuadra pedida."
   ]
  },
  {
   "cell_type": "code",
   "execution_count": 29,
   "metadata": {},
   "outputs": [
    {
     "name": "stdout",
     "output_type": "stream",
     "text": [
      "['dia' 'Promedio cantidad estacionados']\n"
     ]
    },
    {
     "data": {
      "image/png": "[encoded data removed]",
      "text/plain": [
       "<Figure size 720x432 with 1 Axes>"
      ]
     },
     "metadata": {},
     "output_type": "display_data"
    }
   ],
   "source": [
    "import matplotlib.pyplot as plt\n",
    "\n",
    "plt.style.use('ggplot')\n",
    "plt.rcParams['figure.figsize'] = (10,6)\n",
    "\n",
    "\n",
    "\n",
    "#DESDE ACA LO UNICO QUE HAGO ES PARA QUE APAREZCAN ORDENADOS POR DIA\n",
    "days = ['Monday','Tuesday','Wednesday','Thursday','Friday','Saturday', 'Sunday']\n",
    "mapping = {day: i for i, day in enumerate(days)}\n",
    "key = select_by_cuadra_mean['dia'].map(mapping)\n",
    "select_by_cuadra_mean = select_by_cuadra_mean.iloc[key.argsort()].set_index('dia')\n",
    "\n",
    "select_by_cuadra_mean = select_by_cuadra_mean.reset_index()\n",
    "print(select_by_cuadra_mean.columns.values)\n",
    "select_by_cuadra_mean = select_by_cuadra_mean.rename(columns = {0: 'Promedio cantidad estacionados'})\n",
    "#HASTA ACA\n",
    "\n",
    "daysOfTheWeek = select_by_cuadra_mean['dia'] # es lo mismo para el STD\n",
    "\n",
    "x_pos = [i for i, _ in enumerate(daysOfTheWeek)]\n",
    "\n",
    "plt.bar(x_pos, select_by_cuadra_mean['Promedio cantidad estacionados'], color='green')\n",
    "plt.errorbar(x_pos, select_by_cuadra_mean['Promedio cantidad estacionados'], select_by_cuadra_std['Desvio cantidad estacionados'], linestyle='None', color='red')\n",
    "plt.xlabel(\"Days of the week\")\n",
    "plt.ylabel(\"Average parked cars\")\n",
    "plt.title(\"Parked cars by days in street nº{}\".format(cuadra))\n",
    "\n",
    "plt.xticks(x_pos, daysOfTheWeek)\n",
    "\n",
    "plt.show()\n"
   ]
  },
  {
   "cell_type": "markdown",
   "metadata": {},
   "source": [
    "## Hago un grafico de linea con los datos de la cantidad de estacionados por cada hora (un grafico por cada dia)"
   ]
  },
  {
   "cell_type": "code",
   "execution_count": 28,
   "metadata": {},
   "outputs": [
    {
     "name": "stdout",
     "output_type": "stream",
     "text": [
      "    hora      dia  Promedio cantidad estacionados\n",
      "20    10  Tuesday                        8.428571\n"
     ]
    },
    {
     "data": {
      "image/png": "[encoded data removed]",
      "text/plain": [
       "<Figure size 720x216 with 1 Axes>"
      ]
     },
     "metadata": {
      "needs_background": "light"
     },
     "output_type": "display_data"
    },
    {
     "data": {
      "image/png": "[encoded data removed]",
      "text/plain": [
       "<Figure size 720x216 with 1 Axes>"
      ]
     },
     "metadata": {
      "needs_background": "light"
     },
     "output_type": "display_data"
    },
    {
     "data": {
      "image/png": "[encoded data removed]",
      "text/plain": [
       "<Figure size 720x216 with 1 Axes>"
      ]
     },
     "metadata": {
      "needs_background": "light"
     },
     "output_type": "display_data"
    },
    {
     "data": {
      "image/png": "[encoded data removed]",
      "text/plain": [
       "<Figure size 720x216 with 1 Axes>"
      ]
     },
     "metadata": {
      "needs_background": "light"
     },
     "output_type": "display_data"
    },
    {
     "data": {
      "image/png": "[encoded data removed]",
      "text/plain": [
       "<Figure size 720x216 with 1 Axes>"
      ]
     },
     "metadata": {
      "needs_background": "light"
     },
     "output_type": "display_data"
    },
    {
     "data": {
      "image/png": "[encoded data removed]",
      "text/plain": [
       "<Figure size 720x216 with 1 Axes>"
      ]
     },
     "metadata": {
      "needs_background": "light"
     },
     "output_type": "display_data"
    }
   ],
   "source": [
    "from scipy.interpolate import make_interp_spline, BSpline\n",
    "import numpy as np\n",
    "\n",
    "plt.rcParams['figure.figsize'] = (10,3)\n",
    "time = np.linspace(mon_data.hora.min(),mon_data.hora.max(), 200) #300 represents number of points to make between T.min and T.max\n",
    "\n",
    "def plotDayGraph( day_data,  day, max_data_for_fake_plot):   \n",
    "    plt.xlabel(\"Hours of the day\")\n",
    "    plt.ylabel(\"Average parked cars\")\n",
    "    plt.title(\"Parked cars by hour in street nº{} on {}\".format(cuadra,day))    \n",
    "    plot_fake = make_interp_spline(max_data_for_fake_plot.hora, max_data_for_fake_plot['Promedio cantidad estacionados'], k=1)(time) #BSpline object\n",
    "    plot = make_interp_spline(day_data.hora, day_data['Promedio cantidad estacionados'], k=2)(time) #BSpline object\n",
    "    axes = plt.gca()\n",
    "    axes.set_xlim([7,21])\n",
    "    #axes.set_ylim([0, day_data['Promedio cantidad estacionados'].max()+1])\n",
    "    plt.plot(time, plot_fake, alpha=0.0)\n",
    "    plt.plot(time, plot)\n",
    "    plt.show()\n",
    "\n",
    "max_value = day_data.loc[day_data['Promedio cantidad estacionados'] == day_data['Promedio cantidad estacionados'].max()]\n",
    "print(max_value)\n",
    "if max_value.dia.iloc[0] == 'Monday':\n",
    "    max_data_for_fake_plot = mon_data\n",
    "elif max_value.dia.iloc[0] == 'Tuesday':\n",
    "    max_data_for_fake_plot = tue_data\n",
    "elif (max_value.dia.iloc[0] == 'Wednesday'):\n",
    "    max_data_for_fake_plot = wed_data\n",
    "elif (max_value.dia.iloc[0] == 'Thursday'):\n",
    "    max_data_for_fake_plot = thur_data\n",
    "elif (max_value.dia.iloc[0] == 'Friday'):\n",
    "    max_data_for_fake_plot = fri_data\n",
    "elif (max_value.dia.iloc[0] == 'Saturday'):\n",
    "    max_data_for_fake_plot = sat_data\n",
    "#elif (max_value.dia.iloc[0] == 'Sunday'):\n",
    "#    max_data_for_fake_plot = sun_data\n",
    "    \n",
    "    \n",
    "    \n",
    "plotDayGraph(mon_data,'Monday', max_data_for_fake_plot)\n",
    "plotDayGraph(tue_data,'Tuesday', max_data_for_fake_plot)\n",
    "plotDayGraph(wed_data,'Wednesday', max_data_for_fake_plot)\n",
    "plotDayGraph(thur_data,'Thursday', max_data_for_fake_plot)\n",
    "plotDayGraph(fri_data,'Friday', max_data_for_fake_plot)\n",
    "plotDayGraph(sat_data,'Saturday', max_data_for_fake_plot)\n",
    "#plotDayGraph(sun_data,'Sunday', max_data_for_fake_plot)"
   ]
  },
  {
   "cell_type": "markdown",
   "metadata": {},
   "source": [
    "# Predigo las cuadras con mas probabilidad de encontrar estacionamiento dada una hora y un dia."
   ]
  },
  {
   "cell_type": "code",
   "execution_count": null,
   "metadata": {},
   "outputs": [],
   "source": []
  }
 ],
 "metadata": {
  "kernelspec": {
   "display_name": "Python 3",
   "language": "python",
   "name": "python3"
  },
  "language_info": {
   "codemirror_mode": {
    "name": "ipython",
    "version": 3
   },
   "file_extension": ".py",
   "mimetype": "text/x-python",
   "name": "python",
   "nbconvert_exporter": "python",
   "pygments_lexer": "ipython3",
   "version": "3.7.3"
  }
 },
 "nbformat": 4,
 "nbformat_minor": 2
}
