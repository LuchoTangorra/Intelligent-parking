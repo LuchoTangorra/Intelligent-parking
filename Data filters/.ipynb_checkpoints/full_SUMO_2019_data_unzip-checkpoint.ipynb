{
 "cells": [
  {
   "cell_type": "code",
   "execution_count": 3,
   "metadata": {
    "ExecuteTime": {
     "end_time": "2020-02-03T19:36:15.624772Z",
     "start_time": "2020-02-03T19:36:15.619785Z"
    }
   },
   "outputs": [],
   "source": [
    "import os\n",
    "import zipfile\n",
    "import pandas as pd\n",
    "import numpy as np\n",
    "from IPython.display import display, HTML, clear_output\n",
    "from datetime import datetime\n",
    "import shutil"
   ]
  },
  {
   "cell_type": "code",
   "execution_count": null,
   "metadata": {
    "ExecuteTime": {
     "start_time": "2020-02-03T19:36:40.052Z"
    }
   },
   "outputs": [
    {
     "name": "stdout",
     "output_type": "stream",
     "text": [
      "C:\\Users\\ing_l\\Tesis grado\\Data\\SUMO\\04- Abril\n",
      "CLEARING_ESTACIONAMIENTO_MEDIDO_DIA_01_04_2019.zip\n",
      "CLEARING_ESTACIONAMIENTO_MEDIDO_DIA_02_04_2019.zip\n",
      "CLEARING_ESTACIONAMIENTO_MEDIDO_DIA_03_04_2019.zip\n",
      "CLEARING_ESTACIONAMIENTO_MEDIDO_DIA_04_04_2019.zip\n",
      "CLEARING_ESTACIONAMIENTO_MEDIDO_DIA_05_04_2019.zip\n",
      "CLEARING_ESTACIONAMIENTO_MEDIDO_DIA_06_04_2019.zip\n",
      "CLEARING_ESTACIONAMIENTO_MEDIDO_DIA_07_04_2019.zip\n",
      "CLEARING_ESTACIONAMIENTO_MEDIDO_DIA_08_04_2019.zip\n",
      "CLEARING_ESTACIONAMIENTO_MEDIDO_DIA_09_04_2019.zip\n",
      "CLEARING_ESTACIONAMIENTO_MEDIDO_DIA_10_04_2019.zip\n",
      "CLEARING_ESTACIONAMIENTO_MEDIDO_DIA_11_04_2019.zip\n",
      "CLEARING_ESTACIONAMIENTO_MEDIDO_DIA_12_04_2019.zip\n",
      "CLEARING_ESTACIONAMIENTO_MEDIDO_DIA_13_04_2019.zip\n",
      "CLEARING_ESTACIONAMIENTO_MEDIDO_DIA_14_04_2019.zip\n",
      "CLEARING_ESTACIONAMIENTO_MEDIDO_DIA_15_04_2019.zip\n",
      "CLEARING_ESTACIONAMIENTO_MEDIDO_DIA_16_04_2019.zip\n",
      "CLEARING_ESTACIONAMIENTO_MEDIDO_DIA_17_04_2019.zip\n",
      "CLEARING_ESTACIONAMIENTO_MEDIDO_DIA_18_04_2019.zip\n",
      "CLEARING_ESTACIONAMIENTO_MEDIDO_DIA_19_04_2019.zip\n",
      "CLEARING_ESTACIONAMIENTO_MEDIDO_DIA_20_04_2019.zip\n",
      "CLEARING_ESTACIONAMIENTO_MEDIDO_DIA_21_04_2019.zip\n",
      "CLEARING_ESTACIONAMIENTO_MEDIDO_DIA_22_04_2019.zip\n",
      "CLEARING_ESTACIONAMIENTO_MEDIDO_DIA_23_04_2019.zip\n",
      "CLEARING_ESTACIONAMIENTO_MEDIDO_DIA_24_04_2019.zip\n",
      "CLEARING_ESTACIONAMIENTO_MEDIDO_DIA_25_04_2019.zip\n",
      "CLEARING_ESTACIONAMIENTO_MEDIDO_DIA_26_04_2019.zip\n",
      "CLEARING_ESTACIONAMIENTO_MEDIDO_DIA_27_04_2019.zip\n",
      "CLEARING_ESTACIONAMIENTO_MEDIDO_DIA_28_04_2019.zip\n",
      "CLEARING_ESTACIONAMIENTO_MEDIDO_DIA_29_04_2019.zip\n",
      "CLEARING_ESTACIONAMIENTO_MEDIDO_DIA_30_04_2019.zip\n"
     ]
    }
   ],
   "source": [
    "def get_date(d):\n",
    "    return d[:10]\n",
    "\n",
    "def get_time(d):\n",
    "    return d[12:-1]\n",
    "\n",
    "def encode_operation(o):\n",
    "    if 'SALIDA' in o or 'CIERRE' in o:\n",
    "        return 0\n",
    "    elif 'INGRESO' in o:\n",
    "        return 1\n",
    "    return -1\n",
    "\n",
    "data_path = r'C:\\Users\\ing_l\\Tesis grado\\Data\\SUMO'\n",
    "directories = [x[0] for x in os.walk(data_path)]\n",
    "directories = directories[1:]\n",
    "\n",
    "data = pd.DataFrame(columns=['parquimetro', 'fecha_emision', 'tiempo_emision', 'operacion', 'tiempo_estacionado', 'direccion', 'latitud', 'longitud'])\n",
    "for d in directories:\n",
    "    clear_output()\n",
    "    print(d)\n",
    "    os.chdir(d)\n",
    "    files = [x[2] for x in os.walk(d)][0]\n",
    "    #print(files)\n",
    "    for f in files:\n",
    "        print(f)\n",
    "        zf = zipfile.ZipFile(f)\n",
    "        detalle = zf.namelist()[0]\n",
    "        zf.extract(detalle)\n",
    "        os.chdir(d + '\\\\DETALLE')\n",
    "        file_name = detalle[8:]\n",
    "        os.system('\"C:\\\\Program Files\\\\LibreOffice\\\\program\\\\soffice\" --headless --convert-to xlsx {}'.format(file_name))\n",
    "        df = pd.read_excel(d + '\\\\DETALLE' + '\\\\' + file_name + 'x')\n",
    "        df.columns = df[2:].iloc[0]\n",
    "        df.columns.name = ''\n",
    "        df = df[3:].reset_index(drop=True)\n",
    "        if not pd.isna(df.columns[0]):\n",
    "            df_to = df.loc[df['Parquímetro'] == 'Parquímetro'].index[0]\n",
    "            df = df[:df_to]\n",
    "            df.dropna(inplace=True)\n",
    "            df['fecha_emision'] = df['Fecha Emisión'].apply(get_date)\n",
    "            df['tiempo_emision'] = df['Fecha Emisión'].apply(get_time)\n",
    "            df['Operación'] = df['Operación'].apply(encode_operation)\n",
    "            df = df[['Parquímetro', 'fecha_emision', 'tiempo_emision', 'Operación', 'Tiempo Estacionamiento', 'Dirección', 'Latitud', 'Longitud']]\n",
    "            df.rename(columns={'Parquímetro': 'parquimetro',\n",
    "                              'Operación': 'operacion',\n",
    "                              'Tiempo Estacionamiento': 'tiempo_estacionado',\n",
    "                              'Dirección': 'direccion',\n",
    "                              'Latitud': 'latitud',\n",
    "                              'Longitud': 'longitud'}, inplace=True)\n",
    "            data = data.append(df, ignore_index=True)\n",
    "        zf.close()\n",
    "        os.chdir(d)\n",
    "        shutil.rmtree(d + '\\\\DETALLE')"
   ]
  },
  {
   "cell_type": "code",
   "execution_count": null,
   "metadata": {
    "ExecuteTime": {
     "start_time": "2020-02-03T19:36:52.260Z"
    }
   },
   "outputs": [],
   "source": [
    "data.to_csv(r'C:\\Users\\ing_l\\Tesis grado\\Data\\SUMO\\full_SUMO_data.csv', index=False)"
   ]
  },
  {
   "cell_type": "code",
   "execution_count": null,
   "metadata": {
    "ExecuteTime": {
     "start_time": "2020-02-03T19:36:52.493Z"
    }
   },
   "outputs": [],
   "source": [
    "data"
   ]
  },
  {
   "cell_type": "code",
   "execution_count": null,
   "metadata": {
    "ExecuteTime": {
     "start_time": "2020-02-03T19:36:55.014Z"
    }
   },
   "outputs": [],
   "source": [
    "full_sumo_data_path = r'C:\\Users\\ing_l\\Tesis grado\\Data\\SUMO\\full_SUMO_data.csv'\n",
    "data = pd.read_csv(full_sumo_data_path)\n",
    "data.loc[data.operacion == -1]"
   ]
  },
  {
   "cell_type": "code",
   "execution_count": null,
   "metadata": {},
   "outputs": [],
   "source": []
  }
 ],
 "metadata": {
  "kernelspec": {
   "display_name": "Python 3",
   "language": "python",
   "name": "python3"
  },
  "language_info": {
   "codemirror_mode": {
    "name": "ipython",
    "version": 3
   },
   "file_extension": ".py",
   "mimetype": "text/x-python",
   "name": "python",
   "nbconvert_exporter": "python",
   "pygments_lexer": "ipython3",
   "version": "3.7.3"
  }
 },
 "nbformat": 4,
 "nbformat_minor": 2
}
