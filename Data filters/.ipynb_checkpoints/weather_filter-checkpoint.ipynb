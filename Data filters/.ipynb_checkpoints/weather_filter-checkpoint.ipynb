{
 "cells": [
  {
   "cell_type": "code",
   "execution_count": 1,
   "metadata": {
    "ExecuteTime": {
     "end_time": "2020-01-06T14:59:04.245356Z",
     "start_time": "2020-01-06T14:59:00.937101Z"
    }
   },
   "outputs": [],
   "source": [
    "import pandas as pd\n",
    "\n",
    "weather_path = r'C:\\Users\\ing_l\\Tesis grado\\Data\\Weather data\\tandil.csv'"
   ]
  },
  {
   "cell_type": "code",
   "execution_count": 2,
   "metadata": {
    "ExecuteTime": {
     "end_time": "2020-01-06T14:59:04.283861Z",
     "start_time": "2020-01-06T14:59:04.245356Z"
    }
   },
   "outputs": [],
   "source": [
    "weather_data = pd.read_csv(weather_path)"
   ]
  },
  {
   "cell_type": "code",
   "execution_count": 3,
   "metadata": {
    "ExecuteTime": {
     "end_time": "2020-01-06T14:59:05.251734Z",
     "start_time": "2020-01-06T14:59:05.234779Z"
    }
   },
   "outputs": [
    {
     "data": {
      "text/plain": [
       "date_time            2019-01-02 09:00:00\n",
       "maxtempC                              30\n",
       "mintempC                              20\n",
       "totalSnow_cm                           0\n",
       "sunHour                             10.3\n",
       "uvIndex                                1\n",
       "uvIndex.1                              1\n",
       "moon_illumination                     19\n",
       "moonrise                        03:12 AM\n",
       "moonset                         05:22 PM\n",
       "sunrise                         05:41 AM\n",
       "sunset                          08:20 PM\n",
       "DewPointC                             21\n",
       "FeelsLikeC                            26\n",
       "HeatIndexC                            26\n",
       "WindChillC                            23\n",
       "WindGustKmph                          15\n",
       "cloudcover                           100\n",
       "humidity                              87\n",
       "precipMM                               0\n",
       "pressure                            1007\n",
       "tempC                                 23\n",
       "visibility                            10\n",
       "winddirDegree                        104\n",
       "windspeedKmph                         13\n",
       "Name: 11, dtype: object"
      ]
     },
     "execution_count": 3,
     "metadata": {},
     "output_type": "execute_result"
    }
   ],
   "source": [
    "weather_data.iloc[11]"
   ]
  },
  {
   "cell_type": "code",
   "execution_count": 4,
   "metadata": {
    "ExecuteTime": {
     "end_time": "2020-01-06T14:59:05.770986Z",
     "start_time": "2020-01-06T14:59:05.763008Z"
    }
   },
   "outputs": [],
   "source": [
    "weather_data = weather_data[['date_time', 'FeelsLikeC', 'precipMM', 'windspeedKmph']]"
   ]
  },
  {
   "cell_type": "code",
   "execution_count": 5,
   "metadata": {
    "ExecuteTime": {
     "end_time": "2020-01-06T14:59:06.491509Z",
     "start_time": "2020-01-06T14:59:06.473560Z"
    }
   },
   "outputs": [
    {
     "data": {
      "text/html": [
       "<div>\n",
       "<style scoped>\n",
       "    .dataframe tbody tr th:only-of-type {\n",
       "        vertical-align: middle;\n",
       "    }\n",
       "\n",
       "    .dataframe tbody tr th {\n",
       "        vertical-align: top;\n",
       "    }\n",
       "\n",
       "    .dataframe thead th {\n",
       "        text-align: right;\n",
       "    }\n",
       "</style>\n",
       "<table border=\"1\" class=\"dataframe\">\n",
       "  <thead>\n",
       "    <tr style=\"text-align: right;\">\n",
       "      <th></th>\n",
       "      <th>date_time</th>\n",
       "      <th>FeelsLikeC</th>\n",
       "      <th>precipMM</th>\n",
       "      <th>windspeedKmph</th>\n",
       "    </tr>\n",
       "  </thead>\n",
       "  <tbody>\n",
       "    <tr>\n",
       "      <td>0</td>\n",
       "      <td>2019-01-01 00:00:00</td>\n",
       "      <td>16</td>\n",
       "      <td>1.7</td>\n",
       "      <td>15</td>\n",
       "    </tr>\n",
       "    <tr>\n",
       "      <td>1</td>\n",
       "      <td>2019-01-01 03:00:00</td>\n",
       "      <td>14</td>\n",
       "      <td>3.1</td>\n",
       "      <td>10</td>\n",
       "    </tr>\n",
       "    <tr>\n",
       "      <td>2</td>\n",
       "      <td>2019-01-01 06:00:00</td>\n",
       "      <td>15</td>\n",
       "      <td>0.2</td>\n",
       "      <td>8</td>\n",
       "    </tr>\n",
       "    <tr>\n",
       "      <td>3</td>\n",
       "      <td>2019-01-01 09:00:00</td>\n",
       "      <td>25</td>\n",
       "      <td>0.2</td>\n",
       "      <td>13</td>\n",
       "    </tr>\n",
       "    <tr>\n",
       "      <td>4</td>\n",
       "      <td>2019-01-01 12:00:00</td>\n",
       "      <td>30</td>\n",
       "      <td>0.0</td>\n",
       "      <td>12</td>\n",
       "    </tr>\n",
       "    <tr>\n",
       "      <td>...</td>\n",
       "      <td>...</td>\n",
       "      <td>...</td>\n",
       "      <td>...</td>\n",
       "      <td>...</td>\n",
       "    </tr>\n",
       "    <tr>\n",
       "      <td>3163</td>\n",
       "      <td>2019-12-31 09:00:00</td>\n",
       "      <td>20</td>\n",
       "      <td>0.0</td>\n",
       "      <td>15</td>\n",
       "    </tr>\n",
       "    <tr>\n",
       "      <td>3164</td>\n",
       "      <td>2019-12-31 12:00:00</td>\n",
       "      <td>22</td>\n",
       "      <td>0.1</td>\n",
       "      <td>8</td>\n",
       "    </tr>\n",
       "    <tr>\n",
       "      <td>3165</td>\n",
       "      <td>2019-12-31 15:00:00</td>\n",
       "      <td>27</td>\n",
       "      <td>0.3</td>\n",
       "      <td>13</td>\n",
       "    </tr>\n",
       "    <tr>\n",
       "      <td>3166</td>\n",
       "      <td>2019-12-31 18:00:00</td>\n",
       "      <td>26</td>\n",
       "      <td>0.0</td>\n",
       "      <td>13</td>\n",
       "    </tr>\n",
       "    <tr>\n",
       "      <td>3167</td>\n",
       "      <td>2019-12-31 21:00:00</td>\n",
       "      <td>20</td>\n",
       "      <td>0.0</td>\n",
       "      <td>12</td>\n",
       "    </tr>\n",
       "  </tbody>\n",
       "</table>\n",
       "<p>3168 rows × 4 columns</p>\n",
       "</div>"
      ],
      "text/plain": [
       "                date_time  FeelsLikeC  precipMM  windspeedKmph\n",
       "0     2019-01-01 00:00:00          16       1.7             15\n",
       "1     2019-01-01 03:00:00          14       3.1             10\n",
       "2     2019-01-01 06:00:00          15       0.2              8\n",
       "3     2019-01-01 09:00:00          25       0.2             13\n",
       "4     2019-01-01 12:00:00          30       0.0             12\n",
       "...                   ...         ...       ...            ...\n",
       "3163  2019-12-31 09:00:00          20       0.0             15\n",
       "3164  2019-12-31 12:00:00          22       0.1              8\n",
       "3165  2019-12-31 15:00:00          27       0.3             13\n",
       "3166  2019-12-31 18:00:00          26       0.0             13\n",
       "3167  2019-12-31 21:00:00          20       0.0             12\n",
       "\n",
       "[3168 rows x 4 columns]"
      ]
     },
     "execution_count": 5,
     "metadata": {},
     "output_type": "execute_result"
    }
   ],
   "source": [
    "weather_data"
   ]
  },
  {
   "cell_type": "code",
   "execution_count": 6,
   "metadata": {
    "ExecuteTime": {
     "end_time": "2020-01-06T14:59:09.974935Z",
     "start_time": "2020-01-06T14:59:09.327859Z"
    }
   },
   "outputs": [],
   "source": [
    "def get_date(d):\n",
    "    date = pd.to_datetime(d).date()\n",
    "    return date\n",
    "\n",
    "def get_time(t):\n",
    "    time = pd.to_datetime(t).time()\n",
    "    return time\n",
    "\n",
    "weather_data['date'] = weather_data['date_time'].apply(get_date)\n",
    "weather_data['time'] = weather_data['date_time'].apply(get_time)\n",
    "weather_data.drop('date_time', axis=1, inplace=True)"
   ]
  },
  {
   "cell_type": "code",
   "execution_count": 105,
   "metadata": {
    "ExecuteTime": {
     "end_time": "2020-01-05T19:28:58.886156Z",
     "start_time": "2020-01-05T19:28:58.875422Z"
    }
   },
   "outputs": [
    {
     "data": {
      "text/plain": [
       "array([False, False,  True, ...,  True,  True,  True])"
      ]
     },
     "execution_count": 105,
     "metadata": {},
     "output_type": "execute_result"
    }
   ],
   "source": [
    "prohibited_values = [pd.to_datetime('2019-01-01 00:00:00').time(), pd.to_datetime('2019-01-01 03:00:00').time()]\n",
    "hour_values = weather_data.time.values \n",
    "hour_values = (hour_values != prohibited_values[0]) & (hour_values != prohibited_values[1])\n",
    "hour_values\n",
    "#weather_data = weather_data.loc[weather_data.time.hour != 0]"
   ]
  },
  {
   "cell_type": "code",
   "execution_count": 106,
   "metadata": {
    "ExecuteTime": {
     "end_time": "2020-01-05T19:28:58.900116Z",
     "start_time": "2020-01-05T19:28:58.892138Z"
    }
   },
   "outputs": [],
   "source": [
    "weather_data = weather_data[hour_values]"
   ]
  },
  {
   "cell_type": "code",
   "execution_count": 107,
   "metadata": {
    "ExecuteTime": {
     "end_time": "2020-01-05T19:28:58.933029Z",
     "start_time": "2020-01-05T19:28:58.902113Z"
    }
   },
   "outputs": [],
   "source": [
    "weather_data.to_csv(r'C:\\Users\\ing_l\\Tesis grado\\Data\\Weather data\\tandil_filtered.csv')"
   ]
  },
  {
   "cell_type": "code",
   "execution_count": 108,
   "metadata": {
    "ExecuteTime": {
     "end_time": "2020-01-05T19:28:59.167403Z",
     "start_time": "2020-01-05T19:28:59.151446Z"
    }
   },
   "outputs": [
    {
     "data": {
      "text/html": [
       "<div>\n",
       "<style scoped>\n",
       "    .dataframe tbody tr th:only-of-type {\n",
       "        vertical-align: middle;\n",
       "    }\n",
       "\n",
       "    .dataframe tbody tr th {\n",
       "        vertical-align: top;\n",
       "    }\n",
       "\n",
       "    .dataframe thead th {\n",
       "        text-align: right;\n",
       "    }\n",
       "</style>\n",
       "<table border=\"1\" class=\"dataframe\">\n",
       "  <thead>\n",
       "    <tr style=\"text-align: right;\">\n",
       "      <th></th>\n",
       "      <th>FeelsLikeC</th>\n",
       "      <th>precipMM</th>\n",
       "      <th>windspeedKmph</th>\n",
       "      <th>date</th>\n",
       "      <th>time</th>\n",
       "    </tr>\n",
       "  </thead>\n",
       "  <tbody>\n",
       "    <tr>\n",
       "      <td>2</td>\n",
       "      <td>15</td>\n",
       "      <td>0.2</td>\n",
       "      <td>8</td>\n",
       "      <td>2019-01-01</td>\n",
       "      <td>06:00:00</td>\n",
       "    </tr>\n",
       "    <tr>\n",
       "      <td>3</td>\n",
       "      <td>25</td>\n",
       "      <td>0.2</td>\n",
       "      <td>13</td>\n",
       "      <td>2019-01-01</td>\n",
       "      <td>09:00:00</td>\n",
       "    </tr>\n",
       "    <tr>\n",
       "      <td>4</td>\n",
       "      <td>30</td>\n",
       "      <td>0.0</td>\n",
       "      <td>12</td>\n",
       "      <td>2019-01-01</td>\n",
       "      <td>12:00:00</td>\n",
       "    </tr>\n",
       "    <tr>\n",
       "      <td>5</td>\n",
       "      <td>33</td>\n",
       "      <td>0.0</td>\n",
       "      <td>10</td>\n",
       "      <td>2019-01-01</td>\n",
       "      <td>15:00:00</td>\n",
       "    </tr>\n",
       "    <tr>\n",
       "      <td>6</td>\n",
       "      <td>31</td>\n",
       "      <td>1.7</td>\n",
       "      <td>3</td>\n",
       "      <td>2019-01-01</td>\n",
       "      <td>18:00:00</td>\n",
       "    </tr>\n",
       "    <tr>\n",
       "      <td>...</td>\n",
       "      <td>...</td>\n",
       "      <td>...</td>\n",
       "      <td>...</td>\n",
       "      <td>...</td>\n",
       "      <td>...</td>\n",
       "    </tr>\n",
       "    <tr>\n",
       "      <td>3163</td>\n",
       "      <td>20</td>\n",
       "      <td>0.0</td>\n",
       "      <td>15</td>\n",
       "      <td>2019-12-31</td>\n",
       "      <td>09:00:00</td>\n",
       "    </tr>\n",
       "    <tr>\n",
       "      <td>3164</td>\n",
       "      <td>22</td>\n",
       "      <td>0.1</td>\n",
       "      <td>8</td>\n",
       "      <td>2019-12-31</td>\n",
       "      <td>12:00:00</td>\n",
       "    </tr>\n",
       "    <tr>\n",
       "      <td>3165</td>\n",
       "      <td>27</td>\n",
       "      <td>0.3</td>\n",
       "      <td>13</td>\n",
       "      <td>2019-12-31</td>\n",
       "      <td>15:00:00</td>\n",
       "    </tr>\n",
       "    <tr>\n",
       "      <td>3166</td>\n",
       "      <td>26</td>\n",
       "      <td>0.0</td>\n",
       "      <td>13</td>\n",
       "      <td>2019-12-31</td>\n",
       "      <td>18:00:00</td>\n",
       "    </tr>\n",
       "    <tr>\n",
       "      <td>3167</td>\n",
       "      <td>20</td>\n",
       "      <td>0.0</td>\n",
       "      <td>12</td>\n",
       "      <td>2019-12-31</td>\n",
       "      <td>21:00:00</td>\n",
       "    </tr>\n",
       "  </tbody>\n",
       "</table>\n",
       "<p>2376 rows × 5 columns</p>\n",
       "</div>"
      ],
      "text/plain": [
       "      FeelsLikeC  precipMM  windspeedKmph        date      time\n",
       "2             15       0.2              8  2019-01-01  06:00:00\n",
       "3             25       0.2             13  2019-01-01  09:00:00\n",
       "4             30       0.0             12  2019-01-01  12:00:00\n",
       "5             33       0.0             10  2019-01-01  15:00:00\n",
       "6             31       1.7              3  2019-01-01  18:00:00\n",
       "...          ...       ...            ...         ...       ...\n",
       "3163          20       0.0             15  2019-12-31  09:00:00\n",
       "3164          22       0.1              8  2019-12-31  12:00:00\n",
       "3165          27       0.3             13  2019-12-31  15:00:00\n",
       "3166          26       0.0             13  2019-12-31  18:00:00\n",
       "3167          20       0.0             12  2019-12-31  21:00:00\n",
       "\n",
       "[2376 rows x 5 columns]"
      ]
     },
     "execution_count": 108,
     "metadata": {},
     "output_type": "execute_result"
    }
   ],
   "source": [
    "weather_data"
   ]
  },
  {
   "cell_type": "code",
   "execution_count": 109,
   "metadata": {
    "ExecuteTime": {
     "end_time": "2020-01-05T19:28:59.668065Z",
     "start_time": "2020-01-05T19:28:59.651144Z"
    }
   },
   "outputs": [
    {
     "name": "stderr",
     "output_type": "stream",
     "text": [
      "C:\\Users\\ing_l\\Anaconda3\\lib\\site-packages\\ipykernel_launcher.py:22: SettingWithCopyWarning: \n",
      "A value is trying to be set on a copy of a slice from a DataFrame.\n",
      "Try using .loc[row_indexer,col_indexer] = value instead\n",
      "\n",
      "See the caveats in the documentation: http://pandas.pydata.org/pandas-docs/stable/user_guide/indexing.html#returning-a-view-versus-a-copy\n",
      "C:\\Users\\ing_l\\Anaconda3\\lib\\site-packages\\ipykernel_launcher.py:23: SettingWithCopyWarning: \n",
      "A value is trying to be set on a copy of a slice from a DataFrame.\n",
      "Try using .loc[row_indexer,col_indexer] = value instead\n",
      "\n",
      "See the caveats in the documentation: http://pandas.pydata.org/pandas-docs/stable/user_guide/indexing.html#returning-a-view-versus-a-copy\n",
      "C:\\Users\\ing_l\\Anaconda3\\lib\\site-packages\\ipykernel_launcher.py:24: SettingWithCopyWarning: \n",
      "A value is trying to be set on a copy of a slice from a DataFrame.\n",
      "Try using .loc[row_indexer,col_indexer] = value instead\n",
      "\n",
      "See the caveats in the documentation: http://pandas.pydata.org/pandas-docs/stable/user_guide/indexing.html#returning-a-view-versus-a-copy\n"
     ]
    }
   ],
   "source": [
    "max_temp = weather_data['FeelsLikeC'].max()\n",
    "min_temp = weather_data['FeelsLikeC'].min()\n",
    "\n",
    "max_prec = weather_data['precipMM'].max()\n",
    "min_prec = weather_data['precipMM'].min()\n",
    "\n",
    "max_windspeed = weather_data['windspeedKmph'].max()\n",
    "min_windspeed = weather_data['windspeedKmph'].min()\n",
    "\n",
    "def normalize_FeelsLikeC(temp):\n",
    "    global max_temp, min_temp\n",
    "    return (temp - min_temp) / (max_temp - min_temp) \n",
    "\n",
    "def normalize_precipMM(p):\n",
    "    global max_prec, min_prec\n",
    "    return (p - min_prec) / (max_prec - min_prec)\n",
    "\n",
    "def normalize_windspeedKmph(ws):\n",
    "    global max_windspeed, min_windspeed\n",
    "    return (ws - min_windspeed) / (max_windspeed - min_windspeed)\n",
    "\n",
    "weather_data['FeelsLikeC'] = weather_data['FeelsLikeC'].apply(normalize_FeelsLikeC)\n",
    "weather_data['precipMM'] = weather_data['precipMM'].apply(normalize_precipMM)\n",
    "weather_data['windspeedKmph'] = weather_data['windspeedKmph'].apply(normalize_windspeedKmph)"
   ]
  },
  {
   "cell_type": "code",
   "execution_count": 110,
   "metadata": {
    "ExecuteTime": {
     "end_time": "2020-01-05T19:29:00.172412Z",
     "start_time": "2020-01-05T19:29:00.142882Z"
    }
   },
   "outputs": [
    {
     "data": {
      "text/html": [
       "<div>\n",
       "<style scoped>\n",
       "    .dataframe tbody tr th:only-of-type {\n",
       "        vertical-align: middle;\n",
       "    }\n",
       "\n",
       "    .dataframe tbody tr th {\n",
       "        vertical-align: top;\n",
       "    }\n",
       "\n",
       "    .dataframe thead th {\n",
       "        text-align: right;\n",
       "    }\n",
       "</style>\n",
       "<table border=\"1\" class=\"dataframe\">\n",
       "  <thead>\n",
       "    <tr style=\"text-align: right;\">\n",
       "      <th></th>\n",
       "      <th>FeelsLikeC</th>\n",
       "      <th>precipMM</th>\n",
       "      <th>windspeedKmph</th>\n",
       "      <th>date</th>\n",
       "      <th>time</th>\n",
       "    </tr>\n",
       "  </thead>\n",
       "  <tbody>\n",
       "    <tr>\n",
       "      <td>2</td>\n",
       "      <td>0.446809</td>\n",
       "      <td>0.008621</td>\n",
       "      <td>0.195122</td>\n",
       "      <td>2019-01-01</td>\n",
       "      <td>06:00:00</td>\n",
       "    </tr>\n",
       "    <tr>\n",
       "      <td>3</td>\n",
       "      <td>0.659574</td>\n",
       "      <td>0.008621</td>\n",
       "      <td>0.317073</td>\n",
       "      <td>2019-01-01</td>\n",
       "      <td>09:00:00</td>\n",
       "    </tr>\n",
       "    <tr>\n",
       "      <td>4</td>\n",
       "      <td>0.765957</td>\n",
       "      <td>0.000000</td>\n",
       "      <td>0.292683</td>\n",
       "      <td>2019-01-01</td>\n",
       "      <td>12:00:00</td>\n",
       "    </tr>\n",
       "    <tr>\n",
       "      <td>5</td>\n",
       "      <td>0.829787</td>\n",
       "      <td>0.000000</td>\n",
       "      <td>0.243902</td>\n",
       "      <td>2019-01-01</td>\n",
       "      <td>15:00:00</td>\n",
       "    </tr>\n",
       "    <tr>\n",
       "      <td>6</td>\n",
       "      <td>0.787234</td>\n",
       "      <td>0.073276</td>\n",
       "      <td>0.073171</td>\n",
       "      <td>2019-01-01</td>\n",
       "      <td>18:00:00</td>\n",
       "    </tr>\n",
       "    <tr>\n",
       "      <td>...</td>\n",
       "      <td>...</td>\n",
       "      <td>...</td>\n",
       "      <td>...</td>\n",
       "      <td>...</td>\n",
       "      <td>...</td>\n",
       "    </tr>\n",
       "    <tr>\n",
       "      <td>3163</td>\n",
       "      <td>0.553191</td>\n",
       "      <td>0.000000</td>\n",
       "      <td>0.365854</td>\n",
       "      <td>2019-12-31</td>\n",
       "      <td>09:00:00</td>\n",
       "    </tr>\n",
       "    <tr>\n",
       "      <td>3164</td>\n",
       "      <td>0.595745</td>\n",
       "      <td>0.004310</td>\n",
       "      <td>0.195122</td>\n",
       "      <td>2019-12-31</td>\n",
       "      <td>12:00:00</td>\n",
       "    </tr>\n",
       "    <tr>\n",
       "      <td>3165</td>\n",
       "      <td>0.702128</td>\n",
       "      <td>0.012931</td>\n",
       "      <td>0.317073</td>\n",
       "      <td>2019-12-31</td>\n",
       "      <td>15:00:00</td>\n",
       "    </tr>\n",
       "    <tr>\n",
       "      <td>3166</td>\n",
       "      <td>0.680851</td>\n",
       "      <td>0.000000</td>\n",
       "      <td>0.317073</td>\n",
       "      <td>2019-12-31</td>\n",
       "      <td>18:00:00</td>\n",
       "    </tr>\n",
       "    <tr>\n",
       "      <td>3167</td>\n",
       "      <td>0.553191</td>\n",
       "      <td>0.000000</td>\n",
       "      <td>0.292683</td>\n",
       "      <td>2019-12-31</td>\n",
       "      <td>21:00:00</td>\n",
       "    </tr>\n",
       "  </tbody>\n",
       "</table>\n",
       "<p>2376 rows × 5 columns</p>\n",
       "</div>"
      ],
      "text/plain": [
       "      FeelsLikeC  precipMM  windspeedKmph        date      time\n",
       "2       0.446809  0.008621       0.195122  2019-01-01  06:00:00\n",
       "3       0.659574  0.008621       0.317073  2019-01-01  09:00:00\n",
       "4       0.765957  0.000000       0.292683  2019-01-01  12:00:00\n",
       "5       0.829787  0.000000       0.243902  2019-01-01  15:00:00\n",
       "6       0.787234  0.073276       0.073171  2019-01-01  18:00:00\n",
       "...          ...       ...            ...         ...       ...\n",
       "3163    0.553191  0.000000       0.365854  2019-12-31  09:00:00\n",
       "3164    0.595745  0.004310       0.195122  2019-12-31  12:00:00\n",
       "3165    0.702128  0.012931       0.317073  2019-12-31  15:00:00\n",
       "3166    0.680851  0.000000       0.317073  2019-12-31  18:00:00\n",
       "3167    0.553191  0.000000       0.292683  2019-12-31  21:00:00\n",
       "\n",
       "[2376 rows x 5 columns]"
      ]
     },
     "execution_count": 110,
     "metadata": {},
     "output_type": "execute_result"
    }
   ],
   "source": [
    "weather_data"
   ]
  },
  {
   "cell_type": "code",
   "execution_count": 111,
   "metadata": {
    "ExecuteTime": {
     "end_time": "2020-01-05T19:30:25.433986Z",
     "start_time": "2020-01-05T19:30:25.403068Z"
    }
   },
   "outputs": [],
   "source": [
    "weather_data.to_csv(r'C:\\Users\\ing_l\\Tesis grado\\Data\\Weather data\\tandil_filtered_normalized.csv')"
   ]
  },
  {
   "cell_type": "code",
   "execution_count": null,
   "metadata": {},
   "outputs": [],
   "source": []
  }
 ],
 "metadata": {
  "kernelspec": {
   "display_name": "Python 3",
   "language": "python",
   "name": "python3"
  },
  "language_info": {
   "codemirror_mode": {
    "name": "ipython",
    "version": 3
   },
   "file_extension": ".py",
   "mimetype": "text/x-python",
   "name": "python",
   "nbconvert_exporter": "python",
   "pygments_lexer": "ipython3",
   "version": "3.7.3"
  }
 },
 "nbformat": 4,
 "nbformat_minor": 2
}
